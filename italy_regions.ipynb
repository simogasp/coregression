{
 "cells": [
  {
   "cell_type": "code",
   "execution_count": 1,
   "metadata": {
    "collapsed": true,
    "pycharm": {
     "is_executing": false
    }
   },
   "outputs": [
    {
     "data": {
      "text/html": "        <script type=\"text/javascript\">\n        window.PlotlyConfig = {MathJaxConfig: 'local'};\n        if (window.MathJax) {MathJax.Hub.Config({SVG: {font: \"STIX-Web\"}});}\n        if (typeof require !== 'undefined') {\n        require.undef(\"plotly\");\n        requirejs.config({\n            paths: {\n                'plotly': ['https://cdn.plot.ly/plotly-latest.min']\n            }\n        });\n        require(['plotly'], function(Plotly) {\n            window._Plotly = Plotly;\n        });\n        }\n        </script>\n        "
     },
     "metadata": {},
     "output_type": "display_data"
    },
    {
     "name": "stdout",
     "text": [
      "[0.65       0.44134615 1.        ]\n",
      "`ftol` termination condition is satisfied.\n",
      "Function evaluations 14, initial cost 1.1496e+01, final cost 8.9664e-03, first-order optimality 1.07e-07.\n",
      "            Exponential model\n",
      "            x0 = 7.528171813793321\n",
      "            y0 = -47.625758005677454\n",
      "            k = 0.07685941084706709\n",
      "            \n",
      "`ftol` termination condition is satisfied.\n",
      "Function evaluations 20, initial cost 2.9685e+00, final cost 1.0811e-03, first-order optimality 2.68e-08.\n",
      "        Sigmoid model\n",
      "        x0 = 78.39572628144735\n",
      "        y0 = 0.9619715105108234\n",
      "        c = 395.67943989599945\n",
      "        k = 0.1997200473933452\n",
      "        asymptot = 396.64141140651026\n",
      "        flex = 78.39572628144735, 198.80169145851056\n",
      "        \n",
      "`ftol` termination condition is satisfied.\n",
      "Function evaluations 35, initial cost 1.1762e+00, final cost 1.5116e-03, first-order optimality 2.21e-07.\n",
      "        Sigmoid derivative model\n",
      "        x0 = 87.09069443941253\n",
      "        y0 = -3.9676515548365714\n",
      "        c = 7850.024966206063\n",
      "        k = 0.1652696212161149\n",
      "        max = 87.09069443941253, 3921.044831548195\n",
      "        \n"
     ],
     "output_type": "stream"
    },
    {
     "data": {
      "application/vnd.plotly.v1+json": {
       "config": {
        "plotlyServerURL": "https://plot.ly"
       },
       "data": [
        {
         "line": {
          "color": "rgba(255, 153, 51, 1.0)",
          "dash": "solid",
          "shape": "linear",
          "width": 1.3
         },
         "marker": {
          "size": 4,
          "symbol": "circle"
         },
         "mode": "lines+markers",
         "name": "exp",
         "text": "",
         "type": "scatter",
         "x": [
          "20 Feb",
          "21 Feb",
          "22 Feb",
          "23 Feb",
          "24 Feb",
          "25 Feb",
          "26 Feb",
          "27 Feb",
          "28 Feb",
          "29 Feb",
          "01 Mar",
          "02 Mar",
          "03 Mar",
          "04 Mar",
          "05 Mar",
          "06 Mar",
          "07 Mar",
          "08 Mar",
          "09 Mar",
          "10 Mar",
          "11 Mar",
          "12 Mar",
          "13 Mar",
          "14 Mar",
          "15 Mar",
          "16 Mar",
          "17 Mar",
          "18 Mar",
          "19 Mar",
          "20 Mar",
          "21 Mar",
          "22 Mar",
          "23 Mar",
          "24 Mar",
          "25 Mar",
          "26 Mar",
          "27 Mar",
          "28 Mar",
          "29 Mar",
          "30 Mar",
          "31 Mar",
          "01 Apr",
          "02 Apr",
          "03 Apr",
          "04 Apr",
          "05 Apr",
          "06 Apr",
          "07 Apr",
          "08 Apr",
          "09 Apr",
          "10 Apr",
          "11 Apr",
          "12 Apr",
          "13 Apr"
         ],
         "y": [
          -19.372208304528538,
          -17.1150253005946,
          -14.677515393770953,
          -12.04527222362998,
          -9.202738502081893,
          -6.133114065481919,
          -2.8182565809979963,
          0.7614256796143763,
          4.627089632566438,
          8.801582425286156,
          13.309576469403922,
          18.17771526155687,
          23.434770853852356,
          29.111813904685945,
          35.24239731496051,
          41.862754535047955,
          49.0120137145429,
          56.732428960492,
          65.06963007090046,
          74.0728922195093,
          83.79542718575536,
          94.29469785116473,
          105.63275782093893,
          117.87661817799395,
          131.0986435370686,
          145.3769797396925,
          160.79601571781086,
          177.4468822558054,
          195.42799059873693,
          214.8456140901317,
          235.81451627695273,
          258.45862919403214,
          282.9117858368106,
          309.3185111515062,
          337.83487621767904,
          368.6294206716515,
          401.88414882256245,
          437.795605348373,
          "",
          "",
          "",
          "",
          "",
          "",
          "",
          "",
          "",
          "",
          "",
          "",
          "",
          "",
          "",
          ""
         ]
        },
        {
         "line": {
          "color": "rgba(55, 128, 191, 1.0)",
          "dash": "solid",
          "shape": "linear",
          "width": 1.3
         },
         "marker": {
          "size": 4,
          "symbol": "circle"
         },
         "mode": "lines+markers",
         "name": "sigm",
         "text": "",
         "type": "scatter",
         "x": [
          "20 Feb",
          "21 Feb",
          "22 Feb",
          "23 Feb",
          "24 Feb",
          "25 Feb",
          "26 Feb",
          "27 Feb",
          "28 Feb",
          "29 Feb",
          "01 Mar",
          "02 Mar",
          "03 Mar",
          "04 Mar",
          "05 Mar",
          "06 Mar",
          "07 Mar",
          "08 Mar",
          "09 Mar",
          "10 Mar",
          "11 Mar",
          "12 Mar",
          "13 Mar",
          "14 Mar",
          "15 Mar",
          "16 Mar",
          "17 Mar",
          "18 Mar",
          "19 Mar",
          "20 Mar",
          "21 Mar",
          "22 Mar",
          "23 Mar",
          "24 Mar",
          "25 Mar",
          "26 Mar",
          "27 Mar",
          "28 Mar",
          "29 Mar",
          "30 Mar",
          "31 Mar",
          "01 Apr",
          "02 Apr",
          "03 Apr",
          "04 Apr",
          "05 Apr",
          "06 Apr",
          "07 Apr",
          "08 Apr",
          "09 Apr",
          "10 Apr",
          "11 Apr",
          "12 Apr",
          "13 Apr"
         ],
         "y": [
          2.6188450744074685,
          2.9832439497651038,
          3.427284221425019,
          3.9681279046399545,
          4.626516852615116,
          5.427462091893888,
          6.401037889706542,
          7.583282236518915,
          9.017196752285338,
          10.75382511427365,
          12.853367976542712,
          15.386261714769743,
          18.434105878782805,
          22.0902683007084,
          26.459927570441288,
          31.65923405854676,
          37.813193501293554,
          45.051822087094834,
          53.50412270984334,
          63.28953539863809,
          74.50677430606254,
          87.22042139662545,
          101.44630327968454,
          117.13745088360717,
          134.1731389324255,
          152.35383115950108,
          171.4045102034512,
          190.9876796475584,
          210.7254227833571,
          230.22778014079017,
          249.12307565361166,
          267.0852961334573,
          283.854419076555,
          299.24737761262065,
          313.1594833338225,
          325.55791157258903,
          336.46986809727235,
          345.96824100773836,
          354.1571090221707,
          361.15874270293926,
          367.1029742917194,
          372.119193499311,
          376.3308121932776,
          379.8518183322599,
          382.7849619175695,
          385.22113011112305,
          387.2395306714856,
          388.9083816341123,
          390.2858823648152,
          391.4213077444691,
          392.3561202952005,
          393.1250348730864,
          393.7569990091191,
          394.2760714214157
         ]
        },
        {
         "line": {
          "color": "rgba(50, 171, 96, 1.0)",
          "dash": "solid",
          "shape": "linear",
          "width": 1.3
         },
         "marker": {
          "size": 4,
          "symbol": "circle"
         },
         "mode": "lines+markers",
         "name": "log",
         "text": "",
         "type": "scatter",
         "x": [
          "20 Feb",
          "21 Feb",
          "22 Feb",
          "23 Feb",
          "24 Feb",
          "25 Feb",
          "26 Feb",
          "27 Feb",
          "28 Feb",
          "29 Feb",
          "01 Mar",
          "02 Mar",
          "03 Mar",
          "04 Mar",
          "05 Mar",
          "06 Mar",
          "07 Mar",
          "08 Mar",
          "09 Mar",
          "10 Mar",
          "11 Mar",
          "12 Mar",
          "13 Mar",
          "14 Mar",
          "15 Mar",
          "16 Mar",
          "17 Mar",
          "18 Mar",
          "19 Mar",
          "20 Mar",
          "21 Mar",
          "22 Mar",
          "23 Mar",
          "24 Mar",
          "25 Mar",
          "26 Mar",
          "27 Mar",
          "28 Mar",
          "29 Mar",
          "30 Mar",
          "31 Mar",
          "01 Apr",
          "02 Apr",
          "03 Apr",
          "04 Apr",
          "05 Apr",
          "06 Apr",
          "07 Apr",
          "08 Apr",
          "09 Apr",
          "10 Apr",
          "11 Apr",
          "12 Apr",
          "13 Apr"
         ],
         "y": [
          -0.6532719767900761,
          -0.06123796395563064,
          0.6357896930502758,
          1.4561353435562268,
          2.4212063187359734,
          3.55596661330787,
          4.889465435507262,
          6.455419398082096,
          8.292843031823057,
          10.446716247122163,
          12.968668682607145,
          15.917648750628782,
          19.360528670954537,
          23.372574849061483,
          28.03768461738025,
          33.44825490336157,
          39.704505775130194,
          46.91303330166735,
          55.184315230447545,
          64.62884657991074,
          75.35155229045182,
          87.4441289922022,
          100.97503360000061,
          115.97699552154211,
          132.432217455426,
          150.2558768148999,
          169.279153801156,
          189.23375690385697,
          209.74068639512413,
          230.3065779866209,
          250.331128119848,
          269.1285152126269,
          285.9641695424726,
          300.1057026782044,
          310.883634238564,
          317.75448327766077,
          320.3567946897858,
          318.55062326511637,
          312.43327756095033,
          302.3283460792302,
          288.75008736151904,
          272.3497362576738,
          253.8529626360162,
          233.99808538137256,
          213.48294553292763,
          192.92539208466815,
          172.83911487697793,
          153.62386509263263,
          135.56735592846144,
          118.85538459544338,
          103.5867627880026,
          89.79018635514879,
          77.44093119072852,
          66.47602191244161
         ]
        },
        {
         "line": {
          "color": "rgba(128, 0, 128, 1.0)",
          "dash": "solid",
          "shape": "linear",
          "width": 1.3
         },
         "marker": {
          "size": 8,
          "symbol": "circle"
         },
         "mode": "markers",
         "name": "Veneto",
         "text": "",
         "type": "scatter",
         "x": [
          "20 Feb",
          "21 Feb",
          "22 Feb",
          "23 Feb",
          "24 Feb",
          "25 Feb",
          "26 Feb",
          "27 Feb",
          "28 Feb",
          "29 Feb",
          "01 Mar",
          "02 Mar",
          "03 Mar",
          "04 Mar",
          "05 Mar",
          "06 Mar",
          "07 Mar",
          "08 Mar",
          "09 Mar",
          "10 Mar",
          "11 Mar",
          "12 Mar",
          "13 Mar",
          "14 Mar",
          "15 Mar",
          "16 Mar",
          "17 Mar",
          "18 Mar",
          "19 Mar",
          "20 Mar",
          "21 Mar",
          "22 Mar",
          "23 Mar",
          "24 Mar",
          "25 Mar",
          "26 Mar",
          "27 Mar",
          "28 Mar",
          "29 Mar",
          "30 Mar",
          "31 Mar",
          "01 Apr",
          "02 Apr",
          "03 Apr",
          "04 Apr",
          "05 Apr",
          "06 Apr",
          "07 Apr",
          "08 Apr",
          "09 Apr",
          "10 Apr",
          "11 Apr",
          "12 Apr",
          "13 Apr"
         ],
         "y": [
          "",
          "",
          "",
          "",
          4.0,
          7.0,
          8.0,
          8.0,
          9.0,
          11.0,
          13.0,
          14.0,
          19.0,
          23.0,
          24.0,
          27.0,
          41.0,
          47.0,
          51.0,
          67.0,
          68.0,
          85.0,
          107.0,
          119.0,
          129.0,
          156.0,
          171.0,
          195.0,
          209.0,
          236.0,
          249.0,
          255.0,
          281.0,
          304.0,
          316.0,
          "",
          "",
          "",
          "",
          "",
          "",
          "",
          "",
          "",
          "",
          "",
          "",
          "",
          "",
          "",
          "",
          "",
          "",
          ""
         ]
        },
        {
         "marker": {
          "color": "rgba(255, 0, 0, 125)",
          "size": 8
         },
         "mode": "markers",
         "name": "flex",
         "type": "scatter",
         "x": [
          "18 Mar"
         ],
         "y": [
          198.80169145851056
         ]
        },
        {
         "marker": {
          "color": "rgba(255, 0, 0, 125)",
          "size": 8
         },
         "mode": "markers",
         "name": "peak",
         "type": "scatter",
         "x": [
          "27 Mar"
         ],
         "y": [
          320.37501162064376
         ]
        }
       ],
       "layout": {
        "legend": {
         "bgcolor": "#FFFFFF",
         "font": {
          "color": "#4D5663"
         }
        },
        "paper_bgcolor": "#FFFFFF",
        "plot_bgcolor": "#FFFFFF",
        "template": {
         "data": {
          "bar": [
           {
            "error_x": {
             "color": "#2a3f5f"
            },
            "error_y": {
             "color": "#2a3f5f"
            },
            "marker": {
             "line": {
              "color": "#E5ECF6",
              "width": 0.5
             }
            },
            "type": "bar"
           }
          ],
          "barpolar": [
           {
            "marker": {
             "line": {
              "color": "#E5ECF6",
              "width": 0.5
             }
            },
            "type": "barpolar"
           }
          ],
          "carpet": [
           {
            "aaxis": {
             "endlinecolor": "#2a3f5f",
             "gridcolor": "white",
             "linecolor": "white",
             "minorgridcolor": "white",
             "startlinecolor": "#2a3f5f"
            },
            "baxis": {
             "endlinecolor": "#2a3f5f",
             "gridcolor": "white",
             "linecolor": "white",
             "minorgridcolor": "white",
             "startlinecolor": "#2a3f5f"
            },
            "type": "carpet"
           }
          ],
          "choropleth": [
           {
            "colorbar": {
             "outlinewidth": 0,
             "ticks": ""
            },
            "type": "choropleth"
           }
          ],
          "contour": [
           {
            "colorbar": {
             "outlinewidth": 0,
             "ticks": ""
            },
            "colorscale": [
             [
              0.0,
              "#0d0887"
             ],
             [
              0.1111111111111111,
              "#46039f"
             ],
             [
              0.2222222222222222,
              "#7201a8"
             ],
             [
              0.3333333333333333,
              "#9c179e"
             ],
             [
              0.4444444444444444,
              "#bd3786"
             ],
             [
              0.5555555555555556,
              "#d8576b"
             ],
             [
              0.6666666666666666,
              "#ed7953"
             ],
             [
              0.7777777777777778,
              "#fb9f3a"
             ],
             [
              0.8888888888888888,
              "#fdca26"
             ],
             [
              1.0,
              "#f0f921"
             ]
            ],
            "type": "contour"
           }
          ],
          "contourcarpet": [
           {
            "colorbar": {
             "outlinewidth": 0,
             "ticks": ""
            },
            "type": "contourcarpet"
           }
          ],
          "heatmap": [
           {
            "colorbar": {
             "outlinewidth": 0,
             "ticks": ""
            },
            "colorscale": [
             [
              0.0,
              "#0d0887"
             ],
             [
              0.1111111111111111,
              "#46039f"
             ],
             [
              0.2222222222222222,
              "#7201a8"
             ],
             [
              0.3333333333333333,
              "#9c179e"
             ],
             [
              0.4444444444444444,
              "#bd3786"
             ],
             [
              0.5555555555555556,
              "#d8576b"
             ],
             [
              0.6666666666666666,
              "#ed7953"
             ],
             [
              0.7777777777777778,
              "#fb9f3a"
             ],
             [
              0.8888888888888888,
              "#fdca26"
             ],
             [
              1.0,
              "#f0f921"
             ]
            ],
            "type": "heatmap"
           }
          ],
          "heatmapgl": [
           {
            "colorbar": {
             "outlinewidth": 0,
             "ticks": ""
            },
            "colorscale": [
             [
              0.0,
              "#0d0887"
             ],
             [
              0.1111111111111111,
              "#46039f"
             ],
             [
              0.2222222222222222,
              "#7201a8"
             ],
             [
              0.3333333333333333,
              "#9c179e"
             ],
             [
              0.4444444444444444,
              "#bd3786"
             ],
             [
              0.5555555555555556,
              "#d8576b"
             ],
             [
              0.6666666666666666,
              "#ed7953"
             ],
             [
              0.7777777777777778,
              "#fb9f3a"
             ],
             [
              0.8888888888888888,
              "#fdca26"
             ],
             [
              1.0,
              "#f0f921"
             ]
            ],
            "type": "heatmapgl"
           }
          ],
          "histogram": [
           {
            "marker": {
             "colorbar": {
              "outlinewidth": 0,
              "ticks": ""
             }
            },
            "type": "histogram"
           }
          ],
          "histogram2d": [
           {
            "colorbar": {
             "outlinewidth": 0,
             "ticks": ""
            },
            "colorscale": [
             [
              0.0,
              "#0d0887"
             ],
             [
              0.1111111111111111,
              "#46039f"
             ],
             [
              0.2222222222222222,
              "#7201a8"
             ],
             [
              0.3333333333333333,
              "#9c179e"
             ],
             [
              0.4444444444444444,
              "#bd3786"
             ],
             [
              0.5555555555555556,
              "#d8576b"
             ],
             [
              0.6666666666666666,
              "#ed7953"
             ],
             [
              0.7777777777777778,
              "#fb9f3a"
             ],
             [
              0.8888888888888888,
              "#fdca26"
             ],
             [
              1.0,
              "#f0f921"
             ]
            ],
            "type": "histogram2d"
           }
          ],
          "histogram2dcontour": [
           {
            "colorbar": {
             "outlinewidth": 0,
             "ticks": ""
            },
            "colorscale": [
             [
              0.0,
              "#0d0887"
             ],
             [
              0.1111111111111111,
              "#46039f"
             ],
             [
              0.2222222222222222,
              "#7201a8"
             ],
             [
              0.3333333333333333,
              "#9c179e"
             ],
             [
              0.4444444444444444,
              "#bd3786"
             ],
             [
              0.5555555555555556,
              "#d8576b"
             ],
             [
              0.6666666666666666,
              "#ed7953"
             ],
             [
              0.7777777777777778,
              "#fb9f3a"
             ],
             [
              0.8888888888888888,
              "#fdca26"
             ],
             [
              1.0,
              "#f0f921"
             ]
            ],
            "type": "histogram2dcontour"
           }
          ],
          "mesh3d": [
           {
            "colorbar": {
             "outlinewidth": 0,
             "ticks": ""
            },
            "type": "mesh3d"
           }
          ],
          "parcoords": [
           {
            "line": {
             "colorbar": {
              "outlinewidth": 0,
              "ticks": ""
             }
            },
            "type": "parcoords"
           }
          ],
          "pie": [
           {
            "automargin": true,
            "type": "pie"
           }
          ],
          "scatter": [
           {
            "marker": {
             "colorbar": {
              "outlinewidth": 0,
              "ticks": ""
             }
            },
            "type": "scatter"
           }
          ],
          "scatter3d": [
           {
            "line": {
             "colorbar": {
              "outlinewidth": 0,
              "ticks": ""
             }
            },
            "marker": {
             "colorbar": {
              "outlinewidth": 0,
              "ticks": ""
             }
            },
            "type": "scatter3d"
           }
          ],
          "scattercarpet": [
           {
            "marker": {
             "colorbar": {
              "outlinewidth": 0,
              "ticks": ""
             }
            },
            "type": "scattercarpet"
           }
          ],
          "scattergeo": [
           {
            "marker": {
             "colorbar": {
              "outlinewidth": 0,
              "ticks": ""
             }
            },
            "type": "scattergeo"
           }
          ],
          "scattergl": [
           {
            "marker": {
             "colorbar": {
              "outlinewidth": 0,
              "ticks": ""
             }
            },
            "type": "scattergl"
           }
          ],
          "scattermapbox": [
           {
            "marker": {
             "colorbar": {
              "outlinewidth": 0,
              "ticks": ""
             }
            },
            "type": "scattermapbox"
           }
          ],
          "scatterpolar": [
           {
            "marker": {
             "colorbar": {
              "outlinewidth": 0,
              "ticks": ""
             }
            },
            "type": "scatterpolar"
           }
          ],
          "scatterpolargl": [
           {
            "marker": {
             "colorbar": {
              "outlinewidth": 0,
              "ticks": ""
             }
            },
            "type": "scatterpolargl"
           }
          ],
          "scatterternary": [
           {
            "marker": {
             "colorbar": {
              "outlinewidth": 0,
              "ticks": ""
             }
            },
            "type": "scatterternary"
           }
          ],
          "surface": [
           {
            "colorbar": {
             "outlinewidth": 0,
             "ticks": ""
            },
            "colorscale": [
             [
              0.0,
              "#0d0887"
             ],
             [
              0.1111111111111111,
              "#46039f"
             ],
             [
              0.2222222222222222,
              "#7201a8"
             ],
             [
              0.3333333333333333,
              "#9c179e"
             ],
             [
              0.4444444444444444,
              "#bd3786"
             ],
             [
              0.5555555555555556,
              "#d8576b"
             ],
             [
              0.6666666666666666,
              "#ed7953"
             ],
             [
              0.7777777777777778,
              "#fb9f3a"
             ],
             [
              0.8888888888888888,
              "#fdca26"
             ],
             [
              1.0,
              "#f0f921"
             ]
            ],
            "type": "surface"
           }
          ],
          "table": [
           {
            "cells": {
             "fill": {
              "color": "#EBF0F8"
             },
             "line": {
              "color": "white"
             }
            },
            "header": {
             "fill": {
              "color": "#C8D4E3"
             },
             "line": {
              "color": "white"
             }
            },
            "type": "table"
           }
          ]
         },
         "layout": {
          "annotationdefaults": {
           "arrowcolor": "#2a3f5f",
           "arrowhead": 0,
           "arrowwidth": 1
          },
          "coloraxis": {
           "colorbar": {
            "outlinewidth": 0,
            "ticks": ""
           }
          },
          "colorscale": {
           "diverging": [
            [
             0,
             "#8e0152"
            ],
            [
             0.1,
             "#c51b7d"
            ],
            [
             0.2,
             "#de77ae"
            ],
            [
             0.3,
             "#f1b6da"
            ],
            [
             0.4,
             "#fde0ef"
            ],
            [
             0.5,
             "#f7f7f7"
            ],
            [
             0.6,
             "#e6f5d0"
            ],
            [
             0.7,
             "#b8e186"
            ],
            [
             0.8,
             "#7fbc41"
            ],
            [
             0.9,
             "#4d9221"
            ],
            [
             1,
             "#276419"
            ]
           ],
           "sequential": [
            [
             0.0,
             "#0d0887"
            ],
            [
             0.1111111111111111,
             "#46039f"
            ],
            [
             0.2222222222222222,
             "#7201a8"
            ],
            [
             0.3333333333333333,
             "#9c179e"
            ],
            [
             0.4444444444444444,
             "#bd3786"
            ],
            [
             0.5555555555555556,
             "#d8576b"
            ],
            [
             0.6666666666666666,
             "#ed7953"
            ],
            [
             0.7777777777777778,
             "#fb9f3a"
            ],
            [
             0.8888888888888888,
             "#fdca26"
            ],
            [
             1.0,
             "#f0f921"
            ]
           ],
           "sequentialminus": [
            [
             0.0,
             "#0d0887"
            ],
            [
             0.1111111111111111,
             "#46039f"
            ],
            [
             0.2222222222222222,
             "#7201a8"
            ],
            [
             0.3333333333333333,
             "#9c179e"
            ],
            [
             0.4444444444444444,
             "#bd3786"
            ],
            [
             0.5555555555555556,
             "#d8576b"
            ],
            [
             0.6666666666666666,
             "#ed7953"
            ],
            [
             0.7777777777777778,
             "#fb9f3a"
            ],
            [
             0.8888888888888888,
             "#fdca26"
            ],
            [
             1.0,
             "#f0f921"
            ]
           ]
          },
          "colorway": [
           "#636efa",
           "#EF553B",
           "#00cc96",
           "#ab63fa",
           "#FFA15A",
           "#19d3f3",
           "#FF6692",
           "#B6E880",
           "#FF97FF",
           "#FECB52"
          ],
          "font": {
           "color": "#2a3f5f"
          },
          "geo": {
           "bgcolor": "white",
           "lakecolor": "white",
           "landcolor": "#E5ECF6",
           "showlakes": true,
           "showland": true,
           "subunitcolor": "white"
          },
          "hoverlabel": {
           "align": "left"
          },
          "hovermode": "closest",
          "mapbox": {
           "style": "light"
          },
          "paper_bgcolor": "white",
          "plot_bgcolor": "#E5ECF6",
          "polar": {
           "angularaxis": {
            "gridcolor": "white",
            "linecolor": "white",
            "ticks": ""
           },
           "bgcolor": "#E5ECF6",
           "radialaxis": {
            "gridcolor": "white",
            "linecolor": "white",
            "ticks": ""
           }
          },
          "scene": {
           "xaxis": {
            "backgroundcolor": "#E5ECF6",
            "gridcolor": "white",
            "gridwidth": 2,
            "linecolor": "white",
            "showbackground": true,
            "ticks": "",
            "zerolinecolor": "white"
           },
           "yaxis": {
            "backgroundcolor": "#E5ECF6",
            "gridcolor": "white",
            "gridwidth": 2,
            "linecolor": "white",
            "showbackground": true,
            "ticks": "",
            "zerolinecolor": "white"
           },
           "zaxis": {
            "backgroundcolor": "#E5ECF6",
            "gridcolor": "white",
            "gridwidth": 2,
            "linecolor": "white",
            "showbackground": true,
            "ticks": "",
            "zerolinecolor": "white"
           }
          },
          "shapedefaults": {
           "line": {
            "color": "#2a3f5f"
           }
          },
          "ternary": {
           "aaxis": {
            "gridcolor": "white",
            "linecolor": "white",
            "ticks": ""
           },
           "baxis": {
            "gridcolor": "white",
            "linecolor": "white",
            "ticks": ""
           },
           "bgcolor": "#E5ECF6",
           "caxis": {
            "gridcolor": "white",
            "linecolor": "white",
            "ticks": ""
           }
          },
          "title": {
           "x": 0.05
          },
          "xaxis": {
           "automargin": true,
           "gridcolor": "white",
           "linecolor": "white",
           "ticks": "",
           "title": {
            "standoff": 15
           },
           "zerolinecolor": "white",
           "zerolinewidth": 2
          },
          "yaxis": {
           "automargin": true,
           "gridcolor": "white",
           "linecolor": "white",
           "ticks": "",
           "title": {
            "standoff": 15
           },
           "zerolinecolor": "white",
           "zerolinewidth": 2
          }
         }
        },
        "title": {
         "font": {
          "color": "#4D5663"
         },
         "text": "Veneto - terapia_intensiva"
        },
        "xaxis": {
         "gridcolor": "#E1E5ED",
         "showgrid": true,
         "tickfont": {
          "color": "#4D5663"
         },
         "title": {
          "font": {
           "color": "#4D5663"
          },
          "text": ""
         },
         "zerolinecolor": "#E1E5ED"
        },
        "yaxis": {
         "gridcolor": "#E1E5ED",
         "showgrid": true,
         "tickfont": {
          "color": "#4D5663"
         },
         "title": {
          "font": {
           "color": "#4D5663"
          },
          "text": "case"
         },
         "zerolinecolor": "#E1E5ED"
        }
       }
      },
      "text/html": "<div>\n        \n        \n            <div id=\"f51c989c-3f22-40fa-818d-568e6a13f01c\" class=\"plotly-graph-div\" style=\"height:525px; width:100%;\"></div>\n            <script type=\"text/javascript\">\n                require([\"plotly\"], function(Plotly) {\n                    window.PLOTLYENV=window.PLOTLYENV || {};\n                    \n                if (document.getElementById(\"f51c989c-3f22-40fa-818d-568e6a13f01c\")) {\n                    Plotly.newPlot(\n                        'f51c989c-3f22-40fa-818d-568e6a13f01c',\n                        [{\"line\": {\"color\": \"rgba(255, 153, 51, 1.0)\", \"dash\": \"solid\", \"shape\": \"linear\", \"width\": 1.3}, \"marker\": {\"size\": 4, \"symbol\": \"circle\"}, \"mode\": \"lines+markers\", \"name\": \"exp\", \"text\": \"\", \"type\": \"scatter\", \"x\": [\"20 Feb\", \"21 Feb\", \"22 Feb\", \"23 Feb\", \"24 Feb\", \"25 Feb\", \"26 Feb\", \"27 Feb\", \"28 Feb\", \"29 Feb\", \"01 Mar\", \"02 Mar\", \"03 Mar\", \"04 Mar\", \"05 Mar\", \"06 Mar\", \"07 Mar\", \"08 Mar\", \"09 Mar\", \"10 Mar\", \"11 Mar\", \"12 Mar\", \"13 Mar\", \"14 Mar\", \"15 Mar\", \"16 Mar\", \"17 Mar\", \"18 Mar\", \"19 Mar\", \"20 Mar\", \"21 Mar\", \"22 Mar\", \"23 Mar\", \"24 Mar\", \"25 Mar\", \"26 Mar\", \"27 Mar\", \"28 Mar\", \"29 Mar\", \"30 Mar\", \"31 Mar\", \"01 Apr\", \"02 Apr\", \"03 Apr\", \"04 Apr\", \"05 Apr\", \"06 Apr\", \"07 Apr\", \"08 Apr\", \"09 Apr\", \"10 Apr\", \"11 Apr\", \"12 Apr\", \"13 Apr\"], \"y\": [-19.372208304528538, -17.1150253005946, -14.677515393770953, -12.04527222362998, -9.202738502081893, -6.133114065481919, -2.8182565809979963, 0.7614256796143763, 4.627089632566438, 8.801582425286156, 13.309576469403922, 18.17771526155687, 23.434770853852356, 29.111813904685945, 35.24239731496051, 41.862754535047955, 49.0120137145429, 56.732428960492, 65.06963007090046, 74.0728922195093, 83.79542718575536, 94.29469785116473, 105.63275782093893, 117.87661817799395, 131.0986435370686, 145.3769797396925, 160.79601571781086, 177.4468822558054, 195.42799059873693, 214.8456140901317, 235.81451627695273, 258.45862919403214, 282.9117858368106, 309.3185111515062, 337.83487621767904, 368.6294206716515, 401.88414882256245, 437.795605348373, \"\", \"\", \"\", \"\", \"\", \"\", \"\", \"\", \"\", \"\", \"\", \"\", \"\", \"\", \"\", \"\"]}, {\"line\": {\"color\": \"rgba(55, 128, 191, 1.0)\", \"dash\": \"solid\", \"shape\": \"linear\", \"width\": 1.3}, \"marker\": {\"size\": 4, \"symbol\": \"circle\"}, \"mode\": \"lines+markers\", \"name\": \"sigm\", \"text\": \"\", \"type\": \"scatter\", \"x\": [\"20 Feb\", \"21 Feb\", \"22 Feb\", \"23 Feb\", \"24 Feb\", \"25 Feb\", \"26 Feb\", \"27 Feb\", \"28 Feb\", \"29 Feb\", \"01 Mar\", \"02 Mar\", \"03 Mar\", \"04 Mar\", \"05 Mar\", \"06 Mar\", \"07 Mar\", \"08 Mar\", \"09 Mar\", \"10 Mar\", \"11 Mar\", \"12 Mar\", \"13 Mar\", \"14 Mar\", \"15 Mar\", \"16 Mar\", \"17 Mar\", \"18 Mar\", \"19 Mar\", \"20 Mar\", \"21 Mar\", \"22 Mar\", \"23 Mar\", \"24 Mar\", \"25 Mar\", \"26 Mar\", \"27 Mar\", \"28 Mar\", \"29 Mar\", \"30 Mar\", \"31 Mar\", \"01 Apr\", \"02 Apr\", \"03 Apr\", \"04 Apr\", \"05 Apr\", \"06 Apr\", \"07 Apr\", \"08 Apr\", \"09 Apr\", \"10 Apr\", \"11 Apr\", \"12 Apr\", \"13 Apr\"], \"y\": [2.6188450744074685, 2.9832439497651038, 3.427284221425019, 3.9681279046399545, 4.626516852615116, 5.427462091893888, 6.401037889706542, 7.583282236518915, 9.017196752285338, 10.75382511427365, 12.853367976542712, 15.386261714769743, 18.434105878782805, 22.0902683007084, 26.459927570441288, 31.65923405854676, 37.813193501293554, 45.051822087094834, 53.50412270984334, 63.28953539863809, 74.50677430606254, 87.22042139662545, 101.44630327968454, 117.13745088360717, 134.1731389324255, 152.35383115950108, 171.4045102034512, 190.9876796475584, 210.7254227833571, 230.22778014079017, 249.12307565361166, 267.0852961334573, 283.854419076555, 299.24737761262065, 313.1594833338225, 325.55791157258903, 336.46986809727235, 345.96824100773836, 354.1571090221707, 361.15874270293926, 367.1029742917194, 372.119193499311, 376.3308121932776, 379.8518183322599, 382.7849619175695, 385.22113011112305, 387.2395306714856, 388.9083816341123, 390.2858823648152, 391.4213077444691, 392.3561202952005, 393.1250348730864, 393.7569990091191, 394.2760714214157]}, {\"line\": {\"color\": \"rgba(50, 171, 96, 1.0)\", \"dash\": \"solid\", \"shape\": \"linear\", \"width\": 1.3}, \"marker\": {\"size\": 4, \"symbol\": \"circle\"}, \"mode\": \"lines+markers\", \"name\": \"log\", \"text\": \"\", \"type\": \"scatter\", \"x\": [\"20 Feb\", \"21 Feb\", \"22 Feb\", \"23 Feb\", \"24 Feb\", \"25 Feb\", \"26 Feb\", \"27 Feb\", \"28 Feb\", \"29 Feb\", \"01 Mar\", \"02 Mar\", \"03 Mar\", \"04 Mar\", \"05 Mar\", \"06 Mar\", \"07 Mar\", \"08 Mar\", \"09 Mar\", \"10 Mar\", \"11 Mar\", \"12 Mar\", \"13 Mar\", \"14 Mar\", \"15 Mar\", \"16 Mar\", \"17 Mar\", \"18 Mar\", \"19 Mar\", \"20 Mar\", \"21 Mar\", \"22 Mar\", \"23 Mar\", \"24 Mar\", \"25 Mar\", \"26 Mar\", \"27 Mar\", \"28 Mar\", \"29 Mar\", \"30 Mar\", \"31 Mar\", \"01 Apr\", \"02 Apr\", \"03 Apr\", \"04 Apr\", \"05 Apr\", \"06 Apr\", \"07 Apr\", \"08 Apr\", \"09 Apr\", \"10 Apr\", \"11 Apr\", \"12 Apr\", \"13 Apr\"], \"y\": [-0.6532719767900761, -0.06123796395563064, 0.6357896930502758, 1.4561353435562268, 2.4212063187359734, 3.55596661330787, 4.889465435507262, 6.455419398082096, 8.292843031823057, 10.446716247122163, 12.968668682607145, 15.917648750628782, 19.360528670954537, 23.372574849061483, 28.03768461738025, 33.44825490336157, 39.704505775130194, 46.91303330166735, 55.184315230447545, 64.62884657991074, 75.35155229045182, 87.4441289922022, 100.97503360000061, 115.97699552154211, 132.432217455426, 150.2558768148999, 169.279153801156, 189.23375690385697, 209.74068639512413, 230.3065779866209, 250.331128119848, 269.1285152126269, 285.9641695424726, 300.1057026782044, 310.883634238564, 317.75448327766077, 320.3567946897858, 318.55062326511637, 312.43327756095033, 302.3283460792302, 288.75008736151904, 272.3497362576738, 253.8529626360162, 233.99808538137256, 213.48294553292763, 192.92539208466815, 172.83911487697793, 153.62386509263263, 135.56735592846144, 118.85538459544338, 103.5867627880026, 89.79018635514879, 77.44093119072852, 66.47602191244161]}, {\"line\": {\"color\": \"rgba(128, 0, 128, 1.0)\", \"dash\": \"solid\", \"shape\": \"linear\", \"width\": 1.3}, \"marker\": {\"size\": 8, \"symbol\": \"circle\"}, \"mode\": \"markers\", \"name\": \"Veneto\", \"text\": \"\", \"type\": \"scatter\", \"x\": [\"20 Feb\", \"21 Feb\", \"22 Feb\", \"23 Feb\", \"24 Feb\", \"25 Feb\", \"26 Feb\", \"27 Feb\", \"28 Feb\", \"29 Feb\", \"01 Mar\", \"02 Mar\", \"03 Mar\", \"04 Mar\", \"05 Mar\", \"06 Mar\", \"07 Mar\", \"08 Mar\", \"09 Mar\", \"10 Mar\", \"11 Mar\", \"12 Mar\", \"13 Mar\", \"14 Mar\", \"15 Mar\", \"16 Mar\", \"17 Mar\", \"18 Mar\", \"19 Mar\", \"20 Mar\", \"21 Mar\", \"22 Mar\", \"23 Mar\", \"24 Mar\", \"25 Mar\", \"26 Mar\", \"27 Mar\", \"28 Mar\", \"29 Mar\", \"30 Mar\", \"31 Mar\", \"01 Apr\", \"02 Apr\", \"03 Apr\", \"04 Apr\", \"05 Apr\", \"06 Apr\", \"07 Apr\", \"08 Apr\", \"09 Apr\", \"10 Apr\", \"11 Apr\", \"12 Apr\", \"13 Apr\"], \"y\": [\"\", \"\", \"\", \"\", 4.0, 7.0, 8.0, 8.0, 9.0, 11.0, 13.0, 14.0, 19.0, 23.0, 24.0, 27.0, 41.0, 47.0, 51.0, 67.0, 68.0, 85.0, 107.0, 119.0, 129.0, 156.0, 171.0, 195.0, 209.0, 236.0, 249.0, 255.0, 281.0, 304.0, 316.0, \"\", \"\", \"\", \"\", \"\", \"\", \"\", \"\", \"\", \"\", \"\", \"\", \"\", \"\", \"\", \"\", \"\", \"\", \"\"]}, {\"marker\": {\"color\": \"rgba(255, 0, 0, 125)\", \"size\": 8}, \"mode\": \"markers\", \"name\": \"flex\", \"type\": \"scatter\", \"x\": [\"18 Mar\"], \"y\": [198.80169145851056]}, {\"marker\": {\"color\": \"rgba(255, 0, 0, 125)\", \"size\": 8}, \"mode\": \"markers\", \"name\": \"peak\", \"type\": \"scatter\", \"x\": [\"27 Mar\"], \"y\": [320.37501162064376]}],\n                        {\"legend\": {\"bgcolor\": \"#FFFFFF\", \"font\": {\"color\": \"#4D5663\"}}, \"paper_bgcolor\": \"#FFFFFF\", \"plot_bgcolor\": \"#FFFFFF\", \"template\": {\"data\": {\"bar\": [{\"error_x\": {\"color\": \"#2a3f5f\"}, \"error_y\": {\"color\": \"#2a3f5f\"}, \"marker\": {\"line\": {\"color\": \"#E5ECF6\", \"width\": 0.5}}, \"type\": \"bar\"}], \"barpolar\": [{\"marker\": {\"line\": {\"color\": \"#E5ECF6\", \"width\": 0.5}}, \"type\": \"barpolar\"}], \"carpet\": [{\"aaxis\": {\"endlinecolor\": \"#2a3f5f\", \"gridcolor\": \"white\", \"linecolor\": \"white\", \"minorgridcolor\": \"white\", \"startlinecolor\": \"#2a3f5f\"}, \"baxis\": {\"endlinecolor\": \"#2a3f5f\", \"gridcolor\": \"white\", \"linecolor\": \"white\", \"minorgridcolor\": \"white\", \"startlinecolor\": \"#2a3f5f\"}, \"type\": \"carpet\"}], \"choropleth\": [{\"colorbar\": {\"outlinewidth\": 0, \"ticks\": \"\"}, \"type\": \"choropleth\"}], \"contour\": [{\"colorbar\": {\"outlinewidth\": 0, \"ticks\": \"\"}, \"colorscale\": [[0.0, \"#0d0887\"], [0.1111111111111111, \"#46039f\"], [0.2222222222222222, \"#7201a8\"], [0.3333333333333333, \"#9c179e\"], [0.4444444444444444, \"#bd3786\"], [0.5555555555555556, \"#d8576b\"], [0.6666666666666666, \"#ed7953\"], [0.7777777777777778, \"#fb9f3a\"], [0.8888888888888888, \"#fdca26\"], [1.0, \"#f0f921\"]], \"type\": \"contour\"}], \"contourcarpet\": [{\"colorbar\": {\"outlinewidth\": 0, \"ticks\": \"\"}, \"type\": \"contourcarpet\"}], \"heatmap\": [{\"colorbar\": {\"outlinewidth\": 0, \"ticks\": \"\"}, \"colorscale\": [[0.0, \"#0d0887\"], [0.1111111111111111, \"#46039f\"], [0.2222222222222222, \"#7201a8\"], [0.3333333333333333, \"#9c179e\"], [0.4444444444444444, \"#bd3786\"], [0.5555555555555556, \"#d8576b\"], [0.6666666666666666, \"#ed7953\"], [0.7777777777777778, \"#fb9f3a\"], [0.8888888888888888, \"#fdca26\"], [1.0, \"#f0f921\"]], \"type\": \"heatmap\"}], \"heatmapgl\": [{\"colorbar\": {\"outlinewidth\": 0, \"ticks\": \"\"}, \"colorscale\": [[0.0, \"#0d0887\"], [0.1111111111111111, \"#46039f\"], [0.2222222222222222, \"#7201a8\"], [0.3333333333333333, \"#9c179e\"], [0.4444444444444444, \"#bd3786\"], [0.5555555555555556, \"#d8576b\"], [0.6666666666666666, \"#ed7953\"], [0.7777777777777778, \"#fb9f3a\"], [0.8888888888888888, \"#fdca26\"], [1.0, \"#f0f921\"]], \"type\": \"heatmapgl\"}], \"histogram\": [{\"marker\": {\"colorbar\": {\"outlinewidth\": 0, \"ticks\": \"\"}}, \"type\": \"histogram\"}], \"histogram2d\": [{\"colorbar\": {\"outlinewidth\": 0, \"ticks\": \"\"}, \"colorscale\": [[0.0, \"#0d0887\"], [0.1111111111111111, \"#46039f\"], [0.2222222222222222, \"#7201a8\"], [0.3333333333333333, \"#9c179e\"], [0.4444444444444444, \"#bd3786\"], [0.5555555555555556, \"#d8576b\"], [0.6666666666666666, \"#ed7953\"], [0.7777777777777778, \"#fb9f3a\"], [0.8888888888888888, \"#fdca26\"], [1.0, \"#f0f921\"]], \"type\": \"histogram2d\"}], \"histogram2dcontour\": [{\"colorbar\": {\"outlinewidth\": 0, \"ticks\": \"\"}, \"colorscale\": [[0.0, \"#0d0887\"], [0.1111111111111111, \"#46039f\"], [0.2222222222222222, \"#7201a8\"], [0.3333333333333333, \"#9c179e\"], [0.4444444444444444, \"#bd3786\"], [0.5555555555555556, \"#d8576b\"], [0.6666666666666666, \"#ed7953\"], [0.7777777777777778, \"#fb9f3a\"], [0.8888888888888888, \"#fdca26\"], [1.0, \"#f0f921\"]], \"type\": \"histogram2dcontour\"}], \"mesh3d\": [{\"colorbar\": {\"outlinewidth\": 0, \"ticks\": \"\"}, \"type\": \"mesh3d\"}], \"parcoords\": [{\"line\": {\"colorbar\": {\"outlinewidth\": 0, \"ticks\": \"\"}}, \"type\": \"parcoords\"}], \"pie\": [{\"automargin\": true, \"type\": \"pie\"}], \"scatter\": [{\"marker\": {\"colorbar\": {\"outlinewidth\": 0, \"ticks\": \"\"}}, \"type\": \"scatter\"}], \"scatter3d\": [{\"line\": {\"colorbar\": {\"outlinewidth\": 0, \"ticks\": \"\"}}, \"marker\": {\"colorbar\": {\"outlinewidth\": 0, \"ticks\": \"\"}}, \"type\": \"scatter3d\"}], \"scattercarpet\": [{\"marker\": {\"colorbar\": {\"outlinewidth\": 0, \"ticks\": \"\"}}, \"type\": \"scattercarpet\"}], \"scattergeo\": [{\"marker\": {\"colorbar\": {\"outlinewidth\": 0, \"ticks\": \"\"}}, \"type\": \"scattergeo\"}], \"scattergl\": [{\"marker\": {\"colorbar\": {\"outlinewidth\": 0, \"ticks\": \"\"}}, \"type\": \"scattergl\"}], \"scattermapbox\": [{\"marker\": {\"colorbar\": {\"outlinewidth\": 0, \"ticks\": \"\"}}, \"type\": \"scattermapbox\"}], \"scatterpolar\": [{\"marker\": {\"colorbar\": {\"outlinewidth\": 0, \"ticks\": \"\"}}, \"type\": \"scatterpolar\"}], \"scatterpolargl\": [{\"marker\": {\"colorbar\": {\"outlinewidth\": 0, \"ticks\": \"\"}}, \"type\": \"scatterpolargl\"}], \"scatterternary\": [{\"marker\": {\"colorbar\": {\"outlinewidth\": 0, \"ticks\": \"\"}}, \"type\": \"scatterternary\"}], \"surface\": [{\"colorbar\": {\"outlinewidth\": 0, \"ticks\": \"\"}, \"colorscale\": [[0.0, \"#0d0887\"], [0.1111111111111111, \"#46039f\"], [0.2222222222222222, \"#7201a8\"], [0.3333333333333333, \"#9c179e\"], [0.4444444444444444, \"#bd3786\"], [0.5555555555555556, \"#d8576b\"], [0.6666666666666666, \"#ed7953\"], [0.7777777777777778, \"#fb9f3a\"], [0.8888888888888888, \"#fdca26\"], [1.0, \"#f0f921\"]], \"type\": \"surface\"}], \"table\": [{\"cells\": {\"fill\": {\"color\": \"#EBF0F8\"}, \"line\": {\"color\": \"white\"}}, \"header\": {\"fill\": {\"color\": \"#C8D4E3\"}, \"line\": {\"color\": \"white\"}}, \"type\": \"table\"}]}, \"layout\": {\"annotationdefaults\": {\"arrowcolor\": \"#2a3f5f\", \"arrowhead\": 0, \"arrowwidth\": 1}, \"coloraxis\": {\"colorbar\": {\"outlinewidth\": 0, \"ticks\": \"\"}}, \"colorscale\": {\"diverging\": [[0, \"#8e0152\"], [0.1, \"#c51b7d\"], [0.2, \"#de77ae\"], [0.3, \"#f1b6da\"], [0.4, \"#fde0ef\"], [0.5, \"#f7f7f7\"], [0.6, \"#e6f5d0\"], [0.7, \"#b8e186\"], [0.8, \"#7fbc41\"], [0.9, \"#4d9221\"], [1, \"#276419\"]], \"sequential\": [[0.0, \"#0d0887\"], [0.1111111111111111, \"#46039f\"], [0.2222222222222222, \"#7201a8\"], [0.3333333333333333, \"#9c179e\"], [0.4444444444444444, \"#bd3786\"], [0.5555555555555556, \"#d8576b\"], [0.6666666666666666, \"#ed7953\"], [0.7777777777777778, \"#fb9f3a\"], [0.8888888888888888, \"#fdca26\"], [1.0, \"#f0f921\"]], \"sequentialminus\": [[0.0, \"#0d0887\"], [0.1111111111111111, \"#46039f\"], [0.2222222222222222, \"#7201a8\"], [0.3333333333333333, \"#9c179e\"], [0.4444444444444444, \"#bd3786\"], [0.5555555555555556, \"#d8576b\"], [0.6666666666666666, \"#ed7953\"], [0.7777777777777778, \"#fb9f3a\"], [0.8888888888888888, \"#fdca26\"], [1.0, \"#f0f921\"]]}, \"colorway\": [\"#636efa\", \"#EF553B\", \"#00cc96\", \"#ab63fa\", \"#FFA15A\", \"#19d3f3\", \"#FF6692\", \"#B6E880\", \"#FF97FF\", \"#FECB52\"], \"font\": {\"color\": \"#2a3f5f\"}, \"geo\": {\"bgcolor\": \"white\", \"lakecolor\": \"white\", \"landcolor\": \"#E5ECF6\", \"showlakes\": true, \"showland\": true, \"subunitcolor\": \"white\"}, \"hoverlabel\": {\"align\": \"left\"}, \"hovermode\": \"closest\", \"mapbox\": {\"style\": \"light\"}, \"paper_bgcolor\": \"white\", \"plot_bgcolor\": \"#E5ECF6\", \"polar\": {\"angularaxis\": {\"gridcolor\": \"white\", \"linecolor\": \"white\", \"ticks\": \"\"}, \"bgcolor\": \"#E5ECF6\", \"radialaxis\": {\"gridcolor\": \"white\", \"linecolor\": \"white\", \"ticks\": \"\"}}, \"scene\": {\"xaxis\": {\"backgroundcolor\": \"#E5ECF6\", \"gridcolor\": \"white\", \"gridwidth\": 2, \"linecolor\": \"white\", \"showbackground\": true, \"ticks\": \"\", \"zerolinecolor\": \"white\"}, \"yaxis\": {\"backgroundcolor\": \"#E5ECF6\", \"gridcolor\": \"white\", \"gridwidth\": 2, \"linecolor\": \"white\", \"showbackground\": true, \"ticks\": \"\", \"zerolinecolor\": \"white\"}, \"zaxis\": {\"backgroundcolor\": \"#E5ECF6\", \"gridcolor\": \"white\", \"gridwidth\": 2, \"linecolor\": \"white\", \"showbackground\": true, \"ticks\": \"\", \"zerolinecolor\": \"white\"}}, \"shapedefaults\": {\"line\": {\"color\": \"#2a3f5f\"}}, \"ternary\": {\"aaxis\": {\"gridcolor\": \"white\", \"linecolor\": \"white\", \"ticks\": \"\"}, \"baxis\": {\"gridcolor\": \"white\", \"linecolor\": \"white\", \"ticks\": \"\"}, \"bgcolor\": \"#E5ECF6\", \"caxis\": {\"gridcolor\": \"white\", \"linecolor\": \"white\", \"ticks\": \"\"}}, \"title\": {\"x\": 0.05}, \"xaxis\": {\"automargin\": true, \"gridcolor\": \"white\", \"linecolor\": \"white\", \"ticks\": \"\", \"title\": {\"standoff\": 15}, \"zerolinecolor\": \"white\", \"zerolinewidth\": 2}, \"yaxis\": {\"automargin\": true, \"gridcolor\": \"white\", \"linecolor\": \"white\", \"ticks\": \"\", \"title\": {\"standoff\": 15}, \"zerolinecolor\": \"white\", \"zerolinewidth\": 2}}}, \"title\": {\"font\": {\"color\": \"#4D5663\"}, \"text\": \"Veneto - terapia_intensiva\"}, \"xaxis\": {\"gridcolor\": \"#E1E5ED\", \"showgrid\": true, \"tickfont\": {\"color\": \"#4D5663\"}, \"title\": {\"font\": {\"color\": \"#4D5663\"}, \"text\": \"\"}, \"zerolinecolor\": \"#E1E5ED\"}, \"yaxis\": {\"gridcolor\": \"#E1E5ED\", \"showgrid\": true, \"tickfont\": {\"color\": \"#4D5663\"}, \"title\": {\"font\": {\"color\": \"#4D5663\"}, \"text\": \"case\"}, \"zerolinecolor\": \"#E1E5ED\"}},\n                        {\"responsive\": true}\n                    ).then(function(){\n                            \nvar gd = document.getElementById('f51c989c-3f22-40fa-818d-568e6a13f01c');\nvar x = new MutationObserver(function (mutations, observer) {{\n        var display = window.getComputedStyle(gd).display;\n        if (!display || display === 'none') {{\n            console.log([gd, 'removed!']);\n            Plotly.purge(gd);\n            observer.disconnect();\n        }}\n}});\n\n// Listen for the removal of the full notebook cells\nvar notebookContainer = gd.closest('#notebook-container');\nif (notebookContainer) {{\n    x.observe(notebookContainer, {childList: true});\n}}\n\n// Listen for the clearing of the current output cell\nvar outputEl = gd.closest('.output');\nif (outputEl) {{\n    x.observe(outputEl, {childList: true});\n}}\n\n                        })\n                };\n                });\n            </script>\n        </div>"
     },
     "metadata": {},
     "output_type": "display_data"
    }
   ],
   "source": [
    "import cufflinks as cf\n",
    "cf.go_offline()\n",
    "cf.set_config_file(offline=False, world_readable=True)\n",
    "import mytools.plot as mpl\n",
    "import mytools.dataio as io\n",
    "\n",
    "\n",
    "region = 'Veneto'\n",
    "category = 'terapia_intensiva'\n",
    "\n",
    "regions = io.italy_load_regions([region])\n",
    "\n",
    "intensive = io.italy_regions_filter_by_category(regions, category)\n",
    "\n",
    "mpl.iplot_analysis_plot(intensive, title=region+' - '+category)"
   ]
  },
  {
   "cell_type": "code",
   "execution_count": 2,
   "outputs": [
    {
     "name": "stdout",
     "text": [
      "[0.65       0.38988922 1.        ]\n",
      "`ftol` termination condition is satisfied.\n",
      "Function evaluations 12, initial cost 1.1025e+01, final cost 3.8261e-03, first-order optimality 7.35e-08.\n",
      "            Exponential model\n",
      "            x0 = -0.7969584925287592\n",
      "            y0 = -423.8428924575258\n",
      "            k = 0.10352989700985378\n",
      "            \n",
      "`gtol` termination condition is satisfied.\n",
      "Function evaluations 27, initial cost 2.6663e+00, final cost 6.4800e-04, first-order optimality 6.56e-10.\n",
      "        Sigmoid model\n",
      "        x0 = 82.35997102172199\n",
      "        y0 = 6.408901526132666\n",
      "        c = 10382.752876474948\n",
      "        k = 0.18625057608130063\n",
      "        asymptot = 10389.16177800108\n",
      "        flex = 82.35997102172199, 5197.785339763606\n",
      "        \n"
     ],
     "output_type": "stream"
    },
    {
     "data": {
      "application/vnd.plotly.v1+json": {
       "config": {
        "plotlyServerURL": "https://plot.ly"
       },
       "data": [
        {
         "line": {
          "color": "rgba(255, 153, 51, 1.0)",
          "dash": "solid",
          "shape": "linear",
          "width": 1.3
         },
         "marker": {
          "size": 4,
          "symbol": "circle"
         },
         "mode": "lines+markers",
         "name": "exp",
         "text": "",
         "type": "scatter",
         "x": [
          "20 Feb",
          "21 Feb",
          "22 Feb",
          "23 Feb",
          "24 Feb",
          "25 Feb",
          "26 Feb",
          "27 Feb",
          "28 Feb",
          "29 Feb",
          "01 Mar",
          "02 Mar",
          "03 Mar",
          "04 Mar",
          "05 Mar",
          "06 Mar",
          "07 Mar",
          "08 Mar",
          "09 Mar",
          "10 Mar",
          "11 Mar",
          "12 Mar",
          "13 Mar",
          "14 Mar",
          "15 Mar",
          "16 Mar",
          "17 Mar",
          "18 Mar",
          "19 Mar",
          "20 Mar",
          "21 Mar",
          "22 Mar",
          "23 Mar",
          "24 Mar",
          "25 Mar",
          "26 Mar",
          "27 Mar",
          "28 Mar",
          "29 Mar",
          "30 Mar",
          "31 Mar",
          "01 Apr",
          "02 Apr",
          "03 Apr",
          "04 Apr",
          "05 Apr",
          "06 Apr",
          "07 Apr",
          "08 Apr",
          "09 Apr",
          "10 Apr",
          "11 Apr",
          "12 Apr",
          "13 Apr"
         ],
         "y": [
          -210.57826475805476,
          -187.31558288026164,
          -161.51543206547262,
          -132.90102786381027,
          -101.16539446794758,
          -65.9680714715077,
          -26.93146140412489,
          16.363221140540645,
          64.38044224165094,
          117.63533145106493,
          176.69920811179458,
          242.20571048148116,
          314.8575934142313,
          395.4342675264591,
          484.80016072702443,
          583.9139918143128,
          693.8390556275554,
          815.7546300916631,
          950.9686275305537,
          1100.9316259724526,
          1267.252430975268,
          1451.7153349195505,
          1656.2992589270232,
          1883.1989827595023,
          2134.8486904529364,
          2413.9480842844832,
          2723.4913472237454,
          3066.799264577787,
          3447.5548494315253,
          3869.8428540737227,
          4338.1935912879835,
          4857.631535624075,
          5433.729226045079,
          6072.667048218652,
          6781.299537797907,
          7567.228915994732,
          8438.88664633613,
          9405.623887546197,
          "",
          "",
          "",
          "",
          "",
          "",
          "",
          "",
          "",
          "",
          "",
          "",
          "",
          "",
          "",
          ""
         ]
        },
        {
         "line": {
          "color": "rgba(55, 128, 191, 1.0)",
          "dash": "solid",
          "shape": "linear",
          "width": 1.3
         },
         "marker": {
          "size": 4,
          "symbol": "circle"
         },
         "mode": "lines+markers",
         "name": "sigm",
         "text": "",
         "type": "scatter",
         "x": [
          "20 Feb",
          "21 Feb",
          "22 Feb",
          "23 Feb",
          "24 Feb",
          "25 Feb",
          "26 Feb",
          "27 Feb",
          "28 Feb",
          "29 Feb",
          "01 Mar",
          "02 Mar",
          "03 Mar",
          "04 Mar",
          "05 Mar",
          "06 Mar",
          "07 Mar",
          "08 Mar",
          "09 Mar",
          "10 Mar",
          "11 Mar",
          "12 Mar",
          "13 Mar",
          "14 Mar",
          "15 Mar",
          "16 Mar",
          "17 Mar",
          "18 Mar",
          "19 Mar",
          "20 Mar",
          "21 Mar",
          "22 Mar",
          "23 Mar",
          "24 Mar",
          "25 Mar",
          "26 Mar",
          "27 Mar",
          "28 Mar",
          "29 Mar",
          "30 Mar",
          "31 Mar",
          "01 Apr",
          "02 Apr",
          "03 Apr",
          "04 Apr",
          "05 Apr",
          "06 Apr",
          "07 Apr",
          "08 Apr",
          "09 Apr",
          "10 Apr",
          "11 Apr",
          "12 Apr",
          "13 Apr"
         ],
         "y": [
          36.49870617923284,
          42.63731989061251,
          50.022994795281924,
          58.90670414778114,
          69.58886953201358,
          82.42862881307526,
          97.85462769657022,
          116.37748708802613,
          138.60406398749666,
          165.25355711950576,
          197.17539519078522,
          235.36866630259522,
          281.002577368953,
          335.4370436654884,
          400.2419698017611,
          477.2130662782012,
          568.3811349851566,
          676.0106668726015,
          802.5823953569493,
          950.7532998683592,
          1123.2867453742203,
          1322.945428497415,
          1552.341194922392,
          1813.7393045467054,
          2108.8209625817913,
          2438.417086276254,
          2802.237633103437,
          3198.6323691729813,
          3624.427301998059,
          4074.881922252288,
          4543.802306933315,
          5023.823074435869,
          5506.84045549751,
          5984.546953764849,
          6448.994859017137,
          6893.109043911568,
          7311.081415900314,
          7698.605952738276,
          8052.945690476532,
          8372.851936301618,
          8658.374819606843,
          8910.611055063711,
          9131.431368019556,
          9323.220379223703,
          9488.6499611146,
          9630.49619862706,
          9751.501726775383,
          9854.279784507551,
          9941.253476437883,
          10014.622804432915,
          10076.352324032247,
          10128.173222881893,
          10171.594804580942,
          10207.921541857933
         ]
        },
        {
         "line": {
          "color": "rgba(50, 171, 96, 1.0)",
          "dash": "solid",
          "shape": "linear",
          "width": 1.3
         },
         "marker": {
          "size": 8,
          "symbol": "circle"
         },
         "mode": "markers",
         "name": "Veneto",
         "text": "",
         "type": "scatter",
         "x": [
          "20 Feb",
          "21 Feb",
          "22 Feb",
          "23 Feb",
          "24 Feb",
          "25 Feb",
          "26 Feb",
          "27 Feb",
          "28 Feb",
          "29 Feb",
          "01 Mar",
          "02 Mar",
          "03 Mar",
          "04 Mar",
          "05 Mar",
          "06 Mar",
          "07 Mar",
          "08 Mar",
          "09 Mar",
          "10 Mar",
          "11 Mar",
          "12 Mar",
          "13 Mar",
          "14 Mar",
          "15 Mar",
          "16 Mar",
          "17 Mar",
          "18 Mar",
          "19 Mar",
          "20 Mar",
          "21 Mar",
          "22 Mar",
          "23 Mar",
          "24 Mar",
          "25 Mar",
          "26 Mar",
          "27 Mar",
          "28 Mar",
          "29 Mar",
          "30 Mar",
          "31 Mar",
          "01 Apr",
          "02 Apr",
          "03 Apr",
          "04 Apr",
          "05 Apr",
          "06 Apr",
          "07 Apr",
          "08 Apr",
          "09 Apr",
          "10 Apr",
          "11 Apr",
          "12 Apr",
          "13 Apr"
         ],
         "y": [
          "",
          "",
          "",
          "",
          33.0,
          43.0,
          71.0,
          111.0,
          151.0,
          191.0,
          263.0,
          273.0,
          307.0,
          360.0,
          407.0,
          488.0,
          543.0,
          670.0,
          744.0,
          856.0,
          1023.0,
          1384.0,
          1595.0,
          1937.0,
          2172.0,
          2473.0,
          2704.0,
          3214.0,
          3484.0,
          4031.0,
          4617.0,
          5122.0,
          5505.0,
          5948.0,
          6442.0,
          "",
          "",
          "",
          "",
          "",
          "",
          "",
          "",
          "",
          "",
          "",
          "",
          "",
          "",
          "",
          "",
          "",
          "",
          ""
         ]
        },
        {
         "marker": {
          "color": "rgba(255, 0, 0, 125)",
          "size": 8
         },
         "mode": "markers",
         "name": "flex",
         "type": "scatter",
         "x": [
          "22 Mar"
         ],
         "y": [
          5197.785339763606
         ]
        }
       ],
       "layout": {
        "legend": {
         "bgcolor": "#FFFFFF",
         "font": {
          "color": "#4D5663"
         }
        },
        "paper_bgcolor": "#FFFFFF",
        "plot_bgcolor": "#FFFFFF",
        "template": {
         "data": {
          "bar": [
           {
            "error_x": {
             "color": "#2a3f5f"
            },
            "error_y": {
             "color": "#2a3f5f"
            },
            "marker": {
             "line": {
              "color": "#E5ECF6",
              "width": 0.5
             }
            },
            "type": "bar"
           }
          ],
          "barpolar": [
           {
            "marker": {
             "line": {
              "color": "#E5ECF6",
              "width": 0.5
             }
            },
            "type": "barpolar"
           }
          ],
          "carpet": [
           {
            "aaxis": {
             "endlinecolor": "#2a3f5f",
             "gridcolor": "white",
             "linecolor": "white",
             "minorgridcolor": "white",
             "startlinecolor": "#2a3f5f"
            },
            "baxis": {
             "endlinecolor": "#2a3f5f",
             "gridcolor": "white",
             "linecolor": "white",
             "minorgridcolor": "white",
             "startlinecolor": "#2a3f5f"
            },
            "type": "carpet"
           }
          ],
          "choropleth": [
           {
            "colorbar": {
             "outlinewidth": 0,
             "ticks": ""
            },
            "type": "choropleth"
           }
          ],
          "contour": [
           {
            "colorbar": {
             "outlinewidth": 0,
             "ticks": ""
            },
            "colorscale": [
             [
              0.0,
              "#0d0887"
             ],
             [
              0.1111111111111111,
              "#46039f"
             ],
             [
              0.2222222222222222,
              "#7201a8"
             ],
             [
              0.3333333333333333,
              "#9c179e"
             ],
             [
              0.4444444444444444,
              "#bd3786"
             ],
             [
              0.5555555555555556,
              "#d8576b"
             ],
             [
              0.6666666666666666,
              "#ed7953"
             ],
             [
              0.7777777777777778,
              "#fb9f3a"
             ],
             [
              0.8888888888888888,
              "#fdca26"
             ],
             [
              1.0,
              "#f0f921"
             ]
            ],
            "type": "contour"
           }
          ],
          "contourcarpet": [
           {
            "colorbar": {
             "outlinewidth": 0,
             "ticks": ""
            },
            "type": "contourcarpet"
           }
          ],
          "heatmap": [
           {
            "colorbar": {
             "outlinewidth": 0,
             "ticks": ""
            },
            "colorscale": [
             [
              0.0,
              "#0d0887"
             ],
             [
              0.1111111111111111,
              "#46039f"
             ],
             [
              0.2222222222222222,
              "#7201a8"
             ],
             [
              0.3333333333333333,
              "#9c179e"
             ],
             [
              0.4444444444444444,
              "#bd3786"
             ],
             [
              0.5555555555555556,
              "#d8576b"
             ],
             [
              0.6666666666666666,
              "#ed7953"
             ],
             [
              0.7777777777777778,
              "#fb9f3a"
             ],
             [
              0.8888888888888888,
              "#fdca26"
             ],
             [
              1.0,
              "#f0f921"
             ]
            ],
            "type": "heatmap"
           }
          ],
          "heatmapgl": [
           {
            "colorbar": {
             "outlinewidth": 0,
             "ticks": ""
            },
            "colorscale": [
             [
              0.0,
              "#0d0887"
             ],
             [
              0.1111111111111111,
              "#46039f"
             ],
             [
              0.2222222222222222,
              "#7201a8"
             ],
             [
              0.3333333333333333,
              "#9c179e"
             ],
             [
              0.4444444444444444,
              "#bd3786"
             ],
             [
              0.5555555555555556,
              "#d8576b"
             ],
             [
              0.6666666666666666,
              "#ed7953"
             ],
             [
              0.7777777777777778,
              "#fb9f3a"
             ],
             [
              0.8888888888888888,
              "#fdca26"
             ],
             [
              1.0,
              "#f0f921"
             ]
            ],
            "type": "heatmapgl"
           }
          ],
          "histogram": [
           {
            "marker": {
             "colorbar": {
              "outlinewidth": 0,
              "ticks": ""
             }
            },
            "type": "histogram"
           }
          ],
          "histogram2d": [
           {
            "colorbar": {
             "outlinewidth": 0,
             "ticks": ""
            },
            "colorscale": [
             [
              0.0,
              "#0d0887"
             ],
             [
              0.1111111111111111,
              "#46039f"
             ],
             [
              0.2222222222222222,
              "#7201a8"
             ],
             [
              0.3333333333333333,
              "#9c179e"
             ],
             [
              0.4444444444444444,
              "#bd3786"
             ],
             [
              0.5555555555555556,
              "#d8576b"
             ],
             [
              0.6666666666666666,
              "#ed7953"
             ],
             [
              0.7777777777777778,
              "#fb9f3a"
             ],
             [
              0.8888888888888888,
              "#fdca26"
             ],
             [
              1.0,
              "#f0f921"
             ]
            ],
            "type": "histogram2d"
           }
          ],
          "histogram2dcontour": [
           {
            "colorbar": {
             "outlinewidth": 0,
             "ticks": ""
            },
            "colorscale": [
             [
              0.0,
              "#0d0887"
             ],
             [
              0.1111111111111111,
              "#46039f"
             ],
             [
              0.2222222222222222,
              "#7201a8"
             ],
             [
              0.3333333333333333,
              "#9c179e"
             ],
             [
              0.4444444444444444,
              "#bd3786"
             ],
             [
              0.5555555555555556,
              "#d8576b"
             ],
             [
              0.6666666666666666,
              "#ed7953"
             ],
             [
              0.7777777777777778,
              "#fb9f3a"
             ],
             [
              0.8888888888888888,
              "#fdca26"
             ],
             [
              1.0,
              "#f0f921"
             ]
            ],
            "type": "histogram2dcontour"
           }
          ],
          "mesh3d": [
           {
            "colorbar": {
             "outlinewidth": 0,
             "ticks": ""
            },
            "type": "mesh3d"
           }
          ],
          "parcoords": [
           {
            "line": {
             "colorbar": {
              "outlinewidth": 0,
              "ticks": ""
             }
            },
            "type": "parcoords"
           }
          ],
          "pie": [
           {
            "automargin": true,
            "type": "pie"
           }
          ],
          "scatter": [
           {
            "marker": {
             "colorbar": {
              "outlinewidth": 0,
              "ticks": ""
             }
            },
            "type": "scatter"
           }
          ],
          "scatter3d": [
           {
            "line": {
             "colorbar": {
              "outlinewidth": 0,
              "ticks": ""
             }
            },
            "marker": {
             "colorbar": {
              "outlinewidth": 0,
              "ticks": ""
             }
            },
            "type": "scatter3d"
           }
          ],
          "scattercarpet": [
           {
            "marker": {
             "colorbar": {
              "outlinewidth": 0,
              "ticks": ""
             }
            },
            "type": "scattercarpet"
           }
          ],
          "scattergeo": [
           {
            "marker": {
             "colorbar": {
              "outlinewidth": 0,
              "ticks": ""
             }
            },
            "type": "scattergeo"
           }
          ],
          "scattergl": [
           {
            "marker": {
             "colorbar": {
              "outlinewidth": 0,
              "ticks": ""
             }
            },
            "type": "scattergl"
           }
          ],
          "scattermapbox": [
           {
            "marker": {
             "colorbar": {
              "outlinewidth": 0,
              "ticks": ""
             }
            },
            "type": "scattermapbox"
           }
          ],
          "scatterpolar": [
           {
            "marker": {
             "colorbar": {
              "outlinewidth": 0,
              "ticks": ""
             }
            },
            "type": "scatterpolar"
           }
          ],
          "scatterpolargl": [
           {
            "marker": {
             "colorbar": {
              "outlinewidth": 0,
              "ticks": ""
             }
            },
            "type": "scatterpolargl"
           }
          ],
          "scatterternary": [
           {
            "marker": {
             "colorbar": {
              "outlinewidth": 0,
              "ticks": ""
             }
            },
            "type": "scatterternary"
           }
          ],
          "surface": [
           {
            "colorbar": {
             "outlinewidth": 0,
             "ticks": ""
            },
            "colorscale": [
             [
              0.0,
              "#0d0887"
             ],
             [
              0.1111111111111111,
              "#46039f"
             ],
             [
              0.2222222222222222,
              "#7201a8"
             ],
             [
              0.3333333333333333,
              "#9c179e"
             ],
             [
              0.4444444444444444,
              "#bd3786"
             ],
             [
              0.5555555555555556,
              "#d8576b"
             ],
             [
              0.6666666666666666,
              "#ed7953"
             ],
             [
              0.7777777777777778,
              "#fb9f3a"
             ],
             [
              0.8888888888888888,
              "#fdca26"
             ],
             [
              1.0,
              "#f0f921"
             ]
            ],
            "type": "surface"
           }
          ],
          "table": [
           {
            "cells": {
             "fill": {
              "color": "#EBF0F8"
             },
             "line": {
              "color": "white"
             }
            },
            "header": {
             "fill": {
              "color": "#C8D4E3"
             },
             "line": {
              "color": "white"
             }
            },
            "type": "table"
           }
          ]
         },
         "layout": {
          "annotationdefaults": {
           "arrowcolor": "#2a3f5f",
           "arrowhead": 0,
           "arrowwidth": 1
          },
          "coloraxis": {
           "colorbar": {
            "outlinewidth": 0,
            "ticks": ""
           }
          },
          "colorscale": {
           "diverging": [
            [
             0,
             "#8e0152"
            ],
            [
             0.1,
             "#c51b7d"
            ],
            [
             0.2,
             "#de77ae"
            ],
            [
             0.3,
             "#f1b6da"
            ],
            [
             0.4,
             "#fde0ef"
            ],
            [
             0.5,
             "#f7f7f7"
            ],
            [
             0.6,
             "#e6f5d0"
            ],
            [
             0.7,
             "#b8e186"
            ],
            [
             0.8,
             "#7fbc41"
            ],
            [
             0.9,
             "#4d9221"
            ],
            [
             1,
             "#276419"
            ]
           ],
           "sequential": [
            [
             0.0,
             "#0d0887"
            ],
            [
             0.1111111111111111,
             "#46039f"
            ],
            [
             0.2222222222222222,
             "#7201a8"
            ],
            [
             0.3333333333333333,
             "#9c179e"
            ],
            [
             0.4444444444444444,
             "#bd3786"
            ],
            [
             0.5555555555555556,
             "#d8576b"
            ],
            [
             0.6666666666666666,
             "#ed7953"
            ],
            [
             0.7777777777777778,
             "#fb9f3a"
            ],
            [
             0.8888888888888888,
             "#fdca26"
            ],
            [
             1.0,
             "#f0f921"
            ]
           ],
           "sequentialminus": [
            [
             0.0,
             "#0d0887"
            ],
            [
             0.1111111111111111,
             "#46039f"
            ],
            [
             0.2222222222222222,
             "#7201a8"
            ],
            [
             0.3333333333333333,
             "#9c179e"
            ],
            [
             0.4444444444444444,
             "#bd3786"
            ],
            [
             0.5555555555555556,
             "#d8576b"
            ],
            [
             0.6666666666666666,
             "#ed7953"
            ],
            [
             0.7777777777777778,
             "#fb9f3a"
            ],
            [
             0.8888888888888888,
             "#fdca26"
            ],
            [
             1.0,
             "#f0f921"
            ]
           ]
          },
          "colorway": [
           "#636efa",
           "#EF553B",
           "#00cc96",
           "#ab63fa",
           "#FFA15A",
           "#19d3f3",
           "#FF6692",
           "#B6E880",
           "#FF97FF",
           "#FECB52"
          ],
          "font": {
           "color": "#2a3f5f"
          },
          "geo": {
           "bgcolor": "white",
           "lakecolor": "white",
           "landcolor": "#E5ECF6",
           "showlakes": true,
           "showland": true,
           "subunitcolor": "white"
          },
          "hoverlabel": {
           "align": "left"
          },
          "hovermode": "closest",
          "mapbox": {
           "style": "light"
          },
          "paper_bgcolor": "white",
          "plot_bgcolor": "#E5ECF6",
          "polar": {
           "angularaxis": {
            "gridcolor": "white",
            "linecolor": "white",
            "ticks": ""
           },
           "bgcolor": "#E5ECF6",
           "radialaxis": {
            "gridcolor": "white",
            "linecolor": "white",
            "ticks": ""
           }
          },
          "scene": {
           "xaxis": {
            "backgroundcolor": "#E5ECF6",
            "gridcolor": "white",
            "gridwidth": 2,
            "linecolor": "white",
            "showbackground": true,
            "ticks": "",
            "zerolinecolor": "white"
           },
           "yaxis": {
            "backgroundcolor": "#E5ECF6",
            "gridcolor": "white",
            "gridwidth": 2,
            "linecolor": "white",
            "showbackground": true,
            "ticks": "",
            "zerolinecolor": "white"
           },
           "zaxis": {
            "backgroundcolor": "#E5ECF6",
            "gridcolor": "white",
            "gridwidth": 2,
            "linecolor": "white",
            "showbackground": true,
            "ticks": "",
            "zerolinecolor": "white"
           }
          },
          "shapedefaults": {
           "line": {
            "color": "#2a3f5f"
           }
          },
          "ternary": {
           "aaxis": {
            "gridcolor": "white",
            "linecolor": "white",
            "ticks": ""
           },
           "baxis": {
            "gridcolor": "white",
            "linecolor": "white",
            "ticks": ""
           },
           "bgcolor": "#E5ECF6",
           "caxis": {
            "gridcolor": "white",
            "linecolor": "white",
            "ticks": ""
           }
          },
          "title": {
           "x": 0.05
          },
          "xaxis": {
           "automargin": true,
           "gridcolor": "white",
           "linecolor": "white",
           "ticks": "",
           "title": {
            "standoff": 15
           },
           "zerolinecolor": "white",
           "zerolinewidth": 2
          },
          "yaxis": {
           "automargin": true,
           "gridcolor": "white",
           "linecolor": "white",
           "ticks": "",
           "title": {
            "standoff": 15
           },
           "zerolinecolor": "white",
           "zerolinewidth": 2
          }
         }
        },
        "title": {
         "font": {
          "color": "#4D5663"
         },
         "text": "Veneto - totale_casi"
        },
        "xaxis": {
         "gridcolor": "#E1E5ED",
         "showgrid": true,
         "tickfont": {
          "color": "#4D5663"
         },
         "title": {
          "font": {
           "color": "#4D5663"
          },
          "text": ""
         },
         "zerolinecolor": "#E1E5ED"
        },
        "yaxis": {
         "gridcolor": "#E1E5ED",
         "showgrid": true,
         "tickfont": {
          "color": "#4D5663"
         },
         "title": {
          "font": {
           "color": "#4D5663"
          },
          "text": "case"
         },
         "zerolinecolor": "#E1E5ED"
        }
       }
      },
      "text/html": "<div>\n        \n        \n            <div id=\"62815a35-2f0c-4454-b6cc-2f60a2369301\" class=\"plotly-graph-div\" style=\"height:525px; width:100%;\"></div>\n            <script type=\"text/javascript\">\n                require([\"plotly\"], function(Plotly) {\n                    window.PLOTLYENV=window.PLOTLYENV || {};\n                    \n                if (document.getElementById(\"62815a35-2f0c-4454-b6cc-2f60a2369301\")) {\n                    Plotly.newPlot(\n                        '62815a35-2f0c-4454-b6cc-2f60a2369301',\n                        [{\"line\": {\"color\": \"rgba(255, 153, 51, 1.0)\", \"dash\": \"solid\", \"shape\": \"linear\", \"width\": 1.3}, \"marker\": {\"size\": 4, \"symbol\": \"circle\"}, \"mode\": \"lines+markers\", \"name\": \"exp\", \"text\": \"\", \"type\": \"scatter\", \"x\": [\"20 Feb\", \"21 Feb\", \"22 Feb\", \"23 Feb\", \"24 Feb\", \"25 Feb\", \"26 Feb\", \"27 Feb\", \"28 Feb\", \"29 Feb\", \"01 Mar\", \"02 Mar\", \"03 Mar\", \"04 Mar\", \"05 Mar\", \"06 Mar\", \"07 Mar\", \"08 Mar\", \"09 Mar\", \"10 Mar\", \"11 Mar\", \"12 Mar\", \"13 Mar\", \"14 Mar\", \"15 Mar\", \"16 Mar\", \"17 Mar\", \"18 Mar\", \"19 Mar\", \"20 Mar\", \"21 Mar\", \"22 Mar\", \"23 Mar\", \"24 Mar\", \"25 Mar\", \"26 Mar\", \"27 Mar\", \"28 Mar\", \"29 Mar\", \"30 Mar\", \"31 Mar\", \"01 Apr\", \"02 Apr\", \"03 Apr\", \"04 Apr\", \"05 Apr\", \"06 Apr\", \"07 Apr\", \"08 Apr\", \"09 Apr\", \"10 Apr\", \"11 Apr\", \"12 Apr\", \"13 Apr\"], \"y\": [-210.57826475805476, -187.31558288026164, -161.51543206547262, -132.90102786381027, -101.16539446794758, -65.9680714715077, -26.93146140412489, 16.363221140540645, 64.38044224165094, 117.63533145106493, 176.69920811179458, 242.20571048148116, 314.8575934142313, 395.4342675264591, 484.80016072702443, 583.9139918143128, 693.8390556275554, 815.7546300916631, 950.9686275305537, 1100.9316259724526, 1267.252430975268, 1451.7153349195505, 1656.2992589270232, 1883.1989827595023, 2134.8486904529364, 2413.9480842844832, 2723.4913472237454, 3066.799264577787, 3447.5548494315253, 3869.8428540737227, 4338.1935912879835, 4857.631535624075, 5433.729226045079, 6072.667048218652, 6781.299537797907, 7567.228915994732, 8438.88664633613, 9405.623887546197, \"\", \"\", \"\", \"\", \"\", \"\", \"\", \"\", \"\", \"\", \"\", \"\", \"\", \"\", \"\", \"\"]}, {\"line\": {\"color\": \"rgba(55, 128, 191, 1.0)\", \"dash\": \"solid\", \"shape\": \"linear\", \"width\": 1.3}, \"marker\": {\"size\": 4, \"symbol\": \"circle\"}, \"mode\": \"lines+markers\", \"name\": \"sigm\", \"text\": \"\", \"type\": \"scatter\", \"x\": [\"20 Feb\", \"21 Feb\", \"22 Feb\", \"23 Feb\", \"24 Feb\", \"25 Feb\", \"26 Feb\", \"27 Feb\", \"28 Feb\", \"29 Feb\", \"01 Mar\", \"02 Mar\", \"03 Mar\", \"04 Mar\", \"05 Mar\", \"06 Mar\", \"07 Mar\", \"08 Mar\", \"09 Mar\", \"10 Mar\", \"11 Mar\", \"12 Mar\", \"13 Mar\", \"14 Mar\", \"15 Mar\", \"16 Mar\", \"17 Mar\", \"18 Mar\", \"19 Mar\", \"20 Mar\", \"21 Mar\", \"22 Mar\", \"23 Mar\", \"24 Mar\", \"25 Mar\", \"26 Mar\", \"27 Mar\", \"28 Mar\", \"29 Mar\", \"30 Mar\", \"31 Mar\", \"01 Apr\", \"02 Apr\", \"03 Apr\", \"04 Apr\", \"05 Apr\", \"06 Apr\", \"07 Apr\", \"08 Apr\", \"09 Apr\", \"10 Apr\", \"11 Apr\", \"12 Apr\", \"13 Apr\"], \"y\": [36.49870617923284, 42.63731989061251, 50.022994795281924, 58.90670414778114, 69.58886953201358, 82.42862881307526, 97.85462769657022, 116.37748708802613, 138.60406398749666, 165.25355711950576, 197.17539519078522, 235.36866630259522, 281.002577368953, 335.4370436654884, 400.2419698017611, 477.2130662782012, 568.3811349851566, 676.0106668726015, 802.5823953569493, 950.7532998683592, 1123.2867453742203, 1322.945428497415, 1552.341194922392, 1813.7393045467054, 2108.8209625817913, 2438.417086276254, 2802.237633103437, 3198.6323691729813, 3624.427301998059, 4074.881922252288, 4543.802306933315, 5023.823074435869, 5506.84045549751, 5984.546953764849, 6448.994859017137, 6893.109043911568, 7311.081415900314, 7698.605952738276, 8052.945690476532, 8372.851936301618, 8658.374819606843, 8910.611055063711, 9131.431368019556, 9323.220379223703, 9488.6499611146, 9630.49619862706, 9751.501726775383, 9854.279784507551, 9941.253476437883, 10014.622804432915, 10076.352324032247, 10128.173222881893, 10171.594804580942, 10207.921541857933]}, {\"line\": {\"color\": \"rgba(50, 171, 96, 1.0)\", \"dash\": \"solid\", \"shape\": \"linear\", \"width\": 1.3}, \"marker\": {\"size\": 8, \"symbol\": \"circle\"}, \"mode\": \"markers\", \"name\": \"Veneto\", \"text\": \"\", \"type\": \"scatter\", \"x\": [\"20 Feb\", \"21 Feb\", \"22 Feb\", \"23 Feb\", \"24 Feb\", \"25 Feb\", \"26 Feb\", \"27 Feb\", \"28 Feb\", \"29 Feb\", \"01 Mar\", \"02 Mar\", \"03 Mar\", \"04 Mar\", \"05 Mar\", \"06 Mar\", \"07 Mar\", \"08 Mar\", \"09 Mar\", \"10 Mar\", \"11 Mar\", \"12 Mar\", \"13 Mar\", \"14 Mar\", \"15 Mar\", \"16 Mar\", \"17 Mar\", \"18 Mar\", \"19 Mar\", \"20 Mar\", \"21 Mar\", \"22 Mar\", \"23 Mar\", \"24 Mar\", \"25 Mar\", \"26 Mar\", \"27 Mar\", \"28 Mar\", \"29 Mar\", \"30 Mar\", \"31 Mar\", \"01 Apr\", \"02 Apr\", \"03 Apr\", \"04 Apr\", \"05 Apr\", \"06 Apr\", \"07 Apr\", \"08 Apr\", \"09 Apr\", \"10 Apr\", \"11 Apr\", \"12 Apr\", \"13 Apr\"], \"y\": [\"\", \"\", \"\", \"\", 33.0, 43.0, 71.0, 111.0, 151.0, 191.0, 263.0, 273.0, 307.0, 360.0, 407.0, 488.0, 543.0, 670.0, 744.0, 856.0, 1023.0, 1384.0, 1595.0, 1937.0, 2172.0, 2473.0, 2704.0, 3214.0, 3484.0, 4031.0, 4617.0, 5122.0, 5505.0, 5948.0, 6442.0, \"\", \"\", \"\", \"\", \"\", \"\", \"\", \"\", \"\", \"\", \"\", \"\", \"\", \"\", \"\", \"\", \"\", \"\", \"\"]}, {\"marker\": {\"color\": \"rgba(255, 0, 0, 125)\", \"size\": 8}, \"mode\": \"markers\", \"name\": \"flex\", \"type\": \"scatter\", \"x\": [\"22 Mar\"], \"y\": [5197.785339763606]}],\n                        {\"legend\": {\"bgcolor\": \"#FFFFFF\", \"font\": {\"color\": \"#4D5663\"}}, \"paper_bgcolor\": \"#FFFFFF\", \"plot_bgcolor\": \"#FFFFFF\", \"template\": {\"data\": {\"bar\": [{\"error_x\": {\"color\": \"#2a3f5f\"}, \"error_y\": {\"color\": \"#2a3f5f\"}, \"marker\": {\"line\": {\"color\": \"#E5ECF6\", \"width\": 0.5}}, \"type\": \"bar\"}], \"barpolar\": [{\"marker\": {\"line\": {\"color\": \"#E5ECF6\", \"width\": 0.5}}, \"type\": \"barpolar\"}], \"carpet\": [{\"aaxis\": {\"endlinecolor\": \"#2a3f5f\", \"gridcolor\": \"white\", \"linecolor\": \"white\", \"minorgridcolor\": \"white\", \"startlinecolor\": \"#2a3f5f\"}, \"baxis\": {\"endlinecolor\": \"#2a3f5f\", \"gridcolor\": \"white\", \"linecolor\": \"white\", \"minorgridcolor\": \"white\", \"startlinecolor\": \"#2a3f5f\"}, \"type\": \"carpet\"}], \"choropleth\": [{\"colorbar\": {\"outlinewidth\": 0, \"ticks\": \"\"}, \"type\": \"choropleth\"}], \"contour\": [{\"colorbar\": {\"outlinewidth\": 0, \"ticks\": \"\"}, \"colorscale\": [[0.0, \"#0d0887\"], [0.1111111111111111, \"#46039f\"], [0.2222222222222222, \"#7201a8\"], [0.3333333333333333, \"#9c179e\"], [0.4444444444444444, \"#bd3786\"], [0.5555555555555556, \"#d8576b\"], [0.6666666666666666, \"#ed7953\"], [0.7777777777777778, \"#fb9f3a\"], [0.8888888888888888, \"#fdca26\"], [1.0, \"#f0f921\"]], \"type\": \"contour\"}], \"contourcarpet\": [{\"colorbar\": {\"outlinewidth\": 0, \"ticks\": \"\"}, \"type\": \"contourcarpet\"}], \"heatmap\": [{\"colorbar\": {\"outlinewidth\": 0, \"ticks\": \"\"}, \"colorscale\": [[0.0, \"#0d0887\"], [0.1111111111111111, \"#46039f\"], [0.2222222222222222, \"#7201a8\"], [0.3333333333333333, \"#9c179e\"], [0.4444444444444444, \"#bd3786\"], [0.5555555555555556, \"#d8576b\"], [0.6666666666666666, \"#ed7953\"], [0.7777777777777778, \"#fb9f3a\"], [0.8888888888888888, \"#fdca26\"], [1.0, \"#f0f921\"]], \"type\": \"heatmap\"}], \"heatmapgl\": [{\"colorbar\": {\"outlinewidth\": 0, \"ticks\": \"\"}, \"colorscale\": [[0.0, \"#0d0887\"], [0.1111111111111111, \"#46039f\"], [0.2222222222222222, \"#7201a8\"], [0.3333333333333333, \"#9c179e\"], [0.4444444444444444, \"#bd3786\"], [0.5555555555555556, \"#d8576b\"], [0.6666666666666666, \"#ed7953\"], [0.7777777777777778, \"#fb9f3a\"], [0.8888888888888888, \"#fdca26\"], [1.0, \"#f0f921\"]], \"type\": \"heatmapgl\"}], \"histogram\": [{\"marker\": {\"colorbar\": {\"outlinewidth\": 0, \"ticks\": \"\"}}, \"type\": \"histogram\"}], \"histogram2d\": [{\"colorbar\": {\"outlinewidth\": 0, \"ticks\": \"\"}, \"colorscale\": [[0.0, \"#0d0887\"], [0.1111111111111111, \"#46039f\"], [0.2222222222222222, \"#7201a8\"], [0.3333333333333333, \"#9c179e\"], [0.4444444444444444, \"#bd3786\"], [0.5555555555555556, \"#d8576b\"], [0.6666666666666666, \"#ed7953\"], [0.7777777777777778, \"#fb9f3a\"], [0.8888888888888888, \"#fdca26\"], [1.0, \"#f0f921\"]], \"type\": \"histogram2d\"}], \"histogram2dcontour\": [{\"colorbar\": {\"outlinewidth\": 0, \"ticks\": \"\"}, \"colorscale\": [[0.0, \"#0d0887\"], [0.1111111111111111, \"#46039f\"], [0.2222222222222222, \"#7201a8\"], [0.3333333333333333, \"#9c179e\"], [0.4444444444444444, \"#bd3786\"], [0.5555555555555556, \"#d8576b\"], [0.6666666666666666, \"#ed7953\"], [0.7777777777777778, \"#fb9f3a\"], [0.8888888888888888, \"#fdca26\"], [1.0, \"#f0f921\"]], \"type\": \"histogram2dcontour\"}], \"mesh3d\": [{\"colorbar\": {\"outlinewidth\": 0, \"ticks\": \"\"}, \"type\": \"mesh3d\"}], \"parcoords\": [{\"line\": {\"colorbar\": {\"outlinewidth\": 0, \"ticks\": \"\"}}, \"type\": \"parcoords\"}], \"pie\": [{\"automargin\": true, \"type\": \"pie\"}], \"scatter\": [{\"marker\": {\"colorbar\": {\"outlinewidth\": 0, \"ticks\": \"\"}}, \"type\": \"scatter\"}], \"scatter3d\": [{\"line\": {\"colorbar\": {\"outlinewidth\": 0, \"ticks\": \"\"}}, \"marker\": {\"colorbar\": {\"outlinewidth\": 0, \"ticks\": \"\"}}, \"type\": \"scatter3d\"}], \"scattercarpet\": [{\"marker\": {\"colorbar\": {\"outlinewidth\": 0, \"ticks\": \"\"}}, \"type\": \"scattercarpet\"}], \"scattergeo\": [{\"marker\": {\"colorbar\": {\"outlinewidth\": 0, \"ticks\": \"\"}}, \"type\": \"scattergeo\"}], \"scattergl\": [{\"marker\": {\"colorbar\": {\"outlinewidth\": 0, \"ticks\": \"\"}}, \"type\": \"scattergl\"}], \"scattermapbox\": [{\"marker\": {\"colorbar\": {\"outlinewidth\": 0, \"ticks\": \"\"}}, \"type\": \"scattermapbox\"}], \"scatterpolar\": [{\"marker\": {\"colorbar\": {\"outlinewidth\": 0, \"ticks\": \"\"}}, \"type\": \"scatterpolar\"}], \"scatterpolargl\": [{\"marker\": {\"colorbar\": {\"outlinewidth\": 0, \"ticks\": \"\"}}, \"type\": \"scatterpolargl\"}], \"scatterternary\": [{\"marker\": {\"colorbar\": {\"outlinewidth\": 0, \"ticks\": \"\"}}, \"type\": \"scatterternary\"}], \"surface\": [{\"colorbar\": {\"outlinewidth\": 0, \"ticks\": \"\"}, \"colorscale\": [[0.0, \"#0d0887\"], [0.1111111111111111, \"#46039f\"], [0.2222222222222222, \"#7201a8\"], [0.3333333333333333, \"#9c179e\"], [0.4444444444444444, \"#bd3786\"], [0.5555555555555556, \"#d8576b\"], [0.6666666666666666, \"#ed7953\"], [0.7777777777777778, \"#fb9f3a\"], [0.8888888888888888, \"#fdca26\"], [1.0, \"#f0f921\"]], \"type\": \"surface\"}], \"table\": [{\"cells\": {\"fill\": {\"color\": \"#EBF0F8\"}, \"line\": {\"color\": \"white\"}}, \"header\": {\"fill\": {\"color\": \"#C8D4E3\"}, \"line\": {\"color\": \"white\"}}, \"type\": \"table\"}]}, \"layout\": {\"annotationdefaults\": {\"arrowcolor\": \"#2a3f5f\", \"arrowhead\": 0, \"arrowwidth\": 1}, \"coloraxis\": {\"colorbar\": {\"outlinewidth\": 0, \"ticks\": \"\"}}, \"colorscale\": {\"diverging\": [[0, \"#8e0152\"], [0.1, \"#c51b7d\"], [0.2, \"#de77ae\"], [0.3, \"#f1b6da\"], [0.4, \"#fde0ef\"], [0.5, \"#f7f7f7\"], [0.6, \"#e6f5d0\"], [0.7, \"#b8e186\"], [0.8, \"#7fbc41\"], [0.9, \"#4d9221\"], [1, \"#276419\"]], \"sequential\": [[0.0, \"#0d0887\"], [0.1111111111111111, \"#46039f\"], [0.2222222222222222, \"#7201a8\"], [0.3333333333333333, \"#9c179e\"], [0.4444444444444444, \"#bd3786\"], [0.5555555555555556, \"#d8576b\"], [0.6666666666666666, \"#ed7953\"], [0.7777777777777778, \"#fb9f3a\"], [0.8888888888888888, \"#fdca26\"], [1.0, \"#f0f921\"]], \"sequentialminus\": [[0.0, \"#0d0887\"], [0.1111111111111111, \"#46039f\"], [0.2222222222222222, \"#7201a8\"], [0.3333333333333333, \"#9c179e\"], [0.4444444444444444, \"#bd3786\"], [0.5555555555555556, \"#d8576b\"], [0.6666666666666666, \"#ed7953\"], [0.7777777777777778, \"#fb9f3a\"], [0.8888888888888888, \"#fdca26\"], [1.0, \"#f0f921\"]]}, \"colorway\": [\"#636efa\", \"#EF553B\", \"#00cc96\", \"#ab63fa\", \"#FFA15A\", \"#19d3f3\", \"#FF6692\", \"#B6E880\", \"#FF97FF\", \"#FECB52\"], \"font\": {\"color\": \"#2a3f5f\"}, \"geo\": {\"bgcolor\": \"white\", \"lakecolor\": \"white\", \"landcolor\": \"#E5ECF6\", \"showlakes\": true, \"showland\": true, \"subunitcolor\": \"white\"}, \"hoverlabel\": {\"align\": \"left\"}, \"hovermode\": \"closest\", \"mapbox\": {\"style\": \"light\"}, \"paper_bgcolor\": \"white\", \"plot_bgcolor\": \"#E5ECF6\", \"polar\": {\"angularaxis\": {\"gridcolor\": \"white\", \"linecolor\": \"white\", \"ticks\": \"\"}, \"bgcolor\": \"#E5ECF6\", \"radialaxis\": {\"gridcolor\": \"white\", \"linecolor\": \"white\", \"ticks\": \"\"}}, \"scene\": {\"xaxis\": {\"backgroundcolor\": \"#E5ECF6\", \"gridcolor\": \"white\", \"gridwidth\": 2, \"linecolor\": \"white\", \"showbackground\": true, \"ticks\": \"\", \"zerolinecolor\": \"white\"}, \"yaxis\": {\"backgroundcolor\": \"#E5ECF6\", \"gridcolor\": \"white\", \"gridwidth\": 2, \"linecolor\": \"white\", \"showbackground\": true, \"ticks\": \"\", \"zerolinecolor\": \"white\"}, \"zaxis\": {\"backgroundcolor\": \"#E5ECF6\", \"gridcolor\": \"white\", \"gridwidth\": 2, \"linecolor\": \"white\", \"showbackground\": true, \"ticks\": \"\", \"zerolinecolor\": \"white\"}}, \"shapedefaults\": {\"line\": {\"color\": \"#2a3f5f\"}}, \"ternary\": {\"aaxis\": {\"gridcolor\": \"white\", \"linecolor\": \"white\", \"ticks\": \"\"}, \"baxis\": {\"gridcolor\": \"white\", \"linecolor\": \"white\", \"ticks\": \"\"}, \"bgcolor\": \"#E5ECF6\", \"caxis\": {\"gridcolor\": \"white\", \"linecolor\": \"white\", \"ticks\": \"\"}}, \"title\": {\"x\": 0.05}, \"xaxis\": {\"automargin\": true, \"gridcolor\": \"white\", \"linecolor\": \"white\", \"ticks\": \"\", \"title\": {\"standoff\": 15}, \"zerolinecolor\": \"white\", \"zerolinewidth\": 2}, \"yaxis\": {\"automargin\": true, \"gridcolor\": \"white\", \"linecolor\": \"white\", \"ticks\": \"\", \"title\": {\"standoff\": 15}, \"zerolinecolor\": \"white\", \"zerolinewidth\": 2}}}, \"title\": {\"font\": {\"color\": \"#4D5663\"}, \"text\": \"Veneto - totale_casi\"}, \"xaxis\": {\"gridcolor\": \"#E1E5ED\", \"showgrid\": true, \"tickfont\": {\"color\": \"#4D5663\"}, \"title\": {\"font\": {\"color\": \"#4D5663\"}, \"text\": \"\"}, \"zerolinecolor\": \"#E1E5ED\"}, \"yaxis\": {\"gridcolor\": \"#E1E5ED\", \"showgrid\": true, \"tickfont\": {\"color\": \"#4D5663\"}, \"title\": {\"font\": {\"color\": \"#4D5663\"}, \"text\": \"case\"}, \"zerolinecolor\": \"#E1E5ED\"}},\n                        {\"responsive\": true}\n                    ).then(function(){\n                            \nvar gd = document.getElementById('62815a35-2f0c-4454-b6cc-2f60a2369301');\nvar x = new MutationObserver(function (mutations, observer) {{\n        var display = window.getComputedStyle(gd).display;\n        if (!display || display === 'none') {{\n            console.log([gd, 'removed!']);\n            Plotly.purge(gd);\n            observer.disconnect();\n        }}\n}});\n\n// Listen for the removal of the full notebook cells\nvar notebookContainer = gd.closest('#notebook-container');\nif (notebookContainer) {{\n    x.observe(notebookContainer, {childList: true});\n}}\n\n// Listen for the clearing of the current output cell\nvar outputEl = gd.closest('.output');\nif (outputEl) {{\n    x.observe(outputEl, {childList: true});\n}}\n\n                        })\n                };\n                });\n            </script>\n        </div>"
     },
     "metadata": {},
     "output_type": "display_data"
    }
   ],
   "source": [
    "category = 'totale_casi'\n",
    "total_cases = io.italy_regions_filter_by_category(regions, category)\n",
    "\n",
    "mpl.iplot_analysis_plot(total_cases, title=region+' - '+category, log_fitting=False)"
   ],
   "metadata": {
    "collapsed": false,
    "pycharm": {
     "name": "#%%\n",
     "is_executing": false
    }
   }
  },
  {
   "cell_type": "code",
   "execution_count": 3,
   "outputs": [
    {
     "name": "stdout",
     "text": [
      "[0.65       0.36809339 1.        ]\n",
      "`gtol` termination condition is satisfied.\n",
      "Function evaluations 14, initial cost 1.1448e+01, final cost 9.4056e-04, first-order optimality 1.58e-09.\n",
      "            Exponential model\n",
      "            x0 = 44.17148420910984\n",
      "            y0 = -7.086939626422067\n",
      "            k = 0.1364929799105469\n",
      "            \n",
      "`gtol` termination condition is satisfied.\n",
      "Function evaluations 16, initial cost 2.8175e+00, final cost 7.5760e-04, first-order optimality 8.29e-09.\n",
      "        Sigmoid model\n",
      "        x0 = 93.00827862069606\n",
      "        y0 = -4.015168716585867\n",
      "        c = 1172.1954420815516\n",
      "        k = 0.15886059524226429\n",
      "        asymptot = 1168.1802733649658\n",
      "        flex = 93.00827862069606, 582.0825523241899\n",
      "        \n"
     ],
     "output_type": "stream"
    },
    {
     "data": {
      "application/vnd.plotly.v1+json": {
       "config": {
        "plotlyServerURL": "https://plot.ly"
       },
       "data": [
        {
         "line": {
          "color": "rgba(255, 153, 51, 1.0)",
          "dash": "solid",
          "shape": "linear",
          "width": 1.3
         },
         "marker": {
          "size": 4,
          "symbol": "circle"
         },
         "mode": "lines+markers",
         "name": "exp",
         "text": "",
         "type": "scatter",
         "x": [
          "20 Feb",
          "21 Feb",
          "22 Feb",
          "23 Feb",
          "24 Feb",
          "25 Feb",
          "26 Feb",
          "27 Feb",
          "28 Feb",
          "29 Feb",
          "01 Mar",
          "02 Mar",
          "03 Mar",
          "04 Mar",
          "05 Mar",
          "06 Mar",
          "07 Mar",
          "08 Mar",
          "09 Mar",
          "10 Mar",
          "11 Mar",
          "12 Mar",
          "13 Mar",
          "14 Mar",
          "15 Mar",
          "16 Mar",
          "17 Mar",
          "18 Mar",
          "19 Mar",
          "20 Mar",
          "21 Mar",
          "22 Mar",
          "23 Mar",
          "24 Mar",
          "25 Mar",
          "26 Mar",
          "27 Mar",
          "28 Mar",
          "29 Mar",
          "30 Mar",
          "31 Mar",
          "01 Apr",
          "02 Apr",
          "03 Apr",
          "04 Apr",
          "05 Apr",
          "06 Apr",
          "07 Apr",
          "08 Apr",
          "09 Apr",
          "10 Apr",
          "11 Apr",
          "12 Apr",
          "13 Apr"
         ],
         "y": [
          -4.547243423661433,
          -4.175820902324681,
          -3.750079014283283,
          -3.26207372429518,
          -2.7026992071388705,
          -2.061517939510641,
          -1.3265659434001984,
          -0.48412954692718646,
          0.48151050284251795,
          1.5883723497702267,
          2.857109234157326,
          4.311394867248996,
          5.978365165537852,
          7.88912458730964,
          10.079326519304106,
          12.589838543085827,
          15.467504994513527,
          18.76602104511518,
          22.546934615094365,
          26.880794812938532,
          31.848468330680788,
          37.542648357796885,
          44.06958416897797,
          51.551063658634064,
          60.126685814785716,
          69.95646553506128,
          81.22381938877895,
          94.13898803727095,
          108.94295917233516,
          125.91196417200302,
          145.36263237796368,
          167.65789916972747,
          193.21377807591313,
          222.5071232853497,
          256.08452740082794,
          294.5725204611404,
          338.68926053777443,
          389.25793404432454,
          "",
          "",
          "",
          "",
          "",
          "",
          "",
          "",
          "",
          "",
          "",
          "",
          "",
          "",
          "",
          ""
         ]
        },
        {
         "line": {
          "color": "rgba(55, 128, 191, 1.0)",
          "dash": "solid",
          "shape": "linear",
          "width": 1.3
         },
         "marker": {
          "size": 4,
          "symbol": "circle"
         },
         "mode": "lines+markers",
         "name": "sigm",
         "text": "",
         "type": "scatter",
         "x": [
          "20 Feb",
          "21 Feb",
          "22 Feb",
          "23 Feb",
          "24 Feb",
          "25 Feb",
          "26 Feb",
          "27 Feb",
          "28 Feb",
          "29 Feb",
          "01 Mar",
          "02 Mar",
          "03 Mar",
          "04 Mar",
          "05 Mar",
          "06 Mar",
          "07 Mar",
          "08 Mar",
          "09 Mar",
          "10 Mar",
          "11 Mar",
          "12 Mar",
          "13 Mar",
          "14 Mar",
          "15 Mar",
          "16 Mar",
          "17 Mar",
          "18 Mar",
          "19 Mar",
          "20 Mar",
          "21 Mar",
          "22 Mar",
          "23 Mar",
          "24 Mar",
          "25 Mar",
          "26 Mar",
          "27 Mar",
          "28 Mar",
          "29 Mar",
          "30 Mar",
          "31 Mar",
          "01 Apr",
          "02 Apr",
          "03 Apr",
          "04 Apr",
          "05 Apr",
          "06 Apr",
          "07 Apr",
          "08 Apr",
          "09 Apr",
          "10 Apr",
          "11 Apr",
          "12 Apr",
          "13 Apr"
         ],
         "y": [
          -2.535363676228205,
          -2.280955884085621,
          -1.9828862799699087,
          -1.633689895005229,
          -1.2246360204472686,
          -0.7455175313416373,
          -0.18440661577354955,
          0.4726278928130503,
          1.2418468547065142,
          2.1422165366890127,
          3.195839734145805,
          4.428448505035275,
          5.869964616894617,
          7.555133298442605,
          9.524234779849854,
          11.823876148621734,
          14.507862913776718,
          17.63814494342389,
          21.285824605855694,
          25.532205389515127,
          30.469846308887597,
          36.20357029287137,
          42.85135282997817,
          50.54498996495666,
          59.43041234424421,
          69.66747530568165,
          81.4290163120395,
          94.89893469595803,
          110.2690218148337,
          127.73426270723789,
          147.486356997362,
          169.705283464638,
          194.54887589330207,
          222.14059971447637,
          252.556020652888,
          285.8088199389883,
          321.83759085767065,
          360.49497435220854,
          401.54086034846944,
          444.6412967538043,
          489.3743390171771,
          535.2433341908708,
          581.6971501638043,
          628.1558088898115,
          674.0390911920251,
          718.795166721217,
          761.9262982268491,
          803.0091756235581,
          841.7083219559422,
          877.7820644848742,
          911.0815501730091,
          941.5440288040569,
          969.1820416815203,
          994.0702434893806
         ]
        },
        {
         "line": {
          "color": "rgba(50, 171, 96, 1.0)",
          "dash": "solid",
          "shape": "linear",
          "width": 1.3
         },
         "marker": {
          "size": 8,
          "symbol": "circle"
         },
         "mode": "markers",
         "name": "Veneto",
         "text": "",
         "type": "scatter",
         "x": [
          "20 Feb",
          "21 Feb",
          "22 Feb",
          "23 Feb",
          "24 Feb",
          "25 Feb",
          "26 Feb",
          "27 Feb",
          "28 Feb",
          "29 Feb",
          "01 Mar",
          "02 Mar",
          "03 Mar",
          "04 Mar",
          "05 Mar",
          "06 Mar",
          "07 Mar",
          "08 Mar",
          "09 Mar",
          "10 Mar",
          "11 Mar",
          "12 Mar",
          "13 Mar",
          "14 Mar",
          "15 Mar",
          "16 Mar",
          "17 Mar",
          "18 Mar",
          "19 Mar",
          "20 Mar",
          "21 Mar",
          "22 Mar",
          "23 Mar",
          "24 Mar",
          "25 Mar",
          "26 Mar",
          "27 Mar",
          "28 Mar",
          "29 Mar",
          "30 Mar",
          "31 Mar",
          "01 Apr",
          "02 Apr",
          "03 Apr",
          "04 Apr",
          "05 Apr",
          "06 Apr",
          "07 Apr",
          "08 Apr",
          "09 Apr",
          "10 Apr",
          "11 Apr",
          "12 Apr",
          "13 Apr"
         ],
         "y": [
          "",
          "",
          "",
          "",
          1.0,
          1.0,
          2.0,
          2.0,
          2.0,
          2.0,
          2.0,
          2.0,
          3.0,
          6.0,
          10.0,
          12.0,
          13.0,
          18.0,
          20.0,
          26.0,
          29.0,
          32.0,
          42.0,
          55.0,
          63.0,
          69.0,
          80.0,
          94.0,
          115.0,
          131.0,
          146.0,
          169.0,
          192.0,
          216.0,
          258.0,
          "",
          "",
          "",
          "",
          "",
          "",
          "",
          "",
          "",
          "",
          "",
          "",
          "",
          "",
          "",
          "",
          "",
          "",
          ""
         ]
        },
        {
         "marker": {
          "color": "rgba(255, 0, 0, 125)",
          "size": 8
         },
         "mode": "markers",
         "name": "flex",
         "type": "scatter",
         "x": [
          "02 Apr"
         ],
         "y": [
          582.0825523241899
         ]
        }
       ],
       "layout": {
        "legend": {
         "bgcolor": "#FFFFFF",
         "font": {
          "color": "#4D5663"
         }
        },
        "paper_bgcolor": "#FFFFFF",
        "plot_bgcolor": "#FFFFFF",
        "template": {
         "data": {
          "bar": [
           {
            "error_x": {
             "color": "#2a3f5f"
            },
            "error_y": {
             "color": "#2a3f5f"
            },
            "marker": {
             "line": {
              "color": "#E5ECF6",
              "width": 0.5
             }
            },
            "type": "bar"
           }
          ],
          "barpolar": [
           {
            "marker": {
             "line": {
              "color": "#E5ECF6",
              "width": 0.5
             }
            },
            "type": "barpolar"
           }
          ],
          "carpet": [
           {
            "aaxis": {
             "endlinecolor": "#2a3f5f",
             "gridcolor": "white",
             "linecolor": "white",
             "minorgridcolor": "white",
             "startlinecolor": "#2a3f5f"
            },
            "baxis": {
             "endlinecolor": "#2a3f5f",
             "gridcolor": "white",
             "linecolor": "white",
             "minorgridcolor": "white",
             "startlinecolor": "#2a3f5f"
            },
            "type": "carpet"
           }
          ],
          "choropleth": [
           {
            "colorbar": {
             "outlinewidth": 0,
             "ticks": ""
            },
            "type": "choropleth"
           }
          ],
          "contour": [
           {
            "colorbar": {
             "outlinewidth": 0,
             "ticks": ""
            },
            "colorscale": [
             [
              0.0,
              "#0d0887"
             ],
             [
              0.1111111111111111,
              "#46039f"
             ],
             [
              0.2222222222222222,
              "#7201a8"
             ],
             [
              0.3333333333333333,
              "#9c179e"
             ],
             [
              0.4444444444444444,
              "#bd3786"
             ],
             [
              0.5555555555555556,
              "#d8576b"
             ],
             [
              0.6666666666666666,
              "#ed7953"
             ],
             [
              0.7777777777777778,
              "#fb9f3a"
             ],
             [
              0.8888888888888888,
              "#fdca26"
             ],
             [
              1.0,
              "#f0f921"
             ]
            ],
            "type": "contour"
           }
          ],
          "contourcarpet": [
           {
            "colorbar": {
             "outlinewidth": 0,
             "ticks": ""
            },
            "type": "contourcarpet"
           }
          ],
          "heatmap": [
           {
            "colorbar": {
             "outlinewidth": 0,
             "ticks": ""
            },
            "colorscale": [
             [
              0.0,
              "#0d0887"
             ],
             [
              0.1111111111111111,
              "#46039f"
             ],
             [
              0.2222222222222222,
              "#7201a8"
             ],
             [
              0.3333333333333333,
              "#9c179e"
             ],
             [
              0.4444444444444444,
              "#bd3786"
             ],
             [
              0.5555555555555556,
              "#d8576b"
             ],
             [
              0.6666666666666666,
              "#ed7953"
             ],
             [
              0.7777777777777778,
              "#fb9f3a"
             ],
             [
              0.8888888888888888,
              "#fdca26"
             ],
             [
              1.0,
              "#f0f921"
             ]
            ],
            "type": "heatmap"
           }
          ],
          "heatmapgl": [
           {
            "colorbar": {
             "outlinewidth": 0,
             "ticks": ""
            },
            "colorscale": [
             [
              0.0,
              "#0d0887"
             ],
             [
              0.1111111111111111,
              "#46039f"
             ],
             [
              0.2222222222222222,
              "#7201a8"
             ],
             [
              0.3333333333333333,
              "#9c179e"
             ],
             [
              0.4444444444444444,
              "#bd3786"
             ],
             [
              0.5555555555555556,
              "#d8576b"
             ],
             [
              0.6666666666666666,
              "#ed7953"
             ],
             [
              0.7777777777777778,
              "#fb9f3a"
             ],
             [
              0.8888888888888888,
              "#fdca26"
             ],
             [
              1.0,
              "#f0f921"
             ]
            ],
            "type": "heatmapgl"
           }
          ],
          "histogram": [
           {
            "marker": {
             "colorbar": {
              "outlinewidth": 0,
              "ticks": ""
             }
            },
            "type": "histogram"
           }
          ],
          "histogram2d": [
           {
            "colorbar": {
             "outlinewidth": 0,
             "ticks": ""
            },
            "colorscale": [
             [
              0.0,
              "#0d0887"
             ],
             [
              0.1111111111111111,
              "#46039f"
             ],
             [
              0.2222222222222222,
              "#7201a8"
             ],
             [
              0.3333333333333333,
              "#9c179e"
             ],
             [
              0.4444444444444444,
              "#bd3786"
             ],
             [
              0.5555555555555556,
              "#d8576b"
             ],
             [
              0.6666666666666666,
              "#ed7953"
             ],
             [
              0.7777777777777778,
              "#fb9f3a"
             ],
             [
              0.8888888888888888,
              "#fdca26"
             ],
             [
              1.0,
              "#f0f921"
             ]
            ],
            "type": "histogram2d"
           }
          ],
          "histogram2dcontour": [
           {
            "colorbar": {
             "outlinewidth": 0,
             "ticks": ""
            },
            "colorscale": [
             [
              0.0,
              "#0d0887"
             ],
             [
              0.1111111111111111,
              "#46039f"
             ],
             [
              0.2222222222222222,
              "#7201a8"
             ],
             [
              0.3333333333333333,
              "#9c179e"
             ],
             [
              0.4444444444444444,
              "#bd3786"
             ],
             [
              0.5555555555555556,
              "#d8576b"
             ],
             [
              0.6666666666666666,
              "#ed7953"
             ],
             [
              0.7777777777777778,
              "#fb9f3a"
             ],
             [
              0.8888888888888888,
              "#fdca26"
             ],
             [
              1.0,
              "#f0f921"
             ]
            ],
            "type": "histogram2dcontour"
           }
          ],
          "mesh3d": [
           {
            "colorbar": {
             "outlinewidth": 0,
             "ticks": ""
            },
            "type": "mesh3d"
           }
          ],
          "parcoords": [
           {
            "line": {
             "colorbar": {
              "outlinewidth": 0,
              "ticks": ""
             }
            },
            "type": "parcoords"
           }
          ],
          "pie": [
           {
            "automargin": true,
            "type": "pie"
           }
          ],
          "scatter": [
           {
            "marker": {
             "colorbar": {
              "outlinewidth": 0,
              "ticks": ""
             }
            },
            "type": "scatter"
           }
          ],
          "scatter3d": [
           {
            "line": {
             "colorbar": {
              "outlinewidth": 0,
              "ticks": ""
             }
            },
            "marker": {
             "colorbar": {
              "outlinewidth": 0,
              "ticks": ""
             }
            },
            "type": "scatter3d"
           }
          ],
          "scattercarpet": [
           {
            "marker": {
             "colorbar": {
              "outlinewidth": 0,
              "ticks": ""
             }
            },
            "type": "scattercarpet"
           }
          ],
          "scattergeo": [
           {
            "marker": {
             "colorbar": {
              "outlinewidth": 0,
              "ticks": ""
             }
            },
            "type": "scattergeo"
           }
          ],
          "scattergl": [
           {
            "marker": {
             "colorbar": {
              "outlinewidth": 0,
              "ticks": ""
             }
            },
            "type": "scattergl"
           }
          ],
          "scattermapbox": [
           {
            "marker": {
             "colorbar": {
              "outlinewidth": 0,
              "ticks": ""
             }
            },
            "type": "scattermapbox"
           }
          ],
          "scatterpolar": [
           {
            "marker": {
             "colorbar": {
              "outlinewidth": 0,
              "ticks": ""
             }
            },
            "type": "scatterpolar"
           }
          ],
          "scatterpolargl": [
           {
            "marker": {
             "colorbar": {
              "outlinewidth": 0,
              "ticks": ""
             }
            },
            "type": "scatterpolargl"
           }
          ],
          "scatterternary": [
           {
            "marker": {
             "colorbar": {
              "outlinewidth": 0,
              "ticks": ""
             }
            },
            "type": "scatterternary"
           }
          ],
          "surface": [
           {
            "colorbar": {
             "outlinewidth": 0,
             "ticks": ""
            },
            "colorscale": [
             [
              0.0,
              "#0d0887"
             ],
             [
              0.1111111111111111,
              "#46039f"
             ],
             [
              0.2222222222222222,
              "#7201a8"
             ],
             [
              0.3333333333333333,
              "#9c179e"
             ],
             [
              0.4444444444444444,
              "#bd3786"
             ],
             [
              0.5555555555555556,
              "#d8576b"
             ],
             [
              0.6666666666666666,
              "#ed7953"
             ],
             [
              0.7777777777777778,
              "#fb9f3a"
             ],
             [
              0.8888888888888888,
              "#fdca26"
             ],
             [
              1.0,
              "#f0f921"
             ]
            ],
            "type": "surface"
           }
          ],
          "table": [
           {
            "cells": {
             "fill": {
              "color": "#EBF0F8"
             },
             "line": {
              "color": "white"
             }
            },
            "header": {
             "fill": {
              "color": "#C8D4E3"
             },
             "line": {
              "color": "white"
             }
            },
            "type": "table"
           }
          ]
         },
         "layout": {
          "annotationdefaults": {
           "arrowcolor": "#2a3f5f",
           "arrowhead": 0,
           "arrowwidth": 1
          },
          "coloraxis": {
           "colorbar": {
            "outlinewidth": 0,
            "ticks": ""
           }
          },
          "colorscale": {
           "diverging": [
            [
             0,
             "#8e0152"
            ],
            [
             0.1,
             "#c51b7d"
            ],
            [
             0.2,
             "#de77ae"
            ],
            [
             0.3,
             "#f1b6da"
            ],
            [
             0.4,
             "#fde0ef"
            ],
            [
             0.5,
             "#f7f7f7"
            ],
            [
             0.6,
             "#e6f5d0"
            ],
            [
             0.7,
             "#b8e186"
            ],
            [
             0.8,
             "#7fbc41"
            ],
            [
             0.9,
             "#4d9221"
            ],
            [
             1,
             "#276419"
            ]
           ],
           "sequential": [
            [
             0.0,
             "#0d0887"
            ],
            [
             0.1111111111111111,
             "#46039f"
            ],
            [
             0.2222222222222222,
             "#7201a8"
            ],
            [
             0.3333333333333333,
             "#9c179e"
            ],
            [
             0.4444444444444444,
             "#bd3786"
            ],
            [
             0.5555555555555556,
             "#d8576b"
            ],
            [
             0.6666666666666666,
             "#ed7953"
            ],
            [
             0.7777777777777778,
             "#fb9f3a"
            ],
            [
             0.8888888888888888,
             "#fdca26"
            ],
            [
             1.0,
             "#f0f921"
            ]
           ],
           "sequentialminus": [
            [
             0.0,
             "#0d0887"
            ],
            [
             0.1111111111111111,
             "#46039f"
            ],
            [
             0.2222222222222222,
             "#7201a8"
            ],
            [
             0.3333333333333333,
             "#9c179e"
            ],
            [
             0.4444444444444444,
             "#bd3786"
            ],
            [
             0.5555555555555556,
             "#d8576b"
            ],
            [
             0.6666666666666666,
             "#ed7953"
            ],
            [
             0.7777777777777778,
             "#fb9f3a"
            ],
            [
             0.8888888888888888,
             "#fdca26"
            ],
            [
             1.0,
             "#f0f921"
            ]
           ]
          },
          "colorway": [
           "#636efa",
           "#EF553B",
           "#00cc96",
           "#ab63fa",
           "#FFA15A",
           "#19d3f3",
           "#FF6692",
           "#B6E880",
           "#FF97FF",
           "#FECB52"
          ],
          "font": {
           "color": "#2a3f5f"
          },
          "geo": {
           "bgcolor": "white",
           "lakecolor": "white",
           "landcolor": "#E5ECF6",
           "showlakes": true,
           "showland": true,
           "subunitcolor": "white"
          },
          "hoverlabel": {
           "align": "left"
          },
          "hovermode": "closest",
          "mapbox": {
           "style": "light"
          },
          "paper_bgcolor": "white",
          "plot_bgcolor": "#E5ECF6",
          "polar": {
           "angularaxis": {
            "gridcolor": "white",
            "linecolor": "white",
            "ticks": ""
           },
           "bgcolor": "#E5ECF6",
           "radialaxis": {
            "gridcolor": "white",
            "linecolor": "white",
            "ticks": ""
           }
          },
          "scene": {
           "xaxis": {
            "backgroundcolor": "#E5ECF6",
            "gridcolor": "white",
            "gridwidth": 2,
            "linecolor": "white",
            "showbackground": true,
            "ticks": "",
            "zerolinecolor": "white"
           },
           "yaxis": {
            "backgroundcolor": "#E5ECF6",
            "gridcolor": "white",
            "gridwidth": 2,
            "linecolor": "white",
            "showbackground": true,
            "ticks": "",
            "zerolinecolor": "white"
           },
           "zaxis": {
            "backgroundcolor": "#E5ECF6",
            "gridcolor": "white",
            "gridwidth": 2,
            "linecolor": "white",
            "showbackground": true,
            "ticks": "",
            "zerolinecolor": "white"
           }
          },
          "shapedefaults": {
           "line": {
            "color": "#2a3f5f"
           }
          },
          "ternary": {
           "aaxis": {
            "gridcolor": "white",
            "linecolor": "white",
            "ticks": ""
           },
           "baxis": {
            "gridcolor": "white",
            "linecolor": "white",
            "ticks": ""
           },
           "bgcolor": "#E5ECF6",
           "caxis": {
            "gridcolor": "white",
            "linecolor": "white",
            "ticks": ""
           }
          },
          "title": {
           "x": 0.05
          },
          "xaxis": {
           "automargin": true,
           "gridcolor": "white",
           "linecolor": "white",
           "ticks": "",
           "title": {
            "standoff": 15
           },
           "zerolinecolor": "white",
           "zerolinewidth": 2
          },
          "yaxis": {
           "automargin": true,
           "gridcolor": "white",
           "linecolor": "white",
           "ticks": "",
           "title": {
            "standoff": 15
           },
           "zerolinecolor": "white",
           "zerolinewidth": 2
          }
         }
        },
        "title": {
         "font": {
          "color": "#4D5663"
         },
         "text": "Veneto - deceduti"
        },
        "xaxis": {
         "gridcolor": "#E1E5ED",
         "showgrid": true,
         "tickfont": {
          "color": "#4D5663"
         },
         "title": {
          "font": {
           "color": "#4D5663"
          },
          "text": ""
         },
         "zerolinecolor": "#E1E5ED"
        },
        "yaxis": {
         "gridcolor": "#E1E5ED",
         "showgrid": true,
         "tickfont": {
          "color": "#4D5663"
         },
         "title": {
          "font": {
           "color": "#4D5663"
          },
          "text": "case"
         },
         "zerolinecolor": "#E1E5ED"
        }
       }
      },
      "text/html": "<div>\n        \n        \n            <div id=\"d88fe15e-3fcf-41de-8078-d61a1fabd9c5\" class=\"plotly-graph-div\" style=\"height:525px; width:100%;\"></div>\n            <script type=\"text/javascript\">\n                require([\"plotly\"], function(Plotly) {\n                    window.PLOTLYENV=window.PLOTLYENV || {};\n                    \n                if (document.getElementById(\"d88fe15e-3fcf-41de-8078-d61a1fabd9c5\")) {\n                    Plotly.newPlot(\n                        'd88fe15e-3fcf-41de-8078-d61a1fabd9c5',\n                        [{\"line\": {\"color\": \"rgba(255, 153, 51, 1.0)\", \"dash\": \"solid\", \"shape\": \"linear\", \"width\": 1.3}, \"marker\": {\"size\": 4, \"symbol\": \"circle\"}, \"mode\": \"lines+markers\", \"name\": \"exp\", \"text\": \"\", \"type\": \"scatter\", \"x\": [\"20 Feb\", \"21 Feb\", \"22 Feb\", \"23 Feb\", \"24 Feb\", \"25 Feb\", \"26 Feb\", \"27 Feb\", \"28 Feb\", \"29 Feb\", \"01 Mar\", \"02 Mar\", \"03 Mar\", \"04 Mar\", \"05 Mar\", \"06 Mar\", \"07 Mar\", \"08 Mar\", \"09 Mar\", \"10 Mar\", \"11 Mar\", \"12 Mar\", \"13 Mar\", \"14 Mar\", \"15 Mar\", \"16 Mar\", \"17 Mar\", \"18 Mar\", \"19 Mar\", \"20 Mar\", \"21 Mar\", \"22 Mar\", \"23 Mar\", \"24 Mar\", \"25 Mar\", \"26 Mar\", \"27 Mar\", \"28 Mar\", \"29 Mar\", \"30 Mar\", \"31 Mar\", \"01 Apr\", \"02 Apr\", \"03 Apr\", \"04 Apr\", \"05 Apr\", \"06 Apr\", \"07 Apr\", \"08 Apr\", \"09 Apr\", \"10 Apr\", \"11 Apr\", \"12 Apr\", \"13 Apr\"], \"y\": [-4.547243423661433, -4.175820902324681, -3.750079014283283, -3.26207372429518, -2.7026992071388705, -2.061517939510641, -1.3265659434001984, -0.48412954692718646, 0.48151050284251795, 1.5883723497702267, 2.857109234157326, 4.311394867248996, 5.978365165537852, 7.88912458730964, 10.079326519304106, 12.589838543085827, 15.467504994513527, 18.76602104511518, 22.546934615094365, 26.880794812938532, 31.848468330680788, 37.542648357796885, 44.06958416897797, 51.551063658634064, 60.126685814785716, 69.95646553506128, 81.22381938877895, 94.13898803727095, 108.94295917233516, 125.91196417200302, 145.36263237796368, 167.65789916972747, 193.21377807591313, 222.5071232853497, 256.08452740082794, 294.5725204611404, 338.68926053777443, 389.25793404432454, \"\", \"\", \"\", \"\", \"\", \"\", \"\", \"\", \"\", \"\", \"\", \"\", \"\", \"\", \"\", \"\"]}, {\"line\": {\"color\": \"rgba(55, 128, 191, 1.0)\", \"dash\": \"solid\", \"shape\": \"linear\", \"width\": 1.3}, \"marker\": {\"size\": 4, \"symbol\": \"circle\"}, \"mode\": \"lines+markers\", \"name\": \"sigm\", \"text\": \"\", \"type\": \"scatter\", \"x\": [\"20 Feb\", \"21 Feb\", \"22 Feb\", \"23 Feb\", \"24 Feb\", \"25 Feb\", \"26 Feb\", \"27 Feb\", \"28 Feb\", \"29 Feb\", \"01 Mar\", \"02 Mar\", \"03 Mar\", \"04 Mar\", \"05 Mar\", \"06 Mar\", \"07 Mar\", \"08 Mar\", \"09 Mar\", \"10 Mar\", \"11 Mar\", \"12 Mar\", \"13 Mar\", \"14 Mar\", \"15 Mar\", \"16 Mar\", \"17 Mar\", \"18 Mar\", \"19 Mar\", \"20 Mar\", \"21 Mar\", \"22 Mar\", \"23 Mar\", \"24 Mar\", \"25 Mar\", \"26 Mar\", \"27 Mar\", \"28 Mar\", \"29 Mar\", \"30 Mar\", \"31 Mar\", \"01 Apr\", \"02 Apr\", \"03 Apr\", \"04 Apr\", \"05 Apr\", \"06 Apr\", \"07 Apr\", \"08 Apr\", \"09 Apr\", \"10 Apr\", \"11 Apr\", \"12 Apr\", \"13 Apr\"], \"y\": [-2.535363676228205, -2.280955884085621, -1.9828862799699087, -1.633689895005229, -1.2246360204472686, -0.7455175313416373, -0.18440661577354955, 0.4726278928130503, 1.2418468547065142, 2.1422165366890127, 3.195839734145805, 4.428448505035275, 5.869964616894617, 7.555133298442605, 9.524234779849854, 11.823876148621734, 14.507862913776718, 17.63814494342389, 21.285824605855694, 25.532205389515127, 30.469846308887597, 36.20357029287137, 42.85135282997817, 50.54498996495666, 59.43041234424421, 69.66747530568165, 81.4290163120395, 94.89893469595803, 110.2690218148337, 127.73426270723789, 147.486356997362, 169.705283464638, 194.54887589330207, 222.14059971447637, 252.556020652888, 285.8088199389883, 321.83759085767065, 360.49497435220854, 401.54086034846944, 444.6412967538043, 489.3743390171771, 535.2433341908708, 581.6971501638043, 628.1558088898115, 674.0390911920251, 718.795166721217, 761.9262982268491, 803.0091756235581, 841.7083219559422, 877.7820644848742, 911.0815501730091, 941.5440288040569, 969.1820416815203, 994.0702434893806]}, {\"line\": {\"color\": \"rgba(50, 171, 96, 1.0)\", \"dash\": \"solid\", \"shape\": \"linear\", \"width\": 1.3}, \"marker\": {\"size\": 8, \"symbol\": \"circle\"}, \"mode\": \"markers\", \"name\": \"Veneto\", \"text\": \"\", \"type\": \"scatter\", \"x\": [\"20 Feb\", \"21 Feb\", \"22 Feb\", \"23 Feb\", \"24 Feb\", \"25 Feb\", \"26 Feb\", \"27 Feb\", \"28 Feb\", \"29 Feb\", \"01 Mar\", \"02 Mar\", \"03 Mar\", \"04 Mar\", \"05 Mar\", \"06 Mar\", \"07 Mar\", \"08 Mar\", \"09 Mar\", \"10 Mar\", \"11 Mar\", \"12 Mar\", \"13 Mar\", \"14 Mar\", \"15 Mar\", \"16 Mar\", \"17 Mar\", \"18 Mar\", \"19 Mar\", \"20 Mar\", \"21 Mar\", \"22 Mar\", \"23 Mar\", \"24 Mar\", \"25 Mar\", \"26 Mar\", \"27 Mar\", \"28 Mar\", \"29 Mar\", \"30 Mar\", \"31 Mar\", \"01 Apr\", \"02 Apr\", \"03 Apr\", \"04 Apr\", \"05 Apr\", \"06 Apr\", \"07 Apr\", \"08 Apr\", \"09 Apr\", \"10 Apr\", \"11 Apr\", \"12 Apr\", \"13 Apr\"], \"y\": [\"\", \"\", \"\", \"\", 1.0, 1.0, 2.0, 2.0, 2.0, 2.0, 2.0, 2.0, 3.0, 6.0, 10.0, 12.0, 13.0, 18.0, 20.0, 26.0, 29.0, 32.0, 42.0, 55.0, 63.0, 69.0, 80.0, 94.0, 115.0, 131.0, 146.0, 169.0, 192.0, 216.0, 258.0, \"\", \"\", \"\", \"\", \"\", \"\", \"\", \"\", \"\", \"\", \"\", \"\", \"\", \"\", \"\", \"\", \"\", \"\", \"\"]}, {\"marker\": {\"color\": \"rgba(255, 0, 0, 125)\", \"size\": 8}, \"mode\": \"markers\", \"name\": \"flex\", \"type\": \"scatter\", \"x\": [\"02 Apr\"], \"y\": [582.0825523241899]}],\n                        {\"legend\": {\"bgcolor\": \"#FFFFFF\", \"font\": {\"color\": \"#4D5663\"}}, \"paper_bgcolor\": \"#FFFFFF\", \"plot_bgcolor\": \"#FFFFFF\", \"template\": {\"data\": {\"bar\": [{\"error_x\": {\"color\": \"#2a3f5f\"}, \"error_y\": {\"color\": \"#2a3f5f\"}, \"marker\": {\"line\": {\"color\": \"#E5ECF6\", \"width\": 0.5}}, \"type\": \"bar\"}], \"barpolar\": [{\"marker\": {\"line\": {\"color\": \"#E5ECF6\", \"width\": 0.5}}, \"type\": \"barpolar\"}], \"carpet\": [{\"aaxis\": {\"endlinecolor\": \"#2a3f5f\", \"gridcolor\": \"white\", \"linecolor\": \"white\", \"minorgridcolor\": \"white\", \"startlinecolor\": \"#2a3f5f\"}, \"baxis\": {\"endlinecolor\": \"#2a3f5f\", \"gridcolor\": \"white\", \"linecolor\": \"white\", \"minorgridcolor\": \"white\", \"startlinecolor\": \"#2a3f5f\"}, \"type\": \"carpet\"}], \"choropleth\": [{\"colorbar\": {\"outlinewidth\": 0, \"ticks\": \"\"}, \"type\": \"choropleth\"}], \"contour\": [{\"colorbar\": {\"outlinewidth\": 0, \"ticks\": \"\"}, \"colorscale\": [[0.0, \"#0d0887\"], [0.1111111111111111, \"#46039f\"], [0.2222222222222222, \"#7201a8\"], [0.3333333333333333, \"#9c179e\"], [0.4444444444444444, \"#bd3786\"], [0.5555555555555556, \"#d8576b\"], [0.6666666666666666, \"#ed7953\"], [0.7777777777777778, \"#fb9f3a\"], [0.8888888888888888, \"#fdca26\"], [1.0, \"#f0f921\"]], \"type\": \"contour\"}], \"contourcarpet\": [{\"colorbar\": {\"outlinewidth\": 0, \"ticks\": \"\"}, \"type\": \"contourcarpet\"}], \"heatmap\": [{\"colorbar\": {\"outlinewidth\": 0, \"ticks\": \"\"}, \"colorscale\": [[0.0, \"#0d0887\"], [0.1111111111111111, \"#46039f\"], [0.2222222222222222, \"#7201a8\"], [0.3333333333333333, \"#9c179e\"], [0.4444444444444444, \"#bd3786\"], [0.5555555555555556, \"#d8576b\"], [0.6666666666666666, \"#ed7953\"], [0.7777777777777778, \"#fb9f3a\"], [0.8888888888888888, \"#fdca26\"], [1.0, \"#f0f921\"]], \"type\": \"heatmap\"}], \"heatmapgl\": [{\"colorbar\": {\"outlinewidth\": 0, \"ticks\": \"\"}, \"colorscale\": [[0.0, \"#0d0887\"], [0.1111111111111111, \"#46039f\"], [0.2222222222222222, \"#7201a8\"], [0.3333333333333333, \"#9c179e\"], [0.4444444444444444, \"#bd3786\"], [0.5555555555555556, \"#d8576b\"], [0.6666666666666666, \"#ed7953\"], [0.7777777777777778, \"#fb9f3a\"], [0.8888888888888888, \"#fdca26\"], [1.0, \"#f0f921\"]], \"type\": \"heatmapgl\"}], \"histogram\": [{\"marker\": {\"colorbar\": {\"outlinewidth\": 0, \"ticks\": \"\"}}, \"type\": \"histogram\"}], \"histogram2d\": [{\"colorbar\": {\"outlinewidth\": 0, \"ticks\": \"\"}, \"colorscale\": [[0.0, \"#0d0887\"], [0.1111111111111111, \"#46039f\"], [0.2222222222222222, \"#7201a8\"], [0.3333333333333333, \"#9c179e\"], [0.4444444444444444, \"#bd3786\"], [0.5555555555555556, \"#d8576b\"], [0.6666666666666666, \"#ed7953\"], [0.7777777777777778, \"#fb9f3a\"], [0.8888888888888888, \"#fdca26\"], [1.0, \"#f0f921\"]], \"type\": \"histogram2d\"}], \"histogram2dcontour\": [{\"colorbar\": {\"outlinewidth\": 0, \"ticks\": \"\"}, \"colorscale\": [[0.0, \"#0d0887\"], [0.1111111111111111, \"#46039f\"], [0.2222222222222222, \"#7201a8\"], [0.3333333333333333, \"#9c179e\"], [0.4444444444444444, \"#bd3786\"], [0.5555555555555556, \"#d8576b\"], [0.6666666666666666, \"#ed7953\"], [0.7777777777777778, \"#fb9f3a\"], [0.8888888888888888, \"#fdca26\"], [1.0, \"#f0f921\"]], \"type\": \"histogram2dcontour\"}], \"mesh3d\": [{\"colorbar\": {\"outlinewidth\": 0, \"ticks\": \"\"}, \"type\": \"mesh3d\"}], \"parcoords\": [{\"line\": {\"colorbar\": {\"outlinewidth\": 0, \"ticks\": \"\"}}, \"type\": \"parcoords\"}], \"pie\": [{\"automargin\": true, \"type\": \"pie\"}], \"scatter\": [{\"marker\": {\"colorbar\": {\"outlinewidth\": 0, \"ticks\": \"\"}}, \"type\": \"scatter\"}], \"scatter3d\": [{\"line\": {\"colorbar\": {\"outlinewidth\": 0, \"ticks\": \"\"}}, \"marker\": {\"colorbar\": {\"outlinewidth\": 0, \"ticks\": \"\"}}, \"type\": \"scatter3d\"}], \"scattercarpet\": [{\"marker\": {\"colorbar\": {\"outlinewidth\": 0, \"ticks\": \"\"}}, \"type\": \"scattercarpet\"}], \"scattergeo\": [{\"marker\": {\"colorbar\": {\"outlinewidth\": 0, \"ticks\": \"\"}}, \"type\": \"scattergeo\"}], \"scattergl\": [{\"marker\": {\"colorbar\": {\"outlinewidth\": 0, \"ticks\": \"\"}}, \"type\": \"scattergl\"}], \"scattermapbox\": [{\"marker\": {\"colorbar\": {\"outlinewidth\": 0, \"ticks\": \"\"}}, \"type\": \"scattermapbox\"}], \"scatterpolar\": [{\"marker\": {\"colorbar\": {\"outlinewidth\": 0, \"ticks\": \"\"}}, \"type\": \"scatterpolar\"}], \"scatterpolargl\": [{\"marker\": {\"colorbar\": {\"outlinewidth\": 0, \"ticks\": \"\"}}, \"type\": \"scatterpolargl\"}], \"scatterternary\": [{\"marker\": {\"colorbar\": {\"outlinewidth\": 0, \"ticks\": \"\"}}, \"type\": \"scatterternary\"}], \"surface\": [{\"colorbar\": {\"outlinewidth\": 0, \"ticks\": \"\"}, \"colorscale\": [[0.0, \"#0d0887\"], [0.1111111111111111, \"#46039f\"], [0.2222222222222222, \"#7201a8\"], [0.3333333333333333, \"#9c179e\"], [0.4444444444444444, \"#bd3786\"], [0.5555555555555556, \"#d8576b\"], [0.6666666666666666, \"#ed7953\"], [0.7777777777777778, \"#fb9f3a\"], [0.8888888888888888, \"#fdca26\"], [1.0, \"#f0f921\"]], \"type\": \"surface\"}], \"table\": [{\"cells\": {\"fill\": {\"color\": \"#EBF0F8\"}, \"line\": {\"color\": \"white\"}}, \"header\": {\"fill\": {\"color\": \"#C8D4E3\"}, \"line\": {\"color\": \"white\"}}, \"type\": \"table\"}]}, \"layout\": {\"annotationdefaults\": {\"arrowcolor\": \"#2a3f5f\", \"arrowhead\": 0, \"arrowwidth\": 1}, \"coloraxis\": {\"colorbar\": {\"outlinewidth\": 0, \"ticks\": \"\"}}, \"colorscale\": {\"diverging\": [[0, \"#8e0152\"], [0.1, \"#c51b7d\"], [0.2, \"#de77ae\"], [0.3, \"#f1b6da\"], [0.4, \"#fde0ef\"], [0.5, \"#f7f7f7\"], [0.6, \"#e6f5d0\"], [0.7, \"#b8e186\"], [0.8, \"#7fbc41\"], [0.9, \"#4d9221\"], [1, \"#276419\"]], \"sequential\": [[0.0, \"#0d0887\"], [0.1111111111111111, \"#46039f\"], [0.2222222222222222, \"#7201a8\"], [0.3333333333333333, \"#9c179e\"], [0.4444444444444444, \"#bd3786\"], [0.5555555555555556, \"#d8576b\"], [0.6666666666666666, \"#ed7953\"], [0.7777777777777778, \"#fb9f3a\"], [0.8888888888888888, \"#fdca26\"], [1.0, \"#f0f921\"]], \"sequentialminus\": [[0.0, \"#0d0887\"], [0.1111111111111111, \"#46039f\"], [0.2222222222222222, \"#7201a8\"], [0.3333333333333333, \"#9c179e\"], [0.4444444444444444, \"#bd3786\"], [0.5555555555555556, \"#d8576b\"], [0.6666666666666666, \"#ed7953\"], [0.7777777777777778, \"#fb9f3a\"], [0.8888888888888888, \"#fdca26\"], [1.0, \"#f0f921\"]]}, \"colorway\": [\"#636efa\", \"#EF553B\", \"#00cc96\", \"#ab63fa\", \"#FFA15A\", \"#19d3f3\", \"#FF6692\", \"#B6E880\", \"#FF97FF\", \"#FECB52\"], \"font\": {\"color\": \"#2a3f5f\"}, \"geo\": {\"bgcolor\": \"white\", \"lakecolor\": \"white\", \"landcolor\": \"#E5ECF6\", \"showlakes\": true, \"showland\": true, \"subunitcolor\": \"white\"}, \"hoverlabel\": {\"align\": \"left\"}, \"hovermode\": \"closest\", \"mapbox\": {\"style\": \"light\"}, \"paper_bgcolor\": \"white\", \"plot_bgcolor\": \"#E5ECF6\", \"polar\": {\"angularaxis\": {\"gridcolor\": \"white\", \"linecolor\": \"white\", \"ticks\": \"\"}, \"bgcolor\": \"#E5ECF6\", \"radialaxis\": {\"gridcolor\": \"white\", \"linecolor\": \"white\", \"ticks\": \"\"}}, \"scene\": {\"xaxis\": {\"backgroundcolor\": \"#E5ECF6\", \"gridcolor\": \"white\", \"gridwidth\": 2, \"linecolor\": \"white\", \"showbackground\": true, \"ticks\": \"\", \"zerolinecolor\": \"white\"}, \"yaxis\": {\"backgroundcolor\": \"#E5ECF6\", \"gridcolor\": \"white\", \"gridwidth\": 2, \"linecolor\": \"white\", \"showbackground\": true, \"ticks\": \"\", \"zerolinecolor\": \"white\"}, \"zaxis\": {\"backgroundcolor\": \"#E5ECF6\", \"gridcolor\": \"white\", \"gridwidth\": 2, \"linecolor\": \"white\", \"showbackground\": true, \"ticks\": \"\", \"zerolinecolor\": \"white\"}}, \"shapedefaults\": {\"line\": {\"color\": \"#2a3f5f\"}}, \"ternary\": {\"aaxis\": {\"gridcolor\": \"white\", \"linecolor\": \"white\", \"ticks\": \"\"}, \"baxis\": {\"gridcolor\": \"white\", \"linecolor\": \"white\", \"ticks\": \"\"}, \"bgcolor\": \"#E5ECF6\", \"caxis\": {\"gridcolor\": \"white\", \"linecolor\": \"white\", \"ticks\": \"\"}}, \"title\": {\"x\": 0.05}, \"xaxis\": {\"automargin\": true, \"gridcolor\": \"white\", \"linecolor\": \"white\", \"ticks\": \"\", \"title\": {\"standoff\": 15}, \"zerolinecolor\": \"white\", \"zerolinewidth\": 2}, \"yaxis\": {\"automargin\": true, \"gridcolor\": \"white\", \"linecolor\": \"white\", \"ticks\": \"\", \"title\": {\"standoff\": 15}, \"zerolinecolor\": \"white\", \"zerolinewidth\": 2}}}, \"title\": {\"font\": {\"color\": \"#4D5663\"}, \"text\": \"Veneto - deceduti\"}, \"xaxis\": {\"gridcolor\": \"#E1E5ED\", \"showgrid\": true, \"tickfont\": {\"color\": \"#4D5663\"}, \"title\": {\"font\": {\"color\": \"#4D5663\"}, \"text\": \"\"}, \"zerolinecolor\": \"#E1E5ED\"}, \"yaxis\": {\"gridcolor\": \"#E1E5ED\", \"showgrid\": true, \"tickfont\": {\"color\": \"#4D5663\"}, \"title\": {\"font\": {\"color\": \"#4D5663\"}, \"text\": \"case\"}, \"zerolinecolor\": \"#E1E5ED\"}},\n                        {\"responsive\": true}\n                    ).then(function(){\n                            \nvar gd = document.getElementById('d88fe15e-3fcf-41de-8078-d61a1fabd9c5');\nvar x = new MutationObserver(function (mutations, observer) {{\n        var display = window.getComputedStyle(gd).display;\n        if (!display || display === 'none') {{\n            console.log([gd, 'removed!']);\n            Plotly.purge(gd);\n            observer.disconnect();\n        }}\n}});\n\n// Listen for the removal of the full notebook cells\nvar notebookContainer = gd.closest('#notebook-container');\nif (notebookContainer) {{\n    x.observe(notebookContainer, {childList: true});\n}}\n\n// Listen for the clearing of the current output cell\nvar outputEl = gd.closest('.output');\nif (outputEl) {{\n    x.observe(outputEl, {childList: true});\n}}\n\n                        })\n                };\n                });\n            </script>\n        </div>"
     },
     "metadata": {},
     "output_type": "display_data"
    }
   ],
   "source": [
    "category = 'deceduti'\n",
    "total_cases = io.italy_regions_filter_by_category(regions, category)\n",
    "\n",
    "mpl.iplot_analysis_plot(total_cases, title=region+' - '+category, log_fitting=False)"
   ],
   "metadata": {
    "collapsed": false,
    "pycharm": {
     "name": "#%%\n",
     "is_executing": false
    }
   }
  },
  {
   "cell_type": "code",
   "execution_count": 4,
   "outputs": [
    {
     "data": {
      "application/vnd.plotly.v1+json": {
       "config": {
        "plotlyServerURL": "https://plot.ly"
       },
       "data": [
        {
         "line": {
          "color": "rgba(255, 153, 51, 1.0)",
          "dash": "solid",
          "shape": "linear",
          "width": 1.3
         },
         "marker": {
          "size": 4,
          "symbol": "circle"
         },
         "mode": "lines+markers",
         "name": "Abruzzo",
         "text": "",
         "type": "scatter",
         "x": [
          "24/02/20",
          "25/02/20",
          "26/02/20",
          "27/02/20",
          "28/02/20",
          "29/02/20",
          "01/03/20",
          "02/03/20",
          "03/03/20",
          "04/03/20",
          "05/03/20",
          "06/03/20",
          "07/03/20",
          "08/03/20",
          "09/03/20",
          "10/03/20",
          "11/03/20",
          "12/03/20",
          "13/03/20",
          "14/03/20",
          "15/03/20",
          "16/03/20",
          "17/03/20",
          "18/03/20",
          "19/03/20",
          "20/03/20",
          "21/03/20",
          "22/03/20",
          "23/03/20",
          "24/03/20",
          "25/03/20"
         ],
         "y": [
          0,
          0,
          0,
          0,
          0,
          0,
          0,
          0,
          0,
          0,
          0,
          0,
          0,
          0,
          0,
          9,
          9,
          12,
          14,
          14,
          28,
          37,
          32,
          41,
          47,
          48,
          44,
          49,
          52,
          57,
          59
         ]
        },
        {
         "line": {
          "color": "rgba(55, 128, 191, 1.0)",
          "dash": "solid",
          "shape": "linear",
          "width": 1.3
         },
         "marker": {
          "size": 4,
          "symbol": "circle"
         },
         "mode": "lines+markers",
         "name": "Basilicata",
         "text": "",
         "type": "scatter",
         "x": [
          "24/02/20",
          "25/02/20",
          "26/02/20",
          "27/02/20",
          "28/02/20",
          "29/02/20",
          "01/03/20",
          "02/03/20",
          "03/03/20",
          "04/03/20",
          "05/03/20",
          "06/03/20",
          "07/03/20",
          "08/03/20",
          "09/03/20",
          "10/03/20",
          "11/03/20",
          "12/03/20",
          "13/03/20",
          "14/03/20",
          "15/03/20",
          "16/03/20",
          "17/03/20",
          "18/03/20",
          "19/03/20",
          "20/03/20",
          "21/03/20",
          "22/03/20",
          "23/03/20",
          "24/03/20",
          "25/03/20"
         ],
         "y": [
          0,
          0,
          0,
          0,
          0,
          0,
          0,
          0,
          0,
          0,
          0,
          0,
          0,
          0,
          0,
          0,
          1,
          1,
          1,
          2,
          2,
          2,
          2,
          2,
          5,
          5,
          7,
          10,
          12,
          12,
          14
         ]
        },
        {
         "line": {
          "color": "rgba(50, 171, 96, 1.0)",
          "dash": "solid",
          "shape": "linear",
          "width": 1.3
         },
         "marker": {
          "size": 4,
          "symbol": "circle"
         },
         "mode": "lines+markers",
         "name": "P.A. Bolzano",
         "text": "",
         "type": "scatter",
         "x": [
          "24/02/20",
          "25/02/20",
          "26/02/20",
          "27/02/20",
          "28/02/20",
          "29/02/20",
          "01/03/20",
          "02/03/20",
          "03/03/20",
          "04/03/20",
          "05/03/20",
          "06/03/20",
          "07/03/20",
          "08/03/20",
          "09/03/20",
          "10/03/20",
          "11/03/20",
          "12/03/20",
          "13/03/20",
          "14/03/20",
          "15/03/20",
          "16/03/20",
          "17/03/20",
          "18/03/20",
          "19/03/20",
          "20/03/20",
          "21/03/20",
          "22/03/20",
          "23/03/20",
          "24/03/20",
          "25/03/20"
         ],
         "y": [
          0,
          0,
          0,
          0,
          0,
          0,
          0,
          0,
          0,
          0,
          0,
          0,
          0,
          0,
          0,
          1,
          4,
          4,
          5,
          7,
          4,
          11,
          11,
          18,
          18,
          24,
          30,
          32,
          33,
          38,
          40
         ]
        },
        {
         "line": {
          "color": "rgba(128, 0, 128, 1.0)",
          "dash": "solid",
          "shape": "linear",
          "width": 1.3
         },
         "marker": {
          "size": 4,
          "symbol": "circle"
         },
         "mode": "lines+markers",
         "name": "Calabria",
         "text": "",
         "type": "scatter",
         "x": [
          "24/02/20",
          "25/02/20",
          "26/02/20",
          "27/02/20",
          "28/02/20",
          "29/02/20",
          "01/03/20",
          "02/03/20",
          "03/03/20",
          "04/03/20",
          "05/03/20",
          "06/03/20",
          "07/03/20",
          "08/03/20",
          "09/03/20",
          "10/03/20",
          "11/03/20",
          "12/03/20",
          "13/03/20",
          "14/03/20",
          "15/03/20",
          "16/03/20",
          "17/03/20",
          "18/03/20",
          "19/03/20",
          "20/03/20",
          "21/03/20",
          "22/03/20",
          "23/03/20",
          "24/03/20",
          "25/03/20"
         ],
         "y": [
          0,
          0,
          0,
          0,
          0,
          0,
          0,
          0,
          0,
          0,
          0,
          0,
          0,
          0,
          0,
          2,
          2,
          2,
          3,
          4,
          6,
          7,
          10,
          11,
          13,
          16,
          16,
          17,
          20,
          21,
          23
         ]
        },
        {
         "line": {
          "color": "rgba(219, 64, 82, 1.0)",
          "dash": "solid",
          "shape": "linear",
          "width": 1.3
         },
         "marker": {
          "size": 4,
          "symbol": "circle"
         },
         "mode": "lines+markers",
         "name": "Campania",
         "text": "",
         "type": "scatter",
         "x": [
          "24/02/20",
          "25/02/20",
          "26/02/20",
          "27/02/20",
          "28/02/20",
          "29/02/20",
          "01/03/20",
          "02/03/20",
          "03/03/20",
          "04/03/20",
          "05/03/20",
          "06/03/20",
          "07/03/20",
          "08/03/20",
          "09/03/20",
          "10/03/20",
          "11/03/20",
          "12/03/20",
          "13/03/20",
          "14/03/20",
          "15/03/20",
          "16/03/20",
          "17/03/20",
          "18/03/20",
          "19/03/20",
          "20/03/20",
          "21/03/20",
          "22/03/20",
          "23/03/20",
          "24/03/20",
          "25/03/20"
         ],
         "y": [
          0,
          0,
          0,
          0,
          0,
          0,
          0,
          0,
          0,
          0,
          0,
          0,
          0,
          7,
          8,
          8,
          11,
          11,
          19,
          17,
          22,
          22,
          24,
          24,
          36,
          41,
          87,
          99,
          110,
          181,
          123
         ]
        },
        {
         "line": {
          "color": "rgba(0, 128, 128, 1.0)",
          "dash": "solid",
          "shape": "linear",
          "width": 1.3
         },
         "marker": {
          "size": 4,
          "symbol": "circle"
         },
         "mode": "lines+markers",
         "name": "Emilia Romagna",
         "text": "",
         "type": "scatter",
         "x": [
          "24/02/20",
          "25/02/20",
          "26/02/20",
          "27/02/20",
          "28/02/20",
          "29/02/20",
          "01/03/20",
          "02/03/20",
          "03/03/20",
          "04/03/20",
          "05/03/20",
          "06/03/20",
          "07/03/20",
          "08/03/20",
          "09/03/20",
          "10/03/20",
          "11/03/20",
          "12/03/20",
          "13/03/20",
          "14/03/20",
          "15/03/20",
          "16/03/20",
          "17/03/20",
          "18/03/20",
          "19/03/20",
          "20/03/20",
          "21/03/20",
          "22/03/20",
          "23/03/20",
          "24/03/20",
          "25/03/20"
         ],
         "y": [
          2,
          2,
          3,
          6,
          6,
          11,
          13,
          16,
          24,
          26,
          32,
          53,
          64,
          75,
          90,
          98,
          104,
          112,
          128,
          152,
          169,
          197,
          223,
          247,
          260,
          267,
          265,
          269,
          276,
          291,
          294
         ]
        },
        {
         "line": {
          "color": "rgba(255, 255, 51, 1.0)",
          "dash": "solid",
          "shape": "linear",
          "width": 1.3
         },
         "marker": {
          "size": 4,
          "symbol": "circle"
         },
         "mode": "lines+markers",
         "name": "Friuli Venezia Giulia",
         "text": "",
         "type": "scatter",
         "x": [
          "24/02/20",
          "25/02/20",
          "26/02/20",
          "27/02/20",
          "28/02/20",
          "29/02/20",
          "01/03/20",
          "02/03/20",
          "03/03/20",
          "04/03/20",
          "05/03/20",
          "06/03/20",
          "07/03/20",
          "08/03/20",
          "09/03/20",
          "10/03/20",
          "11/03/20",
          "12/03/20",
          "13/03/20",
          "14/03/20",
          "15/03/20",
          "16/03/20",
          "17/03/20",
          "18/03/20",
          "19/03/20",
          "20/03/20",
          "21/03/20",
          "22/03/20",
          "23/03/20",
          "24/03/20",
          "25/03/20"
         ],
         "y": [
          0,
          0,
          0,
          0,
          0,
          0,
          0,
          0,
          0,
          0,
          0,
          0,
          1,
          1,
          1,
          6,
          5,
          10,
          8,
          11,
          12,
          19,
          21,
          27,
          29,
          32,
          37,
          47,
          41,
          49,
          52
         ]
        },
        {
         "line": {
          "color": "rgba(128, 128, 0, 1.0)",
          "dash": "solid",
          "shape": "linear",
          "width": 1.3
         },
         "marker": {
          "size": 4,
          "symbol": "circle"
         },
         "mode": "lines+markers",
         "name": "Lazio",
         "text": "",
         "type": "scatter",
         "x": [
          "24/02/20",
          "25/02/20",
          "26/02/20",
          "27/02/20",
          "28/02/20",
          "29/02/20",
          "01/03/20",
          "02/03/20",
          "03/03/20",
          "04/03/20",
          "05/03/20",
          "06/03/20",
          "07/03/20",
          "08/03/20",
          "09/03/20",
          "10/03/20",
          "11/03/20",
          "12/03/20",
          "13/03/20",
          "14/03/20",
          "15/03/20",
          "16/03/20",
          "17/03/20",
          "18/03/20",
          "19/03/20",
          "20/03/20",
          "21/03/20",
          "22/03/20",
          "23/03/20",
          "24/03/20",
          "25/03/20"
         ],
         "y": [
          1,
          1,
          0,
          0,
          0,
          0,
          0,
          0,
          0,
          3,
          7,
          8,
          8,
          8,
          8,
          15,
          18,
          20,
          24,
          25,
          31,
          31,
          44,
          44,
          45,
          47,
          70,
          79,
          96,
          94,
          101
         ]
        },
        {
         "line": {
          "color": "rgba(251, 128, 114, 1.0)",
          "dash": "solid",
          "shape": "linear",
          "width": 1.3
         },
         "marker": {
          "size": 4,
          "symbol": "circle"
         },
         "mode": "lines+markers",
         "name": "Liguria",
         "text": "",
         "type": "scatter",
         "x": [
          "24/02/20",
          "25/02/20",
          "26/02/20",
          "27/02/20",
          "28/02/20",
          "29/02/20",
          "01/03/20",
          "02/03/20",
          "03/03/20",
          "04/03/20",
          "05/03/20",
          "06/03/20",
          "07/03/20",
          "08/03/20",
          "09/03/20",
          "10/03/20",
          "11/03/20",
          "12/03/20",
          "13/03/20",
          "14/03/20",
          "15/03/20",
          "16/03/20",
          "17/03/20",
          "18/03/20",
          "19/03/20",
          "20/03/20",
          "21/03/20",
          "22/03/20",
          "23/03/20",
          "24/03/20",
          "25/03/20"
         ],
         "y": [
          0,
          0,
          0,
          0,
          0,
          1,
          1,
          1,
          2,
          3,
          3,
          5,
          6,
          11,
          17,
          29,
          34,
          36,
          44,
          62,
          66,
          73,
          85,
          100,
          112,
          121,
          129,
          132,
          133,
          147,
          147
         ]
        },
        {
         "line": {
          "color": "rgba(128, 177, 211, 1.0)",
          "dash": "solid",
          "shape": "linear",
          "width": 1.3
         },
         "marker": {
          "size": 4,
          "symbol": "circle"
         },
         "mode": "lines+markers",
         "name": "Lombardia",
         "text": "",
         "type": "scatter",
         "x": [
          "24/02/20",
          "25/02/20",
          "26/02/20",
          "27/02/20",
          "28/02/20",
          "29/02/20",
          "01/03/20",
          "02/03/20",
          "03/03/20",
          "04/03/20",
          "05/03/20",
          "06/03/20",
          "07/03/20",
          "08/03/20",
          "09/03/20",
          "10/03/20",
          "11/03/20",
          "12/03/20",
          "13/03/20",
          "14/03/20",
          "15/03/20",
          "16/03/20",
          "17/03/20",
          "18/03/20",
          "19/03/20",
          "20/03/20",
          "21/03/20",
          "22/03/20",
          "23/03/20",
          "24/03/20",
          "25/03/20"
         ],
         "y": [
          19,
          25,
          25,
          41,
          47,
          80,
          106,
          127,
          167,
          209,
          244,
          309,
          359,
          399,
          440,
          466,
          560,
          605,
          650,
          732,
          767,
          823,
          879,
          924,
          1006,
          1050,
          1093,
          1142,
          1183,
          1194,
          1236
         ]
        },
        {
         "line": {
          "color": "rgba(128, 177, 211, 0.8999999999999999)",
          "dash": "solid",
          "shape": "linear",
          "width": 1.3
         },
         "marker": {
          "size": 4,
          "symbol": "circle"
         },
         "mode": "lines+markers",
         "name": "Marche",
         "text": "",
         "type": "scatter",
         "x": [
          "24/02/20",
          "25/02/20",
          "26/02/20",
          "27/02/20",
          "28/02/20",
          "29/02/20",
          "01/03/20",
          "02/03/20",
          "03/03/20",
          "04/03/20",
          "05/03/20",
          "06/03/20",
          "07/03/20",
          "08/03/20",
          "09/03/20",
          "10/03/20",
          "11/03/20",
          "12/03/20",
          "13/03/20",
          "14/03/20",
          "15/03/20",
          "16/03/20",
          "17/03/20",
          "18/03/20",
          "19/03/20",
          "20/03/20",
          "21/03/20",
          "22/03/20",
          "23/03/20",
          "24/03/20",
          "25/03/20"
         ],
         "y": [
          0,
          0,
          0,
          1,
          2,
          2,
          5,
          6,
          13,
          15,
          19,
          20,
          36,
          41,
          47,
          54,
          66,
          76,
          85,
          93,
          98,
          110,
          109,
          119,
          141,
          138,
          141,
          138,
          148,
          149,
          148
         ]
        },
        {
         "line": {
          "color": "rgba(255, 153, 51, 0.8999999999999999)",
          "dash": "solid",
          "shape": "linear",
          "width": 1.3
         },
         "marker": {
          "size": 4,
          "symbol": "circle"
         },
         "mode": "lines+markers",
         "name": "Molise",
         "text": "",
         "type": "scatter",
         "x": [
          "24/02/20",
          "25/02/20",
          "26/02/20",
          "27/02/20",
          "28/02/20",
          "29/02/20",
          "01/03/20",
          "02/03/20",
          "03/03/20",
          "04/03/20",
          "05/03/20",
          "06/03/20",
          "07/03/20",
          "08/03/20",
          "09/03/20",
          "10/03/20",
          "11/03/20",
          "12/03/20",
          "13/03/20",
          "14/03/20",
          "15/03/20",
          "16/03/20",
          "17/03/20",
          "18/03/20",
          "19/03/20",
          "20/03/20",
          "21/03/20",
          "22/03/20",
          "23/03/20",
          "24/03/20",
          "25/03/20"
         ],
         "y": [
          0,
          0,
          0,
          0,
          0,
          0,
          0,
          0,
          0,
          0,
          0,
          2,
          2,
          2,
          2,
          3,
          3,
          3,
          3,
          3,
          4,
          5,
          5,
          6,
          6,
          6,
          6,
          7,
          7,
          7,
          7
         ]
        },
        {
         "line": {
          "color": "rgba(55, 128, 191, 0.8999999999999999)",
          "dash": "solid",
          "shape": "linear",
          "width": 1.3
         },
         "marker": {
          "size": 4,
          "symbol": "circle"
         },
         "mode": "lines+markers",
         "name": "Piemonte",
         "text": "",
         "type": "scatter",
         "x": [
          "24/02/20",
          "25/02/20",
          "26/02/20",
          "27/02/20",
          "28/02/20",
          "29/02/20",
          "01/03/20",
          "02/03/20",
          "03/03/20",
          "04/03/20",
          "05/03/20",
          "06/03/20",
          "07/03/20",
          "08/03/20",
          "09/03/20",
          "10/03/20",
          "11/03/20",
          "12/03/20",
          "13/03/20",
          "14/03/20",
          "15/03/20",
          "16/03/20",
          "17/03/20",
          "18/03/20",
          "19/03/20",
          "20/03/20",
          "21/03/20",
          "22/03/20",
          "23/03/20",
          "24/03/20",
          "25/03/20"
         ],
         "y": [
          0,
          0,
          0,
          0,
          0,
          0,
          2,
          2,
          3,
          13,
          17,
          30,
          38,
          45,
          50,
          66,
          75,
          97,
          135,
          150,
          171,
          186,
          206,
          227,
          257,
          280,
          301,
          308,
          343,
          360,
          381
         ]
        },
        {
         "line": {
          "color": "rgba(50, 171, 96, 0.8999999999999999)",
          "dash": "solid",
          "shape": "linear",
          "width": 1.3
         },
         "marker": {
          "size": 4,
          "symbol": "circle"
         },
         "mode": "lines+markers",
         "name": "Puglia",
         "text": "",
         "type": "scatter",
         "x": [
          "24/02/20",
          "25/02/20",
          "26/02/20",
          "27/02/20",
          "28/02/20",
          "29/02/20",
          "01/03/20",
          "02/03/20",
          "03/03/20",
          "04/03/20",
          "05/03/20",
          "06/03/20",
          "07/03/20",
          "08/03/20",
          "09/03/20",
          "10/03/20",
          "11/03/20",
          "12/03/20",
          "13/03/20",
          "14/03/20",
          "15/03/20",
          "16/03/20",
          "17/03/20",
          "18/03/20",
          "19/03/20",
          "20/03/20",
          "21/03/20",
          "22/03/20",
          "23/03/20",
          "24/03/20",
          "25/03/20"
         ],
         "y": [
          0,
          0,
          0,
          0,
          0,
          0,
          0,
          0,
          0,
          0,
          1,
          1,
          2,
          3,
          6,
          6,
          4,
          2,
          2,
          6,
          6,
          6,
          14,
          30,
          31,
          31,
          33,
          37,
          45,
          57,
          64
         ]
        },
        {
         "line": {
          "color": "rgba(128, 0, 128, 0.8999999999999999)",
          "dash": "solid",
          "shape": "linear",
          "width": 1.3
         },
         "marker": {
          "size": 4,
          "symbol": "circle"
         },
         "mode": "lines+markers",
         "name": "Sardegna",
         "text": "",
         "type": "scatter",
         "x": [
          "24/02/20",
          "25/02/20",
          "26/02/20",
          "27/02/20",
          "28/02/20",
          "29/02/20",
          "01/03/20",
          "02/03/20",
          "03/03/20",
          "04/03/20",
          "05/03/20",
          "06/03/20",
          "07/03/20",
          "08/03/20",
          "09/03/20",
          "10/03/20",
          "11/03/20",
          "12/03/20",
          "13/03/20",
          "14/03/20",
          "15/03/20",
          "16/03/20",
          "17/03/20",
          "18/03/20",
          "19/03/20",
          "20/03/20",
          "21/03/20",
          "22/03/20",
          "23/03/20",
          "24/03/20",
          "25/03/20"
         ],
         "y": [
          0,
          0,
          0,
          0,
          0,
          0,
          0,
          0,
          0,
          0,
          0,
          0,
          0,
          0,
          0,
          0,
          0,
          0,
          0,
          0,
          0,
          0,
          4,
          7,
          9,
          15,
          16,
          16,
          18,
          19,
          19
         ]
        },
        {
         "line": {
          "color": "rgba(219, 64, 82, 0.8999999999999999)",
          "dash": "solid",
          "shape": "linear",
          "width": 1.3
         },
         "marker": {
          "size": 4,
          "symbol": "circle"
         },
         "mode": "lines+markers",
         "name": "Sicilia",
         "text": "",
         "type": "scatter",
         "x": [
          "24/02/20",
          "25/02/20",
          "26/02/20",
          "27/02/20",
          "28/02/20",
          "29/02/20",
          "01/03/20",
          "02/03/20",
          "03/03/20",
          "04/03/20",
          "05/03/20",
          "06/03/20",
          "07/03/20",
          "08/03/20",
          "09/03/20",
          "10/03/20",
          "11/03/20",
          "12/03/20",
          "13/03/20",
          "14/03/20",
          "15/03/20",
          "16/03/20",
          "17/03/20",
          "18/03/20",
          "19/03/20",
          "20/03/20",
          "21/03/20",
          "22/03/20",
          "23/03/20",
          "24/03/20",
          "25/03/20"
         ],
         "y": [
          0,
          0,
          0,
          0,
          0,
          0,
          0,
          0,
          0,
          0,
          0,
          0,
          0,
          0,
          0,
          2,
          1,
          5,
          7,
          11,
          15,
          20,
          28,
          29,
          36,
          42,
          48,
          55,
          60,
          60,
          80
         ]
        },
        {
         "line": {
          "color": "rgba(0, 128, 128, 0.8999999999999999)",
          "dash": "solid",
          "shape": "linear",
          "width": 1.3
         },
         "marker": {
          "size": 4,
          "symbol": "circle"
         },
         "mode": "lines+markers",
         "name": "Toscana",
         "text": "",
         "type": "scatter",
         "x": [
          "24/02/20",
          "25/02/20",
          "26/02/20",
          "27/02/20",
          "28/02/20",
          "29/02/20",
          "01/03/20",
          "02/03/20",
          "03/03/20",
          "04/03/20",
          "05/03/20",
          "06/03/20",
          "07/03/20",
          "08/03/20",
          "09/03/20",
          "10/03/20",
          "11/03/20",
          "12/03/20",
          "13/03/20",
          "14/03/20",
          "15/03/20",
          "16/03/20",
          "17/03/20",
          "18/03/20",
          "19/03/20",
          "20/03/20",
          "21/03/20",
          "22/03/20",
          "23/03/20",
          "24/03/20",
          "25/03/20"
         ],
         "y": [
          0,
          0,
          0,
          0,
          0,
          0,
          0,
          0,
          0,
          2,
          3,
          5,
          7,
          7,
          9,
          40,
          54,
          59,
          77,
          87,
          107,
          107,
          143,
          160,
          178,
          189,
          202,
          215,
          238,
          244,
          251
         ]
        },
        {
         "line": {
          "color": "rgba(255, 255, 51, 0.8999999999999999)",
          "dash": "solid",
          "shape": "linear",
          "width": 1.3
         },
         "marker": {
          "size": 4,
          "symbol": "circle"
         },
         "mode": "lines+markers",
         "name": "P.A. Trento",
         "text": "",
         "type": "scatter",
         "x": [
          "24/02/20",
          "25/02/20",
          "26/02/20",
          "27/02/20",
          "28/02/20",
          "29/02/20",
          "01/03/20",
          "02/03/20",
          "03/03/20",
          "04/03/20",
          "05/03/20",
          "06/03/20",
          "07/03/20",
          "08/03/20",
          "09/03/20",
          "10/03/20",
          "11/03/20",
          "12/03/20",
          "13/03/20",
          "14/03/20",
          "15/03/20",
          "16/03/20",
          "17/03/20",
          "18/03/20",
          "19/03/20",
          "20/03/20",
          "21/03/20",
          "22/03/20",
          "23/03/20",
          "24/03/20",
          "25/03/20"
         ],
         "y": [
          0,
          0,
          0,
          0,
          0,
          0,
          0,
          0,
          0,
          0,
          0,
          0,
          1,
          2,
          2,
          3,
          4,
          5,
          6,
          12,
          19,
          19,
          22,
          22,
          30,
          34,
          39,
          46,
          46,
          49,
          65
         ]
        },
        {
         "line": {
          "color": "rgba(128, 128, 0, 0.8999999999999999)",
          "dash": "solid",
          "shape": "linear",
          "width": 1.3
         },
         "marker": {
          "size": 4,
          "symbol": "circle"
         },
         "mode": "lines+markers",
         "name": "Umbria",
         "text": "",
         "type": "scatter",
         "x": [
          "24/02/20",
          "25/02/20",
          "26/02/20",
          "27/02/20",
          "28/02/20",
          "29/02/20",
          "01/03/20",
          "02/03/20",
          "03/03/20",
          "04/03/20",
          "05/03/20",
          "06/03/20",
          "07/03/20",
          "08/03/20",
          "09/03/20",
          "10/03/20",
          "11/03/20",
          "12/03/20",
          "13/03/20",
          "14/03/20",
          "15/03/20",
          "16/03/20",
          "17/03/20",
          "18/03/20",
          "19/03/20",
          "20/03/20",
          "21/03/20",
          "22/03/20",
          "23/03/20",
          "24/03/20",
          "25/03/20"
         ],
         "y": [
          0,
          0,
          0,
          0,
          0,
          0,
          0,
          0,
          1,
          1,
          1,
          2,
          2,
          2,
          2,
          2,
          5,
          8,
          10,
          11,
          13,
          15,
          21,
          21,
          21,
          24,
          29,
          35,
          42,
          43,
          44
         ]
        },
        {
         "line": {
          "color": "rgba(251, 128, 114, 0.8999999999999999)",
          "dash": "solid",
          "shape": "linear",
          "width": 1.3
         },
         "marker": {
          "size": 4,
          "symbol": "circle"
         },
         "mode": "lines+markers",
         "name": "Valle d'Aosta",
         "text": "",
         "type": "scatter",
         "x": [
          "24/02/20",
          "25/02/20",
          "26/02/20",
          "27/02/20",
          "28/02/20",
          "29/02/20",
          "01/03/20",
          "02/03/20",
          "03/03/20",
          "04/03/20",
          "05/03/20",
          "06/03/20",
          "07/03/20",
          "08/03/20",
          "09/03/20",
          "10/03/20",
          "11/03/20",
          "12/03/20",
          "13/03/20",
          "14/03/20",
          "15/03/20",
          "16/03/20",
          "17/03/20",
          "18/03/20",
          "19/03/20",
          "20/03/20",
          "21/03/20",
          "22/03/20",
          "23/03/20",
          "24/03/20",
          "25/03/20"
         ],
         "y": [
          0,
          0,
          0,
          0,
          0,
          0,
          0,
          0,
          0,
          0,
          0,
          0,
          0,
          0,
          0,
          0,
          0,
          0,
          0,
          0,
          3,
          5,
          6,
          3,
          9,
          9,
          15,
          21,
          20,
          20,
          25
         ]
        },
        {
         "line": {
          "color": "rgba(251, 128, 114, 0.7999999999999998)",
          "dash": "solid",
          "shape": "linear",
          "width": 1.3
         },
         "marker": {
          "size": 4,
          "symbol": "circle"
         },
         "mode": "lines+markers",
         "name": "Veneto",
         "text": "",
         "type": "scatter",
         "x": [
          "24/02/20",
          "25/02/20",
          "26/02/20",
          "27/02/20",
          "28/02/20",
          "29/02/20",
          "01/03/20",
          "02/03/20",
          "03/03/20",
          "04/03/20",
          "05/03/20",
          "06/03/20",
          "07/03/20",
          "08/03/20",
          "09/03/20",
          "10/03/20",
          "11/03/20",
          "12/03/20",
          "13/03/20",
          "14/03/20",
          "15/03/20",
          "16/03/20",
          "17/03/20",
          "18/03/20",
          "19/03/20",
          "20/03/20",
          "21/03/20",
          "22/03/20",
          "23/03/20",
          "24/03/20",
          "25/03/20"
         ],
         "y": [
          4,
          7,
          8,
          8,
          9,
          11,
          13,
          14,
          19,
          23,
          24,
          27,
          41,
          47,
          51,
          67,
          68,
          85,
          107,
          119,
          129,
          156,
          171,
          195,
          209,
          236,
          249,
          255,
          281,
          304,
          316
         ]
        }
       ],
       "layout": {
        "legend": {
         "bgcolor": "#FFFFFF",
         "font": {
          "color": "#4D5663"
         }
        },
        "paper_bgcolor": "#FFFFFF",
        "plot_bgcolor": "#FFFFFF",
        "template": {
         "data": {
          "bar": [
           {
            "error_x": {
             "color": "#2a3f5f"
            },
            "error_y": {
             "color": "#2a3f5f"
            },
            "marker": {
             "line": {
              "color": "#E5ECF6",
              "width": 0.5
             }
            },
            "type": "bar"
           }
          ],
          "barpolar": [
           {
            "marker": {
             "line": {
              "color": "#E5ECF6",
              "width": 0.5
             }
            },
            "type": "barpolar"
           }
          ],
          "carpet": [
           {
            "aaxis": {
             "endlinecolor": "#2a3f5f",
             "gridcolor": "white",
             "linecolor": "white",
             "minorgridcolor": "white",
             "startlinecolor": "#2a3f5f"
            },
            "baxis": {
             "endlinecolor": "#2a3f5f",
             "gridcolor": "white",
             "linecolor": "white",
             "minorgridcolor": "white",
             "startlinecolor": "#2a3f5f"
            },
            "type": "carpet"
           }
          ],
          "choropleth": [
           {
            "colorbar": {
             "outlinewidth": 0,
             "ticks": ""
            },
            "type": "choropleth"
           }
          ],
          "contour": [
           {
            "colorbar": {
             "outlinewidth": 0,
             "ticks": ""
            },
            "colorscale": [
             [
              0.0,
              "#0d0887"
             ],
             [
              0.1111111111111111,
              "#46039f"
             ],
             [
              0.2222222222222222,
              "#7201a8"
             ],
             [
              0.3333333333333333,
              "#9c179e"
             ],
             [
              0.4444444444444444,
              "#bd3786"
             ],
             [
              0.5555555555555556,
              "#d8576b"
             ],
             [
              0.6666666666666666,
              "#ed7953"
             ],
             [
              0.7777777777777778,
              "#fb9f3a"
             ],
             [
              0.8888888888888888,
              "#fdca26"
             ],
             [
              1.0,
              "#f0f921"
             ]
            ],
            "type": "contour"
           }
          ],
          "contourcarpet": [
           {
            "colorbar": {
             "outlinewidth": 0,
             "ticks": ""
            },
            "type": "contourcarpet"
           }
          ],
          "heatmap": [
           {
            "colorbar": {
             "outlinewidth": 0,
             "ticks": ""
            },
            "colorscale": [
             [
              0.0,
              "#0d0887"
             ],
             [
              0.1111111111111111,
              "#46039f"
             ],
             [
              0.2222222222222222,
              "#7201a8"
             ],
             [
              0.3333333333333333,
              "#9c179e"
             ],
             [
              0.4444444444444444,
              "#bd3786"
             ],
             [
              0.5555555555555556,
              "#d8576b"
             ],
             [
              0.6666666666666666,
              "#ed7953"
             ],
             [
              0.7777777777777778,
              "#fb9f3a"
             ],
             [
              0.8888888888888888,
              "#fdca26"
             ],
             [
              1.0,
              "#f0f921"
             ]
            ],
            "type": "heatmap"
           }
          ],
          "heatmapgl": [
           {
            "colorbar": {
             "outlinewidth": 0,
             "ticks": ""
            },
            "colorscale": [
             [
              0.0,
              "#0d0887"
             ],
             [
              0.1111111111111111,
              "#46039f"
             ],
             [
              0.2222222222222222,
              "#7201a8"
             ],
             [
              0.3333333333333333,
              "#9c179e"
             ],
             [
              0.4444444444444444,
              "#bd3786"
             ],
             [
              0.5555555555555556,
              "#d8576b"
             ],
             [
              0.6666666666666666,
              "#ed7953"
             ],
             [
              0.7777777777777778,
              "#fb9f3a"
             ],
             [
              0.8888888888888888,
              "#fdca26"
             ],
             [
              1.0,
              "#f0f921"
             ]
            ],
            "type": "heatmapgl"
           }
          ],
          "histogram": [
           {
            "marker": {
             "colorbar": {
              "outlinewidth": 0,
              "ticks": ""
             }
            },
            "type": "histogram"
           }
          ],
          "histogram2d": [
           {
            "colorbar": {
             "outlinewidth": 0,
             "ticks": ""
            },
            "colorscale": [
             [
              0.0,
              "#0d0887"
             ],
             [
              0.1111111111111111,
              "#46039f"
             ],
             [
              0.2222222222222222,
              "#7201a8"
             ],
             [
              0.3333333333333333,
              "#9c179e"
             ],
             [
              0.4444444444444444,
              "#bd3786"
             ],
             [
              0.5555555555555556,
              "#d8576b"
             ],
             [
              0.6666666666666666,
              "#ed7953"
             ],
             [
              0.7777777777777778,
              "#fb9f3a"
             ],
             [
              0.8888888888888888,
              "#fdca26"
             ],
             [
              1.0,
              "#f0f921"
             ]
            ],
            "type": "histogram2d"
           }
          ],
          "histogram2dcontour": [
           {
            "colorbar": {
             "outlinewidth": 0,
             "ticks": ""
            },
            "colorscale": [
             [
              0.0,
              "#0d0887"
             ],
             [
              0.1111111111111111,
              "#46039f"
             ],
             [
              0.2222222222222222,
              "#7201a8"
             ],
             [
              0.3333333333333333,
              "#9c179e"
             ],
             [
              0.4444444444444444,
              "#bd3786"
             ],
             [
              0.5555555555555556,
              "#d8576b"
             ],
             [
              0.6666666666666666,
              "#ed7953"
             ],
             [
              0.7777777777777778,
              "#fb9f3a"
             ],
             [
              0.8888888888888888,
              "#fdca26"
             ],
             [
              1.0,
              "#f0f921"
             ]
            ],
            "type": "histogram2dcontour"
           }
          ],
          "mesh3d": [
           {
            "colorbar": {
             "outlinewidth": 0,
             "ticks": ""
            },
            "type": "mesh3d"
           }
          ],
          "parcoords": [
           {
            "line": {
             "colorbar": {
              "outlinewidth": 0,
              "ticks": ""
             }
            },
            "type": "parcoords"
           }
          ],
          "pie": [
           {
            "automargin": true,
            "type": "pie"
           }
          ],
          "scatter": [
           {
            "marker": {
             "colorbar": {
              "outlinewidth": 0,
              "ticks": ""
             }
            },
            "type": "scatter"
           }
          ],
          "scatter3d": [
           {
            "line": {
             "colorbar": {
              "outlinewidth": 0,
              "ticks": ""
             }
            },
            "marker": {
             "colorbar": {
              "outlinewidth": 0,
              "ticks": ""
             }
            },
            "type": "scatter3d"
           }
          ],
          "scattercarpet": [
           {
            "marker": {
             "colorbar": {
              "outlinewidth": 0,
              "ticks": ""
             }
            },
            "type": "scattercarpet"
           }
          ],
          "scattergeo": [
           {
            "marker": {
             "colorbar": {
              "outlinewidth": 0,
              "ticks": ""
             }
            },
            "type": "scattergeo"
           }
          ],
          "scattergl": [
           {
            "marker": {
             "colorbar": {
              "outlinewidth": 0,
              "ticks": ""
             }
            },
            "type": "scattergl"
           }
          ],
          "scattermapbox": [
           {
            "marker": {
             "colorbar": {
              "outlinewidth": 0,
              "ticks": ""
             }
            },
            "type": "scattermapbox"
           }
          ],
          "scatterpolar": [
           {
            "marker": {
             "colorbar": {
              "outlinewidth": 0,
              "ticks": ""
             }
            },
            "type": "scatterpolar"
           }
          ],
          "scatterpolargl": [
           {
            "marker": {
             "colorbar": {
              "outlinewidth": 0,
              "ticks": ""
             }
            },
            "type": "scatterpolargl"
           }
          ],
          "scatterternary": [
           {
            "marker": {
             "colorbar": {
              "outlinewidth": 0,
              "ticks": ""
             }
            },
            "type": "scatterternary"
           }
          ],
          "surface": [
           {
            "colorbar": {
             "outlinewidth": 0,
             "ticks": ""
            },
            "colorscale": [
             [
              0.0,
              "#0d0887"
             ],
             [
              0.1111111111111111,
              "#46039f"
             ],
             [
              0.2222222222222222,
              "#7201a8"
             ],
             [
              0.3333333333333333,
              "#9c179e"
             ],
             [
              0.4444444444444444,
              "#bd3786"
             ],
             [
              0.5555555555555556,
              "#d8576b"
             ],
             [
              0.6666666666666666,
              "#ed7953"
             ],
             [
              0.7777777777777778,
              "#fb9f3a"
             ],
             [
              0.8888888888888888,
              "#fdca26"
             ],
             [
              1.0,
              "#f0f921"
             ]
            ],
            "type": "surface"
           }
          ],
          "table": [
           {
            "cells": {
             "fill": {
              "color": "#EBF0F8"
             },
             "line": {
              "color": "white"
             }
            },
            "header": {
             "fill": {
              "color": "#C8D4E3"
             },
             "line": {
              "color": "white"
             }
            },
            "type": "table"
           }
          ]
         },
         "layout": {
          "annotationdefaults": {
           "arrowcolor": "#2a3f5f",
           "arrowhead": 0,
           "arrowwidth": 1
          },
          "coloraxis": {
           "colorbar": {
            "outlinewidth": 0,
            "ticks": ""
           }
          },
          "colorscale": {
           "diverging": [
            [
             0,
             "#8e0152"
            ],
            [
             0.1,
             "#c51b7d"
            ],
            [
             0.2,
             "#de77ae"
            ],
            [
             0.3,
             "#f1b6da"
            ],
            [
             0.4,
             "#fde0ef"
            ],
            [
             0.5,
             "#f7f7f7"
            ],
            [
             0.6,
             "#e6f5d0"
            ],
            [
             0.7,
             "#b8e186"
            ],
            [
             0.8,
             "#7fbc41"
            ],
            [
             0.9,
             "#4d9221"
            ],
            [
             1,
             "#276419"
            ]
           ],
           "sequential": [
            [
             0.0,
             "#0d0887"
            ],
            [
             0.1111111111111111,
             "#46039f"
            ],
            [
             0.2222222222222222,
             "#7201a8"
            ],
            [
             0.3333333333333333,
             "#9c179e"
            ],
            [
             0.4444444444444444,
             "#bd3786"
            ],
            [
             0.5555555555555556,
             "#d8576b"
            ],
            [
             0.6666666666666666,
             "#ed7953"
            ],
            [
             0.7777777777777778,
             "#fb9f3a"
            ],
            [
             0.8888888888888888,
             "#fdca26"
            ],
            [
             1.0,
             "#f0f921"
            ]
           ],
           "sequentialminus": [
            [
             0.0,
             "#0d0887"
            ],
            [
             0.1111111111111111,
             "#46039f"
            ],
            [
             0.2222222222222222,
             "#7201a8"
            ],
            [
             0.3333333333333333,
             "#9c179e"
            ],
            [
             0.4444444444444444,
             "#bd3786"
            ],
            [
             0.5555555555555556,
             "#d8576b"
            ],
            [
             0.6666666666666666,
             "#ed7953"
            ],
            [
             0.7777777777777778,
             "#fb9f3a"
            ],
            [
             0.8888888888888888,
             "#fdca26"
            ],
            [
             1.0,
             "#f0f921"
            ]
           ]
          },
          "colorway": [
           "#636efa",
           "#EF553B",
           "#00cc96",
           "#ab63fa",
           "#FFA15A",
           "#19d3f3",
           "#FF6692",
           "#B6E880",
           "#FF97FF",
           "#FECB52"
          ],
          "font": {
           "color": "#2a3f5f"
          },
          "geo": {
           "bgcolor": "white",
           "lakecolor": "white",
           "landcolor": "#E5ECF6",
           "showlakes": true,
           "showland": true,
           "subunitcolor": "white"
          },
          "hoverlabel": {
           "align": "left"
          },
          "hovermode": "closest",
          "mapbox": {
           "style": "light"
          },
          "paper_bgcolor": "white",
          "plot_bgcolor": "#E5ECF6",
          "polar": {
           "angularaxis": {
            "gridcolor": "white",
            "linecolor": "white",
            "ticks": ""
           },
           "bgcolor": "#E5ECF6",
           "radialaxis": {
            "gridcolor": "white",
            "linecolor": "white",
            "ticks": ""
           }
          },
          "scene": {
           "xaxis": {
            "backgroundcolor": "#E5ECF6",
            "gridcolor": "white",
            "gridwidth": 2,
            "linecolor": "white",
            "showbackground": true,
            "ticks": "",
            "zerolinecolor": "white"
           },
           "yaxis": {
            "backgroundcolor": "#E5ECF6",
            "gridcolor": "white",
            "gridwidth": 2,
            "linecolor": "white",
            "showbackground": true,
            "ticks": "",
            "zerolinecolor": "white"
           },
           "zaxis": {
            "backgroundcolor": "#E5ECF6",
            "gridcolor": "white",
            "gridwidth": 2,
            "linecolor": "white",
            "showbackground": true,
            "ticks": "",
            "zerolinecolor": "white"
           }
          },
          "shapedefaults": {
           "line": {
            "color": "#2a3f5f"
           }
          },
          "ternary": {
           "aaxis": {
            "gridcolor": "white",
            "linecolor": "white",
            "ticks": ""
           },
           "baxis": {
            "gridcolor": "white",
            "linecolor": "white",
            "ticks": ""
           },
           "bgcolor": "#E5ECF6",
           "caxis": {
            "gridcolor": "white",
            "linecolor": "white",
            "ticks": ""
           }
          },
          "title": {
           "x": 0.05
          },
          "xaxis": {
           "automargin": true,
           "gridcolor": "white",
           "linecolor": "white",
           "ticks": "",
           "title": {
            "standoff": 15
           },
           "zerolinecolor": "white",
           "zerolinewidth": 2
          },
          "yaxis": {
           "automargin": true,
           "gridcolor": "white",
           "linecolor": "white",
           "ticks": "",
           "title": {
            "standoff": 15
           },
           "zerolinecolor": "white",
           "zerolinewidth": 2
          }
         }
        },
        "title": {
         "font": {
          "color": "#4D5663"
         },
         "text": "Italy terapia_intensiva by regions"
        },
        "updatemenus": [
         {
          "buttons": [
           {
            "args": [
             {
              "yaxis.type": "linear"
             }
            ],
            "label": "Linear",
            "method": "relayout"
           },
           {
            "args": [
             {
              "yaxis.type": "log"
             }
            ],
            "label": "Log",
            "method": "relayout"
           }
          ],
          "direction": "down",
          "pad": {
           "r": 10,
           "t": 10
          },
          "showactive": true,
          "x": 0.1,
          "xanchor": "left",
          "y": 1.1,
          "yanchor": "top"
         }
        ],
        "xaxis": {
         "gridcolor": "#E1E5ED",
         "showgrid": true,
         "tickfont": {
          "color": "#4D5663"
         },
         "title": {
          "font": {
           "color": "#4D5663"
          },
          "text": ""
         },
         "zerolinecolor": "#E1E5ED"
        },
        "yaxis": {
         "gridcolor": "#E1E5ED",
         "showgrid": true,
         "tickfont": {
          "color": "#4D5663"
         },
         "title": {
          "font": {
           "color": "#4D5663"
          },
          "text": "cases"
         },
         "zerolinecolor": "#E1E5ED"
        }
       }
      },
      "text/html": "<div>\n        \n        \n            <div id=\"9667c4a3-4bab-48dc-84ce-e03f19fe3f09\" class=\"plotly-graph-div\" style=\"height:525px; width:100%;\"></div>\n            <script type=\"text/javascript\">\n                require([\"plotly\"], function(Plotly) {\n                    window.PLOTLYENV=window.PLOTLYENV || {};\n                    \n                if (document.getElementById(\"9667c4a3-4bab-48dc-84ce-e03f19fe3f09\")) {\n                    Plotly.newPlot(\n                        '9667c4a3-4bab-48dc-84ce-e03f19fe3f09',\n                        [{\"line\": {\"color\": \"rgba(255, 153, 51, 1.0)\", \"dash\": \"solid\", \"shape\": \"linear\", \"width\": 1.3}, \"marker\": {\"size\": 4, \"symbol\": \"circle\"}, \"mode\": \"lines+markers\", \"name\": \"Abruzzo\", \"text\": \"\", \"type\": \"scatter\", \"x\": [\"24/02/20\", \"25/02/20\", \"26/02/20\", \"27/02/20\", \"28/02/20\", \"29/02/20\", \"01/03/20\", \"02/03/20\", \"03/03/20\", \"04/03/20\", \"05/03/20\", \"06/03/20\", \"07/03/20\", \"08/03/20\", \"09/03/20\", \"10/03/20\", \"11/03/20\", \"12/03/20\", \"13/03/20\", \"14/03/20\", \"15/03/20\", \"16/03/20\", \"17/03/20\", \"18/03/20\", \"19/03/20\", \"20/03/20\", \"21/03/20\", \"22/03/20\", \"23/03/20\", \"24/03/20\", \"25/03/20\"], \"y\": [0, 0, 0, 0, 0, 0, 0, 0, 0, 0, 0, 0, 0, 0, 0, 9, 9, 12, 14, 14, 28, 37, 32, 41, 47, 48, 44, 49, 52, 57, 59]}, {\"line\": {\"color\": \"rgba(55, 128, 191, 1.0)\", \"dash\": \"solid\", \"shape\": \"linear\", \"width\": 1.3}, \"marker\": {\"size\": 4, \"symbol\": \"circle\"}, \"mode\": \"lines+markers\", \"name\": \"Basilicata\", \"text\": \"\", \"type\": \"scatter\", \"x\": [\"24/02/20\", \"25/02/20\", \"26/02/20\", \"27/02/20\", \"28/02/20\", \"29/02/20\", \"01/03/20\", \"02/03/20\", \"03/03/20\", \"04/03/20\", \"05/03/20\", \"06/03/20\", \"07/03/20\", \"08/03/20\", \"09/03/20\", \"10/03/20\", \"11/03/20\", \"12/03/20\", \"13/03/20\", \"14/03/20\", \"15/03/20\", \"16/03/20\", \"17/03/20\", \"18/03/20\", \"19/03/20\", \"20/03/20\", \"21/03/20\", \"22/03/20\", \"23/03/20\", \"24/03/20\", \"25/03/20\"], \"y\": [0, 0, 0, 0, 0, 0, 0, 0, 0, 0, 0, 0, 0, 0, 0, 0, 1, 1, 1, 2, 2, 2, 2, 2, 5, 5, 7, 10, 12, 12, 14]}, {\"line\": {\"color\": \"rgba(50, 171, 96, 1.0)\", \"dash\": \"solid\", \"shape\": \"linear\", \"width\": 1.3}, \"marker\": {\"size\": 4, \"symbol\": \"circle\"}, \"mode\": \"lines+markers\", \"name\": \"P.A. Bolzano\", \"text\": \"\", \"type\": \"scatter\", \"x\": [\"24/02/20\", \"25/02/20\", \"26/02/20\", \"27/02/20\", \"28/02/20\", \"29/02/20\", \"01/03/20\", \"02/03/20\", \"03/03/20\", \"04/03/20\", \"05/03/20\", \"06/03/20\", \"07/03/20\", \"08/03/20\", \"09/03/20\", \"10/03/20\", \"11/03/20\", \"12/03/20\", \"13/03/20\", \"14/03/20\", \"15/03/20\", \"16/03/20\", \"17/03/20\", \"18/03/20\", \"19/03/20\", \"20/03/20\", \"21/03/20\", \"22/03/20\", \"23/03/20\", \"24/03/20\", \"25/03/20\"], \"y\": [0, 0, 0, 0, 0, 0, 0, 0, 0, 0, 0, 0, 0, 0, 0, 1, 4, 4, 5, 7, 4, 11, 11, 18, 18, 24, 30, 32, 33, 38, 40]}, {\"line\": {\"color\": \"rgba(128, 0, 128, 1.0)\", \"dash\": \"solid\", \"shape\": \"linear\", \"width\": 1.3}, \"marker\": {\"size\": 4, \"symbol\": \"circle\"}, \"mode\": \"lines+markers\", \"name\": \"Calabria\", \"text\": \"\", \"type\": \"scatter\", \"x\": [\"24/02/20\", \"25/02/20\", \"26/02/20\", \"27/02/20\", \"28/02/20\", \"29/02/20\", \"01/03/20\", \"02/03/20\", \"03/03/20\", \"04/03/20\", \"05/03/20\", \"06/03/20\", \"07/03/20\", \"08/03/20\", \"09/03/20\", \"10/03/20\", \"11/03/20\", \"12/03/20\", \"13/03/20\", \"14/03/20\", \"15/03/20\", \"16/03/20\", \"17/03/20\", \"18/03/20\", \"19/03/20\", \"20/03/20\", \"21/03/20\", \"22/03/20\", \"23/03/20\", \"24/03/20\", \"25/03/20\"], \"y\": [0, 0, 0, 0, 0, 0, 0, 0, 0, 0, 0, 0, 0, 0, 0, 2, 2, 2, 3, 4, 6, 7, 10, 11, 13, 16, 16, 17, 20, 21, 23]}, {\"line\": {\"color\": \"rgba(219, 64, 82, 1.0)\", \"dash\": \"solid\", \"shape\": \"linear\", \"width\": 1.3}, \"marker\": {\"size\": 4, \"symbol\": \"circle\"}, \"mode\": \"lines+markers\", \"name\": \"Campania\", \"text\": \"\", \"type\": \"scatter\", \"x\": [\"24/02/20\", \"25/02/20\", \"26/02/20\", \"27/02/20\", \"28/02/20\", \"29/02/20\", \"01/03/20\", \"02/03/20\", \"03/03/20\", \"04/03/20\", \"05/03/20\", \"06/03/20\", \"07/03/20\", \"08/03/20\", \"09/03/20\", \"10/03/20\", \"11/03/20\", \"12/03/20\", \"13/03/20\", \"14/03/20\", \"15/03/20\", \"16/03/20\", \"17/03/20\", \"18/03/20\", \"19/03/20\", \"20/03/20\", \"21/03/20\", \"22/03/20\", \"23/03/20\", \"24/03/20\", \"25/03/20\"], \"y\": [0, 0, 0, 0, 0, 0, 0, 0, 0, 0, 0, 0, 0, 7, 8, 8, 11, 11, 19, 17, 22, 22, 24, 24, 36, 41, 87, 99, 110, 181, 123]}, {\"line\": {\"color\": \"rgba(0, 128, 128, 1.0)\", \"dash\": \"solid\", \"shape\": \"linear\", \"width\": 1.3}, \"marker\": {\"size\": 4, \"symbol\": \"circle\"}, \"mode\": \"lines+markers\", \"name\": \"Emilia Romagna\", \"text\": \"\", \"type\": \"scatter\", \"x\": [\"24/02/20\", \"25/02/20\", \"26/02/20\", \"27/02/20\", \"28/02/20\", \"29/02/20\", \"01/03/20\", \"02/03/20\", \"03/03/20\", \"04/03/20\", \"05/03/20\", \"06/03/20\", \"07/03/20\", \"08/03/20\", \"09/03/20\", \"10/03/20\", \"11/03/20\", \"12/03/20\", \"13/03/20\", \"14/03/20\", \"15/03/20\", \"16/03/20\", \"17/03/20\", \"18/03/20\", \"19/03/20\", \"20/03/20\", \"21/03/20\", \"22/03/20\", \"23/03/20\", \"24/03/20\", \"25/03/20\"], \"y\": [2, 2, 3, 6, 6, 11, 13, 16, 24, 26, 32, 53, 64, 75, 90, 98, 104, 112, 128, 152, 169, 197, 223, 247, 260, 267, 265, 269, 276, 291, 294]}, {\"line\": {\"color\": \"rgba(255, 255, 51, 1.0)\", \"dash\": \"solid\", \"shape\": \"linear\", \"width\": 1.3}, \"marker\": {\"size\": 4, \"symbol\": \"circle\"}, \"mode\": \"lines+markers\", \"name\": \"Friuli Venezia Giulia\", \"text\": \"\", \"type\": \"scatter\", \"x\": [\"24/02/20\", \"25/02/20\", \"26/02/20\", \"27/02/20\", \"28/02/20\", \"29/02/20\", \"01/03/20\", \"02/03/20\", \"03/03/20\", \"04/03/20\", \"05/03/20\", \"06/03/20\", \"07/03/20\", \"08/03/20\", \"09/03/20\", \"10/03/20\", \"11/03/20\", \"12/03/20\", \"13/03/20\", \"14/03/20\", \"15/03/20\", \"16/03/20\", \"17/03/20\", \"18/03/20\", \"19/03/20\", \"20/03/20\", \"21/03/20\", \"22/03/20\", \"23/03/20\", \"24/03/20\", \"25/03/20\"], \"y\": [0, 0, 0, 0, 0, 0, 0, 0, 0, 0, 0, 0, 1, 1, 1, 6, 5, 10, 8, 11, 12, 19, 21, 27, 29, 32, 37, 47, 41, 49, 52]}, {\"line\": {\"color\": \"rgba(128, 128, 0, 1.0)\", \"dash\": \"solid\", \"shape\": \"linear\", \"width\": 1.3}, \"marker\": {\"size\": 4, \"symbol\": \"circle\"}, \"mode\": \"lines+markers\", \"name\": \"Lazio\", \"text\": \"\", \"type\": \"scatter\", \"x\": [\"24/02/20\", \"25/02/20\", \"26/02/20\", \"27/02/20\", \"28/02/20\", \"29/02/20\", \"01/03/20\", \"02/03/20\", \"03/03/20\", \"04/03/20\", \"05/03/20\", \"06/03/20\", \"07/03/20\", \"08/03/20\", \"09/03/20\", \"10/03/20\", \"11/03/20\", \"12/03/20\", \"13/03/20\", \"14/03/20\", \"15/03/20\", \"16/03/20\", \"17/03/20\", \"18/03/20\", \"19/03/20\", \"20/03/20\", \"21/03/20\", \"22/03/20\", \"23/03/20\", \"24/03/20\", \"25/03/20\"], \"y\": [1, 1, 0, 0, 0, 0, 0, 0, 0, 3, 7, 8, 8, 8, 8, 15, 18, 20, 24, 25, 31, 31, 44, 44, 45, 47, 70, 79, 96, 94, 101]}, {\"line\": {\"color\": \"rgba(251, 128, 114, 1.0)\", \"dash\": \"solid\", \"shape\": \"linear\", \"width\": 1.3}, \"marker\": {\"size\": 4, \"symbol\": \"circle\"}, \"mode\": \"lines+markers\", \"name\": \"Liguria\", \"text\": \"\", \"type\": \"scatter\", \"x\": [\"24/02/20\", \"25/02/20\", \"26/02/20\", \"27/02/20\", \"28/02/20\", \"29/02/20\", \"01/03/20\", \"02/03/20\", \"03/03/20\", \"04/03/20\", \"05/03/20\", \"06/03/20\", \"07/03/20\", \"08/03/20\", \"09/03/20\", \"10/03/20\", \"11/03/20\", \"12/03/20\", \"13/03/20\", \"14/03/20\", \"15/03/20\", \"16/03/20\", \"17/03/20\", \"18/03/20\", \"19/03/20\", \"20/03/20\", \"21/03/20\", \"22/03/20\", \"23/03/20\", \"24/03/20\", \"25/03/20\"], \"y\": [0, 0, 0, 0, 0, 1, 1, 1, 2, 3, 3, 5, 6, 11, 17, 29, 34, 36, 44, 62, 66, 73, 85, 100, 112, 121, 129, 132, 133, 147, 147]}, {\"line\": {\"color\": \"rgba(128, 177, 211, 1.0)\", \"dash\": \"solid\", \"shape\": \"linear\", \"width\": 1.3}, \"marker\": {\"size\": 4, \"symbol\": \"circle\"}, \"mode\": \"lines+markers\", \"name\": \"Lombardia\", \"text\": \"\", \"type\": \"scatter\", \"x\": [\"24/02/20\", \"25/02/20\", \"26/02/20\", \"27/02/20\", \"28/02/20\", \"29/02/20\", \"01/03/20\", \"02/03/20\", \"03/03/20\", \"04/03/20\", \"05/03/20\", \"06/03/20\", \"07/03/20\", \"08/03/20\", \"09/03/20\", \"10/03/20\", \"11/03/20\", \"12/03/20\", \"13/03/20\", \"14/03/20\", \"15/03/20\", \"16/03/20\", \"17/03/20\", \"18/03/20\", \"19/03/20\", \"20/03/20\", \"21/03/20\", \"22/03/20\", \"23/03/20\", \"24/03/20\", \"25/03/20\"], \"y\": [19, 25, 25, 41, 47, 80, 106, 127, 167, 209, 244, 309, 359, 399, 440, 466, 560, 605, 650, 732, 767, 823, 879, 924, 1006, 1050, 1093, 1142, 1183, 1194, 1236]}, {\"line\": {\"color\": \"rgba(128, 177, 211, 0.8999999999999999)\", \"dash\": \"solid\", \"shape\": \"linear\", \"width\": 1.3}, \"marker\": {\"size\": 4, \"symbol\": \"circle\"}, \"mode\": \"lines+markers\", \"name\": \"Marche\", \"text\": \"\", \"type\": \"scatter\", \"x\": [\"24/02/20\", \"25/02/20\", \"26/02/20\", \"27/02/20\", \"28/02/20\", \"29/02/20\", \"01/03/20\", \"02/03/20\", \"03/03/20\", \"04/03/20\", \"05/03/20\", \"06/03/20\", \"07/03/20\", \"08/03/20\", \"09/03/20\", \"10/03/20\", \"11/03/20\", \"12/03/20\", \"13/03/20\", \"14/03/20\", \"15/03/20\", \"16/03/20\", \"17/03/20\", \"18/03/20\", \"19/03/20\", \"20/03/20\", \"21/03/20\", \"22/03/20\", \"23/03/20\", \"24/03/20\", \"25/03/20\"], \"y\": [0, 0, 0, 1, 2, 2, 5, 6, 13, 15, 19, 20, 36, 41, 47, 54, 66, 76, 85, 93, 98, 110, 109, 119, 141, 138, 141, 138, 148, 149, 148]}, {\"line\": {\"color\": \"rgba(255, 153, 51, 0.8999999999999999)\", \"dash\": \"solid\", \"shape\": \"linear\", \"width\": 1.3}, \"marker\": {\"size\": 4, \"symbol\": \"circle\"}, \"mode\": \"lines+markers\", \"name\": \"Molise\", \"text\": \"\", \"type\": \"scatter\", \"x\": [\"24/02/20\", \"25/02/20\", \"26/02/20\", \"27/02/20\", \"28/02/20\", \"29/02/20\", \"01/03/20\", \"02/03/20\", \"03/03/20\", \"04/03/20\", \"05/03/20\", \"06/03/20\", \"07/03/20\", \"08/03/20\", \"09/03/20\", \"10/03/20\", \"11/03/20\", \"12/03/20\", \"13/03/20\", \"14/03/20\", \"15/03/20\", \"16/03/20\", \"17/03/20\", \"18/03/20\", \"19/03/20\", \"20/03/20\", \"21/03/20\", \"22/03/20\", \"23/03/20\", \"24/03/20\", \"25/03/20\"], \"y\": [0, 0, 0, 0, 0, 0, 0, 0, 0, 0, 0, 2, 2, 2, 2, 3, 3, 3, 3, 3, 4, 5, 5, 6, 6, 6, 6, 7, 7, 7, 7]}, {\"line\": {\"color\": \"rgba(55, 128, 191, 0.8999999999999999)\", \"dash\": \"solid\", \"shape\": \"linear\", \"width\": 1.3}, \"marker\": {\"size\": 4, \"symbol\": \"circle\"}, \"mode\": \"lines+markers\", \"name\": \"Piemonte\", \"text\": \"\", \"type\": \"scatter\", \"x\": [\"24/02/20\", \"25/02/20\", \"26/02/20\", \"27/02/20\", \"28/02/20\", \"29/02/20\", \"01/03/20\", \"02/03/20\", \"03/03/20\", \"04/03/20\", \"05/03/20\", \"06/03/20\", \"07/03/20\", \"08/03/20\", \"09/03/20\", \"10/03/20\", \"11/03/20\", \"12/03/20\", \"13/03/20\", \"14/03/20\", \"15/03/20\", \"16/03/20\", \"17/03/20\", \"18/03/20\", \"19/03/20\", \"20/03/20\", \"21/03/20\", \"22/03/20\", \"23/03/20\", \"24/03/20\", \"25/03/20\"], \"y\": [0, 0, 0, 0, 0, 0, 2, 2, 3, 13, 17, 30, 38, 45, 50, 66, 75, 97, 135, 150, 171, 186, 206, 227, 257, 280, 301, 308, 343, 360, 381]}, {\"line\": {\"color\": \"rgba(50, 171, 96, 0.8999999999999999)\", \"dash\": \"solid\", \"shape\": \"linear\", \"width\": 1.3}, \"marker\": {\"size\": 4, \"symbol\": \"circle\"}, \"mode\": \"lines+markers\", \"name\": \"Puglia\", \"text\": \"\", \"type\": \"scatter\", \"x\": [\"24/02/20\", \"25/02/20\", \"26/02/20\", \"27/02/20\", \"28/02/20\", \"29/02/20\", \"01/03/20\", \"02/03/20\", \"03/03/20\", \"04/03/20\", \"05/03/20\", \"06/03/20\", \"07/03/20\", \"08/03/20\", \"09/03/20\", \"10/03/20\", \"11/03/20\", \"12/03/20\", \"13/03/20\", \"14/03/20\", \"15/03/20\", \"16/03/20\", \"17/03/20\", \"18/03/20\", \"19/03/20\", \"20/03/20\", \"21/03/20\", \"22/03/20\", \"23/03/20\", \"24/03/20\", \"25/03/20\"], \"y\": [0, 0, 0, 0, 0, 0, 0, 0, 0, 0, 1, 1, 2, 3, 6, 6, 4, 2, 2, 6, 6, 6, 14, 30, 31, 31, 33, 37, 45, 57, 64]}, {\"line\": {\"color\": \"rgba(128, 0, 128, 0.8999999999999999)\", \"dash\": \"solid\", \"shape\": \"linear\", \"width\": 1.3}, \"marker\": {\"size\": 4, \"symbol\": \"circle\"}, \"mode\": \"lines+markers\", \"name\": \"Sardegna\", \"text\": \"\", \"type\": \"scatter\", \"x\": [\"24/02/20\", \"25/02/20\", \"26/02/20\", \"27/02/20\", \"28/02/20\", \"29/02/20\", \"01/03/20\", \"02/03/20\", \"03/03/20\", \"04/03/20\", \"05/03/20\", \"06/03/20\", \"07/03/20\", \"08/03/20\", \"09/03/20\", \"10/03/20\", \"11/03/20\", \"12/03/20\", \"13/03/20\", \"14/03/20\", \"15/03/20\", \"16/03/20\", \"17/03/20\", \"18/03/20\", \"19/03/20\", \"20/03/20\", \"21/03/20\", \"22/03/20\", \"23/03/20\", \"24/03/20\", \"25/03/20\"], \"y\": [0, 0, 0, 0, 0, 0, 0, 0, 0, 0, 0, 0, 0, 0, 0, 0, 0, 0, 0, 0, 0, 0, 4, 7, 9, 15, 16, 16, 18, 19, 19]}, {\"line\": {\"color\": \"rgba(219, 64, 82, 0.8999999999999999)\", \"dash\": \"solid\", \"shape\": \"linear\", \"width\": 1.3}, \"marker\": {\"size\": 4, \"symbol\": \"circle\"}, \"mode\": \"lines+markers\", \"name\": \"Sicilia\", \"text\": \"\", \"type\": \"scatter\", \"x\": [\"24/02/20\", \"25/02/20\", \"26/02/20\", \"27/02/20\", \"28/02/20\", \"29/02/20\", \"01/03/20\", \"02/03/20\", \"03/03/20\", \"04/03/20\", \"05/03/20\", \"06/03/20\", \"07/03/20\", \"08/03/20\", \"09/03/20\", \"10/03/20\", \"11/03/20\", \"12/03/20\", \"13/03/20\", \"14/03/20\", \"15/03/20\", \"16/03/20\", \"17/03/20\", \"18/03/20\", \"19/03/20\", \"20/03/20\", \"21/03/20\", \"22/03/20\", \"23/03/20\", \"24/03/20\", \"25/03/20\"], \"y\": [0, 0, 0, 0, 0, 0, 0, 0, 0, 0, 0, 0, 0, 0, 0, 2, 1, 5, 7, 11, 15, 20, 28, 29, 36, 42, 48, 55, 60, 60, 80]}, {\"line\": {\"color\": \"rgba(0, 128, 128, 0.8999999999999999)\", \"dash\": \"solid\", \"shape\": \"linear\", \"width\": 1.3}, \"marker\": {\"size\": 4, \"symbol\": \"circle\"}, \"mode\": \"lines+markers\", \"name\": \"Toscana\", \"text\": \"\", \"type\": \"scatter\", \"x\": [\"24/02/20\", \"25/02/20\", \"26/02/20\", \"27/02/20\", \"28/02/20\", \"29/02/20\", \"01/03/20\", \"02/03/20\", \"03/03/20\", \"04/03/20\", \"05/03/20\", \"06/03/20\", \"07/03/20\", \"08/03/20\", \"09/03/20\", \"10/03/20\", \"11/03/20\", \"12/03/20\", \"13/03/20\", \"14/03/20\", \"15/03/20\", \"16/03/20\", \"17/03/20\", \"18/03/20\", \"19/03/20\", \"20/03/20\", \"21/03/20\", \"22/03/20\", \"23/03/20\", \"24/03/20\", \"25/03/20\"], \"y\": [0, 0, 0, 0, 0, 0, 0, 0, 0, 2, 3, 5, 7, 7, 9, 40, 54, 59, 77, 87, 107, 107, 143, 160, 178, 189, 202, 215, 238, 244, 251]}, {\"line\": {\"color\": \"rgba(255, 255, 51, 0.8999999999999999)\", \"dash\": \"solid\", \"shape\": \"linear\", \"width\": 1.3}, \"marker\": {\"size\": 4, \"symbol\": \"circle\"}, \"mode\": \"lines+markers\", \"name\": \"P.A. Trento\", \"text\": \"\", \"type\": \"scatter\", \"x\": [\"24/02/20\", \"25/02/20\", \"26/02/20\", \"27/02/20\", \"28/02/20\", \"29/02/20\", \"01/03/20\", \"02/03/20\", \"03/03/20\", \"04/03/20\", \"05/03/20\", \"06/03/20\", \"07/03/20\", \"08/03/20\", \"09/03/20\", \"10/03/20\", \"11/03/20\", \"12/03/20\", \"13/03/20\", \"14/03/20\", \"15/03/20\", \"16/03/20\", \"17/03/20\", \"18/03/20\", \"19/03/20\", \"20/03/20\", \"21/03/20\", \"22/03/20\", \"23/03/20\", \"24/03/20\", \"25/03/20\"], \"y\": [0, 0, 0, 0, 0, 0, 0, 0, 0, 0, 0, 0, 1, 2, 2, 3, 4, 5, 6, 12, 19, 19, 22, 22, 30, 34, 39, 46, 46, 49, 65]}, {\"line\": {\"color\": \"rgba(128, 128, 0, 0.8999999999999999)\", \"dash\": \"solid\", \"shape\": \"linear\", \"width\": 1.3}, \"marker\": {\"size\": 4, \"symbol\": \"circle\"}, \"mode\": \"lines+markers\", \"name\": \"Umbria\", \"text\": \"\", \"type\": \"scatter\", \"x\": [\"24/02/20\", \"25/02/20\", \"26/02/20\", \"27/02/20\", \"28/02/20\", \"29/02/20\", \"01/03/20\", \"02/03/20\", \"03/03/20\", \"04/03/20\", \"05/03/20\", \"06/03/20\", \"07/03/20\", \"08/03/20\", \"09/03/20\", \"10/03/20\", \"11/03/20\", \"12/03/20\", \"13/03/20\", \"14/03/20\", \"15/03/20\", \"16/03/20\", \"17/03/20\", \"18/03/20\", \"19/03/20\", \"20/03/20\", \"21/03/20\", \"22/03/20\", \"23/03/20\", \"24/03/20\", \"25/03/20\"], \"y\": [0, 0, 0, 0, 0, 0, 0, 0, 1, 1, 1, 2, 2, 2, 2, 2, 5, 8, 10, 11, 13, 15, 21, 21, 21, 24, 29, 35, 42, 43, 44]}, {\"line\": {\"color\": \"rgba(251, 128, 114, 0.8999999999999999)\", \"dash\": \"solid\", \"shape\": \"linear\", \"width\": 1.3}, \"marker\": {\"size\": 4, \"symbol\": \"circle\"}, \"mode\": \"lines+markers\", \"name\": \"Valle d'Aosta\", \"text\": \"\", \"type\": \"scatter\", \"x\": [\"24/02/20\", \"25/02/20\", \"26/02/20\", \"27/02/20\", \"28/02/20\", \"29/02/20\", \"01/03/20\", \"02/03/20\", \"03/03/20\", \"04/03/20\", \"05/03/20\", \"06/03/20\", \"07/03/20\", \"08/03/20\", \"09/03/20\", \"10/03/20\", \"11/03/20\", \"12/03/20\", \"13/03/20\", \"14/03/20\", \"15/03/20\", \"16/03/20\", \"17/03/20\", \"18/03/20\", \"19/03/20\", \"20/03/20\", \"21/03/20\", \"22/03/20\", \"23/03/20\", \"24/03/20\", \"25/03/20\"], \"y\": [0, 0, 0, 0, 0, 0, 0, 0, 0, 0, 0, 0, 0, 0, 0, 0, 0, 0, 0, 0, 3, 5, 6, 3, 9, 9, 15, 21, 20, 20, 25]}, {\"line\": {\"color\": \"rgba(251, 128, 114, 0.7999999999999998)\", \"dash\": \"solid\", \"shape\": \"linear\", \"width\": 1.3}, \"marker\": {\"size\": 4, \"symbol\": \"circle\"}, \"mode\": \"lines+markers\", \"name\": \"Veneto\", \"text\": \"\", \"type\": \"scatter\", \"x\": [\"24/02/20\", \"25/02/20\", \"26/02/20\", \"27/02/20\", \"28/02/20\", \"29/02/20\", \"01/03/20\", \"02/03/20\", \"03/03/20\", \"04/03/20\", \"05/03/20\", \"06/03/20\", \"07/03/20\", \"08/03/20\", \"09/03/20\", \"10/03/20\", \"11/03/20\", \"12/03/20\", \"13/03/20\", \"14/03/20\", \"15/03/20\", \"16/03/20\", \"17/03/20\", \"18/03/20\", \"19/03/20\", \"20/03/20\", \"21/03/20\", \"22/03/20\", \"23/03/20\", \"24/03/20\", \"25/03/20\"], \"y\": [4, 7, 8, 8, 9, 11, 13, 14, 19, 23, 24, 27, 41, 47, 51, 67, 68, 85, 107, 119, 129, 156, 171, 195, 209, 236, 249, 255, 281, 304, 316]}],\n                        {\"legend\": {\"bgcolor\": \"#FFFFFF\", \"font\": {\"color\": \"#4D5663\"}}, \"paper_bgcolor\": \"#FFFFFF\", \"plot_bgcolor\": \"#FFFFFF\", \"template\": {\"data\": {\"bar\": [{\"error_x\": {\"color\": \"#2a3f5f\"}, \"error_y\": {\"color\": \"#2a3f5f\"}, \"marker\": {\"line\": {\"color\": \"#E5ECF6\", \"width\": 0.5}}, \"type\": \"bar\"}], \"barpolar\": [{\"marker\": {\"line\": {\"color\": \"#E5ECF6\", \"width\": 0.5}}, \"type\": \"barpolar\"}], \"carpet\": [{\"aaxis\": {\"endlinecolor\": \"#2a3f5f\", \"gridcolor\": \"white\", \"linecolor\": \"white\", \"minorgridcolor\": \"white\", \"startlinecolor\": \"#2a3f5f\"}, \"baxis\": {\"endlinecolor\": \"#2a3f5f\", \"gridcolor\": \"white\", \"linecolor\": \"white\", \"minorgridcolor\": \"white\", \"startlinecolor\": \"#2a3f5f\"}, \"type\": \"carpet\"}], \"choropleth\": [{\"colorbar\": {\"outlinewidth\": 0, \"ticks\": \"\"}, \"type\": \"choropleth\"}], \"contour\": [{\"colorbar\": {\"outlinewidth\": 0, \"ticks\": \"\"}, \"colorscale\": [[0.0, \"#0d0887\"], [0.1111111111111111, \"#46039f\"], [0.2222222222222222, \"#7201a8\"], [0.3333333333333333, \"#9c179e\"], [0.4444444444444444, \"#bd3786\"], [0.5555555555555556, \"#d8576b\"], [0.6666666666666666, \"#ed7953\"], [0.7777777777777778, \"#fb9f3a\"], [0.8888888888888888, \"#fdca26\"], [1.0, \"#f0f921\"]], \"type\": \"contour\"}], \"contourcarpet\": [{\"colorbar\": {\"outlinewidth\": 0, \"ticks\": \"\"}, \"type\": \"contourcarpet\"}], \"heatmap\": [{\"colorbar\": {\"outlinewidth\": 0, \"ticks\": \"\"}, \"colorscale\": [[0.0, \"#0d0887\"], [0.1111111111111111, \"#46039f\"], [0.2222222222222222, \"#7201a8\"], [0.3333333333333333, \"#9c179e\"], [0.4444444444444444, \"#bd3786\"], [0.5555555555555556, \"#d8576b\"], [0.6666666666666666, \"#ed7953\"], [0.7777777777777778, \"#fb9f3a\"], [0.8888888888888888, \"#fdca26\"], [1.0, \"#f0f921\"]], \"type\": \"heatmap\"}], \"heatmapgl\": [{\"colorbar\": {\"outlinewidth\": 0, \"ticks\": \"\"}, \"colorscale\": [[0.0, \"#0d0887\"], [0.1111111111111111, \"#46039f\"], [0.2222222222222222, \"#7201a8\"], [0.3333333333333333, \"#9c179e\"], [0.4444444444444444, \"#bd3786\"], [0.5555555555555556, \"#d8576b\"], [0.6666666666666666, \"#ed7953\"], [0.7777777777777778, \"#fb9f3a\"], [0.8888888888888888, \"#fdca26\"], [1.0, \"#f0f921\"]], \"type\": \"heatmapgl\"}], \"histogram\": [{\"marker\": {\"colorbar\": {\"outlinewidth\": 0, \"ticks\": \"\"}}, \"type\": \"histogram\"}], \"histogram2d\": [{\"colorbar\": {\"outlinewidth\": 0, \"ticks\": \"\"}, \"colorscale\": [[0.0, \"#0d0887\"], [0.1111111111111111, \"#46039f\"], [0.2222222222222222, \"#7201a8\"], [0.3333333333333333, \"#9c179e\"], [0.4444444444444444, \"#bd3786\"], [0.5555555555555556, \"#d8576b\"], [0.6666666666666666, \"#ed7953\"], [0.7777777777777778, \"#fb9f3a\"], [0.8888888888888888, \"#fdca26\"], [1.0, \"#f0f921\"]], \"type\": \"histogram2d\"}], \"histogram2dcontour\": [{\"colorbar\": {\"outlinewidth\": 0, \"ticks\": \"\"}, \"colorscale\": [[0.0, \"#0d0887\"], [0.1111111111111111, \"#46039f\"], [0.2222222222222222, \"#7201a8\"], [0.3333333333333333, \"#9c179e\"], [0.4444444444444444, \"#bd3786\"], [0.5555555555555556, \"#d8576b\"], [0.6666666666666666, \"#ed7953\"], [0.7777777777777778, \"#fb9f3a\"], [0.8888888888888888, \"#fdca26\"], [1.0, \"#f0f921\"]], \"type\": \"histogram2dcontour\"}], \"mesh3d\": [{\"colorbar\": {\"outlinewidth\": 0, \"ticks\": \"\"}, \"type\": \"mesh3d\"}], \"parcoords\": [{\"line\": {\"colorbar\": {\"outlinewidth\": 0, \"ticks\": \"\"}}, \"type\": \"parcoords\"}], \"pie\": [{\"automargin\": true, \"type\": \"pie\"}], \"scatter\": [{\"marker\": {\"colorbar\": {\"outlinewidth\": 0, \"ticks\": \"\"}}, \"type\": \"scatter\"}], \"scatter3d\": [{\"line\": {\"colorbar\": {\"outlinewidth\": 0, \"ticks\": \"\"}}, \"marker\": {\"colorbar\": {\"outlinewidth\": 0, \"ticks\": \"\"}}, \"type\": \"scatter3d\"}], \"scattercarpet\": [{\"marker\": {\"colorbar\": {\"outlinewidth\": 0, \"ticks\": \"\"}}, \"type\": \"scattercarpet\"}], \"scattergeo\": [{\"marker\": {\"colorbar\": {\"outlinewidth\": 0, \"ticks\": \"\"}}, \"type\": \"scattergeo\"}], \"scattergl\": [{\"marker\": {\"colorbar\": {\"outlinewidth\": 0, \"ticks\": \"\"}}, \"type\": \"scattergl\"}], \"scattermapbox\": [{\"marker\": {\"colorbar\": {\"outlinewidth\": 0, \"ticks\": \"\"}}, \"type\": \"scattermapbox\"}], \"scatterpolar\": [{\"marker\": {\"colorbar\": {\"outlinewidth\": 0, \"ticks\": \"\"}}, \"type\": \"scatterpolar\"}], \"scatterpolargl\": [{\"marker\": {\"colorbar\": {\"outlinewidth\": 0, \"ticks\": \"\"}}, \"type\": \"scatterpolargl\"}], \"scatterternary\": [{\"marker\": {\"colorbar\": {\"outlinewidth\": 0, \"ticks\": \"\"}}, \"type\": \"scatterternary\"}], \"surface\": [{\"colorbar\": {\"outlinewidth\": 0, \"ticks\": \"\"}, \"colorscale\": [[0.0, \"#0d0887\"], [0.1111111111111111, \"#46039f\"], [0.2222222222222222, \"#7201a8\"], [0.3333333333333333, \"#9c179e\"], [0.4444444444444444, \"#bd3786\"], [0.5555555555555556, \"#d8576b\"], [0.6666666666666666, \"#ed7953\"], [0.7777777777777778, \"#fb9f3a\"], [0.8888888888888888, \"#fdca26\"], [1.0, \"#f0f921\"]], \"type\": \"surface\"}], \"table\": [{\"cells\": {\"fill\": {\"color\": \"#EBF0F8\"}, \"line\": {\"color\": \"white\"}}, \"header\": {\"fill\": {\"color\": \"#C8D4E3\"}, \"line\": {\"color\": \"white\"}}, \"type\": \"table\"}]}, \"layout\": {\"annotationdefaults\": {\"arrowcolor\": \"#2a3f5f\", \"arrowhead\": 0, \"arrowwidth\": 1}, \"coloraxis\": {\"colorbar\": {\"outlinewidth\": 0, \"ticks\": \"\"}}, \"colorscale\": {\"diverging\": [[0, \"#8e0152\"], [0.1, \"#c51b7d\"], [0.2, \"#de77ae\"], [0.3, \"#f1b6da\"], [0.4, \"#fde0ef\"], [0.5, \"#f7f7f7\"], [0.6, \"#e6f5d0\"], [0.7, \"#b8e186\"], [0.8, \"#7fbc41\"], [0.9, \"#4d9221\"], [1, \"#276419\"]], \"sequential\": [[0.0, \"#0d0887\"], [0.1111111111111111, \"#46039f\"], [0.2222222222222222, \"#7201a8\"], [0.3333333333333333, \"#9c179e\"], [0.4444444444444444, \"#bd3786\"], [0.5555555555555556, \"#d8576b\"], [0.6666666666666666, \"#ed7953\"], [0.7777777777777778, \"#fb9f3a\"], [0.8888888888888888, \"#fdca26\"], [1.0, \"#f0f921\"]], \"sequentialminus\": [[0.0, \"#0d0887\"], [0.1111111111111111, \"#46039f\"], [0.2222222222222222, \"#7201a8\"], [0.3333333333333333, \"#9c179e\"], [0.4444444444444444, \"#bd3786\"], [0.5555555555555556, \"#d8576b\"], [0.6666666666666666, \"#ed7953\"], [0.7777777777777778, \"#fb9f3a\"], [0.8888888888888888, \"#fdca26\"], [1.0, \"#f0f921\"]]}, \"colorway\": [\"#636efa\", \"#EF553B\", \"#00cc96\", \"#ab63fa\", \"#FFA15A\", \"#19d3f3\", \"#FF6692\", \"#B6E880\", \"#FF97FF\", \"#FECB52\"], \"font\": {\"color\": \"#2a3f5f\"}, \"geo\": {\"bgcolor\": \"white\", \"lakecolor\": \"white\", \"landcolor\": \"#E5ECF6\", \"showlakes\": true, \"showland\": true, \"subunitcolor\": \"white\"}, \"hoverlabel\": {\"align\": \"left\"}, \"hovermode\": \"closest\", \"mapbox\": {\"style\": \"light\"}, \"paper_bgcolor\": \"white\", \"plot_bgcolor\": \"#E5ECF6\", \"polar\": {\"angularaxis\": {\"gridcolor\": \"white\", \"linecolor\": \"white\", \"ticks\": \"\"}, \"bgcolor\": \"#E5ECF6\", \"radialaxis\": {\"gridcolor\": \"white\", \"linecolor\": \"white\", \"ticks\": \"\"}}, \"scene\": {\"xaxis\": {\"backgroundcolor\": \"#E5ECF6\", \"gridcolor\": \"white\", \"gridwidth\": 2, \"linecolor\": \"white\", \"showbackground\": true, \"ticks\": \"\", \"zerolinecolor\": \"white\"}, \"yaxis\": {\"backgroundcolor\": \"#E5ECF6\", \"gridcolor\": \"white\", \"gridwidth\": 2, \"linecolor\": \"white\", \"showbackground\": true, \"ticks\": \"\", \"zerolinecolor\": \"white\"}, \"zaxis\": {\"backgroundcolor\": \"#E5ECF6\", \"gridcolor\": \"white\", \"gridwidth\": 2, \"linecolor\": \"white\", \"showbackground\": true, \"ticks\": \"\", \"zerolinecolor\": \"white\"}}, \"shapedefaults\": {\"line\": {\"color\": \"#2a3f5f\"}}, \"ternary\": {\"aaxis\": {\"gridcolor\": \"white\", \"linecolor\": \"white\", \"ticks\": \"\"}, \"baxis\": {\"gridcolor\": \"white\", \"linecolor\": \"white\", \"ticks\": \"\"}, \"bgcolor\": \"#E5ECF6\", \"caxis\": {\"gridcolor\": \"white\", \"linecolor\": \"white\", \"ticks\": \"\"}}, \"title\": {\"x\": 0.05}, \"xaxis\": {\"automargin\": true, \"gridcolor\": \"white\", \"linecolor\": \"white\", \"ticks\": \"\", \"title\": {\"standoff\": 15}, \"zerolinecolor\": \"white\", \"zerolinewidth\": 2}, \"yaxis\": {\"automargin\": true, \"gridcolor\": \"white\", \"linecolor\": \"white\", \"ticks\": \"\", \"title\": {\"standoff\": 15}, \"zerolinecolor\": \"white\", \"zerolinewidth\": 2}}}, \"title\": {\"font\": {\"color\": \"#4D5663\"}, \"text\": \"Italy terapia_intensiva by regions\"}, \"updatemenus\": [{\"buttons\": [{\"args\": [{\"yaxis.type\": \"linear\"}], \"label\": \"Linear\", \"method\": \"relayout\"}, {\"args\": [{\"yaxis.type\": \"log\"}], \"label\": \"Log\", \"method\": \"relayout\"}], \"direction\": \"down\", \"pad\": {\"r\": 10, \"t\": 10}, \"showactive\": true, \"x\": 0.1, \"xanchor\": \"left\", \"y\": 1.1, \"yanchor\": \"top\"}], \"xaxis\": {\"gridcolor\": \"#E1E5ED\", \"showgrid\": true, \"tickfont\": {\"color\": \"#4D5663\"}, \"title\": {\"font\": {\"color\": \"#4D5663\"}, \"text\": \"\"}, \"zerolinecolor\": \"#E1E5ED\"}, \"yaxis\": {\"gridcolor\": \"#E1E5ED\", \"showgrid\": true, \"tickfont\": {\"color\": \"#4D5663\"}, \"title\": {\"font\": {\"color\": \"#4D5663\"}, \"text\": \"cases\"}, \"zerolinecolor\": \"#E1E5ED\"}},\n                        {\"responsive\": true}\n                    ).then(function(){\n                            \nvar gd = document.getElementById('9667c4a3-4bab-48dc-84ce-e03f19fe3f09');\nvar x = new MutationObserver(function (mutations, observer) {{\n        var display = window.getComputedStyle(gd).display;\n        if (!display || display === 'none') {{\n            console.log([gd, 'removed!']);\n            Plotly.purge(gd);\n            observer.disconnect();\n        }}\n}});\n\n// Listen for the removal of the full notebook cells\nvar notebookContainer = gd.closest('#notebook-container');\nif (notebookContainer) {{\n    x.observe(notebookContainer, {childList: true});\n}}\n\n// Listen for the clearing of the current output cell\nvar outputEl = gd.closest('.output');\nif (outputEl) {{\n    x.observe(outputEl, {childList: true});\n}}\n\n                        })\n                };\n                });\n            </script>\n        </div>"
     },
     "metadata": {},
     "output_type": "display_data"
    }
   ],
   "source": [
    "regions = io.italy_load_regions()\n",
    "category = 'terapia_intensiva'\n",
    "total_cases = io.italy_regions_filter_by_category(regions, category)\n",
    "\n",
    "mpl.iplot_comparative_plot(total_cases, title='Italy ' + category + ' by regions')\n"
   ],
   "metadata": {
    "collapsed": false,
    "pycharm": {
     "name": "#%%\n",
     "is_executing": false
    }
   }
  },
  {
   "cell_type": "code",
   "execution_count": 5,
   "outputs": [
    {
     "data": {
      "application/vnd.plotly.v1+json": {
       "config": {
        "plotlyServerURL": "https://plot.ly"
       },
       "data": [
        {
         "line": {
          "color": "rgba(255, 153, 51, 1.0)",
          "dash": "solid",
          "shape": "linear",
          "width": 1.3
         },
         "marker": {
          "size": 4,
          "symbol": "circle"
         },
         "mode": "lines+markers",
         "name": "P.A. Bolzano",
         "text": "",
         "type": "scatter",
         "x": [
          "24/02/20",
          "25/02/20",
          "26/02/20",
          "27/02/20",
          "28/02/20",
          "29/02/20",
          "01/03/20",
          "02/03/20",
          "03/03/20",
          "04/03/20",
          "05/03/20",
          "06/03/20",
          "07/03/20",
          "08/03/20",
          "09/03/20",
          "10/03/20",
          "11/03/20",
          "12/03/20",
          "13/03/20",
          "14/03/20",
          "15/03/20",
          "16/03/20",
          "17/03/20",
          "18/03/20",
          "19/03/20",
          "20/03/20",
          "21/03/20",
          "22/03/20",
          "23/03/20",
          "24/03/20",
          "25/03/20"
         ],
         "y": [
          0,
          0,
          0,
          0,
          0,
          0,
          0,
          0,
          0,
          0,
          0,
          0,
          0,
          0,
          0,
          1,
          4,
          4,
          5,
          7,
          4,
          11,
          11,
          18,
          18,
          24,
          30,
          32,
          33,
          38,
          40
         ]
        },
        {
         "line": {
          "color": "rgba(55, 128, 191, 1.0)",
          "dash": "solid",
          "shape": "linear",
          "width": 1.3
         },
         "marker": {
          "size": 4,
          "symbol": "circle"
         },
         "mode": "lines+markers",
         "name": "Emilia Romagna",
         "text": "",
         "type": "scatter",
         "x": [
          "24/02/20",
          "25/02/20",
          "26/02/20",
          "27/02/20",
          "28/02/20",
          "29/02/20",
          "01/03/20",
          "02/03/20",
          "03/03/20",
          "04/03/20",
          "05/03/20",
          "06/03/20",
          "07/03/20",
          "08/03/20",
          "09/03/20",
          "10/03/20",
          "11/03/20",
          "12/03/20",
          "13/03/20",
          "14/03/20",
          "15/03/20",
          "16/03/20",
          "17/03/20",
          "18/03/20",
          "19/03/20",
          "20/03/20",
          "21/03/20",
          "22/03/20",
          "23/03/20",
          "24/03/20",
          "25/03/20"
         ],
         "y": [
          2,
          2,
          3,
          6,
          6,
          11,
          13,
          16,
          24,
          26,
          32,
          53,
          64,
          75,
          90,
          98,
          104,
          112,
          128,
          152,
          169,
          197,
          223,
          247,
          260,
          267,
          265,
          269,
          276,
          291,
          294
         ]
        },
        {
         "line": {
          "color": "rgba(50, 171, 96, 1.0)",
          "dash": "solid",
          "shape": "linear",
          "width": 1.3
         },
         "marker": {
          "size": 4,
          "symbol": "circle"
         },
         "mode": "lines+markers",
         "name": "Friuli Venezia Giulia",
         "text": "",
         "type": "scatter",
         "x": [
          "24/02/20",
          "25/02/20",
          "26/02/20",
          "27/02/20",
          "28/02/20",
          "29/02/20",
          "01/03/20",
          "02/03/20",
          "03/03/20",
          "04/03/20",
          "05/03/20",
          "06/03/20",
          "07/03/20",
          "08/03/20",
          "09/03/20",
          "10/03/20",
          "11/03/20",
          "12/03/20",
          "13/03/20",
          "14/03/20",
          "15/03/20",
          "16/03/20",
          "17/03/20",
          "18/03/20",
          "19/03/20",
          "20/03/20",
          "21/03/20",
          "22/03/20",
          "23/03/20",
          "24/03/20",
          "25/03/20"
         ],
         "y": [
          0,
          0,
          0,
          0,
          0,
          0,
          0,
          0,
          0,
          0,
          0,
          0,
          1,
          1,
          1,
          6,
          5,
          10,
          8,
          11,
          12,
          19,
          21,
          27,
          29,
          32,
          37,
          47,
          41,
          49,
          52
         ]
        },
        {
         "line": {
          "color": "rgba(128, 0, 128, 1.0)",
          "dash": "solid",
          "shape": "linear",
          "width": 1.3
         },
         "marker": {
          "size": 4,
          "symbol": "circle"
         },
         "mode": "lines+markers",
         "name": "Liguria",
         "text": "",
         "type": "scatter",
         "x": [
          "24/02/20",
          "25/02/20",
          "26/02/20",
          "27/02/20",
          "28/02/20",
          "29/02/20",
          "01/03/20",
          "02/03/20",
          "03/03/20",
          "04/03/20",
          "05/03/20",
          "06/03/20",
          "07/03/20",
          "08/03/20",
          "09/03/20",
          "10/03/20",
          "11/03/20",
          "12/03/20",
          "13/03/20",
          "14/03/20",
          "15/03/20",
          "16/03/20",
          "17/03/20",
          "18/03/20",
          "19/03/20",
          "20/03/20",
          "21/03/20",
          "22/03/20",
          "23/03/20",
          "24/03/20",
          "25/03/20"
         ],
         "y": [
          0,
          0,
          0,
          0,
          0,
          1,
          1,
          1,
          2,
          3,
          3,
          5,
          6,
          11,
          17,
          29,
          34,
          36,
          44,
          62,
          66,
          73,
          85,
          100,
          112,
          121,
          129,
          132,
          133,
          147,
          147
         ]
        },
        {
         "line": {
          "color": "rgba(219, 64, 82, 1.0)",
          "dash": "solid",
          "shape": "linear",
          "width": 1.3
         },
         "marker": {
          "size": 4,
          "symbol": "circle"
         },
         "mode": "lines+markers",
         "name": "Lombardia",
         "text": "",
         "type": "scatter",
         "x": [
          "24/02/20",
          "25/02/20",
          "26/02/20",
          "27/02/20",
          "28/02/20",
          "29/02/20",
          "01/03/20",
          "02/03/20",
          "03/03/20",
          "04/03/20",
          "05/03/20",
          "06/03/20",
          "07/03/20",
          "08/03/20",
          "09/03/20",
          "10/03/20",
          "11/03/20",
          "12/03/20",
          "13/03/20",
          "14/03/20",
          "15/03/20",
          "16/03/20",
          "17/03/20",
          "18/03/20",
          "19/03/20",
          "20/03/20",
          "21/03/20",
          "22/03/20",
          "23/03/20",
          "24/03/20",
          "25/03/20"
         ],
         "y": [
          19,
          25,
          25,
          41,
          47,
          80,
          106,
          127,
          167,
          209,
          244,
          309,
          359,
          399,
          440,
          466,
          560,
          605,
          650,
          732,
          767,
          823,
          879,
          924,
          1006,
          1050,
          1093,
          1142,
          1183,
          1194,
          1236
         ]
        },
        {
         "line": {
          "color": "rgba(0, 128, 128, 1.0)",
          "dash": "solid",
          "shape": "linear",
          "width": 1.3
         },
         "marker": {
          "size": 4,
          "symbol": "circle"
         },
         "mode": "lines+markers",
         "name": "Piemonte",
         "text": "",
         "type": "scatter",
         "x": [
          "24/02/20",
          "25/02/20",
          "26/02/20",
          "27/02/20",
          "28/02/20",
          "29/02/20",
          "01/03/20",
          "02/03/20",
          "03/03/20",
          "04/03/20",
          "05/03/20",
          "06/03/20",
          "07/03/20",
          "08/03/20",
          "09/03/20",
          "10/03/20",
          "11/03/20",
          "12/03/20",
          "13/03/20",
          "14/03/20",
          "15/03/20",
          "16/03/20",
          "17/03/20",
          "18/03/20",
          "19/03/20",
          "20/03/20",
          "21/03/20",
          "22/03/20",
          "23/03/20",
          "24/03/20",
          "25/03/20"
         ],
         "y": [
          0,
          0,
          0,
          0,
          0,
          0,
          2,
          2,
          3,
          13,
          17,
          30,
          38,
          45,
          50,
          66,
          75,
          97,
          135,
          150,
          171,
          186,
          206,
          227,
          257,
          280,
          301,
          308,
          343,
          360,
          381
         ]
        },
        {
         "line": {
          "color": "rgba(255, 255, 51, 1.0)",
          "dash": "solid",
          "shape": "linear",
          "width": 1.3
         },
         "marker": {
          "size": 4,
          "symbol": "circle"
         },
         "mode": "lines+markers",
         "name": "P.A. Trento",
         "text": "",
         "type": "scatter",
         "x": [
          "24/02/20",
          "25/02/20",
          "26/02/20",
          "27/02/20",
          "28/02/20",
          "29/02/20",
          "01/03/20",
          "02/03/20",
          "03/03/20",
          "04/03/20",
          "05/03/20",
          "06/03/20",
          "07/03/20",
          "08/03/20",
          "09/03/20",
          "10/03/20",
          "11/03/20",
          "12/03/20",
          "13/03/20",
          "14/03/20",
          "15/03/20",
          "16/03/20",
          "17/03/20",
          "18/03/20",
          "19/03/20",
          "20/03/20",
          "21/03/20",
          "22/03/20",
          "23/03/20",
          "24/03/20",
          "25/03/20"
         ],
         "y": [
          0,
          0,
          0,
          0,
          0,
          0,
          0,
          0,
          0,
          0,
          0,
          0,
          1,
          2,
          2,
          3,
          4,
          5,
          6,
          12,
          19,
          19,
          22,
          22,
          30,
          34,
          39,
          46,
          46,
          49,
          65
         ]
        },
        {
         "line": {
          "color": "rgba(128, 128, 0, 1.0)",
          "dash": "solid",
          "shape": "linear",
          "width": 1.3
         },
         "marker": {
          "size": 4,
          "symbol": "circle"
         },
         "mode": "lines+markers",
         "name": "Valle d'Aosta",
         "text": "",
         "type": "scatter",
         "x": [
          "24/02/20",
          "25/02/20",
          "26/02/20",
          "27/02/20",
          "28/02/20",
          "29/02/20",
          "01/03/20",
          "02/03/20",
          "03/03/20",
          "04/03/20",
          "05/03/20",
          "06/03/20",
          "07/03/20",
          "08/03/20",
          "09/03/20",
          "10/03/20",
          "11/03/20",
          "12/03/20",
          "13/03/20",
          "14/03/20",
          "15/03/20",
          "16/03/20",
          "17/03/20",
          "18/03/20",
          "19/03/20",
          "20/03/20",
          "21/03/20",
          "22/03/20",
          "23/03/20",
          "24/03/20",
          "25/03/20"
         ],
         "y": [
          0,
          0,
          0,
          0,
          0,
          0,
          0,
          0,
          0,
          0,
          0,
          0,
          0,
          0,
          0,
          0,
          0,
          0,
          0,
          0,
          3,
          5,
          6,
          3,
          9,
          9,
          15,
          21,
          20,
          20,
          25
         ]
        },
        {
         "line": {
          "color": "rgba(251, 128, 114, 1.0)",
          "dash": "solid",
          "shape": "linear",
          "width": 1.3
         },
         "marker": {
          "size": 4,
          "symbol": "circle"
         },
         "mode": "lines+markers",
         "name": "Veneto",
         "text": "",
         "type": "scatter",
         "x": [
          "24/02/20",
          "25/02/20",
          "26/02/20",
          "27/02/20",
          "28/02/20",
          "29/02/20",
          "01/03/20",
          "02/03/20",
          "03/03/20",
          "04/03/20",
          "05/03/20",
          "06/03/20",
          "07/03/20",
          "08/03/20",
          "09/03/20",
          "10/03/20",
          "11/03/20",
          "12/03/20",
          "13/03/20",
          "14/03/20",
          "15/03/20",
          "16/03/20",
          "17/03/20",
          "18/03/20",
          "19/03/20",
          "20/03/20",
          "21/03/20",
          "22/03/20",
          "23/03/20",
          "24/03/20",
          "25/03/20"
         ],
         "y": [
          4,
          7,
          8,
          8,
          9,
          11,
          13,
          14,
          19,
          23,
          24,
          27,
          41,
          47,
          51,
          67,
          68,
          85,
          107,
          119,
          129,
          156,
          171,
          195,
          209,
          236,
          249,
          255,
          281,
          304,
          316
         ]
        }
       ],
       "layout": {
        "legend": {
         "bgcolor": "#FFFFFF",
         "font": {
          "color": "#4D5663"
         }
        },
        "paper_bgcolor": "#FFFFFF",
        "plot_bgcolor": "#FFFFFF",
        "template": {
         "data": {
          "bar": [
           {
            "error_x": {
             "color": "#2a3f5f"
            },
            "error_y": {
             "color": "#2a3f5f"
            },
            "marker": {
             "line": {
              "color": "#E5ECF6",
              "width": 0.5
             }
            },
            "type": "bar"
           }
          ],
          "barpolar": [
           {
            "marker": {
             "line": {
              "color": "#E5ECF6",
              "width": 0.5
             }
            },
            "type": "barpolar"
           }
          ],
          "carpet": [
           {
            "aaxis": {
             "endlinecolor": "#2a3f5f",
             "gridcolor": "white",
             "linecolor": "white",
             "minorgridcolor": "white",
             "startlinecolor": "#2a3f5f"
            },
            "baxis": {
             "endlinecolor": "#2a3f5f",
             "gridcolor": "white",
             "linecolor": "white",
             "minorgridcolor": "white",
             "startlinecolor": "#2a3f5f"
            },
            "type": "carpet"
           }
          ],
          "choropleth": [
           {
            "colorbar": {
             "outlinewidth": 0,
             "ticks": ""
            },
            "type": "choropleth"
           }
          ],
          "contour": [
           {
            "colorbar": {
             "outlinewidth": 0,
             "ticks": ""
            },
            "colorscale": [
             [
              0.0,
              "#0d0887"
             ],
             [
              0.1111111111111111,
              "#46039f"
             ],
             [
              0.2222222222222222,
              "#7201a8"
             ],
             [
              0.3333333333333333,
              "#9c179e"
             ],
             [
              0.4444444444444444,
              "#bd3786"
             ],
             [
              0.5555555555555556,
              "#d8576b"
             ],
             [
              0.6666666666666666,
              "#ed7953"
             ],
             [
              0.7777777777777778,
              "#fb9f3a"
             ],
             [
              0.8888888888888888,
              "#fdca26"
             ],
             [
              1.0,
              "#f0f921"
             ]
            ],
            "type": "contour"
           }
          ],
          "contourcarpet": [
           {
            "colorbar": {
             "outlinewidth": 0,
             "ticks": ""
            },
            "type": "contourcarpet"
           }
          ],
          "heatmap": [
           {
            "colorbar": {
             "outlinewidth": 0,
             "ticks": ""
            },
            "colorscale": [
             [
              0.0,
              "#0d0887"
             ],
             [
              0.1111111111111111,
              "#46039f"
             ],
             [
              0.2222222222222222,
              "#7201a8"
             ],
             [
              0.3333333333333333,
              "#9c179e"
             ],
             [
              0.4444444444444444,
              "#bd3786"
             ],
             [
              0.5555555555555556,
              "#d8576b"
             ],
             [
              0.6666666666666666,
              "#ed7953"
             ],
             [
              0.7777777777777778,
              "#fb9f3a"
             ],
             [
              0.8888888888888888,
              "#fdca26"
             ],
             [
              1.0,
              "#f0f921"
             ]
            ],
            "type": "heatmap"
           }
          ],
          "heatmapgl": [
           {
            "colorbar": {
             "outlinewidth": 0,
             "ticks": ""
            },
            "colorscale": [
             [
              0.0,
              "#0d0887"
             ],
             [
              0.1111111111111111,
              "#46039f"
             ],
             [
              0.2222222222222222,
              "#7201a8"
             ],
             [
              0.3333333333333333,
              "#9c179e"
             ],
             [
              0.4444444444444444,
              "#bd3786"
             ],
             [
              0.5555555555555556,
              "#d8576b"
             ],
             [
              0.6666666666666666,
              "#ed7953"
             ],
             [
              0.7777777777777778,
              "#fb9f3a"
             ],
             [
              0.8888888888888888,
              "#fdca26"
             ],
             [
              1.0,
              "#f0f921"
             ]
            ],
            "type": "heatmapgl"
           }
          ],
          "histogram": [
           {
            "marker": {
             "colorbar": {
              "outlinewidth": 0,
              "ticks": ""
             }
            },
            "type": "histogram"
           }
          ],
          "histogram2d": [
           {
            "colorbar": {
             "outlinewidth": 0,
             "ticks": ""
            },
            "colorscale": [
             [
              0.0,
              "#0d0887"
             ],
             [
              0.1111111111111111,
              "#46039f"
             ],
             [
              0.2222222222222222,
              "#7201a8"
             ],
             [
              0.3333333333333333,
              "#9c179e"
             ],
             [
              0.4444444444444444,
              "#bd3786"
             ],
             [
              0.5555555555555556,
              "#d8576b"
             ],
             [
              0.6666666666666666,
              "#ed7953"
             ],
             [
              0.7777777777777778,
              "#fb9f3a"
             ],
             [
              0.8888888888888888,
              "#fdca26"
             ],
             [
              1.0,
              "#f0f921"
             ]
            ],
            "type": "histogram2d"
           }
          ],
          "histogram2dcontour": [
           {
            "colorbar": {
             "outlinewidth": 0,
             "ticks": ""
            },
            "colorscale": [
             [
              0.0,
              "#0d0887"
             ],
             [
              0.1111111111111111,
              "#46039f"
             ],
             [
              0.2222222222222222,
              "#7201a8"
             ],
             [
              0.3333333333333333,
              "#9c179e"
             ],
             [
              0.4444444444444444,
              "#bd3786"
             ],
             [
              0.5555555555555556,
              "#d8576b"
             ],
             [
              0.6666666666666666,
              "#ed7953"
             ],
             [
              0.7777777777777778,
              "#fb9f3a"
             ],
             [
              0.8888888888888888,
              "#fdca26"
             ],
             [
              1.0,
              "#f0f921"
             ]
            ],
            "type": "histogram2dcontour"
           }
          ],
          "mesh3d": [
           {
            "colorbar": {
             "outlinewidth": 0,
             "ticks": ""
            },
            "type": "mesh3d"
           }
          ],
          "parcoords": [
           {
            "line": {
             "colorbar": {
              "outlinewidth": 0,
              "ticks": ""
             }
            },
            "type": "parcoords"
           }
          ],
          "pie": [
           {
            "automargin": true,
            "type": "pie"
           }
          ],
          "scatter": [
           {
            "marker": {
             "colorbar": {
              "outlinewidth": 0,
              "ticks": ""
             }
            },
            "type": "scatter"
           }
          ],
          "scatter3d": [
           {
            "line": {
             "colorbar": {
              "outlinewidth": 0,
              "ticks": ""
             }
            },
            "marker": {
             "colorbar": {
              "outlinewidth": 0,
              "ticks": ""
             }
            },
            "type": "scatter3d"
           }
          ],
          "scattercarpet": [
           {
            "marker": {
             "colorbar": {
              "outlinewidth": 0,
              "ticks": ""
             }
            },
            "type": "scattercarpet"
           }
          ],
          "scattergeo": [
           {
            "marker": {
             "colorbar": {
              "outlinewidth": 0,
              "ticks": ""
             }
            },
            "type": "scattergeo"
           }
          ],
          "scattergl": [
           {
            "marker": {
             "colorbar": {
              "outlinewidth": 0,
              "ticks": ""
             }
            },
            "type": "scattergl"
           }
          ],
          "scattermapbox": [
           {
            "marker": {
             "colorbar": {
              "outlinewidth": 0,
              "ticks": ""
             }
            },
            "type": "scattermapbox"
           }
          ],
          "scatterpolar": [
           {
            "marker": {
             "colorbar": {
              "outlinewidth": 0,
              "ticks": ""
             }
            },
            "type": "scatterpolar"
           }
          ],
          "scatterpolargl": [
           {
            "marker": {
             "colorbar": {
              "outlinewidth": 0,
              "ticks": ""
             }
            },
            "type": "scatterpolargl"
           }
          ],
          "scatterternary": [
           {
            "marker": {
             "colorbar": {
              "outlinewidth": 0,
              "ticks": ""
             }
            },
            "type": "scatterternary"
           }
          ],
          "surface": [
           {
            "colorbar": {
             "outlinewidth": 0,
             "ticks": ""
            },
            "colorscale": [
             [
              0.0,
              "#0d0887"
             ],
             [
              0.1111111111111111,
              "#46039f"
             ],
             [
              0.2222222222222222,
              "#7201a8"
             ],
             [
              0.3333333333333333,
              "#9c179e"
             ],
             [
              0.4444444444444444,
              "#bd3786"
             ],
             [
              0.5555555555555556,
              "#d8576b"
             ],
             [
              0.6666666666666666,
              "#ed7953"
             ],
             [
              0.7777777777777778,
              "#fb9f3a"
             ],
             [
              0.8888888888888888,
              "#fdca26"
             ],
             [
              1.0,
              "#f0f921"
             ]
            ],
            "type": "surface"
           }
          ],
          "table": [
           {
            "cells": {
             "fill": {
              "color": "#EBF0F8"
             },
             "line": {
              "color": "white"
             }
            },
            "header": {
             "fill": {
              "color": "#C8D4E3"
             },
             "line": {
              "color": "white"
             }
            },
            "type": "table"
           }
          ]
         },
         "layout": {
          "annotationdefaults": {
           "arrowcolor": "#2a3f5f",
           "arrowhead": 0,
           "arrowwidth": 1
          },
          "coloraxis": {
           "colorbar": {
            "outlinewidth": 0,
            "ticks": ""
           }
          },
          "colorscale": {
           "diverging": [
            [
             0,
             "#8e0152"
            ],
            [
             0.1,
             "#c51b7d"
            ],
            [
             0.2,
             "#de77ae"
            ],
            [
             0.3,
             "#f1b6da"
            ],
            [
             0.4,
             "#fde0ef"
            ],
            [
             0.5,
             "#f7f7f7"
            ],
            [
             0.6,
             "#e6f5d0"
            ],
            [
             0.7,
             "#b8e186"
            ],
            [
             0.8,
             "#7fbc41"
            ],
            [
             0.9,
             "#4d9221"
            ],
            [
             1,
             "#276419"
            ]
           ],
           "sequential": [
            [
             0.0,
             "#0d0887"
            ],
            [
             0.1111111111111111,
             "#46039f"
            ],
            [
             0.2222222222222222,
             "#7201a8"
            ],
            [
             0.3333333333333333,
             "#9c179e"
            ],
            [
             0.4444444444444444,
             "#bd3786"
            ],
            [
             0.5555555555555556,
             "#d8576b"
            ],
            [
             0.6666666666666666,
             "#ed7953"
            ],
            [
             0.7777777777777778,
             "#fb9f3a"
            ],
            [
             0.8888888888888888,
             "#fdca26"
            ],
            [
             1.0,
             "#f0f921"
            ]
           ],
           "sequentialminus": [
            [
             0.0,
             "#0d0887"
            ],
            [
             0.1111111111111111,
             "#46039f"
            ],
            [
             0.2222222222222222,
             "#7201a8"
            ],
            [
             0.3333333333333333,
             "#9c179e"
            ],
            [
             0.4444444444444444,
             "#bd3786"
            ],
            [
             0.5555555555555556,
             "#d8576b"
            ],
            [
             0.6666666666666666,
             "#ed7953"
            ],
            [
             0.7777777777777778,
             "#fb9f3a"
            ],
            [
             0.8888888888888888,
             "#fdca26"
            ],
            [
             1.0,
             "#f0f921"
            ]
           ]
          },
          "colorway": [
           "#636efa",
           "#EF553B",
           "#00cc96",
           "#ab63fa",
           "#FFA15A",
           "#19d3f3",
           "#FF6692",
           "#B6E880",
           "#FF97FF",
           "#FECB52"
          ],
          "font": {
           "color": "#2a3f5f"
          },
          "geo": {
           "bgcolor": "white",
           "lakecolor": "white",
           "landcolor": "#E5ECF6",
           "showlakes": true,
           "showland": true,
           "subunitcolor": "white"
          },
          "hoverlabel": {
           "align": "left"
          },
          "hovermode": "closest",
          "mapbox": {
           "style": "light"
          },
          "paper_bgcolor": "white",
          "plot_bgcolor": "#E5ECF6",
          "polar": {
           "angularaxis": {
            "gridcolor": "white",
            "linecolor": "white",
            "ticks": ""
           },
           "bgcolor": "#E5ECF6",
           "radialaxis": {
            "gridcolor": "white",
            "linecolor": "white",
            "ticks": ""
           }
          },
          "scene": {
           "xaxis": {
            "backgroundcolor": "#E5ECF6",
            "gridcolor": "white",
            "gridwidth": 2,
            "linecolor": "white",
            "showbackground": true,
            "ticks": "",
            "zerolinecolor": "white"
           },
           "yaxis": {
            "backgroundcolor": "#E5ECF6",
            "gridcolor": "white",
            "gridwidth": 2,
            "linecolor": "white",
            "showbackground": true,
            "ticks": "",
            "zerolinecolor": "white"
           },
           "zaxis": {
            "backgroundcolor": "#E5ECF6",
            "gridcolor": "white",
            "gridwidth": 2,
            "linecolor": "white",
            "showbackground": true,
            "ticks": "",
            "zerolinecolor": "white"
           }
          },
          "shapedefaults": {
           "line": {
            "color": "#2a3f5f"
           }
          },
          "ternary": {
           "aaxis": {
            "gridcolor": "white",
            "linecolor": "white",
            "ticks": ""
           },
           "baxis": {
            "gridcolor": "white",
            "linecolor": "white",
            "ticks": ""
           },
           "bgcolor": "#E5ECF6",
           "caxis": {
            "gridcolor": "white",
            "linecolor": "white",
            "ticks": ""
           }
          },
          "title": {
           "x": 0.05
          },
          "xaxis": {
           "automargin": true,
           "gridcolor": "white",
           "linecolor": "white",
           "ticks": "",
           "title": {
            "standoff": 15
           },
           "zerolinecolor": "white",
           "zerolinewidth": 2
          },
          "yaxis": {
           "automargin": true,
           "gridcolor": "white",
           "linecolor": "white",
           "ticks": "",
           "title": {
            "standoff": 15
           },
           "zerolinecolor": "white",
           "zerolinewidth": 2
          }
         }
        },
        "title": {
         "font": {
          "color": "#4D5663"
         },
         "text": "Italy terapia_intensiva by northern regions"
        },
        "updatemenus": [
         {
          "buttons": [
           {
            "args": [
             {
              "yaxis.type": "linear"
             }
            ],
            "label": "Linear",
            "method": "relayout"
           },
           {
            "args": [
             {
              "yaxis.type": "log"
             }
            ],
            "label": "Log",
            "method": "relayout"
           }
          ],
          "direction": "down",
          "pad": {
           "r": 10,
           "t": 10
          },
          "showactive": true,
          "x": 0.1,
          "xanchor": "left",
          "y": 1.1,
          "yanchor": "top"
         }
        ],
        "xaxis": {
         "gridcolor": "#E1E5ED",
         "showgrid": true,
         "tickfont": {
          "color": "#4D5663"
         },
         "title": {
          "font": {
           "color": "#4D5663"
          },
          "text": ""
         },
         "zerolinecolor": "#E1E5ED"
        },
        "yaxis": {
         "gridcolor": "#E1E5ED",
         "showgrid": true,
         "tickfont": {
          "color": "#4D5663"
         },
         "title": {
          "font": {
           "color": "#4D5663"
          },
          "text": "cases"
         },
         "zerolinecolor": "#E1E5ED"
        }
       }
      },
      "text/html": "<div>\n        \n        \n            <div id=\"ee8e9744-9d64-4867-94fd-c04f85e53852\" class=\"plotly-graph-div\" style=\"height:525px; width:100%;\"></div>\n            <script type=\"text/javascript\">\n                require([\"plotly\"], function(Plotly) {\n                    window.PLOTLYENV=window.PLOTLYENV || {};\n                    \n                if (document.getElementById(\"ee8e9744-9d64-4867-94fd-c04f85e53852\")) {\n                    Plotly.newPlot(\n                        'ee8e9744-9d64-4867-94fd-c04f85e53852',\n                        [{\"line\": {\"color\": \"rgba(255, 153, 51, 1.0)\", \"dash\": \"solid\", \"shape\": \"linear\", \"width\": 1.3}, \"marker\": {\"size\": 4, \"symbol\": \"circle\"}, \"mode\": \"lines+markers\", \"name\": \"P.A. Bolzano\", \"text\": \"\", \"type\": \"scatter\", \"x\": [\"24/02/20\", \"25/02/20\", \"26/02/20\", \"27/02/20\", \"28/02/20\", \"29/02/20\", \"01/03/20\", \"02/03/20\", \"03/03/20\", \"04/03/20\", \"05/03/20\", \"06/03/20\", \"07/03/20\", \"08/03/20\", \"09/03/20\", \"10/03/20\", \"11/03/20\", \"12/03/20\", \"13/03/20\", \"14/03/20\", \"15/03/20\", \"16/03/20\", \"17/03/20\", \"18/03/20\", \"19/03/20\", \"20/03/20\", \"21/03/20\", \"22/03/20\", \"23/03/20\", \"24/03/20\", \"25/03/20\"], \"y\": [0, 0, 0, 0, 0, 0, 0, 0, 0, 0, 0, 0, 0, 0, 0, 1, 4, 4, 5, 7, 4, 11, 11, 18, 18, 24, 30, 32, 33, 38, 40]}, {\"line\": {\"color\": \"rgba(55, 128, 191, 1.0)\", \"dash\": \"solid\", \"shape\": \"linear\", \"width\": 1.3}, \"marker\": {\"size\": 4, \"symbol\": \"circle\"}, \"mode\": \"lines+markers\", \"name\": \"Emilia Romagna\", \"text\": \"\", \"type\": \"scatter\", \"x\": [\"24/02/20\", \"25/02/20\", \"26/02/20\", \"27/02/20\", \"28/02/20\", \"29/02/20\", \"01/03/20\", \"02/03/20\", \"03/03/20\", \"04/03/20\", \"05/03/20\", \"06/03/20\", \"07/03/20\", \"08/03/20\", \"09/03/20\", \"10/03/20\", \"11/03/20\", \"12/03/20\", \"13/03/20\", \"14/03/20\", \"15/03/20\", \"16/03/20\", \"17/03/20\", \"18/03/20\", \"19/03/20\", \"20/03/20\", \"21/03/20\", \"22/03/20\", \"23/03/20\", \"24/03/20\", \"25/03/20\"], \"y\": [2, 2, 3, 6, 6, 11, 13, 16, 24, 26, 32, 53, 64, 75, 90, 98, 104, 112, 128, 152, 169, 197, 223, 247, 260, 267, 265, 269, 276, 291, 294]}, {\"line\": {\"color\": \"rgba(50, 171, 96, 1.0)\", \"dash\": \"solid\", \"shape\": \"linear\", \"width\": 1.3}, \"marker\": {\"size\": 4, \"symbol\": \"circle\"}, \"mode\": \"lines+markers\", \"name\": \"Friuli Venezia Giulia\", \"text\": \"\", \"type\": \"scatter\", \"x\": [\"24/02/20\", \"25/02/20\", \"26/02/20\", \"27/02/20\", \"28/02/20\", \"29/02/20\", \"01/03/20\", \"02/03/20\", \"03/03/20\", \"04/03/20\", \"05/03/20\", \"06/03/20\", \"07/03/20\", \"08/03/20\", \"09/03/20\", \"10/03/20\", \"11/03/20\", \"12/03/20\", \"13/03/20\", \"14/03/20\", \"15/03/20\", \"16/03/20\", \"17/03/20\", \"18/03/20\", \"19/03/20\", \"20/03/20\", \"21/03/20\", \"22/03/20\", \"23/03/20\", \"24/03/20\", \"25/03/20\"], \"y\": [0, 0, 0, 0, 0, 0, 0, 0, 0, 0, 0, 0, 1, 1, 1, 6, 5, 10, 8, 11, 12, 19, 21, 27, 29, 32, 37, 47, 41, 49, 52]}, {\"line\": {\"color\": \"rgba(128, 0, 128, 1.0)\", \"dash\": \"solid\", \"shape\": \"linear\", \"width\": 1.3}, \"marker\": {\"size\": 4, \"symbol\": \"circle\"}, \"mode\": \"lines+markers\", \"name\": \"Liguria\", \"text\": \"\", \"type\": \"scatter\", \"x\": [\"24/02/20\", \"25/02/20\", \"26/02/20\", \"27/02/20\", \"28/02/20\", \"29/02/20\", \"01/03/20\", \"02/03/20\", \"03/03/20\", \"04/03/20\", \"05/03/20\", \"06/03/20\", \"07/03/20\", \"08/03/20\", \"09/03/20\", \"10/03/20\", \"11/03/20\", \"12/03/20\", \"13/03/20\", \"14/03/20\", \"15/03/20\", \"16/03/20\", \"17/03/20\", \"18/03/20\", \"19/03/20\", \"20/03/20\", \"21/03/20\", \"22/03/20\", \"23/03/20\", \"24/03/20\", \"25/03/20\"], \"y\": [0, 0, 0, 0, 0, 1, 1, 1, 2, 3, 3, 5, 6, 11, 17, 29, 34, 36, 44, 62, 66, 73, 85, 100, 112, 121, 129, 132, 133, 147, 147]}, {\"line\": {\"color\": \"rgba(219, 64, 82, 1.0)\", \"dash\": \"solid\", \"shape\": \"linear\", \"width\": 1.3}, \"marker\": {\"size\": 4, \"symbol\": \"circle\"}, \"mode\": \"lines+markers\", \"name\": \"Lombardia\", \"text\": \"\", \"type\": \"scatter\", \"x\": [\"24/02/20\", \"25/02/20\", \"26/02/20\", \"27/02/20\", \"28/02/20\", \"29/02/20\", \"01/03/20\", \"02/03/20\", \"03/03/20\", \"04/03/20\", \"05/03/20\", \"06/03/20\", \"07/03/20\", \"08/03/20\", \"09/03/20\", \"10/03/20\", \"11/03/20\", \"12/03/20\", \"13/03/20\", \"14/03/20\", \"15/03/20\", \"16/03/20\", \"17/03/20\", \"18/03/20\", \"19/03/20\", \"20/03/20\", \"21/03/20\", \"22/03/20\", \"23/03/20\", \"24/03/20\", \"25/03/20\"], \"y\": [19, 25, 25, 41, 47, 80, 106, 127, 167, 209, 244, 309, 359, 399, 440, 466, 560, 605, 650, 732, 767, 823, 879, 924, 1006, 1050, 1093, 1142, 1183, 1194, 1236]}, {\"line\": {\"color\": \"rgba(0, 128, 128, 1.0)\", \"dash\": \"solid\", \"shape\": \"linear\", \"width\": 1.3}, \"marker\": {\"size\": 4, \"symbol\": \"circle\"}, \"mode\": \"lines+markers\", \"name\": \"Piemonte\", \"text\": \"\", \"type\": \"scatter\", \"x\": [\"24/02/20\", \"25/02/20\", \"26/02/20\", \"27/02/20\", \"28/02/20\", \"29/02/20\", \"01/03/20\", \"02/03/20\", \"03/03/20\", \"04/03/20\", \"05/03/20\", \"06/03/20\", \"07/03/20\", \"08/03/20\", \"09/03/20\", \"10/03/20\", \"11/03/20\", \"12/03/20\", \"13/03/20\", \"14/03/20\", \"15/03/20\", \"16/03/20\", \"17/03/20\", \"18/03/20\", \"19/03/20\", \"20/03/20\", \"21/03/20\", \"22/03/20\", \"23/03/20\", \"24/03/20\", \"25/03/20\"], \"y\": [0, 0, 0, 0, 0, 0, 2, 2, 3, 13, 17, 30, 38, 45, 50, 66, 75, 97, 135, 150, 171, 186, 206, 227, 257, 280, 301, 308, 343, 360, 381]}, {\"line\": {\"color\": \"rgba(255, 255, 51, 1.0)\", \"dash\": \"solid\", \"shape\": \"linear\", \"width\": 1.3}, \"marker\": {\"size\": 4, \"symbol\": \"circle\"}, \"mode\": \"lines+markers\", \"name\": \"P.A. Trento\", \"text\": \"\", \"type\": \"scatter\", \"x\": [\"24/02/20\", \"25/02/20\", \"26/02/20\", \"27/02/20\", \"28/02/20\", \"29/02/20\", \"01/03/20\", \"02/03/20\", \"03/03/20\", \"04/03/20\", \"05/03/20\", \"06/03/20\", \"07/03/20\", \"08/03/20\", \"09/03/20\", \"10/03/20\", \"11/03/20\", \"12/03/20\", \"13/03/20\", \"14/03/20\", \"15/03/20\", \"16/03/20\", \"17/03/20\", \"18/03/20\", \"19/03/20\", \"20/03/20\", \"21/03/20\", \"22/03/20\", \"23/03/20\", \"24/03/20\", \"25/03/20\"], \"y\": [0, 0, 0, 0, 0, 0, 0, 0, 0, 0, 0, 0, 1, 2, 2, 3, 4, 5, 6, 12, 19, 19, 22, 22, 30, 34, 39, 46, 46, 49, 65]}, {\"line\": {\"color\": \"rgba(128, 128, 0, 1.0)\", \"dash\": \"solid\", \"shape\": \"linear\", \"width\": 1.3}, \"marker\": {\"size\": 4, \"symbol\": \"circle\"}, \"mode\": \"lines+markers\", \"name\": \"Valle d'Aosta\", \"text\": \"\", \"type\": \"scatter\", \"x\": [\"24/02/20\", \"25/02/20\", \"26/02/20\", \"27/02/20\", \"28/02/20\", \"29/02/20\", \"01/03/20\", \"02/03/20\", \"03/03/20\", \"04/03/20\", \"05/03/20\", \"06/03/20\", \"07/03/20\", \"08/03/20\", \"09/03/20\", \"10/03/20\", \"11/03/20\", \"12/03/20\", \"13/03/20\", \"14/03/20\", \"15/03/20\", \"16/03/20\", \"17/03/20\", \"18/03/20\", \"19/03/20\", \"20/03/20\", \"21/03/20\", \"22/03/20\", \"23/03/20\", \"24/03/20\", \"25/03/20\"], \"y\": [0, 0, 0, 0, 0, 0, 0, 0, 0, 0, 0, 0, 0, 0, 0, 0, 0, 0, 0, 0, 3, 5, 6, 3, 9, 9, 15, 21, 20, 20, 25]}, {\"line\": {\"color\": \"rgba(251, 128, 114, 1.0)\", \"dash\": \"solid\", \"shape\": \"linear\", \"width\": 1.3}, \"marker\": {\"size\": 4, \"symbol\": \"circle\"}, \"mode\": \"lines+markers\", \"name\": \"Veneto\", \"text\": \"\", \"type\": \"scatter\", \"x\": [\"24/02/20\", \"25/02/20\", \"26/02/20\", \"27/02/20\", \"28/02/20\", \"29/02/20\", \"01/03/20\", \"02/03/20\", \"03/03/20\", \"04/03/20\", \"05/03/20\", \"06/03/20\", \"07/03/20\", \"08/03/20\", \"09/03/20\", \"10/03/20\", \"11/03/20\", \"12/03/20\", \"13/03/20\", \"14/03/20\", \"15/03/20\", \"16/03/20\", \"17/03/20\", \"18/03/20\", \"19/03/20\", \"20/03/20\", \"21/03/20\", \"22/03/20\", \"23/03/20\", \"24/03/20\", \"25/03/20\"], \"y\": [4, 7, 8, 8, 9, 11, 13, 14, 19, 23, 24, 27, 41, 47, 51, 67, 68, 85, 107, 119, 129, 156, 171, 195, 209, 236, 249, 255, 281, 304, 316]}],\n                        {\"legend\": {\"bgcolor\": \"#FFFFFF\", \"font\": {\"color\": \"#4D5663\"}}, \"paper_bgcolor\": \"#FFFFFF\", \"plot_bgcolor\": \"#FFFFFF\", \"template\": {\"data\": {\"bar\": [{\"error_x\": {\"color\": \"#2a3f5f\"}, \"error_y\": {\"color\": \"#2a3f5f\"}, \"marker\": {\"line\": {\"color\": \"#E5ECF6\", \"width\": 0.5}}, \"type\": \"bar\"}], \"barpolar\": [{\"marker\": {\"line\": {\"color\": \"#E5ECF6\", \"width\": 0.5}}, \"type\": \"barpolar\"}], \"carpet\": [{\"aaxis\": {\"endlinecolor\": \"#2a3f5f\", \"gridcolor\": \"white\", \"linecolor\": \"white\", \"minorgridcolor\": \"white\", \"startlinecolor\": \"#2a3f5f\"}, \"baxis\": {\"endlinecolor\": \"#2a3f5f\", \"gridcolor\": \"white\", \"linecolor\": \"white\", \"minorgridcolor\": \"white\", \"startlinecolor\": \"#2a3f5f\"}, \"type\": \"carpet\"}], \"choropleth\": [{\"colorbar\": {\"outlinewidth\": 0, \"ticks\": \"\"}, \"type\": \"choropleth\"}], \"contour\": [{\"colorbar\": {\"outlinewidth\": 0, \"ticks\": \"\"}, \"colorscale\": [[0.0, \"#0d0887\"], [0.1111111111111111, \"#46039f\"], [0.2222222222222222, \"#7201a8\"], [0.3333333333333333, \"#9c179e\"], [0.4444444444444444, \"#bd3786\"], [0.5555555555555556, \"#d8576b\"], [0.6666666666666666, \"#ed7953\"], [0.7777777777777778, \"#fb9f3a\"], [0.8888888888888888, \"#fdca26\"], [1.0, \"#f0f921\"]], \"type\": \"contour\"}], \"contourcarpet\": [{\"colorbar\": {\"outlinewidth\": 0, \"ticks\": \"\"}, \"type\": \"contourcarpet\"}], \"heatmap\": [{\"colorbar\": {\"outlinewidth\": 0, \"ticks\": \"\"}, \"colorscale\": [[0.0, \"#0d0887\"], [0.1111111111111111, \"#46039f\"], [0.2222222222222222, \"#7201a8\"], [0.3333333333333333, \"#9c179e\"], [0.4444444444444444, \"#bd3786\"], [0.5555555555555556, \"#d8576b\"], [0.6666666666666666, \"#ed7953\"], [0.7777777777777778, \"#fb9f3a\"], [0.8888888888888888, \"#fdca26\"], [1.0, \"#f0f921\"]], \"type\": \"heatmap\"}], \"heatmapgl\": [{\"colorbar\": {\"outlinewidth\": 0, \"ticks\": \"\"}, \"colorscale\": [[0.0, \"#0d0887\"], [0.1111111111111111, \"#46039f\"], [0.2222222222222222, \"#7201a8\"], [0.3333333333333333, \"#9c179e\"], [0.4444444444444444, \"#bd3786\"], [0.5555555555555556, \"#d8576b\"], [0.6666666666666666, \"#ed7953\"], [0.7777777777777778, \"#fb9f3a\"], [0.8888888888888888, \"#fdca26\"], [1.0, \"#f0f921\"]], \"type\": \"heatmapgl\"}], \"histogram\": [{\"marker\": {\"colorbar\": {\"outlinewidth\": 0, \"ticks\": \"\"}}, \"type\": \"histogram\"}], \"histogram2d\": [{\"colorbar\": {\"outlinewidth\": 0, \"ticks\": \"\"}, \"colorscale\": [[0.0, \"#0d0887\"], [0.1111111111111111, \"#46039f\"], [0.2222222222222222, \"#7201a8\"], [0.3333333333333333, \"#9c179e\"], [0.4444444444444444, \"#bd3786\"], [0.5555555555555556, \"#d8576b\"], [0.6666666666666666, \"#ed7953\"], [0.7777777777777778, \"#fb9f3a\"], [0.8888888888888888, \"#fdca26\"], [1.0, \"#f0f921\"]], \"type\": \"histogram2d\"}], \"histogram2dcontour\": [{\"colorbar\": {\"outlinewidth\": 0, \"ticks\": \"\"}, \"colorscale\": [[0.0, \"#0d0887\"], [0.1111111111111111, \"#46039f\"], [0.2222222222222222, \"#7201a8\"], [0.3333333333333333, \"#9c179e\"], [0.4444444444444444, \"#bd3786\"], [0.5555555555555556, \"#d8576b\"], [0.6666666666666666, \"#ed7953\"], [0.7777777777777778, \"#fb9f3a\"], [0.8888888888888888, \"#fdca26\"], [1.0, \"#f0f921\"]], \"type\": \"histogram2dcontour\"}], \"mesh3d\": [{\"colorbar\": {\"outlinewidth\": 0, \"ticks\": \"\"}, \"type\": \"mesh3d\"}], \"parcoords\": [{\"line\": {\"colorbar\": {\"outlinewidth\": 0, \"ticks\": \"\"}}, \"type\": \"parcoords\"}], \"pie\": [{\"automargin\": true, \"type\": \"pie\"}], \"scatter\": [{\"marker\": {\"colorbar\": {\"outlinewidth\": 0, \"ticks\": \"\"}}, \"type\": \"scatter\"}], \"scatter3d\": [{\"line\": {\"colorbar\": {\"outlinewidth\": 0, \"ticks\": \"\"}}, \"marker\": {\"colorbar\": {\"outlinewidth\": 0, \"ticks\": \"\"}}, \"type\": \"scatter3d\"}], \"scattercarpet\": [{\"marker\": {\"colorbar\": {\"outlinewidth\": 0, \"ticks\": \"\"}}, \"type\": \"scattercarpet\"}], \"scattergeo\": [{\"marker\": {\"colorbar\": {\"outlinewidth\": 0, \"ticks\": \"\"}}, \"type\": \"scattergeo\"}], \"scattergl\": [{\"marker\": {\"colorbar\": {\"outlinewidth\": 0, \"ticks\": \"\"}}, \"type\": \"scattergl\"}], \"scattermapbox\": [{\"marker\": {\"colorbar\": {\"outlinewidth\": 0, \"ticks\": \"\"}}, \"type\": \"scattermapbox\"}], \"scatterpolar\": [{\"marker\": {\"colorbar\": {\"outlinewidth\": 0, \"ticks\": \"\"}}, \"type\": \"scatterpolar\"}], \"scatterpolargl\": [{\"marker\": {\"colorbar\": {\"outlinewidth\": 0, \"ticks\": \"\"}}, \"type\": \"scatterpolargl\"}], \"scatterternary\": [{\"marker\": {\"colorbar\": {\"outlinewidth\": 0, \"ticks\": \"\"}}, \"type\": \"scatterternary\"}], \"surface\": [{\"colorbar\": {\"outlinewidth\": 0, \"ticks\": \"\"}, \"colorscale\": [[0.0, \"#0d0887\"], [0.1111111111111111, \"#46039f\"], [0.2222222222222222, \"#7201a8\"], [0.3333333333333333, \"#9c179e\"], [0.4444444444444444, \"#bd3786\"], [0.5555555555555556, \"#d8576b\"], [0.6666666666666666, \"#ed7953\"], [0.7777777777777778, \"#fb9f3a\"], [0.8888888888888888, \"#fdca26\"], [1.0, \"#f0f921\"]], \"type\": \"surface\"}], \"table\": [{\"cells\": {\"fill\": {\"color\": \"#EBF0F8\"}, \"line\": {\"color\": \"white\"}}, \"header\": {\"fill\": {\"color\": \"#C8D4E3\"}, \"line\": {\"color\": \"white\"}}, \"type\": \"table\"}]}, \"layout\": {\"annotationdefaults\": {\"arrowcolor\": \"#2a3f5f\", \"arrowhead\": 0, \"arrowwidth\": 1}, \"coloraxis\": {\"colorbar\": {\"outlinewidth\": 0, \"ticks\": \"\"}}, \"colorscale\": {\"diverging\": [[0, \"#8e0152\"], [0.1, \"#c51b7d\"], [0.2, \"#de77ae\"], [0.3, \"#f1b6da\"], [0.4, \"#fde0ef\"], [0.5, \"#f7f7f7\"], [0.6, \"#e6f5d0\"], [0.7, \"#b8e186\"], [0.8, \"#7fbc41\"], [0.9, \"#4d9221\"], [1, \"#276419\"]], \"sequential\": [[0.0, \"#0d0887\"], [0.1111111111111111, \"#46039f\"], [0.2222222222222222, \"#7201a8\"], [0.3333333333333333, \"#9c179e\"], [0.4444444444444444, \"#bd3786\"], [0.5555555555555556, \"#d8576b\"], [0.6666666666666666, \"#ed7953\"], [0.7777777777777778, \"#fb9f3a\"], [0.8888888888888888, \"#fdca26\"], [1.0, \"#f0f921\"]], \"sequentialminus\": [[0.0, \"#0d0887\"], [0.1111111111111111, \"#46039f\"], [0.2222222222222222, \"#7201a8\"], [0.3333333333333333, \"#9c179e\"], [0.4444444444444444, \"#bd3786\"], [0.5555555555555556, \"#d8576b\"], [0.6666666666666666, \"#ed7953\"], [0.7777777777777778, \"#fb9f3a\"], [0.8888888888888888, \"#fdca26\"], [1.0, \"#f0f921\"]]}, \"colorway\": [\"#636efa\", \"#EF553B\", \"#00cc96\", \"#ab63fa\", \"#FFA15A\", \"#19d3f3\", \"#FF6692\", \"#B6E880\", \"#FF97FF\", \"#FECB52\"], \"font\": {\"color\": \"#2a3f5f\"}, \"geo\": {\"bgcolor\": \"white\", \"lakecolor\": \"white\", \"landcolor\": \"#E5ECF6\", \"showlakes\": true, \"showland\": true, \"subunitcolor\": \"white\"}, \"hoverlabel\": {\"align\": \"left\"}, \"hovermode\": \"closest\", \"mapbox\": {\"style\": \"light\"}, \"paper_bgcolor\": \"white\", \"plot_bgcolor\": \"#E5ECF6\", \"polar\": {\"angularaxis\": {\"gridcolor\": \"white\", \"linecolor\": \"white\", \"ticks\": \"\"}, \"bgcolor\": \"#E5ECF6\", \"radialaxis\": {\"gridcolor\": \"white\", \"linecolor\": \"white\", \"ticks\": \"\"}}, \"scene\": {\"xaxis\": {\"backgroundcolor\": \"#E5ECF6\", \"gridcolor\": \"white\", \"gridwidth\": 2, \"linecolor\": \"white\", \"showbackground\": true, \"ticks\": \"\", \"zerolinecolor\": \"white\"}, \"yaxis\": {\"backgroundcolor\": \"#E5ECF6\", \"gridcolor\": \"white\", \"gridwidth\": 2, \"linecolor\": \"white\", \"showbackground\": true, \"ticks\": \"\", \"zerolinecolor\": \"white\"}, \"zaxis\": {\"backgroundcolor\": \"#E5ECF6\", \"gridcolor\": \"white\", \"gridwidth\": 2, \"linecolor\": \"white\", \"showbackground\": true, \"ticks\": \"\", \"zerolinecolor\": \"white\"}}, \"shapedefaults\": {\"line\": {\"color\": \"#2a3f5f\"}}, \"ternary\": {\"aaxis\": {\"gridcolor\": \"white\", \"linecolor\": \"white\", \"ticks\": \"\"}, \"baxis\": {\"gridcolor\": \"white\", \"linecolor\": \"white\", \"ticks\": \"\"}, \"bgcolor\": \"#E5ECF6\", \"caxis\": {\"gridcolor\": \"white\", \"linecolor\": \"white\", \"ticks\": \"\"}}, \"title\": {\"x\": 0.05}, \"xaxis\": {\"automargin\": true, \"gridcolor\": \"white\", \"linecolor\": \"white\", \"ticks\": \"\", \"title\": {\"standoff\": 15}, \"zerolinecolor\": \"white\", \"zerolinewidth\": 2}, \"yaxis\": {\"automargin\": true, \"gridcolor\": \"white\", \"linecolor\": \"white\", \"ticks\": \"\", \"title\": {\"standoff\": 15}, \"zerolinecolor\": \"white\", \"zerolinewidth\": 2}}}, \"title\": {\"font\": {\"color\": \"#4D5663\"}, \"text\": \"Italy terapia_intensiva by northern regions\"}, \"updatemenus\": [{\"buttons\": [{\"args\": [{\"yaxis.type\": \"linear\"}], \"label\": \"Linear\", \"method\": \"relayout\"}, {\"args\": [{\"yaxis.type\": \"log\"}], \"label\": \"Log\", \"method\": \"relayout\"}], \"direction\": \"down\", \"pad\": {\"r\": 10, \"t\": 10}, \"showactive\": true, \"x\": 0.1, \"xanchor\": \"left\", \"y\": 1.1, \"yanchor\": \"top\"}], \"xaxis\": {\"gridcolor\": \"#E1E5ED\", \"showgrid\": true, \"tickfont\": {\"color\": \"#4D5663\"}, \"title\": {\"font\": {\"color\": \"#4D5663\"}, \"text\": \"\"}, \"zerolinecolor\": \"#E1E5ED\"}, \"yaxis\": {\"gridcolor\": \"#E1E5ED\", \"showgrid\": true, \"tickfont\": {\"color\": \"#4D5663\"}, \"title\": {\"font\": {\"color\": \"#4D5663\"}, \"text\": \"cases\"}, \"zerolinecolor\": \"#E1E5ED\"}},\n                        {\"responsive\": true}\n                    ).then(function(){\n                            \nvar gd = document.getElementById('ee8e9744-9d64-4867-94fd-c04f85e53852');\nvar x = new MutationObserver(function (mutations, observer) {{\n        var display = window.getComputedStyle(gd).display;\n        if (!display || display === 'none') {{\n            console.log([gd, 'removed!']);\n            Plotly.purge(gd);\n            observer.disconnect();\n        }}\n}});\n\n// Listen for the removal of the full notebook cells\nvar notebookContainer = gd.closest('#notebook-container');\nif (notebookContainer) {{\n    x.observe(notebookContainer, {childList: true});\n}}\n\n// Listen for the clearing of the current output cell\nvar outputEl = gd.closest('.output');\nif (outputEl) {{\n    x.observe(outputEl, {childList: true});\n}}\n\n                        })\n                };\n                });\n            </script>\n        </div>"
     },
     "metadata": {},
     "output_type": "display_data"
    }
   ],
   "source": [
    "category = 'terapia_intensiva'\n",
    "regions = io.italy_load_regions(io.italy_northern_regions)\n",
    "total_cases = io.italy_regions_filter_by_category(regions, category)\n",
    "\n",
    "mpl.iplot_comparative_plot(total_cases, title='Italy ' + category + ' by northern regions')"
   ],
   "metadata": {
    "collapsed": false,
    "pycharm": {
     "name": "#%%\n",
     "is_executing": false
    }
   }
  },
  {
   "cell_type": "code",
   "execution_count": 6,
   "outputs": [
    {
     "data": {
      "application/vnd.plotly.v1+json": {
       "config": {
        "plotlyServerURL": "https://plot.ly"
       },
       "data": [
        {
         "line": {
          "color": "rgba(255, 153, 51, 1.0)",
          "dash": "solid",
          "shape": "linear",
          "width": 1.3
         },
         "marker": {
          "size": 4,
          "symbol": "circle"
         },
         "mode": "lines+markers",
         "name": "Lazio",
         "text": "",
         "type": "scatter",
         "x": [
          "24/02/20",
          "25/02/20",
          "26/02/20",
          "27/02/20",
          "28/02/20",
          "29/02/20",
          "01/03/20",
          "02/03/20",
          "03/03/20",
          "04/03/20",
          "05/03/20",
          "06/03/20",
          "07/03/20",
          "08/03/20",
          "09/03/20",
          "10/03/20",
          "11/03/20",
          "12/03/20",
          "13/03/20",
          "14/03/20",
          "15/03/20",
          "16/03/20",
          "17/03/20",
          "18/03/20",
          "19/03/20",
          "20/03/20",
          "21/03/20",
          "22/03/20",
          "23/03/20",
          "24/03/20",
          "25/03/20"
         ],
         "y": [
          1,
          1,
          0,
          0,
          0,
          0,
          0,
          0,
          0,
          3,
          7,
          8,
          8,
          8,
          8,
          15,
          18,
          20,
          24,
          25,
          31,
          31,
          44,
          44,
          45,
          47,
          70,
          79,
          96,
          94,
          101
         ]
        },
        {
         "line": {
          "color": "rgba(55, 128, 191, 1.0)",
          "dash": "solid",
          "shape": "linear",
          "width": 1.3
         },
         "marker": {
          "size": 4,
          "symbol": "circle"
         },
         "mode": "lines+markers",
         "name": "Marche",
         "text": "",
         "type": "scatter",
         "x": [
          "24/02/20",
          "25/02/20",
          "26/02/20",
          "27/02/20",
          "28/02/20",
          "29/02/20",
          "01/03/20",
          "02/03/20",
          "03/03/20",
          "04/03/20",
          "05/03/20",
          "06/03/20",
          "07/03/20",
          "08/03/20",
          "09/03/20",
          "10/03/20",
          "11/03/20",
          "12/03/20",
          "13/03/20",
          "14/03/20",
          "15/03/20",
          "16/03/20",
          "17/03/20",
          "18/03/20",
          "19/03/20",
          "20/03/20",
          "21/03/20",
          "22/03/20",
          "23/03/20",
          "24/03/20",
          "25/03/20"
         ],
         "y": [
          0,
          0,
          0,
          1,
          2,
          2,
          5,
          6,
          13,
          15,
          19,
          20,
          36,
          41,
          47,
          54,
          66,
          76,
          85,
          93,
          98,
          110,
          109,
          119,
          141,
          138,
          141,
          138,
          148,
          149,
          148
         ]
        },
        {
         "line": {
          "color": "rgba(50, 171, 96, 1.0)",
          "dash": "solid",
          "shape": "linear",
          "width": 1.3
         },
         "marker": {
          "size": 4,
          "symbol": "circle"
         },
         "mode": "lines+markers",
         "name": "Toscana",
         "text": "",
         "type": "scatter",
         "x": [
          "24/02/20",
          "25/02/20",
          "26/02/20",
          "27/02/20",
          "28/02/20",
          "29/02/20",
          "01/03/20",
          "02/03/20",
          "03/03/20",
          "04/03/20",
          "05/03/20",
          "06/03/20",
          "07/03/20",
          "08/03/20",
          "09/03/20",
          "10/03/20",
          "11/03/20",
          "12/03/20",
          "13/03/20",
          "14/03/20",
          "15/03/20",
          "16/03/20",
          "17/03/20",
          "18/03/20",
          "19/03/20",
          "20/03/20",
          "21/03/20",
          "22/03/20",
          "23/03/20",
          "24/03/20",
          "25/03/20"
         ],
         "y": [
          0,
          0,
          0,
          0,
          0,
          0,
          0,
          0,
          0,
          2,
          3,
          5,
          7,
          7,
          9,
          40,
          54,
          59,
          77,
          87,
          107,
          107,
          143,
          160,
          178,
          189,
          202,
          215,
          238,
          244,
          251
         ]
        },
        {
         "line": {
          "color": "rgba(128, 0, 128, 1.0)",
          "dash": "solid",
          "shape": "linear",
          "width": 1.3
         },
         "marker": {
          "size": 4,
          "symbol": "circle"
         },
         "mode": "lines+markers",
         "name": "Umbria",
         "text": "",
         "type": "scatter",
         "x": [
          "24/02/20",
          "25/02/20",
          "26/02/20",
          "27/02/20",
          "28/02/20",
          "29/02/20",
          "01/03/20",
          "02/03/20",
          "03/03/20",
          "04/03/20",
          "05/03/20",
          "06/03/20",
          "07/03/20",
          "08/03/20",
          "09/03/20",
          "10/03/20",
          "11/03/20",
          "12/03/20",
          "13/03/20",
          "14/03/20",
          "15/03/20",
          "16/03/20",
          "17/03/20",
          "18/03/20",
          "19/03/20",
          "20/03/20",
          "21/03/20",
          "22/03/20",
          "23/03/20",
          "24/03/20",
          "25/03/20"
         ],
         "y": [
          0,
          0,
          0,
          0,
          0,
          0,
          0,
          0,
          1,
          1,
          1,
          2,
          2,
          2,
          2,
          2,
          5,
          8,
          10,
          11,
          13,
          15,
          21,
          21,
          21,
          24,
          29,
          35,
          42,
          43,
          44
         ]
        }
       ],
       "layout": {
        "legend": {
         "bgcolor": "#FFFFFF",
         "font": {
          "color": "#4D5663"
         }
        },
        "paper_bgcolor": "#FFFFFF",
        "plot_bgcolor": "#FFFFFF",
        "template": {
         "data": {
          "bar": [
           {
            "error_x": {
             "color": "#2a3f5f"
            },
            "error_y": {
             "color": "#2a3f5f"
            },
            "marker": {
             "line": {
              "color": "#E5ECF6",
              "width": 0.5
             }
            },
            "type": "bar"
           }
          ],
          "barpolar": [
           {
            "marker": {
             "line": {
              "color": "#E5ECF6",
              "width": 0.5
             }
            },
            "type": "barpolar"
           }
          ],
          "carpet": [
           {
            "aaxis": {
             "endlinecolor": "#2a3f5f",
             "gridcolor": "white",
             "linecolor": "white",
             "minorgridcolor": "white",
             "startlinecolor": "#2a3f5f"
            },
            "baxis": {
             "endlinecolor": "#2a3f5f",
             "gridcolor": "white",
             "linecolor": "white",
             "minorgridcolor": "white",
             "startlinecolor": "#2a3f5f"
            },
            "type": "carpet"
           }
          ],
          "choropleth": [
           {
            "colorbar": {
             "outlinewidth": 0,
             "ticks": ""
            },
            "type": "choropleth"
           }
          ],
          "contour": [
           {
            "colorbar": {
             "outlinewidth": 0,
             "ticks": ""
            },
            "colorscale": [
             [
              0.0,
              "#0d0887"
             ],
             [
              0.1111111111111111,
              "#46039f"
             ],
             [
              0.2222222222222222,
              "#7201a8"
             ],
             [
              0.3333333333333333,
              "#9c179e"
             ],
             [
              0.4444444444444444,
              "#bd3786"
             ],
             [
              0.5555555555555556,
              "#d8576b"
             ],
             [
              0.6666666666666666,
              "#ed7953"
             ],
             [
              0.7777777777777778,
              "#fb9f3a"
             ],
             [
              0.8888888888888888,
              "#fdca26"
             ],
             [
              1.0,
              "#f0f921"
             ]
            ],
            "type": "contour"
           }
          ],
          "contourcarpet": [
           {
            "colorbar": {
             "outlinewidth": 0,
             "ticks": ""
            },
            "type": "contourcarpet"
           }
          ],
          "heatmap": [
           {
            "colorbar": {
             "outlinewidth": 0,
             "ticks": ""
            },
            "colorscale": [
             [
              0.0,
              "#0d0887"
             ],
             [
              0.1111111111111111,
              "#46039f"
             ],
             [
              0.2222222222222222,
              "#7201a8"
             ],
             [
              0.3333333333333333,
              "#9c179e"
             ],
             [
              0.4444444444444444,
              "#bd3786"
             ],
             [
              0.5555555555555556,
              "#d8576b"
             ],
             [
              0.6666666666666666,
              "#ed7953"
             ],
             [
              0.7777777777777778,
              "#fb9f3a"
             ],
             [
              0.8888888888888888,
              "#fdca26"
             ],
             [
              1.0,
              "#f0f921"
             ]
            ],
            "type": "heatmap"
           }
          ],
          "heatmapgl": [
           {
            "colorbar": {
             "outlinewidth": 0,
             "ticks": ""
            },
            "colorscale": [
             [
              0.0,
              "#0d0887"
             ],
             [
              0.1111111111111111,
              "#46039f"
             ],
             [
              0.2222222222222222,
              "#7201a8"
             ],
             [
              0.3333333333333333,
              "#9c179e"
             ],
             [
              0.4444444444444444,
              "#bd3786"
             ],
             [
              0.5555555555555556,
              "#d8576b"
             ],
             [
              0.6666666666666666,
              "#ed7953"
             ],
             [
              0.7777777777777778,
              "#fb9f3a"
             ],
             [
              0.8888888888888888,
              "#fdca26"
             ],
             [
              1.0,
              "#f0f921"
             ]
            ],
            "type": "heatmapgl"
           }
          ],
          "histogram": [
           {
            "marker": {
             "colorbar": {
              "outlinewidth": 0,
              "ticks": ""
             }
            },
            "type": "histogram"
           }
          ],
          "histogram2d": [
           {
            "colorbar": {
             "outlinewidth": 0,
             "ticks": ""
            },
            "colorscale": [
             [
              0.0,
              "#0d0887"
             ],
             [
              0.1111111111111111,
              "#46039f"
             ],
             [
              0.2222222222222222,
              "#7201a8"
             ],
             [
              0.3333333333333333,
              "#9c179e"
             ],
             [
              0.4444444444444444,
              "#bd3786"
             ],
             [
              0.5555555555555556,
              "#d8576b"
             ],
             [
              0.6666666666666666,
              "#ed7953"
             ],
             [
              0.7777777777777778,
              "#fb9f3a"
             ],
             [
              0.8888888888888888,
              "#fdca26"
             ],
             [
              1.0,
              "#f0f921"
             ]
            ],
            "type": "histogram2d"
           }
          ],
          "histogram2dcontour": [
           {
            "colorbar": {
             "outlinewidth": 0,
             "ticks": ""
            },
            "colorscale": [
             [
              0.0,
              "#0d0887"
             ],
             [
              0.1111111111111111,
              "#46039f"
             ],
             [
              0.2222222222222222,
              "#7201a8"
             ],
             [
              0.3333333333333333,
              "#9c179e"
             ],
             [
              0.4444444444444444,
              "#bd3786"
             ],
             [
              0.5555555555555556,
              "#d8576b"
             ],
             [
              0.6666666666666666,
              "#ed7953"
             ],
             [
              0.7777777777777778,
              "#fb9f3a"
             ],
             [
              0.8888888888888888,
              "#fdca26"
             ],
             [
              1.0,
              "#f0f921"
             ]
            ],
            "type": "histogram2dcontour"
           }
          ],
          "mesh3d": [
           {
            "colorbar": {
             "outlinewidth": 0,
             "ticks": ""
            },
            "type": "mesh3d"
           }
          ],
          "parcoords": [
           {
            "line": {
             "colorbar": {
              "outlinewidth": 0,
              "ticks": ""
             }
            },
            "type": "parcoords"
           }
          ],
          "pie": [
           {
            "automargin": true,
            "type": "pie"
           }
          ],
          "scatter": [
           {
            "marker": {
             "colorbar": {
              "outlinewidth": 0,
              "ticks": ""
             }
            },
            "type": "scatter"
           }
          ],
          "scatter3d": [
           {
            "line": {
             "colorbar": {
              "outlinewidth": 0,
              "ticks": ""
             }
            },
            "marker": {
             "colorbar": {
              "outlinewidth": 0,
              "ticks": ""
             }
            },
            "type": "scatter3d"
           }
          ],
          "scattercarpet": [
           {
            "marker": {
             "colorbar": {
              "outlinewidth": 0,
              "ticks": ""
             }
            },
            "type": "scattercarpet"
           }
          ],
          "scattergeo": [
           {
            "marker": {
             "colorbar": {
              "outlinewidth": 0,
              "ticks": ""
             }
            },
            "type": "scattergeo"
           }
          ],
          "scattergl": [
           {
            "marker": {
             "colorbar": {
              "outlinewidth": 0,
              "ticks": ""
             }
            },
            "type": "scattergl"
           }
          ],
          "scattermapbox": [
           {
            "marker": {
             "colorbar": {
              "outlinewidth": 0,
              "ticks": ""
             }
            },
            "type": "scattermapbox"
           }
          ],
          "scatterpolar": [
           {
            "marker": {
             "colorbar": {
              "outlinewidth": 0,
              "ticks": ""
             }
            },
            "type": "scatterpolar"
           }
          ],
          "scatterpolargl": [
           {
            "marker": {
             "colorbar": {
              "outlinewidth": 0,
              "ticks": ""
             }
            },
            "type": "scatterpolargl"
           }
          ],
          "scatterternary": [
           {
            "marker": {
             "colorbar": {
              "outlinewidth": 0,
              "ticks": ""
             }
            },
            "type": "scatterternary"
           }
          ],
          "surface": [
           {
            "colorbar": {
             "outlinewidth": 0,
             "ticks": ""
            },
            "colorscale": [
             [
              0.0,
              "#0d0887"
             ],
             [
              0.1111111111111111,
              "#46039f"
             ],
             [
              0.2222222222222222,
              "#7201a8"
             ],
             [
              0.3333333333333333,
              "#9c179e"
             ],
             [
              0.4444444444444444,
              "#bd3786"
             ],
             [
              0.5555555555555556,
              "#d8576b"
             ],
             [
              0.6666666666666666,
              "#ed7953"
             ],
             [
              0.7777777777777778,
              "#fb9f3a"
             ],
             [
              0.8888888888888888,
              "#fdca26"
             ],
             [
              1.0,
              "#f0f921"
             ]
            ],
            "type": "surface"
           }
          ],
          "table": [
           {
            "cells": {
             "fill": {
              "color": "#EBF0F8"
             },
             "line": {
              "color": "white"
             }
            },
            "header": {
             "fill": {
              "color": "#C8D4E3"
             },
             "line": {
              "color": "white"
             }
            },
            "type": "table"
           }
          ]
         },
         "layout": {
          "annotationdefaults": {
           "arrowcolor": "#2a3f5f",
           "arrowhead": 0,
           "arrowwidth": 1
          },
          "coloraxis": {
           "colorbar": {
            "outlinewidth": 0,
            "ticks": ""
           }
          },
          "colorscale": {
           "diverging": [
            [
             0,
             "#8e0152"
            ],
            [
             0.1,
             "#c51b7d"
            ],
            [
             0.2,
             "#de77ae"
            ],
            [
             0.3,
             "#f1b6da"
            ],
            [
             0.4,
             "#fde0ef"
            ],
            [
             0.5,
             "#f7f7f7"
            ],
            [
             0.6,
             "#e6f5d0"
            ],
            [
             0.7,
             "#b8e186"
            ],
            [
             0.8,
             "#7fbc41"
            ],
            [
             0.9,
             "#4d9221"
            ],
            [
             1,
             "#276419"
            ]
           ],
           "sequential": [
            [
             0.0,
             "#0d0887"
            ],
            [
             0.1111111111111111,
             "#46039f"
            ],
            [
             0.2222222222222222,
             "#7201a8"
            ],
            [
             0.3333333333333333,
             "#9c179e"
            ],
            [
             0.4444444444444444,
             "#bd3786"
            ],
            [
             0.5555555555555556,
             "#d8576b"
            ],
            [
             0.6666666666666666,
             "#ed7953"
            ],
            [
             0.7777777777777778,
             "#fb9f3a"
            ],
            [
             0.8888888888888888,
             "#fdca26"
            ],
            [
             1.0,
             "#f0f921"
            ]
           ],
           "sequentialminus": [
            [
             0.0,
             "#0d0887"
            ],
            [
             0.1111111111111111,
             "#46039f"
            ],
            [
             0.2222222222222222,
             "#7201a8"
            ],
            [
             0.3333333333333333,
             "#9c179e"
            ],
            [
             0.4444444444444444,
             "#bd3786"
            ],
            [
             0.5555555555555556,
             "#d8576b"
            ],
            [
             0.6666666666666666,
             "#ed7953"
            ],
            [
             0.7777777777777778,
             "#fb9f3a"
            ],
            [
             0.8888888888888888,
             "#fdca26"
            ],
            [
             1.0,
             "#f0f921"
            ]
           ]
          },
          "colorway": [
           "#636efa",
           "#EF553B",
           "#00cc96",
           "#ab63fa",
           "#FFA15A",
           "#19d3f3",
           "#FF6692",
           "#B6E880",
           "#FF97FF",
           "#FECB52"
          ],
          "font": {
           "color": "#2a3f5f"
          },
          "geo": {
           "bgcolor": "white",
           "lakecolor": "white",
           "landcolor": "#E5ECF6",
           "showlakes": true,
           "showland": true,
           "subunitcolor": "white"
          },
          "hoverlabel": {
           "align": "left"
          },
          "hovermode": "closest",
          "mapbox": {
           "style": "light"
          },
          "paper_bgcolor": "white",
          "plot_bgcolor": "#E5ECF6",
          "polar": {
           "angularaxis": {
            "gridcolor": "white",
            "linecolor": "white",
            "ticks": ""
           },
           "bgcolor": "#E5ECF6",
           "radialaxis": {
            "gridcolor": "white",
            "linecolor": "white",
            "ticks": ""
           }
          },
          "scene": {
           "xaxis": {
            "backgroundcolor": "#E5ECF6",
            "gridcolor": "white",
            "gridwidth": 2,
            "linecolor": "white",
            "showbackground": true,
            "ticks": "",
            "zerolinecolor": "white"
           },
           "yaxis": {
            "backgroundcolor": "#E5ECF6",
            "gridcolor": "white",
            "gridwidth": 2,
            "linecolor": "white",
            "showbackground": true,
            "ticks": "",
            "zerolinecolor": "white"
           },
           "zaxis": {
            "backgroundcolor": "#E5ECF6",
            "gridcolor": "white",
            "gridwidth": 2,
            "linecolor": "white",
            "showbackground": true,
            "ticks": "",
            "zerolinecolor": "white"
           }
          },
          "shapedefaults": {
           "line": {
            "color": "#2a3f5f"
           }
          },
          "ternary": {
           "aaxis": {
            "gridcolor": "white",
            "linecolor": "white",
            "ticks": ""
           },
           "baxis": {
            "gridcolor": "white",
            "linecolor": "white",
            "ticks": ""
           },
           "bgcolor": "#E5ECF6",
           "caxis": {
            "gridcolor": "white",
            "linecolor": "white",
            "ticks": ""
           }
          },
          "title": {
           "x": 0.05
          },
          "xaxis": {
           "automargin": true,
           "gridcolor": "white",
           "linecolor": "white",
           "ticks": "",
           "title": {
            "standoff": 15
           },
           "zerolinecolor": "white",
           "zerolinewidth": 2
          },
          "yaxis": {
           "automargin": true,
           "gridcolor": "white",
           "linecolor": "white",
           "ticks": "",
           "title": {
            "standoff": 15
           },
           "zerolinecolor": "white",
           "zerolinewidth": 2
          }
         }
        },
        "title": {
         "font": {
          "color": "#4D5663"
         },
         "text": "Italy terapia_intensiva by central regions"
        },
        "updatemenus": [
         {
          "buttons": [
           {
            "args": [
             {
              "yaxis.type": "linear"
             }
            ],
            "label": "Linear",
            "method": "relayout"
           },
           {
            "args": [
             {
              "yaxis.type": "log"
             }
            ],
            "label": "Log",
            "method": "relayout"
           }
          ],
          "direction": "down",
          "pad": {
           "r": 10,
           "t": 10
          },
          "showactive": true,
          "x": 0.1,
          "xanchor": "left",
          "y": 1.1,
          "yanchor": "top"
         }
        ],
        "xaxis": {
         "gridcolor": "#E1E5ED",
         "showgrid": true,
         "tickfont": {
          "color": "#4D5663"
         },
         "title": {
          "font": {
           "color": "#4D5663"
          },
          "text": ""
         },
         "zerolinecolor": "#E1E5ED"
        },
        "yaxis": {
         "gridcolor": "#E1E5ED",
         "showgrid": true,
         "tickfont": {
          "color": "#4D5663"
         },
         "title": {
          "font": {
           "color": "#4D5663"
          },
          "text": "cases"
         },
         "zerolinecolor": "#E1E5ED"
        }
       }
      },
      "text/html": "<div>\n        \n        \n            <div id=\"5fe89667-2032-4e2b-bdc0-35c2e7109d93\" class=\"plotly-graph-div\" style=\"height:525px; width:100%;\"></div>\n            <script type=\"text/javascript\">\n                require([\"plotly\"], function(Plotly) {\n                    window.PLOTLYENV=window.PLOTLYENV || {};\n                    \n                if (document.getElementById(\"5fe89667-2032-4e2b-bdc0-35c2e7109d93\")) {\n                    Plotly.newPlot(\n                        '5fe89667-2032-4e2b-bdc0-35c2e7109d93',\n                        [{\"line\": {\"color\": \"rgba(255, 153, 51, 1.0)\", \"dash\": \"solid\", \"shape\": \"linear\", \"width\": 1.3}, \"marker\": {\"size\": 4, \"symbol\": \"circle\"}, \"mode\": \"lines+markers\", \"name\": \"Lazio\", \"text\": \"\", \"type\": \"scatter\", \"x\": [\"24/02/20\", \"25/02/20\", \"26/02/20\", \"27/02/20\", \"28/02/20\", \"29/02/20\", \"01/03/20\", \"02/03/20\", \"03/03/20\", \"04/03/20\", \"05/03/20\", \"06/03/20\", \"07/03/20\", \"08/03/20\", \"09/03/20\", \"10/03/20\", \"11/03/20\", \"12/03/20\", \"13/03/20\", \"14/03/20\", \"15/03/20\", \"16/03/20\", \"17/03/20\", \"18/03/20\", \"19/03/20\", \"20/03/20\", \"21/03/20\", \"22/03/20\", \"23/03/20\", \"24/03/20\", \"25/03/20\"], \"y\": [1, 1, 0, 0, 0, 0, 0, 0, 0, 3, 7, 8, 8, 8, 8, 15, 18, 20, 24, 25, 31, 31, 44, 44, 45, 47, 70, 79, 96, 94, 101]}, {\"line\": {\"color\": \"rgba(55, 128, 191, 1.0)\", \"dash\": \"solid\", \"shape\": \"linear\", \"width\": 1.3}, \"marker\": {\"size\": 4, \"symbol\": \"circle\"}, \"mode\": \"lines+markers\", \"name\": \"Marche\", \"text\": \"\", \"type\": \"scatter\", \"x\": [\"24/02/20\", \"25/02/20\", \"26/02/20\", \"27/02/20\", \"28/02/20\", \"29/02/20\", \"01/03/20\", \"02/03/20\", \"03/03/20\", \"04/03/20\", \"05/03/20\", \"06/03/20\", \"07/03/20\", \"08/03/20\", \"09/03/20\", \"10/03/20\", \"11/03/20\", \"12/03/20\", \"13/03/20\", \"14/03/20\", \"15/03/20\", \"16/03/20\", \"17/03/20\", \"18/03/20\", \"19/03/20\", \"20/03/20\", \"21/03/20\", \"22/03/20\", \"23/03/20\", \"24/03/20\", \"25/03/20\"], \"y\": [0, 0, 0, 1, 2, 2, 5, 6, 13, 15, 19, 20, 36, 41, 47, 54, 66, 76, 85, 93, 98, 110, 109, 119, 141, 138, 141, 138, 148, 149, 148]}, {\"line\": {\"color\": \"rgba(50, 171, 96, 1.0)\", \"dash\": \"solid\", \"shape\": \"linear\", \"width\": 1.3}, \"marker\": {\"size\": 4, \"symbol\": \"circle\"}, \"mode\": \"lines+markers\", \"name\": \"Toscana\", \"text\": \"\", \"type\": \"scatter\", \"x\": [\"24/02/20\", \"25/02/20\", \"26/02/20\", \"27/02/20\", \"28/02/20\", \"29/02/20\", \"01/03/20\", \"02/03/20\", \"03/03/20\", \"04/03/20\", \"05/03/20\", \"06/03/20\", \"07/03/20\", \"08/03/20\", \"09/03/20\", \"10/03/20\", \"11/03/20\", \"12/03/20\", \"13/03/20\", \"14/03/20\", \"15/03/20\", \"16/03/20\", \"17/03/20\", \"18/03/20\", \"19/03/20\", \"20/03/20\", \"21/03/20\", \"22/03/20\", \"23/03/20\", \"24/03/20\", \"25/03/20\"], \"y\": [0, 0, 0, 0, 0, 0, 0, 0, 0, 2, 3, 5, 7, 7, 9, 40, 54, 59, 77, 87, 107, 107, 143, 160, 178, 189, 202, 215, 238, 244, 251]}, {\"line\": {\"color\": \"rgba(128, 0, 128, 1.0)\", \"dash\": \"solid\", \"shape\": \"linear\", \"width\": 1.3}, \"marker\": {\"size\": 4, \"symbol\": \"circle\"}, \"mode\": \"lines+markers\", \"name\": \"Umbria\", \"text\": \"\", \"type\": \"scatter\", \"x\": [\"24/02/20\", \"25/02/20\", \"26/02/20\", \"27/02/20\", \"28/02/20\", \"29/02/20\", \"01/03/20\", \"02/03/20\", \"03/03/20\", \"04/03/20\", \"05/03/20\", \"06/03/20\", \"07/03/20\", \"08/03/20\", \"09/03/20\", \"10/03/20\", \"11/03/20\", \"12/03/20\", \"13/03/20\", \"14/03/20\", \"15/03/20\", \"16/03/20\", \"17/03/20\", \"18/03/20\", \"19/03/20\", \"20/03/20\", \"21/03/20\", \"22/03/20\", \"23/03/20\", \"24/03/20\", \"25/03/20\"], \"y\": [0, 0, 0, 0, 0, 0, 0, 0, 1, 1, 1, 2, 2, 2, 2, 2, 5, 8, 10, 11, 13, 15, 21, 21, 21, 24, 29, 35, 42, 43, 44]}],\n                        {\"legend\": {\"bgcolor\": \"#FFFFFF\", \"font\": {\"color\": \"#4D5663\"}}, \"paper_bgcolor\": \"#FFFFFF\", \"plot_bgcolor\": \"#FFFFFF\", \"template\": {\"data\": {\"bar\": [{\"error_x\": {\"color\": \"#2a3f5f\"}, \"error_y\": {\"color\": \"#2a3f5f\"}, \"marker\": {\"line\": {\"color\": \"#E5ECF6\", \"width\": 0.5}}, \"type\": \"bar\"}], \"barpolar\": [{\"marker\": {\"line\": {\"color\": \"#E5ECF6\", \"width\": 0.5}}, \"type\": \"barpolar\"}], \"carpet\": [{\"aaxis\": {\"endlinecolor\": \"#2a3f5f\", \"gridcolor\": \"white\", \"linecolor\": \"white\", \"minorgridcolor\": \"white\", \"startlinecolor\": \"#2a3f5f\"}, \"baxis\": {\"endlinecolor\": \"#2a3f5f\", \"gridcolor\": \"white\", \"linecolor\": \"white\", \"minorgridcolor\": \"white\", \"startlinecolor\": \"#2a3f5f\"}, \"type\": \"carpet\"}], \"choropleth\": [{\"colorbar\": {\"outlinewidth\": 0, \"ticks\": \"\"}, \"type\": \"choropleth\"}], \"contour\": [{\"colorbar\": {\"outlinewidth\": 0, \"ticks\": \"\"}, \"colorscale\": [[0.0, \"#0d0887\"], [0.1111111111111111, \"#46039f\"], [0.2222222222222222, \"#7201a8\"], [0.3333333333333333, \"#9c179e\"], [0.4444444444444444, \"#bd3786\"], [0.5555555555555556, \"#d8576b\"], [0.6666666666666666, \"#ed7953\"], [0.7777777777777778, \"#fb9f3a\"], [0.8888888888888888, \"#fdca26\"], [1.0, \"#f0f921\"]], \"type\": \"contour\"}], \"contourcarpet\": [{\"colorbar\": {\"outlinewidth\": 0, \"ticks\": \"\"}, \"type\": \"contourcarpet\"}], \"heatmap\": [{\"colorbar\": {\"outlinewidth\": 0, \"ticks\": \"\"}, \"colorscale\": [[0.0, \"#0d0887\"], [0.1111111111111111, \"#46039f\"], [0.2222222222222222, \"#7201a8\"], [0.3333333333333333, \"#9c179e\"], [0.4444444444444444, \"#bd3786\"], [0.5555555555555556, \"#d8576b\"], [0.6666666666666666, \"#ed7953\"], [0.7777777777777778, \"#fb9f3a\"], [0.8888888888888888, \"#fdca26\"], [1.0, \"#f0f921\"]], \"type\": \"heatmap\"}], \"heatmapgl\": [{\"colorbar\": {\"outlinewidth\": 0, \"ticks\": \"\"}, \"colorscale\": [[0.0, \"#0d0887\"], [0.1111111111111111, \"#46039f\"], [0.2222222222222222, \"#7201a8\"], [0.3333333333333333, \"#9c179e\"], [0.4444444444444444, \"#bd3786\"], [0.5555555555555556, \"#d8576b\"], [0.6666666666666666, \"#ed7953\"], [0.7777777777777778, \"#fb9f3a\"], [0.8888888888888888, \"#fdca26\"], [1.0, \"#f0f921\"]], \"type\": \"heatmapgl\"}], \"histogram\": [{\"marker\": {\"colorbar\": {\"outlinewidth\": 0, \"ticks\": \"\"}}, \"type\": \"histogram\"}], \"histogram2d\": [{\"colorbar\": {\"outlinewidth\": 0, \"ticks\": \"\"}, \"colorscale\": [[0.0, \"#0d0887\"], [0.1111111111111111, \"#46039f\"], [0.2222222222222222, \"#7201a8\"], [0.3333333333333333, \"#9c179e\"], [0.4444444444444444, \"#bd3786\"], [0.5555555555555556, \"#d8576b\"], [0.6666666666666666, \"#ed7953\"], [0.7777777777777778, \"#fb9f3a\"], [0.8888888888888888, \"#fdca26\"], [1.0, \"#f0f921\"]], \"type\": \"histogram2d\"}], \"histogram2dcontour\": [{\"colorbar\": {\"outlinewidth\": 0, \"ticks\": \"\"}, \"colorscale\": [[0.0, \"#0d0887\"], [0.1111111111111111, \"#46039f\"], [0.2222222222222222, \"#7201a8\"], [0.3333333333333333, \"#9c179e\"], [0.4444444444444444, \"#bd3786\"], [0.5555555555555556, \"#d8576b\"], [0.6666666666666666, \"#ed7953\"], [0.7777777777777778, \"#fb9f3a\"], [0.8888888888888888, \"#fdca26\"], [1.0, \"#f0f921\"]], \"type\": \"histogram2dcontour\"}], \"mesh3d\": [{\"colorbar\": {\"outlinewidth\": 0, \"ticks\": \"\"}, \"type\": \"mesh3d\"}], \"parcoords\": [{\"line\": {\"colorbar\": {\"outlinewidth\": 0, \"ticks\": \"\"}}, \"type\": \"parcoords\"}], \"pie\": [{\"automargin\": true, \"type\": \"pie\"}], \"scatter\": [{\"marker\": {\"colorbar\": {\"outlinewidth\": 0, \"ticks\": \"\"}}, \"type\": \"scatter\"}], \"scatter3d\": [{\"line\": {\"colorbar\": {\"outlinewidth\": 0, \"ticks\": \"\"}}, \"marker\": {\"colorbar\": {\"outlinewidth\": 0, \"ticks\": \"\"}}, \"type\": \"scatter3d\"}], \"scattercarpet\": [{\"marker\": {\"colorbar\": {\"outlinewidth\": 0, \"ticks\": \"\"}}, \"type\": \"scattercarpet\"}], \"scattergeo\": [{\"marker\": {\"colorbar\": {\"outlinewidth\": 0, \"ticks\": \"\"}}, \"type\": \"scattergeo\"}], \"scattergl\": [{\"marker\": {\"colorbar\": {\"outlinewidth\": 0, \"ticks\": \"\"}}, \"type\": \"scattergl\"}], \"scattermapbox\": [{\"marker\": {\"colorbar\": {\"outlinewidth\": 0, \"ticks\": \"\"}}, \"type\": \"scattermapbox\"}], \"scatterpolar\": [{\"marker\": {\"colorbar\": {\"outlinewidth\": 0, \"ticks\": \"\"}}, \"type\": \"scatterpolar\"}], \"scatterpolargl\": [{\"marker\": {\"colorbar\": {\"outlinewidth\": 0, \"ticks\": \"\"}}, \"type\": \"scatterpolargl\"}], \"scatterternary\": [{\"marker\": {\"colorbar\": {\"outlinewidth\": 0, \"ticks\": \"\"}}, \"type\": \"scatterternary\"}], \"surface\": [{\"colorbar\": {\"outlinewidth\": 0, \"ticks\": \"\"}, \"colorscale\": [[0.0, \"#0d0887\"], [0.1111111111111111, \"#46039f\"], [0.2222222222222222, \"#7201a8\"], [0.3333333333333333, \"#9c179e\"], [0.4444444444444444, \"#bd3786\"], [0.5555555555555556, \"#d8576b\"], [0.6666666666666666, \"#ed7953\"], [0.7777777777777778, \"#fb9f3a\"], [0.8888888888888888, \"#fdca26\"], [1.0, \"#f0f921\"]], \"type\": \"surface\"}], \"table\": [{\"cells\": {\"fill\": {\"color\": \"#EBF0F8\"}, \"line\": {\"color\": \"white\"}}, \"header\": {\"fill\": {\"color\": \"#C8D4E3\"}, \"line\": {\"color\": \"white\"}}, \"type\": \"table\"}]}, \"layout\": {\"annotationdefaults\": {\"arrowcolor\": \"#2a3f5f\", \"arrowhead\": 0, \"arrowwidth\": 1}, \"coloraxis\": {\"colorbar\": {\"outlinewidth\": 0, \"ticks\": \"\"}}, \"colorscale\": {\"diverging\": [[0, \"#8e0152\"], [0.1, \"#c51b7d\"], [0.2, \"#de77ae\"], [0.3, \"#f1b6da\"], [0.4, \"#fde0ef\"], [0.5, \"#f7f7f7\"], [0.6, \"#e6f5d0\"], [0.7, \"#b8e186\"], [0.8, \"#7fbc41\"], [0.9, \"#4d9221\"], [1, \"#276419\"]], \"sequential\": [[0.0, \"#0d0887\"], [0.1111111111111111, \"#46039f\"], [0.2222222222222222, \"#7201a8\"], [0.3333333333333333, \"#9c179e\"], [0.4444444444444444, \"#bd3786\"], [0.5555555555555556, \"#d8576b\"], [0.6666666666666666, \"#ed7953\"], [0.7777777777777778, \"#fb9f3a\"], [0.8888888888888888, \"#fdca26\"], [1.0, \"#f0f921\"]], \"sequentialminus\": [[0.0, \"#0d0887\"], [0.1111111111111111, \"#46039f\"], [0.2222222222222222, \"#7201a8\"], [0.3333333333333333, \"#9c179e\"], [0.4444444444444444, \"#bd3786\"], [0.5555555555555556, \"#d8576b\"], [0.6666666666666666, \"#ed7953\"], [0.7777777777777778, \"#fb9f3a\"], [0.8888888888888888, \"#fdca26\"], [1.0, \"#f0f921\"]]}, \"colorway\": [\"#636efa\", \"#EF553B\", \"#00cc96\", \"#ab63fa\", \"#FFA15A\", \"#19d3f3\", \"#FF6692\", \"#B6E880\", \"#FF97FF\", \"#FECB52\"], \"font\": {\"color\": \"#2a3f5f\"}, \"geo\": {\"bgcolor\": \"white\", \"lakecolor\": \"white\", \"landcolor\": \"#E5ECF6\", \"showlakes\": true, \"showland\": true, \"subunitcolor\": \"white\"}, \"hoverlabel\": {\"align\": \"left\"}, \"hovermode\": \"closest\", \"mapbox\": {\"style\": \"light\"}, \"paper_bgcolor\": \"white\", \"plot_bgcolor\": \"#E5ECF6\", \"polar\": {\"angularaxis\": {\"gridcolor\": \"white\", \"linecolor\": \"white\", \"ticks\": \"\"}, \"bgcolor\": \"#E5ECF6\", \"radialaxis\": {\"gridcolor\": \"white\", \"linecolor\": \"white\", \"ticks\": \"\"}}, \"scene\": {\"xaxis\": {\"backgroundcolor\": \"#E5ECF6\", \"gridcolor\": \"white\", \"gridwidth\": 2, \"linecolor\": \"white\", \"showbackground\": true, \"ticks\": \"\", \"zerolinecolor\": \"white\"}, \"yaxis\": {\"backgroundcolor\": \"#E5ECF6\", \"gridcolor\": \"white\", \"gridwidth\": 2, \"linecolor\": \"white\", \"showbackground\": true, \"ticks\": \"\", \"zerolinecolor\": \"white\"}, \"zaxis\": {\"backgroundcolor\": \"#E5ECF6\", \"gridcolor\": \"white\", \"gridwidth\": 2, \"linecolor\": \"white\", \"showbackground\": true, \"ticks\": \"\", \"zerolinecolor\": \"white\"}}, \"shapedefaults\": {\"line\": {\"color\": \"#2a3f5f\"}}, \"ternary\": {\"aaxis\": {\"gridcolor\": \"white\", \"linecolor\": \"white\", \"ticks\": \"\"}, \"baxis\": {\"gridcolor\": \"white\", \"linecolor\": \"white\", \"ticks\": \"\"}, \"bgcolor\": \"#E5ECF6\", \"caxis\": {\"gridcolor\": \"white\", \"linecolor\": \"white\", \"ticks\": \"\"}}, \"title\": {\"x\": 0.05}, \"xaxis\": {\"automargin\": true, \"gridcolor\": \"white\", \"linecolor\": \"white\", \"ticks\": \"\", \"title\": {\"standoff\": 15}, \"zerolinecolor\": \"white\", \"zerolinewidth\": 2}, \"yaxis\": {\"automargin\": true, \"gridcolor\": \"white\", \"linecolor\": \"white\", \"ticks\": \"\", \"title\": {\"standoff\": 15}, \"zerolinecolor\": \"white\", \"zerolinewidth\": 2}}}, \"title\": {\"font\": {\"color\": \"#4D5663\"}, \"text\": \"Italy terapia_intensiva by central regions\"}, \"updatemenus\": [{\"buttons\": [{\"args\": [{\"yaxis.type\": \"linear\"}], \"label\": \"Linear\", \"method\": \"relayout\"}, {\"args\": [{\"yaxis.type\": \"log\"}], \"label\": \"Log\", \"method\": \"relayout\"}], \"direction\": \"down\", \"pad\": {\"r\": 10, \"t\": 10}, \"showactive\": true, \"x\": 0.1, \"xanchor\": \"left\", \"y\": 1.1, \"yanchor\": \"top\"}], \"xaxis\": {\"gridcolor\": \"#E1E5ED\", \"showgrid\": true, \"tickfont\": {\"color\": \"#4D5663\"}, \"title\": {\"font\": {\"color\": \"#4D5663\"}, \"text\": \"\"}, \"zerolinecolor\": \"#E1E5ED\"}, \"yaxis\": {\"gridcolor\": \"#E1E5ED\", \"showgrid\": true, \"tickfont\": {\"color\": \"#4D5663\"}, \"title\": {\"font\": {\"color\": \"#4D5663\"}, \"text\": \"cases\"}, \"zerolinecolor\": \"#E1E5ED\"}},\n                        {\"responsive\": true}\n                    ).then(function(){\n                            \nvar gd = document.getElementById('5fe89667-2032-4e2b-bdc0-35c2e7109d93');\nvar x = new MutationObserver(function (mutations, observer) {{\n        var display = window.getComputedStyle(gd).display;\n        if (!display || display === 'none') {{\n            console.log([gd, 'removed!']);\n            Plotly.purge(gd);\n            observer.disconnect();\n        }}\n}});\n\n// Listen for the removal of the full notebook cells\nvar notebookContainer = gd.closest('#notebook-container');\nif (notebookContainer) {{\n    x.observe(notebookContainer, {childList: true});\n}}\n\n// Listen for the clearing of the current output cell\nvar outputEl = gd.closest('.output');\nif (outputEl) {{\n    x.observe(outputEl, {childList: true});\n}}\n\n                        })\n                };\n                });\n            </script>\n        </div>"
     },
     "metadata": {},
     "output_type": "display_data"
    }
   ],
   "source": [
    "regions = io.italy_load_regions(io.italy_central_regions)\n",
    "total_cases = io.italy_regions_filter_by_category(regions, category)\n",
    "\n",
    "mpl.iplot_comparative_plot(total_cases, title='Italy ' + category + ' by central regions')"
   ],
   "metadata": {
    "collapsed": false,
    "pycharm": {
     "name": "#%%\n",
     "is_executing": false
    }
   }
  },
  {
   "cell_type": "code",
   "execution_count": 7,
   "outputs": [
    {
     "data": {
      "application/vnd.plotly.v1+json": {
       "config": {
        "plotlyServerURL": "https://plot.ly"
       },
       "data": [
        {
         "line": {
          "color": "rgba(255, 153, 51, 1.0)",
          "dash": "solid",
          "shape": "linear",
          "width": 1.3
         },
         "marker": {
          "size": 4,
          "symbol": "circle"
         },
         "mode": "lines+markers",
         "name": "Abruzzo",
         "text": "",
         "type": "scatter",
         "x": [
          "24/02/20",
          "25/02/20",
          "26/02/20",
          "27/02/20",
          "28/02/20",
          "29/02/20",
          "01/03/20",
          "02/03/20",
          "03/03/20",
          "04/03/20",
          "05/03/20",
          "06/03/20",
          "07/03/20",
          "08/03/20",
          "09/03/20",
          "10/03/20",
          "11/03/20",
          "12/03/20",
          "13/03/20",
          "14/03/20",
          "15/03/20",
          "16/03/20",
          "17/03/20",
          "18/03/20",
          "19/03/20",
          "20/03/20",
          "21/03/20",
          "22/03/20",
          "23/03/20",
          "24/03/20",
          "25/03/20"
         ],
         "y": [
          0,
          0,
          0,
          0,
          0,
          0,
          0,
          0,
          0,
          0,
          0,
          0,
          0,
          0,
          0,
          9,
          9,
          12,
          14,
          14,
          28,
          37,
          32,
          41,
          47,
          48,
          44,
          49,
          52,
          57,
          59
         ]
        },
        {
         "line": {
          "color": "rgba(55, 128, 191, 1.0)",
          "dash": "solid",
          "shape": "linear",
          "width": 1.3
         },
         "marker": {
          "size": 4,
          "symbol": "circle"
         },
         "mode": "lines+markers",
         "name": "Basilicata",
         "text": "",
         "type": "scatter",
         "x": [
          "24/02/20",
          "25/02/20",
          "26/02/20",
          "27/02/20",
          "28/02/20",
          "29/02/20",
          "01/03/20",
          "02/03/20",
          "03/03/20",
          "04/03/20",
          "05/03/20",
          "06/03/20",
          "07/03/20",
          "08/03/20",
          "09/03/20",
          "10/03/20",
          "11/03/20",
          "12/03/20",
          "13/03/20",
          "14/03/20",
          "15/03/20",
          "16/03/20",
          "17/03/20",
          "18/03/20",
          "19/03/20",
          "20/03/20",
          "21/03/20",
          "22/03/20",
          "23/03/20",
          "24/03/20",
          "25/03/20"
         ],
         "y": [
          0,
          0,
          0,
          0,
          0,
          0,
          0,
          0,
          0,
          0,
          0,
          0,
          0,
          0,
          0,
          0,
          1,
          1,
          1,
          2,
          2,
          2,
          2,
          2,
          5,
          5,
          7,
          10,
          12,
          12,
          14
         ]
        },
        {
         "line": {
          "color": "rgba(50, 171, 96, 1.0)",
          "dash": "solid",
          "shape": "linear",
          "width": 1.3
         },
         "marker": {
          "size": 4,
          "symbol": "circle"
         },
         "mode": "lines+markers",
         "name": "Calabria",
         "text": "",
         "type": "scatter",
         "x": [
          "24/02/20",
          "25/02/20",
          "26/02/20",
          "27/02/20",
          "28/02/20",
          "29/02/20",
          "01/03/20",
          "02/03/20",
          "03/03/20",
          "04/03/20",
          "05/03/20",
          "06/03/20",
          "07/03/20",
          "08/03/20",
          "09/03/20",
          "10/03/20",
          "11/03/20",
          "12/03/20",
          "13/03/20",
          "14/03/20",
          "15/03/20",
          "16/03/20",
          "17/03/20",
          "18/03/20",
          "19/03/20",
          "20/03/20",
          "21/03/20",
          "22/03/20",
          "23/03/20",
          "24/03/20",
          "25/03/20"
         ],
         "y": [
          0,
          0,
          0,
          0,
          0,
          0,
          0,
          0,
          0,
          0,
          0,
          0,
          0,
          0,
          0,
          2,
          2,
          2,
          3,
          4,
          6,
          7,
          10,
          11,
          13,
          16,
          16,
          17,
          20,
          21,
          23
         ]
        },
        {
         "line": {
          "color": "rgba(128, 0, 128, 1.0)",
          "dash": "solid",
          "shape": "linear",
          "width": 1.3
         },
         "marker": {
          "size": 4,
          "symbol": "circle"
         },
         "mode": "lines+markers",
         "name": "Campania",
         "text": "",
         "type": "scatter",
         "x": [
          "24/02/20",
          "25/02/20",
          "26/02/20",
          "27/02/20",
          "28/02/20",
          "29/02/20",
          "01/03/20",
          "02/03/20",
          "03/03/20",
          "04/03/20",
          "05/03/20",
          "06/03/20",
          "07/03/20",
          "08/03/20",
          "09/03/20",
          "10/03/20",
          "11/03/20",
          "12/03/20",
          "13/03/20",
          "14/03/20",
          "15/03/20",
          "16/03/20",
          "17/03/20",
          "18/03/20",
          "19/03/20",
          "20/03/20",
          "21/03/20",
          "22/03/20",
          "23/03/20",
          "24/03/20",
          "25/03/20"
         ],
         "y": [
          0,
          0,
          0,
          0,
          0,
          0,
          0,
          0,
          0,
          0,
          0,
          0,
          0,
          7,
          8,
          8,
          11,
          11,
          19,
          17,
          22,
          22,
          24,
          24,
          36,
          41,
          87,
          99,
          110,
          181,
          123
         ]
        },
        {
         "line": {
          "color": "rgba(219, 64, 82, 1.0)",
          "dash": "solid",
          "shape": "linear",
          "width": 1.3
         },
         "marker": {
          "size": 4,
          "symbol": "circle"
         },
         "mode": "lines+markers",
         "name": "Molise",
         "text": "",
         "type": "scatter",
         "x": [
          "24/02/20",
          "25/02/20",
          "26/02/20",
          "27/02/20",
          "28/02/20",
          "29/02/20",
          "01/03/20",
          "02/03/20",
          "03/03/20",
          "04/03/20",
          "05/03/20",
          "06/03/20",
          "07/03/20",
          "08/03/20",
          "09/03/20",
          "10/03/20",
          "11/03/20",
          "12/03/20",
          "13/03/20",
          "14/03/20",
          "15/03/20",
          "16/03/20",
          "17/03/20",
          "18/03/20",
          "19/03/20",
          "20/03/20",
          "21/03/20",
          "22/03/20",
          "23/03/20",
          "24/03/20",
          "25/03/20"
         ],
         "y": [
          0,
          0,
          0,
          0,
          0,
          0,
          0,
          0,
          0,
          0,
          0,
          2,
          2,
          2,
          2,
          3,
          3,
          3,
          3,
          3,
          4,
          5,
          5,
          6,
          6,
          6,
          6,
          7,
          7,
          7,
          7
         ]
        },
        {
         "line": {
          "color": "rgba(0, 128, 128, 1.0)",
          "dash": "solid",
          "shape": "linear",
          "width": 1.3
         },
         "marker": {
          "size": 4,
          "symbol": "circle"
         },
         "mode": "lines+markers",
         "name": "Puglia",
         "text": "",
         "type": "scatter",
         "x": [
          "24/02/20",
          "25/02/20",
          "26/02/20",
          "27/02/20",
          "28/02/20",
          "29/02/20",
          "01/03/20",
          "02/03/20",
          "03/03/20",
          "04/03/20",
          "05/03/20",
          "06/03/20",
          "07/03/20",
          "08/03/20",
          "09/03/20",
          "10/03/20",
          "11/03/20",
          "12/03/20",
          "13/03/20",
          "14/03/20",
          "15/03/20",
          "16/03/20",
          "17/03/20",
          "18/03/20",
          "19/03/20",
          "20/03/20",
          "21/03/20",
          "22/03/20",
          "23/03/20",
          "24/03/20",
          "25/03/20"
         ],
         "y": [
          0,
          0,
          0,
          0,
          0,
          0,
          0,
          0,
          0,
          0,
          1,
          1,
          2,
          3,
          6,
          6,
          4,
          2,
          2,
          6,
          6,
          6,
          14,
          30,
          31,
          31,
          33,
          37,
          45,
          57,
          64
         ]
        }
       ],
       "layout": {
        "legend": {
         "bgcolor": "#FFFFFF",
         "font": {
          "color": "#4D5663"
         }
        },
        "paper_bgcolor": "#FFFFFF",
        "plot_bgcolor": "#FFFFFF",
        "template": {
         "data": {
          "bar": [
           {
            "error_x": {
             "color": "#2a3f5f"
            },
            "error_y": {
             "color": "#2a3f5f"
            },
            "marker": {
             "line": {
              "color": "#E5ECF6",
              "width": 0.5
             }
            },
            "type": "bar"
           }
          ],
          "barpolar": [
           {
            "marker": {
             "line": {
              "color": "#E5ECF6",
              "width": 0.5
             }
            },
            "type": "barpolar"
           }
          ],
          "carpet": [
           {
            "aaxis": {
             "endlinecolor": "#2a3f5f",
             "gridcolor": "white",
             "linecolor": "white",
             "minorgridcolor": "white",
             "startlinecolor": "#2a3f5f"
            },
            "baxis": {
             "endlinecolor": "#2a3f5f",
             "gridcolor": "white",
             "linecolor": "white",
             "minorgridcolor": "white",
             "startlinecolor": "#2a3f5f"
            },
            "type": "carpet"
           }
          ],
          "choropleth": [
           {
            "colorbar": {
             "outlinewidth": 0,
             "ticks": ""
            },
            "type": "choropleth"
           }
          ],
          "contour": [
           {
            "colorbar": {
             "outlinewidth": 0,
             "ticks": ""
            },
            "colorscale": [
             [
              0.0,
              "#0d0887"
             ],
             [
              0.1111111111111111,
              "#46039f"
             ],
             [
              0.2222222222222222,
              "#7201a8"
             ],
             [
              0.3333333333333333,
              "#9c179e"
             ],
             [
              0.4444444444444444,
              "#bd3786"
             ],
             [
              0.5555555555555556,
              "#d8576b"
             ],
             [
              0.6666666666666666,
              "#ed7953"
             ],
             [
              0.7777777777777778,
              "#fb9f3a"
             ],
             [
              0.8888888888888888,
              "#fdca26"
             ],
             [
              1.0,
              "#f0f921"
             ]
            ],
            "type": "contour"
           }
          ],
          "contourcarpet": [
           {
            "colorbar": {
             "outlinewidth": 0,
             "ticks": ""
            },
            "type": "contourcarpet"
           }
          ],
          "heatmap": [
           {
            "colorbar": {
             "outlinewidth": 0,
             "ticks": ""
            },
            "colorscale": [
             [
              0.0,
              "#0d0887"
             ],
             [
              0.1111111111111111,
              "#46039f"
             ],
             [
              0.2222222222222222,
              "#7201a8"
             ],
             [
              0.3333333333333333,
              "#9c179e"
             ],
             [
              0.4444444444444444,
              "#bd3786"
             ],
             [
              0.5555555555555556,
              "#d8576b"
             ],
             [
              0.6666666666666666,
              "#ed7953"
             ],
             [
              0.7777777777777778,
              "#fb9f3a"
             ],
             [
              0.8888888888888888,
              "#fdca26"
             ],
             [
              1.0,
              "#f0f921"
             ]
            ],
            "type": "heatmap"
           }
          ],
          "heatmapgl": [
           {
            "colorbar": {
             "outlinewidth": 0,
             "ticks": ""
            },
            "colorscale": [
             [
              0.0,
              "#0d0887"
             ],
             [
              0.1111111111111111,
              "#46039f"
             ],
             [
              0.2222222222222222,
              "#7201a8"
             ],
             [
              0.3333333333333333,
              "#9c179e"
             ],
             [
              0.4444444444444444,
              "#bd3786"
             ],
             [
              0.5555555555555556,
              "#d8576b"
             ],
             [
              0.6666666666666666,
              "#ed7953"
             ],
             [
              0.7777777777777778,
              "#fb9f3a"
             ],
             [
              0.8888888888888888,
              "#fdca26"
             ],
             [
              1.0,
              "#f0f921"
             ]
            ],
            "type": "heatmapgl"
           }
          ],
          "histogram": [
           {
            "marker": {
             "colorbar": {
              "outlinewidth": 0,
              "ticks": ""
             }
            },
            "type": "histogram"
           }
          ],
          "histogram2d": [
           {
            "colorbar": {
             "outlinewidth": 0,
             "ticks": ""
            },
            "colorscale": [
             [
              0.0,
              "#0d0887"
             ],
             [
              0.1111111111111111,
              "#46039f"
             ],
             [
              0.2222222222222222,
              "#7201a8"
             ],
             [
              0.3333333333333333,
              "#9c179e"
             ],
             [
              0.4444444444444444,
              "#bd3786"
             ],
             [
              0.5555555555555556,
              "#d8576b"
             ],
             [
              0.6666666666666666,
              "#ed7953"
             ],
             [
              0.7777777777777778,
              "#fb9f3a"
             ],
             [
              0.8888888888888888,
              "#fdca26"
             ],
             [
              1.0,
              "#f0f921"
             ]
            ],
            "type": "histogram2d"
           }
          ],
          "histogram2dcontour": [
           {
            "colorbar": {
             "outlinewidth": 0,
             "ticks": ""
            },
            "colorscale": [
             [
              0.0,
              "#0d0887"
             ],
             [
              0.1111111111111111,
              "#46039f"
             ],
             [
              0.2222222222222222,
              "#7201a8"
             ],
             [
              0.3333333333333333,
              "#9c179e"
             ],
             [
              0.4444444444444444,
              "#bd3786"
             ],
             [
              0.5555555555555556,
              "#d8576b"
             ],
             [
              0.6666666666666666,
              "#ed7953"
             ],
             [
              0.7777777777777778,
              "#fb9f3a"
             ],
             [
              0.8888888888888888,
              "#fdca26"
             ],
             [
              1.0,
              "#f0f921"
             ]
            ],
            "type": "histogram2dcontour"
           }
          ],
          "mesh3d": [
           {
            "colorbar": {
             "outlinewidth": 0,
             "ticks": ""
            },
            "type": "mesh3d"
           }
          ],
          "parcoords": [
           {
            "line": {
             "colorbar": {
              "outlinewidth": 0,
              "ticks": ""
             }
            },
            "type": "parcoords"
           }
          ],
          "pie": [
           {
            "automargin": true,
            "type": "pie"
           }
          ],
          "scatter": [
           {
            "marker": {
             "colorbar": {
              "outlinewidth": 0,
              "ticks": ""
             }
            },
            "type": "scatter"
           }
          ],
          "scatter3d": [
           {
            "line": {
             "colorbar": {
              "outlinewidth": 0,
              "ticks": ""
             }
            },
            "marker": {
             "colorbar": {
              "outlinewidth": 0,
              "ticks": ""
             }
            },
            "type": "scatter3d"
           }
          ],
          "scattercarpet": [
           {
            "marker": {
             "colorbar": {
              "outlinewidth": 0,
              "ticks": ""
             }
            },
            "type": "scattercarpet"
           }
          ],
          "scattergeo": [
           {
            "marker": {
             "colorbar": {
              "outlinewidth": 0,
              "ticks": ""
             }
            },
            "type": "scattergeo"
           }
          ],
          "scattergl": [
           {
            "marker": {
             "colorbar": {
              "outlinewidth": 0,
              "ticks": ""
             }
            },
            "type": "scattergl"
           }
          ],
          "scattermapbox": [
           {
            "marker": {
             "colorbar": {
              "outlinewidth": 0,
              "ticks": ""
             }
            },
            "type": "scattermapbox"
           }
          ],
          "scatterpolar": [
           {
            "marker": {
             "colorbar": {
              "outlinewidth": 0,
              "ticks": ""
             }
            },
            "type": "scatterpolar"
           }
          ],
          "scatterpolargl": [
           {
            "marker": {
             "colorbar": {
              "outlinewidth": 0,
              "ticks": ""
             }
            },
            "type": "scatterpolargl"
           }
          ],
          "scatterternary": [
           {
            "marker": {
             "colorbar": {
              "outlinewidth": 0,
              "ticks": ""
             }
            },
            "type": "scatterternary"
           }
          ],
          "surface": [
           {
            "colorbar": {
             "outlinewidth": 0,
             "ticks": ""
            },
            "colorscale": [
             [
              0.0,
              "#0d0887"
             ],
             [
              0.1111111111111111,
              "#46039f"
             ],
             [
              0.2222222222222222,
              "#7201a8"
             ],
             [
              0.3333333333333333,
              "#9c179e"
             ],
             [
              0.4444444444444444,
              "#bd3786"
             ],
             [
              0.5555555555555556,
              "#d8576b"
             ],
             [
              0.6666666666666666,
              "#ed7953"
             ],
             [
              0.7777777777777778,
              "#fb9f3a"
             ],
             [
              0.8888888888888888,
              "#fdca26"
             ],
             [
              1.0,
              "#f0f921"
             ]
            ],
            "type": "surface"
           }
          ],
          "table": [
           {
            "cells": {
             "fill": {
              "color": "#EBF0F8"
             },
             "line": {
              "color": "white"
             }
            },
            "header": {
             "fill": {
              "color": "#C8D4E3"
             },
             "line": {
              "color": "white"
             }
            },
            "type": "table"
           }
          ]
         },
         "layout": {
          "annotationdefaults": {
           "arrowcolor": "#2a3f5f",
           "arrowhead": 0,
           "arrowwidth": 1
          },
          "coloraxis": {
           "colorbar": {
            "outlinewidth": 0,
            "ticks": ""
           }
          },
          "colorscale": {
           "diverging": [
            [
             0,
             "#8e0152"
            ],
            [
             0.1,
             "#c51b7d"
            ],
            [
             0.2,
             "#de77ae"
            ],
            [
             0.3,
             "#f1b6da"
            ],
            [
             0.4,
             "#fde0ef"
            ],
            [
             0.5,
             "#f7f7f7"
            ],
            [
             0.6,
             "#e6f5d0"
            ],
            [
             0.7,
             "#b8e186"
            ],
            [
             0.8,
             "#7fbc41"
            ],
            [
             0.9,
             "#4d9221"
            ],
            [
             1,
             "#276419"
            ]
           ],
           "sequential": [
            [
             0.0,
             "#0d0887"
            ],
            [
             0.1111111111111111,
             "#46039f"
            ],
            [
             0.2222222222222222,
             "#7201a8"
            ],
            [
             0.3333333333333333,
             "#9c179e"
            ],
            [
             0.4444444444444444,
             "#bd3786"
            ],
            [
             0.5555555555555556,
             "#d8576b"
            ],
            [
             0.6666666666666666,
             "#ed7953"
            ],
            [
             0.7777777777777778,
             "#fb9f3a"
            ],
            [
             0.8888888888888888,
             "#fdca26"
            ],
            [
             1.0,
             "#f0f921"
            ]
           ],
           "sequentialminus": [
            [
             0.0,
             "#0d0887"
            ],
            [
             0.1111111111111111,
             "#46039f"
            ],
            [
             0.2222222222222222,
             "#7201a8"
            ],
            [
             0.3333333333333333,
             "#9c179e"
            ],
            [
             0.4444444444444444,
             "#bd3786"
            ],
            [
             0.5555555555555556,
             "#d8576b"
            ],
            [
             0.6666666666666666,
             "#ed7953"
            ],
            [
             0.7777777777777778,
             "#fb9f3a"
            ],
            [
             0.8888888888888888,
             "#fdca26"
            ],
            [
             1.0,
             "#f0f921"
            ]
           ]
          },
          "colorway": [
           "#636efa",
           "#EF553B",
           "#00cc96",
           "#ab63fa",
           "#FFA15A",
           "#19d3f3",
           "#FF6692",
           "#B6E880",
           "#FF97FF",
           "#FECB52"
          ],
          "font": {
           "color": "#2a3f5f"
          },
          "geo": {
           "bgcolor": "white",
           "lakecolor": "white",
           "landcolor": "#E5ECF6",
           "showlakes": true,
           "showland": true,
           "subunitcolor": "white"
          },
          "hoverlabel": {
           "align": "left"
          },
          "hovermode": "closest",
          "mapbox": {
           "style": "light"
          },
          "paper_bgcolor": "white",
          "plot_bgcolor": "#E5ECF6",
          "polar": {
           "angularaxis": {
            "gridcolor": "white",
            "linecolor": "white",
            "ticks": ""
           },
           "bgcolor": "#E5ECF6",
           "radialaxis": {
            "gridcolor": "white",
            "linecolor": "white",
            "ticks": ""
           }
          },
          "scene": {
           "xaxis": {
            "backgroundcolor": "#E5ECF6",
            "gridcolor": "white",
            "gridwidth": 2,
            "linecolor": "white",
            "showbackground": true,
            "ticks": "",
            "zerolinecolor": "white"
           },
           "yaxis": {
            "backgroundcolor": "#E5ECF6",
            "gridcolor": "white",
            "gridwidth": 2,
            "linecolor": "white",
            "showbackground": true,
            "ticks": "",
            "zerolinecolor": "white"
           },
           "zaxis": {
            "backgroundcolor": "#E5ECF6",
            "gridcolor": "white",
            "gridwidth": 2,
            "linecolor": "white",
            "showbackground": true,
            "ticks": "",
            "zerolinecolor": "white"
           }
          },
          "shapedefaults": {
           "line": {
            "color": "#2a3f5f"
           }
          },
          "ternary": {
           "aaxis": {
            "gridcolor": "white",
            "linecolor": "white",
            "ticks": ""
           },
           "baxis": {
            "gridcolor": "white",
            "linecolor": "white",
            "ticks": ""
           },
           "bgcolor": "#E5ECF6",
           "caxis": {
            "gridcolor": "white",
            "linecolor": "white",
            "ticks": ""
           }
          },
          "title": {
           "x": 0.05
          },
          "xaxis": {
           "automargin": true,
           "gridcolor": "white",
           "linecolor": "white",
           "ticks": "",
           "title": {
            "standoff": 15
           },
           "zerolinecolor": "white",
           "zerolinewidth": 2
          },
          "yaxis": {
           "automargin": true,
           "gridcolor": "white",
           "linecolor": "white",
           "ticks": "",
           "title": {
            "standoff": 15
           },
           "zerolinecolor": "white",
           "zerolinewidth": 2
          }
         }
        },
        "title": {
         "font": {
          "color": "#4D5663"
         },
         "text": "Italy terapia_intensiva by southern regions"
        },
        "updatemenus": [
         {
          "buttons": [
           {
            "args": [
             {
              "yaxis.type": "linear"
             }
            ],
            "label": "Linear",
            "method": "relayout"
           },
           {
            "args": [
             {
              "yaxis.type": "log"
             }
            ],
            "label": "Log",
            "method": "relayout"
           }
          ],
          "direction": "down",
          "pad": {
           "r": 10,
           "t": 10
          },
          "showactive": true,
          "x": 0.1,
          "xanchor": "left",
          "y": 1.1,
          "yanchor": "top"
         }
        ],
        "xaxis": {
         "gridcolor": "#E1E5ED",
         "showgrid": true,
         "tickfont": {
          "color": "#4D5663"
         },
         "title": {
          "font": {
           "color": "#4D5663"
          },
          "text": ""
         },
         "zerolinecolor": "#E1E5ED"
        },
        "yaxis": {
         "gridcolor": "#E1E5ED",
         "showgrid": true,
         "tickfont": {
          "color": "#4D5663"
         },
         "title": {
          "font": {
           "color": "#4D5663"
          },
          "text": "cases"
         },
         "zerolinecolor": "#E1E5ED"
        }
       }
      },
      "text/html": "<div>\n        \n        \n            <div id=\"6807cbb4-744f-4ec3-acd4-4b36ef7a2c90\" class=\"plotly-graph-div\" style=\"height:525px; width:100%;\"></div>\n            <script type=\"text/javascript\">\n                require([\"plotly\"], function(Plotly) {\n                    window.PLOTLYENV=window.PLOTLYENV || {};\n                    \n                if (document.getElementById(\"6807cbb4-744f-4ec3-acd4-4b36ef7a2c90\")) {\n                    Plotly.newPlot(\n                        '6807cbb4-744f-4ec3-acd4-4b36ef7a2c90',\n                        [{\"line\": {\"color\": \"rgba(255, 153, 51, 1.0)\", \"dash\": \"solid\", \"shape\": \"linear\", \"width\": 1.3}, \"marker\": {\"size\": 4, \"symbol\": \"circle\"}, \"mode\": \"lines+markers\", \"name\": \"Abruzzo\", \"text\": \"\", \"type\": \"scatter\", \"x\": [\"24/02/20\", \"25/02/20\", \"26/02/20\", \"27/02/20\", \"28/02/20\", \"29/02/20\", \"01/03/20\", \"02/03/20\", \"03/03/20\", \"04/03/20\", \"05/03/20\", \"06/03/20\", \"07/03/20\", \"08/03/20\", \"09/03/20\", \"10/03/20\", \"11/03/20\", \"12/03/20\", \"13/03/20\", \"14/03/20\", \"15/03/20\", \"16/03/20\", \"17/03/20\", \"18/03/20\", \"19/03/20\", \"20/03/20\", \"21/03/20\", \"22/03/20\", \"23/03/20\", \"24/03/20\", \"25/03/20\"], \"y\": [0, 0, 0, 0, 0, 0, 0, 0, 0, 0, 0, 0, 0, 0, 0, 9, 9, 12, 14, 14, 28, 37, 32, 41, 47, 48, 44, 49, 52, 57, 59]}, {\"line\": {\"color\": \"rgba(55, 128, 191, 1.0)\", \"dash\": \"solid\", \"shape\": \"linear\", \"width\": 1.3}, \"marker\": {\"size\": 4, \"symbol\": \"circle\"}, \"mode\": \"lines+markers\", \"name\": \"Basilicata\", \"text\": \"\", \"type\": \"scatter\", \"x\": [\"24/02/20\", \"25/02/20\", \"26/02/20\", \"27/02/20\", \"28/02/20\", \"29/02/20\", \"01/03/20\", \"02/03/20\", \"03/03/20\", \"04/03/20\", \"05/03/20\", \"06/03/20\", \"07/03/20\", \"08/03/20\", \"09/03/20\", \"10/03/20\", \"11/03/20\", \"12/03/20\", \"13/03/20\", \"14/03/20\", \"15/03/20\", \"16/03/20\", \"17/03/20\", \"18/03/20\", \"19/03/20\", \"20/03/20\", \"21/03/20\", \"22/03/20\", \"23/03/20\", \"24/03/20\", \"25/03/20\"], \"y\": [0, 0, 0, 0, 0, 0, 0, 0, 0, 0, 0, 0, 0, 0, 0, 0, 1, 1, 1, 2, 2, 2, 2, 2, 5, 5, 7, 10, 12, 12, 14]}, {\"line\": {\"color\": \"rgba(50, 171, 96, 1.0)\", \"dash\": \"solid\", \"shape\": \"linear\", \"width\": 1.3}, \"marker\": {\"size\": 4, \"symbol\": \"circle\"}, \"mode\": \"lines+markers\", \"name\": \"Calabria\", \"text\": \"\", \"type\": \"scatter\", \"x\": [\"24/02/20\", \"25/02/20\", \"26/02/20\", \"27/02/20\", \"28/02/20\", \"29/02/20\", \"01/03/20\", \"02/03/20\", \"03/03/20\", \"04/03/20\", \"05/03/20\", \"06/03/20\", \"07/03/20\", \"08/03/20\", \"09/03/20\", \"10/03/20\", \"11/03/20\", \"12/03/20\", \"13/03/20\", \"14/03/20\", \"15/03/20\", \"16/03/20\", \"17/03/20\", \"18/03/20\", \"19/03/20\", \"20/03/20\", \"21/03/20\", \"22/03/20\", \"23/03/20\", \"24/03/20\", \"25/03/20\"], \"y\": [0, 0, 0, 0, 0, 0, 0, 0, 0, 0, 0, 0, 0, 0, 0, 2, 2, 2, 3, 4, 6, 7, 10, 11, 13, 16, 16, 17, 20, 21, 23]}, {\"line\": {\"color\": \"rgba(128, 0, 128, 1.0)\", \"dash\": \"solid\", \"shape\": \"linear\", \"width\": 1.3}, \"marker\": {\"size\": 4, \"symbol\": \"circle\"}, \"mode\": \"lines+markers\", \"name\": \"Campania\", \"text\": \"\", \"type\": \"scatter\", \"x\": [\"24/02/20\", \"25/02/20\", \"26/02/20\", \"27/02/20\", \"28/02/20\", \"29/02/20\", \"01/03/20\", \"02/03/20\", \"03/03/20\", \"04/03/20\", \"05/03/20\", \"06/03/20\", \"07/03/20\", \"08/03/20\", \"09/03/20\", \"10/03/20\", \"11/03/20\", \"12/03/20\", \"13/03/20\", \"14/03/20\", \"15/03/20\", \"16/03/20\", \"17/03/20\", \"18/03/20\", \"19/03/20\", \"20/03/20\", \"21/03/20\", \"22/03/20\", \"23/03/20\", \"24/03/20\", \"25/03/20\"], \"y\": [0, 0, 0, 0, 0, 0, 0, 0, 0, 0, 0, 0, 0, 7, 8, 8, 11, 11, 19, 17, 22, 22, 24, 24, 36, 41, 87, 99, 110, 181, 123]}, {\"line\": {\"color\": \"rgba(219, 64, 82, 1.0)\", \"dash\": \"solid\", \"shape\": \"linear\", \"width\": 1.3}, \"marker\": {\"size\": 4, \"symbol\": \"circle\"}, \"mode\": \"lines+markers\", \"name\": \"Molise\", \"text\": \"\", \"type\": \"scatter\", \"x\": [\"24/02/20\", \"25/02/20\", \"26/02/20\", \"27/02/20\", \"28/02/20\", \"29/02/20\", \"01/03/20\", \"02/03/20\", \"03/03/20\", \"04/03/20\", \"05/03/20\", \"06/03/20\", \"07/03/20\", \"08/03/20\", \"09/03/20\", \"10/03/20\", \"11/03/20\", \"12/03/20\", \"13/03/20\", \"14/03/20\", \"15/03/20\", \"16/03/20\", \"17/03/20\", \"18/03/20\", \"19/03/20\", \"20/03/20\", \"21/03/20\", \"22/03/20\", \"23/03/20\", \"24/03/20\", \"25/03/20\"], \"y\": [0, 0, 0, 0, 0, 0, 0, 0, 0, 0, 0, 2, 2, 2, 2, 3, 3, 3, 3, 3, 4, 5, 5, 6, 6, 6, 6, 7, 7, 7, 7]}, {\"line\": {\"color\": \"rgba(0, 128, 128, 1.0)\", \"dash\": \"solid\", \"shape\": \"linear\", \"width\": 1.3}, \"marker\": {\"size\": 4, \"symbol\": \"circle\"}, \"mode\": \"lines+markers\", \"name\": \"Puglia\", \"text\": \"\", \"type\": \"scatter\", \"x\": [\"24/02/20\", \"25/02/20\", \"26/02/20\", \"27/02/20\", \"28/02/20\", \"29/02/20\", \"01/03/20\", \"02/03/20\", \"03/03/20\", \"04/03/20\", \"05/03/20\", \"06/03/20\", \"07/03/20\", \"08/03/20\", \"09/03/20\", \"10/03/20\", \"11/03/20\", \"12/03/20\", \"13/03/20\", \"14/03/20\", \"15/03/20\", \"16/03/20\", \"17/03/20\", \"18/03/20\", \"19/03/20\", \"20/03/20\", \"21/03/20\", \"22/03/20\", \"23/03/20\", \"24/03/20\", \"25/03/20\"], \"y\": [0, 0, 0, 0, 0, 0, 0, 0, 0, 0, 1, 1, 2, 3, 6, 6, 4, 2, 2, 6, 6, 6, 14, 30, 31, 31, 33, 37, 45, 57, 64]}],\n                        {\"legend\": {\"bgcolor\": \"#FFFFFF\", \"font\": {\"color\": \"#4D5663\"}}, \"paper_bgcolor\": \"#FFFFFF\", \"plot_bgcolor\": \"#FFFFFF\", \"template\": {\"data\": {\"bar\": [{\"error_x\": {\"color\": \"#2a3f5f\"}, \"error_y\": {\"color\": \"#2a3f5f\"}, \"marker\": {\"line\": {\"color\": \"#E5ECF6\", \"width\": 0.5}}, \"type\": \"bar\"}], \"barpolar\": [{\"marker\": {\"line\": {\"color\": \"#E5ECF6\", \"width\": 0.5}}, \"type\": \"barpolar\"}], \"carpet\": [{\"aaxis\": {\"endlinecolor\": \"#2a3f5f\", \"gridcolor\": \"white\", \"linecolor\": \"white\", \"minorgridcolor\": \"white\", \"startlinecolor\": \"#2a3f5f\"}, \"baxis\": {\"endlinecolor\": \"#2a3f5f\", \"gridcolor\": \"white\", \"linecolor\": \"white\", \"minorgridcolor\": \"white\", \"startlinecolor\": \"#2a3f5f\"}, \"type\": \"carpet\"}], \"choropleth\": [{\"colorbar\": {\"outlinewidth\": 0, \"ticks\": \"\"}, \"type\": \"choropleth\"}], \"contour\": [{\"colorbar\": {\"outlinewidth\": 0, \"ticks\": \"\"}, \"colorscale\": [[0.0, \"#0d0887\"], [0.1111111111111111, \"#46039f\"], [0.2222222222222222, \"#7201a8\"], [0.3333333333333333, \"#9c179e\"], [0.4444444444444444, \"#bd3786\"], [0.5555555555555556, \"#d8576b\"], [0.6666666666666666, \"#ed7953\"], [0.7777777777777778, \"#fb9f3a\"], [0.8888888888888888, \"#fdca26\"], [1.0, \"#f0f921\"]], \"type\": \"contour\"}], \"contourcarpet\": [{\"colorbar\": {\"outlinewidth\": 0, \"ticks\": \"\"}, \"type\": \"contourcarpet\"}], \"heatmap\": [{\"colorbar\": {\"outlinewidth\": 0, \"ticks\": \"\"}, \"colorscale\": [[0.0, \"#0d0887\"], [0.1111111111111111, \"#46039f\"], [0.2222222222222222, \"#7201a8\"], [0.3333333333333333, \"#9c179e\"], [0.4444444444444444, \"#bd3786\"], [0.5555555555555556, \"#d8576b\"], [0.6666666666666666, \"#ed7953\"], [0.7777777777777778, \"#fb9f3a\"], [0.8888888888888888, \"#fdca26\"], [1.0, \"#f0f921\"]], \"type\": \"heatmap\"}], \"heatmapgl\": [{\"colorbar\": {\"outlinewidth\": 0, \"ticks\": \"\"}, \"colorscale\": [[0.0, \"#0d0887\"], [0.1111111111111111, \"#46039f\"], [0.2222222222222222, \"#7201a8\"], [0.3333333333333333, \"#9c179e\"], [0.4444444444444444, \"#bd3786\"], [0.5555555555555556, \"#d8576b\"], [0.6666666666666666, \"#ed7953\"], [0.7777777777777778, \"#fb9f3a\"], [0.8888888888888888, \"#fdca26\"], [1.0, \"#f0f921\"]], \"type\": \"heatmapgl\"}], \"histogram\": [{\"marker\": {\"colorbar\": {\"outlinewidth\": 0, \"ticks\": \"\"}}, \"type\": \"histogram\"}], \"histogram2d\": [{\"colorbar\": {\"outlinewidth\": 0, \"ticks\": \"\"}, \"colorscale\": [[0.0, \"#0d0887\"], [0.1111111111111111, \"#46039f\"], [0.2222222222222222, \"#7201a8\"], [0.3333333333333333, \"#9c179e\"], [0.4444444444444444, \"#bd3786\"], [0.5555555555555556, \"#d8576b\"], [0.6666666666666666, \"#ed7953\"], [0.7777777777777778, \"#fb9f3a\"], [0.8888888888888888, \"#fdca26\"], [1.0, \"#f0f921\"]], \"type\": \"histogram2d\"}], \"histogram2dcontour\": [{\"colorbar\": {\"outlinewidth\": 0, \"ticks\": \"\"}, \"colorscale\": [[0.0, \"#0d0887\"], [0.1111111111111111, \"#46039f\"], [0.2222222222222222, \"#7201a8\"], [0.3333333333333333, \"#9c179e\"], [0.4444444444444444, \"#bd3786\"], [0.5555555555555556, \"#d8576b\"], [0.6666666666666666, \"#ed7953\"], [0.7777777777777778, \"#fb9f3a\"], [0.8888888888888888, \"#fdca26\"], [1.0, \"#f0f921\"]], \"type\": \"histogram2dcontour\"}], \"mesh3d\": [{\"colorbar\": {\"outlinewidth\": 0, \"ticks\": \"\"}, \"type\": \"mesh3d\"}], \"parcoords\": [{\"line\": {\"colorbar\": {\"outlinewidth\": 0, \"ticks\": \"\"}}, \"type\": \"parcoords\"}], \"pie\": [{\"automargin\": true, \"type\": \"pie\"}], \"scatter\": [{\"marker\": {\"colorbar\": {\"outlinewidth\": 0, \"ticks\": \"\"}}, \"type\": \"scatter\"}], \"scatter3d\": [{\"line\": {\"colorbar\": {\"outlinewidth\": 0, \"ticks\": \"\"}}, \"marker\": {\"colorbar\": {\"outlinewidth\": 0, \"ticks\": \"\"}}, \"type\": \"scatter3d\"}], \"scattercarpet\": [{\"marker\": {\"colorbar\": {\"outlinewidth\": 0, \"ticks\": \"\"}}, \"type\": \"scattercarpet\"}], \"scattergeo\": [{\"marker\": {\"colorbar\": {\"outlinewidth\": 0, \"ticks\": \"\"}}, \"type\": \"scattergeo\"}], \"scattergl\": [{\"marker\": {\"colorbar\": {\"outlinewidth\": 0, \"ticks\": \"\"}}, \"type\": \"scattergl\"}], \"scattermapbox\": [{\"marker\": {\"colorbar\": {\"outlinewidth\": 0, \"ticks\": \"\"}}, \"type\": \"scattermapbox\"}], \"scatterpolar\": [{\"marker\": {\"colorbar\": {\"outlinewidth\": 0, \"ticks\": \"\"}}, \"type\": \"scatterpolar\"}], \"scatterpolargl\": [{\"marker\": {\"colorbar\": {\"outlinewidth\": 0, \"ticks\": \"\"}}, \"type\": \"scatterpolargl\"}], \"scatterternary\": [{\"marker\": {\"colorbar\": {\"outlinewidth\": 0, \"ticks\": \"\"}}, \"type\": \"scatterternary\"}], \"surface\": [{\"colorbar\": {\"outlinewidth\": 0, \"ticks\": \"\"}, \"colorscale\": [[0.0, \"#0d0887\"], [0.1111111111111111, \"#46039f\"], [0.2222222222222222, \"#7201a8\"], [0.3333333333333333, \"#9c179e\"], [0.4444444444444444, \"#bd3786\"], [0.5555555555555556, \"#d8576b\"], [0.6666666666666666, \"#ed7953\"], [0.7777777777777778, \"#fb9f3a\"], [0.8888888888888888, \"#fdca26\"], [1.0, \"#f0f921\"]], \"type\": \"surface\"}], \"table\": [{\"cells\": {\"fill\": {\"color\": \"#EBF0F8\"}, \"line\": {\"color\": \"white\"}}, \"header\": {\"fill\": {\"color\": \"#C8D4E3\"}, \"line\": {\"color\": \"white\"}}, \"type\": \"table\"}]}, \"layout\": {\"annotationdefaults\": {\"arrowcolor\": \"#2a3f5f\", \"arrowhead\": 0, \"arrowwidth\": 1}, \"coloraxis\": {\"colorbar\": {\"outlinewidth\": 0, \"ticks\": \"\"}}, \"colorscale\": {\"diverging\": [[0, \"#8e0152\"], [0.1, \"#c51b7d\"], [0.2, \"#de77ae\"], [0.3, \"#f1b6da\"], [0.4, \"#fde0ef\"], [0.5, \"#f7f7f7\"], [0.6, \"#e6f5d0\"], [0.7, \"#b8e186\"], [0.8, \"#7fbc41\"], [0.9, \"#4d9221\"], [1, \"#276419\"]], \"sequential\": [[0.0, \"#0d0887\"], [0.1111111111111111, \"#46039f\"], [0.2222222222222222, \"#7201a8\"], [0.3333333333333333, \"#9c179e\"], [0.4444444444444444, \"#bd3786\"], [0.5555555555555556, \"#d8576b\"], [0.6666666666666666, \"#ed7953\"], [0.7777777777777778, \"#fb9f3a\"], [0.8888888888888888, \"#fdca26\"], [1.0, \"#f0f921\"]], \"sequentialminus\": [[0.0, \"#0d0887\"], [0.1111111111111111, \"#46039f\"], [0.2222222222222222, \"#7201a8\"], [0.3333333333333333, \"#9c179e\"], [0.4444444444444444, \"#bd3786\"], [0.5555555555555556, \"#d8576b\"], [0.6666666666666666, \"#ed7953\"], [0.7777777777777778, \"#fb9f3a\"], [0.8888888888888888, \"#fdca26\"], [1.0, \"#f0f921\"]]}, \"colorway\": [\"#636efa\", \"#EF553B\", \"#00cc96\", \"#ab63fa\", \"#FFA15A\", \"#19d3f3\", \"#FF6692\", \"#B6E880\", \"#FF97FF\", \"#FECB52\"], \"font\": {\"color\": \"#2a3f5f\"}, \"geo\": {\"bgcolor\": \"white\", \"lakecolor\": \"white\", \"landcolor\": \"#E5ECF6\", \"showlakes\": true, \"showland\": true, \"subunitcolor\": \"white\"}, \"hoverlabel\": {\"align\": \"left\"}, \"hovermode\": \"closest\", \"mapbox\": {\"style\": \"light\"}, \"paper_bgcolor\": \"white\", \"plot_bgcolor\": \"#E5ECF6\", \"polar\": {\"angularaxis\": {\"gridcolor\": \"white\", \"linecolor\": \"white\", \"ticks\": \"\"}, \"bgcolor\": \"#E5ECF6\", \"radialaxis\": {\"gridcolor\": \"white\", \"linecolor\": \"white\", \"ticks\": \"\"}}, \"scene\": {\"xaxis\": {\"backgroundcolor\": \"#E5ECF6\", \"gridcolor\": \"white\", \"gridwidth\": 2, \"linecolor\": \"white\", \"showbackground\": true, \"ticks\": \"\", \"zerolinecolor\": \"white\"}, \"yaxis\": {\"backgroundcolor\": \"#E5ECF6\", \"gridcolor\": \"white\", \"gridwidth\": 2, \"linecolor\": \"white\", \"showbackground\": true, \"ticks\": \"\", \"zerolinecolor\": \"white\"}, \"zaxis\": {\"backgroundcolor\": \"#E5ECF6\", \"gridcolor\": \"white\", \"gridwidth\": 2, \"linecolor\": \"white\", \"showbackground\": true, \"ticks\": \"\", \"zerolinecolor\": \"white\"}}, \"shapedefaults\": {\"line\": {\"color\": \"#2a3f5f\"}}, \"ternary\": {\"aaxis\": {\"gridcolor\": \"white\", \"linecolor\": \"white\", \"ticks\": \"\"}, \"baxis\": {\"gridcolor\": \"white\", \"linecolor\": \"white\", \"ticks\": \"\"}, \"bgcolor\": \"#E5ECF6\", \"caxis\": {\"gridcolor\": \"white\", \"linecolor\": \"white\", \"ticks\": \"\"}}, \"title\": {\"x\": 0.05}, \"xaxis\": {\"automargin\": true, \"gridcolor\": \"white\", \"linecolor\": \"white\", \"ticks\": \"\", \"title\": {\"standoff\": 15}, \"zerolinecolor\": \"white\", \"zerolinewidth\": 2}, \"yaxis\": {\"automargin\": true, \"gridcolor\": \"white\", \"linecolor\": \"white\", \"ticks\": \"\", \"title\": {\"standoff\": 15}, \"zerolinecolor\": \"white\", \"zerolinewidth\": 2}}}, \"title\": {\"font\": {\"color\": \"#4D5663\"}, \"text\": \"Italy terapia_intensiva by southern regions\"}, \"updatemenus\": [{\"buttons\": [{\"args\": [{\"yaxis.type\": \"linear\"}], \"label\": \"Linear\", \"method\": \"relayout\"}, {\"args\": [{\"yaxis.type\": \"log\"}], \"label\": \"Log\", \"method\": \"relayout\"}], \"direction\": \"down\", \"pad\": {\"r\": 10, \"t\": 10}, \"showactive\": true, \"x\": 0.1, \"xanchor\": \"left\", \"y\": 1.1, \"yanchor\": \"top\"}], \"xaxis\": {\"gridcolor\": \"#E1E5ED\", \"showgrid\": true, \"tickfont\": {\"color\": \"#4D5663\"}, \"title\": {\"font\": {\"color\": \"#4D5663\"}, \"text\": \"\"}, \"zerolinecolor\": \"#E1E5ED\"}, \"yaxis\": {\"gridcolor\": \"#E1E5ED\", \"showgrid\": true, \"tickfont\": {\"color\": \"#4D5663\"}, \"title\": {\"font\": {\"color\": \"#4D5663\"}, \"text\": \"cases\"}, \"zerolinecolor\": \"#E1E5ED\"}},\n                        {\"responsive\": true}\n                    ).then(function(){\n                            \nvar gd = document.getElementById('6807cbb4-744f-4ec3-acd4-4b36ef7a2c90');\nvar x = new MutationObserver(function (mutations, observer) {{\n        var display = window.getComputedStyle(gd).display;\n        if (!display || display === 'none') {{\n            console.log([gd, 'removed!']);\n            Plotly.purge(gd);\n            observer.disconnect();\n        }}\n}});\n\n// Listen for the removal of the full notebook cells\nvar notebookContainer = gd.closest('#notebook-container');\nif (notebookContainer) {{\n    x.observe(notebookContainer, {childList: true});\n}}\n\n// Listen for the clearing of the current output cell\nvar outputEl = gd.closest('.output');\nif (outputEl) {{\n    x.observe(outputEl, {childList: true});\n}}\n\n                        })\n                };\n                });\n            </script>\n        </div>"
     },
     "metadata": {},
     "output_type": "display_data"
    }
   ],
   "source": [
    "regions = io.italy_load_regions(io.italy_southern_regions)\n",
    "total_cases = io.italy_regions_filter_by_category(regions, category)\n",
    "\n",
    "mpl.iplot_comparative_plot(total_cases, title='Italy ' + category + ' by southern regions')\n"
   ],
   "metadata": {
    "collapsed": false,
    "pycharm": {
     "name": "#%%\n",
     "is_executing": false
    }
   }
  },
  {
   "cell_type": "code",
   "execution_count": 8,
   "outputs": [
    {
     "data": {
      "application/vnd.plotly.v1+json": {
       "config": {
        "plotlyServerURL": "https://plot.ly"
       },
       "data": [
        {
         "line": {
          "color": "rgba(255, 153, 51, 1.0)",
          "dash": "solid",
          "shape": "linear",
          "width": 1.3
         },
         "marker": {
          "size": 4,
          "symbol": "circle"
         },
         "mode": "lines+markers",
         "name": "Sardegna",
         "text": "",
         "type": "scatter",
         "x": [
          "24/02/20",
          "25/02/20",
          "26/02/20",
          "27/02/20",
          "28/02/20",
          "29/02/20",
          "01/03/20",
          "02/03/20",
          "03/03/20",
          "04/03/20",
          "05/03/20",
          "06/03/20",
          "07/03/20",
          "08/03/20",
          "09/03/20",
          "10/03/20",
          "11/03/20",
          "12/03/20",
          "13/03/20",
          "14/03/20",
          "15/03/20",
          "16/03/20",
          "17/03/20",
          "18/03/20",
          "19/03/20",
          "20/03/20",
          "21/03/20",
          "22/03/20",
          "23/03/20",
          "24/03/20",
          "25/03/20"
         ],
         "y": [
          0,
          0,
          0,
          0,
          0,
          0,
          0,
          0,
          0,
          0,
          0,
          0,
          0,
          0,
          0,
          0,
          0,
          0,
          0,
          0,
          0,
          0,
          4,
          7,
          9,
          15,
          16,
          16,
          18,
          19,
          19
         ]
        },
        {
         "line": {
          "color": "rgba(55, 128, 191, 1.0)",
          "dash": "solid",
          "shape": "linear",
          "width": 1.3
         },
         "marker": {
          "size": 4,
          "symbol": "circle"
         },
         "mode": "lines+markers",
         "name": "Sicilia",
         "text": "",
         "type": "scatter",
         "x": [
          "24/02/20",
          "25/02/20",
          "26/02/20",
          "27/02/20",
          "28/02/20",
          "29/02/20",
          "01/03/20",
          "02/03/20",
          "03/03/20",
          "04/03/20",
          "05/03/20",
          "06/03/20",
          "07/03/20",
          "08/03/20",
          "09/03/20",
          "10/03/20",
          "11/03/20",
          "12/03/20",
          "13/03/20",
          "14/03/20",
          "15/03/20",
          "16/03/20",
          "17/03/20",
          "18/03/20",
          "19/03/20",
          "20/03/20",
          "21/03/20",
          "22/03/20",
          "23/03/20",
          "24/03/20",
          "25/03/20"
         ],
         "y": [
          0,
          0,
          0,
          0,
          0,
          0,
          0,
          0,
          0,
          0,
          0,
          0,
          0,
          0,
          0,
          2,
          1,
          5,
          7,
          11,
          15,
          20,
          28,
          29,
          36,
          42,
          48,
          55,
          60,
          60,
          80
         ]
        }
       ],
       "layout": {
        "legend": {
         "bgcolor": "#FFFFFF",
         "font": {
          "color": "#4D5663"
         }
        },
        "paper_bgcolor": "#FFFFFF",
        "plot_bgcolor": "#FFFFFF",
        "template": {
         "data": {
          "bar": [
           {
            "error_x": {
             "color": "#2a3f5f"
            },
            "error_y": {
             "color": "#2a3f5f"
            },
            "marker": {
             "line": {
              "color": "#E5ECF6",
              "width": 0.5
             }
            },
            "type": "bar"
           }
          ],
          "barpolar": [
           {
            "marker": {
             "line": {
              "color": "#E5ECF6",
              "width": 0.5
             }
            },
            "type": "barpolar"
           }
          ],
          "carpet": [
           {
            "aaxis": {
             "endlinecolor": "#2a3f5f",
             "gridcolor": "white",
             "linecolor": "white",
             "minorgridcolor": "white",
             "startlinecolor": "#2a3f5f"
            },
            "baxis": {
             "endlinecolor": "#2a3f5f",
             "gridcolor": "white",
             "linecolor": "white",
             "minorgridcolor": "white",
             "startlinecolor": "#2a3f5f"
            },
            "type": "carpet"
           }
          ],
          "choropleth": [
           {
            "colorbar": {
             "outlinewidth": 0,
             "ticks": ""
            },
            "type": "choropleth"
           }
          ],
          "contour": [
           {
            "colorbar": {
             "outlinewidth": 0,
             "ticks": ""
            },
            "colorscale": [
             [
              0.0,
              "#0d0887"
             ],
             [
              0.1111111111111111,
              "#46039f"
             ],
             [
              0.2222222222222222,
              "#7201a8"
             ],
             [
              0.3333333333333333,
              "#9c179e"
             ],
             [
              0.4444444444444444,
              "#bd3786"
             ],
             [
              0.5555555555555556,
              "#d8576b"
             ],
             [
              0.6666666666666666,
              "#ed7953"
             ],
             [
              0.7777777777777778,
              "#fb9f3a"
             ],
             [
              0.8888888888888888,
              "#fdca26"
             ],
             [
              1.0,
              "#f0f921"
             ]
            ],
            "type": "contour"
           }
          ],
          "contourcarpet": [
           {
            "colorbar": {
             "outlinewidth": 0,
             "ticks": ""
            },
            "type": "contourcarpet"
           }
          ],
          "heatmap": [
           {
            "colorbar": {
             "outlinewidth": 0,
             "ticks": ""
            },
            "colorscale": [
             [
              0.0,
              "#0d0887"
             ],
             [
              0.1111111111111111,
              "#46039f"
             ],
             [
              0.2222222222222222,
              "#7201a8"
             ],
             [
              0.3333333333333333,
              "#9c179e"
             ],
             [
              0.4444444444444444,
              "#bd3786"
             ],
             [
              0.5555555555555556,
              "#d8576b"
             ],
             [
              0.6666666666666666,
              "#ed7953"
             ],
             [
              0.7777777777777778,
              "#fb9f3a"
             ],
             [
              0.8888888888888888,
              "#fdca26"
             ],
             [
              1.0,
              "#f0f921"
             ]
            ],
            "type": "heatmap"
           }
          ],
          "heatmapgl": [
           {
            "colorbar": {
             "outlinewidth": 0,
             "ticks": ""
            },
            "colorscale": [
             [
              0.0,
              "#0d0887"
             ],
             [
              0.1111111111111111,
              "#46039f"
             ],
             [
              0.2222222222222222,
              "#7201a8"
             ],
             [
              0.3333333333333333,
              "#9c179e"
             ],
             [
              0.4444444444444444,
              "#bd3786"
             ],
             [
              0.5555555555555556,
              "#d8576b"
             ],
             [
              0.6666666666666666,
              "#ed7953"
             ],
             [
              0.7777777777777778,
              "#fb9f3a"
             ],
             [
              0.8888888888888888,
              "#fdca26"
             ],
             [
              1.0,
              "#f0f921"
             ]
            ],
            "type": "heatmapgl"
           }
          ],
          "histogram": [
           {
            "marker": {
             "colorbar": {
              "outlinewidth": 0,
              "ticks": ""
             }
            },
            "type": "histogram"
           }
          ],
          "histogram2d": [
           {
            "colorbar": {
             "outlinewidth": 0,
             "ticks": ""
            },
            "colorscale": [
             [
              0.0,
              "#0d0887"
             ],
             [
              0.1111111111111111,
              "#46039f"
             ],
             [
              0.2222222222222222,
              "#7201a8"
             ],
             [
              0.3333333333333333,
              "#9c179e"
             ],
             [
              0.4444444444444444,
              "#bd3786"
             ],
             [
              0.5555555555555556,
              "#d8576b"
             ],
             [
              0.6666666666666666,
              "#ed7953"
             ],
             [
              0.7777777777777778,
              "#fb9f3a"
             ],
             [
              0.8888888888888888,
              "#fdca26"
             ],
             [
              1.0,
              "#f0f921"
             ]
            ],
            "type": "histogram2d"
           }
          ],
          "histogram2dcontour": [
           {
            "colorbar": {
             "outlinewidth": 0,
             "ticks": ""
            },
            "colorscale": [
             [
              0.0,
              "#0d0887"
             ],
             [
              0.1111111111111111,
              "#46039f"
             ],
             [
              0.2222222222222222,
              "#7201a8"
             ],
             [
              0.3333333333333333,
              "#9c179e"
             ],
             [
              0.4444444444444444,
              "#bd3786"
             ],
             [
              0.5555555555555556,
              "#d8576b"
             ],
             [
              0.6666666666666666,
              "#ed7953"
             ],
             [
              0.7777777777777778,
              "#fb9f3a"
             ],
             [
              0.8888888888888888,
              "#fdca26"
             ],
             [
              1.0,
              "#f0f921"
             ]
            ],
            "type": "histogram2dcontour"
           }
          ],
          "mesh3d": [
           {
            "colorbar": {
             "outlinewidth": 0,
             "ticks": ""
            },
            "type": "mesh3d"
           }
          ],
          "parcoords": [
           {
            "line": {
             "colorbar": {
              "outlinewidth": 0,
              "ticks": ""
             }
            },
            "type": "parcoords"
           }
          ],
          "pie": [
           {
            "automargin": true,
            "type": "pie"
           }
          ],
          "scatter": [
           {
            "marker": {
             "colorbar": {
              "outlinewidth": 0,
              "ticks": ""
             }
            },
            "type": "scatter"
           }
          ],
          "scatter3d": [
           {
            "line": {
             "colorbar": {
              "outlinewidth": 0,
              "ticks": ""
             }
            },
            "marker": {
             "colorbar": {
              "outlinewidth": 0,
              "ticks": ""
             }
            },
            "type": "scatter3d"
           }
          ],
          "scattercarpet": [
           {
            "marker": {
             "colorbar": {
              "outlinewidth": 0,
              "ticks": ""
             }
            },
            "type": "scattercarpet"
           }
          ],
          "scattergeo": [
           {
            "marker": {
             "colorbar": {
              "outlinewidth": 0,
              "ticks": ""
             }
            },
            "type": "scattergeo"
           }
          ],
          "scattergl": [
           {
            "marker": {
             "colorbar": {
              "outlinewidth": 0,
              "ticks": ""
             }
            },
            "type": "scattergl"
           }
          ],
          "scattermapbox": [
           {
            "marker": {
             "colorbar": {
              "outlinewidth": 0,
              "ticks": ""
             }
            },
            "type": "scattermapbox"
           }
          ],
          "scatterpolar": [
           {
            "marker": {
             "colorbar": {
              "outlinewidth": 0,
              "ticks": ""
             }
            },
            "type": "scatterpolar"
           }
          ],
          "scatterpolargl": [
           {
            "marker": {
             "colorbar": {
              "outlinewidth": 0,
              "ticks": ""
             }
            },
            "type": "scatterpolargl"
           }
          ],
          "scatterternary": [
           {
            "marker": {
             "colorbar": {
              "outlinewidth": 0,
              "ticks": ""
             }
            },
            "type": "scatterternary"
           }
          ],
          "surface": [
           {
            "colorbar": {
             "outlinewidth": 0,
             "ticks": ""
            },
            "colorscale": [
             [
              0.0,
              "#0d0887"
             ],
             [
              0.1111111111111111,
              "#46039f"
             ],
             [
              0.2222222222222222,
              "#7201a8"
             ],
             [
              0.3333333333333333,
              "#9c179e"
             ],
             [
              0.4444444444444444,
              "#bd3786"
             ],
             [
              0.5555555555555556,
              "#d8576b"
             ],
             [
              0.6666666666666666,
              "#ed7953"
             ],
             [
              0.7777777777777778,
              "#fb9f3a"
             ],
             [
              0.8888888888888888,
              "#fdca26"
             ],
             [
              1.0,
              "#f0f921"
             ]
            ],
            "type": "surface"
           }
          ],
          "table": [
           {
            "cells": {
             "fill": {
              "color": "#EBF0F8"
             },
             "line": {
              "color": "white"
             }
            },
            "header": {
             "fill": {
              "color": "#C8D4E3"
             },
             "line": {
              "color": "white"
             }
            },
            "type": "table"
           }
          ]
         },
         "layout": {
          "annotationdefaults": {
           "arrowcolor": "#2a3f5f",
           "arrowhead": 0,
           "arrowwidth": 1
          },
          "coloraxis": {
           "colorbar": {
            "outlinewidth": 0,
            "ticks": ""
           }
          },
          "colorscale": {
           "diverging": [
            [
             0,
             "#8e0152"
            ],
            [
             0.1,
             "#c51b7d"
            ],
            [
             0.2,
             "#de77ae"
            ],
            [
             0.3,
             "#f1b6da"
            ],
            [
             0.4,
             "#fde0ef"
            ],
            [
             0.5,
             "#f7f7f7"
            ],
            [
             0.6,
             "#e6f5d0"
            ],
            [
             0.7,
             "#b8e186"
            ],
            [
             0.8,
             "#7fbc41"
            ],
            [
             0.9,
             "#4d9221"
            ],
            [
             1,
             "#276419"
            ]
           ],
           "sequential": [
            [
             0.0,
             "#0d0887"
            ],
            [
             0.1111111111111111,
             "#46039f"
            ],
            [
             0.2222222222222222,
             "#7201a8"
            ],
            [
             0.3333333333333333,
             "#9c179e"
            ],
            [
             0.4444444444444444,
             "#bd3786"
            ],
            [
             0.5555555555555556,
             "#d8576b"
            ],
            [
             0.6666666666666666,
             "#ed7953"
            ],
            [
             0.7777777777777778,
             "#fb9f3a"
            ],
            [
             0.8888888888888888,
             "#fdca26"
            ],
            [
             1.0,
             "#f0f921"
            ]
           ],
           "sequentialminus": [
            [
             0.0,
             "#0d0887"
            ],
            [
             0.1111111111111111,
             "#46039f"
            ],
            [
             0.2222222222222222,
             "#7201a8"
            ],
            [
             0.3333333333333333,
             "#9c179e"
            ],
            [
             0.4444444444444444,
             "#bd3786"
            ],
            [
             0.5555555555555556,
             "#d8576b"
            ],
            [
             0.6666666666666666,
             "#ed7953"
            ],
            [
             0.7777777777777778,
             "#fb9f3a"
            ],
            [
             0.8888888888888888,
             "#fdca26"
            ],
            [
             1.0,
             "#f0f921"
            ]
           ]
          },
          "colorway": [
           "#636efa",
           "#EF553B",
           "#00cc96",
           "#ab63fa",
           "#FFA15A",
           "#19d3f3",
           "#FF6692",
           "#B6E880",
           "#FF97FF",
           "#FECB52"
          ],
          "font": {
           "color": "#2a3f5f"
          },
          "geo": {
           "bgcolor": "white",
           "lakecolor": "white",
           "landcolor": "#E5ECF6",
           "showlakes": true,
           "showland": true,
           "subunitcolor": "white"
          },
          "hoverlabel": {
           "align": "left"
          },
          "hovermode": "closest",
          "mapbox": {
           "style": "light"
          },
          "paper_bgcolor": "white",
          "plot_bgcolor": "#E5ECF6",
          "polar": {
           "angularaxis": {
            "gridcolor": "white",
            "linecolor": "white",
            "ticks": ""
           },
           "bgcolor": "#E5ECF6",
           "radialaxis": {
            "gridcolor": "white",
            "linecolor": "white",
            "ticks": ""
           }
          },
          "scene": {
           "xaxis": {
            "backgroundcolor": "#E5ECF6",
            "gridcolor": "white",
            "gridwidth": 2,
            "linecolor": "white",
            "showbackground": true,
            "ticks": "",
            "zerolinecolor": "white"
           },
           "yaxis": {
            "backgroundcolor": "#E5ECF6",
            "gridcolor": "white",
            "gridwidth": 2,
            "linecolor": "white",
            "showbackground": true,
            "ticks": "",
            "zerolinecolor": "white"
           },
           "zaxis": {
            "backgroundcolor": "#E5ECF6",
            "gridcolor": "white",
            "gridwidth": 2,
            "linecolor": "white",
            "showbackground": true,
            "ticks": "",
            "zerolinecolor": "white"
           }
          },
          "shapedefaults": {
           "line": {
            "color": "#2a3f5f"
           }
          },
          "ternary": {
           "aaxis": {
            "gridcolor": "white",
            "linecolor": "white",
            "ticks": ""
           },
           "baxis": {
            "gridcolor": "white",
            "linecolor": "white",
            "ticks": ""
           },
           "bgcolor": "#E5ECF6",
           "caxis": {
            "gridcolor": "white",
            "linecolor": "white",
            "ticks": ""
           }
          },
          "title": {
           "x": 0.05
          },
          "xaxis": {
           "automargin": true,
           "gridcolor": "white",
           "linecolor": "white",
           "ticks": "",
           "title": {
            "standoff": 15
           },
           "zerolinecolor": "white",
           "zerolinewidth": 2
          },
          "yaxis": {
           "automargin": true,
           "gridcolor": "white",
           "linecolor": "white",
           "ticks": "",
           "title": {
            "standoff": 15
           },
           "zerolinecolor": "white",
           "zerolinewidth": 2
          }
         }
        },
        "title": {
         "font": {
          "color": "#4D5663"
         },
         "text": "Italy terapia_intensiva by island regions"
        },
        "updatemenus": [
         {
          "buttons": [
           {
            "args": [
             {
              "yaxis.type": "linear"
             }
            ],
            "label": "Linear",
            "method": "relayout"
           },
           {
            "args": [
             {
              "yaxis.type": "log"
             }
            ],
            "label": "Log",
            "method": "relayout"
           }
          ],
          "direction": "down",
          "pad": {
           "r": 10,
           "t": 10
          },
          "showactive": true,
          "x": 0.1,
          "xanchor": "left",
          "y": 1.1,
          "yanchor": "top"
         }
        ],
        "xaxis": {
         "gridcolor": "#E1E5ED",
         "showgrid": true,
         "tickfont": {
          "color": "#4D5663"
         },
         "title": {
          "font": {
           "color": "#4D5663"
          },
          "text": ""
         },
         "zerolinecolor": "#E1E5ED"
        },
        "yaxis": {
         "gridcolor": "#E1E5ED",
         "showgrid": true,
         "tickfont": {
          "color": "#4D5663"
         },
         "title": {
          "font": {
           "color": "#4D5663"
          },
          "text": "cases"
         },
         "zerolinecolor": "#E1E5ED"
        }
       }
      },
      "text/html": "<div>\n        \n        \n            <div id=\"d1990310-8320-48e6-99df-26760419039d\" class=\"plotly-graph-div\" style=\"height:525px; width:100%;\"></div>\n            <script type=\"text/javascript\">\n                require([\"plotly\"], function(Plotly) {\n                    window.PLOTLYENV=window.PLOTLYENV || {};\n                    \n                if (document.getElementById(\"d1990310-8320-48e6-99df-26760419039d\")) {\n                    Plotly.newPlot(\n                        'd1990310-8320-48e6-99df-26760419039d',\n                        [{\"line\": {\"color\": \"rgba(255, 153, 51, 1.0)\", \"dash\": \"solid\", \"shape\": \"linear\", \"width\": 1.3}, \"marker\": {\"size\": 4, \"symbol\": \"circle\"}, \"mode\": \"lines+markers\", \"name\": \"Sardegna\", \"text\": \"\", \"type\": \"scatter\", \"x\": [\"24/02/20\", \"25/02/20\", \"26/02/20\", \"27/02/20\", \"28/02/20\", \"29/02/20\", \"01/03/20\", \"02/03/20\", \"03/03/20\", \"04/03/20\", \"05/03/20\", \"06/03/20\", \"07/03/20\", \"08/03/20\", \"09/03/20\", \"10/03/20\", \"11/03/20\", \"12/03/20\", \"13/03/20\", \"14/03/20\", \"15/03/20\", \"16/03/20\", \"17/03/20\", \"18/03/20\", \"19/03/20\", \"20/03/20\", \"21/03/20\", \"22/03/20\", \"23/03/20\", \"24/03/20\", \"25/03/20\"], \"y\": [0, 0, 0, 0, 0, 0, 0, 0, 0, 0, 0, 0, 0, 0, 0, 0, 0, 0, 0, 0, 0, 0, 4, 7, 9, 15, 16, 16, 18, 19, 19]}, {\"line\": {\"color\": \"rgba(55, 128, 191, 1.0)\", \"dash\": \"solid\", \"shape\": \"linear\", \"width\": 1.3}, \"marker\": {\"size\": 4, \"symbol\": \"circle\"}, \"mode\": \"lines+markers\", \"name\": \"Sicilia\", \"text\": \"\", \"type\": \"scatter\", \"x\": [\"24/02/20\", \"25/02/20\", \"26/02/20\", \"27/02/20\", \"28/02/20\", \"29/02/20\", \"01/03/20\", \"02/03/20\", \"03/03/20\", \"04/03/20\", \"05/03/20\", \"06/03/20\", \"07/03/20\", \"08/03/20\", \"09/03/20\", \"10/03/20\", \"11/03/20\", \"12/03/20\", \"13/03/20\", \"14/03/20\", \"15/03/20\", \"16/03/20\", \"17/03/20\", \"18/03/20\", \"19/03/20\", \"20/03/20\", \"21/03/20\", \"22/03/20\", \"23/03/20\", \"24/03/20\", \"25/03/20\"], \"y\": [0, 0, 0, 0, 0, 0, 0, 0, 0, 0, 0, 0, 0, 0, 0, 2, 1, 5, 7, 11, 15, 20, 28, 29, 36, 42, 48, 55, 60, 60, 80]}],\n                        {\"legend\": {\"bgcolor\": \"#FFFFFF\", \"font\": {\"color\": \"#4D5663\"}}, \"paper_bgcolor\": \"#FFFFFF\", \"plot_bgcolor\": \"#FFFFFF\", \"template\": {\"data\": {\"bar\": [{\"error_x\": {\"color\": \"#2a3f5f\"}, \"error_y\": {\"color\": \"#2a3f5f\"}, \"marker\": {\"line\": {\"color\": \"#E5ECF6\", \"width\": 0.5}}, \"type\": \"bar\"}], \"barpolar\": [{\"marker\": {\"line\": {\"color\": \"#E5ECF6\", \"width\": 0.5}}, \"type\": \"barpolar\"}], \"carpet\": [{\"aaxis\": {\"endlinecolor\": \"#2a3f5f\", \"gridcolor\": \"white\", \"linecolor\": \"white\", \"minorgridcolor\": \"white\", \"startlinecolor\": \"#2a3f5f\"}, \"baxis\": {\"endlinecolor\": \"#2a3f5f\", \"gridcolor\": \"white\", \"linecolor\": \"white\", \"minorgridcolor\": \"white\", \"startlinecolor\": \"#2a3f5f\"}, \"type\": \"carpet\"}], \"choropleth\": [{\"colorbar\": {\"outlinewidth\": 0, \"ticks\": \"\"}, \"type\": \"choropleth\"}], \"contour\": [{\"colorbar\": {\"outlinewidth\": 0, \"ticks\": \"\"}, \"colorscale\": [[0.0, \"#0d0887\"], [0.1111111111111111, \"#46039f\"], [0.2222222222222222, \"#7201a8\"], [0.3333333333333333, \"#9c179e\"], [0.4444444444444444, \"#bd3786\"], [0.5555555555555556, \"#d8576b\"], [0.6666666666666666, \"#ed7953\"], [0.7777777777777778, \"#fb9f3a\"], [0.8888888888888888, \"#fdca26\"], [1.0, \"#f0f921\"]], \"type\": \"contour\"}], \"contourcarpet\": [{\"colorbar\": {\"outlinewidth\": 0, \"ticks\": \"\"}, \"type\": \"contourcarpet\"}], \"heatmap\": [{\"colorbar\": {\"outlinewidth\": 0, \"ticks\": \"\"}, \"colorscale\": [[0.0, \"#0d0887\"], [0.1111111111111111, \"#46039f\"], [0.2222222222222222, \"#7201a8\"], [0.3333333333333333, \"#9c179e\"], [0.4444444444444444, \"#bd3786\"], [0.5555555555555556, \"#d8576b\"], [0.6666666666666666, \"#ed7953\"], [0.7777777777777778, \"#fb9f3a\"], [0.8888888888888888, \"#fdca26\"], [1.0, \"#f0f921\"]], \"type\": \"heatmap\"}], \"heatmapgl\": [{\"colorbar\": {\"outlinewidth\": 0, \"ticks\": \"\"}, \"colorscale\": [[0.0, \"#0d0887\"], [0.1111111111111111, \"#46039f\"], [0.2222222222222222, \"#7201a8\"], [0.3333333333333333, \"#9c179e\"], [0.4444444444444444, \"#bd3786\"], [0.5555555555555556, \"#d8576b\"], [0.6666666666666666, \"#ed7953\"], [0.7777777777777778, \"#fb9f3a\"], [0.8888888888888888, \"#fdca26\"], [1.0, \"#f0f921\"]], \"type\": \"heatmapgl\"}], \"histogram\": [{\"marker\": {\"colorbar\": {\"outlinewidth\": 0, \"ticks\": \"\"}}, \"type\": \"histogram\"}], \"histogram2d\": [{\"colorbar\": {\"outlinewidth\": 0, \"ticks\": \"\"}, \"colorscale\": [[0.0, \"#0d0887\"], [0.1111111111111111, \"#46039f\"], [0.2222222222222222, \"#7201a8\"], [0.3333333333333333, \"#9c179e\"], [0.4444444444444444, \"#bd3786\"], [0.5555555555555556, \"#d8576b\"], [0.6666666666666666, \"#ed7953\"], [0.7777777777777778, \"#fb9f3a\"], [0.8888888888888888, \"#fdca26\"], [1.0, \"#f0f921\"]], \"type\": \"histogram2d\"}], \"histogram2dcontour\": [{\"colorbar\": {\"outlinewidth\": 0, \"ticks\": \"\"}, \"colorscale\": [[0.0, \"#0d0887\"], [0.1111111111111111, \"#46039f\"], [0.2222222222222222, \"#7201a8\"], [0.3333333333333333, \"#9c179e\"], [0.4444444444444444, \"#bd3786\"], [0.5555555555555556, \"#d8576b\"], [0.6666666666666666, \"#ed7953\"], [0.7777777777777778, \"#fb9f3a\"], [0.8888888888888888, \"#fdca26\"], [1.0, \"#f0f921\"]], \"type\": \"histogram2dcontour\"}], \"mesh3d\": [{\"colorbar\": {\"outlinewidth\": 0, \"ticks\": \"\"}, \"type\": \"mesh3d\"}], \"parcoords\": [{\"line\": {\"colorbar\": {\"outlinewidth\": 0, \"ticks\": \"\"}}, \"type\": \"parcoords\"}], \"pie\": [{\"automargin\": true, \"type\": \"pie\"}], \"scatter\": [{\"marker\": {\"colorbar\": {\"outlinewidth\": 0, \"ticks\": \"\"}}, \"type\": \"scatter\"}], \"scatter3d\": [{\"line\": {\"colorbar\": {\"outlinewidth\": 0, \"ticks\": \"\"}}, \"marker\": {\"colorbar\": {\"outlinewidth\": 0, \"ticks\": \"\"}}, \"type\": \"scatter3d\"}], \"scattercarpet\": [{\"marker\": {\"colorbar\": {\"outlinewidth\": 0, \"ticks\": \"\"}}, \"type\": \"scattercarpet\"}], \"scattergeo\": [{\"marker\": {\"colorbar\": {\"outlinewidth\": 0, \"ticks\": \"\"}}, \"type\": \"scattergeo\"}], \"scattergl\": [{\"marker\": {\"colorbar\": {\"outlinewidth\": 0, \"ticks\": \"\"}}, \"type\": \"scattergl\"}], \"scattermapbox\": [{\"marker\": {\"colorbar\": {\"outlinewidth\": 0, \"ticks\": \"\"}}, \"type\": \"scattermapbox\"}], \"scatterpolar\": [{\"marker\": {\"colorbar\": {\"outlinewidth\": 0, \"ticks\": \"\"}}, \"type\": \"scatterpolar\"}], \"scatterpolargl\": [{\"marker\": {\"colorbar\": {\"outlinewidth\": 0, \"ticks\": \"\"}}, \"type\": \"scatterpolargl\"}], \"scatterternary\": [{\"marker\": {\"colorbar\": {\"outlinewidth\": 0, \"ticks\": \"\"}}, \"type\": \"scatterternary\"}], \"surface\": [{\"colorbar\": {\"outlinewidth\": 0, \"ticks\": \"\"}, \"colorscale\": [[0.0, \"#0d0887\"], [0.1111111111111111, \"#46039f\"], [0.2222222222222222, \"#7201a8\"], [0.3333333333333333, \"#9c179e\"], [0.4444444444444444, \"#bd3786\"], [0.5555555555555556, \"#d8576b\"], [0.6666666666666666, \"#ed7953\"], [0.7777777777777778, \"#fb9f3a\"], [0.8888888888888888, \"#fdca26\"], [1.0, \"#f0f921\"]], \"type\": \"surface\"}], \"table\": [{\"cells\": {\"fill\": {\"color\": \"#EBF0F8\"}, \"line\": {\"color\": \"white\"}}, \"header\": {\"fill\": {\"color\": \"#C8D4E3\"}, \"line\": {\"color\": \"white\"}}, \"type\": \"table\"}]}, \"layout\": {\"annotationdefaults\": {\"arrowcolor\": \"#2a3f5f\", \"arrowhead\": 0, \"arrowwidth\": 1}, \"coloraxis\": {\"colorbar\": {\"outlinewidth\": 0, \"ticks\": \"\"}}, \"colorscale\": {\"diverging\": [[0, \"#8e0152\"], [0.1, \"#c51b7d\"], [0.2, \"#de77ae\"], [0.3, \"#f1b6da\"], [0.4, \"#fde0ef\"], [0.5, \"#f7f7f7\"], [0.6, \"#e6f5d0\"], [0.7, \"#b8e186\"], [0.8, \"#7fbc41\"], [0.9, \"#4d9221\"], [1, \"#276419\"]], \"sequential\": [[0.0, \"#0d0887\"], [0.1111111111111111, \"#46039f\"], [0.2222222222222222, \"#7201a8\"], [0.3333333333333333, \"#9c179e\"], [0.4444444444444444, \"#bd3786\"], [0.5555555555555556, \"#d8576b\"], [0.6666666666666666, \"#ed7953\"], [0.7777777777777778, \"#fb9f3a\"], [0.8888888888888888, \"#fdca26\"], [1.0, \"#f0f921\"]], \"sequentialminus\": [[0.0, \"#0d0887\"], [0.1111111111111111, \"#46039f\"], [0.2222222222222222, \"#7201a8\"], [0.3333333333333333, \"#9c179e\"], [0.4444444444444444, \"#bd3786\"], [0.5555555555555556, \"#d8576b\"], [0.6666666666666666, \"#ed7953\"], [0.7777777777777778, \"#fb9f3a\"], [0.8888888888888888, \"#fdca26\"], [1.0, \"#f0f921\"]]}, \"colorway\": [\"#636efa\", \"#EF553B\", \"#00cc96\", \"#ab63fa\", \"#FFA15A\", \"#19d3f3\", \"#FF6692\", \"#B6E880\", \"#FF97FF\", \"#FECB52\"], \"font\": {\"color\": \"#2a3f5f\"}, \"geo\": {\"bgcolor\": \"white\", \"lakecolor\": \"white\", \"landcolor\": \"#E5ECF6\", \"showlakes\": true, \"showland\": true, \"subunitcolor\": \"white\"}, \"hoverlabel\": {\"align\": \"left\"}, \"hovermode\": \"closest\", \"mapbox\": {\"style\": \"light\"}, \"paper_bgcolor\": \"white\", \"plot_bgcolor\": \"#E5ECF6\", \"polar\": {\"angularaxis\": {\"gridcolor\": \"white\", \"linecolor\": \"white\", \"ticks\": \"\"}, \"bgcolor\": \"#E5ECF6\", \"radialaxis\": {\"gridcolor\": \"white\", \"linecolor\": \"white\", \"ticks\": \"\"}}, \"scene\": {\"xaxis\": {\"backgroundcolor\": \"#E5ECF6\", \"gridcolor\": \"white\", \"gridwidth\": 2, \"linecolor\": \"white\", \"showbackground\": true, \"ticks\": \"\", \"zerolinecolor\": \"white\"}, \"yaxis\": {\"backgroundcolor\": \"#E5ECF6\", \"gridcolor\": \"white\", \"gridwidth\": 2, \"linecolor\": \"white\", \"showbackground\": true, \"ticks\": \"\", \"zerolinecolor\": \"white\"}, \"zaxis\": {\"backgroundcolor\": \"#E5ECF6\", \"gridcolor\": \"white\", \"gridwidth\": 2, \"linecolor\": \"white\", \"showbackground\": true, \"ticks\": \"\", \"zerolinecolor\": \"white\"}}, \"shapedefaults\": {\"line\": {\"color\": \"#2a3f5f\"}}, \"ternary\": {\"aaxis\": {\"gridcolor\": \"white\", \"linecolor\": \"white\", \"ticks\": \"\"}, \"baxis\": {\"gridcolor\": \"white\", \"linecolor\": \"white\", \"ticks\": \"\"}, \"bgcolor\": \"#E5ECF6\", \"caxis\": {\"gridcolor\": \"white\", \"linecolor\": \"white\", \"ticks\": \"\"}}, \"title\": {\"x\": 0.05}, \"xaxis\": {\"automargin\": true, \"gridcolor\": \"white\", \"linecolor\": \"white\", \"ticks\": \"\", \"title\": {\"standoff\": 15}, \"zerolinecolor\": \"white\", \"zerolinewidth\": 2}, \"yaxis\": {\"automargin\": true, \"gridcolor\": \"white\", \"linecolor\": \"white\", \"ticks\": \"\", \"title\": {\"standoff\": 15}, \"zerolinecolor\": \"white\", \"zerolinewidth\": 2}}}, \"title\": {\"font\": {\"color\": \"#4D5663\"}, \"text\": \"Italy terapia_intensiva by island regions\"}, \"updatemenus\": [{\"buttons\": [{\"args\": [{\"yaxis.type\": \"linear\"}], \"label\": \"Linear\", \"method\": \"relayout\"}, {\"args\": [{\"yaxis.type\": \"log\"}], \"label\": \"Log\", \"method\": \"relayout\"}], \"direction\": \"down\", \"pad\": {\"r\": 10, \"t\": 10}, \"showactive\": true, \"x\": 0.1, \"xanchor\": \"left\", \"y\": 1.1, \"yanchor\": \"top\"}], \"xaxis\": {\"gridcolor\": \"#E1E5ED\", \"showgrid\": true, \"tickfont\": {\"color\": \"#4D5663\"}, \"title\": {\"font\": {\"color\": \"#4D5663\"}, \"text\": \"\"}, \"zerolinecolor\": \"#E1E5ED\"}, \"yaxis\": {\"gridcolor\": \"#E1E5ED\", \"showgrid\": true, \"tickfont\": {\"color\": \"#4D5663\"}, \"title\": {\"font\": {\"color\": \"#4D5663\"}, \"text\": \"cases\"}, \"zerolinecolor\": \"#E1E5ED\"}},\n                        {\"responsive\": true}\n                    ).then(function(){\n                            \nvar gd = document.getElementById('d1990310-8320-48e6-99df-26760419039d');\nvar x = new MutationObserver(function (mutations, observer) {{\n        var display = window.getComputedStyle(gd).display;\n        if (!display || display === 'none') {{\n            console.log([gd, 'removed!']);\n            Plotly.purge(gd);\n            observer.disconnect();\n        }}\n}});\n\n// Listen for the removal of the full notebook cells\nvar notebookContainer = gd.closest('#notebook-container');\nif (notebookContainer) {{\n    x.observe(notebookContainer, {childList: true});\n}}\n\n// Listen for the clearing of the current output cell\nvar outputEl = gd.closest('.output');\nif (outputEl) {{\n    x.observe(outputEl, {childList: true});\n}}\n\n                        })\n                };\n                });\n            </script>\n        </div>"
     },
     "metadata": {},
     "output_type": "display_data"
    }
   ],
   "source": [
    "regions = io.italy_load_regions(io.italy_islands_regions)\n",
    "total_cases = io.italy_regions_filter_by_category(regions, category)\n",
    "\n",
    "mpl.iplot_comparative_plot(total_cases, title='Italy ' + category + ' by island regions')"
   ],
   "metadata": {
    "collapsed": false,
    "pycharm": {
     "name": "#%%\n",
     "is_executing": false
    }
   }
  }
 ],
 "metadata": {
  "kernelspec": {
   "display_name": "Python 3",
   "language": "python",
   "name": "python3"
  },
  "language_info": {
   "codemirror_mode": {
    "name": "ipython",
    "version": 2
   },
   "file_extension": ".py",
   "mimetype": "text/x-python",
   "name": "python",
   "nbconvert_exporter": "python",
   "pygments_lexer": "ipython2",
   "version": "2.7.6"
  },
  "pycharm": {
   "stem_cell": {
    "cell_type": "raw",
    "source": [],
    "metadata": {
     "collapsed": false
    }
   }
  }
 },
 "nbformat": 4,
 "nbformat_minor": 0
}