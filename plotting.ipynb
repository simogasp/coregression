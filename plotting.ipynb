{
 "cells": [
  {
   "cell_type": "code",
   "execution_count": 13,
   "metadata": {
    "collapsed": true,
    "pycharm": {
     "is_executing": false
    }
   },
   "outputs": [],
   "source": [
    "import mytools.regression as reg\n",
    "import numpy as np\n",
    "import matplotlib.pyplot as plt\n",
    "import datetime"
   ]
  },
  {
   "cell_type": "markdown",
   "source": [
    "## Sigmoid fitting for intensive care patients"
   ],
   "metadata": {
    "collapsed": false,
    "pycharm": {
     "name": "#%% md\n"
    }
   }
  },
  {
   "cell_type": "code",
   "execution_count": 14,
   "outputs": [
    {
     "data": {
      "text/plain": "<Figure size 432x288 with 1 Axes>",
      "image/png": "[encoded data removed]"
     },
     "metadata": {
      "needs_background": "light"
     },
     "output_type": "display_data"
    }
   ],
   "source": [
    "data = np.genfromtxt(fname='italy-intensive_care.csv', delimiter=',', names=True)\n",
    "\n",
    "x_orig = data['day']\n",
    "y_orig = data['intensive_care']\n",
    "\n",
    "model, xp, pxp = reg.fit_sigmoid(x_orig, y_orig)\n",
    "\n",
    "# Plot the results\n",
    "\n",
    "plt.plot(x_orig, y_orig, '.', xp, pxp, '-')\n",
    "locs, labels = plt.xticks()\n",
    "a = list((datetime.datetime(2020, 1, 1) + datetime.timedelta(days=int(v))).strftime(\"%d %b\") for v in locs.tolist())\n",
    "plt.xticks(ticks=locs.tolist(), labels=a)\n",
    "plt.xlabel('x')\n",
    "plt.ylabel('y', rotation='horizontal')\n",
    "plt.grid(True)\n",
    "plt.show()"
   ],
   "metadata": {
    "collapsed": false,
    "pycharm": {
     "name": "#%%\n",
     "is_executing": false
    }
   }
  }
 ],
 "metadata": {
  "kernelspec": {
   "display_name": "Python 3",
   "language": "python",
   "name": "python3"
  },
  "language_info": {
   "codemirror_mode": {
    "name": "ipython",
    "version": 2
   },
   "file_extension": ".py",
   "mimetype": "text/x-python",
   "name": "python",
   "nbconvert_exporter": "python",
   "pygments_lexer": "ipython2",
   "version": "2.7.6"
  },
  "pycharm": {
   "stem_cell": {
    "cell_type": "raw",
    "source": [],
    "metadata": {
     "collapsed": false
    }
   }
  }
 },
 "nbformat": 4,
 "nbformat_minor": 0
}