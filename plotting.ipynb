{
 "cells": [
  {
   "cell_type": "code",
   "execution_count": 10,
   "metadata": {
    "collapsed": true,
    "pycharm": {
     "is_executing": false
    }
   },
   "outputs": [
    {
     "data": {
      "text/html": "        <script type=\"text/javascript\">\n        window.PlotlyConfig = {MathJaxConfig: 'local'};\n        if (window.MathJax) {MathJax.Hub.Config({SVG: {font: \"STIX-Web\"}});}\n        if (typeof require !== 'undefined') {\n        require.undef(\"plotly\");\n        requirejs.config({\n            paths: {\n                'plotly': ['https://cdn.plot.ly/plotly-latest.min']\n            }\n        });\n        require(['plotly'], function(Plotly) {\n            window._Plotly = Plotly;\n        });\n        }\n        </script>\n        "
     },
     "metadata": {},
     "output_type": "display_data"
    }
   ],
   "source": [
    "import pandas as pd\n",
    "import cufflinks as cf\n",
    "import mytools.date as dt\n",
    "import mytools.plot as mpl\n",
    "\n",
    "cf.go_offline()\n",
    "cf.set_config_file(offline=False, world_readable=True)"
   ]
  },
  {
   "cell_type": "markdown",
   "source": [
    "## Italian intensive care cases "
   ],
   "metadata": {
    "collapsed": false,
    "pycharm": {
     "name": "#%% md\n"
    }
   }
  },
  {
   "cell_type": "code",
   "execution_count": 11,
   "outputs": [
    {
     "data": {
      "text/plain": "          intensive care\n24/02/20              27\n25/02/20              35\n26/02/20              36\n27/02/20              56\n28/02/20              64\n29/02/20             105\n01/03/20             140\n02/03/20             166\n03/03/20             229\n04/03/20             295\n05/03/20             351\n06/03/20             462\n07/03/20             567\n08/03/20             650\n09/03/20             733\n10/03/20             877\n11/03/20            1028\n12/03/20            1153\n13/03/20            1328\n14/03/20            1518\n15/03/20            1672\n16/03/20            1851\n17/03/20            2060\n18/03/20            2257\n19/03/20            2498\n20/03/20            2655\n21/03/20            2857\n22/03/20            3009\n23/03/20            3204\n24/03/20            3396",
      "text/html": "<div>\n<style scoped>\n    .dataframe tbody tr th:only-of-type {\n        vertical-align: middle;\n    }\n\n    .dataframe tbody tr th {\n        vertical-align: top;\n    }\n\n    .dataframe thead th {\n        text-align: right;\n    }\n</style>\n<table border=\"1\" class=\"dataframe\">\n  <thead>\n    <tr style=\"text-align: right;\">\n      <th></th>\n      <th>intensive care</th>\n    </tr>\n  </thead>\n  <tbody>\n    <tr>\n      <th>24/02/20</th>\n      <td>27</td>\n    </tr>\n    <tr>\n      <th>25/02/20</th>\n      <td>35</td>\n    </tr>\n    <tr>\n      <th>26/02/20</th>\n      <td>36</td>\n    </tr>\n    <tr>\n      <th>27/02/20</th>\n      <td>56</td>\n    </tr>\n    <tr>\n      <th>28/02/20</th>\n      <td>64</td>\n    </tr>\n    <tr>\n      <th>29/02/20</th>\n      <td>105</td>\n    </tr>\n    <tr>\n      <th>01/03/20</th>\n      <td>140</td>\n    </tr>\n    <tr>\n      <th>02/03/20</th>\n      <td>166</td>\n    </tr>\n    <tr>\n      <th>03/03/20</th>\n      <td>229</td>\n    </tr>\n    <tr>\n      <th>04/03/20</th>\n      <td>295</td>\n    </tr>\n    <tr>\n      <th>05/03/20</th>\n      <td>351</td>\n    </tr>\n    <tr>\n      <th>06/03/20</th>\n      <td>462</td>\n    </tr>\n    <tr>\n      <th>07/03/20</th>\n      <td>567</td>\n    </tr>\n    <tr>\n      <th>08/03/20</th>\n      <td>650</td>\n    </tr>\n    <tr>\n      <th>09/03/20</th>\n      <td>733</td>\n    </tr>\n    <tr>\n      <th>10/03/20</th>\n      <td>877</td>\n    </tr>\n    <tr>\n      <th>11/03/20</th>\n      <td>1028</td>\n    </tr>\n    <tr>\n      <th>12/03/20</th>\n      <td>1153</td>\n    </tr>\n    <tr>\n      <th>13/03/20</th>\n      <td>1328</td>\n    </tr>\n    <tr>\n      <th>14/03/20</th>\n      <td>1518</td>\n    </tr>\n    <tr>\n      <th>15/03/20</th>\n      <td>1672</td>\n    </tr>\n    <tr>\n      <th>16/03/20</th>\n      <td>1851</td>\n    </tr>\n    <tr>\n      <th>17/03/20</th>\n      <td>2060</td>\n    </tr>\n    <tr>\n      <th>18/03/20</th>\n      <td>2257</td>\n    </tr>\n    <tr>\n      <th>19/03/20</th>\n      <td>2498</td>\n    </tr>\n    <tr>\n      <th>20/03/20</th>\n      <td>2655</td>\n    </tr>\n    <tr>\n      <th>21/03/20</th>\n      <td>2857</td>\n    </tr>\n    <tr>\n      <th>22/03/20</th>\n      <td>3009</td>\n    </tr>\n    <tr>\n      <th>23/03/20</th>\n      <td>3204</td>\n    </tr>\n    <tr>\n      <th>24/03/20</th>\n      <td>3396</td>\n    </tr>\n  </tbody>\n</table>\n</div>"
     },
     "metadata": {},
     "output_type": "execute_result",
     "execution_count": 11
    }
   ],
   "source": [
    "# loading the data\n",
    "df = pd.read_csv('italy-intensive_care.csv')\n",
    "a = list((dt.day_of_year_to_date(v)).strftime(\"%d/%m/%y\") for v in df['day'])\n",
    "df.index = a\n",
    "df.drop(columns=['day'])\n",
    "# display the table\n"
   ],
   "metadata": {
    "collapsed": false,
    "pycharm": {
     "name": "#%%\n",
     "is_executing": false
    }
   }
  },
  {
   "cell_type": "markdown",
   "source": [
    "## Fitting intensive care data with exponential and logistic models\n",
    "\n",
    "The exponential model is:\n",
    "\n",
    "$$y = e^{k(x-x_0)} + y_0$$\n",
    "\n",
    "where $k, x_0, y_0$ are the parameters to estimate.\n",
    "\n",
    "For the logistic model:\n",
    "\n",
    "$$y = \\frac{c}{1+e^{-k(x-x_0)}} + y_0$$\n",
    "\n",
    "where $c, k, x_0, y_0$ are the parameters to estimate."
   ],
   "metadata": {
    "collapsed": false
   }
  },
  {
   "cell_type": "code",
   "execution_count": 12,
   "outputs": [
    {
     "name": "stdout",
     "text": [
      "[0.65       0.46165034 1.        ]\n",
      "`ftol` termination condition is satisfied.\n",
      "Function evaluations 15, initial cost 1.1284e+01, final cost 4.9479e-03, first-order optimality 4.52e-08.\n",
      "            Exponential model\n",
      "            x0 = -41.35908305089964\n",
      "            y0 = -757.8637157709605\n",
      "            k = 0.06679991477105318\n",
      "            \n",
      "`gtol` termination condition is satisfied.\n",
      "Function evaluations 26, initial cost 2.9527e+00, final cost 2.0395e-04, first-order optimality 2.77e-09.\n",
      "        Sigmoid model\n",
      "        x0 = 77.97241530947399\n",
      "        y0 = -100.20065320312524\n",
      "        c = 4723.60495362461\n",
      "        k = 0.16936067206548958\n",
      "        asymptot = 4623.404300421485\n",
      "        flex = 77.97241530947399, 2261.60182360918\n",
      "        \n",
      "`ftol` termination condition is satisfied.\n",
      "Function evaluations 35, initial cost 1.1689e+00, final cost 3.5727e-04, first-order optimality 1.05e-08.\n",
      "        Sigmoid derivative model\n",
      "        x0 = 87.4465688161983\n",
      "        y0 = -157.8695904931957\n",
      "        c = 103472.98039967506\n",
      "        k = 0.1442464665600264\n",
      "        max = 87.4465688161983, 51578.62060934433\n",
      "        \n"
     ],
     "output_type": "stream"
    },
    {
     "data": {
      "application/vnd.plotly.v1+json": {
       "config": {
        "plotlyServerURL": "https://plot.ly"
       },
       "data": [
        {
         "line": {
          "color": "rgba(255, 153, 51, 1.0)",
          "dash": "solid",
          "shape": "linear",
          "width": 1.3
         },
         "marker": {
          "size": 4,
          "symbol": "circle"
         },
         "mode": "lines+markers",
         "name": "exp",
         "text": "",
         "type": "scatter",
         "x": [
          "20 Feb",
          "21 Feb",
          "22 Feb",
          "23 Feb",
          "24 Feb",
          "25 Feb",
          "26 Feb",
          "27 Feb",
          "28 Feb",
          "29 Feb",
          "01 Mar",
          "02 Mar",
          "03 Mar",
          "04 Mar",
          "05 Mar",
          "06 Mar",
          "07 Mar",
          "08 Mar",
          "09 Mar",
          "10 Mar",
          "11 Mar",
          "12 Mar",
          "13 Mar",
          "14 Mar",
          "15 Mar",
          "16 Mar",
          "17 Mar",
          "18 Mar",
          "19 Mar",
          "20 Mar",
          "21 Mar",
          "22 Mar",
          "23 Mar",
          "24 Mar",
          "25 Mar",
          "26 Mar",
          "27 Mar",
          "28 Mar",
          "29 Mar",
          "30 Mar",
          "31 Mar",
          "01 Apr",
          "02 Apr",
          "03 Apr",
          "04 Apr",
          "05 Apr",
          "06 Apr",
          "07 Apr",
          "08 Apr",
          "09 Apr",
          "10 Apr",
          "11 Apr",
          "12 Apr"
         ],
         "y": [
          -279.87894286789566,
          -246.8590141915971,
          -211.5580176830207,
          -173.81837364214755,
          -133.47161651913598,
          -90.33764290294971,
          -44.22390755987544,
          5.075436066864313,
          57.78045473311727,
          114.12641774718429,
          174.36484718569784,
          238.76464066003882,
          307.6132716451981,
          381.2180727292149,
          459.9076075114748,
          544.0331372738684,
          633.9701889718643,
          730.1202315448367,
          832.9124680285059,
          942.8057514692847,
          1060.290633192954,
          1185.8915525709144,
          1320.1691780588803,
          1463.7229099581577,
          1617.1935560715456,
          1781.2661921976928,
          1956.6732202328403,
          2144.1976375309646,
          2344.676532116387,
          2559.0048193510975,
          2788.1392367368167,
          3033.102614684207,
          3294.9884423134163,
          3574.965748667207,
          3874.2843211258482,
          4194.28028431819,
          4536.382064432564,
          "",
          "",
          "",
          "",
          "",
          "",
          "",
          "",
          "",
          "",
          "",
          "",
          "",
          "",
          "",
          ""
         ]
        },
        {
         "line": {
          "color": "rgba(55, 128, 191, 1.0)",
          "dash": "solid",
          "shape": "linear",
          "width": 1.3
         },
         "marker": {
          "size": 4,
          "symbol": "circle"
         },
         "mode": "lines+markers",
         "name": "sigm",
         "text": "",
         "type": "scatter",
         "x": [
          "20 Feb",
          "21 Feb",
          "22 Feb",
          "23 Feb",
          "24 Feb",
          "25 Feb",
          "26 Feb",
          "27 Feb",
          "28 Feb",
          "29 Feb",
          "01 Mar",
          "02 Mar",
          "03 Mar",
          "04 Mar",
          "05 Mar",
          "06 Mar",
          "07 Mar",
          "08 Mar",
          "09 Mar",
          "10 Mar",
          "11 Mar",
          "12 Mar",
          "13 Mar",
          "14 Mar",
          "15 Mar",
          "16 Mar",
          "17 Mar",
          "18 Mar",
          "19 Mar",
          "20 Mar",
          "21 Mar",
          "22 Mar",
          "23 Mar",
          "24 Mar",
          "25 Mar",
          "26 Mar",
          "27 Mar",
          "28 Mar",
          "29 Mar",
          "30 Mar",
          "31 Mar",
          "01 Apr",
          "02 Apr",
          "03 Apr",
          "04 Apr",
          "05 Apr",
          "06 Apr",
          "07 Apr",
          "08 Apr",
          "09 Apr",
          "10 Apr",
          "11 Apr",
          "12 Apr"
         ],
         "y": [
          -51.68256705085932,
          -42.83742100110424,
          -32.4031349551896,
          -20.10344721969514,
          -5.617705852786429,
          11.424834177509297,
          31.450868575413935,
          54.94878735166178,
          82.47390434058023,
          114.65260452315316,
          152.18463534858648,
          195.84252913703227,
          246.4668855816911,
          304.9559960938199,
          372.24810626347664,
          449.29456633219553,
          537.0223169342822,
          636.2847229542546,
          747.8008246082227,
          872.0847008354775,
          1009.3688104715368,
          1159.5276916306175,
          1322.010831808074,
          1495.7952207773635,
          1679.368300964083,
          1870.7500832594621,
          2067.558863810394,
          2267.118702783208,
          2466.5997984616733,
          2663.176797108497,
          2854.186577437998,
          3037.267152802013,
          3210.4630134937297,
          3372.288422364979,
          3521.7472044206997,
          3658.313763087099,
          3781.8842611893215,
          3892.7087214545895,
          3991.3144968421398,
          4078.429801352507,
          4154.913540160219,
          4221.695173038611,
          4279.7262013870195,
          4329.943275232748,
          4373.241890087563,
          4410.459101618205,
          4442.363505305227,
          4469.650784804127,
          4492.9433233611335,
          4512.792621614461,
          4529.68352273906,
          4544.039483423834,
          4556.228332860475
         ]
        },
        {
         "line": {
          "color": "rgba(50, 171, 96, 1.0)",
          "dash": "solid",
          "shape": "linear",
          "width": 1.3
         },
         "marker": {
          "size": 4,
          "symbol": "circle"
         },
         "mode": "lines+markers",
         "name": "log",
         "text": "",
         "type": "scatter",
         "x": [
          "20 Feb",
          "21 Feb",
          "22 Feb",
          "23 Feb",
          "24 Feb",
          "25 Feb",
          "26 Feb",
          "27 Feb",
          "28 Feb",
          "29 Feb",
          "01 Mar",
          "02 Mar",
          "03 Mar",
          "04 Mar",
          "05 Mar",
          "06 Mar",
          "07 Mar",
          "08 Mar",
          "09 Mar",
          "10 Mar",
          "11 Mar",
          "12 Mar",
          "13 Mar",
          "14 Mar",
          "15 Mar",
          "16 Mar",
          "17 Mar",
          "18 Mar",
          "19 Mar",
          "20 Mar",
          "21 Mar",
          "22 Mar",
          "23 Mar",
          "24 Mar",
          "25 Mar",
          "26 Mar",
          "27 Mar",
          "28 Mar",
          "29 Mar",
          "30 Mar",
          "31 Mar",
          "01 Apr",
          "02 Apr",
          "03 Apr",
          "04 Apr",
          "05 Apr",
          "06 Apr",
          "07 Apr",
          "08 Apr",
          "09 Apr",
          "10 Apr",
          "11 Apr",
          "12 Apr"
         ],
         "y": [
          -80.91978099547087,
          -69.12236194048751,
          -55.54160833720489,
          -39.916340865969815,
          -21.949908465310727,
          -1.3062999763861,
          22.393846426028773,
          49.57720453379764,
          80.72150120841303,
          116.3587696270547,
          157.07774993038305,
          203.5249524035902,
          256.4037535062482,
          316.47072603039896,
          384.5282155490354,
          461.4119760907381,
          547.9724872648189,
          645.0484235301217,
          753.43068026957,
          873.8154458338935,
          1006.7451285788171,
          1152.536604634582,
          1311.1973534620602,
          1482.3316868964048,
          1665.0414959026416,
          1857.8286804240138,
          2058.5094753973253,
          2264.153810739599,
          2471.064977198203,
          2674.815347340054,
          2870.351796464373,
          3052.1790523718796,
          3214.6202840387364,
          3352.1425006065597,
          3459.7215124033014,
          3533.209958614879,
          3569.6652492780936,
          3567.594698509997,
          3527.083671706618,
          3449.788189292048,
          3338.79307039207,
          3198.356102662932,
          3033.5737030087707,
          2850.011223427211,
          2653.3406463082288,
          2449.0211294561705,
          2242.046301834874,
          2036.7693932100792,
          1836.8057793632001,
          1645.0039651557213,
          1463.470987396207,
          1293.6364317818366,
          1136.3399574413893
         ]
        },
        {
         "line": {
          "color": "rgba(128, 0, 128, 1.0)",
          "dash": "solid",
          "shape": "linear",
          "width": 1.3
         },
         "marker": {
          "size": 8,
          "symbol": "circle"
         },
         "mode": "markers",
         "name": "intensive care",
         "text": "",
         "type": "scatter",
         "x": [
          "20 Feb",
          "21 Feb",
          "22 Feb",
          "23 Feb",
          "24 Feb",
          "25 Feb",
          "26 Feb",
          "27 Feb",
          "28 Feb",
          "29 Feb",
          "01 Mar",
          "02 Mar",
          "03 Mar",
          "04 Mar",
          "05 Mar",
          "06 Mar",
          "07 Mar",
          "08 Mar",
          "09 Mar",
          "10 Mar",
          "11 Mar",
          "12 Mar",
          "13 Mar",
          "14 Mar",
          "15 Mar",
          "16 Mar",
          "17 Mar",
          "18 Mar",
          "19 Mar",
          "20 Mar",
          "21 Mar",
          "22 Mar",
          "23 Mar",
          "24 Mar",
          "25 Mar",
          "26 Mar",
          "27 Mar",
          "28 Mar",
          "29 Mar",
          "30 Mar",
          "31 Mar",
          "01 Apr",
          "02 Apr",
          "03 Apr",
          "04 Apr",
          "05 Apr",
          "06 Apr",
          "07 Apr",
          "08 Apr",
          "09 Apr",
          "10 Apr",
          "11 Apr",
          "12 Apr"
         ],
         "y": [
          "",
          "",
          "",
          "",
          27.0,
          35.0,
          36.0,
          56.0,
          64.0,
          105.0,
          140.0,
          166.0,
          229.0,
          295.0,
          351.0,
          462.0,
          567.0,
          650.0,
          733.0,
          877.0,
          1028.0,
          1153.0,
          1328.0,
          1518.0,
          1672.0,
          1851.0,
          2060.0,
          2257.0,
          2498.0,
          2655.0,
          2857.0,
          3009.0,
          3204.0,
          3396.0,
          "",
          "",
          "",
          "",
          "",
          "",
          "",
          "",
          "",
          "",
          "",
          "",
          "",
          "",
          "",
          "",
          "",
          "",
          ""
         ]
        },
        {
         "marker": {
          "color": "rgba(255, 0, 0, 125)",
          "size": 8
         },
         "mode": "markers",
         "name": "flex",
         "type": "scatter",
         "x": [
          "18 Mar"
         ],
         "y": [
          2261.60182360918
         ]
        },
        {
         "marker": {
          "color": "rgba(255, 0, 0, 125)",
          "size": 8
         },
         "mode": "markers",
         "name": "peak",
         "type": "scatter",
         "x": [
          "27 Mar"
         ],
         "y": [
          3573.533361278803
         ]
        }
       ],
       "layout": {
        "legend": {
         "bgcolor": "#FFFFFF",
         "font": {
          "color": "#4D5663"
         }
        },
        "paper_bgcolor": "#FFFFFF",
        "plot_bgcolor": "#FFFFFF",
        "template": {
         "data": {
          "bar": [
           {
            "error_x": {
             "color": "#2a3f5f"
            },
            "error_y": {
             "color": "#2a3f5f"
            },
            "marker": {
             "line": {
              "color": "#E5ECF6",
              "width": 0.5
             }
            },
            "type": "bar"
           }
          ],
          "barpolar": [
           {
            "marker": {
             "line": {
              "color": "#E5ECF6",
              "width": 0.5
             }
            },
            "type": "barpolar"
           }
          ],
          "carpet": [
           {
            "aaxis": {
             "endlinecolor": "#2a3f5f",
             "gridcolor": "white",
             "linecolor": "white",
             "minorgridcolor": "white",
             "startlinecolor": "#2a3f5f"
            },
            "baxis": {
             "endlinecolor": "#2a3f5f",
             "gridcolor": "white",
             "linecolor": "white",
             "minorgridcolor": "white",
             "startlinecolor": "#2a3f5f"
            },
            "type": "carpet"
           }
          ],
          "choropleth": [
           {
            "colorbar": {
             "outlinewidth": 0,
             "ticks": ""
            },
            "type": "choropleth"
           }
          ],
          "contour": [
           {
            "colorbar": {
             "outlinewidth": 0,
             "ticks": ""
            },
            "colorscale": [
             [
              0.0,
              "#0d0887"
             ],
             [
              0.1111111111111111,
              "#46039f"
             ],
             [
              0.2222222222222222,
              "#7201a8"
             ],
             [
              0.3333333333333333,
              "#9c179e"
             ],
             [
              0.4444444444444444,
              "#bd3786"
             ],
             [
              0.5555555555555556,
              "#d8576b"
             ],
             [
              0.6666666666666666,
              "#ed7953"
             ],
             [
              0.7777777777777778,
              "#fb9f3a"
             ],
             [
              0.8888888888888888,
              "#fdca26"
             ],
             [
              1.0,
              "#f0f921"
             ]
            ],
            "type": "contour"
           }
          ],
          "contourcarpet": [
           {
            "colorbar": {
             "outlinewidth": 0,
             "ticks": ""
            },
            "type": "contourcarpet"
           }
          ],
          "heatmap": [
           {
            "colorbar": {
             "outlinewidth": 0,
             "ticks": ""
            },
            "colorscale": [
             [
              0.0,
              "#0d0887"
             ],
             [
              0.1111111111111111,
              "#46039f"
             ],
             [
              0.2222222222222222,
              "#7201a8"
             ],
             [
              0.3333333333333333,
              "#9c179e"
             ],
             [
              0.4444444444444444,
              "#bd3786"
             ],
             [
              0.5555555555555556,
              "#d8576b"
             ],
             [
              0.6666666666666666,
              "#ed7953"
             ],
             [
              0.7777777777777778,
              "#fb9f3a"
             ],
             [
              0.8888888888888888,
              "#fdca26"
             ],
             [
              1.0,
              "#f0f921"
             ]
            ],
            "type": "heatmap"
           }
          ],
          "heatmapgl": [
           {
            "colorbar": {
             "outlinewidth": 0,
             "ticks": ""
            },
            "colorscale": [
             [
              0.0,
              "#0d0887"
             ],
             [
              0.1111111111111111,
              "#46039f"
             ],
             [
              0.2222222222222222,
              "#7201a8"
             ],
             [
              0.3333333333333333,
              "#9c179e"
             ],
             [
              0.4444444444444444,
              "#bd3786"
             ],
             [
              0.5555555555555556,
              "#d8576b"
             ],
             [
              0.6666666666666666,
              "#ed7953"
             ],
             [
              0.7777777777777778,
              "#fb9f3a"
             ],
             [
              0.8888888888888888,
              "#fdca26"
             ],
             [
              1.0,
              "#f0f921"
             ]
            ],
            "type": "heatmapgl"
           }
          ],
          "histogram": [
           {
            "marker": {
             "colorbar": {
              "outlinewidth": 0,
              "ticks": ""
             }
            },
            "type": "histogram"
           }
          ],
          "histogram2d": [
           {
            "colorbar": {
             "outlinewidth": 0,
             "ticks": ""
            },
            "colorscale": [
             [
              0.0,
              "#0d0887"
             ],
             [
              0.1111111111111111,
              "#46039f"
             ],
             [
              0.2222222222222222,
              "#7201a8"
             ],
             [
              0.3333333333333333,
              "#9c179e"
             ],
             [
              0.4444444444444444,
              "#bd3786"
             ],
             [
              0.5555555555555556,
              "#d8576b"
             ],
             [
              0.6666666666666666,
              "#ed7953"
             ],
             [
              0.7777777777777778,
              "#fb9f3a"
             ],
             [
              0.8888888888888888,
              "#fdca26"
             ],
             [
              1.0,
              "#f0f921"
             ]
            ],
            "type": "histogram2d"
           }
          ],
          "histogram2dcontour": [
           {
            "colorbar": {
             "outlinewidth": 0,
             "ticks": ""
            },
            "colorscale": [
             [
              0.0,
              "#0d0887"
             ],
             [
              0.1111111111111111,
              "#46039f"
             ],
             [
              0.2222222222222222,
              "#7201a8"
             ],
             [
              0.3333333333333333,
              "#9c179e"
             ],
             [
              0.4444444444444444,
              "#bd3786"
             ],
             [
              0.5555555555555556,
              "#d8576b"
             ],
             [
              0.6666666666666666,
              "#ed7953"
             ],
             [
              0.7777777777777778,
              "#fb9f3a"
             ],
             [
              0.8888888888888888,
              "#fdca26"
             ],
             [
              1.0,
              "#f0f921"
             ]
            ],
            "type": "histogram2dcontour"
           }
          ],
          "mesh3d": [
           {
            "colorbar": {
             "outlinewidth": 0,
             "ticks": ""
            },
            "type": "mesh3d"
           }
          ],
          "parcoords": [
           {
            "line": {
             "colorbar": {
              "outlinewidth": 0,
              "ticks": ""
             }
            },
            "type": "parcoords"
           }
          ],
          "pie": [
           {
            "automargin": true,
            "type": "pie"
           }
          ],
          "scatter": [
           {
            "marker": {
             "colorbar": {
              "outlinewidth": 0,
              "ticks": ""
             }
            },
            "type": "scatter"
           }
          ],
          "scatter3d": [
           {
            "line": {
             "colorbar": {
              "outlinewidth": 0,
              "ticks": ""
             }
            },
            "marker": {
             "colorbar": {
              "outlinewidth": 0,
              "ticks": ""
             }
            },
            "type": "scatter3d"
           }
          ],
          "scattercarpet": [
           {
            "marker": {
             "colorbar": {
              "outlinewidth": 0,
              "ticks": ""
             }
            },
            "type": "scattercarpet"
           }
          ],
          "scattergeo": [
           {
            "marker": {
             "colorbar": {
              "outlinewidth": 0,
              "ticks": ""
             }
            },
            "type": "scattergeo"
           }
          ],
          "scattergl": [
           {
            "marker": {
             "colorbar": {
              "outlinewidth": 0,
              "ticks": ""
             }
            },
            "type": "scattergl"
           }
          ],
          "scattermapbox": [
           {
            "marker": {
             "colorbar": {
              "outlinewidth": 0,
              "ticks": ""
             }
            },
            "type": "scattermapbox"
           }
          ],
          "scatterpolar": [
           {
            "marker": {
             "colorbar": {
              "outlinewidth": 0,
              "ticks": ""
             }
            },
            "type": "scatterpolar"
           }
          ],
          "scatterpolargl": [
           {
            "marker": {
             "colorbar": {
              "outlinewidth": 0,
              "ticks": ""
             }
            },
            "type": "scatterpolargl"
           }
          ],
          "scatterternary": [
           {
            "marker": {
             "colorbar": {
              "outlinewidth": 0,
              "ticks": ""
             }
            },
            "type": "scatterternary"
           }
          ],
          "surface": [
           {
            "colorbar": {
             "outlinewidth": 0,
             "ticks": ""
            },
            "colorscale": [
             [
              0.0,
              "#0d0887"
             ],
             [
              0.1111111111111111,
              "#46039f"
             ],
             [
              0.2222222222222222,
              "#7201a8"
             ],
             [
              0.3333333333333333,
              "#9c179e"
             ],
             [
              0.4444444444444444,
              "#bd3786"
             ],
             [
              0.5555555555555556,
              "#d8576b"
             ],
             [
              0.6666666666666666,
              "#ed7953"
             ],
             [
              0.7777777777777778,
              "#fb9f3a"
             ],
             [
              0.8888888888888888,
              "#fdca26"
             ],
             [
              1.0,
              "#f0f921"
             ]
            ],
            "type": "surface"
           }
          ],
          "table": [
           {
            "cells": {
             "fill": {
              "color": "#EBF0F8"
             },
             "line": {
              "color": "white"
             }
            },
            "header": {
             "fill": {
              "color": "#C8D4E3"
             },
             "line": {
              "color": "white"
             }
            },
            "type": "table"
           }
          ]
         },
         "layout": {
          "annotationdefaults": {
           "arrowcolor": "#2a3f5f",
           "arrowhead": 0,
           "arrowwidth": 1
          },
          "coloraxis": {
           "colorbar": {
            "outlinewidth": 0,
            "ticks": ""
           }
          },
          "colorscale": {
           "diverging": [
            [
             0,
             "#8e0152"
            ],
            [
             0.1,
             "#c51b7d"
            ],
            [
             0.2,
             "#de77ae"
            ],
            [
             0.3,
             "#f1b6da"
            ],
            [
             0.4,
             "#fde0ef"
            ],
            [
             0.5,
             "#f7f7f7"
            ],
            [
             0.6,
             "#e6f5d0"
            ],
            [
             0.7,
             "#b8e186"
            ],
            [
             0.8,
             "#7fbc41"
            ],
            [
             0.9,
             "#4d9221"
            ],
            [
             1,
             "#276419"
            ]
           ],
           "sequential": [
            [
             0.0,
             "#0d0887"
            ],
            [
             0.1111111111111111,
             "#46039f"
            ],
            [
             0.2222222222222222,
             "#7201a8"
            ],
            [
             0.3333333333333333,
             "#9c179e"
            ],
            [
             0.4444444444444444,
             "#bd3786"
            ],
            [
             0.5555555555555556,
             "#d8576b"
            ],
            [
             0.6666666666666666,
             "#ed7953"
            ],
            [
             0.7777777777777778,
             "#fb9f3a"
            ],
            [
             0.8888888888888888,
             "#fdca26"
            ],
            [
             1.0,
             "#f0f921"
            ]
           ],
           "sequentialminus": [
            [
             0.0,
             "#0d0887"
            ],
            [
             0.1111111111111111,
             "#46039f"
            ],
            [
             0.2222222222222222,
             "#7201a8"
            ],
            [
             0.3333333333333333,
             "#9c179e"
            ],
            [
             0.4444444444444444,
             "#bd3786"
            ],
            [
             0.5555555555555556,
             "#d8576b"
            ],
            [
             0.6666666666666666,
             "#ed7953"
            ],
            [
             0.7777777777777778,
             "#fb9f3a"
            ],
            [
             0.8888888888888888,
             "#fdca26"
            ],
            [
             1.0,
             "#f0f921"
            ]
           ]
          },
          "colorway": [
           "#636efa",
           "#EF553B",
           "#00cc96",
           "#ab63fa",
           "#FFA15A",
           "#19d3f3",
           "#FF6692",
           "#B6E880",
           "#FF97FF",
           "#FECB52"
          ],
          "font": {
           "color": "#2a3f5f"
          },
          "geo": {
           "bgcolor": "white",
           "lakecolor": "white",
           "landcolor": "#E5ECF6",
           "showlakes": true,
           "showland": true,
           "subunitcolor": "white"
          },
          "hoverlabel": {
           "align": "left"
          },
          "hovermode": "closest",
          "mapbox": {
           "style": "light"
          },
          "paper_bgcolor": "white",
          "plot_bgcolor": "#E5ECF6",
          "polar": {
           "angularaxis": {
            "gridcolor": "white",
            "linecolor": "white",
            "ticks": ""
           },
           "bgcolor": "#E5ECF6",
           "radialaxis": {
            "gridcolor": "white",
            "linecolor": "white",
            "ticks": ""
           }
          },
          "scene": {
           "xaxis": {
            "backgroundcolor": "#E5ECF6",
            "gridcolor": "white",
            "gridwidth": 2,
            "linecolor": "white",
            "showbackground": true,
            "ticks": "",
            "zerolinecolor": "white"
           },
           "yaxis": {
            "backgroundcolor": "#E5ECF6",
            "gridcolor": "white",
            "gridwidth": 2,
            "linecolor": "white",
            "showbackground": true,
            "ticks": "",
            "zerolinecolor": "white"
           },
           "zaxis": {
            "backgroundcolor": "#E5ECF6",
            "gridcolor": "white",
            "gridwidth": 2,
            "linecolor": "white",
            "showbackground": true,
            "ticks": "",
            "zerolinecolor": "white"
           }
          },
          "shapedefaults": {
           "line": {
            "color": "#2a3f5f"
           }
          },
          "ternary": {
           "aaxis": {
            "gridcolor": "white",
            "linecolor": "white",
            "ticks": ""
           },
           "baxis": {
            "gridcolor": "white",
            "linecolor": "white",
            "ticks": ""
           },
           "bgcolor": "#E5ECF6",
           "caxis": {
            "gridcolor": "white",
            "linecolor": "white",
            "ticks": ""
           }
          },
          "title": {
           "x": 0.05
          },
          "xaxis": {
           "automargin": true,
           "gridcolor": "white",
           "linecolor": "white",
           "ticks": "",
           "title": {
            "standoff": 15
           },
           "zerolinecolor": "white",
           "zerolinewidth": 2
          },
          "yaxis": {
           "automargin": true,
           "gridcolor": "white",
           "linecolor": "white",
           "ticks": "",
           "title": {
            "standoff": 15
           },
           "zerolinecolor": "white",
           "zerolinewidth": 2
          }
         }
        },
        "title": {
         "font": {
          "color": "#4D5663"
         },
         "text": "Intensive care cases"
        },
        "xaxis": {
         "gridcolor": "#E1E5ED",
         "showgrid": true,
         "tickfont": {
          "color": "#4D5663"
         },
         "title": {
          "font": {
           "color": "#4D5663"
          },
          "text": ""
         },
         "zerolinecolor": "#E1E5ED"
        },
        "yaxis": {
         "gridcolor": "#E1E5ED",
         "showgrid": true,
         "tickfont": {
          "color": "#4D5663"
         },
         "title": {
          "font": {
           "color": "#4D5663"
          },
          "text": "case"
         },
         "zerolinecolor": "#E1E5ED"
        }
       }
      },
      "text/html": "<div>\n        \n        \n            <div id=\"2ffb6dc4-0ca7-416b-9a01-f16eae428dd3\" class=\"plotly-graph-div\" style=\"height:525px; width:100%;\"></div>\n            <script type=\"text/javascript\">\n                require([\"plotly\"], function(Plotly) {\n                    window.PLOTLYENV=window.PLOTLYENV || {};\n                    \n                if (document.getElementById(\"2ffb6dc4-0ca7-416b-9a01-f16eae428dd3\")) {\n                    Plotly.newPlot(\n                        '2ffb6dc4-0ca7-416b-9a01-f16eae428dd3',\n                        [{\"line\": {\"color\": \"rgba(255, 153, 51, 1.0)\", \"dash\": \"solid\", \"shape\": \"linear\", \"width\": 1.3}, \"marker\": {\"size\": 4, \"symbol\": \"circle\"}, \"mode\": \"lines+markers\", \"name\": \"exp\", \"text\": \"\", \"type\": \"scatter\", \"x\": [\"20 Feb\", \"21 Feb\", \"22 Feb\", \"23 Feb\", \"24 Feb\", \"25 Feb\", \"26 Feb\", \"27 Feb\", \"28 Feb\", \"29 Feb\", \"01 Mar\", \"02 Mar\", \"03 Mar\", \"04 Mar\", \"05 Mar\", \"06 Mar\", \"07 Mar\", \"08 Mar\", \"09 Mar\", \"10 Mar\", \"11 Mar\", \"12 Mar\", \"13 Mar\", \"14 Mar\", \"15 Mar\", \"16 Mar\", \"17 Mar\", \"18 Mar\", \"19 Mar\", \"20 Mar\", \"21 Mar\", \"22 Mar\", \"23 Mar\", \"24 Mar\", \"25 Mar\", \"26 Mar\", \"27 Mar\", \"28 Mar\", \"29 Mar\", \"30 Mar\", \"31 Mar\", \"01 Apr\", \"02 Apr\", \"03 Apr\", \"04 Apr\", \"05 Apr\", \"06 Apr\", \"07 Apr\", \"08 Apr\", \"09 Apr\", \"10 Apr\", \"11 Apr\", \"12 Apr\"], \"y\": [-279.87894286789566, -246.8590141915971, -211.5580176830207, -173.81837364214755, -133.47161651913598, -90.33764290294971, -44.22390755987544, 5.075436066864313, 57.78045473311727, 114.12641774718429, 174.36484718569784, 238.76464066003882, 307.6132716451981, 381.2180727292149, 459.9076075114748, 544.0331372738684, 633.9701889718643, 730.1202315448367, 832.9124680285059, 942.8057514692847, 1060.290633192954, 1185.8915525709144, 1320.1691780588803, 1463.7229099581577, 1617.1935560715456, 1781.2661921976928, 1956.6732202328403, 2144.1976375309646, 2344.676532116387, 2559.0048193510975, 2788.1392367368167, 3033.102614684207, 3294.9884423134163, 3574.965748667207, 3874.2843211258482, 4194.28028431819, 4536.382064432564, \"\", \"\", \"\", \"\", \"\", \"\", \"\", \"\", \"\", \"\", \"\", \"\", \"\", \"\", \"\", \"\"]}, {\"line\": {\"color\": \"rgba(55, 128, 191, 1.0)\", \"dash\": \"solid\", \"shape\": \"linear\", \"width\": 1.3}, \"marker\": {\"size\": 4, \"symbol\": \"circle\"}, \"mode\": \"lines+markers\", \"name\": \"sigm\", \"text\": \"\", \"type\": \"scatter\", \"x\": [\"20 Feb\", \"21 Feb\", \"22 Feb\", \"23 Feb\", \"24 Feb\", \"25 Feb\", \"26 Feb\", \"27 Feb\", \"28 Feb\", \"29 Feb\", \"01 Mar\", \"02 Mar\", \"03 Mar\", \"04 Mar\", \"05 Mar\", \"06 Mar\", \"07 Mar\", \"08 Mar\", \"09 Mar\", \"10 Mar\", \"11 Mar\", \"12 Mar\", \"13 Mar\", \"14 Mar\", \"15 Mar\", \"16 Mar\", \"17 Mar\", \"18 Mar\", \"19 Mar\", \"20 Mar\", \"21 Mar\", \"22 Mar\", \"23 Mar\", \"24 Mar\", \"25 Mar\", \"26 Mar\", \"27 Mar\", \"28 Mar\", \"29 Mar\", \"30 Mar\", \"31 Mar\", \"01 Apr\", \"02 Apr\", \"03 Apr\", \"04 Apr\", \"05 Apr\", \"06 Apr\", \"07 Apr\", \"08 Apr\", \"09 Apr\", \"10 Apr\", \"11 Apr\", \"12 Apr\"], \"y\": [-51.68256705085932, -42.83742100110424, -32.4031349551896, -20.10344721969514, -5.617705852786429, 11.424834177509297, 31.450868575413935, 54.94878735166178, 82.47390434058023, 114.65260452315316, 152.18463534858648, 195.84252913703227, 246.4668855816911, 304.9559960938199, 372.24810626347664, 449.29456633219553, 537.0223169342822, 636.2847229542546, 747.8008246082227, 872.0847008354775, 1009.3688104715368, 1159.5276916306175, 1322.010831808074, 1495.7952207773635, 1679.368300964083, 1870.7500832594621, 2067.558863810394, 2267.118702783208, 2466.5997984616733, 2663.176797108497, 2854.186577437998, 3037.267152802013, 3210.4630134937297, 3372.288422364979, 3521.7472044206997, 3658.313763087099, 3781.8842611893215, 3892.7087214545895, 3991.3144968421398, 4078.429801352507, 4154.913540160219, 4221.695173038611, 4279.7262013870195, 4329.943275232748, 4373.241890087563, 4410.459101618205, 4442.363505305227, 4469.650784804127, 4492.9433233611335, 4512.792621614461, 4529.68352273906, 4544.039483423834, 4556.228332860475]}, {\"line\": {\"color\": \"rgba(50, 171, 96, 1.0)\", \"dash\": \"solid\", \"shape\": \"linear\", \"width\": 1.3}, \"marker\": {\"size\": 4, \"symbol\": \"circle\"}, \"mode\": \"lines+markers\", \"name\": \"log\", \"text\": \"\", \"type\": \"scatter\", \"x\": [\"20 Feb\", \"21 Feb\", \"22 Feb\", \"23 Feb\", \"24 Feb\", \"25 Feb\", \"26 Feb\", \"27 Feb\", \"28 Feb\", \"29 Feb\", \"01 Mar\", \"02 Mar\", \"03 Mar\", \"04 Mar\", \"05 Mar\", \"06 Mar\", \"07 Mar\", \"08 Mar\", \"09 Mar\", \"10 Mar\", \"11 Mar\", \"12 Mar\", \"13 Mar\", \"14 Mar\", \"15 Mar\", \"16 Mar\", \"17 Mar\", \"18 Mar\", \"19 Mar\", \"20 Mar\", \"21 Mar\", \"22 Mar\", \"23 Mar\", \"24 Mar\", \"25 Mar\", \"26 Mar\", \"27 Mar\", \"28 Mar\", \"29 Mar\", \"30 Mar\", \"31 Mar\", \"01 Apr\", \"02 Apr\", \"03 Apr\", \"04 Apr\", \"05 Apr\", \"06 Apr\", \"07 Apr\", \"08 Apr\", \"09 Apr\", \"10 Apr\", \"11 Apr\", \"12 Apr\"], \"y\": [-80.91978099547087, -69.12236194048751, -55.54160833720489, -39.916340865969815, -21.949908465310727, -1.3062999763861, 22.393846426028773, 49.57720453379764, 80.72150120841303, 116.3587696270547, 157.07774993038305, 203.5249524035902, 256.4037535062482, 316.47072603039896, 384.5282155490354, 461.4119760907381, 547.9724872648189, 645.0484235301217, 753.43068026957, 873.8154458338935, 1006.7451285788171, 1152.536604634582, 1311.1973534620602, 1482.3316868964048, 1665.0414959026416, 1857.8286804240138, 2058.5094753973253, 2264.153810739599, 2471.064977198203, 2674.815347340054, 2870.351796464373, 3052.1790523718796, 3214.6202840387364, 3352.1425006065597, 3459.7215124033014, 3533.209958614879, 3569.6652492780936, 3567.594698509997, 3527.083671706618, 3449.788189292048, 3338.79307039207, 3198.356102662932, 3033.5737030087707, 2850.011223427211, 2653.3406463082288, 2449.0211294561705, 2242.046301834874, 2036.7693932100792, 1836.8057793632001, 1645.0039651557213, 1463.470987396207, 1293.6364317818366, 1136.3399574413893]}, {\"line\": {\"color\": \"rgba(128, 0, 128, 1.0)\", \"dash\": \"solid\", \"shape\": \"linear\", \"width\": 1.3}, \"marker\": {\"size\": 8, \"symbol\": \"circle\"}, \"mode\": \"markers\", \"name\": \"intensive care\", \"text\": \"\", \"type\": \"scatter\", \"x\": [\"20 Feb\", \"21 Feb\", \"22 Feb\", \"23 Feb\", \"24 Feb\", \"25 Feb\", \"26 Feb\", \"27 Feb\", \"28 Feb\", \"29 Feb\", \"01 Mar\", \"02 Mar\", \"03 Mar\", \"04 Mar\", \"05 Mar\", \"06 Mar\", \"07 Mar\", \"08 Mar\", \"09 Mar\", \"10 Mar\", \"11 Mar\", \"12 Mar\", \"13 Mar\", \"14 Mar\", \"15 Mar\", \"16 Mar\", \"17 Mar\", \"18 Mar\", \"19 Mar\", \"20 Mar\", \"21 Mar\", \"22 Mar\", \"23 Mar\", \"24 Mar\", \"25 Mar\", \"26 Mar\", \"27 Mar\", \"28 Mar\", \"29 Mar\", \"30 Mar\", \"31 Mar\", \"01 Apr\", \"02 Apr\", \"03 Apr\", \"04 Apr\", \"05 Apr\", \"06 Apr\", \"07 Apr\", \"08 Apr\", \"09 Apr\", \"10 Apr\", \"11 Apr\", \"12 Apr\"], \"y\": [\"\", \"\", \"\", \"\", 27.0, 35.0, 36.0, 56.0, 64.0, 105.0, 140.0, 166.0, 229.0, 295.0, 351.0, 462.0, 567.0, 650.0, 733.0, 877.0, 1028.0, 1153.0, 1328.0, 1518.0, 1672.0, 1851.0, 2060.0, 2257.0, 2498.0, 2655.0, 2857.0, 3009.0, 3204.0, 3396.0, \"\", \"\", \"\", \"\", \"\", \"\", \"\", \"\", \"\", \"\", \"\", \"\", \"\", \"\", \"\", \"\", \"\", \"\", \"\"]}, {\"marker\": {\"color\": \"rgba(255, 0, 0, 125)\", \"size\": 8}, \"mode\": \"markers\", \"name\": \"flex\", \"type\": \"scatter\", \"x\": [\"18 Mar\"], \"y\": [2261.60182360918]}, {\"marker\": {\"color\": \"rgba(255, 0, 0, 125)\", \"size\": 8}, \"mode\": \"markers\", \"name\": \"peak\", \"type\": \"scatter\", \"x\": [\"27 Mar\"], \"y\": [3573.533361278803]}],\n                        {\"legend\": {\"bgcolor\": \"#FFFFFF\", \"font\": {\"color\": \"#4D5663\"}}, \"paper_bgcolor\": \"#FFFFFF\", \"plot_bgcolor\": \"#FFFFFF\", \"template\": {\"data\": {\"bar\": [{\"error_x\": {\"color\": \"#2a3f5f\"}, \"error_y\": {\"color\": \"#2a3f5f\"}, \"marker\": {\"line\": {\"color\": \"#E5ECF6\", \"width\": 0.5}}, \"type\": \"bar\"}], \"barpolar\": [{\"marker\": {\"line\": {\"color\": \"#E5ECF6\", \"width\": 0.5}}, \"type\": \"barpolar\"}], \"carpet\": [{\"aaxis\": {\"endlinecolor\": \"#2a3f5f\", \"gridcolor\": \"white\", \"linecolor\": \"white\", \"minorgridcolor\": \"white\", \"startlinecolor\": \"#2a3f5f\"}, \"baxis\": {\"endlinecolor\": \"#2a3f5f\", \"gridcolor\": \"white\", \"linecolor\": \"white\", \"minorgridcolor\": \"white\", \"startlinecolor\": \"#2a3f5f\"}, \"type\": \"carpet\"}], \"choropleth\": [{\"colorbar\": {\"outlinewidth\": 0, \"ticks\": \"\"}, \"type\": \"choropleth\"}], \"contour\": [{\"colorbar\": {\"outlinewidth\": 0, \"ticks\": \"\"}, \"colorscale\": [[0.0, \"#0d0887\"], [0.1111111111111111, \"#46039f\"], [0.2222222222222222, \"#7201a8\"], [0.3333333333333333, \"#9c179e\"], [0.4444444444444444, \"#bd3786\"], [0.5555555555555556, \"#d8576b\"], [0.6666666666666666, \"#ed7953\"], [0.7777777777777778, \"#fb9f3a\"], [0.8888888888888888, \"#fdca26\"], [1.0, \"#f0f921\"]], \"type\": \"contour\"}], \"contourcarpet\": [{\"colorbar\": {\"outlinewidth\": 0, \"ticks\": \"\"}, \"type\": \"contourcarpet\"}], \"heatmap\": [{\"colorbar\": {\"outlinewidth\": 0, \"ticks\": \"\"}, \"colorscale\": [[0.0, \"#0d0887\"], [0.1111111111111111, \"#46039f\"], [0.2222222222222222, \"#7201a8\"], [0.3333333333333333, \"#9c179e\"], [0.4444444444444444, \"#bd3786\"], [0.5555555555555556, \"#d8576b\"], [0.6666666666666666, \"#ed7953\"], [0.7777777777777778, \"#fb9f3a\"], [0.8888888888888888, \"#fdca26\"], [1.0, \"#f0f921\"]], \"type\": \"heatmap\"}], \"heatmapgl\": [{\"colorbar\": {\"outlinewidth\": 0, \"ticks\": \"\"}, \"colorscale\": [[0.0, \"#0d0887\"], [0.1111111111111111, \"#46039f\"], [0.2222222222222222, \"#7201a8\"], [0.3333333333333333, \"#9c179e\"], [0.4444444444444444, \"#bd3786\"], [0.5555555555555556, \"#d8576b\"], [0.6666666666666666, \"#ed7953\"], [0.7777777777777778, \"#fb9f3a\"], [0.8888888888888888, \"#fdca26\"], [1.0, \"#f0f921\"]], \"type\": \"heatmapgl\"}], \"histogram\": [{\"marker\": {\"colorbar\": {\"outlinewidth\": 0, \"ticks\": \"\"}}, \"type\": \"histogram\"}], \"histogram2d\": [{\"colorbar\": {\"outlinewidth\": 0, \"ticks\": \"\"}, \"colorscale\": [[0.0, \"#0d0887\"], [0.1111111111111111, \"#46039f\"], [0.2222222222222222, \"#7201a8\"], [0.3333333333333333, \"#9c179e\"], [0.4444444444444444, \"#bd3786\"], [0.5555555555555556, \"#d8576b\"], [0.6666666666666666, \"#ed7953\"], [0.7777777777777778, \"#fb9f3a\"], [0.8888888888888888, \"#fdca26\"], [1.0, \"#f0f921\"]], \"type\": \"histogram2d\"}], \"histogram2dcontour\": [{\"colorbar\": {\"outlinewidth\": 0, \"ticks\": \"\"}, \"colorscale\": [[0.0, \"#0d0887\"], [0.1111111111111111, \"#46039f\"], [0.2222222222222222, \"#7201a8\"], [0.3333333333333333, \"#9c179e\"], [0.4444444444444444, \"#bd3786\"], [0.5555555555555556, \"#d8576b\"], [0.6666666666666666, \"#ed7953\"], [0.7777777777777778, \"#fb9f3a\"], [0.8888888888888888, \"#fdca26\"], [1.0, \"#f0f921\"]], \"type\": \"histogram2dcontour\"}], \"mesh3d\": [{\"colorbar\": {\"outlinewidth\": 0, \"ticks\": \"\"}, \"type\": \"mesh3d\"}], \"parcoords\": [{\"line\": {\"colorbar\": {\"outlinewidth\": 0, \"ticks\": \"\"}}, \"type\": \"parcoords\"}], \"pie\": [{\"automargin\": true, \"type\": \"pie\"}], \"scatter\": [{\"marker\": {\"colorbar\": {\"outlinewidth\": 0, \"ticks\": \"\"}}, \"type\": \"scatter\"}], \"scatter3d\": [{\"line\": {\"colorbar\": {\"outlinewidth\": 0, \"ticks\": \"\"}}, \"marker\": {\"colorbar\": {\"outlinewidth\": 0, \"ticks\": \"\"}}, \"type\": \"scatter3d\"}], \"scattercarpet\": [{\"marker\": {\"colorbar\": {\"outlinewidth\": 0, \"ticks\": \"\"}}, \"type\": \"scattercarpet\"}], \"scattergeo\": [{\"marker\": {\"colorbar\": {\"outlinewidth\": 0, \"ticks\": \"\"}}, \"type\": \"scattergeo\"}], \"scattergl\": [{\"marker\": {\"colorbar\": {\"outlinewidth\": 0, \"ticks\": \"\"}}, \"type\": \"scattergl\"}], \"scattermapbox\": [{\"marker\": {\"colorbar\": {\"outlinewidth\": 0, \"ticks\": \"\"}}, \"type\": \"scattermapbox\"}], \"scatterpolar\": [{\"marker\": {\"colorbar\": {\"outlinewidth\": 0, \"ticks\": \"\"}}, \"type\": \"scatterpolar\"}], \"scatterpolargl\": [{\"marker\": {\"colorbar\": {\"outlinewidth\": 0, \"ticks\": \"\"}}, \"type\": \"scatterpolargl\"}], \"scatterternary\": [{\"marker\": {\"colorbar\": {\"outlinewidth\": 0, \"ticks\": \"\"}}, \"type\": \"scatterternary\"}], \"surface\": [{\"colorbar\": {\"outlinewidth\": 0, \"ticks\": \"\"}, \"colorscale\": [[0.0, \"#0d0887\"], [0.1111111111111111, \"#46039f\"], [0.2222222222222222, \"#7201a8\"], [0.3333333333333333, \"#9c179e\"], [0.4444444444444444, \"#bd3786\"], [0.5555555555555556, \"#d8576b\"], [0.6666666666666666, \"#ed7953\"], [0.7777777777777778, \"#fb9f3a\"], [0.8888888888888888, \"#fdca26\"], [1.0, \"#f0f921\"]], \"type\": \"surface\"}], \"table\": [{\"cells\": {\"fill\": {\"color\": \"#EBF0F8\"}, \"line\": {\"color\": \"white\"}}, \"header\": {\"fill\": {\"color\": \"#C8D4E3\"}, \"line\": {\"color\": \"white\"}}, \"type\": \"table\"}]}, \"layout\": {\"annotationdefaults\": {\"arrowcolor\": \"#2a3f5f\", \"arrowhead\": 0, \"arrowwidth\": 1}, \"coloraxis\": {\"colorbar\": {\"outlinewidth\": 0, \"ticks\": \"\"}}, \"colorscale\": {\"diverging\": [[0, \"#8e0152\"], [0.1, \"#c51b7d\"], [0.2, \"#de77ae\"], [0.3, \"#f1b6da\"], [0.4, \"#fde0ef\"], [0.5, \"#f7f7f7\"], [0.6, \"#e6f5d0\"], [0.7, \"#b8e186\"], [0.8, \"#7fbc41\"], [0.9, \"#4d9221\"], [1, \"#276419\"]], \"sequential\": [[0.0, \"#0d0887\"], [0.1111111111111111, \"#46039f\"], [0.2222222222222222, \"#7201a8\"], [0.3333333333333333, \"#9c179e\"], [0.4444444444444444, \"#bd3786\"], [0.5555555555555556, \"#d8576b\"], [0.6666666666666666, \"#ed7953\"], [0.7777777777777778, \"#fb9f3a\"], [0.8888888888888888, \"#fdca26\"], [1.0, \"#f0f921\"]], \"sequentialminus\": [[0.0, \"#0d0887\"], [0.1111111111111111, \"#46039f\"], [0.2222222222222222, \"#7201a8\"], [0.3333333333333333, \"#9c179e\"], [0.4444444444444444, \"#bd3786\"], [0.5555555555555556, \"#d8576b\"], [0.6666666666666666, \"#ed7953\"], [0.7777777777777778, \"#fb9f3a\"], [0.8888888888888888, \"#fdca26\"], [1.0, \"#f0f921\"]]}, \"colorway\": [\"#636efa\", \"#EF553B\", \"#00cc96\", \"#ab63fa\", \"#FFA15A\", \"#19d3f3\", \"#FF6692\", \"#B6E880\", \"#FF97FF\", \"#FECB52\"], \"font\": {\"color\": \"#2a3f5f\"}, \"geo\": {\"bgcolor\": \"white\", \"lakecolor\": \"white\", \"landcolor\": \"#E5ECF6\", \"showlakes\": true, \"showland\": true, \"subunitcolor\": \"white\"}, \"hoverlabel\": {\"align\": \"left\"}, \"hovermode\": \"closest\", \"mapbox\": {\"style\": \"light\"}, \"paper_bgcolor\": \"white\", \"plot_bgcolor\": \"#E5ECF6\", \"polar\": {\"angularaxis\": {\"gridcolor\": \"white\", \"linecolor\": \"white\", \"ticks\": \"\"}, \"bgcolor\": \"#E5ECF6\", \"radialaxis\": {\"gridcolor\": \"white\", \"linecolor\": \"white\", \"ticks\": \"\"}}, \"scene\": {\"xaxis\": {\"backgroundcolor\": \"#E5ECF6\", \"gridcolor\": \"white\", \"gridwidth\": 2, \"linecolor\": \"white\", \"showbackground\": true, \"ticks\": \"\", \"zerolinecolor\": \"white\"}, \"yaxis\": {\"backgroundcolor\": \"#E5ECF6\", \"gridcolor\": \"white\", \"gridwidth\": 2, \"linecolor\": \"white\", \"showbackground\": true, \"ticks\": \"\", \"zerolinecolor\": \"white\"}, \"zaxis\": {\"backgroundcolor\": \"#E5ECF6\", \"gridcolor\": \"white\", \"gridwidth\": 2, \"linecolor\": \"white\", \"showbackground\": true, \"ticks\": \"\", \"zerolinecolor\": \"white\"}}, \"shapedefaults\": {\"line\": {\"color\": \"#2a3f5f\"}}, \"ternary\": {\"aaxis\": {\"gridcolor\": \"white\", \"linecolor\": \"white\", \"ticks\": \"\"}, \"baxis\": {\"gridcolor\": \"white\", \"linecolor\": \"white\", \"ticks\": \"\"}, \"bgcolor\": \"#E5ECF6\", \"caxis\": {\"gridcolor\": \"white\", \"linecolor\": \"white\", \"ticks\": \"\"}}, \"title\": {\"x\": 0.05}, \"xaxis\": {\"automargin\": true, \"gridcolor\": \"white\", \"linecolor\": \"white\", \"ticks\": \"\", \"title\": {\"standoff\": 15}, \"zerolinecolor\": \"white\", \"zerolinewidth\": 2}, \"yaxis\": {\"automargin\": true, \"gridcolor\": \"white\", \"linecolor\": \"white\", \"ticks\": \"\", \"title\": {\"standoff\": 15}, \"zerolinecolor\": \"white\", \"zerolinewidth\": 2}}}, \"title\": {\"font\": {\"color\": \"#4D5663\"}, \"text\": \"Intensive care cases\"}, \"xaxis\": {\"gridcolor\": \"#E1E5ED\", \"showgrid\": true, \"tickfont\": {\"color\": \"#4D5663\"}, \"title\": {\"font\": {\"color\": \"#4D5663\"}, \"text\": \"\"}, \"zerolinecolor\": \"#E1E5ED\"}, \"yaxis\": {\"gridcolor\": \"#E1E5ED\", \"showgrid\": true, \"tickfont\": {\"color\": \"#4D5663\"}, \"title\": {\"font\": {\"color\": \"#4D5663\"}, \"text\": \"case\"}, \"zerolinecolor\": \"#E1E5ED\"}},\n                        {\"responsive\": true}\n                    ).then(function(){\n                            \nvar gd = document.getElementById('2ffb6dc4-0ca7-416b-9a01-f16eae428dd3');\nvar x = new MutationObserver(function (mutations, observer) {{\n        var display = window.getComputedStyle(gd).display;\n        if (!display || display === 'none') {{\n            console.log([gd, 'removed!']);\n            Plotly.purge(gd);\n            observer.disconnect();\n        }}\n}});\n\n// Listen for the removal of the full notebook cells\nvar notebookContainer = gd.closest('#notebook-container');\nif (notebookContainer) {{\n    x.observe(notebookContainer, {childList: true});\n}}\n\n// Listen for the clearing of the current output cell\nvar outputEl = gd.closest('.output');\nif (outputEl) {{\n    x.observe(outputEl, {childList: true});\n}}\n\n                        })\n                };\n                });\n            </script>\n        </div>"
     },
     "metadata": {},
     "output_type": "display_data"
    }
   ],
   "source": [
    "fig = mpl.iplot_analysis_plot(df.drop(columns=['day']), title='Intensive care cases')\n",
    "fig.show()"
   ],
   "metadata": {
    "collapsed": false,
    "pycharm": {
     "name": "#%%\n",
     "is_executing": false
    }
   }
  }
 ],
 "metadata": {
  "kernelspec": {
   "display_name": "Python 3",
   "language": "python",
   "name": "python3"
  },
  "language_info": {
   "codemirror_mode": {
    "name": "ipython",
    "version": 2
   },
   "file_extension": ".py",
   "mimetype": "text/x-python",
   "name": "python",
   "nbconvert_exporter": "python",
   "pygments_lexer": "ipython2",
   "version": "2.7.6"
  },
  "pycharm": {
   "stem_cell": {
    "cell_type": "raw",
    "source": [],
    "metadata": {
     "collapsed": false
    }
   }
  }
 },
 "nbformat": 4,
 "nbformat_minor": 0
}