{
 "cells": [
  {
   "cell_type": "code",
   "execution_count": 8,
   "metadata": {
    "collapsed": true,
    "pycharm": {
     "is_executing": false
    }
   },
   "outputs": [
    {
     "name": "stdout",
     "text": [
      "The autoreload extension is already loaded. To reload it, use:\n",
      "  %reload_ext autoreload\n"
     ],
     "output_type": "stream"
    },
    {
     "data": {
      "text/html": "        <script type=\"text/javascript\">\n        window.PlotlyConfig = {MathJaxConfig: 'local'};\n        if (window.MathJax) {MathJax.Hub.Config({SVG: {font: \"STIX-Web\"}});}\n        if (typeof require !== 'undefined') {\n        require.undef(\"plotly\");\n        requirejs.config({\n            paths: {\n                'plotly': ['https://cdn.plot.ly/plotly-latest.min']\n            }\n        });\n        require(['plotly'], function(Plotly) {\n            window._Plotly = Plotly;\n        });\n        }\n        </script>\n        "
     },
     "metadata": {},
     "output_type": "display_data"
    }
   ],
   "source": [
    "%load_ext autoreload\n",
    "%autoreload 2\n",
    "\n",
    "import pandas as pd\n",
    "import cufflinks as cf\n",
    "import mytools.date as dt\n",
    "import mytools.plot as mpl\n",
    "\n",
    "cf.go_offline()\n",
    "cf.set_config_file(offline=False, world_readable=True)"
   ]
  },
  {
   "cell_type": "markdown",
   "source": [
    "## Italian intensive care cases "
   ],
   "metadata": {
    "collapsed": false,
    "pycharm": {
     "name": "#%% md\n"
    }
   }
  },
  {
   "cell_type": "code",
   "execution_count": 11,
   "outputs": [
    {
     "data": {
      "text/plain": "          intensive care\n24/02/20              27\n25/02/20              35\n26/02/20              36\n27/02/20              56\n28/02/20              64\n29/02/20             105\n01/03/20             140\n02/03/20             166\n03/03/20             229\n04/03/20             295\n05/03/20             351\n06/03/20             462\n07/03/20             567\n08/03/20             650\n09/03/20             733\n10/03/20             877\n11/03/20            1028\n12/03/20            1153\n13/03/20            1328\n14/03/20            1518\n15/03/20            1672\n16/03/20            1851\n17/03/20            2060\n18/03/20            2257\n19/03/20            2498\n20/03/20            2655\n21/03/20            2857\n22/03/20            3009\n23/03/20            3204\n24/03/20            3396\n25/03/20            3489\n26/03/20            3612\n27/03/20            3732\n28/03/20            3856\n29/03/20            3906\n30/03/20            3981\n31/03/20            4023\n01/04/20            4035\n02/04/20            4053\n03/04/20            4068\n04/04/20            3994\n05/04/20            3900\n06/04/20            3820",
      "text/html": "<div>\n<style scoped>\n    .dataframe tbody tr th:only-of-type {\n        vertical-align: middle;\n    }\n\n    .dataframe tbody tr th {\n        vertical-align: top;\n    }\n\n    .dataframe thead th {\n        text-align: right;\n    }\n</style>\n<table border=\"1\" class=\"dataframe\">\n  <thead>\n    <tr style=\"text-align: right;\">\n      <th></th>\n      <th>intensive care</th>\n    </tr>\n  </thead>\n  <tbody>\n    <tr>\n      <th>24/02/20</th>\n      <td>27</td>\n    </tr>\n    <tr>\n      <th>25/02/20</th>\n      <td>35</td>\n    </tr>\n    <tr>\n      <th>26/02/20</th>\n      <td>36</td>\n    </tr>\n    <tr>\n      <th>27/02/20</th>\n      <td>56</td>\n    </tr>\n    <tr>\n      <th>28/02/20</th>\n      <td>64</td>\n    </tr>\n    <tr>\n      <th>29/02/20</th>\n      <td>105</td>\n    </tr>\n    <tr>\n      <th>01/03/20</th>\n      <td>140</td>\n    </tr>\n    <tr>\n      <th>02/03/20</th>\n      <td>166</td>\n    </tr>\n    <tr>\n      <th>03/03/20</th>\n      <td>229</td>\n    </tr>\n    <tr>\n      <th>04/03/20</th>\n      <td>295</td>\n    </tr>\n    <tr>\n      <th>05/03/20</th>\n      <td>351</td>\n    </tr>\n    <tr>\n      <th>06/03/20</th>\n      <td>462</td>\n    </tr>\n    <tr>\n      <th>07/03/20</th>\n      <td>567</td>\n    </tr>\n    <tr>\n      <th>08/03/20</th>\n      <td>650</td>\n    </tr>\n    <tr>\n      <th>09/03/20</th>\n      <td>733</td>\n    </tr>\n    <tr>\n      <th>10/03/20</th>\n      <td>877</td>\n    </tr>\n    <tr>\n      <th>11/03/20</th>\n      <td>1028</td>\n    </tr>\n    <tr>\n      <th>12/03/20</th>\n      <td>1153</td>\n    </tr>\n    <tr>\n      <th>13/03/20</th>\n      <td>1328</td>\n    </tr>\n    <tr>\n      <th>14/03/20</th>\n      <td>1518</td>\n    </tr>\n    <tr>\n      <th>15/03/20</th>\n      <td>1672</td>\n    </tr>\n    <tr>\n      <th>16/03/20</th>\n      <td>1851</td>\n    </tr>\n    <tr>\n      <th>17/03/20</th>\n      <td>2060</td>\n    </tr>\n    <tr>\n      <th>18/03/20</th>\n      <td>2257</td>\n    </tr>\n    <tr>\n      <th>19/03/20</th>\n      <td>2498</td>\n    </tr>\n    <tr>\n      <th>20/03/20</th>\n      <td>2655</td>\n    </tr>\n    <tr>\n      <th>21/03/20</th>\n      <td>2857</td>\n    </tr>\n    <tr>\n      <th>22/03/20</th>\n      <td>3009</td>\n    </tr>\n    <tr>\n      <th>23/03/20</th>\n      <td>3204</td>\n    </tr>\n    <tr>\n      <th>24/03/20</th>\n      <td>3396</td>\n    </tr>\n    <tr>\n      <th>25/03/20</th>\n      <td>3489</td>\n    </tr>\n    <tr>\n      <th>26/03/20</th>\n      <td>3612</td>\n    </tr>\n    <tr>\n      <th>27/03/20</th>\n      <td>3732</td>\n    </tr>\n    <tr>\n      <th>28/03/20</th>\n      <td>3856</td>\n    </tr>\n    <tr>\n      <th>29/03/20</th>\n      <td>3906</td>\n    </tr>\n    <tr>\n      <th>30/03/20</th>\n      <td>3981</td>\n    </tr>\n    <tr>\n      <th>31/03/20</th>\n      <td>4023</td>\n    </tr>\n    <tr>\n      <th>01/04/20</th>\n      <td>4035</td>\n    </tr>\n    <tr>\n      <th>02/04/20</th>\n      <td>4053</td>\n    </tr>\n    <tr>\n      <th>03/04/20</th>\n      <td>4068</td>\n    </tr>\n    <tr>\n      <th>04/04/20</th>\n      <td>3994</td>\n    </tr>\n    <tr>\n      <th>05/04/20</th>\n      <td>3900</td>\n    </tr>\n    <tr>\n      <th>06/04/20</th>\n      <td>3820</td>\n    </tr>\n  </tbody>\n</table>\n</div>"
     },
     "metadata": {},
     "output_type": "execute_result",
     "execution_count": 11
    }
   ],
   "source": [
    "# loading the data\n",
    "df = pd.read_csv('italy-intensive_care.csv')\n",
    "a = list((dt.day_of_year_to_date(v)).strftime(\"%d/%m/%y\") for v in df['day'])\n",
    "df.index = a\n",
    "df.drop(columns=['day'])\n",
    "# display the table\n"
   ],
   "metadata": {
    "collapsed": false,
    "pycharm": {
     "name": "#%%\n",
     "is_executing": false
    }
   }
  },
  {
   "cell_type": "markdown",
   "source": [
    "## Fitting intensive care data with exponential and logistic models\n",
    "\n",
    "The exponential model is:\n",
    "\n",
    "$$y = e^{k(x-x_0)} + y_0$$\n",
    "\n",
    "where $k, x_0, y_0$ are the parameters to estimate.\n",
    "\n",
    "For the logistic model:\n",
    "\n",
    "$$y = \\frac{c}{1+e^{-k(x-x_0)}} + y_0$$\n",
    "\n",
    "where $c, k, x_0, y_0$ are the parameters to estimate."
   ],
   "metadata": {
    "collapsed": false
   }
  },
  {
   "cell_type": "code",
   "execution_count": 12,
   "outputs": [
    {
     "name": "stdout",
     "text": [
      "[0.65      0.6159614 1.       ]\n",
      "`ftol` termination condition is satisfied.\n",
      "Function evaluations 215, initial cost 1.4833e+01, final cost 6.5589e-02, first-order optimality 1.93e-02.\n",
      "            Exponential model\n",
      "            x0 = -3452.2345369507793\n",
      "            y0 = -38463.16733572559\n",
      "            k = 0.0030064073596125828\n",
      "            \n",
      "`ftol` termination condition is satisfied.\n",
      "Function evaluations 17, initial cost 4.9118e+00, final cost 2.8764e-03, first-order optimality 1.56e-06.\n",
      "        Sigmoid model\n",
      "        x0 = 76.81667817127182\n",
      "        y0 = -15.344411834482049\n",
      "        c = 4173.211438348757\n",
      "        k = 0.19947894326072815\n",
      "        asymptot = 4157.867026514275\n",
      "        flex = 76.81667817127182, 2071.2613073398966\n",
      "        \n",
      "`ftol` termination condition is satisfied.\n",
      "Function evaluations 32, initial cost 2.3321e+00, final cost 2.0094e-03, first-order optimality 8.51e-08.\n",
      "        Sigmoid derivative model\n",
      "        x0 = 91.85965591944178\n",
      "        y0 = -378.5183721930724\n",
      "        c = 160020.4487514221\n",
      "        k = 0.111809969851607\n",
      "        max = 91.85965591944178, 79631.70600351799\n",
      "        \n"
     ],
     "output_type": "stream"
    },
    {
     "data": {
      "application/vnd.plotly.v1+json": {
       "config": {
        "plotlyServerURL": "https://plot.ly"
       },
       "data": [
        {
         "line": {
          "color": "rgba(255, 153, 51, 1.0)",
          "dash": "solid",
          "shape": "linear",
          "width": 1.3
         },
         "marker": {
          "size": 4,
          "symbol": "circle"
         },
         "mode": "lines+markers",
         "name": "exp",
         "text": "",
         "type": "scatter",
         "x": [
          "20 Feb",
          "21 Feb",
          "22 Feb",
          "23 Feb",
          "24 Feb",
          "25 Feb",
          "26 Feb",
          "27 Feb",
          "28 Feb",
          "29 Feb",
          "01 Mar",
          "02 Mar",
          "03 Mar",
          "04 Mar",
          "05 Mar",
          "06 Mar",
          "07 Mar",
          "08 Mar",
          "09 Mar",
          "10 Mar",
          "11 Mar",
          "12 Mar",
          "13 Mar",
          "14 Mar",
          "15 Mar",
          "16 Mar",
          "17 Mar",
          "18 Mar",
          "19 Mar",
          "20 Mar",
          "21 Mar",
          "22 Mar",
          "23 Mar",
          "24 Mar",
          "25 Mar",
          "26 Mar",
          "27 Mar",
          "28 Mar",
          "29 Mar",
          "30 Mar",
          "31 Mar",
          "01 Apr",
          "02 Apr",
          "03 Apr",
          "04 Apr",
          "05 Apr",
          "06 Apr",
          "07 Apr",
          "08 Apr",
          "09 Apr",
          "10 Apr",
          "11 Apr",
          "12 Apr",
          "13 Apr",
          "14 Apr",
          "15 Apr",
          "16 Apr",
          "17 Apr",
          "18 Apr",
          "19 Apr",
          "20 Apr",
          "21 Apr",
          "22 Apr",
          "23 Apr",
          "24 Apr",
          "25 Apr"
         ],
         "y": [
          -961.1466920638195,
          -848.2306905003934,
          -734.9747066323471,
          -621.3777167962908,
          -507.4386942466881,
          -393.1566091467248,
          -278.5304285585444,
          -163.55911643446598,
          -48.2416336071401,
          67.42306221965555,
          183.43601648020558,
          299.7982777567522,
          416.51089778872847,
          533.5749314820787,
          650.9914369192848,
          768.7614753683447,
          886.8861112928789,
          1005.3664123615454,
          1124.2034494574618,
          1243.3982966883705,
          1362.9520313958128,
          1482.8657341653307,
          1603.1404888360412,
          1723.7773825102195,
          1844.7775055636012,
          1966.1419516546957,
          2087.8718177351548,
          2209.9682040594635,
          2332.4322141946905,
          2455.2649550309725,
          2578.4675367909003,
          2702.0410730401054,
          2825.986680697075,
          2950.3054800430546,
          3074.998594732664,
          3200.0671518034796,
          3325.5122816867297,
          3451.335118217292,
          3577.5367986437195,
          3704.1184636389808,
          3831.0812573105068,
          3958.4263272103417,
          4086.1548243460493,
          4214.26790319047,
          4342.766721692722,
          4471.652441288425,
          4600.926226909985,
          4730.589246997617,
          4860.6426735093555,
          4991.087681932127,
          "",
          "",
          "",
          "",
          "",
          "",
          "",
          "",
          "",
          "",
          "",
          "",
          "",
          "",
          "",
          ""
         ]
        },
        {
         "line": {
          "color": "rgba(55, 128, 191, 1.0)",
          "dash": "solid",
          "shape": "linear",
          "width": 1.3
         },
         "marker": {
          "size": 4,
          "symbol": "circle"
         },
         "mode": "lines+markers",
         "name": "sigm",
         "text": "",
         "type": "scatter",
         "x": [
          "20 Feb",
          "21 Feb",
          "22 Feb",
          "23 Feb",
          "24 Feb",
          "25 Feb",
          "26 Feb",
          "27 Feb",
          "28 Feb",
          "29 Feb",
          "01 Mar",
          "02 Mar",
          "03 Mar",
          "04 Mar",
          "05 Mar",
          "06 Mar",
          "07 Mar",
          "08 Mar",
          "09 Mar",
          "10 Mar",
          "11 Mar",
          "12 Mar",
          "13 Mar",
          "14 Mar",
          "15 Mar",
          "16 Mar",
          "17 Mar",
          "18 Mar",
          "19 Mar",
          "20 Mar",
          "21 Mar",
          "22 Mar",
          "23 Mar",
          "24 Mar",
          "25 Mar",
          "26 Mar",
          "27 Mar",
          "28 Mar",
          "29 Mar",
          "30 Mar",
          "31 Mar",
          "01 Apr",
          "02 Apr",
          "03 Apr",
          "04 Apr",
          "05 Apr",
          "06 Apr",
          "07 Apr",
          "08 Apr",
          "09 Apr",
          "10 Apr",
          "11 Apr",
          "12 Apr",
          "13 Apr",
          "14 Apr",
          "15 Apr",
          "16 Apr",
          "17 Apr",
          "18 Apr",
          "19 Apr",
          "20 Apr",
          "21 Apr",
          "22 Apr",
          "23 Apr",
          "24 Apr",
          "25 Apr"
         ],
         "y": [
          8.720964568717246,
          13.996440348885933,
          20.418408209468577,
          28.23120094360178,
          37.728892698597704,
          49.264303616191796,
          63.259088312328444,
          80.21475473822575,
          100.72427175986401,
          125.48364608964495,
          155.30245746100945,
          191.11181398559373,
          233.96751969147215,
          285.0454560642185,
          345.6253482159049,
          417.0583835428524,
          500.71387059328976,
          597.9007042337238,
          709.7613835101672,
          837.1402305828433,
          980.4335115684408,
          1139.4369111063188,
          1313.2137457158149,
          1500.012738059853,
          1697.263813646252,
          1901.6716414004884,
          2109.4094364232565,
          2316.393494069508,
          2518.598798946318,
          2712.365137144265,
          2894.6457011240614,
          3063.1651959609317,
          3216.4761812671354,
          3353.9233121931156,
          3475.5394568960155,
          3581.903156208316,
          3673.984751078526,
          3753.0017797568735,
          3820.296127112664,
          3877.238167105213,
          3925.157868241752,
          3965.299683828667,
          3998.7966483970786,
          4026.6588971116944,
          4049.7723032062063,
          4068.903705241145,
          4084.710026248575,
          4097.749338468927,
          4108.49254546066,
          4117.334828842271,
          4124.606354064772,
          4130.5819716718615,
          4135.489811790869,
          4139.518771674476,
          4142.824956473576,
          4145.537165447794,
          4147.761529317921,
          4149.5854063743045,
          4151.080640040473,
          4152.306272024862,
          4153.310795021226,
          4154.134018407831,
          4154.808610290596,
          4155.36136993578,
          4155.814276323619,
          4156.185351270736
         ]
        },
        {
         "line": {
          "color": "rgba(50, 171, 96, 1.0)",
          "dash": "solid",
          "shape": "linear",
          "width": 1.3
         },
         "marker": {
          "size": 4,
          "symbol": "circle"
         },
         "mode": "lines+markers",
         "name": "log",
         "text": "",
         "type": "scatter",
         "x": [
          "20 Feb",
          "21 Feb",
          "22 Feb",
          "23 Feb",
          "24 Feb",
          "25 Feb",
          "26 Feb",
          "27 Feb",
          "28 Feb",
          "29 Feb",
          "01 Mar",
          "02 Mar",
          "03 Mar",
          "04 Mar",
          "05 Mar",
          "06 Mar",
          "07 Mar",
          "08 Mar",
          "09 Mar",
          "10 Mar",
          "11 Mar",
          "12 Mar",
          "13 Mar",
          "14 Mar",
          "15 Mar",
          "16 Mar",
          "17 Mar",
          "18 Mar",
          "19 Mar",
          "20 Mar",
          "21 Mar",
          "22 Mar",
          "23 Mar",
          "24 Mar",
          "25 Mar",
          "26 Mar",
          "27 Mar",
          "28 Mar",
          "29 Mar",
          "30 Mar",
          "31 Mar",
          "01 Apr",
          "02 Apr",
          "03 Apr",
          "04 Apr",
          "05 Apr",
          "06 Apr",
          "07 Apr",
          "08 Apr",
          "09 Apr",
          "10 Apr",
          "11 Apr",
          "12 Apr",
          "13 Apr",
          "14 Apr",
          "15 Apr",
          "16 Apr",
          "17 Apr",
          "18 Apr",
          "19 Apr",
          "20 Apr",
          "21 Apr",
          "22 Apr",
          "23 Apr",
          "24 Apr",
          "25 Apr"
         ],
         "y": [
          -196.71137865201766,
          -175.6965330510714,
          -152.3167916976501,
          -126.32182347946767,
          -97.43870020465567,
          -65.37084399553805,
          -29.797204323546453,
          9.628238504592957,
          53.276524463810745,
          101.54317541441253,
          154.84689508817053,
          213.62730510225856,
          278.34148316391827,
          349.4590385851079,
          427.45543212886673,
          512.803225611039,
          605.9609363884972,
          707.3591791043724,
          817.3838095523093,
          936.3558523821499,
          1064.5081057411944,
          1201.9584822302363,
          1348.6803761211645,
          1504.4706480412742,
          1668.916191111823,
          1841.3604788714924,
          2020.871974907855,
          2206.2167709789237,
          2395.8382606698206,
          2587.846977653766,
          2780.023845756737,
          2969.8399112470333,
          3154.4950738450184,
          3330.977347404254,
          3496.142758834121,
          3646.8141982684406,
          3779.8955090859436,
          3892.4950759465764,
          3982.0514127407205,
          4046.4520674062096,
          4084.136806010052,
          4094.176676607207,
          4076.3222021508245,
          4031.016463004922,
          3959.3719025806276,
          3863.1129196551065,
          3744.489263834852,
          3606.1675442185565,
          3451.109534127113,
          3282.4463055475026,
          3103.3566177112975,
          2916.9566100201146,
          2726.205986109539,
          2533.833820690754,
          2342.2851413115723,
          2153.687735366693,
          1969.8373297728963,
          1792.1984293800137,
          1621.9176592091048,
          1459.8463706051043,
          1306.5694559242133,
          1162.4376797469681,
          1027.6012944495383,
          902.0431974293625,
          785.6103576368274,
          678.0426590190813
         ]
        },
        {
         "line": {
          "color": "rgba(128, 0, 128, 1.0)",
          "dash": "solid",
          "shape": "linear",
          "width": 1.3
         },
         "marker": {
          "size": 8,
          "symbol": "circle"
         },
         "mode": "markers",
         "name": "intensive care",
         "text": "",
         "type": "scatter",
         "x": [
          "20 Feb",
          "21 Feb",
          "22 Feb",
          "23 Feb",
          "24 Feb",
          "25 Feb",
          "26 Feb",
          "27 Feb",
          "28 Feb",
          "29 Feb",
          "01 Mar",
          "02 Mar",
          "03 Mar",
          "04 Mar",
          "05 Mar",
          "06 Mar",
          "07 Mar",
          "08 Mar",
          "09 Mar",
          "10 Mar",
          "11 Mar",
          "12 Mar",
          "13 Mar",
          "14 Mar",
          "15 Mar",
          "16 Mar",
          "17 Mar",
          "18 Mar",
          "19 Mar",
          "20 Mar",
          "21 Mar",
          "22 Mar",
          "23 Mar",
          "24 Mar",
          "25 Mar",
          "26 Mar",
          "27 Mar",
          "28 Mar",
          "29 Mar",
          "30 Mar",
          "31 Mar",
          "01 Apr",
          "02 Apr",
          "03 Apr",
          "04 Apr",
          "05 Apr",
          "06 Apr",
          "07 Apr",
          "08 Apr",
          "09 Apr",
          "10 Apr",
          "11 Apr",
          "12 Apr",
          "13 Apr",
          "14 Apr",
          "15 Apr",
          "16 Apr",
          "17 Apr",
          "18 Apr",
          "19 Apr",
          "20 Apr",
          "21 Apr",
          "22 Apr",
          "23 Apr",
          "24 Apr",
          "25 Apr"
         ],
         "y": [
          "",
          "",
          "",
          "",
          27.0,
          35.0,
          36.0,
          56.0,
          64.0,
          105.0,
          140.0,
          166.0,
          229.0,
          295.0,
          351.0,
          462.0,
          567.0,
          650.0,
          733.0,
          877.0,
          1028.0,
          1153.0,
          1328.0,
          1518.0,
          1672.0,
          1851.0,
          2060.0,
          2257.0,
          2498.0,
          2655.0,
          2857.0,
          3009.0,
          3204.0,
          3396.0,
          3489.0,
          3612.0,
          3732.0,
          3856.0,
          3906.0,
          3981.0,
          4023.0,
          4035.0,
          4053.0,
          4068.0,
          3994.0,
          3900.0,
          3820.0,
          "",
          "",
          "",
          "",
          "",
          "",
          "",
          "",
          "",
          "",
          "",
          "",
          "",
          "",
          "",
          "",
          "",
          "",
          ""
         ]
        },
        {
         "marker": {
          "color": "rgba(255, 0, 0, 125)",
          "size": 8
         },
         "mode": "markers",
         "name": "flex",
         "type": "scatter",
         "x": [
          "17 Mar"
         ],
         "y": [
          2071.2613073398966
         ]
        },
        {
         "marker": {
          "color": "rgba(255, 0, 0, 125)",
          "size": 8
         },
         "mode": "markers",
         "name": "peak",
         "type": "scatter",
         "x": [
          "01 Apr"
         ],
         "y": [
          4094.4520154412103
         ]
        }
       ],
       "layout": {
        "legend": {
         "bgcolor": "#FFFFFF",
         "font": {
          "color": "#4D5663"
         }
        },
        "paper_bgcolor": "#FFFFFF",
        "plot_bgcolor": "#FFFFFF",
        "template": {
         "data": {
          "bar": [
           {
            "error_x": {
             "color": "#2a3f5f"
            },
            "error_y": {
             "color": "#2a3f5f"
            },
            "marker": {
             "line": {
              "color": "#E5ECF6",
              "width": 0.5
             }
            },
            "type": "bar"
           }
          ],
          "barpolar": [
           {
            "marker": {
             "line": {
              "color": "#E5ECF6",
              "width": 0.5
             }
            },
            "type": "barpolar"
           }
          ],
          "carpet": [
           {
            "aaxis": {
             "endlinecolor": "#2a3f5f",
             "gridcolor": "white",
             "linecolor": "white",
             "minorgridcolor": "white",
             "startlinecolor": "#2a3f5f"
            },
            "baxis": {
             "endlinecolor": "#2a3f5f",
             "gridcolor": "white",
             "linecolor": "white",
             "minorgridcolor": "white",
             "startlinecolor": "#2a3f5f"
            },
            "type": "carpet"
           }
          ],
          "choropleth": [
           {
            "colorbar": {
             "outlinewidth": 0,
             "ticks": ""
            },
            "type": "choropleth"
           }
          ],
          "contour": [
           {
            "colorbar": {
             "outlinewidth": 0,
             "ticks": ""
            },
            "colorscale": [
             [
              0.0,
              "#0d0887"
             ],
             [
              0.1111111111111111,
              "#46039f"
             ],
             [
              0.2222222222222222,
              "#7201a8"
             ],
             [
              0.3333333333333333,
              "#9c179e"
             ],
             [
              0.4444444444444444,
              "#bd3786"
             ],
             [
              0.5555555555555556,
              "#d8576b"
             ],
             [
              0.6666666666666666,
              "#ed7953"
             ],
             [
              0.7777777777777778,
              "#fb9f3a"
             ],
             [
              0.8888888888888888,
              "#fdca26"
             ],
             [
              1.0,
              "#f0f921"
             ]
            ],
            "type": "contour"
           }
          ],
          "contourcarpet": [
           {
            "colorbar": {
             "outlinewidth": 0,
             "ticks": ""
            },
            "type": "contourcarpet"
           }
          ],
          "heatmap": [
           {
            "colorbar": {
             "outlinewidth": 0,
             "ticks": ""
            },
            "colorscale": [
             [
              0.0,
              "#0d0887"
             ],
             [
              0.1111111111111111,
              "#46039f"
             ],
             [
              0.2222222222222222,
              "#7201a8"
             ],
             [
              0.3333333333333333,
              "#9c179e"
             ],
             [
              0.4444444444444444,
              "#bd3786"
             ],
             [
              0.5555555555555556,
              "#d8576b"
             ],
             [
              0.6666666666666666,
              "#ed7953"
             ],
             [
              0.7777777777777778,
              "#fb9f3a"
             ],
             [
              0.8888888888888888,
              "#fdca26"
             ],
             [
              1.0,
              "#f0f921"
             ]
            ],
            "type": "heatmap"
           }
          ],
          "heatmapgl": [
           {
            "colorbar": {
             "outlinewidth": 0,
             "ticks": ""
            },
            "colorscale": [
             [
              0.0,
              "#0d0887"
             ],
             [
              0.1111111111111111,
              "#46039f"
             ],
             [
              0.2222222222222222,
              "#7201a8"
             ],
             [
              0.3333333333333333,
              "#9c179e"
             ],
             [
              0.4444444444444444,
              "#bd3786"
             ],
             [
              0.5555555555555556,
              "#d8576b"
             ],
             [
              0.6666666666666666,
              "#ed7953"
             ],
             [
              0.7777777777777778,
              "#fb9f3a"
             ],
             [
              0.8888888888888888,
              "#fdca26"
             ],
             [
              1.0,
              "#f0f921"
             ]
            ],
            "type": "heatmapgl"
           }
          ],
          "histogram": [
           {
            "marker": {
             "colorbar": {
              "outlinewidth": 0,
              "ticks": ""
             }
            },
            "type": "histogram"
           }
          ],
          "histogram2d": [
           {
            "colorbar": {
             "outlinewidth": 0,
             "ticks": ""
            },
            "colorscale": [
             [
              0.0,
              "#0d0887"
             ],
             [
              0.1111111111111111,
              "#46039f"
             ],
             [
              0.2222222222222222,
              "#7201a8"
             ],
             [
              0.3333333333333333,
              "#9c179e"
             ],
             [
              0.4444444444444444,
              "#bd3786"
             ],
             [
              0.5555555555555556,
              "#d8576b"
             ],
             [
              0.6666666666666666,
              "#ed7953"
             ],
             [
              0.7777777777777778,
              "#fb9f3a"
             ],
             [
              0.8888888888888888,
              "#fdca26"
             ],
             [
              1.0,
              "#f0f921"
             ]
            ],
            "type": "histogram2d"
           }
          ],
          "histogram2dcontour": [
           {
            "colorbar": {
             "outlinewidth": 0,
             "ticks": ""
            },
            "colorscale": [
             [
              0.0,
              "#0d0887"
             ],
             [
              0.1111111111111111,
              "#46039f"
             ],
             [
              0.2222222222222222,
              "#7201a8"
             ],
             [
              0.3333333333333333,
              "#9c179e"
             ],
             [
              0.4444444444444444,
              "#bd3786"
             ],
             [
              0.5555555555555556,
              "#d8576b"
             ],
             [
              0.6666666666666666,
              "#ed7953"
             ],
             [
              0.7777777777777778,
              "#fb9f3a"
             ],
             [
              0.8888888888888888,
              "#fdca26"
             ],
             [
              1.0,
              "#f0f921"
             ]
            ],
            "type": "histogram2dcontour"
           }
          ],
          "mesh3d": [
           {
            "colorbar": {
             "outlinewidth": 0,
             "ticks": ""
            },
            "type": "mesh3d"
           }
          ],
          "parcoords": [
           {
            "line": {
             "colorbar": {
              "outlinewidth": 0,
              "ticks": ""
             }
            },
            "type": "parcoords"
           }
          ],
          "pie": [
           {
            "automargin": true,
            "type": "pie"
           }
          ],
          "scatter": [
           {
            "marker": {
             "colorbar": {
              "outlinewidth": 0,
              "ticks": ""
             }
            },
            "type": "scatter"
           }
          ],
          "scatter3d": [
           {
            "line": {
             "colorbar": {
              "outlinewidth": 0,
              "ticks": ""
             }
            },
            "marker": {
             "colorbar": {
              "outlinewidth": 0,
              "ticks": ""
             }
            },
            "type": "scatter3d"
           }
          ],
          "scattercarpet": [
           {
            "marker": {
             "colorbar": {
              "outlinewidth": 0,
              "ticks": ""
             }
            },
            "type": "scattercarpet"
           }
          ],
          "scattergeo": [
           {
            "marker": {
             "colorbar": {
              "outlinewidth": 0,
              "ticks": ""
             }
            },
            "type": "scattergeo"
           }
          ],
          "scattergl": [
           {
            "marker": {
             "colorbar": {
              "outlinewidth": 0,
              "ticks": ""
             }
            },
            "type": "scattergl"
           }
          ],
          "scattermapbox": [
           {
            "marker": {
             "colorbar": {
              "outlinewidth": 0,
              "ticks": ""
             }
            },
            "type": "scattermapbox"
           }
          ],
          "scatterpolar": [
           {
            "marker": {
             "colorbar": {
              "outlinewidth": 0,
              "ticks": ""
             }
            },
            "type": "scatterpolar"
           }
          ],
          "scatterpolargl": [
           {
            "marker": {
             "colorbar": {
              "outlinewidth": 0,
              "ticks": ""
             }
            },
            "type": "scatterpolargl"
           }
          ],
          "scatterternary": [
           {
            "marker": {
             "colorbar": {
              "outlinewidth": 0,
              "ticks": ""
             }
            },
            "type": "scatterternary"
           }
          ],
          "surface": [
           {
            "colorbar": {
             "outlinewidth": 0,
             "ticks": ""
            },
            "colorscale": [
             [
              0.0,
              "#0d0887"
             ],
             [
              0.1111111111111111,
              "#46039f"
             ],
             [
              0.2222222222222222,
              "#7201a8"
             ],
             [
              0.3333333333333333,
              "#9c179e"
             ],
             [
              0.4444444444444444,
              "#bd3786"
             ],
             [
              0.5555555555555556,
              "#d8576b"
             ],
             [
              0.6666666666666666,
              "#ed7953"
             ],
             [
              0.7777777777777778,
              "#fb9f3a"
             ],
             [
              0.8888888888888888,
              "#fdca26"
             ],
             [
              1.0,
              "#f0f921"
             ]
            ],
            "type": "surface"
           }
          ],
          "table": [
           {
            "cells": {
             "fill": {
              "color": "#EBF0F8"
             },
             "line": {
              "color": "white"
             }
            },
            "header": {
             "fill": {
              "color": "#C8D4E3"
             },
             "line": {
              "color": "white"
             }
            },
            "type": "table"
           }
          ]
         },
         "layout": {
          "annotationdefaults": {
           "arrowcolor": "#2a3f5f",
           "arrowhead": 0,
           "arrowwidth": 1
          },
          "coloraxis": {
           "colorbar": {
            "outlinewidth": 0,
            "ticks": ""
           }
          },
          "colorscale": {
           "diverging": [
            [
             0,
             "#8e0152"
            ],
            [
             0.1,
             "#c51b7d"
            ],
            [
             0.2,
             "#de77ae"
            ],
            [
             0.3,
             "#f1b6da"
            ],
            [
             0.4,
             "#fde0ef"
            ],
            [
             0.5,
             "#f7f7f7"
            ],
            [
             0.6,
             "#e6f5d0"
            ],
            [
             0.7,
             "#b8e186"
            ],
            [
             0.8,
             "#7fbc41"
            ],
            [
             0.9,
             "#4d9221"
            ],
            [
             1,
             "#276419"
            ]
           ],
           "sequential": [
            [
             0.0,
             "#0d0887"
            ],
            [
             0.1111111111111111,
             "#46039f"
            ],
            [
             0.2222222222222222,
             "#7201a8"
            ],
            [
             0.3333333333333333,
             "#9c179e"
            ],
            [
             0.4444444444444444,
             "#bd3786"
            ],
            [
             0.5555555555555556,
             "#d8576b"
            ],
            [
             0.6666666666666666,
             "#ed7953"
            ],
            [
             0.7777777777777778,
             "#fb9f3a"
            ],
            [
             0.8888888888888888,
             "#fdca26"
            ],
            [
             1.0,
             "#f0f921"
            ]
           ],
           "sequentialminus": [
            [
             0.0,
             "#0d0887"
            ],
            [
             0.1111111111111111,
             "#46039f"
            ],
            [
             0.2222222222222222,
             "#7201a8"
            ],
            [
             0.3333333333333333,
             "#9c179e"
            ],
            [
             0.4444444444444444,
             "#bd3786"
            ],
            [
             0.5555555555555556,
             "#d8576b"
            ],
            [
             0.6666666666666666,
             "#ed7953"
            ],
            [
             0.7777777777777778,
             "#fb9f3a"
            ],
            [
             0.8888888888888888,
             "#fdca26"
            ],
            [
             1.0,
             "#f0f921"
            ]
           ]
          },
          "colorway": [
           "#636efa",
           "#EF553B",
           "#00cc96",
           "#ab63fa",
           "#FFA15A",
           "#19d3f3",
           "#FF6692",
           "#B6E880",
           "#FF97FF",
           "#FECB52"
          ],
          "font": {
           "color": "#2a3f5f"
          },
          "geo": {
           "bgcolor": "white",
           "lakecolor": "white",
           "landcolor": "#E5ECF6",
           "showlakes": true,
           "showland": true,
           "subunitcolor": "white"
          },
          "hoverlabel": {
           "align": "left"
          },
          "hovermode": "closest",
          "mapbox": {
           "style": "light"
          },
          "paper_bgcolor": "white",
          "plot_bgcolor": "#E5ECF6",
          "polar": {
           "angularaxis": {
            "gridcolor": "white",
            "linecolor": "white",
            "ticks": ""
           },
           "bgcolor": "#E5ECF6",
           "radialaxis": {
            "gridcolor": "white",
            "linecolor": "white",
            "ticks": ""
           }
          },
          "scene": {
           "xaxis": {
            "backgroundcolor": "#E5ECF6",
            "gridcolor": "white",
            "gridwidth": 2,
            "linecolor": "white",
            "showbackground": true,
            "ticks": "",
            "zerolinecolor": "white"
           },
           "yaxis": {
            "backgroundcolor": "#E5ECF6",
            "gridcolor": "white",
            "gridwidth": 2,
            "linecolor": "white",
            "showbackground": true,
            "ticks": "",
            "zerolinecolor": "white"
           },
           "zaxis": {
            "backgroundcolor": "#E5ECF6",
            "gridcolor": "white",
            "gridwidth": 2,
            "linecolor": "white",
            "showbackground": true,
            "ticks": "",
            "zerolinecolor": "white"
           }
          },
          "shapedefaults": {
           "line": {
            "color": "#2a3f5f"
           }
          },
          "ternary": {
           "aaxis": {
            "gridcolor": "white",
            "linecolor": "white",
            "ticks": ""
           },
           "baxis": {
            "gridcolor": "white",
            "linecolor": "white",
            "ticks": ""
           },
           "bgcolor": "#E5ECF6",
           "caxis": {
            "gridcolor": "white",
            "linecolor": "white",
            "ticks": ""
           }
          },
          "title": {
           "x": 0.05
          },
          "xaxis": {
           "automargin": true,
           "gridcolor": "white",
           "linecolor": "white",
           "ticks": "",
           "title": {
            "standoff": 15
           },
           "zerolinecolor": "white",
           "zerolinewidth": 2
          },
          "yaxis": {
           "automargin": true,
           "gridcolor": "white",
           "linecolor": "white",
           "ticks": "",
           "title": {
            "standoff": 15
           },
           "zerolinecolor": "white",
           "zerolinewidth": 2
          }
         }
        },
        "title": {
         "font": {
          "color": "#4D5663"
         },
         "text": "Intensive care cases"
        },
        "xaxis": {
         "gridcolor": "#E1E5ED",
         "showgrid": true,
         "tickfont": {
          "color": "#4D5663"
         },
         "title": {
          "font": {
           "color": "#4D5663"
          },
          "text": ""
         },
         "zerolinecolor": "#E1E5ED"
        },
        "yaxis": {
         "gridcolor": "#E1E5ED",
         "showgrid": true,
         "tickfont": {
          "color": "#4D5663"
         },
         "title": {
          "font": {
           "color": "#4D5663"
          },
          "text": "case"
         },
         "zerolinecolor": "#E1E5ED"
        }
       }
      },
      "text/html": "<div>\n        \n        \n            <div id=\"2b5232e9-d81b-450a-9a37-92cb24335da1\" class=\"plotly-graph-div\" style=\"height:525px; width:100%;\"></div>\n            <script type=\"text/javascript\">\n                require([\"plotly\"], function(Plotly) {\n                    window.PLOTLYENV=window.PLOTLYENV || {};\n                    \n                if (document.getElementById(\"2b5232e9-d81b-450a-9a37-92cb24335da1\")) {\n                    Plotly.newPlot(\n                        '2b5232e9-d81b-450a-9a37-92cb24335da1',\n                        [{\"line\": {\"color\": \"rgba(255, 153, 51, 1.0)\", \"dash\": \"solid\", \"shape\": \"linear\", \"width\": 1.3}, \"marker\": {\"size\": 4, \"symbol\": \"circle\"}, \"mode\": \"lines+markers\", \"name\": \"exp\", \"text\": \"\", \"type\": \"scatter\", \"x\": [\"20 Feb\", \"21 Feb\", \"22 Feb\", \"23 Feb\", \"24 Feb\", \"25 Feb\", \"26 Feb\", \"27 Feb\", \"28 Feb\", \"29 Feb\", \"01 Mar\", \"02 Mar\", \"03 Mar\", \"04 Mar\", \"05 Mar\", \"06 Mar\", \"07 Mar\", \"08 Mar\", \"09 Mar\", \"10 Mar\", \"11 Mar\", \"12 Mar\", \"13 Mar\", \"14 Mar\", \"15 Mar\", \"16 Mar\", \"17 Mar\", \"18 Mar\", \"19 Mar\", \"20 Mar\", \"21 Mar\", \"22 Mar\", \"23 Mar\", \"24 Mar\", \"25 Mar\", \"26 Mar\", \"27 Mar\", \"28 Mar\", \"29 Mar\", \"30 Mar\", \"31 Mar\", \"01 Apr\", \"02 Apr\", \"03 Apr\", \"04 Apr\", \"05 Apr\", \"06 Apr\", \"07 Apr\", \"08 Apr\", \"09 Apr\", \"10 Apr\", \"11 Apr\", \"12 Apr\", \"13 Apr\", \"14 Apr\", \"15 Apr\", \"16 Apr\", \"17 Apr\", \"18 Apr\", \"19 Apr\", \"20 Apr\", \"21 Apr\", \"22 Apr\", \"23 Apr\", \"24 Apr\", \"25 Apr\"], \"y\": [-961.1466920638195, -848.2306905003934, -734.9747066323471, -621.3777167962908, -507.4386942466881, -393.1566091467248, -278.5304285585444, -163.55911643446598, -48.2416336071401, 67.42306221965555, 183.43601648020558, 299.7982777567522, 416.51089778872847, 533.5749314820787, 650.9914369192848, 768.7614753683447, 886.8861112928789, 1005.3664123615454, 1124.2034494574618, 1243.3982966883705, 1362.9520313958128, 1482.8657341653307, 1603.1404888360412, 1723.7773825102195, 1844.7775055636012, 1966.1419516546957, 2087.8718177351548, 2209.9682040594635, 2332.4322141946905, 2455.2649550309725, 2578.4675367909003, 2702.0410730401054, 2825.986680697075, 2950.3054800430546, 3074.998594732664, 3200.0671518034796, 3325.5122816867297, 3451.335118217292, 3577.5367986437195, 3704.1184636389808, 3831.0812573105068, 3958.4263272103417, 4086.1548243460493, 4214.26790319047, 4342.766721692722, 4471.652441288425, 4600.926226909985, 4730.589246997617, 4860.6426735093555, 4991.087681932127, \"\", \"\", \"\", \"\", \"\", \"\", \"\", \"\", \"\", \"\", \"\", \"\", \"\", \"\", \"\", \"\"]}, {\"line\": {\"color\": \"rgba(55, 128, 191, 1.0)\", \"dash\": \"solid\", \"shape\": \"linear\", \"width\": 1.3}, \"marker\": {\"size\": 4, \"symbol\": \"circle\"}, \"mode\": \"lines+markers\", \"name\": \"sigm\", \"text\": \"\", \"type\": \"scatter\", \"x\": [\"20 Feb\", \"21 Feb\", \"22 Feb\", \"23 Feb\", \"24 Feb\", \"25 Feb\", \"26 Feb\", \"27 Feb\", \"28 Feb\", \"29 Feb\", \"01 Mar\", \"02 Mar\", \"03 Mar\", \"04 Mar\", \"05 Mar\", \"06 Mar\", \"07 Mar\", \"08 Mar\", \"09 Mar\", \"10 Mar\", \"11 Mar\", \"12 Mar\", \"13 Mar\", \"14 Mar\", \"15 Mar\", \"16 Mar\", \"17 Mar\", \"18 Mar\", \"19 Mar\", \"20 Mar\", \"21 Mar\", \"22 Mar\", \"23 Mar\", \"24 Mar\", \"25 Mar\", \"26 Mar\", \"27 Mar\", \"28 Mar\", \"29 Mar\", \"30 Mar\", \"31 Mar\", \"01 Apr\", \"02 Apr\", \"03 Apr\", \"04 Apr\", \"05 Apr\", \"06 Apr\", \"07 Apr\", \"08 Apr\", \"09 Apr\", \"10 Apr\", \"11 Apr\", \"12 Apr\", \"13 Apr\", \"14 Apr\", \"15 Apr\", \"16 Apr\", \"17 Apr\", \"18 Apr\", \"19 Apr\", \"20 Apr\", \"21 Apr\", \"22 Apr\", \"23 Apr\", \"24 Apr\", \"25 Apr\"], \"y\": [8.720964568717246, 13.996440348885933, 20.418408209468577, 28.23120094360178, 37.728892698597704, 49.264303616191796, 63.259088312328444, 80.21475473822575, 100.72427175986401, 125.48364608964495, 155.30245746100945, 191.11181398559373, 233.96751969147215, 285.0454560642185, 345.6253482159049, 417.0583835428524, 500.71387059328976, 597.9007042337238, 709.7613835101672, 837.1402305828433, 980.4335115684408, 1139.4369111063188, 1313.2137457158149, 1500.012738059853, 1697.263813646252, 1901.6716414004884, 2109.4094364232565, 2316.393494069508, 2518.598798946318, 2712.365137144265, 2894.6457011240614, 3063.1651959609317, 3216.4761812671354, 3353.9233121931156, 3475.5394568960155, 3581.903156208316, 3673.984751078526, 3753.0017797568735, 3820.296127112664, 3877.238167105213, 3925.157868241752, 3965.299683828667, 3998.7966483970786, 4026.6588971116944, 4049.7723032062063, 4068.903705241145, 4084.710026248575, 4097.749338468927, 4108.49254546066, 4117.334828842271, 4124.606354064772, 4130.5819716718615, 4135.489811790869, 4139.518771674476, 4142.824956473576, 4145.537165447794, 4147.761529317921, 4149.5854063743045, 4151.080640040473, 4152.306272024862, 4153.310795021226, 4154.134018407831, 4154.808610290596, 4155.36136993578, 4155.814276323619, 4156.185351270736]}, {\"line\": {\"color\": \"rgba(50, 171, 96, 1.0)\", \"dash\": \"solid\", \"shape\": \"linear\", \"width\": 1.3}, \"marker\": {\"size\": 4, \"symbol\": \"circle\"}, \"mode\": \"lines+markers\", \"name\": \"log\", \"text\": \"\", \"type\": \"scatter\", \"x\": [\"20 Feb\", \"21 Feb\", \"22 Feb\", \"23 Feb\", \"24 Feb\", \"25 Feb\", \"26 Feb\", \"27 Feb\", \"28 Feb\", \"29 Feb\", \"01 Mar\", \"02 Mar\", \"03 Mar\", \"04 Mar\", \"05 Mar\", \"06 Mar\", \"07 Mar\", \"08 Mar\", \"09 Mar\", \"10 Mar\", \"11 Mar\", \"12 Mar\", \"13 Mar\", \"14 Mar\", \"15 Mar\", \"16 Mar\", \"17 Mar\", \"18 Mar\", \"19 Mar\", \"20 Mar\", \"21 Mar\", \"22 Mar\", \"23 Mar\", \"24 Mar\", \"25 Mar\", \"26 Mar\", \"27 Mar\", \"28 Mar\", \"29 Mar\", \"30 Mar\", \"31 Mar\", \"01 Apr\", \"02 Apr\", \"03 Apr\", \"04 Apr\", \"05 Apr\", \"06 Apr\", \"07 Apr\", \"08 Apr\", \"09 Apr\", \"10 Apr\", \"11 Apr\", \"12 Apr\", \"13 Apr\", \"14 Apr\", \"15 Apr\", \"16 Apr\", \"17 Apr\", \"18 Apr\", \"19 Apr\", \"20 Apr\", \"21 Apr\", \"22 Apr\", \"23 Apr\", \"24 Apr\", \"25 Apr\"], \"y\": [-196.71137865201766, -175.6965330510714, -152.3167916976501, -126.32182347946767, -97.43870020465567, -65.37084399553805, -29.797204323546453, 9.628238504592957, 53.276524463810745, 101.54317541441253, 154.84689508817053, 213.62730510225856, 278.34148316391827, 349.4590385851079, 427.45543212886673, 512.803225611039, 605.9609363884972, 707.3591791043724, 817.3838095523093, 936.3558523821499, 1064.5081057411944, 1201.9584822302363, 1348.6803761211645, 1504.4706480412742, 1668.916191111823, 1841.3604788714924, 2020.871974907855, 2206.2167709789237, 2395.8382606698206, 2587.846977653766, 2780.023845756737, 2969.8399112470333, 3154.4950738450184, 3330.977347404254, 3496.142758834121, 3646.8141982684406, 3779.8955090859436, 3892.4950759465764, 3982.0514127407205, 4046.4520674062096, 4084.136806010052, 4094.176676607207, 4076.3222021508245, 4031.016463004922, 3959.3719025806276, 3863.1129196551065, 3744.489263834852, 3606.1675442185565, 3451.109534127113, 3282.4463055475026, 3103.3566177112975, 2916.9566100201146, 2726.205986109539, 2533.833820690754, 2342.2851413115723, 2153.687735366693, 1969.8373297728963, 1792.1984293800137, 1621.9176592091048, 1459.8463706051043, 1306.5694559242133, 1162.4376797469681, 1027.6012944495383, 902.0431974293625, 785.6103576368274, 678.0426590190813]}, {\"line\": {\"color\": \"rgba(128, 0, 128, 1.0)\", \"dash\": \"solid\", \"shape\": \"linear\", \"width\": 1.3}, \"marker\": {\"size\": 8, \"symbol\": \"circle\"}, \"mode\": \"markers\", \"name\": \"intensive care\", \"text\": \"\", \"type\": \"scatter\", \"x\": [\"20 Feb\", \"21 Feb\", \"22 Feb\", \"23 Feb\", \"24 Feb\", \"25 Feb\", \"26 Feb\", \"27 Feb\", \"28 Feb\", \"29 Feb\", \"01 Mar\", \"02 Mar\", \"03 Mar\", \"04 Mar\", \"05 Mar\", \"06 Mar\", \"07 Mar\", \"08 Mar\", \"09 Mar\", \"10 Mar\", \"11 Mar\", \"12 Mar\", \"13 Mar\", \"14 Mar\", \"15 Mar\", \"16 Mar\", \"17 Mar\", \"18 Mar\", \"19 Mar\", \"20 Mar\", \"21 Mar\", \"22 Mar\", \"23 Mar\", \"24 Mar\", \"25 Mar\", \"26 Mar\", \"27 Mar\", \"28 Mar\", \"29 Mar\", \"30 Mar\", \"31 Mar\", \"01 Apr\", \"02 Apr\", \"03 Apr\", \"04 Apr\", \"05 Apr\", \"06 Apr\", \"07 Apr\", \"08 Apr\", \"09 Apr\", \"10 Apr\", \"11 Apr\", \"12 Apr\", \"13 Apr\", \"14 Apr\", \"15 Apr\", \"16 Apr\", \"17 Apr\", \"18 Apr\", \"19 Apr\", \"20 Apr\", \"21 Apr\", \"22 Apr\", \"23 Apr\", \"24 Apr\", \"25 Apr\"], \"y\": [\"\", \"\", \"\", \"\", 27.0, 35.0, 36.0, 56.0, 64.0, 105.0, 140.0, 166.0, 229.0, 295.0, 351.0, 462.0, 567.0, 650.0, 733.0, 877.0, 1028.0, 1153.0, 1328.0, 1518.0, 1672.0, 1851.0, 2060.0, 2257.0, 2498.0, 2655.0, 2857.0, 3009.0, 3204.0, 3396.0, 3489.0, 3612.0, 3732.0, 3856.0, 3906.0, 3981.0, 4023.0, 4035.0, 4053.0, 4068.0, 3994.0, 3900.0, 3820.0, \"\", \"\", \"\", \"\", \"\", \"\", \"\", \"\", \"\", \"\", \"\", \"\", \"\", \"\", \"\", \"\", \"\", \"\", \"\"]}, {\"marker\": {\"color\": \"rgba(255, 0, 0, 125)\", \"size\": 8}, \"mode\": \"markers\", \"name\": \"flex\", \"type\": \"scatter\", \"x\": [\"17 Mar\"], \"y\": [2071.2613073398966]}, {\"marker\": {\"color\": \"rgba(255, 0, 0, 125)\", \"size\": 8}, \"mode\": \"markers\", \"name\": \"peak\", \"type\": \"scatter\", \"x\": [\"01 Apr\"], \"y\": [4094.4520154412103]}],\n                        {\"legend\": {\"bgcolor\": \"#FFFFFF\", \"font\": {\"color\": \"#4D5663\"}}, \"paper_bgcolor\": \"#FFFFFF\", \"plot_bgcolor\": \"#FFFFFF\", \"template\": {\"data\": {\"bar\": [{\"error_x\": {\"color\": \"#2a3f5f\"}, \"error_y\": {\"color\": \"#2a3f5f\"}, \"marker\": {\"line\": {\"color\": \"#E5ECF6\", \"width\": 0.5}}, \"type\": \"bar\"}], \"barpolar\": [{\"marker\": {\"line\": {\"color\": \"#E5ECF6\", \"width\": 0.5}}, \"type\": \"barpolar\"}], \"carpet\": [{\"aaxis\": {\"endlinecolor\": \"#2a3f5f\", \"gridcolor\": \"white\", \"linecolor\": \"white\", \"minorgridcolor\": \"white\", \"startlinecolor\": \"#2a3f5f\"}, \"baxis\": {\"endlinecolor\": \"#2a3f5f\", \"gridcolor\": \"white\", \"linecolor\": \"white\", \"minorgridcolor\": \"white\", \"startlinecolor\": \"#2a3f5f\"}, \"type\": \"carpet\"}], \"choropleth\": [{\"colorbar\": {\"outlinewidth\": 0, \"ticks\": \"\"}, \"type\": \"choropleth\"}], \"contour\": [{\"colorbar\": {\"outlinewidth\": 0, \"ticks\": \"\"}, \"colorscale\": [[0.0, \"#0d0887\"], [0.1111111111111111, \"#46039f\"], [0.2222222222222222, \"#7201a8\"], [0.3333333333333333, \"#9c179e\"], [0.4444444444444444, \"#bd3786\"], [0.5555555555555556, \"#d8576b\"], [0.6666666666666666, \"#ed7953\"], [0.7777777777777778, \"#fb9f3a\"], [0.8888888888888888, \"#fdca26\"], [1.0, \"#f0f921\"]], \"type\": \"contour\"}], \"contourcarpet\": [{\"colorbar\": {\"outlinewidth\": 0, \"ticks\": \"\"}, \"type\": \"contourcarpet\"}], \"heatmap\": [{\"colorbar\": {\"outlinewidth\": 0, \"ticks\": \"\"}, \"colorscale\": [[0.0, \"#0d0887\"], [0.1111111111111111, \"#46039f\"], [0.2222222222222222, \"#7201a8\"], [0.3333333333333333, \"#9c179e\"], [0.4444444444444444, \"#bd3786\"], [0.5555555555555556, \"#d8576b\"], [0.6666666666666666, \"#ed7953\"], [0.7777777777777778, \"#fb9f3a\"], [0.8888888888888888, \"#fdca26\"], [1.0, \"#f0f921\"]], \"type\": \"heatmap\"}], \"heatmapgl\": [{\"colorbar\": {\"outlinewidth\": 0, \"ticks\": \"\"}, \"colorscale\": [[0.0, \"#0d0887\"], [0.1111111111111111, \"#46039f\"], [0.2222222222222222, \"#7201a8\"], [0.3333333333333333, \"#9c179e\"], [0.4444444444444444, \"#bd3786\"], [0.5555555555555556, \"#d8576b\"], [0.6666666666666666, \"#ed7953\"], [0.7777777777777778, \"#fb9f3a\"], [0.8888888888888888, \"#fdca26\"], [1.0, \"#f0f921\"]], \"type\": \"heatmapgl\"}], \"histogram\": [{\"marker\": {\"colorbar\": {\"outlinewidth\": 0, \"ticks\": \"\"}}, \"type\": \"histogram\"}], \"histogram2d\": [{\"colorbar\": {\"outlinewidth\": 0, \"ticks\": \"\"}, \"colorscale\": [[0.0, \"#0d0887\"], [0.1111111111111111, \"#46039f\"], [0.2222222222222222, \"#7201a8\"], [0.3333333333333333, \"#9c179e\"], [0.4444444444444444, \"#bd3786\"], [0.5555555555555556, \"#d8576b\"], [0.6666666666666666, \"#ed7953\"], [0.7777777777777778, \"#fb9f3a\"], [0.8888888888888888, \"#fdca26\"], [1.0, \"#f0f921\"]], \"type\": \"histogram2d\"}], \"histogram2dcontour\": [{\"colorbar\": {\"outlinewidth\": 0, \"ticks\": \"\"}, \"colorscale\": [[0.0, \"#0d0887\"], [0.1111111111111111, \"#46039f\"], [0.2222222222222222, \"#7201a8\"], [0.3333333333333333, \"#9c179e\"], [0.4444444444444444, \"#bd3786\"], [0.5555555555555556, \"#d8576b\"], [0.6666666666666666, \"#ed7953\"], [0.7777777777777778, \"#fb9f3a\"], [0.8888888888888888, \"#fdca26\"], [1.0, \"#f0f921\"]], \"type\": \"histogram2dcontour\"}], \"mesh3d\": [{\"colorbar\": {\"outlinewidth\": 0, \"ticks\": \"\"}, \"type\": \"mesh3d\"}], \"parcoords\": [{\"line\": {\"colorbar\": {\"outlinewidth\": 0, \"ticks\": \"\"}}, \"type\": \"parcoords\"}], \"pie\": [{\"automargin\": true, \"type\": \"pie\"}], \"scatter\": [{\"marker\": {\"colorbar\": {\"outlinewidth\": 0, \"ticks\": \"\"}}, \"type\": \"scatter\"}], \"scatter3d\": [{\"line\": {\"colorbar\": {\"outlinewidth\": 0, \"ticks\": \"\"}}, \"marker\": {\"colorbar\": {\"outlinewidth\": 0, \"ticks\": \"\"}}, \"type\": \"scatter3d\"}], \"scattercarpet\": [{\"marker\": {\"colorbar\": {\"outlinewidth\": 0, \"ticks\": \"\"}}, \"type\": \"scattercarpet\"}], \"scattergeo\": [{\"marker\": {\"colorbar\": {\"outlinewidth\": 0, \"ticks\": \"\"}}, \"type\": \"scattergeo\"}], \"scattergl\": [{\"marker\": {\"colorbar\": {\"outlinewidth\": 0, \"ticks\": \"\"}}, \"type\": \"scattergl\"}], \"scattermapbox\": [{\"marker\": {\"colorbar\": {\"outlinewidth\": 0, \"ticks\": \"\"}}, \"type\": \"scattermapbox\"}], \"scatterpolar\": [{\"marker\": {\"colorbar\": {\"outlinewidth\": 0, \"ticks\": \"\"}}, \"type\": \"scatterpolar\"}], \"scatterpolargl\": [{\"marker\": {\"colorbar\": {\"outlinewidth\": 0, \"ticks\": \"\"}}, \"type\": \"scatterpolargl\"}], \"scatterternary\": [{\"marker\": {\"colorbar\": {\"outlinewidth\": 0, \"ticks\": \"\"}}, \"type\": \"scatterternary\"}], \"surface\": [{\"colorbar\": {\"outlinewidth\": 0, \"ticks\": \"\"}, \"colorscale\": [[0.0, \"#0d0887\"], [0.1111111111111111, \"#46039f\"], [0.2222222222222222, \"#7201a8\"], [0.3333333333333333, \"#9c179e\"], [0.4444444444444444, \"#bd3786\"], [0.5555555555555556, \"#d8576b\"], [0.6666666666666666, \"#ed7953\"], [0.7777777777777778, \"#fb9f3a\"], [0.8888888888888888, \"#fdca26\"], [1.0, \"#f0f921\"]], \"type\": \"surface\"}], \"table\": [{\"cells\": {\"fill\": {\"color\": \"#EBF0F8\"}, \"line\": {\"color\": \"white\"}}, \"header\": {\"fill\": {\"color\": \"#C8D4E3\"}, \"line\": {\"color\": \"white\"}}, \"type\": \"table\"}]}, \"layout\": {\"annotationdefaults\": {\"arrowcolor\": \"#2a3f5f\", \"arrowhead\": 0, \"arrowwidth\": 1}, \"coloraxis\": {\"colorbar\": {\"outlinewidth\": 0, \"ticks\": \"\"}}, \"colorscale\": {\"diverging\": [[0, \"#8e0152\"], [0.1, \"#c51b7d\"], [0.2, \"#de77ae\"], [0.3, \"#f1b6da\"], [0.4, \"#fde0ef\"], [0.5, \"#f7f7f7\"], [0.6, \"#e6f5d0\"], [0.7, \"#b8e186\"], [0.8, \"#7fbc41\"], [0.9, \"#4d9221\"], [1, \"#276419\"]], \"sequential\": [[0.0, \"#0d0887\"], [0.1111111111111111, \"#46039f\"], [0.2222222222222222, \"#7201a8\"], [0.3333333333333333, \"#9c179e\"], [0.4444444444444444, \"#bd3786\"], [0.5555555555555556, \"#d8576b\"], [0.6666666666666666, \"#ed7953\"], [0.7777777777777778, \"#fb9f3a\"], [0.8888888888888888, \"#fdca26\"], [1.0, \"#f0f921\"]], \"sequentialminus\": [[0.0, \"#0d0887\"], [0.1111111111111111, \"#46039f\"], [0.2222222222222222, \"#7201a8\"], [0.3333333333333333, \"#9c179e\"], [0.4444444444444444, \"#bd3786\"], [0.5555555555555556, \"#d8576b\"], [0.6666666666666666, \"#ed7953\"], [0.7777777777777778, \"#fb9f3a\"], [0.8888888888888888, \"#fdca26\"], [1.0, \"#f0f921\"]]}, \"colorway\": [\"#636efa\", \"#EF553B\", \"#00cc96\", \"#ab63fa\", \"#FFA15A\", \"#19d3f3\", \"#FF6692\", \"#B6E880\", \"#FF97FF\", \"#FECB52\"], \"font\": {\"color\": \"#2a3f5f\"}, \"geo\": {\"bgcolor\": \"white\", \"lakecolor\": \"white\", \"landcolor\": \"#E5ECF6\", \"showlakes\": true, \"showland\": true, \"subunitcolor\": \"white\"}, \"hoverlabel\": {\"align\": \"left\"}, \"hovermode\": \"closest\", \"mapbox\": {\"style\": \"light\"}, \"paper_bgcolor\": \"white\", \"plot_bgcolor\": \"#E5ECF6\", \"polar\": {\"angularaxis\": {\"gridcolor\": \"white\", \"linecolor\": \"white\", \"ticks\": \"\"}, \"bgcolor\": \"#E5ECF6\", \"radialaxis\": {\"gridcolor\": \"white\", \"linecolor\": \"white\", \"ticks\": \"\"}}, \"scene\": {\"xaxis\": {\"backgroundcolor\": \"#E5ECF6\", \"gridcolor\": \"white\", \"gridwidth\": 2, \"linecolor\": \"white\", \"showbackground\": true, \"ticks\": \"\", \"zerolinecolor\": \"white\"}, \"yaxis\": {\"backgroundcolor\": \"#E5ECF6\", \"gridcolor\": \"white\", \"gridwidth\": 2, \"linecolor\": \"white\", \"showbackground\": true, \"ticks\": \"\", \"zerolinecolor\": \"white\"}, \"zaxis\": {\"backgroundcolor\": \"#E5ECF6\", \"gridcolor\": \"white\", \"gridwidth\": 2, \"linecolor\": \"white\", \"showbackground\": true, \"ticks\": \"\", \"zerolinecolor\": \"white\"}}, \"shapedefaults\": {\"line\": {\"color\": \"#2a3f5f\"}}, \"ternary\": {\"aaxis\": {\"gridcolor\": \"white\", \"linecolor\": \"white\", \"ticks\": \"\"}, \"baxis\": {\"gridcolor\": \"white\", \"linecolor\": \"white\", \"ticks\": \"\"}, \"bgcolor\": \"#E5ECF6\", \"caxis\": {\"gridcolor\": \"white\", \"linecolor\": \"white\", \"ticks\": \"\"}}, \"title\": {\"x\": 0.05}, \"xaxis\": {\"automargin\": true, \"gridcolor\": \"white\", \"linecolor\": \"white\", \"ticks\": \"\", \"title\": {\"standoff\": 15}, \"zerolinecolor\": \"white\", \"zerolinewidth\": 2}, \"yaxis\": {\"automargin\": true, \"gridcolor\": \"white\", \"linecolor\": \"white\", \"ticks\": \"\", \"title\": {\"standoff\": 15}, \"zerolinecolor\": \"white\", \"zerolinewidth\": 2}}}, \"title\": {\"font\": {\"color\": \"#4D5663\"}, \"text\": \"Intensive care cases\"}, \"xaxis\": {\"gridcolor\": \"#E1E5ED\", \"showgrid\": true, \"tickfont\": {\"color\": \"#4D5663\"}, \"title\": {\"font\": {\"color\": \"#4D5663\"}, \"text\": \"\"}, \"zerolinecolor\": \"#E1E5ED\"}, \"yaxis\": {\"gridcolor\": \"#E1E5ED\", \"showgrid\": true, \"tickfont\": {\"color\": \"#4D5663\"}, \"title\": {\"font\": {\"color\": \"#4D5663\"}, \"text\": \"case\"}, \"zerolinecolor\": \"#E1E5ED\"}},\n                        {\"responsive\": true}\n                    ).then(function(){\n                            \nvar gd = document.getElementById('2b5232e9-d81b-450a-9a37-92cb24335da1');\nvar x = new MutationObserver(function (mutations, observer) {{\n        var display = window.getComputedStyle(gd).display;\n        if (!display || display === 'none') {{\n            console.log([gd, 'removed!']);\n            Plotly.purge(gd);\n            observer.disconnect();\n        }}\n}});\n\n// Listen for the removal of the full notebook cells\nvar notebookContainer = gd.closest('#notebook-container');\nif (notebookContainer) {{\n    x.observe(notebookContainer, {childList: true});\n}}\n\n// Listen for the clearing of the current output cell\nvar outputEl = gd.closest('.output');\nif (outputEl) {{\n    x.observe(outputEl, {childList: true});\n}}\n\n                        })\n                };\n                });\n            </script>\n        </div>"
     },
     "metadata": {},
     "output_type": "display_data"
    }
   ],
   "source": [
    "# condition = df['intensive care'] >= 0\n",
    "# df = df[condition]\n",
    "\n",
    "fig = mpl.iplot_analysis_plot(df.drop(columns=['day']), title='Intensive care cases')\n",
    "fig.show()"
   ],
   "metadata": {
    "collapsed": false,
    "pycharm": {
     "name": "#%%\n",
     "is_executing": false
    }
   }
  }
 ],
 "metadata": {
  "kernelspec": {
   "display_name": "Python 3",
   "language": "python",
   "name": "python3"
  },
  "language_info": {
   "codemirror_mode": {
    "name": "ipython",
    "version": 2
   },
   "file_extension": ".py",
   "mimetype": "text/x-python",
   "name": "python",
   "nbconvert_exporter": "python",
   "pygments_lexer": "ipython2",
   "version": "2.7.6"
  },
  "pycharm": {
   "stem_cell": {
    "cell_type": "raw",
    "source": [],
    "metadata": {
     "collapsed": false
    }
   }
  }
 },
 "nbformat": 4,
 "nbformat_minor": 0
}