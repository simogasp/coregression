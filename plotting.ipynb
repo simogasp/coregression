{
 "cells": [
  {
   "cell_type": "code",
   "execution_count": 1,
   "metadata": {
    "collapsed": true,
    "pycharm": {
     "is_executing": false
    }
   },
   "outputs": [
    {
     "data": {
      "text/html": "        <script type=\"text/javascript\">\n        window.PlotlyConfig = {MathJaxConfig: 'local'};\n        if (window.MathJax) {MathJax.Hub.Config({SVG: {font: \"STIX-Web\"}});}\n        if (typeof require !== 'undefined') {\n        require.undef(\"plotly\");\n        requirejs.config({\n            paths: {\n                'plotly': ['https://cdn.plot.ly/plotly-latest.min']\n            }\n        });\n        require(['plotly'], function(Plotly) {\n            window._Plotly = Plotly;\n        });\n        }\n        </script>\n        "
     },
     "metadata": {},
     "output_type": "display_data"
    }
   ],
   "source": [
    "%load_ext autoreload\n",
    "%autoreload 2\n",
    "\n",
    "import pandas as pd\n",
    "import cufflinks as cf\n",
    "import mytools.date as dt\n",
    "import mytools.plot as mpl\n",
    "\n",
    "cf.go_offline()\n",
    "cf.set_config_file(offline=False, world_readable=True)"
   ]
  },
  {
   "cell_type": "markdown",
   "source": [
    "## Italian intensive care cases "
   ],
   "metadata": {
    "collapsed": false,
    "pycharm": {
     "name": "#%% md\n"
    }
   }
  },
  {
   "cell_type": "code",
   "execution_count": 2,
   "outputs": [
    {
     "data": {
      "text/plain": "          intensive care\n24/02/20              27\n25/02/20              35\n26/02/20              36\n27/02/20              56\n28/02/20              64\n29/02/20             105\n01/03/20             140\n02/03/20             166\n03/03/20             229\n04/03/20             295\n05/03/20             351\n06/03/20             462\n07/03/20             567\n08/03/20             650\n09/03/20             733\n10/03/20             877\n11/03/20            1028\n12/03/20            1153\n13/03/20            1328\n14/03/20            1518\n15/03/20            1672\n16/03/20            1851\n17/03/20            2060\n18/03/20            2257\n19/03/20            2498\n20/03/20            2655\n21/03/20            2857\n22/03/20            3009\n23/03/20            3204\n24/03/20            3396\n25/03/20            3489\n26/03/20            3612\n27/03/20            3732\n28/03/20            3856\n29/03/20            3906\n30/03/20            3981\n31/03/20            4023\n01/04/20            4035\n02/04/20            4053",
      "text/html": "<div>\n<style scoped>\n    .dataframe tbody tr th:only-of-type {\n        vertical-align: middle;\n    }\n\n    .dataframe tbody tr th {\n        vertical-align: top;\n    }\n\n    .dataframe thead th {\n        text-align: right;\n    }\n</style>\n<table border=\"1\" class=\"dataframe\">\n  <thead>\n    <tr style=\"text-align: right;\">\n      <th></th>\n      <th>intensive care</th>\n    </tr>\n  </thead>\n  <tbody>\n    <tr>\n      <th>24/02/20</th>\n      <td>27</td>\n    </tr>\n    <tr>\n      <th>25/02/20</th>\n      <td>35</td>\n    </tr>\n    <tr>\n      <th>26/02/20</th>\n      <td>36</td>\n    </tr>\n    <tr>\n      <th>27/02/20</th>\n      <td>56</td>\n    </tr>\n    <tr>\n      <th>28/02/20</th>\n      <td>64</td>\n    </tr>\n    <tr>\n      <th>29/02/20</th>\n      <td>105</td>\n    </tr>\n    <tr>\n      <th>01/03/20</th>\n      <td>140</td>\n    </tr>\n    <tr>\n      <th>02/03/20</th>\n      <td>166</td>\n    </tr>\n    <tr>\n      <th>03/03/20</th>\n      <td>229</td>\n    </tr>\n    <tr>\n      <th>04/03/20</th>\n      <td>295</td>\n    </tr>\n    <tr>\n      <th>05/03/20</th>\n      <td>351</td>\n    </tr>\n    <tr>\n      <th>06/03/20</th>\n      <td>462</td>\n    </tr>\n    <tr>\n      <th>07/03/20</th>\n      <td>567</td>\n    </tr>\n    <tr>\n      <th>08/03/20</th>\n      <td>650</td>\n    </tr>\n    <tr>\n      <th>09/03/20</th>\n      <td>733</td>\n    </tr>\n    <tr>\n      <th>10/03/20</th>\n      <td>877</td>\n    </tr>\n    <tr>\n      <th>11/03/20</th>\n      <td>1028</td>\n    </tr>\n    <tr>\n      <th>12/03/20</th>\n      <td>1153</td>\n    </tr>\n    <tr>\n      <th>13/03/20</th>\n      <td>1328</td>\n    </tr>\n    <tr>\n      <th>14/03/20</th>\n      <td>1518</td>\n    </tr>\n    <tr>\n      <th>15/03/20</th>\n      <td>1672</td>\n    </tr>\n    <tr>\n      <th>16/03/20</th>\n      <td>1851</td>\n    </tr>\n    <tr>\n      <th>17/03/20</th>\n      <td>2060</td>\n    </tr>\n    <tr>\n      <th>18/03/20</th>\n      <td>2257</td>\n    </tr>\n    <tr>\n      <th>19/03/20</th>\n      <td>2498</td>\n    </tr>\n    <tr>\n      <th>20/03/20</th>\n      <td>2655</td>\n    </tr>\n    <tr>\n      <th>21/03/20</th>\n      <td>2857</td>\n    </tr>\n    <tr>\n      <th>22/03/20</th>\n      <td>3009</td>\n    </tr>\n    <tr>\n      <th>23/03/20</th>\n      <td>3204</td>\n    </tr>\n    <tr>\n      <th>24/03/20</th>\n      <td>3396</td>\n    </tr>\n    <tr>\n      <th>25/03/20</th>\n      <td>3489</td>\n    </tr>\n    <tr>\n      <th>26/03/20</th>\n      <td>3612</td>\n    </tr>\n    <tr>\n      <th>27/03/20</th>\n      <td>3732</td>\n    </tr>\n    <tr>\n      <th>28/03/20</th>\n      <td>3856</td>\n    </tr>\n    <tr>\n      <th>29/03/20</th>\n      <td>3906</td>\n    </tr>\n    <tr>\n      <th>30/03/20</th>\n      <td>3981</td>\n    </tr>\n    <tr>\n      <th>31/03/20</th>\n      <td>4023</td>\n    </tr>\n    <tr>\n      <th>01/04/20</th>\n      <td>4035</td>\n    </tr>\n    <tr>\n      <th>02/04/20</th>\n      <td>4053</td>\n    </tr>\n  </tbody>\n</table>\n</div>"
     },
     "metadata": {},
     "output_type": "execute_result",
     "execution_count": 2
    }
   ],
   "source": [
    "# loading the data\n",
    "df = pd.read_csv('italy-intensive_care.csv')\n",
    "a = list((dt.day_of_year_to_date(v)).strftime(\"%d/%m/%y\") for v in df['day'])\n",
    "df.index = a\n",
    "df.drop(columns=['day'])\n",
    "# display the table\n"
   ],
   "metadata": {
    "collapsed": false,
    "pycharm": {
     "name": "#%%\n",
     "is_executing": false
    }
   }
  },
  {
   "cell_type": "markdown",
   "source": [
    "## Fitting intensive care data with exponential and logistic models\n",
    "\n",
    "The exponential model is:\n",
    "\n",
    "$$y = e^{k(x-x_0)} + y_0$$\n",
    "\n",
    "where $k, x_0, y_0$ are the parameters to estimate.\n",
    "\n",
    "For the logistic model:\n",
    "\n",
    "$$y = \\frac{c}{1+e^{-k(x-x_0)}} + y_0$$\n",
    "\n",
    "where $c, k, x_0, y_0$ are the parameters to estimate."
   ],
   "metadata": {
    "collapsed": false
   }
  },
  {
   "cell_type": "code",
   "execution_count": 3,
   "outputs": [
    {
     "name": "stdout",
     "text": [
      "[0.65       0.55923994 1.        ]\n",
      "`ftol` termination condition is satisfied.\n",
      "Function evaluations 14, initial cost 1.5458e+01, final cost 3.1784e-02, first-order optimality 2.24e-07.\n",
      "            Exponential model\n",
      "            x0 = -350.81595468302237\n",
      "            y0 = -4559.223467748227\n",
      "            k = 0.020550345340093763\n",
      "            \n",
      "`ftol` termination condition is satisfied.\n",
      "Function evaluations 18, initial cost 4.4436e+00, final cost 3.5151e-04, first-order optimality 1.44e-08.\n",
      "        Sigmoid model\n",
      "        x0 = 77.30899926307048\n",
      "        y0 = -65.66625013578133\n",
      "        c = 4425.824537056226\n",
      "        k = 0.18168941537569644\n",
      "        asymptot = 4360.158286920445\n",
      "        flex = 77.30899926307048, 2147.2460183923317\n",
      "        \n",
      "`ftol` termination condition is satisfied.\n",
      "Function evaluations 30, initial cost 1.9795e+00, final cost 1.2824e-03, first-order optimality 5.18e-08.\n",
      "        Sigmoid derivative model\n",
      "        x0 = 90.9042090056176\n",
      "        y0 = -306.1975251181727\n",
      "        c = 145239.78503075297\n",
      "        k = 0.11924720832904574\n",
      "        max = 90.9042090056176, 72313.69499025831\n",
      "        \n"
     ],
     "output_type": "stream"
    },
    {
     "data": {
      "application/vnd.plotly.v1+json": {
       "config": {
        "plotlyServerURL": "https://plot.ly"
       },
       "data": [
        {
         "line": {
          "color": "rgba(255, 153, 51, 1.0)",
          "dash": "solid",
          "shape": "linear",
          "width": 1.3
         },
         "marker": {
          "size": 4,
          "symbol": "circle"
         },
         "mode": "lines+markers",
         "name": "exp",
         "text": "",
         "type": "scatter",
         "x": [
          "20 Feb",
          "21 Feb",
          "22 Feb",
          "23 Feb",
          "24 Feb",
          "25 Feb",
          "26 Feb",
          "27 Feb",
          "28 Feb",
          "29 Feb",
          "01 Mar",
          "02 Mar",
          "03 Mar",
          "04 Mar",
          "05 Mar",
          "06 Mar",
          "07 Mar",
          "08 Mar",
          "09 Mar",
          "10 Mar",
          "11 Mar",
          "12 Mar",
          "13 Mar",
          "14 Mar",
          "15 Mar",
          "16 Mar",
          "17 Mar",
          "18 Mar",
          "19 Mar",
          "20 Mar",
          "21 Mar",
          "22 Mar",
          "23 Mar",
          "24 Mar",
          "25 Mar",
          "26 Mar",
          "27 Mar",
          "28 Mar",
          "29 Mar",
          "30 Mar",
          "31 Mar",
          "01 Apr",
          "02 Apr",
          "03 Apr",
          "04 Apr",
          "05 Apr",
          "06 Apr",
          "07 Apr",
          "08 Apr",
          "09 Apr",
          "10 Apr",
          "11 Apr",
          "12 Apr",
          "13 Apr",
          "14 Apr",
          "15 Apr",
          "16 Apr",
          "17 Apr",
          "18 Apr",
          "19 Apr",
          "20 Apr",
          "21 Apr"
         ],
         "y": [
          -702.9497739426974,
          -622.882126714017,
          -541.1520383201755,
          -457.7249915657212,
          -372.56575257615805,
          -285.6383559175465,
          -196.90608940714537,
          -106.33147860874215,
          -13.876271005993658,
          80.4985801528419,
          176.83293234553366,
          275.1674706089716,
          375.54372472176783,
          478.00408674354094,
          582.5918289184456,
          689.3511219504362,
          798.3270536578921,
          909.565648015654,
          1023.1138845924306,
          1139.0197183916953,
          1257.3321001046234,
          1378.1009967835498,
          1501.3774129445646,
          1627.2134121083654,
          1755.6621387883542,
          1886.7778409351795,
          2020.6158928473887,
          2157.232818557778,
          2296.686315705204,
          2439.035279902154,
          2584.339829608256,
          2732.6613315201303,
          2884.062426488518,
          3038.607055973527,
          3196.3604890490515,
          3357.389349967999,
          3521.7616462998576,
          3689.546797652357,
          3860.8156649895964,
          4035.6405805589156,
          4214.095378438994,
          4396.255425722354,
          4582.197654345314,
          4772.000593578662,
          4965.744403193173,
          5163.510907313487,
          "",
          "",
          "",
          "",
          "",
          "",
          "",
          "",
          "",
          "",
          "",
          "",
          "",
          "",
          "",
          ""
         ]
        },
        {
         "line": {
          "color": "rgba(55, 128, 191, 1.0)",
          "dash": "solid",
          "shape": "linear",
          "width": 1.3
         },
         "marker": {
          "size": 4,
          "symbol": "circle"
         },
         "mode": "lines+markers",
         "name": "sigm",
         "text": "",
         "type": "scatter",
         "x": [
          "20 Feb",
          "21 Feb",
          "22 Feb",
          "23 Feb",
          "24 Feb",
          "25 Feb",
          "26 Feb",
          "27 Feb",
          "28 Feb",
          "29 Feb",
          "01 Mar",
          "02 Mar",
          "03 Mar",
          "04 Mar",
          "05 Mar",
          "06 Mar",
          "07 Mar",
          "08 Mar",
          "09 Mar",
          "10 Mar",
          "11 Mar",
          "12 Mar",
          "13 Mar",
          "14 Mar",
          "15 Mar",
          "16 Mar",
          "17 Mar",
          "18 Mar",
          "19 Mar",
          "20 Mar",
          "21 Mar",
          "22 Mar",
          "23 Mar",
          "24 Mar",
          "25 Mar",
          "26 Mar",
          "27 Mar",
          "28 Mar",
          "29 Mar",
          "30 Mar",
          "31 Mar",
          "01 Apr",
          "02 Apr",
          "03 Apr",
          "04 Apr",
          "05 Apr",
          "06 Apr",
          "07 Apr",
          "08 Apr",
          "09 Apr",
          "10 Apr",
          "11 Apr",
          "12 Apr",
          "13 Apr",
          "14 Apr",
          "15 Apr",
          "16 Apr",
          "17 Apr",
          "18 Apr",
          "19 Apr",
          "20 Apr",
          "21 Apr"
         ],
         "y": [
          -28.818860167477276,
          -21.55050363343141,
          -12.865670666617035,
          -2.4957497551635655,
          9.875619649284658,
          24.619668805890953,
          42.170086418732595,
          63.03080883261944,
          87.78358633535711,
          117.094675304921,
          151.719718322174,
          192.50552133153806,
          240.38703143367925,
          296.37739727405665,
          361.54862811842634,
          437.0001773322176,
          523.8129359767379,
          622.9868552504261,
          735.3619576868967,
          861.525017271118,
          1001.7076719844766,
          1155.68582732969,
          1322.6941139859994,
          1501.3716407776146,
          1689.7549172827994,
          1885.329524495621,
          2085.143784649431,
          2285.9766650165684,
          2484.5411402751406,
          2677.6964706810354,
          2862.6408366028504,
          3037.060180128457,
          3199.2184756122247,
          3347.9860416134893,
          3482.812750772777,
          3603.659856085803,
          3710.906867667295,
          3805.2490341023863,
          3887.597793232563,
          3958.9924548829563,
          4020.527448026218,
          4073.2963294569627,
          4118.351616250392,
          4156.678297719051,
          4189.178396738098,
          4216.663948254029,
          4239.856037805747,
          4259.387941340677,
          4275.810829335773,
          4289.6008864630585,
          4301.167026690709,
          4310.858646031372,
          4318.973055121439,
          4325.762380365464,
          4331.4398258611245,
          4336.185258600186,
          4340.15012503463,
          4343.461734906368,
          4346.226963617175,
          4348.535431376028,
          4350.462218829116,
          4352.070176931701
         ]
        },
        {
         "line": {
          "color": "rgba(50, 171, 96, 1.0)",
          "dash": "solid",
          "shape": "linear",
          "width": 1.3
         },
         "marker": {
          "size": 4,
          "symbol": "circle"
         },
         "mode": "lines+markers",
         "name": "log",
         "text": "",
         "type": "scatter",
         "x": [
          "20 Feb",
          "21 Feb",
          "22 Feb",
          "23 Feb",
          "24 Feb",
          "25 Feb",
          "26 Feb",
          "27 Feb",
          "28 Feb",
          "29 Feb",
          "01 Mar",
          "02 Mar",
          "03 Mar",
          "04 Mar",
          "05 Mar",
          "06 Mar",
          "07 Mar",
          "08 Mar",
          "09 Mar",
          "10 Mar",
          "11 Mar",
          "12 Mar",
          "13 Mar",
          "14 Mar",
          "15 Mar",
          "16 Mar",
          "17 Mar",
          "18 Mar",
          "19 Mar",
          "20 Mar",
          "21 Mar",
          "22 Mar",
          "23 Mar",
          "24 Mar",
          "25 Mar",
          "26 Mar",
          "27 Mar",
          "28 Mar",
          "29 Mar",
          "30 Mar",
          "31 Mar",
          "01 Apr",
          "02 Apr",
          "03 Apr",
          "04 Apr",
          "05 Apr",
          "06 Apr",
          "07 Apr",
          "08 Apr",
          "09 Apr",
          "10 Apr",
          "11 Apr",
          "12 Apr",
          "13 Apr",
          "14 Apr",
          "15 Apr",
          "16 Apr",
          "17 Apr",
          "18 Apr",
          "19 Apr",
          "20 Apr",
          "21 Apr"
         ],
         "y": [
          -160.13498137816165,
          -141.9903671101126,
          -121.64156485738289,
          -98.8340296061522,
          -73.28733373018127,
          -44.693486752189926,
          -12.715425921624671,
          23.014216194381902,
          62.89393198084048,
          107.35357771783555,
          156.85382268922785,
          211.884555639741,
          272.9619473339557,
          340.6238171718284,
          415.42290161359307,
          497.91757714752436,
          588.6595573382408,
          688.1780712448863,
          796.960051133339,
          915.4259257680967,
          1043.900749076905,
          1182.5806116143306,
          1331.494602552761,
          1490.463027732626,
          1659.0531509690331,
          1836.5344030122499,
          2021.8357650498576,
          2213.5088220951347,
          2409.700702405142,
          2608.1416436804802,
          2806.15209894235,
          3000.6739484817376,
          3188.3293729336847,
          3365.5091803774912,
          3528.4898861130982,
          3673.5757784632706,
          3797.258887441579,
          3896.386665300433,
          3968.324826936438,
          4011.1016992375157,
          4023.5209631322955,
          4005.2319579383743,
          3956.7505551600575,
          3879.4284918076714,
          3775.374257786672,
          3647.3333657197877,
          3498.539402392669,
          3332.5492166962745,
          3153.075802479883,
          2963.831059141508,
          2768.3880664268167,
          2570.0693216375107,
          2371.8640871715975,
          2176.375020524577,
          1985.79189719504,
          1801.8886210020357,
          1626.0388414789666,
          1459.2452633145067,
          1302.1779853867647,
          1155.2177805565723,
          1018.5009700695139,
          891.9633360481803
         ]
        },
        {
         "line": {
          "color": "rgba(128, 0, 128, 1.0)",
          "dash": "solid",
          "shape": "linear",
          "width": 1.3
         },
         "marker": {
          "size": 8,
          "symbol": "circle"
         },
         "mode": "markers",
         "name": "intensive care",
         "text": "",
         "type": "scatter",
         "x": [
          "20 Feb",
          "21 Feb",
          "22 Feb",
          "23 Feb",
          "24 Feb",
          "25 Feb",
          "26 Feb",
          "27 Feb",
          "28 Feb",
          "29 Feb",
          "01 Mar",
          "02 Mar",
          "03 Mar",
          "04 Mar",
          "05 Mar",
          "06 Mar",
          "07 Mar",
          "08 Mar",
          "09 Mar",
          "10 Mar",
          "11 Mar",
          "12 Mar",
          "13 Mar",
          "14 Mar",
          "15 Mar",
          "16 Mar",
          "17 Mar",
          "18 Mar",
          "19 Mar",
          "20 Mar",
          "21 Mar",
          "22 Mar",
          "23 Mar",
          "24 Mar",
          "25 Mar",
          "26 Mar",
          "27 Mar",
          "28 Mar",
          "29 Mar",
          "30 Mar",
          "31 Mar",
          "01 Apr",
          "02 Apr",
          "03 Apr",
          "04 Apr",
          "05 Apr",
          "06 Apr",
          "07 Apr",
          "08 Apr",
          "09 Apr",
          "10 Apr",
          "11 Apr",
          "12 Apr",
          "13 Apr",
          "14 Apr",
          "15 Apr",
          "16 Apr",
          "17 Apr",
          "18 Apr",
          "19 Apr",
          "20 Apr",
          "21 Apr"
         ],
         "y": [
          "",
          "",
          "",
          "",
          27.0,
          35.0,
          36.0,
          56.0,
          64.0,
          105.0,
          140.0,
          166.0,
          229.0,
          295.0,
          351.0,
          462.0,
          567.0,
          650.0,
          733.0,
          877.0,
          1028.0,
          1153.0,
          1328.0,
          1518.0,
          1672.0,
          1851.0,
          2060.0,
          2257.0,
          2498.0,
          2655.0,
          2857.0,
          3009.0,
          3204.0,
          3396.0,
          3489.0,
          3612.0,
          3732.0,
          3856.0,
          3906.0,
          3981.0,
          4023.0,
          4035.0,
          4053.0,
          "",
          "",
          "",
          "",
          "",
          "",
          "",
          "",
          "",
          "",
          "",
          "",
          "",
          "",
          "",
          "",
          "",
          "",
          ""
         ]
        },
        {
         "marker": {
          "color": "rgba(255, 0, 0, 125)",
          "size": 8
         },
         "mode": "markers",
         "name": "flex",
         "type": "scatter",
         "x": [
          "17 Mar"
         ],
         "y": [
          2147.2460183923317
         ]
        },
        {
         "marker": {
          "color": "rgba(255, 0, 0, 125)",
          "size": 8
         },
         "mode": "markers",
         "name": "peak",
         "type": "scatter",
         "x": [
          "31 Mar"
         ],
         "y": [
          4023.6622006888324
         ]
        }
       ],
       "layout": {
        "legend": {
         "bgcolor": "#FFFFFF",
         "font": {
          "color": "#4D5663"
         }
        },
        "paper_bgcolor": "#FFFFFF",
        "plot_bgcolor": "#FFFFFF",
        "template": {
         "data": {
          "bar": [
           {
            "error_x": {
             "color": "#2a3f5f"
            },
            "error_y": {
             "color": "#2a3f5f"
            },
            "marker": {
             "line": {
              "color": "#E5ECF6",
              "width": 0.5
             }
            },
            "type": "bar"
           }
          ],
          "barpolar": [
           {
            "marker": {
             "line": {
              "color": "#E5ECF6",
              "width": 0.5
             }
            },
            "type": "barpolar"
           }
          ],
          "carpet": [
           {
            "aaxis": {
             "endlinecolor": "#2a3f5f",
             "gridcolor": "white",
             "linecolor": "white",
             "minorgridcolor": "white",
             "startlinecolor": "#2a3f5f"
            },
            "baxis": {
             "endlinecolor": "#2a3f5f",
             "gridcolor": "white",
             "linecolor": "white",
             "minorgridcolor": "white",
             "startlinecolor": "#2a3f5f"
            },
            "type": "carpet"
           }
          ],
          "choropleth": [
           {
            "colorbar": {
             "outlinewidth": 0,
             "ticks": ""
            },
            "type": "choropleth"
           }
          ],
          "contour": [
           {
            "colorbar": {
             "outlinewidth": 0,
             "ticks": ""
            },
            "colorscale": [
             [
              0.0,
              "#0d0887"
             ],
             [
              0.1111111111111111,
              "#46039f"
             ],
             [
              0.2222222222222222,
              "#7201a8"
             ],
             [
              0.3333333333333333,
              "#9c179e"
             ],
             [
              0.4444444444444444,
              "#bd3786"
             ],
             [
              0.5555555555555556,
              "#d8576b"
             ],
             [
              0.6666666666666666,
              "#ed7953"
             ],
             [
              0.7777777777777778,
              "#fb9f3a"
             ],
             [
              0.8888888888888888,
              "#fdca26"
             ],
             [
              1.0,
              "#f0f921"
             ]
            ],
            "type": "contour"
           }
          ],
          "contourcarpet": [
           {
            "colorbar": {
             "outlinewidth": 0,
             "ticks": ""
            },
            "type": "contourcarpet"
           }
          ],
          "heatmap": [
           {
            "colorbar": {
             "outlinewidth": 0,
             "ticks": ""
            },
            "colorscale": [
             [
              0.0,
              "#0d0887"
             ],
             [
              0.1111111111111111,
              "#46039f"
             ],
             [
              0.2222222222222222,
              "#7201a8"
             ],
             [
              0.3333333333333333,
              "#9c179e"
             ],
             [
              0.4444444444444444,
              "#bd3786"
             ],
             [
              0.5555555555555556,
              "#d8576b"
             ],
             [
              0.6666666666666666,
              "#ed7953"
             ],
             [
              0.7777777777777778,
              "#fb9f3a"
             ],
             [
              0.8888888888888888,
              "#fdca26"
             ],
             [
              1.0,
              "#f0f921"
             ]
            ],
            "type": "heatmap"
           }
          ],
          "heatmapgl": [
           {
            "colorbar": {
             "outlinewidth": 0,
             "ticks": ""
            },
            "colorscale": [
             [
              0.0,
              "#0d0887"
             ],
             [
              0.1111111111111111,
              "#46039f"
             ],
             [
              0.2222222222222222,
              "#7201a8"
             ],
             [
              0.3333333333333333,
              "#9c179e"
             ],
             [
              0.4444444444444444,
              "#bd3786"
             ],
             [
              0.5555555555555556,
              "#d8576b"
             ],
             [
              0.6666666666666666,
              "#ed7953"
             ],
             [
              0.7777777777777778,
              "#fb9f3a"
             ],
             [
              0.8888888888888888,
              "#fdca26"
             ],
             [
              1.0,
              "#f0f921"
             ]
            ],
            "type": "heatmapgl"
           }
          ],
          "histogram": [
           {
            "marker": {
             "colorbar": {
              "outlinewidth": 0,
              "ticks": ""
             }
            },
            "type": "histogram"
           }
          ],
          "histogram2d": [
           {
            "colorbar": {
             "outlinewidth": 0,
             "ticks": ""
            },
            "colorscale": [
             [
              0.0,
              "#0d0887"
             ],
             [
              0.1111111111111111,
              "#46039f"
             ],
             [
              0.2222222222222222,
              "#7201a8"
             ],
             [
              0.3333333333333333,
              "#9c179e"
             ],
             [
              0.4444444444444444,
              "#bd3786"
             ],
             [
              0.5555555555555556,
              "#d8576b"
             ],
             [
              0.6666666666666666,
              "#ed7953"
             ],
             [
              0.7777777777777778,
              "#fb9f3a"
             ],
             [
              0.8888888888888888,
              "#fdca26"
             ],
             [
              1.0,
              "#f0f921"
             ]
            ],
            "type": "histogram2d"
           }
          ],
          "histogram2dcontour": [
           {
            "colorbar": {
             "outlinewidth": 0,
             "ticks": ""
            },
            "colorscale": [
             [
              0.0,
              "#0d0887"
             ],
             [
              0.1111111111111111,
              "#46039f"
             ],
             [
              0.2222222222222222,
              "#7201a8"
             ],
             [
              0.3333333333333333,
              "#9c179e"
             ],
             [
              0.4444444444444444,
              "#bd3786"
             ],
             [
              0.5555555555555556,
              "#d8576b"
             ],
             [
              0.6666666666666666,
              "#ed7953"
             ],
             [
              0.7777777777777778,
              "#fb9f3a"
             ],
             [
              0.8888888888888888,
              "#fdca26"
             ],
             [
              1.0,
              "#f0f921"
             ]
            ],
            "type": "histogram2dcontour"
           }
          ],
          "mesh3d": [
           {
            "colorbar": {
             "outlinewidth": 0,
             "ticks": ""
            },
            "type": "mesh3d"
           }
          ],
          "parcoords": [
           {
            "line": {
             "colorbar": {
              "outlinewidth": 0,
              "ticks": ""
             }
            },
            "type": "parcoords"
           }
          ],
          "pie": [
           {
            "automargin": true,
            "type": "pie"
           }
          ],
          "scatter": [
           {
            "marker": {
             "colorbar": {
              "outlinewidth": 0,
              "ticks": ""
             }
            },
            "type": "scatter"
           }
          ],
          "scatter3d": [
           {
            "line": {
             "colorbar": {
              "outlinewidth": 0,
              "ticks": ""
             }
            },
            "marker": {
             "colorbar": {
              "outlinewidth": 0,
              "ticks": ""
             }
            },
            "type": "scatter3d"
           }
          ],
          "scattercarpet": [
           {
            "marker": {
             "colorbar": {
              "outlinewidth": 0,
              "ticks": ""
             }
            },
            "type": "scattercarpet"
           }
          ],
          "scattergeo": [
           {
            "marker": {
             "colorbar": {
              "outlinewidth": 0,
              "ticks": ""
             }
            },
            "type": "scattergeo"
           }
          ],
          "scattergl": [
           {
            "marker": {
             "colorbar": {
              "outlinewidth": 0,
              "ticks": ""
             }
            },
            "type": "scattergl"
           }
          ],
          "scattermapbox": [
           {
            "marker": {
             "colorbar": {
              "outlinewidth": 0,
              "ticks": ""
             }
            },
            "type": "scattermapbox"
           }
          ],
          "scatterpolar": [
           {
            "marker": {
             "colorbar": {
              "outlinewidth": 0,
              "ticks": ""
             }
            },
            "type": "scatterpolar"
           }
          ],
          "scatterpolargl": [
           {
            "marker": {
             "colorbar": {
              "outlinewidth": 0,
              "ticks": ""
             }
            },
            "type": "scatterpolargl"
           }
          ],
          "scatterternary": [
           {
            "marker": {
             "colorbar": {
              "outlinewidth": 0,
              "ticks": ""
             }
            },
            "type": "scatterternary"
           }
          ],
          "surface": [
           {
            "colorbar": {
             "outlinewidth": 0,
             "ticks": ""
            },
            "colorscale": [
             [
              0.0,
              "#0d0887"
             ],
             [
              0.1111111111111111,
              "#46039f"
             ],
             [
              0.2222222222222222,
              "#7201a8"
             ],
             [
              0.3333333333333333,
              "#9c179e"
             ],
             [
              0.4444444444444444,
              "#bd3786"
             ],
             [
              0.5555555555555556,
              "#d8576b"
             ],
             [
              0.6666666666666666,
              "#ed7953"
             ],
             [
              0.7777777777777778,
              "#fb9f3a"
             ],
             [
              0.8888888888888888,
              "#fdca26"
             ],
             [
              1.0,
              "#f0f921"
             ]
            ],
            "type": "surface"
           }
          ],
          "table": [
           {
            "cells": {
             "fill": {
              "color": "#EBF0F8"
             },
             "line": {
              "color": "white"
             }
            },
            "header": {
             "fill": {
              "color": "#C8D4E3"
             },
             "line": {
              "color": "white"
             }
            },
            "type": "table"
           }
          ]
         },
         "layout": {
          "annotationdefaults": {
           "arrowcolor": "#2a3f5f",
           "arrowhead": 0,
           "arrowwidth": 1
          },
          "coloraxis": {
           "colorbar": {
            "outlinewidth": 0,
            "ticks": ""
           }
          },
          "colorscale": {
           "diverging": [
            [
             0,
             "#8e0152"
            ],
            [
             0.1,
             "#c51b7d"
            ],
            [
             0.2,
             "#de77ae"
            ],
            [
             0.3,
             "#f1b6da"
            ],
            [
             0.4,
             "#fde0ef"
            ],
            [
             0.5,
             "#f7f7f7"
            ],
            [
             0.6,
             "#e6f5d0"
            ],
            [
             0.7,
             "#b8e186"
            ],
            [
             0.8,
             "#7fbc41"
            ],
            [
             0.9,
             "#4d9221"
            ],
            [
             1,
             "#276419"
            ]
           ],
           "sequential": [
            [
             0.0,
             "#0d0887"
            ],
            [
             0.1111111111111111,
             "#46039f"
            ],
            [
             0.2222222222222222,
             "#7201a8"
            ],
            [
             0.3333333333333333,
             "#9c179e"
            ],
            [
             0.4444444444444444,
             "#bd3786"
            ],
            [
             0.5555555555555556,
             "#d8576b"
            ],
            [
             0.6666666666666666,
             "#ed7953"
            ],
            [
             0.7777777777777778,
             "#fb9f3a"
            ],
            [
             0.8888888888888888,
             "#fdca26"
            ],
            [
             1.0,
             "#f0f921"
            ]
           ],
           "sequentialminus": [
            [
             0.0,
             "#0d0887"
            ],
            [
             0.1111111111111111,
             "#46039f"
            ],
            [
             0.2222222222222222,
             "#7201a8"
            ],
            [
             0.3333333333333333,
             "#9c179e"
            ],
            [
             0.4444444444444444,
             "#bd3786"
            ],
            [
             0.5555555555555556,
             "#d8576b"
            ],
            [
             0.6666666666666666,
             "#ed7953"
            ],
            [
             0.7777777777777778,
             "#fb9f3a"
            ],
            [
             0.8888888888888888,
             "#fdca26"
            ],
            [
             1.0,
             "#f0f921"
            ]
           ]
          },
          "colorway": [
           "#636efa",
           "#EF553B",
           "#00cc96",
           "#ab63fa",
           "#FFA15A",
           "#19d3f3",
           "#FF6692",
           "#B6E880",
           "#FF97FF",
           "#FECB52"
          ],
          "font": {
           "color": "#2a3f5f"
          },
          "geo": {
           "bgcolor": "white",
           "lakecolor": "white",
           "landcolor": "#E5ECF6",
           "showlakes": true,
           "showland": true,
           "subunitcolor": "white"
          },
          "hoverlabel": {
           "align": "left"
          },
          "hovermode": "closest",
          "mapbox": {
           "style": "light"
          },
          "paper_bgcolor": "white",
          "plot_bgcolor": "#E5ECF6",
          "polar": {
           "angularaxis": {
            "gridcolor": "white",
            "linecolor": "white",
            "ticks": ""
           },
           "bgcolor": "#E5ECF6",
           "radialaxis": {
            "gridcolor": "white",
            "linecolor": "white",
            "ticks": ""
           }
          },
          "scene": {
           "xaxis": {
            "backgroundcolor": "#E5ECF6",
            "gridcolor": "white",
            "gridwidth": 2,
            "linecolor": "white",
            "showbackground": true,
            "ticks": "",
            "zerolinecolor": "white"
           },
           "yaxis": {
            "backgroundcolor": "#E5ECF6",
            "gridcolor": "white",
            "gridwidth": 2,
            "linecolor": "white",
            "showbackground": true,
            "ticks": "",
            "zerolinecolor": "white"
           },
           "zaxis": {
            "backgroundcolor": "#E5ECF6",
            "gridcolor": "white",
            "gridwidth": 2,
            "linecolor": "white",
            "showbackground": true,
            "ticks": "",
            "zerolinecolor": "white"
           }
          },
          "shapedefaults": {
           "line": {
            "color": "#2a3f5f"
           }
          },
          "ternary": {
           "aaxis": {
            "gridcolor": "white",
            "linecolor": "white",
            "ticks": ""
           },
           "baxis": {
            "gridcolor": "white",
            "linecolor": "white",
            "ticks": ""
           },
           "bgcolor": "#E5ECF6",
           "caxis": {
            "gridcolor": "white",
            "linecolor": "white",
            "ticks": ""
           }
          },
          "title": {
           "x": 0.05
          },
          "xaxis": {
           "automargin": true,
           "gridcolor": "white",
           "linecolor": "white",
           "ticks": "",
           "title": {
            "standoff": 15
           },
           "zerolinecolor": "white",
           "zerolinewidth": 2
          },
          "yaxis": {
           "automargin": true,
           "gridcolor": "white",
           "linecolor": "white",
           "ticks": "",
           "title": {
            "standoff": 15
           },
           "zerolinecolor": "white",
           "zerolinewidth": 2
          }
         }
        },
        "title": {
         "font": {
          "color": "#4D5663"
         },
         "text": "Intensive care cases"
        },
        "xaxis": {
         "gridcolor": "#E1E5ED",
         "showgrid": true,
         "tickfont": {
          "color": "#4D5663"
         },
         "title": {
          "font": {
           "color": "#4D5663"
          },
          "text": ""
         },
         "zerolinecolor": "#E1E5ED"
        },
        "yaxis": {
         "gridcolor": "#E1E5ED",
         "showgrid": true,
         "tickfont": {
          "color": "#4D5663"
         },
         "title": {
          "font": {
           "color": "#4D5663"
          },
          "text": "case"
         },
         "zerolinecolor": "#E1E5ED"
        }
       }
      },
      "text/html": "<div>\n        \n        \n            <div id=\"4c460e62-cf83-445b-8f99-8d23ec13fbdd\" class=\"plotly-graph-div\" style=\"height:525px; width:100%;\"></div>\n            <script type=\"text/javascript\">\n                require([\"plotly\"], function(Plotly) {\n                    window.PLOTLYENV=window.PLOTLYENV || {};\n                    \n                if (document.getElementById(\"4c460e62-cf83-445b-8f99-8d23ec13fbdd\")) {\n                    Plotly.newPlot(\n                        '4c460e62-cf83-445b-8f99-8d23ec13fbdd',\n                        [{\"line\": {\"color\": \"rgba(255, 153, 51, 1.0)\", \"dash\": \"solid\", \"shape\": \"linear\", \"width\": 1.3}, \"marker\": {\"size\": 4, \"symbol\": \"circle\"}, \"mode\": \"lines+markers\", \"name\": \"exp\", \"text\": \"\", \"type\": \"scatter\", \"x\": [\"20 Feb\", \"21 Feb\", \"22 Feb\", \"23 Feb\", \"24 Feb\", \"25 Feb\", \"26 Feb\", \"27 Feb\", \"28 Feb\", \"29 Feb\", \"01 Mar\", \"02 Mar\", \"03 Mar\", \"04 Mar\", \"05 Mar\", \"06 Mar\", \"07 Mar\", \"08 Mar\", \"09 Mar\", \"10 Mar\", \"11 Mar\", \"12 Mar\", \"13 Mar\", \"14 Mar\", \"15 Mar\", \"16 Mar\", \"17 Mar\", \"18 Mar\", \"19 Mar\", \"20 Mar\", \"21 Mar\", \"22 Mar\", \"23 Mar\", \"24 Mar\", \"25 Mar\", \"26 Mar\", \"27 Mar\", \"28 Mar\", \"29 Mar\", \"30 Mar\", \"31 Mar\", \"01 Apr\", \"02 Apr\", \"03 Apr\", \"04 Apr\", \"05 Apr\", \"06 Apr\", \"07 Apr\", \"08 Apr\", \"09 Apr\", \"10 Apr\", \"11 Apr\", \"12 Apr\", \"13 Apr\", \"14 Apr\", \"15 Apr\", \"16 Apr\", \"17 Apr\", \"18 Apr\", \"19 Apr\", \"20 Apr\", \"21 Apr\"], \"y\": [-702.9497739426974, -622.882126714017, -541.1520383201755, -457.7249915657212, -372.56575257615805, -285.6383559175465, -196.90608940714537, -106.33147860874215, -13.876271005993658, 80.4985801528419, 176.83293234553366, 275.1674706089716, 375.54372472176783, 478.00408674354094, 582.5918289184456, 689.3511219504362, 798.3270536578921, 909.565648015654, 1023.1138845924306, 1139.0197183916953, 1257.3321001046234, 1378.1009967835498, 1501.3774129445646, 1627.2134121083654, 1755.6621387883542, 1886.7778409351795, 2020.6158928473887, 2157.232818557778, 2296.686315705204, 2439.035279902154, 2584.339829608256, 2732.6613315201303, 2884.062426488518, 3038.607055973527, 3196.3604890490515, 3357.389349967999, 3521.7616462998576, 3689.546797652357, 3860.8156649895964, 4035.6405805589156, 4214.095378438994, 4396.255425722354, 4582.197654345314, 4772.000593578662, 4965.744403193173, 5163.510907313487, \"\", \"\", \"\", \"\", \"\", \"\", \"\", \"\", \"\", \"\", \"\", \"\", \"\", \"\", \"\", \"\"]}, {\"line\": {\"color\": \"rgba(55, 128, 191, 1.0)\", \"dash\": \"solid\", \"shape\": \"linear\", \"width\": 1.3}, \"marker\": {\"size\": 4, \"symbol\": \"circle\"}, \"mode\": \"lines+markers\", \"name\": \"sigm\", \"text\": \"\", \"type\": \"scatter\", \"x\": [\"20 Feb\", \"21 Feb\", \"22 Feb\", \"23 Feb\", \"24 Feb\", \"25 Feb\", \"26 Feb\", \"27 Feb\", \"28 Feb\", \"29 Feb\", \"01 Mar\", \"02 Mar\", \"03 Mar\", \"04 Mar\", \"05 Mar\", \"06 Mar\", \"07 Mar\", \"08 Mar\", \"09 Mar\", \"10 Mar\", \"11 Mar\", \"12 Mar\", \"13 Mar\", \"14 Mar\", \"15 Mar\", \"16 Mar\", \"17 Mar\", \"18 Mar\", \"19 Mar\", \"20 Mar\", \"21 Mar\", \"22 Mar\", \"23 Mar\", \"24 Mar\", \"25 Mar\", \"26 Mar\", \"27 Mar\", \"28 Mar\", \"29 Mar\", \"30 Mar\", \"31 Mar\", \"01 Apr\", \"02 Apr\", \"03 Apr\", \"04 Apr\", \"05 Apr\", \"06 Apr\", \"07 Apr\", \"08 Apr\", \"09 Apr\", \"10 Apr\", \"11 Apr\", \"12 Apr\", \"13 Apr\", \"14 Apr\", \"15 Apr\", \"16 Apr\", \"17 Apr\", \"18 Apr\", \"19 Apr\", \"20 Apr\", \"21 Apr\"], \"y\": [-28.818860167477276, -21.55050363343141, -12.865670666617035, -2.4957497551635655, 9.875619649284658, 24.619668805890953, 42.170086418732595, 63.03080883261944, 87.78358633535711, 117.094675304921, 151.719718322174, 192.50552133153806, 240.38703143367925, 296.37739727405665, 361.54862811842634, 437.0001773322176, 523.8129359767379, 622.9868552504261, 735.3619576868967, 861.525017271118, 1001.7076719844766, 1155.68582732969, 1322.6941139859994, 1501.3716407776146, 1689.7549172827994, 1885.329524495621, 2085.143784649431, 2285.9766650165684, 2484.5411402751406, 2677.6964706810354, 2862.6408366028504, 3037.060180128457, 3199.2184756122247, 3347.9860416134893, 3482.812750772777, 3603.659856085803, 3710.906867667295, 3805.2490341023863, 3887.597793232563, 3958.9924548829563, 4020.527448026218, 4073.2963294569627, 4118.351616250392, 4156.678297719051, 4189.178396738098, 4216.663948254029, 4239.856037805747, 4259.387941340677, 4275.810829335773, 4289.6008864630585, 4301.167026690709, 4310.858646031372, 4318.973055121439, 4325.762380365464, 4331.4398258611245, 4336.185258600186, 4340.15012503463, 4343.461734906368, 4346.226963617175, 4348.535431376028, 4350.462218829116, 4352.070176931701]}, {\"line\": {\"color\": \"rgba(50, 171, 96, 1.0)\", \"dash\": \"solid\", \"shape\": \"linear\", \"width\": 1.3}, \"marker\": {\"size\": 4, \"symbol\": \"circle\"}, \"mode\": \"lines+markers\", \"name\": \"log\", \"text\": \"\", \"type\": \"scatter\", \"x\": [\"20 Feb\", \"21 Feb\", \"22 Feb\", \"23 Feb\", \"24 Feb\", \"25 Feb\", \"26 Feb\", \"27 Feb\", \"28 Feb\", \"29 Feb\", \"01 Mar\", \"02 Mar\", \"03 Mar\", \"04 Mar\", \"05 Mar\", \"06 Mar\", \"07 Mar\", \"08 Mar\", \"09 Mar\", \"10 Mar\", \"11 Mar\", \"12 Mar\", \"13 Mar\", \"14 Mar\", \"15 Mar\", \"16 Mar\", \"17 Mar\", \"18 Mar\", \"19 Mar\", \"20 Mar\", \"21 Mar\", \"22 Mar\", \"23 Mar\", \"24 Mar\", \"25 Mar\", \"26 Mar\", \"27 Mar\", \"28 Mar\", \"29 Mar\", \"30 Mar\", \"31 Mar\", \"01 Apr\", \"02 Apr\", \"03 Apr\", \"04 Apr\", \"05 Apr\", \"06 Apr\", \"07 Apr\", \"08 Apr\", \"09 Apr\", \"10 Apr\", \"11 Apr\", \"12 Apr\", \"13 Apr\", \"14 Apr\", \"15 Apr\", \"16 Apr\", \"17 Apr\", \"18 Apr\", \"19 Apr\", \"20 Apr\", \"21 Apr\"], \"y\": [-160.13498137816165, -141.9903671101126, -121.64156485738289, -98.8340296061522, -73.28733373018127, -44.693486752189926, -12.715425921624671, 23.014216194381902, 62.89393198084048, 107.35357771783555, 156.85382268922785, 211.884555639741, 272.9619473339557, 340.6238171718284, 415.42290161359307, 497.91757714752436, 588.6595573382408, 688.1780712448863, 796.960051133339, 915.4259257680967, 1043.900749076905, 1182.5806116143306, 1331.494602552761, 1490.463027732626, 1659.0531509690331, 1836.5344030122499, 2021.8357650498576, 2213.5088220951347, 2409.700702405142, 2608.1416436804802, 2806.15209894235, 3000.6739484817376, 3188.3293729336847, 3365.5091803774912, 3528.4898861130982, 3673.5757784632706, 3797.258887441579, 3896.386665300433, 3968.324826936438, 4011.1016992375157, 4023.5209631322955, 4005.2319579383743, 3956.7505551600575, 3879.4284918076714, 3775.374257786672, 3647.3333657197877, 3498.539402392669, 3332.5492166962745, 3153.075802479883, 2963.831059141508, 2768.3880664268167, 2570.0693216375107, 2371.8640871715975, 2176.375020524577, 1985.79189719504, 1801.8886210020357, 1626.0388414789666, 1459.2452633145067, 1302.1779853867647, 1155.2177805565723, 1018.5009700695139, 891.9633360481803]}, {\"line\": {\"color\": \"rgba(128, 0, 128, 1.0)\", \"dash\": \"solid\", \"shape\": \"linear\", \"width\": 1.3}, \"marker\": {\"size\": 8, \"symbol\": \"circle\"}, \"mode\": \"markers\", \"name\": \"intensive care\", \"text\": \"\", \"type\": \"scatter\", \"x\": [\"20 Feb\", \"21 Feb\", \"22 Feb\", \"23 Feb\", \"24 Feb\", \"25 Feb\", \"26 Feb\", \"27 Feb\", \"28 Feb\", \"29 Feb\", \"01 Mar\", \"02 Mar\", \"03 Mar\", \"04 Mar\", \"05 Mar\", \"06 Mar\", \"07 Mar\", \"08 Mar\", \"09 Mar\", \"10 Mar\", \"11 Mar\", \"12 Mar\", \"13 Mar\", \"14 Mar\", \"15 Mar\", \"16 Mar\", \"17 Mar\", \"18 Mar\", \"19 Mar\", \"20 Mar\", \"21 Mar\", \"22 Mar\", \"23 Mar\", \"24 Mar\", \"25 Mar\", \"26 Mar\", \"27 Mar\", \"28 Mar\", \"29 Mar\", \"30 Mar\", \"31 Mar\", \"01 Apr\", \"02 Apr\", \"03 Apr\", \"04 Apr\", \"05 Apr\", \"06 Apr\", \"07 Apr\", \"08 Apr\", \"09 Apr\", \"10 Apr\", \"11 Apr\", \"12 Apr\", \"13 Apr\", \"14 Apr\", \"15 Apr\", \"16 Apr\", \"17 Apr\", \"18 Apr\", \"19 Apr\", \"20 Apr\", \"21 Apr\"], \"y\": [\"\", \"\", \"\", \"\", 27.0, 35.0, 36.0, 56.0, 64.0, 105.0, 140.0, 166.0, 229.0, 295.0, 351.0, 462.0, 567.0, 650.0, 733.0, 877.0, 1028.0, 1153.0, 1328.0, 1518.0, 1672.0, 1851.0, 2060.0, 2257.0, 2498.0, 2655.0, 2857.0, 3009.0, 3204.0, 3396.0, 3489.0, 3612.0, 3732.0, 3856.0, 3906.0, 3981.0, 4023.0, 4035.0, 4053.0, \"\", \"\", \"\", \"\", \"\", \"\", \"\", \"\", \"\", \"\", \"\", \"\", \"\", \"\", \"\", \"\", \"\", \"\", \"\"]}, {\"marker\": {\"color\": \"rgba(255, 0, 0, 125)\", \"size\": 8}, \"mode\": \"markers\", \"name\": \"flex\", \"type\": \"scatter\", \"x\": [\"17 Mar\"], \"y\": [2147.2460183923317]}, {\"marker\": {\"color\": \"rgba(255, 0, 0, 125)\", \"size\": 8}, \"mode\": \"markers\", \"name\": \"peak\", \"type\": \"scatter\", \"x\": [\"31 Mar\"], \"y\": [4023.6622006888324]}],\n                        {\"legend\": {\"bgcolor\": \"#FFFFFF\", \"font\": {\"color\": \"#4D5663\"}}, \"paper_bgcolor\": \"#FFFFFF\", \"plot_bgcolor\": \"#FFFFFF\", \"template\": {\"data\": {\"bar\": [{\"error_x\": {\"color\": \"#2a3f5f\"}, \"error_y\": {\"color\": \"#2a3f5f\"}, \"marker\": {\"line\": {\"color\": \"#E5ECF6\", \"width\": 0.5}}, \"type\": \"bar\"}], \"barpolar\": [{\"marker\": {\"line\": {\"color\": \"#E5ECF6\", \"width\": 0.5}}, \"type\": \"barpolar\"}], \"carpet\": [{\"aaxis\": {\"endlinecolor\": \"#2a3f5f\", \"gridcolor\": \"white\", \"linecolor\": \"white\", \"minorgridcolor\": \"white\", \"startlinecolor\": \"#2a3f5f\"}, \"baxis\": {\"endlinecolor\": \"#2a3f5f\", \"gridcolor\": \"white\", \"linecolor\": \"white\", \"minorgridcolor\": \"white\", \"startlinecolor\": \"#2a3f5f\"}, \"type\": \"carpet\"}], \"choropleth\": [{\"colorbar\": {\"outlinewidth\": 0, \"ticks\": \"\"}, \"type\": \"choropleth\"}], \"contour\": [{\"colorbar\": {\"outlinewidth\": 0, \"ticks\": \"\"}, \"colorscale\": [[0.0, \"#0d0887\"], [0.1111111111111111, \"#46039f\"], [0.2222222222222222, \"#7201a8\"], [0.3333333333333333, \"#9c179e\"], [0.4444444444444444, \"#bd3786\"], [0.5555555555555556, \"#d8576b\"], [0.6666666666666666, \"#ed7953\"], [0.7777777777777778, \"#fb9f3a\"], [0.8888888888888888, \"#fdca26\"], [1.0, \"#f0f921\"]], \"type\": \"contour\"}], \"contourcarpet\": [{\"colorbar\": {\"outlinewidth\": 0, \"ticks\": \"\"}, \"type\": \"contourcarpet\"}], \"heatmap\": [{\"colorbar\": {\"outlinewidth\": 0, \"ticks\": \"\"}, \"colorscale\": [[0.0, \"#0d0887\"], [0.1111111111111111, \"#46039f\"], [0.2222222222222222, \"#7201a8\"], [0.3333333333333333, \"#9c179e\"], [0.4444444444444444, \"#bd3786\"], [0.5555555555555556, \"#d8576b\"], [0.6666666666666666, \"#ed7953\"], [0.7777777777777778, \"#fb9f3a\"], [0.8888888888888888, \"#fdca26\"], [1.0, \"#f0f921\"]], \"type\": \"heatmap\"}], \"heatmapgl\": [{\"colorbar\": {\"outlinewidth\": 0, \"ticks\": \"\"}, \"colorscale\": [[0.0, \"#0d0887\"], [0.1111111111111111, \"#46039f\"], [0.2222222222222222, \"#7201a8\"], [0.3333333333333333, \"#9c179e\"], [0.4444444444444444, \"#bd3786\"], [0.5555555555555556, \"#d8576b\"], [0.6666666666666666, \"#ed7953\"], [0.7777777777777778, \"#fb9f3a\"], [0.8888888888888888, \"#fdca26\"], [1.0, \"#f0f921\"]], \"type\": \"heatmapgl\"}], \"histogram\": [{\"marker\": {\"colorbar\": {\"outlinewidth\": 0, \"ticks\": \"\"}}, \"type\": \"histogram\"}], \"histogram2d\": [{\"colorbar\": {\"outlinewidth\": 0, \"ticks\": \"\"}, \"colorscale\": [[0.0, \"#0d0887\"], [0.1111111111111111, \"#46039f\"], [0.2222222222222222, \"#7201a8\"], [0.3333333333333333, \"#9c179e\"], [0.4444444444444444, \"#bd3786\"], [0.5555555555555556, \"#d8576b\"], [0.6666666666666666, \"#ed7953\"], [0.7777777777777778, \"#fb9f3a\"], [0.8888888888888888, \"#fdca26\"], [1.0, \"#f0f921\"]], \"type\": \"histogram2d\"}], \"histogram2dcontour\": [{\"colorbar\": {\"outlinewidth\": 0, \"ticks\": \"\"}, \"colorscale\": [[0.0, \"#0d0887\"], [0.1111111111111111, \"#46039f\"], [0.2222222222222222, \"#7201a8\"], [0.3333333333333333, \"#9c179e\"], [0.4444444444444444, \"#bd3786\"], [0.5555555555555556, \"#d8576b\"], [0.6666666666666666, \"#ed7953\"], [0.7777777777777778, \"#fb9f3a\"], [0.8888888888888888, \"#fdca26\"], [1.0, \"#f0f921\"]], \"type\": \"histogram2dcontour\"}], \"mesh3d\": [{\"colorbar\": {\"outlinewidth\": 0, \"ticks\": \"\"}, \"type\": \"mesh3d\"}], \"parcoords\": [{\"line\": {\"colorbar\": {\"outlinewidth\": 0, \"ticks\": \"\"}}, \"type\": \"parcoords\"}], \"pie\": [{\"automargin\": true, \"type\": \"pie\"}], \"scatter\": [{\"marker\": {\"colorbar\": {\"outlinewidth\": 0, \"ticks\": \"\"}}, \"type\": \"scatter\"}], \"scatter3d\": [{\"line\": {\"colorbar\": {\"outlinewidth\": 0, \"ticks\": \"\"}}, \"marker\": {\"colorbar\": {\"outlinewidth\": 0, \"ticks\": \"\"}}, \"type\": \"scatter3d\"}], \"scattercarpet\": [{\"marker\": {\"colorbar\": {\"outlinewidth\": 0, \"ticks\": \"\"}}, \"type\": \"scattercarpet\"}], \"scattergeo\": [{\"marker\": {\"colorbar\": {\"outlinewidth\": 0, \"ticks\": \"\"}}, \"type\": \"scattergeo\"}], \"scattergl\": [{\"marker\": {\"colorbar\": {\"outlinewidth\": 0, \"ticks\": \"\"}}, \"type\": \"scattergl\"}], \"scattermapbox\": [{\"marker\": {\"colorbar\": {\"outlinewidth\": 0, \"ticks\": \"\"}}, \"type\": \"scattermapbox\"}], \"scatterpolar\": [{\"marker\": {\"colorbar\": {\"outlinewidth\": 0, \"ticks\": \"\"}}, \"type\": \"scatterpolar\"}], \"scatterpolargl\": [{\"marker\": {\"colorbar\": {\"outlinewidth\": 0, \"ticks\": \"\"}}, \"type\": \"scatterpolargl\"}], \"scatterternary\": [{\"marker\": {\"colorbar\": {\"outlinewidth\": 0, \"ticks\": \"\"}}, \"type\": \"scatterternary\"}], \"surface\": [{\"colorbar\": {\"outlinewidth\": 0, \"ticks\": \"\"}, \"colorscale\": [[0.0, \"#0d0887\"], [0.1111111111111111, \"#46039f\"], [0.2222222222222222, \"#7201a8\"], [0.3333333333333333, \"#9c179e\"], [0.4444444444444444, \"#bd3786\"], [0.5555555555555556, \"#d8576b\"], [0.6666666666666666, \"#ed7953\"], [0.7777777777777778, \"#fb9f3a\"], [0.8888888888888888, \"#fdca26\"], [1.0, \"#f0f921\"]], \"type\": \"surface\"}], \"table\": [{\"cells\": {\"fill\": {\"color\": \"#EBF0F8\"}, \"line\": {\"color\": \"white\"}}, \"header\": {\"fill\": {\"color\": \"#C8D4E3\"}, \"line\": {\"color\": \"white\"}}, \"type\": \"table\"}]}, \"layout\": {\"annotationdefaults\": {\"arrowcolor\": \"#2a3f5f\", \"arrowhead\": 0, \"arrowwidth\": 1}, \"coloraxis\": {\"colorbar\": {\"outlinewidth\": 0, \"ticks\": \"\"}}, \"colorscale\": {\"diverging\": [[0, \"#8e0152\"], [0.1, \"#c51b7d\"], [0.2, \"#de77ae\"], [0.3, \"#f1b6da\"], [0.4, \"#fde0ef\"], [0.5, \"#f7f7f7\"], [0.6, \"#e6f5d0\"], [0.7, \"#b8e186\"], [0.8, \"#7fbc41\"], [0.9, \"#4d9221\"], [1, \"#276419\"]], \"sequential\": [[0.0, \"#0d0887\"], [0.1111111111111111, \"#46039f\"], [0.2222222222222222, \"#7201a8\"], [0.3333333333333333, \"#9c179e\"], [0.4444444444444444, \"#bd3786\"], [0.5555555555555556, \"#d8576b\"], [0.6666666666666666, \"#ed7953\"], [0.7777777777777778, \"#fb9f3a\"], [0.8888888888888888, \"#fdca26\"], [1.0, \"#f0f921\"]], \"sequentialminus\": [[0.0, \"#0d0887\"], [0.1111111111111111, \"#46039f\"], [0.2222222222222222, \"#7201a8\"], [0.3333333333333333, \"#9c179e\"], [0.4444444444444444, \"#bd3786\"], [0.5555555555555556, \"#d8576b\"], [0.6666666666666666, \"#ed7953\"], [0.7777777777777778, \"#fb9f3a\"], [0.8888888888888888, \"#fdca26\"], [1.0, \"#f0f921\"]]}, \"colorway\": [\"#636efa\", \"#EF553B\", \"#00cc96\", \"#ab63fa\", \"#FFA15A\", \"#19d3f3\", \"#FF6692\", \"#B6E880\", \"#FF97FF\", \"#FECB52\"], \"font\": {\"color\": \"#2a3f5f\"}, \"geo\": {\"bgcolor\": \"white\", \"lakecolor\": \"white\", \"landcolor\": \"#E5ECF6\", \"showlakes\": true, \"showland\": true, \"subunitcolor\": \"white\"}, \"hoverlabel\": {\"align\": \"left\"}, \"hovermode\": \"closest\", \"mapbox\": {\"style\": \"light\"}, \"paper_bgcolor\": \"white\", \"plot_bgcolor\": \"#E5ECF6\", \"polar\": {\"angularaxis\": {\"gridcolor\": \"white\", \"linecolor\": \"white\", \"ticks\": \"\"}, \"bgcolor\": \"#E5ECF6\", \"radialaxis\": {\"gridcolor\": \"white\", \"linecolor\": \"white\", \"ticks\": \"\"}}, \"scene\": {\"xaxis\": {\"backgroundcolor\": \"#E5ECF6\", \"gridcolor\": \"white\", \"gridwidth\": 2, \"linecolor\": \"white\", \"showbackground\": true, \"ticks\": \"\", \"zerolinecolor\": \"white\"}, \"yaxis\": {\"backgroundcolor\": \"#E5ECF6\", \"gridcolor\": \"white\", \"gridwidth\": 2, \"linecolor\": \"white\", \"showbackground\": true, \"ticks\": \"\", \"zerolinecolor\": \"white\"}, \"zaxis\": {\"backgroundcolor\": \"#E5ECF6\", \"gridcolor\": \"white\", \"gridwidth\": 2, \"linecolor\": \"white\", \"showbackground\": true, \"ticks\": \"\", \"zerolinecolor\": \"white\"}}, \"shapedefaults\": {\"line\": {\"color\": \"#2a3f5f\"}}, \"ternary\": {\"aaxis\": {\"gridcolor\": \"white\", \"linecolor\": \"white\", \"ticks\": \"\"}, \"baxis\": {\"gridcolor\": \"white\", \"linecolor\": \"white\", \"ticks\": \"\"}, \"bgcolor\": \"#E5ECF6\", \"caxis\": {\"gridcolor\": \"white\", \"linecolor\": \"white\", \"ticks\": \"\"}}, \"title\": {\"x\": 0.05}, \"xaxis\": {\"automargin\": true, \"gridcolor\": \"white\", \"linecolor\": \"white\", \"ticks\": \"\", \"title\": {\"standoff\": 15}, \"zerolinecolor\": \"white\", \"zerolinewidth\": 2}, \"yaxis\": {\"automargin\": true, \"gridcolor\": \"white\", \"linecolor\": \"white\", \"ticks\": \"\", \"title\": {\"standoff\": 15}, \"zerolinecolor\": \"white\", \"zerolinewidth\": 2}}}, \"title\": {\"font\": {\"color\": \"#4D5663\"}, \"text\": \"Intensive care cases\"}, \"xaxis\": {\"gridcolor\": \"#E1E5ED\", \"showgrid\": true, \"tickfont\": {\"color\": \"#4D5663\"}, \"title\": {\"font\": {\"color\": \"#4D5663\"}, \"text\": \"\"}, \"zerolinecolor\": \"#E1E5ED\"}, \"yaxis\": {\"gridcolor\": \"#E1E5ED\", \"showgrid\": true, \"tickfont\": {\"color\": \"#4D5663\"}, \"title\": {\"font\": {\"color\": \"#4D5663\"}, \"text\": \"case\"}, \"zerolinecolor\": \"#E1E5ED\"}},\n                        {\"responsive\": true}\n                    ).then(function(){\n                            \nvar gd = document.getElementById('4c460e62-cf83-445b-8f99-8d23ec13fbdd');\nvar x = new MutationObserver(function (mutations, observer) {{\n        var display = window.getComputedStyle(gd).display;\n        if (!display || display === 'none') {{\n            console.log([gd, 'removed!']);\n            Plotly.purge(gd);\n            observer.disconnect();\n        }}\n}});\n\n// Listen for the removal of the full notebook cells\nvar notebookContainer = gd.closest('#notebook-container');\nif (notebookContainer) {{\n    x.observe(notebookContainer, {childList: true});\n}}\n\n// Listen for the clearing of the current output cell\nvar outputEl = gd.closest('.output');\nif (outputEl) {{\n    x.observe(outputEl, {childList: true});\n}}\n\n                        })\n                };\n                });\n            </script>\n        </div>"
     },
     "metadata": {},
     "output_type": "display_data"
    }
   ],
   "source": [
    "fig = mpl.iplot_analysis_plot(df.drop(columns=['day']), title='Intensive care cases')\n",
    "fig.show()"
   ],
   "metadata": {
    "collapsed": false,
    "pycharm": {
     "name": "#%%\n",
     "is_executing": false
    }
   }
  }
 ],
 "metadata": {
  "kernelspec": {
   "display_name": "Python 3",
   "language": "python",
   "name": "python3"
  },
  "language_info": {
   "codemirror_mode": {
    "name": "ipython",
    "version": 2
   },
   "file_extension": ".py",
   "mimetype": "text/x-python",
   "name": "python",
   "nbconvert_exporter": "python",
   "pygments_lexer": "ipython2",
   "version": "2.7.6"
  },
  "pycharm": {
   "stem_cell": {
    "cell_type": "raw",
    "source": [],
    "metadata": {
     "collapsed": false
    }
   }
  }
 },
 "nbformat": 4,
 "nbformat_minor": 0
}