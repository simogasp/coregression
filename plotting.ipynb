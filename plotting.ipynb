{
 "cells": [
  {
   "cell_type": "code",
   "execution_count": 1,
   "metadata": {
    "collapsed": true,
    "pycharm": {
     "is_executing": false
    }
   },
   "outputs": [
    {
     "data": {
      "text/html": "        <script type=\"text/javascript\">\n        window.PlotlyConfig = {MathJaxConfig: 'local'};\n        if (window.MathJax) {MathJax.Hub.Config({SVG: {font: \"STIX-Web\"}});}\n        if (typeof require !== 'undefined') {\n        require.undef(\"plotly\");\n        requirejs.config({\n            paths: {\n                'plotly': ['https://cdn.plot.ly/plotly-latest.min']\n            }\n        });\n        require(['plotly'], function(Plotly) {\n            window._Plotly = Plotly;\n        });\n        }\n        </script>\n        "
     },
     "metadata": {},
     "output_type": "display_data"
    }
   ],
   "source": [
    "import pandas as pd\n",
    "import cufflinks as cf\n",
    "import plotly.offline\n",
    "import plotly.graph_objs as go  \n",
    "import mytools.regression as reg\n",
    "import mytools.date as dt\n",
    "\n",
    "cf.go_offline()\n",
    "cf.set_config_file(offline=False, world_readable=True)"
   ]
  },
  {
   "cell_type": "markdown",
   "source": [
    "## Italian intensive care cases "
   ],
   "metadata": {
    "collapsed": false,
    "pycharm": {
     "name": "#%% md\n"
    }
   }
  },
  {
   "cell_type": "code",
   "execution_count": 2,
   "outputs": [
    {
     "data": {
      "text/plain": "        intensive care\n24 Feb              27\n25 Feb              35\n26 Feb              36\n27 Feb              56\n28 Feb              64\n29 Feb             105\n01 Mar             140\n02 Mar             166\n03 Mar             229\n04 Mar             295\n05 Mar             351\n06 Mar             462\n07 Mar             567\n08 Mar             650\n09 Mar             733\n10 Mar             877",
      "text/html": "<div>\n<style scoped>\n    .dataframe tbody tr th:only-of-type {\n        vertical-align: middle;\n    }\n\n    .dataframe tbody tr th {\n        vertical-align: top;\n    }\n\n    .dataframe thead th {\n        text-align: right;\n    }\n</style>\n<table border=\"1\" class=\"dataframe\">\n  <thead>\n    <tr style=\"text-align: right;\">\n      <th></th>\n      <th>intensive care</th>\n    </tr>\n  </thead>\n  <tbody>\n    <tr>\n      <th>24 Feb</th>\n      <td>27</td>\n    </tr>\n    <tr>\n      <th>25 Feb</th>\n      <td>35</td>\n    </tr>\n    <tr>\n      <th>26 Feb</th>\n      <td>36</td>\n    </tr>\n    <tr>\n      <th>27 Feb</th>\n      <td>56</td>\n    </tr>\n    <tr>\n      <th>28 Feb</th>\n      <td>64</td>\n    </tr>\n    <tr>\n      <th>29 Feb</th>\n      <td>105</td>\n    </tr>\n    <tr>\n      <th>01 Mar</th>\n      <td>140</td>\n    </tr>\n    <tr>\n      <th>02 Mar</th>\n      <td>166</td>\n    </tr>\n    <tr>\n      <th>03 Mar</th>\n      <td>229</td>\n    </tr>\n    <tr>\n      <th>04 Mar</th>\n      <td>295</td>\n    </tr>\n    <tr>\n      <th>05 Mar</th>\n      <td>351</td>\n    </tr>\n    <tr>\n      <th>06 Mar</th>\n      <td>462</td>\n    </tr>\n    <tr>\n      <th>07 Mar</th>\n      <td>567</td>\n    </tr>\n    <tr>\n      <th>08 Mar</th>\n      <td>650</td>\n    </tr>\n    <tr>\n      <th>09 Mar</th>\n      <td>733</td>\n    </tr>\n    <tr>\n      <th>10 Mar</th>\n      <td>877</td>\n    </tr>\n  </tbody>\n</table>\n</div>"
     },
     "metadata": {},
     "output_type": "execute_result",
     "execution_count": 2
    }
   ],
   "source": [
    "# loading the data\n",
    "df = pd.read_csv('italy-intensive_care.csv')\n",
    "a = list((dt.day_of_year_to_date(v)).strftime(\"%d %b\") for v in df['day'])\n",
    "df.index = a\n",
    "# display the table\n",
    "pd.DataFrame(df['intensive care'])\n",
    "\n"
   ],
   "metadata": {
    "collapsed": false,
    "pycharm": {
     "name": "#%%\n",
     "is_executing": false
    }
   }
  },
  {
   "cell_type": "markdown",
   "source": [
    "## Fitting intensive care data with exponential and logistic models\n",
    "\n",
    "The exponential model is:\n",
    "\n",
    "$$y = e^{k(x-x_0)} + y_0$$\n",
    "\n",
    "where $k, x_0, y_0$ are the parameters to estimate.\n",
    "\n",
    "For the logistic model:\n",
    "\n",
    "$$y = \\frac{c}{1+e^{-k(x-x_0)}} + y_0$$\n",
    "\n",
    "where $c, k, x_0, y_0$ are the parameters to estimate."
   ],
   "metadata": {
    "collapsed": false
   }
  },
  {
   "cell_type": "code",
   "execution_count": 3,
   "outputs": [
    {
     "name": "stdout",
     "text": [
      "`gtol` termination condition is satisfied.\n",
      "Function evaluations 17, initial cost 1.5239e+00, final cost 6.3533e-04, first-order optimality 5.05e-09.\n",
      "        Sigmoid model\n",
      "        x0 = 68.51290955180139\n",
      "        y0 = -2.9390833620201215\n",
      "        c = 1420.6805354628757\n",
      "        k = 0.2985988864193278\n",
      "        asymptot = 1417.7414521008557\n",
      "        flex = 68.51290955180139, 707.4011843694177\n",
      "        \n",
      "[0.65       0.44041176 1.        ]\n",
      "`gtol` termination condition is satisfied.\n",
      "Function evaluations 14, initial cost 5.9585e+00, final cost 1.9379e-03, first-order optimality 4.73e-09.\n",
      "            Exponential model\n",
      "            x0 = 25.04401326172799\n",
      "            y0 = -98.38401854297845\n",
      "            k = 0.15345094587218178\n",
      "            \n"
     ],
     "output_type": "stream"
    }
   ],
   "source": [
    "x_orig = df['day']\n",
    "y_orig = df['intensive care']\n",
    "\n",
    "sigm_model, xp, pxp = reg.fit_sigmoid(x_orig, y_orig, verbose=True)\n",
    "flex = reg.sigmoid_get_flex(sigm_model)\n",
    "\n",
    "exp_model, exp_xp, exp_pxp = reg.fit_exponential(x_orig, y_orig, upper=1.25, verbose=True)\n"
   ],
   "metadata": {
    "collapsed": false,
    "pycharm": {
     "name": "#%%\n",
     "is_executing": false
    }
   }
  },
  {
   "cell_type": "code",
   "execution_count": 4,
   "outputs": [
    {
     "data": {
      "text/plain": "        day  intensive care          exp         sigm\n20 Feb   51             NaN   -44.707764     4.631069\n21 Feb   52             NaN   -35.805525     7.246361\n22 Feb   53             NaN   -25.426845    10.756411\n23 Feb   54             NaN   -13.326854    15.460296\n24 Feb   55            27.0     0.779927    21.751437\n25 Feb   56            35.0    17.226327    30.142906\n26 Feb   57            36.0    36.400372    41.295979\n27 Feb   58            56.0    58.754443    56.049290\n28 Feb   59            64.0    84.815950    75.442934\n29 Feb   60           105.0   115.199774   100.727227\n01 Mar   61           140.0   150.622774   133.339606\n02 Mar   62           166.0   191.920699   174.826717\n03 Mar   63           229.0   240.067909   226.685724\n04 Mar   64           295.0   296.200363   290.106458\n05 Mar   65           351.0   361.642418   365.623254\n06 Mar   66           462.0   437.938076   452.736538\n07 Mar   67           567.0   526.887416   549.626129\n08 Mar   68           650.0   630.589056   653.111457\n09 Mar   69           733.0   751.489674   758.967913\n10 Mar   70           877.0   892.441733   862.570903\n11 Mar   71             NaN  1056.770774   959.676278\n12 Mar   72             NaN  1248.353885  1047.070912\n13 Mar   73             NaN  1471.711169  1122.898618\n14 Mar   74             NaN          NaN  1186.628599\n15 Mar   75             NaN          NaN  1238.773174\n16 Mar   76             NaN          NaN  1280.509935\n17 Mar   77             NaN          NaN  1313.331795\n18 Mar   78             NaN          NaN  1338.786522\n19 Mar   79             NaN          NaN  1358.315644\n20 Mar   80             NaN          NaN  1373.174779\n21 Mar   81             NaN          NaN  1384.409437\n22 Mar   82             NaN          NaN  1392.863189\n23 Mar   83             NaN          NaN  1399.201531\n24 Mar   84             NaN          NaN  1403.940993\n25 Mar   85             NaN          NaN  1407.477749\n26 Mar   86             NaN          NaN  1410.113026\n27 Mar   87             NaN          NaN  1412.074396\n28 Mar   88             NaN          NaN  1413.532974\n29 Mar   89             NaN          NaN  1414.616974",
      "text/html": "<div>\n<style scoped>\n    .dataframe tbody tr th:only-of-type {\n        vertical-align: middle;\n    }\n\n    .dataframe tbody tr th {\n        vertical-align: top;\n    }\n\n    .dataframe thead th {\n        text-align: right;\n    }\n</style>\n<table border=\"1\" class=\"dataframe\">\n  <thead>\n    <tr style=\"text-align: right;\">\n      <th></th>\n      <th>day</th>\n      <th>intensive care</th>\n      <th>exp</th>\n      <th>sigm</th>\n    </tr>\n  </thead>\n  <tbody>\n    <tr>\n      <th>20 Feb</th>\n      <td>51</td>\n      <td>NaN</td>\n      <td>-44.707764</td>\n      <td>4.631069</td>\n    </tr>\n    <tr>\n      <th>21 Feb</th>\n      <td>52</td>\n      <td>NaN</td>\n      <td>-35.805525</td>\n      <td>7.246361</td>\n    </tr>\n    <tr>\n      <th>22 Feb</th>\n      <td>53</td>\n      <td>NaN</td>\n      <td>-25.426845</td>\n      <td>10.756411</td>\n    </tr>\n    <tr>\n      <th>23 Feb</th>\n      <td>54</td>\n      <td>NaN</td>\n      <td>-13.326854</td>\n      <td>15.460296</td>\n    </tr>\n    <tr>\n      <th>24 Feb</th>\n      <td>55</td>\n      <td>27.0</td>\n      <td>0.779927</td>\n      <td>21.751437</td>\n    </tr>\n    <tr>\n      <th>25 Feb</th>\n      <td>56</td>\n      <td>35.0</td>\n      <td>17.226327</td>\n      <td>30.142906</td>\n    </tr>\n    <tr>\n      <th>26 Feb</th>\n      <td>57</td>\n      <td>36.0</td>\n      <td>36.400372</td>\n      <td>41.295979</td>\n    </tr>\n    <tr>\n      <th>27 Feb</th>\n      <td>58</td>\n      <td>56.0</td>\n      <td>58.754443</td>\n      <td>56.049290</td>\n    </tr>\n    <tr>\n      <th>28 Feb</th>\n      <td>59</td>\n      <td>64.0</td>\n      <td>84.815950</td>\n      <td>75.442934</td>\n    </tr>\n    <tr>\n      <th>29 Feb</th>\n      <td>60</td>\n      <td>105.0</td>\n      <td>115.199774</td>\n      <td>100.727227</td>\n    </tr>\n    <tr>\n      <th>01 Mar</th>\n      <td>61</td>\n      <td>140.0</td>\n      <td>150.622774</td>\n      <td>133.339606</td>\n    </tr>\n    <tr>\n      <th>02 Mar</th>\n      <td>62</td>\n      <td>166.0</td>\n      <td>191.920699</td>\n      <td>174.826717</td>\n    </tr>\n    <tr>\n      <th>03 Mar</th>\n      <td>63</td>\n      <td>229.0</td>\n      <td>240.067909</td>\n      <td>226.685724</td>\n    </tr>\n    <tr>\n      <th>04 Mar</th>\n      <td>64</td>\n      <td>295.0</td>\n      <td>296.200363</td>\n      <td>290.106458</td>\n    </tr>\n    <tr>\n      <th>05 Mar</th>\n      <td>65</td>\n      <td>351.0</td>\n      <td>361.642418</td>\n      <td>365.623254</td>\n    </tr>\n    <tr>\n      <th>06 Mar</th>\n      <td>66</td>\n      <td>462.0</td>\n      <td>437.938076</td>\n      <td>452.736538</td>\n    </tr>\n    <tr>\n      <th>07 Mar</th>\n      <td>67</td>\n      <td>567.0</td>\n      <td>526.887416</td>\n      <td>549.626129</td>\n    </tr>\n    <tr>\n      <th>08 Mar</th>\n      <td>68</td>\n      <td>650.0</td>\n      <td>630.589056</td>\n      <td>653.111457</td>\n    </tr>\n    <tr>\n      <th>09 Mar</th>\n      <td>69</td>\n      <td>733.0</td>\n      <td>751.489674</td>\n      <td>758.967913</td>\n    </tr>\n    <tr>\n      <th>10 Mar</th>\n      <td>70</td>\n      <td>877.0</td>\n      <td>892.441733</td>\n      <td>862.570903</td>\n    </tr>\n    <tr>\n      <th>11 Mar</th>\n      <td>71</td>\n      <td>NaN</td>\n      <td>1056.770774</td>\n      <td>959.676278</td>\n    </tr>\n    <tr>\n      <th>12 Mar</th>\n      <td>72</td>\n      <td>NaN</td>\n      <td>1248.353885</td>\n      <td>1047.070912</td>\n    </tr>\n    <tr>\n      <th>13 Mar</th>\n      <td>73</td>\n      <td>NaN</td>\n      <td>1471.711169</td>\n      <td>1122.898618</td>\n    </tr>\n    <tr>\n      <th>14 Mar</th>\n      <td>74</td>\n      <td>NaN</td>\n      <td>NaN</td>\n      <td>1186.628599</td>\n    </tr>\n    <tr>\n      <th>15 Mar</th>\n      <td>75</td>\n      <td>NaN</td>\n      <td>NaN</td>\n      <td>1238.773174</td>\n    </tr>\n    <tr>\n      <th>16 Mar</th>\n      <td>76</td>\n      <td>NaN</td>\n      <td>NaN</td>\n      <td>1280.509935</td>\n    </tr>\n    <tr>\n      <th>17 Mar</th>\n      <td>77</td>\n      <td>NaN</td>\n      <td>NaN</td>\n      <td>1313.331795</td>\n    </tr>\n    <tr>\n      <th>18 Mar</th>\n      <td>78</td>\n      <td>NaN</td>\n      <td>NaN</td>\n      <td>1338.786522</td>\n    </tr>\n    <tr>\n      <th>19 Mar</th>\n      <td>79</td>\n      <td>NaN</td>\n      <td>NaN</td>\n      <td>1358.315644</td>\n    </tr>\n    <tr>\n      <th>20 Mar</th>\n      <td>80</td>\n      <td>NaN</td>\n      <td>NaN</td>\n      <td>1373.174779</td>\n    </tr>\n    <tr>\n      <th>21 Mar</th>\n      <td>81</td>\n      <td>NaN</td>\n      <td>NaN</td>\n      <td>1384.409437</td>\n    </tr>\n    <tr>\n      <th>22 Mar</th>\n      <td>82</td>\n      <td>NaN</td>\n      <td>NaN</td>\n      <td>1392.863189</td>\n    </tr>\n    <tr>\n      <th>23 Mar</th>\n      <td>83</td>\n      <td>NaN</td>\n      <td>NaN</td>\n      <td>1399.201531</td>\n    </tr>\n    <tr>\n      <th>24 Mar</th>\n      <td>84</td>\n      <td>NaN</td>\n      <td>NaN</td>\n      <td>1403.940993</td>\n    </tr>\n    <tr>\n      <th>25 Mar</th>\n      <td>85</td>\n      <td>NaN</td>\n      <td>NaN</td>\n      <td>1407.477749</td>\n    </tr>\n    <tr>\n      <th>26 Mar</th>\n      <td>86</td>\n      <td>NaN</td>\n      <td>NaN</td>\n      <td>1410.113026</td>\n    </tr>\n    <tr>\n      <th>27 Mar</th>\n      <td>87</td>\n      <td>NaN</td>\n      <td>NaN</td>\n      <td>1412.074396</td>\n    </tr>\n    <tr>\n      <th>28 Mar</th>\n      <td>88</td>\n      <td>NaN</td>\n      <td>NaN</td>\n      <td>1413.532974</td>\n    </tr>\n    <tr>\n      <th>29 Mar</th>\n      <td>89</td>\n      <td>NaN</td>\n      <td>NaN</td>\n      <td>1414.616974</td>\n    </tr>\n  </tbody>\n</table>\n</div>"
     },
     "metadata": {},
     "output_type": "execute_result",
     "execution_count": 4
    }
   ],
   "source": [
    "# preparing table with predictions\n",
    "d_max = df['day'].max()\n",
    "d_min = df['day'].min()\n",
    "\n",
    "f_days_exp = range(d_min - 4, d_max + 4, 1)\n",
    "f_days_sigm = range(d_min - 4, d_max + 20, 1)\n",
    "\n",
    "f_exp = reg.exponential(exp_model, f_days_exp)\n",
    "f_sigm = reg.sigmoid(sigm_model, f_days_sigm)\n",
    "f_df_exp = pd.DataFrame({'day' : f_days_exp, 'exp' : f_exp})\n",
    "f_df_sigm = pd.DataFrame({'day' : f_days_sigm, 'sigm' : f_sigm})\n",
    "f_df_exp.index = dt.day_of_year_to_string(f_days_exp)\n",
    "f_df_sigm.index = dt.day_of_year_to_string(f_days_sigm)\n",
    "\n",
    "df_final = pd.merge(df, f_df_exp, on='day', how='outer', sort=True).merge(f_df_sigm, on='day', how='outer', sort=True)\n",
    "df_final.index = dt.day_of_year_to_string(f_days_sigm)\n",
    "df_final"
   ],
   "metadata": {
    "collapsed": false,
    "pycharm": {
     "name": "#%%\n",
     "is_executing": false
    }
   }
  },
  {
   "cell_type": "code",
   "execution_count": 5,
   "outputs": [
    {
     "data": {
      "application/vnd.plotly.v1+json": {
       "config": {
        "plotlyServerURL": "https://plot.ly"
       },
       "data": [
        {
         "line": {
          "color": "rgba(255, 153, 51, 1.0)",
          "dash": "solid",
          "shape": "linear",
          "width": 1.3
         },
         "marker": {
          "size": 4,
          "symbol": "circle"
         },
         "mode": "lines+markers",
         "name": "exp",
         "text": "",
         "type": "scatter",
         "x": [
          "20 Feb",
          "21 Feb",
          "22 Feb",
          "23 Feb",
          "24 Feb",
          "25 Feb",
          "26 Feb",
          "27 Feb",
          "28 Feb",
          "29 Feb",
          "01 Mar",
          "02 Mar",
          "03 Mar",
          "04 Mar",
          "05 Mar",
          "06 Mar",
          "07 Mar",
          "08 Mar",
          "09 Mar",
          "10 Mar",
          "11 Mar",
          "12 Mar",
          "13 Mar",
          "14 Mar",
          "15 Mar",
          "16 Mar",
          "17 Mar",
          "18 Mar",
          "19 Mar",
          "20 Mar",
          "21 Mar",
          "22 Mar",
          "23 Mar",
          "24 Mar",
          "25 Mar",
          "26 Mar",
          "27 Mar",
          "28 Mar",
          "29 Mar"
         ],
         "y": [
          -44.7077640217901,
          -35.80552522187926,
          -25.4268448118454,
          -13.326854070786013,
          0.7799273454889857,
          17.226326866381385,
          36.400371548802866,
          58.75444296829292,
          84.81595045428435,
          115.19977448779821,
          150.6227738440619,
          191.9206987533756,
          240.0679091197878,
          296.200363018089,
          361.64241784673084,
          437.9380764679298,
          526.8874155387264,
          630.5890555024604,
          751.4896742536416,
          892.4417326736458,
          1056.7707739809066,
          1248.3538847184434,
          1471.7111685429286,
          "",
          "",
          "",
          "",
          "",
          "",
          "",
          "",
          "",
          "",
          "",
          "",
          "",
          "",
          "",
          ""
         ]
        },
        {
         "line": {
          "color": "rgba(55, 128, 191, 1.0)",
          "dash": "solid",
          "shape": "linear",
          "width": 1.3
         },
         "marker": {
          "size": 4,
          "symbol": "circle"
         },
         "mode": "lines+markers",
         "name": "sigm",
         "text": "",
         "type": "scatter",
         "x": [
          "20 Feb",
          "21 Feb",
          "22 Feb",
          "23 Feb",
          "24 Feb",
          "25 Feb",
          "26 Feb",
          "27 Feb",
          "28 Feb",
          "29 Feb",
          "01 Mar",
          "02 Mar",
          "03 Mar",
          "04 Mar",
          "05 Mar",
          "06 Mar",
          "07 Mar",
          "08 Mar",
          "09 Mar",
          "10 Mar",
          "11 Mar",
          "12 Mar",
          "13 Mar",
          "14 Mar",
          "15 Mar",
          "16 Mar",
          "17 Mar",
          "18 Mar",
          "19 Mar",
          "20 Mar",
          "21 Mar",
          "22 Mar",
          "23 Mar",
          "24 Mar",
          "25 Mar",
          "26 Mar",
          "27 Mar",
          "28 Mar",
          "29 Mar"
         ],
         "y": [
          4.631069111803057,
          7.246360683269141,
          10.756411107695946,
          15.460296403129654,
          21.75143717907873,
          30.142906097764346,
          41.2959789463207,
          56.04928966794215,
          75.44293444825425,
          100.72722738299412,
          133.33960576591198,
          174.8267166772294,
          226.68572430190355,
          290.1064575382606,
          365.6232539594952,
          452.73653803100797,
          549.6261294315624,
          653.111457026267,
          758.9679134931486,
          862.5709034219507,
          959.6762776388689,
          1047.0709115006061,
          1122.8986177027639,
          1186.628599451735,
          1238.7731736786752,
          1280.509934629716,
          1313.3317953466099,
          1338.7865218601214,
          1358.3156436801182,
          1373.1747786530457,
          1384.4094365725023,
          1392.863189211737,
          1399.2015313967665,
          1403.9409930216884,
          1407.477748829717,
          1410.113026153965,
          1412.0743963476405,
          1413.5329740039845,
          1414.6169742302638
         ]
        },
        {
         "line": {
          "color": "rgba(50, 171, 96, 1.0)",
          "dash": "solid",
          "shape": "linear",
          "width": 1.3
         },
         "marker": {
          "size": 8,
          "symbol": "circle"
         },
         "mode": "markers",
         "name": "intensive care",
         "text": "",
         "type": "scatter",
         "x": [
          "20 Feb",
          "21 Feb",
          "22 Feb",
          "23 Feb",
          "24 Feb",
          "25 Feb",
          "26 Feb",
          "27 Feb",
          "28 Feb",
          "29 Feb",
          "01 Mar",
          "02 Mar",
          "03 Mar",
          "04 Mar",
          "05 Mar",
          "06 Mar",
          "07 Mar",
          "08 Mar",
          "09 Mar",
          "10 Mar",
          "11 Mar",
          "12 Mar",
          "13 Mar",
          "14 Mar",
          "15 Mar",
          "16 Mar",
          "17 Mar",
          "18 Mar",
          "19 Mar",
          "20 Mar",
          "21 Mar",
          "22 Mar",
          "23 Mar",
          "24 Mar",
          "25 Mar",
          "26 Mar",
          "27 Mar",
          "28 Mar",
          "29 Mar"
         ],
         "y": [
          "",
          "",
          "",
          "",
          27.0,
          35.0,
          36.0,
          56.0,
          64.0,
          105.0,
          140.0,
          166.0,
          229.0,
          295.0,
          351.0,
          462.0,
          567.0,
          650.0,
          733.0,
          877.0,
          "",
          "",
          "",
          "",
          "",
          "",
          "",
          "",
          "",
          "",
          "",
          "",
          "",
          "",
          "",
          "",
          "",
          "",
          ""
         ]
        },
        {
         "marker": {
          "color": "rgba(255, 0, 0, 125)",
          "size": 8
         },
         "mode": "markers",
         "name": "flex",
         "type": "scatter",
         "x": [
          "09 Mar"
         ],
         "y": [
          707.4011843694177
         ]
        }
       ],
       "layout": {
        "legend": {
         "bgcolor": "#FFFFFF",
         "font": {
          "color": "#4D5663"
         }
        },
        "paper_bgcolor": "#FFFFFF",
        "plot_bgcolor": "#FFFFFF",
        "template": {
         "data": {
          "bar": [
           {
            "error_x": {
             "color": "#2a3f5f"
            },
            "error_y": {
             "color": "#2a3f5f"
            },
            "marker": {
             "line": {
              "color": "#E5ECF6",
              "width": 0.5
             }
            },
            "type": "bar"
           }
          ],
          "barpolar": [
           {
            "marker": {
             "line": {
              "color": "#E5ECF6",
              "width": 0.5
             }
            },
            "type": "barpolar"
           }
          ],
          "carpet": [
           {
            "aaxis": {
             "endlinecolor": "#2a3f5f",
             "gridcolor": "white",
             "linecolor": "white",
             "minorgridcolor": "white",
             "startlinecolor": "#2a3f5f"
            },
            "baxis": {
             "endlinecolor": "#2a3f5f",
             "gridcolor": "white",
             "linecolor": "white",
             "minorgridcolor": "white",
             "startlinecolor": "#2a3f5f"
            },
            "type": "carpet"
           }
          ],
          "choropleth": [
           {
            "colorbar": {
             "outlinewidth": 0,
             "ticks": ""
            },
            "type": "choropleth"
           }
          ],
          "contour": [
           {
            "colorbar": {
             "outlinewidth": 0,
             "ticks": ""
            },
            "colorscale": [
             [
              0.0,
              "#0d0887"
             ],
             [
              0.1111111111111111,
              "#46039f"
             ],
             [
              0.2222222222222222,
              "#7201a8"
             ],
             [
              0.3333333333333333,
              "#9c179e"
             ],
             [
              0.4444444444444444,
              "#bd3786"
             ],
             [
              0.5555555555555556,
              "#d8576b"
             ],
             [
              0.6666666666666666,
              "#ed7953"
             ],
             [
              0.7777777777777778,
              "#fb9f3a"
             ],
             [
              0.8888888888888888,
              "#fdca26"
             ],
             [
              1.0,
              "#f0f921"
             ]
            ],
            "type": "contour"
           }
          ],
          "contourcarpet": [
           {
            "colorbar": {
             "outlinewidth": 0,
             "ticks": ""
            },
            "type": "contourcarpet"
           }
          ],
          "heatmap": [
           {
            "colorbar": {
             "outlinewidth": 0,
             "ticks": ""
            },
            "colorscale": [
             [
              0.0,
              "#0d0887"
             ],
             [
              0.1111111111111111,
              "#46039f"
             ],
             [
              0.2222222222222222,
              "#7201a8"
             ],
             [
              0.3333333333333333,
              "#9c179e"
             ],
             [
              0.4444444444444444,
              "#bd3786"
             ],
             [
              0.5555555555555556,
              "#d8576b"
             ],
             [
              0.6666666666666666,
              "#ed7953"
             ],
             [
              0.7777777777777778,
              "#fb9f3a"
             ],
             [
              0.8888888888888888,
              "#fdca26"
             ],
             [
              1.0,
              "#f0f921"
             ]
            ],
            "type": "heatmap"
           }
          ],
          "heatmapgl": [
           {
            "colorbar": {
             "outlinewidth": 0,
             "ticks": ""
            },
            "colorscale": [
             [
              0.0,
              "#0d0887"
             ],
             [
              0.1111111111111111,
              "#46039f"
             ],
             [
              0.2222222222222222,
              "#7201a8"
             ],
             [
              0.3333333333333333,
              "#9c179e"
             ],
             [
              0.4444444444444444,
              "#bd3786"
             ],
             [
              0.5555555555555556,
              "#d8576b"
             ],
             [
              0.6666666666666666,
              "#ed7953"
             ],
             [
              0.7777777777777778,
              "#fb9f3a"
             ],
             [
              0.8888888888888888,
              "#fdca26"
             ],
             [
              1.0,
              "#f0f921"
             ]
            ],
            "type": "heatmapgl"
           }
          ],
          "histogram": [
           {
            "marker": {
             "colorbar": {
              "outlinewidth": 0,
              "ticks": ""
             }
            },
            "type": "histogram"
           }
          ],
          "histogram2d": [
           {
            "colorbar": {
             "outlinewidth": 0,
             "ticks": ""
            },
            "colorscale": [
             [
              0.0,
              "#0d0887"
             ],
             [
              0.1111111111111111,
              "#46039f"
             ],
             [
              0.2222222222222222,
              "#7201a8"
             ],
             [
              0.3333333333333333,
              "#9c179e"
             ],
             [
              0.4444444444444444,
              "#bd3786"
             ],
             [
              0.5555555555555556,
              "#d8576b"
             ],
             [
              0.6666666666666666,
              "#ed7953"
             ],
             [
              0.7777777777777778,
              "#fb9f3a"
             ],
             [
              0.8888888888888888,
              "#fdca26"
             ],
             [
              1.0,
              "#f0f921"
             ]
            ],
            "type": "histogram2d"
           }
          ],
          "histogram2dcontour": [
           {
            "colorbar": {
             "outlinewidth": 0,
             "ticks": ""
            },
            "colorscale": [
             [
              0.0,
              "#0d0887"
             ],
             [
              0.1111111111111111,
              "#46039f"
             ],
             [
              0.2222222222222222,
              "#7201a8"
             ],
             [
              0.3333333333333333,
              "#9c179e"
             ],
             [
              0.4444444444444444,
              "#bd3786"
             ],
             [
              0.5555555555555556,
              "#d8576b"
             ],
             [
              0.6666666666666666,
              "#ed7953"
             ],
             [
              0.7777777777777778,
              "#fb9f3a"
             ],
             [
              0.8888888888888888,
              "#fdca26"
             ],
             [
              1.0,
              "#f0f921"
             ]
            ],
            "type": "histogram2dcontour"
           }
          ],
          "mesh3d": [
           {
            "colorbar": {
             "outlinewidth": 0,
             "ticks": ""
            },
            "type": "mesh3d"
           }
          ],
          "parcoords": [
           {
            "line": {
             "colorbar": {
              "outlinewidth": 0,
              "ticks": ""
             }
            },
            "type": "parcoords"
           }
          ],
          "pie": [
           {
            "automargin": true,
            "type": "pie"
           }
          ],
          "scatter": [
           {
            "marker": {
             "colorbar": {
              "outlinewidth": 0,
              "ticks": ""
             }
            },
            "type": "scatter"
           }
          ],
          "scatter3d": [
           {
            "line": {
             "colorbar": {
              "outlinewidth": 0,
              "ticks": ""
             }
            },
            "marker": {
             "colorbar": {
              "outlinewidth": 0,
              "ticks": ""
             }
            },
            "type": "scatter3d"
           }
          ],
          "scattercarpet": [
           {
            "marker": {
             "colorbar": {
              "outlinewidth": 0,
              "ticks": ""
             }
            },
            "type": "scattercarpet"
           }
          ],
          "scattergeo": [
           {
            "marker": {
             "colorbar": {
              "outlinewidth": 0,
              "ticks": ""
             }
            },
            "type": "scattergeo"
           }
          ],
          "scattergl": [
           {
            "marker": {
             "colorbar": {
              "outlinewidth": 0,
              "ticks": ""
             }
            },
            "type": "scattergl"
           }
          ],
          "scattermapbox": [
           {
            "marker": {
             "colorbar": {
              "outlinewidth": 0,
              "ticks": ""
             }
            },
            "type": "scattermapbox"
           }
          ],
          "scatterpolar": [
           {
            "marker": {
             "colorbar": {
              "outlinewidth": 0,
              "ticks": ""
             }
            },
            "type": "scatterpolar"
           }
          ],
          "scatterpolargl": [
           {
            "marker": {
             "colorbar": {
              "outlinewidth": 0,
              "ticks": ""
             }
            },
            "type": "scatterpolargl"
           }
          ],
          "scatterternary": [
           {
            "marker": {
             "colorbar": {
              "outlinewidth": 0,
              "ticks": ""
             }
            },
            "type": "scatterternary"
           }
          ],
          "surface": [
           {
            "colorbar": {
             "outlinewidth": 0,
             "ticks": ""
            },
            "colorscale": [
             [
              0.0,
              "#0d0887"
             ],
             [
              0.1111111111111111,
              "#46039f"
             ],
             [
              0.2222222222222222,
              "#7201a8"
             ],
             [
              0.3333333333333333,
              "#9c179e"
             ],
             [
              0.4444444444444444,
              "#bd3786"
             ],
             [
              0.5555555555555556,
              "#d8576b"
             ],
             [
              0.6666666666666666,
              "#ed7953"
             ],
             [
              0.7777777777777778,
              "#fb9f3a"
             ],
             [
              0.8888888888888888,
              "#fdca26"
             ],
             [
              1.0,
              "#f0f921"
             ]
            ],
            "type": "surface"
           }
          ],
          "table": [
           {
            "cells": {
             "fill": {
              "color": "#EBF0F8"
             },
             "line": {
              "color": "white"
             }
            },
            "header": {
             "fill": {
              "color": "#C8D4E3"
             },
             "line": {
              "color": "white"
             }
            },
            "type": "table"
           }
          ]
         },
         "layout": {
          "annotationdefaults": {
           "arrowcolor": "#2a3f5f",
           "arrowhead": 0,
           "arrowwidth": 1
          },
          "coloraxis": {
           "colorbar": {
            "outlinewidth": 0,
            "ticks": ""
           }
          },
          "colorscale": {
           "diverging": [
            [
             0,
             "#8e0152"
            ],
            [
             0.1,
             "#c51b7d"
            ],
            [
             0.2,
             "#de77ae"
            ],
            [
             0.3,
             "#f1b6da"
            ],
            [
             0.4,
             "#fde0ef"
            ],
            [
             0.5,
             "#f7f7f7"
            ],
            [
             0.6,
             "#e6f5d0"
            ],
            [
             0.7,
             "#b8e186"
            ],
            [
             0.8,
             "#7fbc41"
            ],
            [
             0.9,
             "#4d9221"
            ],
            [
             1,
             "#276419"
            ]
           ],
           "sequential": [
            [
             0.0,
             "#0d0887"
            ],
            [
             0.1111111111111111,
             "#46039f"
            ],
            [
             0.2222222222222222,
             "#7201a8"
            ],
            [
             0.3333333333333333,
             "#9c179e"
            ],
            [
             0.4444444444444444,
             "#bd3786"
            ],
            [
             0.5555555555555556,
             "#d8576b"
            ],
            [
             0.6666666666666666,
             "#ed7953"
            ],
            [
             0.7777777777777778,
             "#fb9f3a"
            ],
            [
             0.8888888888888888,
             "#fdca26"
            ],
            [
             1.0,
             "#f0f921"
            ]
           ],
           "sequentialminus": [
            [
             0.0,
             "#0d0887"
            ],
            [
             0.1111111111111111,
             "#46039f"
            ],
            [
             0.2222222222222222,
             "#7201a8"
            ],
            [
             0.3333333333333333,
             "#9c179e"
            ],
            [
             0.4444444444444444,
             "#bd3786"
            ],
            [
             0.5555555555555556,
             "#d8576b"
            ],
            [
             0.6666666666666666,
             "#ed7953"
            ],
            [
             0.7777777777777778,
             "#fb9f3a"
            ],
            [
             0.8888888888888888,
             "#fdca26"
            ],
            [
             1.0,
             "#f0f921"
            ]
           ]
          },
          "colorway": [
           "#636efa",
           "#EF553B",
           "#00cc96",
           "#ab63fa",
           "#FFA15A",
           "#19d3f3",
           "#FF6692",
           "#B6E880",
           "#FF97FF",
           "#FECB52"
          ],
          "font": {
           "color": "#2a3f5f"
          },
          "geo": {
           "bgcolor": "white",
           "lakecolor": "white",
           "landcolor": "#E5ECF6",
           "showlakes": true,
           "showland": true,
           "subunitcolor": "white"
          },
          "hoverlabel": {
           "align": "left"
          },
          "hovermode": "closest",
          "mapbox": {
           "style": "light"
          },
          "paper_bgcolor": "white",
          "plot_bgcolor": "#E5ECF6",
          "polar": {
           "angularaxis": {
            "gridcolor": "white",
            "linecolor": "white",
            "ticks": ""
           },
           "bgcolor": "#E5ECF6",
           "radialaxis": {
            "gridcolor": "white",
            "linecolor": "white",
            "ticks": ""
           }
          },
          "scene": {
           "xaxis": {
            "backgroundcolor": "#E5ECF6",
            "gridcolor": "white",
            "gridwidth": 2,
            "linecolor": "white",
            "showbackground": true,
            "ticks": "",
            "zerolinecolor": "white"
           },
           "yaxis": {
            "backgroundcolor": "#E5ECF6",
            "gridcolor": "white",
            "gridwidth": 2,
            "linecolor": "white",
            "showbackground": true,
            "ticks": "",
            "zerolinecolor": "white"
           },
           "zaxis": {
            "backgroundcolor": "#E5ECF6",
            "gridcolor": "white",
            "gridwidth": 2,
            "linecolor": "white",
            "showbackground": true,
            "ticks": "",
            "zerolinecolor": "white"
           }
          },
          "shapedefaults": {
           "line": {
            "color": "#2a3f5f"
           }
          },
          "ternary": {
           "aaxis": {
            "gridcolor": "white",
            "linecolor": "white",
            "ticks": ""
           },
           "baxis": {
            "gridcolor": "white",
            "linecolor": "white",
            "ticks": ""
           },
           "bgcolor": "#E5ECF6",
           "caxis": {
            "gridcolor": "white",
            "linecolor": "white",
            "ticks": ""
           }
          },
          "title": {
           "x": 0.05
          },
          "xaxis": {
           "automargin": true,
           "gridcolor": "white",
           "linecolor": "white",
           "ticks": "",
           "title": {
            "standoff": 15
           },
           "zerolinecolor": "white",
           "zerolinewidth": 2
          },
          "yaxis": {
           "automargin": true,
           "gridcolor": "white",
           "linecolor": "white",
           "ticks": "",
           "title": {
            "standoff": 15
           },
           "zerolinecolor": "white",
           "zerolinewidth": 2
          }
         }
        },
        "title": {
         "font": {
          "color": "#4D5663"
         },
         "text": "Intensive care cases"
        },
        "xaxis": {
         "gridcolor": "#E1E5ED",
         "showgrid": true,
         "tickfont": {
          "color": "#4D5663"
         },
         "title": {
          "font": {
           "color": "#4D5663"
          },
          "text": ""
         },
         "zerolinecolor": "#E1E5ED"
        },
        "yaxis": {
         "gridcolor": "#E1E5ED",
         "showgrid": true,
         "tickfont": {
          "color": "#4D5663"
         },
         "title": {
          "font": {
           "color": "#4D5663"
          },
          "text": "case"
         },
         "zerolinecolor": "#E1E5ED"
        }
       }
      },
      "text/html": "<div>\n        \n        \n            <div id=\"0b9e417e-2d5e-4739-bfe8-e34f484322d2\" class=\"plotly-graph-div\" style=\"height:525px; width:100%;\"></div>\n            <script type=\"text/javascript\">\n                require([\"plotly\"], function(Plotly) {\n                    window.PLOTLYENV=window.PLOTLYENV || {};\n                    \n                if (document.getElementById(\"0b9e417e-2d5e-4739-bfe8-e34f484322d2\")) {\n                    Plotly.newPlot(\n                        '0b9e417e-2d5e-4739-bfe8-e34f484322d2',\n                        [{\"line\": {\"color\": \"rgba(255, 153, 51, 1.0)\", \"dash\": \"solid\", \"shape\": \"linear\", \"width\": 1.3}, \"marker\": {\"size\": 4, \"symbol\": \"circle\"}, \"mode\": \"lines+markers\", \"name\": \"exp\", \"text\": \"\", \"type\": \"scatter\", \"x\": [\"20 Feb\", \"21 Feb\", \"22 Feb\", \"23 Feb\", \"24 Feb\", \"25 Feb\", \"26 Feb\", \"27 Feb\", \"28 Feb\", \"29 Feb\", \"01 Mar\", \"02 Mar\", \"03 Mar\", \"04 Mar\", \"05 Mar\", \"06 Mar\", \"07 Mar\", \"08 Mar\", \"09 Mar\", \"10 Mar\", \"11 Mar\", \"12 Mar\", \"13 Mar\", \"14 Mar\", \"15 Mar\", \"16 Mar\", \"17 Mar\", \"18 Mar\", \"19 Mar\", \"20 Mar\", \"21 Mar\", \"22 Mar\", \"23 Mar\", \"24 Mar\", \"25 Mar\", \"26 Mar\", \"27 Mar\", \"28 Mar\", \"29 Mar\"], \"y\": [-44.7077640217901, -35.80552522187926, -25.4268448118454, -13.326854070786013, 0.7799273454889857, 17.226326866381385, 36.400371548802866, 58.75444296829292, 84.81595045428435, 115.19977448779821, 150.6227738440619, 191.9206987533756, 240.0679091197878, 296.200363018089, 361.64241784673084, 437.9380764679298, 526.8874155387264, 630.5890555024604, 751.4896742536416, 892.4417326736458, 1056.7707739809066, 1248.3538847184434, 1471.7111685429286, \"\", \"\", \"\", \"\", \"\", \"\", \"\", \"\", \"\", \"\", \"\", \"\", \"\", \"\", \"\", \"\"]}, {\"line\": {\"color\": \"rgba(55, 128, 191, 1.0)\", \"dash\": \"solid\", \"shape\": \"linear\", \"width\": 1.3}, \"marker\": {\"size\": 4, \"symbol\": \"circle\"}, \"mode\": \"lines+markers\", \"name\": \"sigm\", \"text\": \"\", \"type\": \"scatter\", \"x\": [\"20 Feb\", \"21 Feb\", \"22 Feb\", \"23 Feb\", \"24 Feb\", \"25 Feb\", \"26 Feb\", \"27 Feb\", \"28 Feb\", \"29 Feb\", \"01 Mar\", \"02 Mar\", \"03 Mar\", \"04 Mar\", \"05 Mar\", \"06 Mar\", \"07 Mar\", \"08 Mar\", \"09 Mar\", \"10 Mar\", \"11 Mar\", \"12 Mar\", \"13 Mar\", \"14 Mar\", \"15 Mar\", \"16 Mar\", \"17 Mar\", \"18 Mar\", \"19 Mar\", \"20 Mar\", \"21 Mar\", \"22 Mar\", \"23 Mar\", \"24 Mar\", \"25 Mar\", \"26 Mar\", \"27 Mar\", \"28 Mar\", \"29 Mar\"], \"y\": [4.631069111803057, 7.246360683269141, 10.756411107695946, 15.460296403129654, 21.75143717907873, 30.142906097764346, 41.2959789463207, 56.04928966794215, 75.44293444825425, 100.72722738299412, 133.33960576591198, 174.8267166772294, 226.68572430190355, 290.1064575382606, 365.6232539594952, 452.73653803100797, 549.6261294315624, 653.111457026267, 758.9679134931486, 862.5709034219507, 959.6762776388689, 1047.0709115006061, 1122.8986177027639, 1186.628599451735, 1238.7731736786752, 1280.509934629716, 1313.3317953466099, 1338.7865218601214, 1358.3156436801182, 1373.1747786530457, 1384.4094365725023, 1392.863189211737, 1399.2015313967665, 1403.9409930216884, 1407.477748829717, 1410.113026153965, 1412.0743963476405, 1413.5329740039845, 1414.6169742302638]}, {\"line\": {\"color\": \"rgba(50, 171, 96, 1.0)\", \"dash\": \"solid\", \"shape\": \"linear\", \"width\": 1.3}, \"marker\": {\"size\": 8, \"symbol\": \"circle\"}, \"mode\": \"markers\", \"name\": \"intensive care\", \"text\": \"\", \"type\": \"scatter\", \"x\": [\"20 Feb\", \"21 Feb\", \"22 Feb\", \"23 Feb\", \"24 Feb\", \"25 Feb\", \"26 Feb\", \"27 Feb\", \"28 Feb\", \"29 Feb\", \"01 Mar\", \"02 Mar\", \"03 Mar\", \"04 Mar\", \"05 Mar\", \"06 Mar\", \"07 Mar\", \"08 Mar\", \"09 Mar\", \"10 Mar\", \"11 Mar\", \"12 Mar\", \"13 Mar\", \"14 Mar\", \"15 Mar\", \"16 Mar\", \"17 Mar\", \"18 Mar\", \"19 Mar\", \"20 Mar\", \"21 Mar\", \"22 Mar\", \"23 Mar\", \"24 Mar\", \"25 Mar\", \"26 Mar\", \"27 Mar\", \"28 Mar\", \"29 Mar\"], \"y\": [\"\", \"\", \"\", \"\", 27.0, 35.0, 36.0, 56.0, 64.0, 105.0, 140.0, 166.0, 229.0, 295.0, 351.0, 462.0, 567.0, 650.0, 733.0, 877.0, \"\", \"\", \"\", \"\", \"\", \"\", \"\", \"\", \"\", \"\", \"\", \"\", \"\", \"\", \"\", \"\", \"\", \"\", \"\"]}, {\"marker\": {\"color\": \"rgba(255, 0, 0, 125)\", \"size\": 8}, \"mode\": \"markers\", \"name\": \"flex\", \"type\": \"scatter\", \"x\": [\"09 Mar\"], \"y\": [707.4011843694177]}],\n                        {\"legend\": {\"bgcolor\": \"#FFFFFF\", \"font\": {\"color\": \"#4D5663\"}}, \"paper_bgcolor\": \"#FFFFFF\", \"plot_bgcolor\": \"#FFFFFF\", \"template\": {\"data\": {\"bar\": [{\"error_x\": {\"color\": \"#2a3f5f\"}, \"error_y\": {\"color\": \"#2a3f5f\"}, \"marker\": {\"line\": {\"color\": \"#E5ECF6\", \"width\": 0.5}}, \"type\": \"bar\"}], \"barpolar\": [{\"marker\": {\"line\": {\"color\": \"#E5ECF6\", \"width\": 0.5}}, \"type\": \"barpolar\"}], \"carpet\": [{\"aaxis\": {\"endlinecolor\": \"#2a3f5f\", \"gridcolor\": \"white\", \"linecolor\": \"white\", \"minorgridcolor\": \"white\", \"startlinecolor\": \"#2a3f5f\"}, \"baxis\": {\"endlinecolor\": \"#2a3f5f\", \"gridcolor\": \"white\", \"linecolor\": \"white\", \"minorgridcolor\": \"white\", \"startlinecolor\": \"#2a3f5f\"}, \"type\": \"carpet\"}], \"choropleth\": [{\"colorbar\": {\"outlinewidth\": 0, \"ticks\": \"\"}, \"type\": \"choropleth\"}], \"contour\": [{\"colorbar\": {\"outlinewidth\": 0, \"ticks\": \"\"}, \"colorscale\": [[0.0, \"#0d0887\"], [0.1111111111111111, \"#46039f\"], [0.2222222222222222, \"#7201a8\"], [0.3333333333333333, \"#9c179e\"], [0.4444444444444444, \"#bd3786\"], [0.5555555555555556, \"#d8576b\"], [0.6666666666666666, \"#ed7953\"], [0.7777777777777778, \"#fb9f3a\"], [0.8888888888888888, \"#fdca26\"], [1.0, \"#f0f921\"]], \"type\": \"contour\"}], \"contourcarpet\": [{\"colorbar\": {\"outlinewidth\": 0, \"ticks\": \"\"}, \"type\": \"contourcarpet\"}], \"heatmap\": [{\"colorbar\": {\"outlinewidth\": 0, \"ticks\": \"\"}, \"colorscale\": [[0.0, \"#0d0887\"], [0.1111111111111111, \"#46039f\"], [0.2222222222222222, \"#7201a8\"], [0.3333333333333333, \"#9c179e\"], [0.4444444444444444, \"#bd3786\"], [0.5555555555555556, \"#d8576b\"], [0.6666666666666666, \"#ed7953\"], [0.7777777777777778, \"#fb9f3a\"], [0.8888888888888888, \"#fdca26\"], [1.0, \"#f0f921\"]], \"type\": \"heatmap\"}], \"heatmapgl\": [{\"colorbar\": {\"outlinewidth\": 0, \"ticks\": \"\"}, \"colorscale\": [[0.0, \"#0d0887\"], [0.1111111111111111, \"#46039f\"], [0.2222222222222222, \"#7201a8\"], [0.3333333333333333, \"#9c179e\"], [0.4444444444444444, \"#bd3786\"], [0.5555555555555556, \"#d8576b\"], [0.6666666666666666, \"#ed7953\"], [0.7777777777777778, \"#fb9f3a\"], [0.8888888888888888, \"#fdca26\"], [1.0, \"#f0f921\"]], \"type\": \"heatmapgl\"}], \"histogram\": [{\"marker\": {\"colorbar\": {\"outlinewidth\": 0, \"ticks\": \"\"}}, \"type\": \"histogram\"}], \"histogram2d\": [{\"colorbar\": {\"outlinewidth\": 0, \"ticks\": \"\"}, \"colorscale\": [[0.0, \"#0d0887\"], [0.1111111111111111, \"#46039f\"], [0.2222222222222222, \"#7201a8\"], [0.3333333333333333, \"#9c179e\"], [0.4444444444444444, \"#bd3786\"], [0.5555555555555556, \"#d8576b\"], [0.6666666666666666, \"#ed7953\"], [0.7777777777777778, \"#fb9f3a\"], [0.8888888888888888, \"#fdca26\"], [1.0, \"#f0f921\"]], \"type\": \"histogram2d\"}], \"histogram2dcontour\": [{\"colorbar\": {\"outlinewidth\": 0, \"ticks\": \"\"}, \"colorscale\": [[0.0, \"#0d0887\"], [0.1111111111111111, \"#46039f\"], [0.2222222222222222, \"#7201a8\"], [0.3333333333333333, \"#9c179e\"], [0.4444444444444444, \"#bd3786\"], [0.5555555555555556, \"#d8576b\"], [0.6666666666666666, \"#ed7953\"], [0.7777777777777778, \"#fb9f3a\"], [0.8888888888888888, \"#fdca26\"], [1.0, \"#f0f921\"]], \"type\": \"histogram2dcontour\"}], \"mesh3d\": [{\"colorbar\": {\"outlinewidth\": 0, \"ticks\": \"\"}, \"type\": \"mesh3d\"}], \"parcoords\": [{\"line\": {\"colorbar\": {\"outlinewidth\": 0, \"ticks\": \"\"}}, \"type\": \"parcoords\"}], \"pie\": [{\"automargin\": true, \"type\": \"pie\"}], \"scatter\": [{\"marker\": {\"colorbar\": {\"outlinewidth\": 0, \"ticks\": \"\"}}, \"type\": \"scatter\"}], \"scatter3d\": [{\"line\": {\"colorbar\": {\"outlinewidth\": 0, \"ticks\": \"\"}}, \"marker\": {\"colorbar\": {\"outlinewidth\": 0, \"ticks\": \"\"}}, \"type\": \"scatter3d\"}], \"scattercarpet\": [{\"marker\": {\"colorbar\": {\"outlinewidth\": 0, \"ticks\": \"\"}}, \"type\": \"scattercarpet\"}], \"scattergeo\": [{\"marker\": {\"colorbar\": {\"outlinewidth\": 0, \"ticks\": \"\"}}, \"type\": \"scattergeo\"}], \"scattergl\": [{\"marker\": {\"colorbar\": {\"outlinewidth\": 0, \"ticks\": \"\"}}, \"type\": \"scattergl\"}], \"scattermapbox\": [{\"marker\": {\"colorbar\": {\"outlinewidth\": 0, \"ticks\": \"\"}}, \"type\": \"scattermapbox\"}], \"scatterpolar\": [{\"marker\": {\"colorbar\": {\"outlinewidth\": 0, \"ticks\": \"\"}}, \"type\": \"scatterpolar\"}], \"scatterpolargl\": [{\"marker\": {\"colorbar\": {\"outlinewidth\": 0, \"ticks\": \"\"}}, \"type\": \"scatterpolargl\"}], \"scatterternary\": [{\"marker\": {\"colorbar\": {\"outlinewidth\": 0, \"ticks\": \"\"}}, \"type\": \"scatterternary\"}], \"surface\": [{\"colorbar\": {\"outlinewidth\": 0, \"ticks\": \"\"}, \"colorscale\": [[0.0, \"#0d0887\"], [0.1111111111111111, \"#46039f\"], [0.2222222222222222, \"#7201a8\"], [0.3333333333333333, \"#9c179e\"], [0.4444444444444444, \"#bd3786\"], [0.5555555555555556, \"#d8576b\"], [0.6666666666666666, \"#ed7953\"], [0.7777777777777778, \"#fb9f3a\"], [0.8888888888888888, \"#fdca26\"], [1.0, \"#f0f921\"]], \"type\": \"surface\"}], \"table\": [{\"cells\": {\"fill\": {\"color\": \"#EBF0F8\"}, \"line\": {\"color\": \"white\"}}, \"header\": {\"fill\": {\"color\": \"#C8D4E3\"}, \"line\": {\"color\": \"white\"}}, \"type\": \"table\"}]}, \"layout\": {\"annotationdefaults\": {\"arrowcolor\": \"#2a3f5f\", \"arrowhead\": 0, \"arrowwidth\": 1}, \"coloraxis\": {\"colorbar\": {\"outlinewidth\": 0, \"ticks\": \"\"}}, \"colorscale\": {\"diverging\": [[0, \"#8e0152\"], [0.1, \"#c51b7d\"], [0.2, \"#de77ae\"], [0.3, \"#f1b6da\"], [0.4, \"#fde0ef\"], [0.5, \"#f7f7f7\"], [0.6, \"#e6f5d0\"], [0.7, \"#b8e186\"], [0.8, \"#7fbc41\"], [0.9, \"#4d9221\"], [1, \"#276419\"]], \"sequential\": [[0.0, \"#0d0887\"], [0.1111111111111111, \"#46039f\"], [0.2222222222222222, \"#7201a8\"], [0.3333333333333333, \"#9c179e\"], [0.4444444444444444, \"#bd3786\"], [0.5555555555555556, \"#d8576b\"], [0.6666666666666666, \"#ed7953\"], [0.7777777777777778, \"#fb9f3a\"], [0.8888888888888888, \"#fdca26\"], [1.0, \"#f0f921\"]], \"sequentialminus\": [[0.0, \"#0d0887\"], [0.1111111111111111, \"#46039f\"], [0.2222222222222222, \"#7201a8\"], [0.3333333333333333, \"#9c179e\"], [0.4444444444444444, \"#bd3786\"], [0.5555555555555556, \"#d8576b\"], [0.6666666666666666, \"#ed7953\"], [0.7777777777777778, \"#fb9f3a\"], [0.8888888888888888, \"#fdca26\"], [1.0, \"#f0f921\"]]}, \"colorway\": [\"#636efa\", \"#EF553B\", \"#00cc96\", \"#ab63fa\", \"#FFA15A\", \"#19d3f3\", \"#FF6692\", \"#B6E880\", \"#FF97FF\", \"#FECB52\"], \"font\": {\"color\": \"#2a3f5f\"}, \"geo\": {\"bgcolor\": \"white\", \"lakecolor\": \"white\", \"landcolor\": \"#E5ECF6\", \"showlakes\": true, \"showland\": true, \"subunitcolor\": \"white\"}, \"hoverlabel\": {\"align\": \"left\"}, \"hovermode\": \"closest\", \"mapbox\": {\"style\": \"light\"}, \"paper_bgcolor\": \"white\", \"plot_bgcolor\": \"#E5ECF6\", \"polar\": {\"angularaxis\": {\"gridcolor\": \"white\", \"linecolor\": \"white\", \"ticks\": \"\"}, \"bgcolor\": \"#E5ECF6\", \"radialaxis\": {\"gridcolor\": \"white\", \"linecolor\": \"white\", \"ticks\": \"\"}}, \"scene\": {\"xaxis\": {\"backgroundcolor\": \"#E5ECF6\", \"gridcolor\": \"white\", \"gridwidth\": 2, \"linecolor\": \"white\", \"showbackground\": true, \"ticks\": \"\", \"zerolinecolor\": \"white\"}, \"yaxis\": {\"backgroundcolor\": \"#E5ECF6\", \"gridcolor\": \"white\", \"gridwidth\": 2, \"linecolor\": \"white\", \"showbackground\": true, \"ticks\": \"\", \"zerolinecolor\": \"white\"}, \"zaxis\": {\"backgroundcolor\": \"#E5ECF6\", \"gridcolor\": \"white\", \"gridwidth\": 2, \"linecolor\": \"white\", \"showbackground\": true, \"ticks\": \"\", \"zerolinecolor\": \"white\"}}, \"shapedefaults\": {\"line\": {\"color\": \"#2a3f5f\"}}, \"ternary\": {\"aaxis\": {\"gridcolor\": \"white\", \"linecolor\": \"white\", \"ticks\": \"\"}, \"baxis\": {\"gridcolor\": \"white\", \"linecolor\": \"white\", \"ticks\": \"\"}, \"bgcolor\": \"#E5ECF6\", \"caxis\": {\"gridcolor\": \"white\", \"linecolor\": \"white\", \"ticks\": \"\"}}, \"title\": {\"x\": 0.05}, \"xaxis\": {\"automargin\": true, \"gridcolor\": \"white\", \"linecolor\": \"white\", \"ticks\": \"\", \"title\": {\"standoff\": 15}, \"zerolinecolor\": \"white\", \"zerolinewidth\": 2}, \"yaxis\": {\"automargin\": true, \"gridcolor\": \"white\", \"linecolor\": \"white\", \"ticks\": \"\", \"title\": {\"standoff\": 15}, \"zerolinecolor\": \"white\", \"zerolinewidth\": 2}}}, \"title\": {\"font\": {\"color\": \"#4D5663\"}, \"text\": \"Intensive care cases\"}, \"xaxis\": {\"gridcolor\": \"#E1E5ED\", \"showgrid\": true, \"tickfont\": {\"color\": \"#4D5663\"}, \"title\": {\"font\": {\"color\": \"#4D5663\"}, \"text\": \"\"}, \"zerolinecolor\": \"#E1E5ED\"}, \"yaxis\": {\"gridcolor\": \"#E1E5ED\", \"showgrid\": true, \"tickfont\": {\"color\": \"#4D5663\"}, \"title\": {\"font\": {\"color\": \"#4D5663\"}, \"text\": \"case\"}, \"zerolinecolor\": \"#E1E5ED\"}},\n                        {\"responsive\": true}\n                    ).then(function(){\n                            \nvar gd = document.getElementById('0b9e417e-2d5e-4739-bfe8-e34f484322d2');\nvar x = new MutationObserver(function (mutations, observer) {{\n        var display = window.getComputedStyle(gd).display;\n        if (!display || display === 'none') {{\n            console.log([gd, 'removed!']);\n            Plotly.purge(gd);\n            observer.disconnect();\n        }}\n}});\n\n// Listen for the removal of the full notebook cells\nvar notebookContainer = gd.closest('#notebook-container');\nif (notebookContainer) {{\n    x.observe(notebookContainer, {childList: true});\n}}\n\n// Listen for the clearing of the current output cell\nvar outputEl = gd.closest('.output');\nif (outputEl) {{\n    x.observe(outputEl, {childList: true});\n}}\n\n                        })\n                };\n                });\n            </script>\n        </div>"
     },
     "metadata": {},
     "output_type": "display_data"
    }
   ],
   "source": [
    "fig = df_final[['exp', 'sigm', 'intensive care']].iplot(theme=\"white\", title=\"Intensive care cases\", size=4, yTitle='case', mode='lines+markers', asFigure=True)\n",
    "fig.data[2].mode='markers'\n",
    "fig.data[2].marker.size = 8\n",
    "fig.add_trace(go.Scatter(x=[dt.day_of_year_to_string(round(flex[0]))], y=[flex[1]], name='flex', mode=\"markers\"))\n",
    "fig.data[3].marker.size = 8\n",
    "fig.data[3].marker.color = 'rgba(255, 0, 0, 125)'\n",
    "fig.show()"
   ],
   "metadata": {
    "collapsed": false,
    "pycharm": {
     "name": "#%%\n",
     "is_executing": false
    }
   }
  },
  {
   "cell_type": "code",
   "execution_count": 6,
   "outputs": [
    {
     "data": {
      "image/svg+xml": "<svg class=\"main-svg\" xmlns=\"http://www.w3.org/2000/svg\" xmlns:xlink=\"http://www.w3.org/1999/xlink\" width=\"700\" height=\"450\" viewBox=\"0 0 700 450\"><rect x=\"0\" y=\"0\" width=\"700\" height=\"450\" style=\"fill: rgb(255, 255, 255); fill-opacity: 1;\"/><defs id=\"defs-6a2466\"><g class=\"clips\"><clipPath id=\"clip6a2466xyplot\" class=\"plotclip\"><rect width=\"469\" height=\"264\"/></clipPath><clipPath class=\"axesclip\" id=\"clip6a2466x\"><rect x=\"80\" y=\"0\" width=\"469\" height=\"450\"/></clipPath><clipPath class=\"axesclip\" id=\"clip6a2466y\"><rect x=\"0\" y=\"100\" width=\"700\" height=\"264\"/></clipPath><clipPath class=\"axesclip\" id=\"clip6a2466xy\"><rect x=\"80\" y=\"100\" width=\"469\" height=\"264\"/></clipPath></g><g class=\"gradients\"/></defs><g class=\"bglayer\"/><g class=\"layer-below\"><g class=\"imagelayer\"/><g class=\"shapelayer\"/></g><g class=\"cartesianlayer\"><g class=\"subplot xy\"><g class=\"layer-subplot\"><g class=\"shapelayer\"/><g class=\"imagelayer\"/></g><g class=\"gridlayer\"><g class=\"x\"><path class=\"xgrid crisp\" transform=\"translate(108.45,0)\" d=\"M0,100v264\" style=\"stroke: rgb(225, 229, 237); stroke-opacity: 1; stroke-width: 1px;\"/><path class=\"xgrid crisp\" transform=\"translate(130.14,0)\" d=\"M0,100v264\" style=\"stroke: rgb(225, 229, 237); stroke-opacity: 1; stroke-width: 1px;\"/><path class=\"xgrid crisp\" transform=\"translate(151.82999999999998,0)\" d=\"M0,100v264\" style=\"stroke: rgb(225, 229, 237); stroke-opacity: 1; stroke-width: 1px;\"/><path class=\"xgrid crisp\" transform=\"translate(173.51999999999998,0)\" d=\"M0,100v264\" style=\"stroke: rgb(225, 229, 237); stroke-opacity: 1; stroke-width: 1px;\"/><path class=\"xgrid crisp\" transform=\"translate(195.20999999999998,0)\" d=\"M0,100v264\" style=\"stroke: rgb(225, 229, 237); stroke-opacity: 1; stroke-width: 1px;\"/><path class=\"xgrid crisp\" transform=\"translate(216.9,0)\" d=\"M0,100v264\" style=\"stroke: rgb(225, 229, 237); stroke-opacity: 1; stroke-width: 1px;\"/><path class=\"xgrid crisp\" transform=\"translate(238.59,0)\" d=\"M0,100v264\" style=\"stroke: rgb(225, 229, 237); stroke-opacity: 1; stroke-width: 1px;\"/><path class=\"xgrid crisp\" transform=\"translate(260.28,0)\" d=\"M0,100v264\" style=\"stroke: rgb(225, 229, 237); stroke-opacity: 1; stroke-width: 1px;\"/><path class=\"xgrid crisp\" transform=\"translate(281.97,0)\" d=\"M0,100v264\" style=\"stroke: rgb(225, 229, 237); stroke-opacity: 1; stroke-width: 1px;\"/><path class=\"xgrid crisp\" transform=\"translate(303.65999999999997,0)\" d=\"M0,100v264\" style=\"stroke: rgb(225, 229, 237); stroke-opacity: 1; stroke-width: 1px;\"/><path class=\"xgrid crisp\" transform=\"translate(325.34000000000003,0)\" d=\"M0,100v264\" style=\"stroke: rgb(225, 229, 237); stroke-opacity: 1; stroke-width: 1px;\"/><path class=\"xgrid crisp\" transform=\"translate(347.03,0)\" d=\"M0,100v264\" style=\"stroke: rgb(225, 229, 237); stroke-opacity: 1; stroke-width: 1px;\"/><path class=\"xgrid crisp\" transform=\"translate(368.72,0)\" d=\"M0,100v264\" style=\"stroke: rgb(225, 229, 237); stroke-opacity: 1; stroke-width: 1px;\"/><path class=\"xgrid crisp\" transform=\"translate(390.41,0)\" d=\"M0,100v264\" style=\"stroke: rgb(225, 229, 237); stroke-opacity: 1; stroke-width: 1px;\"/><path class=\"xgrid crisp\" transform=\"translate(412.1,0)\" d=\"M0,100v264\" style=\"stroke: rgb(225, 229, 237); stroke-opacity: 1; stroke-width: 1px;\"/><path class=\"xgrid crisp\" transform=\"translate(433.79,0)\" d=\"M0,100v264\" style=\"stroke: rgb(225, 229, 237); stroke-opacity: 1; stroke-width: 1px;\"/><path class=\"xgrid crisp\" transform=\"translate(455.48,0)\" d=\"M0,100v264\" style=\"stroke: rgb(225, 229, 237); stroke-opacity: 1; stroke-width: 1px;\"/><path class=\"xgrid crisp\" transform=\"translate(477.17,0)\" d=\"M0,100v264\" style=\"stroke: rgb(225, 229, 237); stroke-opacity: 1; stroke-width: 1px;\"/><path class=\"xgrid crisp\" transform=\"translate(498.86,0)\" d=\"M0,100v264\" style=\"stroke: rgb(225, 229, 237); stroke-opacity: 1; stroke-width: 1px;\"/><path class=\"xgrid crisp\" transform=\"translate(520.55,0)\" d=\"M0,100v264\" style=\"stroke: rgb(225, 229, 237); stroke-opacity: 1; stroke-width: 1px;\"/></g><g class=\"y\"><path class=\"ygrid crisp\" transform=\"translate(0,264.61)\" d=\"M80,0h469\" style=\"stroke: rgb(225, 229, 237); stroke-opacity: 1; stroke-width: 1px;\"/><path class=\"ygrid crisp\" transform=\"translate(0,188.24)\" d=\"M80,0h469\" style=\"stroke: rgb(225, 229, 237); stroke-opacity: 1; stroke-width: 1px;\"/><path class=\"ygrid crisp\" transform=\"translate(0,111.88)\" d=\"M80,0h469\" style=\"stroke: rgb(225, 229, 237); stroke-opacity: 1; stroke-width: 1px;\"/></g></g><g class=\"zerolinelayer\"><path class=\"yzl zl crisp\" transform=\"translate(0,340.97)\" d=\"M80,0h469\" style=\"stroke: rgb(225, 229, 237); stroke-opacity: 1; stroke-width: 2px;\"/></g><path class=\"xlines-below\"/><path class=\"ylines-below\"/><g class=\"overlines-below\"/><g class=\"xaxislayer-below\"/><g class=\"yaxislayer-below\"/><g class=\"overaxes-below\"/><g class=\"plot\" transform=\"translate(80, 100)\" clip-path=\"url('#clip6a2466xyplot')\"><g class=\"scatterlayer mlayer\"><g class=\"trace scatter tracefdbc33\" style=\"stroke-miterlimit: 2; opacity: 1;\"><g class=\"fills\"/><g class=\"errorbars\"/><g class=\"lines\"><path class=\"js-line\" d=\"M28.45,247.8L60.98,243.01L71.83,240.85L93.52,235.41L104.36,232L126.05,223.38L136.9,217.97L147.74,211.66L158.59,204.31L169.43,195.73L180.28,185.74L191.12,174.09L201.97,160.5L212.81,144.66L223.66,126.2L234.5,104.67L245.34,79.57L256.19,50.31L267.03,16.2\" style=\"vector-effect: non-scaling-stroke; fill: none; stroke: rgb(255, 153, 51); stroke-opacity: 1; stroke-width: 1.3px; opacity: 1;\"/></g><g class=\"points\"><path class=\"point\" transform=\"translate(28.45,247.8)\" d=\"M2,0A2,2 0 1,1 0,-2A2,2 0 0,1 2,0Z\" style=\"opacity: 1; stroke-width: 0px; fill: rgb(255, 153, 51); fill-opacity: 1;\"/><path class=\"point\" transform=\"translate(39.29,246.44)\" d=\"M2,0A2,2 0 1,1 0,-2A2,2 0 0,1 2,0Z\" style=\"opacity: 1; stroke-width: 0px; fill: rgb(255, 153, 51); fill-opacity: 1;\"/><path class=\"point\" transform=\"translate(50.14,244.86)\" d=\"M2,0A2,2 0 1,1 0,-2A2,2 0 0,1 2,0Z\" style=\"opacity: 1; stroke-width: 0px; fill: rgb(255, 153, 51); fill-opacity: 1;\"/><path class=\"point\" transform=\"translate(60.98,243.01)\" d=\"M2,0A2,2 0 1,1 0,-2A2,2 0 0,1 2,0Z\" style=\"opacity: 1; stroke-width: 0px; fill: rgb(255, 153, 51); fill-opacity: 1;\"/><path class=\"point\" transform=\"translate(71.83,240.85)\" d=\"M2,0A2,2 0 1,1 0,-2A2,2 0 0,1 2,0Z\" style=\"opacity: 1; stroke-width: 0px; fill: rgb(255, 153, 51); fill-opacity: 1;\"/><path class=\"point\" transform=\"translate(82.67,238.34)\" d=\"M2,0A2,2 0 1,1 0,-2A2,2 0 0,1 2,0Z\" style=\"opacity: 1; stroke-width: 0px; fill: rgb(255, 153, 51); fill-opacity: 1;\"/><path class=\"point\" transform=\"translate(93.52,235.41)\" d=\"M2,0A2,2 0 1,1 0,-2A2,2 0 0,1 2,0Z\" style=\"opacity: 1; stroke-width: 0px; fill: rgb(255, 153, 51); fill-opacity: 1;\"/><path class=\"point\" transform=\"translate(104.36,232)\" d=\"M2,0A2,2 0 1,1 0,-2A2,2 0 0,1 2,0Z\" style=\"opacity: 1; stroke-width: 0px; fill: rgb(255, 153, 51); fill-opacity: 1;\"/><path class=\"point\" transform=\"translate(115.21,228.02)\" d=\"M2,0A2,2 0 1,1 0,-2A2,2 0 0,1 2,0Z\" style=\"opacity: 1; stroke-width: 0px; fill: rgb(255, 153, 51); fill-opacity: 1;\"/><path class=\"point\" transform=\"translate(126.05,223.38)\" d=\"M2,0A2,2 0 1,1 0,-2A2,2 0 0,1 2,0Z\" style=\"opacity: 1; stroke-width: 0px; fill: rgb(255, 153, 51); fill-opacity: 1;\"/><path class=\"point\" transform=\"translate(136.9,217.97)\" d=\"M2,0A2,2 0 1,1 0,-2A2,2 0 0,1 2,0Z\" style=\"opacity: 1; stroke-width: 0px; fill: rgb(255, 153, 51); fill-opacity: 1;\"/><path class=\"point\" transform=\"translate(147.74,211.66)\" d=\"M2,0A2,2 0 1,1 0,-2A2,2 0 0,1 2,0Z\" style=\"opacity: 1; stroke-width: 0px; fill: rgb(255, 153, 51); fill-opacity: 1;\"/><path class=\"point\" transform=\"translate(158.59,204.31)\" d=\"M2,0A2,2 0 1,1 0,-2A2,2 0 0,1 2,0Z\" style=\"opacity: 1; stroke-width: 0px; fill: rgb(255, 153, 51); fill-opacity: 1;\"/><path class=\"point\" transform=\"translate(169.43,195.73)\" d=\"M2,0A2,2 0 1,1 0,-2A2,2 0 0,1 2,0Z\" style=\"opacity: 1; stroke-width: 0px; fill: rgb(255, 153, 51); fill-opacity: 1;\"/><path class=\"point\" transform=\"translate(180.28,185.74)\" d=\"M2,0A2,2 0 1,1 0,-2A2,2 0 0,1 2,0Z\" style=\"opacity: 1; stroke-width: 0px; fill: rgb(255, 153, 51); fill-opacity: 1;\"/><path class=\"point\" transform=\"translate(191.12,174.09)\" d=\"M2,0A2,2 0 1,1 0,-2A2,2 0 0,1 2,0Z\" style=\"opacity: 1; stroke-width: 0px; fill: rgb(255, 153, 51); fill-opacity: 1;\"/><path class=\"point\" transform=\"translate(201.97,160.5)\" d=\"M2,0A2,2 0 1,1 0,-2A2,2 0 0,1 2,0Z\" style=\"opacity: 1; stroke-width: 0px; fill: rgb(255, 153, 51); fill-opacity: 1;\"/><path class=\"point\" transform=\"translate(212.81,144.66)\" d=\"M2,0A2,2 0 1,1 0,-2A2,2 0 0,1 2,0Z\" style=\"opacity: 1; stroke-width: 0px; fill: rgb(255, 153, 51); fill-opacity: 1;\"/><path class=\"point\" transform=\"translate(223.66,126.2)\" d=\"M2,0A2,2 0 1,1 0,-2A2,2 0 0,1 2,0Z\" style=\"opacity: 1; stroke-width: 0px; fill: rgb(255, 153, 51); fill-opacity: 1;\"/><path class=\"point\" transform=\"translate(234.5,104.67)\" d=\"M2,0A2,2 0 1,1 0,-2A2,2 0 0,1 2,0Z\" style=\"opacity: 1; stroke-width: 0px; fill: rgb(255, 153, 51); fill-opacity: 1;\"/><path class=\"point\" transform=\"translate(245.34,79.57)\" d=\"M2,0A2,2 0 1,1 0,-2A2,2 0 0,1 2,0Z\" style=\"opacity: 1; stroke-width: 0px; fill: rgb(255, 153, 51); fill-opacity: 1;\"/><path class=\"point\" transform=\"translate(256.19,50.31)\" d=\"M2,0A2,2 0 1,1 0,-2A2,2 0 0,1 2,0Z\" style=\"opacity: 1; stroke-width: 0px; fill: rgb(255, 153, 51); fill-opacity: 1;\"/><path class=\"point\" transform=\"translate(267.03,16.2)\" d=\"M2,0A2,2 0 1,1 0,-2A2,2 0 0,1 2,0Z\" style=\"opacity: 1; stroke-width: 0px; fill: rgb(255, 153, 51); fill-opacity: 1;\"/></g><g class=\"text\"/></g><g class=\"trace scatter traceb1e277\" style=\"stroke-miterlimit: 2; opacity: 1;\"><g class=\"fills\"/><g class=\"errorbars\"/><g class=\"lines\"><path class=\"js-line\" d=\"M28.45,240.26L60.98,238.61L71.83,237.65L93.52,234.66L104.36,232.41L115.21,229.45L126.05,225.59L136.9,220.61L147.74,214.27L158.59,206.35L169.43,196.66L180.28,185.13L191.12,171.83L212.81,141.22L223.66,125.06L245.34,94.4L256.19,81.05L267.03,69.47L277.88,59.74L288.72,51.78L299.57,45.4L310.41,40.39L321.26,36.5L342.95,31.25L353.79,29.53L375.48,27.27L386.33,26.55L429.71,25.09L440.55,24.92\" style=\"vector-effect: non-scaling-stroke; fill: none; stroke: rgb(55, 128, 191); stroke-opacity: 1; stroke-width: 1.3px; opacity: 1;\"/></g><g class=\"points\"><path class=\"point\" transform=\"translate(28.45,240.26)\" d=\"M2,0A2,2 0 1,1 0,-2A2,2 0 0,1 2,0Z\" style=\"opacity: 1; stroke-width: 0px; fill: rgb(55, 128, 191); fill-opacity: 1;\"/><path class=\"point\" transform=\"translate(39.29,239.87)\" d=\"M2,0A2,2 0 1,1 0,-2A2,2 0 0,1 2,0Z\" style=\"opacity: 1; stroke-width: 0px; fill: rgb(55, 128, 191); fill-opacity: 1;\"/><path class=\"point\" transform=\"translate(50.14,239.33)\" d=\"M2,0A2,2 0 1,1 0,-2A2,2 0 0,1 2,0Z\" style=\"opacity: 1; stroke-width: 0px; fill: rgb(55, 128, 191); fill-opacity: 1;\"/><path class=\"point\" transform=\"translate(60.98,238.61)\" d=\"M2,0A2,2 0 1,1 0,-2A2,2 0 0,1 2,0Z\" style=\"opacity: 1; stroke-width: 0px; fill: rgb(55, 128, 191); fill-opacity: 1;\"/><path class=\"point\" transform=\"translate(71.83,237.65)\" d=\"M2,0A2,2 0 1,1 0,-2A2,2 0 0,1 2,0Z\" style=\"opacity: 1; stroke-width: 0px; fill: rgb(55, 128, 191); fill-opacity: 1;\"/><path class=\"point\" transform=\"translate(82.67,236.37)\" d=\"M2,0A2,2 0 1,1 0,-2A2,2 0 0,1 2,0Z\" style=\"opacity: 1; stroke-width: 0px; fill: rgb(55, 128, 191); fill-opacity: 1;\"/><path class=\"point\" transform=\"translate(93.52,234.66)\" d=\"M2,0A2,2 0 1,1 0,-2A2,2 0 0,1 2,0Z\" style=\"opacity: 1; stroke-width: 0px; fill: rgb(55, 128, 191); fill-opacity: 1;\"/><path class=\"point\" transform=\"translate(104.36,232.41)\" d=\"M2,0A2,2 0 1,1 0,-2A2,2 0 0,1 2,0Z\" style=\"opacity: 1; stroke-width: 0px; fill: rgb(55, 128, 191); fill-opacity: 1;\"/><path class=\"point\" transform=\"translate(115.21,229.45)\" d=\"M2,0A2,2 0 1,1 0,-2A2,2 0 0,1 2,0Z\" style=\"opacity: 1; stroke-width: 0px; fill: rgb(55, 128, 191); fill-opacity: 1;\"/><path class=\"point\" transform=\"translate(126.05,225.59)\" d=\"M2,0A2,2 0 1,1 0,-2A2,2 0 0,1 2,0Z\" style=\"opacity: 1; stroke-width: 0px; fill: rgb(55, 128, 191); fill-opacity: 1;\"/><path class=\"point\" transform=\"translate(136.9,220.61)\" d=\"M2,0A2,2 0 1,1 0,-2A2,2 0 0,1 2,0Z\" style=\"opacity: 1; stroke-width: 0px; fill: rgb(55, 128, 191); fill-opacity: 1;\"/><path class=\"point\" transform=\"translate(147.74,214.27)\" d=\"M2,0A2,2 0 1,1 0,-2A2,2 0 0,1 2,0Z\" style=\"opacity: 1; stroke-width: 0px; fill: rgb(55, 128, 191); fill-opacity: 1;\"/><path class=\"point\" transform=\"translate(158.59,206.35)\" d=\"M2,0A2,2 0 1,1 0,-2A2,2 0 0,1 2,0Z\" style=\"opacity: 1; stroke-width: 0px; fill: rgb(55, 128, 191); fill-opacity: 1;\"/><path class=\"point\" transform=\"translate(169.43,196.66)\" d=\"M2,0A2,2 0 1,1 0,-2A2,2 0 0,1 2,0Z\" style=\"opacity: 1; stroke-width: 0px; fill: rgb(55, 128, 191); fill-opacity: 1;\"/><path class=\"point\" transform=\"translate(180.28,185.13)\" d=\"M2,0A2,2 0 1,1 0,-2A2,2 0 0,1 2,0Z\" style=\"opacity: 1; stroke-width: 0px; fill: rgb(55, 128, 191); fill-opacity: 1;\"/><path class=\"point\" transform=\"translate(191.12,171.83)\" d=\"M2,0A2,2 0 1,1 0,-2A2,2 0 0,1 2,0Z\" style=\"opacity: 1; stroke-width: 0px; fill: rgb(55, 128, 191); fill-opacity: 1;\"/><path class=\"point\" transform=\"translate(201.97,157.03)\" d=\"M2,0A2,2 0 1,1 0,-2A2,2 0 0,1 2,0Z\" style=\"opacity: 1; stroke-width: 0px; fill: rgb(55, 128, 191); fill-opacity: 1;\"/><path class=\"point\" transform=\"translate(212.81,141.22)\" d=\"M2,0A2,2 0 1,1 0,-2A2,2 0 0,1 2,0Z\" style=\"opacity: 1; stroke-width: 0px; fill: rgb(55, 128, 191); fill-opacity: 1;\"/><path class=\"point\" transform=\"translate(223.66,125.06)\" d=\"M2,0A2,2 0 1,1 0,-2A2,2 0 0,1 2,0Z\" style=\"opacity: 1; stroke-width: 0px; fill: rgb(55, 128, 191); fill-opacity: 1;\"/><path class=\"point\" transform=\"translate(234.5,109.23)\" d=\"M2,0A2,2 0 1,1 0,-2A2,2 0 0,1 2,0Z\" style=\"opacity: 1; stroke-width: 0px; fill: rgb(55, 128, 191); fill-opacity: 1;\"/><path class=\"point\" transform=\"translate(245.34,94.4)\" d=\"M2,0A2,2 0 1,1 0,-2A2,2 0 0,1 2,0Z\" style=\"opacity: 1; stroke-width: 0px; fill: rgb(55, 128, 191); fill-opacity: 1;\"/><path class=\"point\" transform=\"translate(256.19,81.05)\" d=\"M2,0A2,2 0 1,1 0,-2A2,2 0 0,1 2,0Z\" style=\"opacity: 1; stroke-width: 0px; fill: rgb(55, 128, 191); fill-opacity: 1;\"/><path class=\"point\" transform=\"translate(267.03,69.47)\" d=\"M2,0A2,2 0 1,1 0,-2A2,2 0 0,1 2,0Z\" style=\"opacity: 1; stroke-width: 0px; fill: rgb(55, 128, 191); fill-opacity: 1;\"/><path class=\"point\" transform=\"translate(277.88,59.74)\" d=\"M2,0A2,2 0 1,1 0,-2A2,2 0 0,1 2,0Z\" style=\"opacity: 1; stroke-width: 0px; fill: rgb(55, 128, 191); fill-opacity: 1;\"/><path class=\"point\" transform=\"translate(288.72,51.78)\" d=\"M2,0A2,2 0 1,1 0,-2A2,2 0 0,1 2,0Z\" style=\"opacity: 1; stroke-width: 0px; fill: rgb(55, 128, 191); fill-opacity: 1;\"/><path class=\"point\" transform=\"translate(299.57,45.4)\" d=\"M2,0A2,2 0 1,1 0,-2A2,2 0 0,1 2,0Z\" style=\"opacity: 1; stroke-width: 0px; fill: rgb(55, 128, 191); fill-opacity: 1;\"/><path class=\"point\" transform=\"translate(310.41,40.39)\" d=\"M2,0A2,2 0 1,1 0,-2A2,2 0 0,1 2,0Z\" style=\"opacity: 1; stroke-width: 0px; fill: rgb(55, 128, 191); fill-opacity: 1;\"/><path class=\"point\" transform=\"translate(321.26,36.5)\" d=\"M2,0A2,2 0 1,1 0,-2A2,2 0 0,1 2,0Z\" style=\"opacity: 1; stroke-width: 0px; fill: rgb(55, 128, 191); fill-opacity: 1;\"/><path class=\"point\" transform=\"translate(332.1,33.52)\" d=\"M2,0A2,2 0 1,1 0,-2A2,2 0 0,1 2,0Z\" style=\"opacity: 1; stroke-width: 0px; fill: rgb(55, 128, 191); fill-opacity: 1;\"/><path class=\"point\" transform=\"translate(342.95,31.25)\" d=\"M2,0A2,2 0 1,1 0,-2A2,2 0 0,1 2,0Z\" style=\"opacity: 1; stroke-width: 0px; fill: rgb(55, 128, 191); fill-opacity: 1;\"/><path class=\"point\" transform=\"translate(353.79,29.53)\" d=\"M2,0A2,2 0 1,1 0,-2A2,2 0 0,1 2,0Z\" style=\"opacity: 1; stroke-width: 0px; fill: rgb(55, 128, 191); fill-opacity: 1;\"/><path class=\"point\" transform=\"translate(364.64,28.24)\" d=\"M2,0A2,2 0 1,1 0,-2A2,2 0 0,1 2,0Z\" style=\"opacity: 1; stroke-width: 0px; fill: rgb(55, 128, 191); fill-opacity: 1;\"/><path class=\"point\" transform=\"translate(375.48,27.27)\" d=\"M2,0A2,2 0 1,1 0,-2A2,2 0 0,1 2,0Z\" style=\"opacity: 1; stroke-width: 0px; fill: rgb(55, 128, 191); fill-opacity: 1;\"/><path class=\"point\" transform=\"translate(386.33,26.55)\" d=\"M2,0A2,2 0 1,1 0,-2A2,2 0 0,1 2,0Z\" style=\"opacity: 1; stroke-width: 0px; fill: rgb(55, 128, 191); fill-opacity: 1;\"/><path class=\"point\" transform=\"translate(397.17,26.01)\" d=\"M2,0A2,2 0 1,1 0,-2A2,2 0 0,1 2,0Z\" style=\"opacity: 1; stroke-width: 0px; fill: rgb(55, 128, 191); fill-opacity: 1;\"/><path class=\"point\" transform=\"translate(408.02,25.61)\" d=\"M2,0A2,2 0 1,1 0,-2A2,2 0 0,1 2,0Z\" style=\"opacity: 1; stroke-width: 0px; fill: rgb(55, 128, 191); fill-opacity: 1;\"/><path class=\"point\" transform=\"translate(418.86,25.31)\" d=\"M2,0A2,2 0 1,1 0,-2A2,2 0 0,1 2,0Z\" style=\"opacity: 1; stroke-width: 0px; fill: rgb(55, 128, 191); fill-opacity: 1;\"/><path class=\"point\" transform=\"translate(429.71,25.09)\" d=\"M2,0A2,2 0 1,1 0,-2A2,2 0 0,1 2,0Z\" style=\"opacity: 1; stroke-width: 0px; fill: rgb(55, 128, 191); fill-opacity: 1;\"/><path class=\"point\" transform=\"translate(440.55,24.92)\" d=\"M2,0A2,2 0 1,1 0,-2A2,2 0 0,1 2,0Z\" style=\"opacity: 1; stroke-width: 0px; fill: rgb(55, 128, 191); fill-opacity: 1;\"/></g><g class=\"text\"/></g><g class=\"trace scatter traceb0de24\" style=\"stroke-miterlimit: 2; opacity: 1;\"><g class=\"fills\"/><g class=\"errorbars\"/><g class=\"lines\"/><g class=\"points\"><path class=\"point\" transform=\"translate(71.83,236.85)\" d=\"M4,0A4,4 0 1,1 0,-4A4,4 0 0,1 4,0Z\" style=\"opacity: 1; stroke-width: 0px; fill: rgb(50, 171, 96); fill-opacity: 1;\"/><path class=\"point\" transform=\"translate(82.67,235.63)\" d=\"M4,0A4,4 0 1,1 0,-4A4,4 0 0,1 4,0Z\" style=\"opacity: 1; stroke-width: 0px; fill: rgb(50, 171, 96); fill-opacity: 1;\"/><path class=\"point\" transform=\"translate(93.52,235.47)\" d=\"M4,0A4,4 0 1,1 0,-4A4,4 0 0,1 4,0Z\" style=\"opacity: 1; stroke-width: 0px; fill: rgb(50, 171, 96); fill-opacity: 1;\"/><path class=\"point\" transform=\"translate(104.36,232.42)\" d=\"M4,0A4,4 0 1,1 0,-4A4,4 0 0,1 4,0Z\" style=\"opacity: 1; stroke-width: 0px; fill: rgb(50, 171, 96); fill-opacity: 1;\"/><path class=\"point\" transform=\"translate(115.21,231.2)\" d=\"M4,0A4,4 0 1,1 0,-4A4,4 0 0,1 4,0Z\" style=\"opacity: 1; stroke-width: 0px; fill: rgb(50, 171, 96); fill-opacity: 1;\"/><path class=\"point\" transform=\"translate(126.05,224.94)\" d=\"M4,0A4,4 0 1,1 0,-4A4,4 0 0,1 4,0Z\" style=\"opacity: 1; stroke-width: 0px; fill: rgb(50, 171, 96); fill-opacity: 1;\"/><path class=\"point\" transform=\"translate(136.9,219.59)\" d=\"M4,0A4,4 0 1,1 0,-4A4,4 0 0,1 4,0Z\" style=\"opacity: 1; stroke-width: 0px; fill: rgb(50, 171, 96); fill-opacity: 1;\"/><path class=\"point\" transform=\"translate(147.74,215.62)\" d=\"M4,0A4,4 0 1,1 0,-4A4,4 0 0,1 4,0Z\" style=\"opacity: 1; stroke-width: 0px; fill: rgb(50, 171, 96); fill-opacity: 1;\"/><path class=\"point\" transform=\"translate(158.59,206)\" d=\"M4,0A4,4 0 1,1 0,-4A4,4 0 0,1 4,0Z\" style=\"opacity: 1; stroke-width: 0px; fill: rgb(50, 171, 96); fill-opacity: 1;\"/><path class=\"point\" transform=\"translate(169.43,195.92)\" d=\"M4,0A4,4 0 1,1 0,-4A4,4 0 0,1 4,0Z\" style=\"opacity: 1; stroke-width: 0px; fill: rgb(50, 171, 96); fill-opacity: 1;\"/><path class=\"point\" transform=\"translate(180.28,187.36)\" d=\"M4,0A4,4 0 1,1 0,-4A4,4 0 0,1 4,0Z\" style=\"opacity: 1; stroke-width: 0px; fill: rgb(50, 171, 96); fill-opacity: 1;\"/><path class=\"point\" transform=\"translate(191.12,170.41)\" d=\"M4,0A4,4 0 1,1 0,-4A4,4 0 0,1 4,0Z\" style=\"opacity: 1; stroke-width: 0px; fill: rgb(50, 171, 96); fill-opacity: 1;\"/><path class=\"point\" transform=\"translate(201.97,154.37)\" d=\"M4,0A4,4 0 1,1 0,-4A4,4 0 0,1 4,0Z\" style=\"opacity: 1; stroke-width: 0px; fill: rgb(50, 171, 96); fill-opacity: 1;\"/><path class=\"point\" transform=\"translate(212.81,141.7)\" d=\"M4,0A4,4 0 1,1 0,-4A4,4 0 0,1 4,0Z\" style=\"opacity: 1; stroke-width: 0px; fill: rgb(50, 171, 96); fill-opacity: 1;\"/><path class=\"point\" transform=\"translate(223.66,129.02)\" d=\"M4,0A4,4 0 1,1 0,-4A4,4 0 0,1 4,0Z\" style=\"opacity: 1; stroke-width: 0px; fill: rgb(50, 171, 96); fill-opacity: 1;\"/><path class=\"point\" transform=\"translate(234.5,107.03)\" d=\"M4,0A4,4 0 1,1 0,-4A4,4 0 0,1 4,0Z\" style=\"opacity: 1; stroke-width: 0px; fill: rgb(50, 171, 96); fill-opacity: 1;\"/></g><g class=\"text\"/></g><g class=\"trace scatter tracec1f4da\" style=\"stroke-miterlimit: 2; opacity: 1;\"><g class=\"fills\"/><g class=\"errorbars\"/><g class=\"lines\"/><g class=\"points\"><path class=\"point\" transform=\"translate(223.66,132.93)\" d=\"M4,0A4,4 0 1,1 0,-4A4,4 0 0,1 4,0Z\" style=\"opacity: 1; stroke-width: 0px; fill: rgb(255, 0, 0); fill-opacity: 1;\"/></g><g class=\"text\"/></g></g></g><g class=\"overplot\"/><path class=\"xlines-above crisp\" d=\"M0,0\" style=\"fill: none;\"/><path class=\"ylines-above crisp\" d=\"M0,0\" style=\"fill: none;\"/><g class=\"overlines-above\"/><g class=\"xaxislayer-above\"><g class=\"xtick\"><text text-anchor=\"start\" x=\"0\" y=\"377\" transform=\"translate(108.45,0) rotate(90,0,371)\" style=\"font-family: 'Open Sans', verdana, arial, sans-serif; font-size: 12px; fill: rgb(77, 86, 99); fill-opacity: 1; white-space: pre;\">20 Feb</text></g><g class=\"xtick\"><text text-anchor=\"start\" x=\"0\" y=\"377\" transform=\"translate(130.14,0) rotate(90,0,371)\" style=\"font-family: 'Open Sans', verdana, arial, sans-serif; font-size: 12px; fill: rgb(77, 86, 99); fill-opacity: 1; white-space: pre;\">22 Feb</text></g><g class=\"xtick\"><text text-anchor=\"start\" x=\"0\" y=\"377\" transform=\"translate(151.82999999999998,0) rotate(90,0,371)\" style=\"font-family: 'Open Sans', verdana, arial, sans-serif; font-size: 12px; fill: rgb(77, 86, 99); fill-opacity: 1; white-space: pre;\">24 Feb</text></g><g class=\"xtick\"><text text-anchor=\"start\" x=\"0\" y=\"377\" transform=\"translate(173.51999999999998,0) rotate(90,0,371)\" style=\"font-family: 'Open Sans', verdana, arial, sans-serif; font-size: 12px; fill: rgb(77, 86, 99); fill-opacity: 1; white-space: pre;\">26 Feb</text></g><g class=\"xtick\"><text text-anchor=\"start\" x=\"0\" y=\"377\" transform=\"translate(195.20999999999998,0) rotate(90,0,371)\" style=\"font-family: 'Open Sans', verdana, arial, sans-serif; font-size: 12px; fill: rgb(77, 86, 99); fill-opacity: 1; white-space: pre;\">28 Feb</text></g><g class=\"xtick\"><text text-anchor=\"start\" x=\"0\" y=\"377\" transform=\"translate(216.9,0) rotate(90,0,371)\" style=\"font-family: 'Open Sans', verdana, arial, sans-serif; font-size: 12px; fill: rgb(77, 86, 99); fill-opacity: 1; white-space: pre;\">01 Mar</text></g><g class=\"xtick\"><text text-anchor=\"start\" x=\"0\" y=\"377\" transform=\"translate(238.59,0) rotate(90,0,371)\" style=\"font-family: 'Open Sans', verdana, arial, sans-serif; font-size: 12px; fill: rgb(77, 86, 99); fill-opacity: 1; white-space: pre;\">03 Mar</text></g><g class=\"xtick\"><text text-anchor=\"start\" x=\"0\" y=\"377\" transform=\"translate(260.28,0) rotate(90,0,371)\" style=\"font-family: 'Open Sans', verdana, arial, sans-serif; font-size: 12px; fill: rgb(77, 86, 99); fill-opacity: 1; white-space: pre;\">05 Mar</text></g><g class=\"xtick\"><text text-anchor=\"start\" x=\"0\" y=\"377\" transform=\"translate(281.97,0) rotate(90,0,371)\" style=\"font-family: 'Open Sans', verdana, arial, sans-serif; font-size: 12px; fill: rgb(77, 86, 99); fill-opacity: 1; white-space: pre;\">07 Mar</text></g><g class=\"xtick\"><text text-anchor=\"start\" x=\"0\" y=\"377\" transform=\"translate(303.65999999999997,0) rotate(90,0,371)\" style=\"font-family: 'Open Sans', verdana, arial, sans-serif; font-size: 12px; fill: rgb(77, 86, 99); fill-opacity: 1; white-space: pre;\">09 Mar</text></g><g class=\"xtick\"><text text-anchor=\"start\" x=\"0\" y=\"377\" transform=\"translate(325.34000000000003,0) rotate(90,0,371)\" style=\"font-family: 'Open Sans', verdana, arial, sans-serif; font-size: 12px; fill: rgb(77, 86, 99); fill-opacity: 1; white-space: pre;\">11 Mar</text></g><g class=\"xtick\"><text text-anchor=\"start\" x=\"0\" y=\"377\" transform=\"translate(347.03,0) rotate(90,0,371)\" style=\"font-family: 'Open Sans', verdana, arial, sans-serif; font-size: 12px; fill: rgb(77, 86, 99); fill-opacity: 1; white-space: pre;\">13 Mar</text></g><g class=\"xtick\"><text text-anchor=\"start\" x=\"0\" y=\"377\" transform=\"translate(368.72,0) rotate(90,0,371)\" style=\"font-family: 'Open Sans', verdana, arial, sans-serif; font-size: 12px; fill: rgb(77, 86, 99); fill-opacity: 1; white-space: pre;\">15 Mar</text></g><g class=\"xtick\"><text text-anchor=\"start\" x=\"0\" y=\"377\" transform=\"translate(390.41,0) rotate(90,0,371)\" style=\"font-family: 'Open Sans', verdana, arial, sans-serif; font-size: 12px; fill: rgb(77, 86, 99); fill-opacity: 1; white-space: pre;\">17 Mar</text></g><g class=\"xtick\"><text text-anchor=\"start\" x=\"0\" y=\"377\" transform=\"translate(412.1,0) rotate(90,0,371)\" style=\"font-family: 'Open Sans', verdana, arial, sans-serif; font-size: 12px; fill: rgb(77, 86, 99); fill-opacity: 1; white-space: pre;\">19 Mar</text></g><g class=\"xtick\"><text text-anchor=\"start\" x=\"0\" y=\"377\" transform=\"translate(433.79,0) rotate(90,0,371)\" style=\"font-family: 'Open Sans', verdana, arial, sans-serif; font-size: 12px; fill: rgb(77, 86, 99); fill-opacity: 1; white-space: pre;\">21 Mar</text></g><g class=\"xtick\"><text text-anchor=\"start\" x=\"0\" y=\"377\" transform=\"translate(455.48,0) rotate(90,0,371)\" style=\"font-family: 'Open Sans', verdana, arial, sans-serif; font-size: 12px; fill: rgb(77, 86, 99); fill-opacity: 1; white-space: pre;\">23 Mar</text></g><g class=\"xtick\"><text text-anchor=\"start\" x=\"0\" y=\"377\" transform=\"translate(477.17,0) rotate(90,0,371)\" style=\"font-family: 'Open Sans', verdana, arial, sans-serif; font-size: 12px; fill: rgb(77, 86, 99); fill-opacity: 1; white-space: pre;\">25 Mar</text></g><g class=\"xtick\"><text text-anchor=\"start\" x=\"0\" y=\"377\" transform=\"translate(498.86,0) rotate(90,0,371)\" style=\"font-family: 'Open Sans', verdana, arial, sans-serif; font-size: 12px; fill: rgb(77, 86, 99); fill-opacity: 1; white-space: pre;\">27 Mar</text></g><g class=\"xtick\"><text text-anchor=\"start\" x=\"0\" y=\"377\" transform=\"translate(520.55,0) rotate(90,0,371)\" style=\"font-family: 'Open Sans', verdana, arial, sans-serif; font-size: 12px; fill: rgb(77, 86, 99); fill-opacity: 1; white-space: pre;\">29 Mar</text></g></g><g class=\"yaxislayer-above\"><g class=\"ytick\"><text text-anchor=\"end\" x=\"79\" y=\"4.199999999999999\" transform=\"translate(0,340.97)\" style=\"font-family: 'Open Sans', verdana, arial, sans-serif; font-size: 12px; fill: rgb(77, 86, 99); fill-opacity: 1; white-space: pre;\">0</text></g><g class=\"ytick\"><text text-anchor=\"end\" x=\"79\" y=\"4.199999999999999\" transform=\"translate(0,264.61)\" style=\"font-family: 'Open Sans', verdana, arial, sans-serif; font-size: 12px; fill: rgb(77, 86, 99); fill-opacity: 1; white-space: pre;\">500</text></g><g class=\"ytick\"><text text-anchor=\"end\" x=\"79\" y=\"4.199999999999999\" transform=\"translate(0,188.24)\" style=\"font-family: 'Open Sans', verdana, arial, sans-serif; font-size: 12px; fill: rgb(77, 86, 99); fill-opacity: 1; white-space: pre;\">1000</text></g><g class=\"ytick\"><text text-anchor=\"end\" x=\"79\" y=\"4.199999999999999\" transform=\"translate(0,111.88)\" style=\"font-family: 'Open Sans', verdana, arial, sans-serif; font-size: 12px; fill: rgb(77, 86, 99); fill-opacity: 1; white-space: pre;\">1500</text></g></g><g class=\"overaxes-above\"/></g></g><g class=\"polarlayer\"/><g class=\"ternarylayer\"/><g class=\"geolayer\"/><g class=\"funnelarealayer\"/><g class=\"pielayer\"/><g class=\"treemaplayer\"/><g class=\"sunburstlayer\"/><g class=\"glimages\"/><defs id=\"topdefs-6a2466\"><g class=\"clips\"/><clipPath id=\"legend6a2466\"><rect width=\"130\" height=\"86\" x=\"0\" y=\"0\"/></clipPath></defs><g class=\"layer-above\"><g class=\"imagelayer\"/><g class=\"shapelayer\"/></g><g class=\"infolayer\"><g class=\"legend\" pointer-events=\"all\" transform=\"translate(558.38, 100)\"><rect class=\"bg\" shape-rendering=\"crispEdges\" style=\"stroke: rgb(68, 68, 68); stroke-opacity: 1; fill: rgb(255, 255, 255); fill-opacity: 1; stroke-width: 0px;\" width=\"130\" height=\"86\" x=\"0\" y=\"0\"/><g class=\"scrollbox\" transform=\"translate(0, 0)\" clip-path=\"url('#legend6a2466')\"><g class=\"groups\"><g class=\"traces\" transform=\"translate(0, 14.5)\" style=\"opacity: 1;\"><text class=\"legendtext user-select-none\" text-anchor=\"start\" x=\"40\" y=\"4.680000000000001\" style=\"font-family: 'Open Sans', verdana, arial, sans-serif; font-size: 12px; fill: rgb(77, 86, 99); fill-opacity: 1; white-space: pre;\">exp</text><g class=\"layers\" style=\"opacity: 1;\"><g class=\"legendfill\"/><g class=\"legendlines\"><path class=\"js-line\" d=\"M5,0h30\" style=\"fill: none; stroke: rgb(255, 153, 51); stroke-opacity: 1; stroke-width: 1.3px;\"/></g><g class=\"legendsymbols\"><g class=\"legendpoints\"><path class=\"scatterpts\" transform=\"translate(20,0)\" d=\"M2,0A2,2 0 1,1 0,-2A2,2 0 0,1 2,0Z\" style=\"opacity: 1; stroke-width: 0px; fill: rgb(255, 153, 51); fill-opacity: 1;\"/></g></g></g><rect class=\"legendtoggle\" pointer-events=\"all\" x=\"0\" y=\"-9.5\" width=\"124.09375\" height=\"19\" style=\"cursor: pointer; fill: rgb(0, 0, 0); fill-opacity: 0;\"/></g><g class=\"traces\" transform=\"translate(0, 33.5)\" style=\"opacity: 1;\"><text class=\"legendtext user-select-none\" text-anchor=\"start\" x=\"40\" y=\"4.680000000000001\" style=\"font-family: 'Open Sans', verdana, arial, sans-serif; font-size: 12px; fill: rgb(77, 86, 99); fill-opacity: 1; white-space: pre;\">sigm</text><g class=\"layers\" style=\"opacity: 1;\"><g class=\"legendfill\"/><g class=\"legendlines\"><path class=\"js-line\" d=\"M5,0h30\" style=\"fill: none; stroke: rgb(55, 128, 191); stroke-opacity: 1; stroke-width: 1.3px;\"/></g><g class=\"legendsymbols\"><g class=\"legendpoints\"><path class=\"scatterpts\" transform=\"translate(20,0)\" d=\"M2,0A2,2 0 1,1 0,-2A2,2 0 0,1 2,0Z\" style=\"opacity: 1; stroke-width: 0px; fill: rgb(55, 128, 191); fill-opacity: 1;\"/></g></g></g><rect class=\"legendtoggle\" pointer-events=\"all\" x=\"0\" y=\"-9.5\" width=\"124.09375\" height=\"19\" style=\"cursor: pointer; fill: rgb(0, 0, 0); fill-opacity: 0;\"/></g><g class=\"traces\" transform=\"translate(0, 52.5)\" style=\"opacity: 1;\"><text class=\"legendtext user-select-none\" text-anchor=\"start\" x=\"40\" y=\"4.680000000000001\" style=\"font-family: 'Open Sans', verdana, arial, sans-serif; font-size: 12px; fill: rgb(77, 86, 99); fill-opacity: 1; white-space: pre;\">intensive care</text><g class=\"layers\" style=\"opacity: 1;\"><g class=\"legendfill\"/><g class=\"legendlines\"/><g class=\"legendsymbols\"><g class=\"legendpoints\"><path class=\"scatterpts\" transform=\"translate(20,0)\" d=\"M4,0A4,4 0 1,1 0,-4A4,4 0 0,1 4,0Z\" style=\"opacity: 1; stroke-width: 0px; fill: rgb(50, 171, 96); fill-opacity: 1;\"/></g></g></g><rect class=\"legendtoggle\" pointer-events=\"all\" x=\"0\" y=\"-9.5\" width=\"124.09375\" height=\"19\" style=\"cursor: pointer; fill: rgb(0, 0, 0); fill-opacity: 0;\"/></g><g class=\"traces\" transform=\"translate(0, 71.5)\" style=\"opacity: 1;\"><text class=\"legendtext user-select-none\" text-anchor=\"start\" x=\"40\" y=\"4.680000000000001\" style=\"font-family: 'Open Sans', verdana, arial, sans-serif; font-size: 12px; fill: rgb(77, 86, 99); fill-opacity: 1; white-space: pre;\">flex</text><g class=\"layers\" style=\"opacity: 1;\"><g class=\"legendfill\"/><g class=\"legendlines\"/><g class=\"legendsymbols\"><g class=\"legendpoints\"><path class=\"scatterpts\" transform=\"translate(20,0)\" d=\"M4,0A4,4 0 1,1 0,-4A4,4 0 0,1 4,0Z\" style=\"opacity: 1; stroke-width: 0px; fill: rgb(255, 0, 0); fill-opacity: 1;\"/></g></g></g><rect class=\"legendtoggle\" pointer-events=\"all\" x=\"0\" y=\"-9.5\" width=\"124.09375\" height=\"19\" style=\"cursor: pointer; fill: rgb(0, 0, 0); fill-opacity: 0;\"/></g></g></g><rect class=\"scrollbar\" rx=\"20\" ry=\"3\" width=\"0\" height=\"0\" style=\"fill: rgb(128, 139, 164); fill-opacity: 1;\" x=\"0\" y=\"0\"/></g><g class=\"g-gtitle\"><text class=\"gtitle\" x=\"35\" y=\"50\" text-anchor=\"start\" dy=\"0em\" style=\"font-family: 'Open Sans', verdana, arial, sans-serif; font-size: 17px; fill: rgb(77, 86, 99); opacity: 1; font-weight: normal; white-space: pre;\">Intensive care cases</text></g><g class=\"g-xtitle\"/><g class=\"g-ytitle\"><text class=\"ytitle\" transform=\"rotate(-90,23.684375000000003,232)\" x=\"23.684375000000003\" y=\"232\" text-anchor=\"middle\" style=\"font-family: 'Open Sans', verdana, arial, sans-serif; font-size: 14px; fill: rgb(77, 86, 99); opacity: 1; font-weight: normal; white-space: pre;\">case</text></g></g></svg>"
     },
     "metadata": {},
     "output_type": "display_data"
    }
   ],
   "source": [
    "fig.show('svg')"
   ],
   "metadata": {
    "collapsed": false,
    "pycharm": {
     "name": "#%%\n",
     "is_executing": false
    }
   }
  }
 ],
 "metadata": {
  "kernelspec": {
   "display_name": "Python 3",
   "language": "python",
   "name": "python3"
  },
  "language_info": {
   "codemirror_mode": {
    "name": "ipython",
    "version": 2
   },
   "file_extension": ".py",
   "mimetype": "text/x-python",
   "name": "python",
   "nbconvert_exporter": "python",
   "pygments_lexer": "ipython2",
   "version": "2.7.6"
  },
  "pycharm": {
   "stem_cell": {
    "cell_type": "raw",
    "source": [],
    "metadata": {
     "collapsed": false
    }
   }
  }
 },
 "nbformat": 4,
 "nbformat_minor": 0
}