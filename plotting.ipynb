{
 "cells": [
  {
   "cell_type": "code",
   "execution_count": 1,
   "metadata": {
    "collapsed": true,
    "pycharm": {
     "is_executing": false
    }
   },
   "outputs": [
    {
     "data": {
      "text/html": "        <script type=\"text/javascript\">\n        window.PlotlyConfig = {MathJaxConfig: 'local'};\n        if (window.MathJax) {MathJax.Hub.Config({SVG: {font: \"STIX-Web\"}});}\n        if (typeof require !== 'undefined') {\n        require.undef(\"plotly\");\n        requirejs.config({\n            paths: {\n                'plotly': ['https://cdn.plot.ly/plotly-latest.min']\n            }\n        });\n        require(['plotly'], function(Plotly) {\n            window._Plotly = Plotly;\n        });\n        }\n        </script>\n        "
     },
     "metadata": {},
     "output_type": "display_data"
    }
   ],
   "source": [
    "import pandas as pd\n",
    "import cufflinks as cf\n",
    "import plotly.offline\n",
    "import plotly.graph_objs as go  \n",
    "import mytools.regression as reg\n",
    "import mytools.date as dt\n",
    "import mytools.plot as mpl\n",
    "\n",
    "cf.go_offline()\n",
    "cf.set_config_file(offline=False, world_readable=True)"
   ]
  },
  {
   "cell_type": "markdown",
   "source": [
    "## Italian intensive care cases "
   ],
   "metadata": {
    "collapsed": false
   }
  },
  {
   "cell_type": "code",
   "execution_count": 2,
   "outputs": [
    {
     "data": {
      "text/plain": "        intensive care\n24 Feb              27\n25 Feb              35\n26 Feb              36\n27 Feb              56\n28 Feb              64\n29 Feb             105\n01 Mar             140\n02 Mar             166\n03 Mar             229\n04 Mar             295\n05 Mar             351\n06 Mar             462\n07 Mar             567\n08 Mar             650\n09 Mar             733\n10 Mar             877\n11 Mar            1028\n12 Mar            1153\n13 Mar            1328\n14 Mar            1518",
      "text/html": "<div>\n<style scoped>\n    .dataframe tbody tr th:only-of-type {\n        vertical-align: middle;\n    }\n\n    .dataframe tbody tr th {\n        vertical-align: top;\n    }\n\n    .dataframe thead th {\n        text-align: right;\n    }\n</style>\n<table border=\"1\" class=\"dataframe\">\n  <thead>\n    <tr style=\"text-align: right;\">\n      <th></th>\n      <th>intensive care</th>\n    </tr>\n  </thead>\n  <tbody>\n    <tr>\n      <th>24 Feb</th>\n      <td>27</td>\n    </tr>\n    <tr>\n      <th>25 Feb</th>\n      <td>35</td>\n    </tr>\n    <tr>\n      <th>26 Feb</th>\n      <td>36</td>\n    </tr>\n    <tr>\n      <th>27 Feb</th>\n      <td>56</td>\n    </tr>\n    <tr>\n      <th>28 Feb</th>\n      <td>64</td>\n    </tr>\n    <tr>\n      <th>29 Feb</th>\n      <td>105</td>\n    </tr>\n    <tr>\n      <th>01 Mar</th>\n      <td>140</td>\n    </tr>\n    <tr>\n      <th>02 Mar</th>\n      <td>166</td>\n    </tr>\n    <tr>\n      <th>03 Mar</th>\n      <td>229</td>\n    </tr>\n    <tr>\n      <th>04 Mar</th>\n      <td>295</td>\n    </tr>\n    <tr>\n      <th>05 Mar</th>\n      <td>351</td>\n    </tr>\n    <tr>\n      <th>06 Mar</th>\n      <td>462</td>\n    </tr>\n    <tr>\n      <th>07 Mar</th>\n      <td>567</td>\n    </tr>\n    <tr>\n      <th>08 Mar</th>\n      <td>650</td>\n    </tr>\n    <tr>\n      <th>09 Mar</th>\n      <td>733</td>\n    </tr>\n    <tr>\n      <th>10 Mar</th>\n      <td>877</td>\n    </tr>\n    <tr>\n      <th>11 Mar</th>\n      <td>1028</td>\n    </tr>\n    <tr>\n      <th>12 Mar</th>\n      <td>1153</td>\n    </tr>\n    <tr>\n      <th>13 Mar</th>\n      <td>1328</td>\n    </tr>\n    <tr>\n      <th>14 Mar</th>\n      <td>1518</td>\n    </tr>\n  </tbody>\n</table>\n</div>"
     },
     "metadata": {},
     "output_type": "execute_result",
     "execution_count": 2
    }
   ],
   "source": [
    "# loading the data\n",
    "df = pd.read_csv('italy-intensive_care.csv')\n",
    "a = list((dt.day_of_year_to_date(v)).strftime(\"%d %b\") for v in df['day'])\n",
    "df.index = a\n",
    "# display the table\n",
    "pd.DataFrame(df['intensive care'])\n",
    "\n"
   ],
   "metadata": {
    "collapsed": false,
    "pycharm": {
     "name": "#%%\n",
     "is_executing": false
    }
   }
  },
  {
   "cell_type": "markdown",
   "source": [
    "## Fitting intensive care data with exponential and logistic models\n",
    "\n",
    "The exponential model is:\n",
    "\n",
    "$$y = e^{k(x-x_0)} + y_0$$\n",
    "\n",
    "where $k, x_0, y_0$ are the parameters to estimate.\n",
    "\n",
    "For the logistic model:\n",
    "\n",
    "$$y = \\frac{c}{1+e^{-k(x-x_0)}} + y_0$$\n",
    "\n",
    "where $c, k, x_0, y_0$ are the parameters to estimate."
   ],
   "metadata": {
    "collapsed": false
   }
  },
  {
   "cell_type": "code",
   "execution_count": 3,
   "outputs": [
    {
     "name": "stdout",
     "text": [
      "`gtol` termination condition is satisfied.\n",
      "Function evaluations 24, initial cost 1.9298e+00, final cost 5.1451e-04, first-order optimality 6.85e-09.\n",
      "[1.03049815 0.2611233  1.5945852  5.42441978]\n",
      "24 Feb    0.009122\n",
      "25 Feb    0.006444\n",
      "26 Feb   -0.000871\n",
      "27 Feb   -0.000883\n",
      "28 Feb   -0.008455\n",
      "29 Feb   -0.002817\n",
      "01 Mar   -0.002681\n",
      "02 Mar   -0.009907\n",
      "03 Mar   -0.003388\n",
      "04 Mar    0.000394\n",
      "05 Mar   -0.005190\n",
      "06 Mar    0.009872\n",
      "07 Mar    0.016501\n",
      "08 Mar    0.006855\n",
      "09 Mar   -0.008892\n",
      "10 Mar   -0.002030\n",
      "11 Mar    0.002442\n",
      "12 Mar   -0.010301\n",
      "13 Mar   -0.003597\n",
      "14 Mar    0.007384\n",
      "dtype: float64\n",
      "std err: 0.007173070271871418\n",
      "        Sigmoid model\n",
      "        x0 = 74.82780694245547\n",
      "        y0 = -55.80737098691642\n",
      "        c = 3396.466481850007\n",
      "        k = 0.19984704447128623\n",
      "        asymptot = 3340.6591108630905\n",
      "        flex = 74.82780694245547, 1642.425869938087\n",
      "        \n",
      "[0.65       0.43896714 1.        ]\n",
      "`gtol` termination condition is satisfied.\n",
      "Function evaluations 14, initial cost 7.5110e+00, final cost 1.1247e-03, first-order optimality 1.81e-09.\n",
      "[1.06427878 0.20837382 3.44656255]\n",
      "24 Feb    0.019845\n",
      "25 Feb    0.013882\n",
      "26 Feb    0.003317\n",
      "27 Feb    0.000179\n",
      "28 Feb   -0.010290\n",
      "29 Feb   -0.007192\n",
      "01 Mar   -0.009097\n",
      "02 Mar   -0.017711\n",
      "03 Mar   -0.011772\n",
      "04 Mar   -0.007626\n",
      "05 Mar   -0.011808\n",
      "06 Mar    0.005705\n",
      "07 Mar    0.015717\n",
      "08 Mar    0.010082\n",
      "09 Mar   -0.001592\n",
      "10 Mar    0.008516\n",
      "11 Mar    0.014125\n",
      "12 Mar   -0.001311\n",
      "13 Mar   -0.003308\n",
      "14 Mar   -0.009657\n",
      "dtype: float64\n",
      "std err: 0.010605516069204674\n",
      "            Exponential model\n",
      "            x0 = 15.389059178130488\n",
      "            y0 = -168.16375372164455\n",
      "            k = 0.12697862042699007\n",
      "            \n",
      "`ftol` termination condition is satisfied.\n",
      "Function evaluations 28, initial cost 7.3275e-01, final cost 5.5636e-04, first-order optimality 1.51e-08.\n",
      "[1.25392793 0.2558803  0.85756134 5.07432829]\n",
      "24 Feb    0.010268\n",
      "25 Feb    0.007196\n",
      "26 Feb   -0.000507\n",
      "27 Feb   -0.000886\n",
      "28 Feb   -0.008785\n",
      "29 Feb   -0.003414\n",
      "01 Mar   -0.003463\n",
      "02 Mar   -0.010770\n",
      "03 Mar   -0.004214\n",
      "04 Mar   -0.000267\n",
      "05 Mar   -0.005567\n",
      "06 Mar    0.009866\n",
      "07 Mar    0.016896\n",
      "08 Mar    0.007595\n",
      "09 Mar   -0.007969\n",
      "10 Mar   -0.001182\n",
      "11 Mar    0.002913\n",
      "12 Mar   -0.010427\n",
      "13 Mar   -0.004235\n",
      "14 Mar    0.006953\n",
      "dtype: float64\n",
      "std err: 0.007459105485764742\n",
      "        Sigmoid derivative model\n",
      "        x0 = 80.89232957145245\n",
      "        y0 = -66.97496424411216\n",
      "        c = 49579.29634157978\n",
      "        k = 0.1869489368519724\n",
      "        max = 80.89232957145245, 24722.673206545776\n",
      "        \n"
     ],
     "output_type": "stream"
    }
   ],
   "source": [
    "x_orig = df['day']\n",
    "y_orig = df['intensive care']\n",
    "\n",
    "sigm_model, xp, pxp = reg.fit_sigmoid(x_orig, y_orig, verbose=True)\n",
    "flex = reg.sigmoid_get_flex(sigm_model)\n",
    "\n",
    "exp_model, exp_xp, exp_pxp = reg.fit_exponential(x_orig, y_orig, upper=1.25, verbose=True)\n",
    "\n",
    "log_model, log_xp, log_pxp = reg.fit_logistic_distribution(x_orig, y_orig, verbose=True)\n",
    "peak = reg.logistic_distribution_get_max(log_model)"
   ],
   "metadata": {
    "collapsed": false,
    "pycharm": {
     "name": "#%%\n",
     "is_executing": false
    }
   }
  },
  {
   "cell_type": "code",
   "execution_count": 4,
   "outputs": [
    {
     "data": {
      "text/plain": "        day  intensive care          exp         sigm          log\n20 Feb   51             NaN   -76.160114   -27.016417   -32.556227\n21 Feb   52             NaN   -63.703489   -20.713207   -25.544427\n22 Feb   53             NaN   -49.560327   -13.047555   -17.119804\n23 Feb   54             NaN   -33.502284    -3.733428    -7.004705\n24 Feb   55            27.0   -15.270098     7.571202     5.129934\n25 Feb   56            35.0     5.430594    21.273370    19.672687\n26 Feb   57            36.0    28.934008    37.854642    37.080347\n27 Feb   58            56.0    55.619615    57.880640    57.886949\n28 Feb   59            64.0    85.918259    82.009756    82.712584\n29 Feb   60           105.0   120.319120   110.999810   112.271178\n01 Mar   61           140.0   159.377608   145.710854   147.375971\n02 Mar   62           166.0   203.724331   187.101688   188.940863\n03 Mar   63           229.0   254.075279   236.216942   237.975078\n04 Mar   64           295.0   311.243380   294.161016   295.567717\n05 Mar   65           351.0   376.151627   362.054911   362.857827\n06 Mar   66           462.0   449.847980   440.972418   440.984670\n07 Mar   67           567.0   533.522284   531.853747   531.012311\n08 Mar   68           650.0   628.525482   635.397829   633.822733\n09 Mar   69           733.0   736.391423   751.939469   749.973186\n10 Mar   70           877.0   858.861630   881.323924   879.517136\n11 Mar   71          1028.0   997.913414  1022.798028  1021.794820\n12 Mar   72          1153.0  1155.791801  1174.941566  1175.209632\n13 Mar   73          1328.0  1335.045775  1335.662422  1337.019886\n14 Mar   74          1518.0  1538.569437  1502.271963  1503.190162\n15 Mar   75             NaN  1769.648726  1671.643020  1668.357943\n16 Mar   76             NaN  2032.014473  1840.434660  1825.973438\n17 Mar   77             NaN  2329.902639  2005.351228  1968.656007\n18 Mar   78             NaN          NaN  2163.394050  2088.775079\n19 Mar   79             NaN          NaN  2312.066120  2179.209294\n20 Mar   80             NaN          NaN  2449.502481  2234.177405\n21 Mar   81             NaN          NaN  2574.516860  2249.989521\n22 Mar   82             NaN          NaN  2686.572485  2225.559603\n23 Mar   83             NaN          NaN  2785.696802  2162.560969\n24 Mar   84             NaN          NaN  2872.364383  2065.187567\n25 Mar   85             NaN          NaN  2947.370549  1939.577946\n26 Mar   86             NaN          NaN  3011.712669  1793.032960\n27 Mar   87             NaN          NaN  3066.489387  1633.188626\n28 Mar   88             NaN          NaN  3112.822085  1467.288360\n29 Mar   89             NaN          NaN  3151.798505  1301.648554\n30 Mar   90             NaN          NaN  3184.435911  1141.351007\n31 Mar   91             NaN          NaN  3211.660005   990.144870\n01 Apr   92             NaN          NaN  3234.295648   850.509857\n02 Apr   93             NaN          NaN  3253.065862   723.822136",
      "text/html": "<div>\n<style scoped>\n    .dataframe tbody tr th:only-of-type {\n        vertical-align: middle;\n    }\n\n    .dataframe tbody tr th {\n        vertical-align: top;\n    }\n\n    .dataframe thead th {\n        text-align: right;\n    }\n</style>\n<table border=\"1\" class=\"dataframe\">\n  <thead>\n    <tr style=\"text-align: right;\">\n      <th></th>\n      <th>day</th>\n      <th>intensive care</th>\n      <th>exp</th>\n      <th>sigm</th>\n      <th>log</th>\n    </tr>\n  </thead>\n  <tbody>\n    <tr>\n      <th>20 Feb</th>\n      <td>51</td>\n      <td>NaN</td>\n      <td>-76.160114</td>\n      <td>-27.016417</td>\n      <td>-32.556227</td>\n    </tr>\n    <tr>\n      <th>21 Feb</th>\n      <td>52</td>\n      <td>NaN</td>\n      <td>-63.703489</td>\n      <td>-20.713207</td>\n      <td>-25.544427</td>\n    </tr>\n    <tr>\n      <th>22 Feb</th>\n      <td>53</td>\n      <td>NaN</td>\n      <td>-49.560327</td>\n      <td>-13.047555</td>\n      <td>-17.119804</td>\n    </tr>\n    <tr>\n      <th>23 Feb</th>\n      <td>54</td>\n      <td>NaN</td>\n      <td>-33.502284</td>\n      <td>-3.733428</td>\n      <td>-7.004705</td>\n    </tr>\n    <tr>\n      <th>24 Feb</th>\n      <td>55</td>\n      <td>27.0</td>\n      <td>-15.270098</td>\n      <td>7.571202</td>\n      <td>5.129934</td>\n    </tr>\n    <tr>\n      <th>25 Feb</th>\n      <td>56</td>\n      <td>35.0</td>\n      <td>5.430594</td>\n      <td>21.273370</td>\n      <td>19.672687</td>\n    </tr>\n    <tr>\n      <th>26 Feb</th>\n      <td>57</td>\n      <td>36.0</td>\n      <td>28.934008</td>\n      <td>37.854642</td>\n      <td>37.080347</td>\n    </tr>\n    <tr>\n      <th>27 Feb</th>\n      <td>58</td>\n      <td>56.0</td>\n      <td>55.619615</td>\n      <td>57.880640</td>\n      <td>57.886949</td>\n    </tr>\n    <tr>\n      <th>28 Feb</th>\n      <td>59</td>\n      <td>64.0</td>\n      <td>85.918259</td>\n      <td>82.009756</td>\n      <td>82.712584</td>\n    </tr>\n    <tr>\n      <th>29 Feb</th>\n      <td>60</td>\n      <td>105.0</td>\n      <td>120.319120</td>\n      <td>110.999810</td>\n      <td>112.271178</td>\n    </tr>\n    <tr>\n      <th>01 Mar</th>\n      <td>61</td>\n      <td>140.0</td>\n      <td>159.377608</td>\n      <td>145.710854</td>\n      <td>147.375971</td>\n    </tr>\n    <tr>\n      <th>02 Mar</th>\n      <td>62</td>\n      <td>166.0</td>\n      <td>203.724331</td>\n      <td>187.101688</td>\n      <td>188.940863</td>\n    </tr>\n    <tr>\n      <th>03 Mar</th>\n      <td>63</td>\n      <td>229.0</td>\n      <td>254.075279</td>\n      <td>236.216942</td>\n      <td>237.975078</td>\n    </tr>\n    <tr>\n      <th>04 Mar</th>\n      <td>64</td>\n      <td>295.0</td>\n      <td>311.243380</td>\n      <td>294.161016</td>\n      <td>295.567717</td>\n    </tr>\n    <tr>\n      <th>05 Mar</th>\n      <td>65</td>\n      <td>351.0</td>\n      <td>376.151627</td>\n      <td>362.054911</td>\n      <td>362.857827</td>\n    </tr>\n    <tr>\n      <th>06 Mar</th>\n      <td>66</td>\n      <td>462.0</td>\n      <td>449.847980</td>\n      <td>440.972418</td>\n      <td>440.984670</td>\n    </tr>\n    <tr>\n      <th>07 Mar</th>\n      <td>67</td>\n      <td>567.0</td>\n      <td>533.522284</td>\n      <td>531.853747</td>\n      <td>531.012311</td>\n    </tr>\n    <tr>\n      <th>08 Mar</th>\n      <td>68</td>\n      <td>650.0</td>\n      <td>628.525482</td>\n      <td>635.397829</td>\n      <td>633.822733</td>\n    </tr>\n    <tr>\n      <th>09 Mar</th>\n      <td>69</td>\n      <td>733.0</td>\n      <td>736.391423</td>\n      <td>751.939469</td>\n      <td>749.973186</td>\n    </tr>\n    <tr>\n      <th>10 Mar</th>\n      <td>70</td>\n      <td>877.0</td>\n      <td>858.861630</td>\n      <td>881.323924</td>\n      <td>879.517136</td>\n    </tr>\n    <tr>\n      <th>11 Mar</th>\n      <td>71</td>\n      <td>1028.0</td>\n      <td>997.913414</td>\n      <td>1022.798028</td>\n      <td>1021.794820</td>\n    </tr>\n    <tr>\n      <th>12 Mar</th>\n      <td>72</td>\n      <td>1153.0</td>\n      <td>1155.791801</td>\n      <td>1174.941566</td>\n      <td>1175.209632</td>\n    </tr>\n    <tr>\n      <th>13 Mar</th>\n      <td>73</td>\n      <td>1328.0</td>\n      <td>1335.045775</td>\n      <td>1335.662422</td>\n      <td>1337.019886</td>\n    </tr>\n    <tr>\n      <th>14 Mar</th>\n      <td>74</td>\n      <td>1518.0</td>\n      <td>1538.569437</td>\n      <td>1502.271963</td>\n      <td>1503.190162</td>\n    </tr>\n    <tr>\n      <th>15 Mar</th>\n      <td>75</td>\n      <td>NaN</td>\n      <td>1769.648726</td>\n      <td>1671.643020</td>\n      <td>1668.357943</td>\n    </tr>\n    <tr>\n      <th>16 Mar</th>\n      <td>76</td>\n      <td>NaN</td>\n      <td>2032.014473</td>\n      <td>1840.434660</td>\n      <td>1825.973438</td>\n    </tr>\n    <tr>\n      <th>17 Mar</th>\n      <td>77</td>\n      <td>NaN</td>\n      <td>2329.902639</td>\n      <td>2005.351228</td>\n      <td>1968.656007</td>\n    </tr>\n    <tr>\n      <th>18 Mar</th>\n      <td>78</td>\n      <td>NaN</td>\n      <td>NaN</td>\n      <td>2163.394050</td>\n      <td>2088.775079</td>\n    </tr>\n    <tr>\n      <th>19 Mar</th>\n      <td>79</td>\n      <td>NaN</td>\n      <td>NaN</td>\n      <td>2312.066120</td>\n      <td>2179.209294</td>\n    </tr>\n    <tr>\n      <th>20 Mar</th>\n      <td>80</td>\n      <td>NaN</td>\n      <td>NaN</td>\n      <td>2449.502481</td>\n      <td>2234.177405</td>\n    </tr>\n    <tr>\n      <th>21 Mar</th>\n      <td>81</td>\n      <td>NaN</td>\n      <td>NaN</td>\n      <td>2574.516860</td>\n      <td>2249.989521</td>\n    </tr>\n    <tr>\n      <th>22 Mar</th>\n      <td>82</td>\n      <td>NaN</td>\n      <td>NaN</td>\n      <td>2686.572485</td>\n      <td>2225.559603</td>\n    </tr>\n    <tr>\n      <th>23 Mar</th>\n      <td>83</td>\n      <td>NaN</td>\n      <td>NaN</td>\n      <td>2785.696802</td>\n      <td>2162.560969</td>\n    </tr>\n    <tr>\n      <th>24 Mar</th>\n      <td>84</td>\n      <td>NaN</td>\n      <td>NaN</td>\n      <td>2872.364383</td>\n      <td>2065.187567</td>\n    </tr>\n    <tr>\n      <th>25 Mar</th>\n      <td>85</td>\n      <td>NaN</td>\n      <td>NaN</td>\n      <td>2947.370549</td>\n      <td>1939.577946</td>\n    </tr>\n    <tr>\n      <th>26 Mar</th>\n      <td>86</td>\n      <td>NaN</td>\n      <td>NaN</td>\n      <td>3011.712669</td>\n      <td>1793.032960</td>\n    </tr>\n    <tr>\n      <th>27 Mar</th>\n      <td>87</td>\n      <td>NaN</td>\n      <td>NaN</td>\n      <td>3066.489387</td>\n      <td>1633.188626</td>\n    </tr>\n    <tr>\n      <th>28 Mar</th>\n      <td>88</td>\n      <td>NaN</td>\n      <td>NaN</td>\n      <td>3112.822085</td>\n      <td>1467.288360</td>\n    </tr>\n    <tr>\n      <th>29 Mar</th>\n      <td>89</td>\n      <td>NaN</td>\n      <td>NaN</td>\n      <td>3151.798505</td>\n      <td>1301.648554</td>\n    </tr>\n    <tr>\n      <th>30 Mar</th>\n      <td>90</td>\n      <td>NaN</td>\n      <td>NaN</td>\n      <td>3184.435911</td>\n      <td>1141.351007</td>\n    </tr>\n    <tr>\n      <th>31 Mar</th>\n      <td>91</td>\n      <td>NaN</td>\n      <td>NaN</td>\n      <td>3211.660005</td>\n      <td>990.144870</td>\n    </tr>\n    <tr>\n      <th>01 Apr</th>\n      <td>92</td>\n      <td>NaN</td>\n      <td>NaN</td>\n      <td>3234.295648</td>\n      <td>850.509857</td>\n    </tr>\n    <tr>\n      <th>02 Apr</th>\n      <td>93</td>\n      <td>NaN</td>\n      <td>NaN</td>\n      <td>3253.065862</td>\n      <td>723.822136</td>\n    </tr>\n  </tbody>\n</table>\n</div>"
     },
     "metadata": {},
     "output_type": "execute_result",
     "execution_count": 4
    }
   ],
   "source": [
    "# preparing table with predictions\n",
    "d_max = df['day'].max()\n",
    "d_min = df['day'].min()\n",
    "\n",
    "f_days_exp = range(d_min - 4, d_max + 4, 1)\n",
    "f_days_sigm = range(d_min - 4, d_max + 20, 1)\n",
    "f_days_log = range(d_min - 4, d_max + 20, 1)\n",
    "\n",
    "f_exp = reg.exponential(exp_model, f_days_exp)\n",
    "f_sigm = reg.sigmoid(sigm_model, f_days_sigm)\n",
    "f_log = reg.logistic_distribution(log_model, f_days_log)\n",
    "f_df_exp = pd.DataFrame({'day' : f_days_exp, 'exp' : f_exp})\n",
    "f_df_sigm = pd.DataFrame({'day' : f_days_sigm, 'sigm' : f_sigm})\n",
    "f_df_log = pd.DataFrame({'day' : f_days_log, 'log' : f_log})\n",
    "f_df_exp.index = dt.day_of_year_to_string(f_days_exp)\n",
    "f_df_sigm.index = dt.day_of_year_to_string(f_days_sigm)\n",
    "f_df_log.index = dt.day_of_year_to_string(f_days_log)\n",
    "\n",
    "df_final = pd.merge(df, f_df_exp, on='day', how='outer', sort=True).merge(f_df_sigm, on='day', how='outer', sort=True).merge(f_df_log, on='day', how='outer', sort=True)\n",
    "df_final.index = dt.day_of_year_to_string(f_days_sigm)\n",
    "df_final"
   ],
   "metadata": {
    "collapsed": false,
    "pycharm": {
     "name": "#%%\n",
     "is_executing": false
    }
   }
  },
  {
   "cell_type": "code",
   "execution_count": 5,
   "outputs": [
    {
     "data": {
      "application/vnd.plotly.v1+json": {
       "config": {
        "plotlyServerURL": "https://plot.ly"
       },
       "data": [
        {
         "line": {
          "color": "rgba(255, 153, 51, 1.0)",
          "dash": "solid",
          "shape": "linear",
          "width": 1.3
         },
         "marker": {
          "size": 4,
          "symbol": "circle"
         },
         "mode": "lines+markers",
         "name": "exp",
         "text": "",
         "type": "scatter",
         "x": [
          "20 Feb",
          "21 Feb",
          "22 Feb",
          "23 Feb",
          "24 Feb",
          "25 Feb",
          "26 Feb",
          "27 Feb",
          "28 Feb",
          "29 Feb",
          "01 Mar",
          "02 Mar",
          "03 Mar",
          "04 Mar",
          "05 Mar",
          "06 Mar",
          "07 Mar",
          "08 Mar",
          "09 Mar",
          "10 Mar",
          "11 Mar",
          "12 Mar",
          "13 Mar",
          "14 Mar",
          "15 Mar",
          "16 Mar",
          "17 Mar",
          "18 Mar",
          "19 Mar",
          "20 Mar",
          "21 Mar",
          "22 Mar",
          "23 Mar",
          "24 Mar",
          "25 Mar",
          "26 Mar",
          "27 Mar",
          "28 Mar",
          "29 Mar",
          "30 Mar",
          "31 Mar",
          "01 Apr",
          "02 Apr"
         ],
         "y": [
          -76.16011407269127,
          -63.7034889061196,
          -49.56032708586204,
          -33.5022837876833,
          -15.270097955174236,
          5.430593533735021,
          28.93400843174058,
          55.61961514993902,
          85.91825936860471,
          120.31912014660762,
          159.37760783756798,
          203.72433132654524,
          254.0752793655029,
          311.2433803877117,
          376.15162743713745,
          449.8479801180249,
          533.522284160315,
          628.5254817714416,
          736.3914229303556,
          858.8616297724845,
          997.9134138927059,
          1155.7918005271067,
          1335.0457750372875,
          1538.5694369056134,
          1769.648725682778,
          2032.0144732895944,
          2329.9026392154656,
          "",
          "",
          "",
          "",
          "",
          "",
          "",
          "",
          "",
          "",
          "",
          "",
          "",
          "",
          "",
          ""
         ]
        },
        {
         "line": {
          "color": "rgba(55, 128, 191, 1.0)",
          "dash": "solid",
          "shape": "linear",
          "width": 1.3
         },
         "marker": {
          "size": 4,
          "symbol": "circle"
         },
         "mode": "lines+markers",
         "name": "sigm",
         "text": "",
         "type": "scatter",
         "x": [
          "20 Feb",
          "21 Feb",
          "22 Feb",
          "23 Feb",
          "24 Feb",
          "25 Feb",
          "26 Feb",
          "27 Feb",
          "28 Feb",
          "29 Feb",
          "01 Mar",
          "02 Mar",
          "03 Mar",
          "04 Mar",
          "05 Mar",
          "06 Mar",
          "07 Mar",
          "08 Mar",
          "09 Mar",
          "10 Mar",
          "11 Mar",
          "12 Mar",
          "13 Mar",
          "14 Mar",
          "15 Mar",
          "16 Mar",
          "17 Mar",
          "18 Mar",
          "19 Mar",
          "20 Mar",
          "21 Mar",
          "22 Mar",
          "23 Mar",
          "24 Mar",
          "25 Mar",
          "26 Mar",
          "27 Mar",
          "28 Mar",
          "29 Mar",
          "30 Mar",
          "31 Mar",
          "01 Apr",
          "02 Apr"
         ],
         "y": [
          -27.016417079798842,
          -20.71320700593357,
          -13.047555292896512,
          -3.733427793430309,
          7.571201915754443,
          21.27336991982549,
          37.854642248024554,
          57.88064046783692,
          82.00975635562168,
          110.99980954407246,
          145.7108537714499,
          187.10168805543157,
          236.2169419958108,
          294.16101639888524,
          362.054911026381,
          440.97241765363606,
          531.8537472779778,
          635.3978292977438,
          751.9394689474957,
          881.3239235194826,
          1022.7980277544333,
          1174.9415662452486,
          1335.6624224051538,
          1502.2719627931701,
          1671.643020224143,
          1840.434659801461,
          2005.3512282510978,
          2163.394049590189,
          2312.066120300937,
          2449.5024808824433,
          2574.516859837481,
          2686.5724850426936,
          2785.696801795218,
          2872.364382779553,
          2947.3705494310693,
          3011.712669020777,
          3066.4893874275394,
          3112.822085246682,
          3151.7985048628943,
          3184.43591110827,
          3211.6600046475965,
          3234.2956477320986,
          3253.065862331854
         ]
        },
        {
         "line": {
          "color": "rgba(50, 171, 96, 1.0)",
          "dash": "solid",
          "shape": "linear",
          "width": 1.3
         },
         "marker": {
          "size": 4,
          "symbol": "circle"
         },
         "mode": "lines+markers",
         "name": "log",
         "text": "",
         "type": "scatter",
         "x": [
          "20 Feb",
          "21 Feb",
          "22 Feb",
          "23 Feb",
          "24 Feb",
          "25 Feb",
          "26 Feb",
          "27 Feb",
          "28 Feb",
          "29 Feb",
          "01 Mar",
          "02 Mar",
          "03 Mar",
          "04 Mar",
          "05 Mar",
          "06 Mar",
          "07 Mar",
          "08 Mar",
          "09 Mar",
          "10 Mar",
          "11 Mar",
          "12 Mar",
          "13 Mar",
          "14 Mar",
          "15 Mar",
          "16 Mar",
          "17 Mar",
          "18 Mar",
          "19 Mar",
          "20 Mar",
          "21 Mar",
          "22 Mar",
          "23 Mar",
          "24 Mar",
          "25 Mar",
          "26 Mar",
          "27 Mar",
          "28 Mar",
          "29 Mar",
          "30 Mar",
          "31 Mar",
          "01 Apr",
          "02 Apr"
         ],
         "y": [
          -32.55622693558261,
          -25.544427053639723,
          -17.11980392807444,
          -7.004705329529095,
          5.129933619040813,
          19.672686909480944,
          37.080347336816814,
          57.88694916953209,
          82.71258404679043,
          112.27117838681474,
          147.37597139786686,
          188.94086308784946,
          237.9750775247421,
          295.567717407102,
          362.85782729378195,
          440.9846698431203,
          531.0123107772531,
          633.8227328649524,
          749.9731862127536,
          879.5171355419702,
          1021.7948202988567,
          1175.209631760587,
          1337.019886161671,
          1503.190162035599,
          1668.357943032526,
          1825.973438002519,
          1968.6560067904768,
          2088.775078999819,
          2179.209293912279,
          2234.177404553408,
          2249.989521072907,
          2225.559603031993,
          2162.5609689038365,
          2065.187567197666,
          1939.5779464768052,
          1793.0329603678094,
          1633.188626475382,
          1467.2883601858102,
          1301.6485535334793,
          1141.3510066659367,
          990.1448703548684,
          850.5098565482494,
          723.8221359356382
         ]
        },
        {
         "line": {
          "color": "rgba(128, 0, 128, 1.0)",
          "dash": "solid",
          "shape": "linear",
          "width": 1.3
         },
         "marker": {
          "size": 8,
          "symbol": "circle"
         },
         "mode": "markers",
         "name": "intensive care",
         "text": "",
         "type": "scatter",
         "x": [
          "20 Feb",
          "21 Feb",
          "22 Feb",
          "23 Feb",
          "24 Feb",
          "25 Feb",
          "26 Feb",
          "27 Feb",
          "28 Feb",
          "29 Feb",
          "01 Mar",
          "02 Mar",
          "03 Mar",
          "04 Mar",
          "05 Mar",
          "06 Mar",
          "07 Mar",
          "08 Mar",
          "09 Mar",
          "10 Mar",
          "11 Mar",
          "12 Mar",
          "13 Mar",
          "14 Mar",
          "15 Mar",
          "16 Mar",
          "17 Mar",
          "18 Mar",
          "19 Mar",
          "20 Mar",
          "21 Mar",
          "22 Mar",
          "23 Mar",
          "24 Mar",
          "25 Mar",
          "26 Mar",
          "27 Mar",
          "28 Mar",
          "29 Mar",
          "30 Mar",
          "31 Mar",
          "01 Apr",
          "02 Apr"
         ],
         "y": [
          "",
          "",
          "",
          "",
          27.0,
          35.0,
          36.0,
          56.0,
          64.0,
          105.0,
          140.0,
          166.0,
          229.0,
          295.0,
          351.0,
          462.0,
          567.0,
          650.0,
          733.0,
          877.0,
          1028.0,
          1153.0,
          1328.0,
          1518.0,
          "",
          "",
          "",
          "",
          "",
          "",
          "",
          "",
          "",
          "",
          "",
          "",
          "",
          "",
          "",
          "",
          "",
          "",
          ""
         ]
        },
        {
         "marker": {
          "color": "rgba(255, 0, 0, 125)",
          "size": 8
         },
         "mode": "markers",
         "name": "flex",
         "type": "scatter",
         "x": [
          "15 Mar"
         ],
         "y": [
          1642.425869938087
         ]
        },
        {
         "marker": {
          "size": 8
         },
         "mode": "markers",
         "name": "peak",
         "type": "scatter",
         "x": [
          "21 Mar"
         ],
         "y": [
          2250.224220987694
         ]
        }
       ],
       "layout": {
        "legend": {
         "bgcolor": "#FFFFFF",
         "font": {
          "color": "#4D5663"
         }
        },
        "paper_bgcolor": "#FFFFFF",
        "plot_bgcolor": "#FFFFFF",
        "template": {
         "data": {
          "bar": [
           {
            "error_x": {
             "color": "#2a3f5f"
            },
            "error_y": {
             "color": "#2a3f5f"
            },
            "marker": {
             "line": {
              "color": "#E5ECF6",
              "width": 0.5
             }
            },
            "type": "bar"
           }
          ],
          "barpolar": [
           {
            "marker": {
             "line": {
              "color": "#E5ECF6",
              "width": 0.5
             }
            },
            "type": "barpolar"
           }
          ],
          "carpet": [
           {
            "aaxis": {
             "endlinecolor": "#2a3f5f",
             "gridcolor": "white",
             "linecolor": "white",
             "minorgridcolor": "white",
             "startlinecolor": "#2a3f5f"
            },
            "baxis": {
             "endlinecolor": "#2a3f5f",
             "gridcolor": "white",
             "linecolor": "white",
             "minorgridcolor": "white",
             "startlinecolor": "#2a3f5f"
            },
            "type": "carpet"
           }
          ],
          "choropleth": [
           {
            "colorbar": {
             "outlinewidth": 0,
             "ticks": ""
            },
            "type": "choropleth"
           }
          ],
          "contour": [
           {
            "colorbar": {
             "outlinewidth": 0,
             "ticks": ""
            },
            "colorscale": [
             [
              0.0,
              "#0d0887"
             ],
             [
              0.1111111111111111,
              "#46039f"
             ],
             [
              0.2222222222222222,
              "#7201a8"
             ],
             [
              0.3333333333333333,
              "#9c179e"
             ],
             [
              0.4444444444444444,
              "#bd3786"
             ],
             [
              0.5555555555555556,
              "#d8576b"
             ],
             [
              0.6666666666666666,
              "#ed7953"
             ],
             [
              0.7777777777777778,
              "#fb9f3a"
             ],
             [
              0.8888888888888888,
              "#fdca26"
             ],
             [
              1.0,
              "#f0f921"
             ]
            ],
            "type": "contour"
           }
          ],
          "contourcarpet": [
           {
            "colorbar": {
             "outlinewidth": 0,
             "ticks": ""
            },
            "type": "contourcarpet"
           }
          ],
          "heatmap": [
           {
            "colorbar": {
             "outlinewidth": 0,
             "ticks": ""
            },
            "colorscale": [
             [
              0.0,
              "#0d0887"
             ],
             [
              0.1111111111111111,
              "#46039f"
             ],
             [
              0.2222222222222222,
              "#7201a8"
             ],
             [
              0.3333333333333333,
              "#9c179e"
             ],
             [
              0.4444444444444444,
              "#bd3786"
             ],
             [
              0.5555555555555556,
              "#d8576b"
             ],
             [
              0.6666666666666666,
              "#ed7953"
             ],
             [
              0.7777777777777778,
              "#fb9f3a"
             ],
             [
              0.8888888888888888,
              "#fdca26"
             ],
             [
              1.0,
              "#f0f921"
             ]
            ],
            "type": "heatmap"
           }
          ],
          "heatmapgl": [
           {
            "colorbar": {
             "outlinewidth": 0,
             "ticks": ""
            },
            "colorscale": [
             [
              0.0,
              "#0d0887"
             ],
             [
              0.1111111111111111,
              "#46039f"
             ],
             [
              0.2222222222222222,
              "#7201a8"
             ],
             [
              0.3333333333333333,
              "#9c179e"
             ],
             [
              0.4444444444444444,
              "#bd3786"
             ],
             [
              0.5555555555555556,
              "#d8576b"
             ],
             [
              0.6666666666666666,
              "#ed7953"
             ],
             [
              0.7777777777777778,
              "#fb9f3a"
             ],
             [
              0.8888888888888888,
              "#fdca26"
             ],
             [
              1.0,
              "#f0f921"
             ]
            ],
            "type": "heatmapgl"
           }
          ],
          "histogram": [
           {
            "marker": {
             "colorbar": {
              "outlinewidth": 0,
              "ticks": ""
             }
            },
            "type": "histogram"
           }
          ],
          "histogram2d": [
           {
            "colorbar": {
             "outlinewidth": 0,
             "ticks": ""
            },
            "colorscale": [
             [
              0.0,
              "#0d0887"
             ],
             [
              0.1111111111111111,
              "#46039f"
             ],
             [
              0.2222222222222222,
              "#7201a8"
             ],
             [
              0.3333333333333333,
              "#9c179e"
             ],
             [
              0.4444444444444444,
              "#bd3786"
             ],
             [
              0.5555555555555556,
              "#d8576b"
             ],
             [
              0.6666666666666666,
              "#ed7953"
             ],
             [
              0.7777777777777778,
              "#fb9f3a"
             ],
             [
              0.8888888888888888,
              "#fdca26"
             ],
             [
              1.0,
              "#f0f921"
             ]
            ],
            "type": "histogram2d"
           }
          ],
          "histogram2dcontour": [
           {
            "colorbar": {
             "outlinewidth": 0,
             "ticks": ""
            },
            "colorscale": [
             [
              0.0,
              "#0d0887"
             ],
             [
              0.1111111111111111,
              "#46039f"
             ],
             [
              0.2222222222222222,
              "#7201a8"
             ],
             [
              0.3333333333333333,
              "#9c179e"
             ],
             [
              0.4444444444444444,
              "#bd3786"
             ],
             [
              0.5555555555555556,
              "#d8576b"
             ],
             [
              0.6666666666666666,
              "#ed7953"
             ],
             [
              0.7777777777777778,
              "#fb9f3a"
             ],
             [
              0.8888888888888888,
              "#fdca26"
             ],
             [
              1.0,
              "#f0f921"
             ]
            ],
            "type": "histogram2dcontour"
           }
          ],
          "mesh3d": [
           {
            "colorbar": {
             "outlinewidth": 0,
             "ticks": ""
            },
            "type": "mesh3d"
           }
          ],
          "parcoords": [
           {
            "line": {
             "colorbar": {
              "outlinewidth": 0,
              "ticks": ""
             }
            },
            "type": "parcoords"
           }
          ],
          "pie": [
           {
            "automargin": true,
            "type": "pie"
           }
          ],
          "scatter": [
           {
            "marker": {
             "colorbar": {
              "outlinewidth": 0,
              "ticks": ""
             }
            },
            "type": "scatter"
           }
          ],
          "scatter3d": [
           {
            "line": {
             "colorbar": {
              "outlinewidth": 0,
              "ticks": ""
             }
            },
            "marker": {
             "colorbar": {
              "outlinewidth": 0,
              "ticks": ""
             }
            },
            "type": "scatter3d"
           }
          ],
          "scattercarpet": [
           {
            "marker": {
             "colorbar": {
              "outlinewidth": 0,
              "ticks": ""
             }
            },
            "type": "scattercarpet"
           }
          ],
          "scattergeo": [
           {
            "marker": {
             "colorbar": {
              "outlinewidth": 0,
              "ticks": ""
             }
            },
            "type": "scattergeo"
           }
          ],
          "scattergl": [
           {
            "marker": {
             "colorbar": {
              "outlinewidth": 0,
              "ticks": ""
             }
            },
            "type": "scattergl"
           }
          ],
          "scattermapbox": [
           {
            "marker": {
             "colorbar": {
              "outlinewidth": 0,
              "ticks": ""
             }
            },
            "type": "scattermapbox"
           }
          ],
          "scatterpolar": [
           {
            "marker": {
             "colorbar": {
              "outlinewidth": 0,
              "ticks": ""
             }
            },
            "type": "scatterpolar"
           }
          ],
          "scatterpolargl": [
           {
            "marker": {
             "colorbar": {
              "outlinewidth": 0,
              "ticks": ""
             }
            },
            "type": "scatterpolargl"
           }
          ],
          "scatterternary": [
           {
            "marker": {
             "colorbar": {
              "outlinewidth": 0,
              "ticks": ""
             }
            },
            "type": "scatterternary"
           }
          ],
          "surface": [
           {
            "colorbar": {
             "outlinewidth": 0,
             "ticks": ""
            },
            "colorscale": [
             [
              0.0,
              "#0d0887"
             ],
             [
              0.1111111111111111,
              "#46039f"
             ],
             [
              0.2222222222222222,
              "#7201a8"
             ],
             [
              0.3333333333333333,
              "#9c179e"
             ],
             [
              0.4444444444444444,
              "#bd3786"
             ],
             [
              0.5555555555555556,
              "#d8576b"
             ],
             [
              0.6666666666666666,
              "#ed7953"
             ],
             [
              0.7777777777777778,
              "#fb9f3a"
             ],
             [
              0.8888888888888888,
              "#fdca26"
             ],
             [
              1.0,
              "#f0f921"
             ]
            ],
            "type": "surface"
           }
          ],
          "table": [
           {
            "cells": {
             "fill": {
              "color": "#EBF0F8"
             },
             "line": {
              "color": "white"
             }
            },
            "header": {
             "fill": {
              "color": "#C8D4E3"
             },
             "line": {
              "color": "white"
             }
            },
            "type": "table"
           }
          ]
         },
         "layout": {
          "annotationdefaults": {
           "arrowcolor": "#2a3f5f",
           "arrowhead": 0,
           "arrowwidth": 1
          },
          "coloraxis": {
           "colorbar": {
            "outlinewidth": 0,
            "ticks": ""
           }
          },
          "colorscale": {
           "diverging": [
            [
             0,
             "#8e0152"
            ],
            [
             0.1,
             "#c51b7d"
            ],
            [
             0.2,
             "#de77ae"
            ],
            [
             0.3,
             "#f1b6da"
            ],
            [
             0.4,
             "#fde0ef"
            ],
            [
             0.5,
             "#f7f7f7"
            ],
            [
             0.6,
             "#e6f5d0"
            ],
            [
             0.7,
             "#b8e186"
            ],
            [
             0.8,
             "#7fbc41"
            ],
            [
             0.9,
             "#4d9221"
            ],
            [
             1,
             "#276419"
            ]
           ],
           "sequential": [
            [
             0.0,
             "#0d0887"
            ],
            [
             0.1111111111111111,
             "#46039f"
            ],
            [
             0.2222222222222222,
             "#7201a8"
            ],
            [
             0.3333333333333333,
             "#9c179e"
            ],
            [
             0.4444444444444444,
             "#bd3786"
            ],
            [
             0.5555555555555556,
             "#d8576b"
            ],
            [
             0.6666666666666666,
             "#ed7953"
            ],
            [
             0.7777777777777778,
             "#fb9f3a"
            ],
            [
             0.8888888888888888,
             "#fdca26"
            ],
            [
             1.0,
             "#f0f921"
            ]
           ],
           "sequentialminus": [
            [
             0.0,
             "#0d0887"
            ],
            [
             0.1111111111111111,
             "#46039f"
            ],
            [
             0.2222222222222222,
             "#7201a8"
            ],
            [
             0.3333333333333333,
             "#9c179e"
            ],
            [
             0.4444444444444444,
             "#bd3786"
            ],
            [
             0.5555555555555556,
             "#d8576b"
            ],
            [
             0.6666666666666666,
             "#ed7953"
            ],
            [
             0.7777777777777778,
             "#fb9f3a"
            ],
            [
             0.8888888888888888,
             "#fdca26"
            ],
            [
             1.0,
             "#f0f921"
            ]
           ]
          },
          "colorway": [
           "#636efa",
           "#EF553B",
           "#00cc96",
           "#ab63fa",
           "#FFA15A",
           "#19d3f3",
           "#FF6692",
           "#B6E880",
           "#FF97FF",
           "#FECB52"
          ],
          "font": {
           "color": "#2a3f5f"
          },
          "geo": {
           "bgcolor": "white",
           "lakecolor": "white",
           "landcolor": "#E5ECF6",
           "showlakes": true,
           "showland": true,
           "subunitcolor": "white"
          },
          "hoverlabel": {
           "align": "left"
          },
          "hovermode": "closest",
          "mapbox": {
           "style": "light"
          },
          "paper_bgcolor": "white",
          "plot_bgcolor": "#E5ECF6",
          "polar": {
           "angularaxis": {
            "gridcolor": "white",
            "linecolor": "white",
            "ticks": ""
           },
           "bgcolor": "#E5ECF6",
           "radialaxis": {
            "gridcolor": "white",
            "linecolor": "white",
            "ticks": ""
           }
          },
          "scene": {
           "xaxis": {
            "backgroundcolor": "#E5ECF6",
            "gridcolor": "white",
            "gridwidth": 2,
            "linecolor": "white",
            "showbackground": true,
            "ticks": "",
            "zerolinecolor": "white"
           },
           "yaxis": {
            "backgroundcolor": "#E5ECF6",
            "gridcolor": "white",
            "gridwidth": 2,
            "linecolor": "white",
            "showbackground": true,
            "ticks": "",
            "zerolinecolor": "white"
           },
           "zaxis": {
            "backgroundcolor": "#E5ECF6",
            "gridcolor": "white",
            "gridwidth": 2,
            "linecolor": "white",
            "showbackground": true,
            "ticks": "",
            "zerolinecolor": "white"
           }
          },
          "shapedefaults": {
           "line": {
            "color": "#2a3f5f"
           }
          },
          "ternary": {
           "aaxis": {
            "gridcolor": "white",
            "linecolor": "white",
            "ticks": ""
           },
           "baxis": {
            "gridcolor": "white",
            "linecolor": "white",
            "ticks": ""
           },
           "bgcolor": "#E5ECF6",
           "caxis": {
            "gridcolor": "white",
            "linecolor": "white",
            "ticks": ""
           }
          },
          "title": {
           "x": 0.05
          },
          "xaxis": {
           "automargin": true,
           "gridcolor": "white",
           "linecolor": "white",
           "ticks": "",
           "title": {
            "standoff": 15
           },
           "zerolinecolor": "white",
           "zerolinewidth": 2
          },
          "yaxis": {
           "automargin": true,
           "gridcolor": "white",
           "linecolor": "white",
           "ticks": "",
           "title": {
            "standoff": 15
           },
           "zerolinecolor": "white",
           "zerolinewidth": 2
          }
         }
        },
        "title": {
         "font": {
          "color": "#4D5663"
         },
         "text": "Intensive care cases"
        },
        "updatemenus": [
         {
          "buttons": [
           {
            "args": [
             {
              "yaxis.type": "linear"
             }
            ],
            "label": "Linear",
            "method": "relayout"
           },
           {
            "args": [
             {
              "yaxis.type": "log"
             }
            ],
            "label": "Log",
            "method": "relayout"
           }
          ],
          "direction": "down",
          "pad": {
           "r": 10,
           "t": 10
          },
          "showactive": true,
          "x": 0.1,
          "xanchor": "left",
          "y": 1.1,
          "yanchor": "top"
         }
        ],
        "xaxis": {
         "gridcolor": "#E1E5ED",
         "showgrid": true,
         "tickfont": {
          "color": "#4D5663"
         },
         "title": {
          "font": {
           "color": "#4D5663"
          },
          "text": ""
         },
         "zerolinecolor": "#E1E5ED"
        },
        "yaxis": {
         "gridcolor": "#E1E5ED",
         "showgrid": true,
         "tickfont": {
          "color": "#4D5663"
         },
         "title": {
          "font": {
           "color": "#4D5663"
          },
          "text": "cases"
         },
         "zerolinecolor": "#E1E5ED"
        }
       }
      },
      "text/html": "<div>\n        \n        \n            <div id=\"60dbabd0-5ef7-422a-991a-aa1a242e994a\" class=\"plotly-graph-div\" style=\"height:525px; width:100%;\"></div>\n            <script type=\"text/javascript\">\n                require([\"plotly\"], function(Plotly) {\n                    window.PLOTLYENV=window.PLOTLYENV || {};\n                    \n                if (document.getElementById(\"60dbabd0-5ef7-422a-991a-aa1a242e994a\")) {\n                    Plotly.newPlot(\n                        '60dbabd0-5ef7-422a-991a-aa1a242e994a',\n                        [{\"line\": {\"color\": \"rgba(255, 153, 51, 1.0)\", \"dash\": \"solid\", \"shape\": \"linear\", \"width\": 1.3}, \"marker\": {\"size\": 4, \"symbol\": \"circle\"}, \"mode\": \"lines+markers\", \"name\": \"exp\", \"text\": \"\", \"type\": \"scatter\", \"x\": [\"20 Feb\", \"21 Feb\", \"22 Feb\", \"23 Feb\", \"24 Feb\", \"25 Feb\", \"26 Feb\", \"27 Feb\", \"28 Feb\", \"29 Feb\", \"01 Mar\", \"02 Mar\", \"03 Mar\", \"04 Mar\", \"05 Mar\", \"06 Mar\", \"07 Mar\", \"08 Mar\", \"09 Mar\", \"10 Mar\", \"11 Mar\", \"12 Mar\", \"13 Mar\", \"14 Mar\", \"15 Mar\", \"16 Mar\", \"17 Mar\", \"18 Mar\", \"19 Mar\", \"20 Mar\", \"21 Mar\", \"22 Mar\", \"23 Mar\", \"24 Mar\", \"25 Mar\", \"26 Mar\", \"27 Mar\", \"28 Mar\", \"29 Mar\", \"30 Mar\", \"31 Mar\", \"01 Apr\", \"02 Apr\"], \"y\": [-76.16011407269127, -63.7034889061196, -49.56032708586204, -33.5022837876833, -15.270097955174236, 5.430593533735021, 28.93400843174058, 55.61961514993902, 85.91825936860471, 120.31912014660762, 159.37760783756798, 203.72433132654524, 254.0752793655029, 311.2433803877117, 376.15162743713745, 449.8479801180249, 533.522284160315, 628.5254817714416, 736.3914229303556, 858.8616297724845, 997.9134138927059, 1155.7918005271067, 1335.0457750372875, 1538.5694369056134, 1769.648725682778, 2032.0144732895944, 2329.9026392154656, \"\", \"\", \"\", \"\", \"\", \"\", \"\", \"\", \"\", \"\", \"\", \"\", \"\", \"\", \"\", \"\"]}, {\"line\": {\"color\": \"rgba(55, 128, 191, 1.0)\", \"dash\": \"solid\", \"shape\": \"linear\", \"width\": 1.3}, \"marker\": {\"size\": 4, \"symbol\": \"circle\"}, \"mode\": \"lines+markers\", \"name\": \"sigm\", \"text\": \"\", \"type\": \"scatter\", \"x\": [\"20 Feb\", \"21 Feb\", \"22 Feb\", \"23 Feb\", \"24 Feb\", \"25 Feb\", \"26 Feb\", \"27 Feb\", \"28 Feb\", \"29 Feb\", \"01 Mar\", \"02 Mar\", \"03 Mar\", \"04 Mar\", \"05 Mar\", \"06 Mar\", \"07 Mar\", \"08 Mar\", \"09 Mar\", \"10 Mar\", \"11 Mar\", \"12 Mar\", \"13 Mar\", \"14 Mar\", \"15 Mar\", \"16 Mar\", \"17 Mar\", \"18 Mar\", \"19 Mar\", \"20 Mar\", \"21 Mar\", \"22 Mar\", \"23 Mar\", \"24 Mar\", \"25 Mar\", \"26 Mar\", \"27 Mar\", \"28 Mar\", \"29 Mar\", \"30 Mar\", \"31 Mar\", \"01 Apr\", \"02 Apr\"], \"y\": [-27.016417079798842, -20.71320700593357, -13.047555292896512, -3.733427793430309, 7.571201915754443, 21.27336991982549, 37.854642248024554, 57.88064046783692, 82.00975635562168, 110.99980954407246, 145.7108537714499, 187.10168805543157, 236.2169419958108, 294.16101639888524, 362.054911026381, 440.97241765363606, 531.8537472779778, 635.3978292977438, 751.9394689474957, 881.3239235194826, 1022.7980277544333, 1174.9415662452486, 1335.6624224051538, 1502.2719627931701, 1671.643020224143, 1840.434659801461, 2005.3512282510978, 2163.394049590189, 2312.066120300937, 2449.5024808824433, 2574.516859837481, 2686.5724850426936, 2785.696801795218, 2872.364382779553, 2947.3705494310693, 3011.712669020777, 3066.4893874275394, 3112.822085246682, 3151.7985048628943, 3184.43591110827, 3211.6600046475965, 3234.2956477320986, 3253.065862331854]}, {\"line\": {\"color\": \"rgba(50, 171, 96, 1.0)\", \"dash\": \"solid\", \"shape\": \"linear\", \"width\": 1.3}, \"marker\": {\"size\": 4, \"symbol\": \"circle\"}, \"mode\": \"lines+markers\", \"name\": \"log\", \"text\": \"\", \"type\": \"scatter\", \"x\": [\"20 Feb\", \"21 Feb\", \"22 Feb\", \"23 Feb\", \"24 Feb\", \"25 Feb\", \"26 Feb\", \"27 Feb\", \"28 Feb\", \"29 Feb\", \"01 Mar\", \"02 Mar\", \"03 Mar\", \"04 Mar\", \"05 Mar\", \"06 Mar\", \"07 Mar\", \"08 Mar\", \"09 Mar\", \"10 Mar\", \"11 Mar\", \"12 Mar\", \"13 Mar\", \"14 Mar\", \"15 Mar\", \"16 Mar\", \"17 Mar\", \"18 Mar\", \"19 Mar\", \"20 Mar\", \"21 Mar\", \"22 Mar\", \"23 Mar\", \"24 Mar\", \"25 Mar\", \"26 Mar\", \"27 Mar\", \"28 Mar\", \"29 Mar\", \"30 Mar\", \"31 Mar\", \"01 Apr\", \"02 Apr\"], \"y\": [-32.55622693558261, -25.544427053639723, -17.11980392807444, -7.004705329529095, 5.129933619040813, 19.672686909480944, 37.080347336816814, 57.88694916953209, 82.71258404679043, 112.27117838681474, 147.37597139786686, 188.94086308784946, 237.9750775247421, 295.567717407102, 362.85782729378195, 440.9846698431203, 531.0123107772531, 633.8227328649524, 749.9731862127536, 879.5171355419702, 1021.7948202988567, 1175.209631760587, 1337.019886161671, 1503.190162035599, 1668.357943032526, 1825.973438002519, 1968.6560067904768, 2088.775078999819, 2179.209293912279, 2234.177404553408, 2249.989521072907, 2225.559603031993, 2162.5609689038365, 2065.187567197666, 1939.5779464768052, 1793.0329603678094, 1633.188626475382, 1467.2883601858102, 1301.6485535334793, 1141.3510066659367, 990.1448703548684, 850.5098565482494, 723.8221359356382]}, {\"line\": {\"color\": \"rgba(128, 0, 128, 1.0)\", \"dash\": \"solid\", \"shape\": \"linear\", \"width\": 1.3}, \"marker\": {\"size\": 8, \"symbol\": \"circle\"}, \"mode\": \"markers\", \"name\": \"intensive care\", \"text\": \"\", \"type\": \"scatter\", \"x\": [\"20 Feb\", \"21 Feb\", \"22 Feb\", \"23 Feb\", \"24 Feb\", \"25 Feb\", \"26 Feb\", \"27 Feb\", \"28 Feb\", \"29 Feb\", \"01 Mar\", \"02 Mar\", \"03 Mar\", \"04 Mar\", \"05 Mar\", \"06 Mar\", \"07 Mar\", \"08 Mar\", \"09 Mar\", \"10 Mar\", \"11 Mar\", \"12 Mar\", \"13 Mar\", \"14 Mar\", \"15 Mar\", \"16 Mar\", \"17 Mar\", \"18 Mar\", \"19 Mar\", \"20 Mar\", \"21 Mar\", \"22 Mar\", \"23 Mar\", \"24 Mar\", \"25 Mar\", \"26 Mar\", \"27 Mar\", \"28 Mar\", \"29 Mar\", \"30 Mar\", \"31 Mar\", \"01 Apr\", \"02 Apr\"], \"y\": [\"\", \"\", \"\", \"\", 27.0, 35.0, 36.0, 56.0, 64.0, 105.0, 140.0, 166.0, 229.0, 295.0, 351.0, 462.0, 567.0, 650.0, 733.0, 877.0, 1028.0, 1153.0, 1328.0, 1518.0, \"\", \"\", \"\", \"\", \"\", \"\", \"\", \"\", \"\", \"\", \"\", \"\", \"\", \"\", \"\", \"\", \"\", \"\", \"\"]}, {\"marker\": {\"color\": \"rgba(255, 0, 0, 125)\", \"size\": 8}, \"mode\": \"markers\", \"name\": \"flex\", \"type\": \"scatter\", \"x\": [\"15 Mar\"], \"y\": [1642.425869938087]}, {\"marker\": {\"size\": 8}, \"mode\": \"markers\", \"name\": \"peak\", \"type\": \"scatter\", \"x\": [\"21 Mar\"], \"y\": [2250.224220987694]}],\n                        {\"legend\": {\"bgcolor\": \"#FFFFFF\", \"font\": {\"color\": \"#4D5663\"}}, \"paper_bgcolor\": \"#FFFFFF\", \"plot_bgcolor\": \"#FFFFFF\", \"template\": {\"data\": {\"bar\": [{\"error_x\": {\"color\": \"#2a3f5f\"}, \"error_y\": {\"color\": \"#2a3f5f\"}, \"marker\": {\"line\": {\"color\": \"#E5ECF6\", \"width\": 0.5}}, \"type\": \"bar\"}], \"barpolar\": [{\"marker\": {\"line\": {\"color\": \"#E5ECF6\", \"width\": 0.5}}, \"type\": \"barpolar\"}], \"carpet\": [{\"aaxis\": {\"endlinecolor\": \"#2a3f5f\", \"gridcolor\": \"white\", \"linecolor\": \"white\", \"minorgridcolor\": \"white\", \"startlinecolor\": \"#2a3f5f\"}, \"baxis\": {\"endlinecolor\": \"#2a3f5f\", \"gridcolor\": \"white\", \"linecolor\": \"white\", \"minorgridcolor\": \"white\", \"startlinecolor\": \"#2a3f5f\"}, \"type\": \"carpet\"}], \"choropleth\": [{\"colorbar\": {\"outlinewidth\": 0, \"ticks\": \"\"}, \"type\": \"choropleth\"}], \"contour\": [{\"colorbar\": {\"outlinewidth\": 0, \"ticks\": \"\"}, \"colorscale\": [[0.0, \"#0d0887\"], [0.1111111111111111, \"#46039f\"], [0.2222222222222222, \"#7201a8\"], [0.3333333333333333, \"#9c179e\"], [0.4444444444444444, \"#bd3786\"], [0.5555555555555556, \"#d8576b\"], [0.6666666666666666, \"#ed7953\"], [0.7777777777777778, \"#fb9f3a\"], [0.8888888888888888, \"#fdca26\"], [1.0, \"#f0f921\"]], \"type\": \"contour\"}], \"contourcarpet\": [{\"colorbar\": {\"outlinewidth\": 0, \"ticks\": \"\"}, \"type\": \"contourcarpet\"}], \"heatmap\": [{\"colorbar\": {\"outlinewidth\": 0, \"ticks\": \"\"}, \"colorscale\": [[0.0, \"#0d0887\"], [0.1111111111111111, \"#46039f\"], [0.2222222222222222, \"#7201a8\"], [0.3333333333333333, \"#9c179e\"], [0.4444444444444444, \"#bd3786\"], [0.5555555555555556, \"#d8576b\"], [0.6666666666666666, \"#ed7953\"], [0.7777777777777778, \"#fb9f3a\"], [0.8888888888888888, \"#fdca26\"], [1.0, \"#f0f921\"]], \"type\": \"heatmap\"}], \"heatmapgl\": [{\"colorbar\": {\"outlinewidth\": 0, \"ticks\": \"\"}, \"colorscale\": [[0.0, \"#0d0887\"], [0.1111111111111111, \"#46039f\"], [0.2222222222222222, \"#7201a8\"], [0.3333333333333333, \"#9c179e\"], [0.4444444444444444, \"#bd3786\"], [0.5555555555555556, \"#d8576b\"], [0.6666666666666666, \"#ed7953\"], [0.7777777777777778, \"#fb9f3a\"], [0.8888888888888888, \"#fdca26\"], [1.0, \"#f0f921\"]], \"type\": \"heatmapgl\"}], \"histogram\": [{\"marker\": {\"colorbar\": {\"outlinewidth\": 0, \"ticks\": \"\"}}, \"type\": \"histogram\"}], \"histogram2d\": [{\"colorbar\": {\"outlinewidth\": 0, \"ticks\": \"\"}, \"colorscale\": [[0.0, \"#0d0887\"], [0.1111111111111111, \"#46039f\"], [0.2222222222222222, \"#7201a8\"], [0.3333333333333333, \"#9c179e\"], [0.4444444444444444, \"#bd3786\"], [0.5555555555555556, \"#d8576b\"], [0.6666666666666666, \"#ed7953\"], [0.7777777777777778, \"#fb9f3a\"], [0.8888888888888888, \"#fdca26\"], [1.0, \"#f0f921\"]], \"type\": \"histogram2d\"}], \"histogram2dcontour\": [{\"colorbar\": {\"outlinewidth\": 0, \"ticks\": \"\"}, \"colorscale\": [[0.0, \"#0d0887\"], [0.1111111111111111, \"#46039f\"], [0.2222222222222222, \"#7201a8\"], [0.3333333333333333, \"#9c179e\"], [0.4444444444444444, \"#bd3786\"], [0.5555555555555556, \"#d8576b\"], [0.6666666666666666, \"#ed7953\"], [0.7777777777777778, \"#fb9f3a\"], [0.8888888888888888, \"#fdca26\"], [1.0, \"#f0f921\"]], \"type\": \"histogram2dcontour\"}], \"mesh3d\": [{\"colorbar\": {\"outlinewidth\": 0, \"ticks\": \"\"}, \"type\": \"mesh3d\"}], \"parcoords\": [{\"line\": {\"colorbar\": {\"outlinewidth\": 0, \"ticks\": \"\"}}, \"type\": \"parcoords\"}], \"pie\": [{\"automargin\": true, \"type\": \"pie\"}], \"scatter\": [{\"marker\": {\"colorbar\": {\"outlinewidth\": 0, \"ticks\": \"\"}}, \"type\": \"scatter\"}], \"scatter3d\": [{\"line\": {\"colorbar\": {\"outlinewidth\": 0, \"ticks\": \"\"}}, \"marker\": {\"colorbar\": {\"outlinewidth\": 0, \"ticks\": \"\"}}, \"type\": \"scatter3d\"}], \"scattercarpet\": [{\"marker\": {\"colorbar\": {\"outlinewidth\": 0, \"ticks\": \"\"}}, \"type\": \"scattercarpet\"}], \"scattergeo\": [{\"marker\": {\"colorbar\": {\"outlinewidth\": 0, \"ticks\": \"\"}}, \"type\": \"scattergeo\"}], \"scattergl\": [{\"marker\": {\"colorbar\": {\"outlinewidth\": 0, \"ticks\": \"\"}}, \"type\": \"scattergl\"}], \"scattermapbox\": [{\"marker\": {\"colorbar\": {\"outlinewidth\": 0, \"ticks\": \"\"}}, \"type\": \"scattermapbox\"}], \"scatterpolar\": [{\"marker\": {\"colorbar\": {\"outlinewidth\": 0, \"ticks\": \"\"}}, \"type\": \"scatterpolar\"}], \"scatterpolargl\": [{\"marker\": {\"colorbar\": {\"outlinewidth\": 0, \"ticks\": \"\"}}, \"type\": \"scatterpolargl\"}], \"scatterternary\": [{\"marker\": {\"colorbar\": {\"outlinewidth\": 0, \"ticks\": \"\"}}, \"type\": \"scatterternary\"}], \"surface\": [{\"colorbar\": {\"outlinewidth\": 0, \"ticks\": \"\"}, \"colorscale\": [[0.0, \"#0d0887\"], [0.1111111111111111, \"#46039f\"], [0.2222222222222222, \"#7201a8\"], [0.3333333333333333, \"#9c179e\"], [0.4444444444444444, \"#bd3786\"], [0.5555555555555556, \"#d8576b\"], [0.6666666666666666, \"#ed7953\"], [0.7777777777777778, \"#fb9f3a\"], [0.8888888888888888, \"#fdca26\"], [1.0, \"#f0f921\"]], \"type\": \"surface\"}], \"table\": [{\"cells\": {\"fill\": {\"color\": \"#EBF0F8\"}, \"line\": {\"color\": \"white\"}}, \"header\": {\"fill\": {\"color\": \"#C8D4E3\"}, \"line\": {\"color\": \"white\"}}, \"type\": \"table\"}]}, \"layout\": {\"annotationdefaults\": {\"arrowcolor\": \"#2a3f5f\", \"arrowhead\": 0, \"arrowwidth\": 1}, \"coloraxis\": {\"colorbar\": {\"outlinewidth\": 0, \"ticks\": \"\"}}, \"colorscale\": {\"diverging\": [[0, \"#8e0152\"], [0.1, \"#c51b7d\"], [0.2, \"#de77ae\"], [0.3, \"#f1b6da\"], [0.4, \"#fde0ef\"], [0.5, \"#f7f7f7\"], [0.6, \"#e6f5d0\"], [0.7, \"#b8e186\"], [0.8, \"#7fbc41\"], [0.9, \"#4d9221\"], [1, \"#276419\"]], \"sequential\": [[0.0, \"#0d0887\"], [0.1111111111111111, \"#46039f\"], [0.2222222222222222, \"#7201a8\"], [0.3333333333333333, \"#9c179e\"], [0.4444444444444444, \"#bd3786\"], [0.5555555555555556, \"#d8576b\"], [0.6666666666666666, \"#ed7953\"], [0.7777777777777778, \"#fb9f3a\"], [0.8888888888888888, \"#fdca26\"], [1.0, \"#f0f921\"]], \"sequentialminus\": [[0.0, \"#0d0887\"], [0.1111111111111111, \"#46039f\"], [0.2222222222222222, \"#7201a8\"], [0.3333333333333333, \"#9c179e\"], [0.4444444444444444, \"#bd3786\"], [0.5555555555555556, \"#d8576b\"], [0.6666666666666666, \"#ed7953\"], [0.7777777777777778, \"#fb9f3a\"], [0.8888888888888888, \"#fdca26\"], [1.0, \"#f0f921\"]]}, \"colorway\": [\"#636efa\", \"#EF553B\", \"#00cc96\", \"#ab63fa\", \"#FFA15A\", \"#19d3f3\", \"#FF6692\", \"#B6E880\", \"#FF97FF\", \"#FECB52\"], \"font\": {\"color\": \"#2a3f5f\"}, \"geo\": {\"bgcolor\": \"white\", \"lakecolor\": \"white\", \"landcolor\": \"#E5ECF6\", \"showlakes\": true, \"showland\": true, \"subunitcolor\": \"white\"}, \"hoverlabel\": {\"align\": \"left\"}, \"hovermode\": \"closest\", \"mapbox\": {\"style\": \"light\"}, \"paper_bgcolor\": \"white\", \"plot_bgcolor\": \"#E5ECF6\", \"polar\": {\"angularaxis\": {\"gridcolor\": \"white\", \"linecolor\": \"white\", \"ticks\": \"\"}, \"bgcolor\": \"#E5ECF6\", \"radialaxis\": {\"gridcolor\": \"white\", \"linecolor\": \"white\", \"ticks\": \"\"}}, \"scene\": {\"xaxis\": {\"backgroundcolor\": \"#E5ECF6\", \"gridcolor\": \"white\", \"gridwidth\": 2, \"linecolor\": \"white\", \"showbackground\": true, \"ticks\": \"\", \"zerolinecolor\": \"white\"}, \"yaxis\": {\"backgroundcolor\": \"#E5ECF6\", \"gridcolor\": \"white\", \"gridwidth\": 2, \"linecolor\": \"white\", \"showbackground\": true, \"ticks\": \"\", \"zerolinecolor\": \"white\"}, \"zaxis\": {\"backgroundcolor\": \"#E5ECF6\", \"gridcolor\": \"white\", \"gridwidth\": 2, \"linecolor\": \"white\", \"showbackground\": true, \"ticks\": \"\", \"zerolinecolor\": \"white\"}}, \"shapedefaults\": {\"line\": {\"color\": \"#2a3f5f\"}}, \"ternary\": {\"aaxis\": {\"gridcolor\": \"white\", \"linecolor\": \"white\", \"ticks\": \"\"}, \"baxis\": {\"gridcolor\": \"white\", \"linecolor\": \"white\", \"ticks\": \"\"}, \"bgcolor\": \"#E5ECF6\", \"caxis\": {\"gridcolor\": \"white\", \"linecolor\": \"white\", \"ticks\": \"\"}}, \"title\": {\"x\": 0.05}, \"xaxis\": {\"automargin\": true, \"gridcolor\": \"white\", \"linecolor\": \"white\", \"ticks\": \"\", \"title\": {\"standoff\": 15}, \"zerolinecolor\": \"white\", \"zerolinewidth\": 2}, \"yaxis\": {\"automargin\": true, \"gridcolor\": \"white\", \"linecolor\": \"white\", \"ticks\": \"\", \"title\": {\"standoff\": 15}, \"zerolinecolor\": \"white\", \"zerolinewidth\": 2}}}, \"title\": {\"font\": {\"color\": \"#4D5663\"}, \"text\": \"Intensive care cases\"}, \"updatemenus\": [{\"buttons\": [{\"args\": [{\"yaxis.type\": \"linear\"}], \"label\": \"Linear\", \"method\": \"relayout\"}, {\"args\": [{\"yaxis.type\": \"log\"}], \"label\": \"Log\", \"method\": \"relayout\"}], \"direction\": \"down\", \"pad\": {\"r\": 10, \"t\": 10}, \"showactive\": true, \"x\": 0.1, \"xanchor\": \"left\", \"y\": 1.1, \"yanchor\": \"top\"}], \"xaxis\": {\"gridcolor\": \"#E1E5ED\", \"showgrid\": true, \"tickfont\": {\"color\": \"#4D5663\"}, \"title\": {\"font\": {\"color\": \"#4D5663\"}, \"text\": \"\"}, \"zerolinecolor\": \"#E1E5ED\"}, \"yaxis\": {\"gridcolor\": \"#E1E5ED\", \"showgrid\": true, \"tickfont\": {\"color\": \"#4D5663\"}, \"title\": {\"font\": {\"color\": \"#4D5663\"}, \"text\": \"cases\"}, \"zerolinecolor\": \"#E1E5ED\"}},\n                        {\"responsive\": true}\n                    ).then(function(){\n                            \nvar gd = document.getElementById('60dbabd0-5ef7-422a-991a-aa1a242e994a');\nvar x = new MutationObserver(function (mutations, observer) {{\n        var display = window.getComputedStyle(gd).display;\n        if (!display || display === 'none') {{\n            console.log([gd, 'removed!']);\n            Plotly.purge(gd);\n            observer.disconnect();\n        }}\n}});\n\n// Listen for the removal of the full notebook cells\nvar notebookContainer = gd.closest('#notebook-container');\nif (notebookContainer) {{\n    x.observe(notebookContainer, {childList: true});\n}}\n\n// Listen for the clearing of the current output cell\nvar outputEl = gd.closest('.output');\nif (outputEl) {{\n    x.observe(outputEl, {childList: true});\n}}\n\n                        })\n                };\n                });\n            </script>\n        </div>"
     },
     "metadata": {},
     "output_type": "display_data"
    }
   ],
   "source": [
    "fig = df_final[['exp', 'sigm', 'log', 'intensive care']].iplot(theme=\"white\", title=\"Intensive care cases\", size=4, yTitle='cases', mode='lines+markers', asFigure=True)\n",
    "fig.data[3].mode='markers'\n",
    "fig.data[3].marker.size = 8\n",
    "fig.add_trace(go.Scatter(x=[dt.day_of_year_to_string(round(flex[0]))], y=[flex[1]], name='flex', mode=\"markers\"))\n",
    "fig.add_trace(go.Scatter(x=[dt.day_of_year_to_string(round(peak[0]))], y=[peak[1]], name='peak', mode=\"markers\"))\n",
    "fig.data[4].marker.size = 8\n",
    "fig.data[4].marker.color = 'rgba(255, 0, 0, 125)'\n",
    "fig.data[5].marker.size = 8\n",
    "# days = df_final.index.to_list()\n",
    "# \n",
    "# fig.update_layout(\n",
    "#     xaxis=dict(\n",
    "#         tickmode='array',\n",
    "#         tickvals=dt.str_to_day_of_year([d +' 2020' for d in days], '%d %b %Y'),\n",
    "#         ticktext=days,\n",
    "#         tickangle=90\n",
    "#     )\n",
    "# )\n",
    "fig = mpl.iplot_add_log_scale_button(fig)\n",
    "fig.show()"
   ],
   "metadata": {
    "collapsed": false,
    "pycharm": {
     "name": "#%%\n",
     "is_executing": false
    }
   }
  },
  {
   "cell_type": "code",
   "execution_count": 6,
   "outputs": [
    {
     "data": {
      "image/svg+xml": "<svg class=\"main-svg\" xmlns=\"http://www.w3.org/2000/svg\" xmlns:xlink=\"http://www.w3.org/1999/xlink\" width=\"700\" height=\"450\" viewBox=\"0 0 700 450\"><rect x=\"0\" y=\"0\" width=\"700\" height=\"450\" style=\"fill: rgb(255, 255, 255); fill-opacity: 1;\"/><defs id=\"defs-8fd781\"><g class=\"clips\"><clipPath id=\"clip8fd781xyplot\" class=\"plotclip\"><rect width=\"469\" height=\"264\"/></clipPath><clipPath class=\"axesclip\" id=\"clip8fd781x\"><rect x=\"80\" y=\"0\" width=\"469\" height=\"450\"/></clipPath><clipPath class=\"axesclip\" id=\"clip8fd781y\"><rect x=\"0\" y=\"100\" width=\"700\" height=\"264\"/></clipPath><clipPath class=\"axesclip\" id=\"clip8fd781xy\"><rect x=\"80\" y=\"100\" width=\"469\" height=\"264\"/></clipPath></g><g class=\"gradients\"/></defs><g class=\"bglayer\"/><g class=\"layer-below\"><g class=\"imagelayer\"/><g class=\"shapelayer\"/></g><g class=\"cartesianlayer\"><g class=\"subplot xy\"><g class=\"layer-subplot\"><g class=\"shapelayer\"/><g class=\"imagelayer\"/></g><g class=\"gridlayer\"><g class=\"x\"><path class=\"xgrid crisp\" transform=\"translate(108.45,0)\" d=\"M0,100v264\" style=\"stroke: rgb(225, 229, 237); stroke-opacity: 1; stroke-width: 1px;\"/><path class=\"xgrid crisp\" transform=\"translate(128.07,0)\" d=\"M0,100v264\" style=\"stroke: rgb(225, 229, 237); stroke-opacity: 1; stroke-width: 1px;\"/><path class=\"xgrid crisp\" transform=\"translate(147.7,0)\" d=\"M0,100v264\" style=\"stroke: rgb(225, 229, 237); stroke-opacity: 1; stroke-width: 1px;\"/><path class=\"xgrid crisp\" transform=\"translate(167.32,0)\" d=\"M0,100v264\" style=\"stroke: rgb(225, 229, 237); stroke-opacity: 1; stroke-width: 1px;\"/><path class=\"xgrid crisp\" transform=\"translate(186.95,0)\" d=\"M0,100v264\" style=\"stroke: rgb(225, 229, 237); stroke-opacity: 1; stroke-width: 1px;\"/><path class=\"xgrid crisp\" transform=\"translate(206.57,0)\" d=\"M0,100v264\" style=\"stroke: rgb(225, 229, 237); stroke-opacity: 1; stroke-width: 1px;\"/><path class=\"xgrid crisp\" transform=\"translate(226.19,0)\" d=\"M0,100v264\" style=\"stroke: rgb(225, 229, 237); stroke-opacity: 1; stroke-width: 1px;\"/><path class=\"xgrid crisp\" transform=\"translate(245.82,0)\" d=\"M0,100v264\" style=\"stroke: rgb(225, 229, 237); stroke-opacity: 1; stroke-width: 1px;\"/><path class=\"xgrid crisp\" transform=\"translate(265.44,0)\" d=\"M0,100v264\" style=\"stroke: rgb(225, 229, 237); stroke-opacity: 1; stroke-width: 1px;\"/><path class=\"xgrid crisp\" transform=\"translate(285.06,0)\" d=\"M0,100v264\" style=\"stroke: rgb(225, 229, 237); stroke-opacity: 1; stroke-width: 1px;\"/><path class=\"xgrid crisp\" transform=\"translate(304.69,0)\" d=\"M0,100v264\" style=\"stroke: rgb(225, 229, 237); stroke-opacity: 1; stroke-width: 1px;\"/><path class=\"xgrid crisp\" transform=\"translate(324.31,0)\" d=\"M0,100v264\" style=\"stroke: rgb(225, 229, 237); stroke-opacity: 1; stroke-width: 1px;\"/><path class=\"xgrid crisp\" transform=\"translate(343.94,0)\" d=\"M0,100v264\" style=\"stroke: rgb(225, 229, 237); stroke-opacity: 1; stroke-width: 1px;\"/><path class=\"xgrid crisp\" transform=\"translate(363.56,0)\" d=\"M0,100v264\" style=\"stroke: rgb(225, 229, 237); stroke-opacity: 1; stroke-width: 1px;\"/><path class=\"xgrid crisp\" transform=\"translate(383.18,0)\" d=\"M0,100v264\" style=\"stroke: rgb(225, 229, 237); stroke-opacity: 1; stroke-width: 1px;\"/><path class=\"xgrid crisp\" transform=\"translate(402.81,0)\" d=\"M0,100v264\" style=\"stroke: rgb(225, 229, 237); stroke-opacity: 1; stroke-width: 1px;\"/><path class=\"xgrid crisp\" transform=\"translate(422.43,0)\" d=\"M0,100v264\" style=\"stroke: rgb(225, 229, 237); stroke-opacity: 1; stroke-width: 1px;\"/><path class=\"xgrid crisp\" transform=\"translate(442.05,0)\" d=\"M0,100v264\" style=\"stroke: rgb(225, 229, 237); stroke-opacity: 1; stroke-width: 1px;\"/><path class=\"xgrid crisp\" transform=\"translate(461.68,0)\" d=\"M0,100v264\" style=\"stroke: rgb(225, 229, 237); stroke-opacity: 1; stroke-width: 1px;\"/><path class=\"xgrid crisp\" transform=\"translate(481.3,0)\" d=\"M0,100v264\" style=\"stroke: rgb(225, 229, 237); stroke-opacity: 1; stroke-width: 1px;\"/><path class=\"xgrid crisp\" transform=\"translate(500.93,0)\" d=\"M0,100v264\" style=\"stroke: rgb(225, 229, 237); stroke-opacity: 1; stroke-width: 1px;\"/><path class=\"xgrid crisp\" transform=\"translate(520.55,0)\" d=\"M0,100v264\" style=\"stroke: rgb(225, 229, 237); stroke-opacity: 1; stroke-width: 1px;\"/></g><g class=\"y\"><path class=\"ygrid crisp\" transform=\"translate(0,307.72)\" d=\"M80,0h469\" style=\"stroke: rgb(225, 229, 237); stroke-opacity: 1; stroke-width: 1px;\"/><path class=\"ygrid crisp\" transform=\"translate(0,272.94)\" d=\"M80,0h469\" style=\"stroke: rgb(225, 229, 237); stroke-opacity: 1; stroke-width: 1px;\"/><path class=\"ygrid crisp\" transform=\"translate(0,238.15)\" d=\"M80,0h469\" style=\"stroke: rgb(225, 229, 237); stroke-opacity: 1; stroke-width: 1px;\"/><path class=\"ygrid crisp\" transform=\"translate(0,203.37)\" d=\"M80,0h469\" style=\"stroke: rgb(225, 229, 237); stroke-opacity: 1; stroke-width: 1px;\"/><path class=\"ygrid crisp\" transform=\"translate(0,168.59)\" d=\"M80,0h469\" style=\"stroke: rgb(225, 229, 237); stroke-opacity: 1; stroke-width: 1px;\"/><path class=\"ygrid crisp\" transform=\"translate(0,133.8)\" d=\"M80,0h469\" style=\"stroke: rgb(225, 229, 237); stroke-opacity: 1; stroke-width: 1px;\"/></g></g><g class=\"zerolinelayer\"><path class=\"yzl zl crisp\" transform=\"translate(0,342.5)\" d=\"M80,0h469\" style=\"stroke: rgb(225, 229, 237); stroke-opacity: 1; stroke-width: 2px;\"/></g><path class=\"xlines-below\"/><path class=\"ylines-below\"/><g class=\"overlines-below\"/><g class=\"xaxislayer-below\"/><g class=\"yaxislayer-below\"/><g class=\"overaxes-below\"/><g class=\"plot\" transform=\"translate(80, 100)\" clip-path=\"url('#clip8fd781xyplot')\"><g class=\"scatterlayer mlayer\"><g class=\"trace scatter trace3abed8\" style=\"stroke-miterlimit: 2; opacity: 1;\"><g class=\"fills\"/><g class=\"errorbars\"/><g class=\"lines\"><path class=\"js-line\" d=\"M28.45,247.8L57.89,244.83L67.7,243.56L97.13,238.63L106.95,236.52L126.57,231.41L136.38,228.33L156,220.85L165.82,216.33L185.44,205.39L195.25,198.78L205.06,191.27L214.88,182.75L224.69,173.08L234.5,162.1L244.31,149.63L254.12,135.47L263.94,119.39L273.75,101.14L283.56,80.42\" style=\"vector-effect: non-scaling-stroke; fill: none; stroke: rgb(255, 153, 51); stroke-opacity: 1; stroke-width: 1.3px; opacity: 1;\"/></g><g class=\"points\"><path class=\"point\" transform=\"translate(28.45,247.8)\" d=\"M2,0A2,2 0 1,1 0,-2A2,2 0 0,1 2,0Z\" style=\"opacity: 1; stroke-width: 0px; fill: rgb(255, 153, 51); fill-opacity: 1;\"/><path class=\"point\" transform=\"translate(38.26,246.93)\" d=\"M2,0A2,2 0 1,1 0,-2A2,2 0 0,1 2,0Z\" style=\"opacity: 1; stroke-width: 0px; fill: rgb(255, 153, 51); fill-opacity: 1;\"/><path class=\"point\" transform=\"translate(48.07,245.95)\" d=\"M2,0A2,2 0 1,1 0,-2A2,2 0 0,1 2,0Z\" style=\"opacity: 1; stroke-width: 0px; fill: rgb(255, 153, 51); fill-opacity: 1;\"/><path class=\"point\" transform=\"translate(57.89,244.83)\" d=\"M2,0A2,2 0 1,1 0,-2A2,2 0 0,1 2,0Z\" style=\"opacity: 1; stroke-width: 0px; fill: rgb(255, 153, 51); fill-opacity: 1;\"/><path class=\"point\" transform=\"translate(67.7,243.56)\" d=\"M2,0A2,2 0 1,1 0,-2A2,2 0 0,1 2,0Z\" style=\"opacity: 1; stroke-width: 0px; fill: rgb(255, 153, 51); fill-opacity: 1;\"/><path class=\"point\" transform=\"translate(77.51,242.12)\" d=\"M2,0A2,2 0 1,1 0,-2A2,2 0 0,1 2,0Z\" style=\"opacity: 1; stroke-width: 0px; fill: rgb(255, 153, 51); fill-opacity: 1;\"/><path class=\"point\" transform=\"translate(87.32,240.49)\" d=\"M2,0A2,2 0 1,1 0,-2A2,2 0 0,1 2,0Z\" style=\"opacity: 1; stroke-width: 0px; fill: rgb(255, 153, 51); fill-opacity: 1;\"/><path class=\"point\" transform=\"translate(97.13,238.63)\" d=\"M2,0A2,2 0 1,1 0,-2A2,2 0 0,1 2,0Z\" style=\"opacity: 1; stroke-width: 0px; fill: rgb(255, 153, 51); fill-opacity: 1;\"/><path class=\"point\" transform=\"translate(106.95,236.52)\" d=\"M2,0A2,2 0 1,1 0,-2A2,2 0 0,1 2,0Z\" style=\"opacity: 1; stroke-width: 0px; fill: rgb(255, 153, 51); fill-opacity: 1;\"/><path class=\"point\" transform=\"translate(116.76,234.13)\" d=\"M2,0A2,2 0 1,1 0,-2A2,2 0 0,1 2,0Z\" style=\"opacity: 1; stroke-width: 0px; fill: rgb(255, 153, 51); fill-opacity: 1;\"/><path class=\"point\" transform=\"translate(126.57,231.41)\" d=\"M2,0A2,2 0 1,1 0,-2A2,2 0 0,1 2,0Z\" style=\"opacity: 1; stroke-width: 0px; fill: rgb(255, 153, 51); fill-opacity: 1;\"/><path class=\"point\" transform=\"translate(136.38,228.33)\" d=\"M2,0A2,2 0 1,1 0,-2A2,2 0 0,1 2,0Z\" style=\"opacity: 1; stroke-width: 0px; fill: rgb(255, 153, 51); fill-opacity: 1;\"/><path class=\"point\" transform=\"translate(146.19,224.83)\" d=\"M2,0A2,2 0 1,1 0,-2A2,2 0 0,1 2,0Z\" style=\"opacity: 1; stroke-width: 0px; fill: rgb(255, 153, 51); fill-opacity: 1;\"/><path class=\"point\" transform=\"translate(156,220.85)\" d=\"M2,0A2,2 0 1,1 0,-2A2,2 0 0,1 2,0Z\" style=\"opacity: 1; stroke-width: 0px; fill: rgb(255, 153, 51); fill-opacity: 1;\"/><path class=\"point\" transform=\"translate(165.82,216.33)\" d=\"M2,0A2,2 0 1,1 0,-2A2,2 0 0,1 2,0Z\" style=\"opacity: 1; stroke-width: 0px; fill: rgb(255, 153, 51); fill-opacity: 1;\"/><path class=\"point\" transform=\"translate(175.63,211.21)\" d=\"M2,0A2,2 0 1,1 0,-2A2,2 0 0,1 2,0Z\" style=\"opacity: 1; stroke-width: 0px; fill: rgb(255, 153, 51); fill-opacity: 1;\"/><path class=\"point\" transform=\"translate(185.44,205.39)\" d=\"M2,0A2,2 0 1,1 0,-2A2,2 0 0,1 2,0Z\" style=\"opacity: 1; stroke-width: 0px; fill: rgb(255, 153, 51); fill-opacity: 1;\"/><path class=\"point\" transform=\"translate(195.25,198.78)\" d=\"M2,0A2,2 0 1,1 0,-2A2,2 0 0,1 2,0Z\" style=\"opacity: 1; stroke-width: 0px; fill: rgb(255, 153, 51); fill-opacity: 1;\"/><path class=\"point\" transform=\"translate(205.06,191.27)\" d=\"M2,0A2,2 0 1,1 0,-2A2,2 0 0,1 2,0Z\" style=\"opacity: 1; stroke-width: 0px; fill: rgb(255, 153, 51); fill-opacity: 1;\"/><path class=\"point\" transform=\"translate(214.88,182.75)\" d=\"M2,0A2,2 0 1,1 0,-2A2,2 0 0,1 2,0Z\" style=\"opacity: 1; stroke-width: 0px; fill: rgb(255, 153, 51); fill-opacity: 1;\"/><path class=\"point\" transform=\"translate(224.69,173.08)\" d=\"M2,0A2,2 0 1,1 0,-2A2,2 0 0,1 2,0Z\" style=\"opacity: 1; stroke-width: 0px; fill: rgb(255, 153, 51); fill-opacity: 1;\"/><path class=\"point\" transform=\"translate(234.5,162.1)\" d=\"M2,0A2,2 0 1,1 0,-2A2,2 0 0,1 2,0Z\" style=\"opacity: 1; stroke-width: 0px; fill: rgb(255, 153, 51); fill-opacity: 1;\"/><path class=\"point\" transform=\"translate(244.31,149.63)\" d=\"M2,0A2,2 0 1,1 0,-2A2,2 0 0,1 2,0Z\" style=\"opacity: 1; stroke-width: 0px; fill: rgb(255, 153, 51); fill-opacity: 1;\"/><path class=\"point\" transform=\"translate(254.12,135.47)\" d=\"M2,0A2,2 0 1,1 0,-2A2,2 0 0,1 2,0Z\" style=\"opacity: 1; stroke-width: 0px; fill: rgb(255, 153, 51); fill-opacity: 1;\"/><path class=\"point\" transform=\"translate(263.94,119.39)\" d=\"M2,0A2,2 0 1,1 0,-2A2,2 0 0,1 2,0Z\" style=\"opacity: 1; stroke-width: 0px; fill: rgb(255, 153, 51); fill-opacity: 1;\"/><path class=\"point\" transform=\"translate(273.75,101.14)\" d=\"M2,0A2,2 0 1,1 0,-2A2,2 0 0,1 2,0Z\" style=\"opacity: 1; stroke-width: 0px; fill: rgb(255, 153, 51); fill-opacity: 1;\"/><path class=\"point\" transform=\"translate(283.56,80.42)\" d=\"M2,0A2,2 0 1,1 0,-2A2,2 0 0,1 2,0Z\" style=\"opacity: 1; stroke-width: 0px; fill: rgb(255, 153, 51); fill-opacity: 1;\"/></g><g class=\"text\"/></g><g class=\"trace scatter tracee0198d\" style=\"stroke-miterlimit: 2; opacity: 1;\"><g class=\"fills\"/><g class=\"errorbars\"/><g class=\"lines\"><path class=\"js-line\" d=\"M28.45,244.38L67.7,241.98L77.51,241.02L97.13,238.48L106.95,236.8L126.57,232.37L136.38,229.49L156,222.04L165.82,217.32L185.44,205.5L195.25,198.3L214.88,181.19L224.69,171.35L244.31,149.59L254.12,138L293.37,92L303.18,81.66L322.81,63.4L332.62,55.61L352.24,42.68L362.05,37.47L381.68,29.18L391.49,25.96L411.11,20.97L420.93,19.08L440.55,16.2\" style=\"vector-effect: non-scaling-stroke; fill: none; stroke: rgb(55, 128, 191); stroke-opacity: 1; stroke-width: 1.3px; opacity: 1;\"/></g><g class=\"points\"><path class=\"point\" transform=\"translate(28.45,244.38)\" d=\"M2,0A2,2 0 1,1 0,-2A2,2 0 0,1 2,0Z\" style=\"opacity: 1; stroke-width: 0px; fill: rgb(55, 128, 191); fill-opacity: 1;\"/><path class=\"point\" transform=\"translate(38.26,243.94)\" d=\"M2,0A2,2 0 1,1 0,-2A2,2 0 0,1 2,0Z\" style=\"opacity: 1; stroke-width: 0px; fill: rgb(55, 128, 191); fill-opacity: 1;\"/><path class=\"point\" transform=\"translate(48.07,243.41)\" d=\"M2,0A2,2 0 1,1 0,-2A2,2 0 0,1 2,0Z\" style=\"opacity: 1; stroke-width: 0px; fill: rgb(55, 128, 191); fill-opacity: 1;\"/><path class=\"point\" transform=\"translate(57.89,242.76)\" d=\"M2,0A2,2 0 1,1 0,-2A2,2 0 0,1 2,0Z\" style=\"opacity: 1; stroke-width: 0px; fill: rgb(55, 128, 191); fill-opacity: 1;\"/><path class=\"point\" transform=\"translate(67.7,241.98)\" d=\"M2,0A2,2 0 1,1 0,-2A2,2 0 0,1 2,0Z\" style=\"opacity: 1; stroke-width: 0px; fill: rgb(55, 128, 191); fill-opacity: 1;\"/><path class=\"point\" transform=\"translate(77.51,241.02)\" d=\"M2,0A2,2 0 1,1 0,-2A2,2 0 0,1 2,0Z\" style=\"opacity: 1; stroke-width: 0px; fill: rgb(55, 128, 191); fill-opacity: 1;\"/><path class=\"point\" transform=\"translate(87.32,239.87)\" d=\"M2,0A2,2 0 1,1 0,-2A2,2 0 0,1 2,0Z\" style=\"opacity: 1; stroke-width: 0px; fill: rgb(55, 128, 191); fill-opacity: 1;\"/><path class=\"point\" transform=\"translate(97.13,238.48)\" d=\"M2,0A2,2 0 1,1 0,-2A2,2 0 0,1 2,0Z\" style=\"opacity: 1; stroke-width: 0px; fill: rgb(55, 128, 191); fill-opacity: 1;\"/><path class=\"point\" transform=\"translate(106.95,236.8)\" d=\"M2,0A2,2 0 1,1 0,-2A2,2 0 0,1 2,0Z\" style=\"opacity: 1; stroke-width: 0px; fill: rgb(55, 128, 191); fill-opacity: 1;\"/><path class=\"point\" transform=\"translate(116.76,234.78)\" d=\"M2,0A2,2 0 1,1 0,-2A2,2 0 0,1 2,0Z\" style=\"opacity: 1; stroke-width: 0px; fill: rgb(55, 128, 191); fill-opacity: 1;\"/><path class=\"point\" transform=\"translate(126.57,232.37)\" d=\"M2,0A2,2 0 1,1 0,-2A2,2 0 0,1 2,0Z\" style=\"opacity: 1; stroke-width: 0px; fill: rgb(55, 128, 191); fill-opacity: 1;\"/><path class=\"point\" transform=\"translate(136.38,229.49)\" d=\"M2,0A2,2 0 1,1 0,-2A2,2 0 0,1 2,0Z\" style=\"opacity: 1; stroke-width: 0px; fill: rgb(55, 128, 191); fill-opacity: 1;\"/><path class=\"point\" transform=\"translate(146.19,226.07)\" d=\"M2,0A2,2 0 1,1 0,-2A2,2 0 0,1 2,0Z\" style=\"opacity: 1; stroke-width: 0px; fill: rgb(55, 128, 191); fill-opacity: 1;\"/><path class=\"point\" transform=\"translate(156,222.04)\" d=\"M2,0A2,2 0 1,1 0,-2A2,2 0 0,1 2,0Z\" style=\"opacity: 1; stroke-width: 0px; fill: rgb(55, 128, 191); fill-opacity: 1;\"/><path class=\"point\" transform=\"translate(165.82,217.32)\" d=\"M2,0A2,2 0 1,1 0,-2A2,2 0 0,1 2,0Z\" style=\"opacity: 1; stroke-width: 0px; fill: rgb(55, 128, 191); fill-opacity: 1;\"/><path class=\"point\" transform=\"translate(175.63,211.83)\" d=\"M2,0A2,2 0 1,1 0,-2A2,2 0 0,1 2,0Z\" style=\"opacity: 1; stroke-width: 0px; fill: rgb(55, 128, 191); fill-opacity: 1;\"/><path class=\"point\" transform=\"translate(185.44,205.5)\" d=\"M2,0A2,2 0 1,1 0,-2A2,2 0 0,1 2,0Z\" style=\"opacity: 1; stroke-width: 0px; fill: rgb(55, 128, 191); fill-opacity: 1;\"/><path class=\"point\" transform=\"translate(195.25,198.3)\" d=\"M2,0A2,2 0 1,1 0,-2A2,2 0 0,1 2,0Z\" style=\"opacity: 1; stroke-width: 0px; fill: rgb(55, 128, 191); fill-opacity: 1;\"/><path class=\"point\" transform=\"translate(205.06,190.19)\" d=\"M2,0A2,2 0 1,1 0,-2A2,2 0 0,1 2,0Z\" style=\"opacity: 1; stroke-width: 0px; fill: rgb(55, 128, 191); fill-opacity: 1;\"/><path class=\"point\" transform=\"translate(214.88,181.19)\" d=\"M2,0A2,2 0 1,1 0,-2A2,2 0 0,1 2,0Z\" style=\"opacity: 1; stroke-width: 0px; fill: rgb(55, 128, 191); fill-opacity: 1;\"/><path class=\"point\" transform=\"translate(224.69,171.35)\" d=\"M2,0A2,2 0 1,1 0,-2A2,2 0 0,1 2,0Z\" style=\"opacity: 1; stroke-width: 0px; fill: rgb(55, 128, 191); fill-opacity: 1;\"/><path class=\"point\" transform=\"translate(234.5,160.77)\" d=\"M2,0A2,2 0 1,1 0,-2A2,2 0 0,1 2,0Z\" style=\"opacity: 1; stroke-width: 0px; fill: rgb(55, 128, 191); fill-opacity: 1;\"/><path class=\"point\" transform=\"translate(244.31,149.59)\" d=\"M2,0A2,2 0 1,1 0,-2A2,2 0 0,1 2,0Z\" style=\"opacity: 1; stroke-width: 0px; fill: rgb(55, 128, 191); fill-opacity: 1;\"/><path class=\"point\" transform=\"translate(254.12,138)\" d=\"M2,0A2,2 0 1,1 0,-2A2,2 0 0,1 2,0Z\" style=\"opacity: 1; stroke-width: 0px; fill: rgb(55, 128, 191); fill-opacity: 1;\"/><path class=\"point\" transform=\"translate(263.94,126.21)\" d=\"M2,0A2,2 0 1,1 0,-2A2,2 0 0,1 2,0Z\" style=\"opacity: 1; stroke-width: 0px; fill: rgb(55, 128, 191); fill-opacity: 1;\"/><path class=\"point\" transform=\"translate(273.75,114.47)\" d=\"M2,0A2,2 0 1,1 0,-2A2,2 0 0,1 2,0Z\" style=\"opacity: 1; stroke-width: 0px; fill: rgb(55, 128, 191); fill-opacity: 1;\"/><path class=\"point\" transform=\"translate(283.56,103)\" d=\"M2,0A2,2 0 1,1 0,-2A2,2 0 0,1 2,0Z\" style=\"opacity: 1; stroke-width: 0px; fill: rgb(55, 128, 191); fill-opacity: 1;\"/><path class=\"point\" transform=\"translate(293.37,92)\" d=\"M2,0A2,2 0 1,1 0,-2A2,2 0 0,1 2,0Z\" style=\"opacity: 1; stroke-width: 0px; fill: rgb(55, 128, 191); fill-opacity: 1;\"/><path class=\"point\" transform=\"translate(303.18,81.66)\" d=\"M2,0A2,2 0 1,1 0,-2A2,2 0 0,1 2,0Z\" style=\"opacity: 1; stroke-width: 0px; fill: rgb(55, 128, 191); fill-opacity: 1;\"/><path class=\"point\" transform=\"translate(313,72.1)\" d=\"M2,0A2,2 0 1,1 0,-2A2,2 0 0,1 2,0Z\" style=\"opacity: 1; stroke-width: 0px; fill: rgb(55, 128, 191); fill-opacity: 1;\"/><path class=\"point\" transform=\"translate(322.81,63.4)\" d=\"M2,0A2,2 0 1,1 0,-2A2,2 0 0,1 2,0Z\" style=\"opacity: 1; stroke-width: 0px; fill: rgb(55, 128, 191); fill-opacity: 1;\"/><path class=\"point\" transform=\"translate(332.62,55.61)\" d=\"M2,0A2,2 0 1,1 0,-2A2,2 0 0,1 2,0Z\" style=\"opacity: 1; stroke-width: 0px; fill: rgb(55, 128, 191); fill-opacity: 1;\"/><path class=\"point\" transform=\"translate(342.43,48.71)\" d=\"M2,0A2,2 0 1,1 0,-2A2,2 0 0,1 2,0Z\" style=\"opacity: 1; stroke-width: 0px; fill: rgb(55, 128, 191); fill-opacity: 1;\"/><path class=\"point\" transform=\"translate(352.24,42.68)\" d=\"M2,0A2,2 0 1,1 0,-2A2,2 0 0,1 2,0Z\" style=\"opacity: 1; stroke-width: 0px; fill: rgb(55, 128, 191); fill-opacity: 1;\"/><path class=\"point\" transform=\"translate(362.05,37.47)\" d=\"M2,0A2,2 0 1,1 0,-2A2,2 0 0,1 2,0Z\" style=\"opacity: 1; stroke-width: 0px; fill: rgb(55, 128, 191); fill-opacity: 1;\"/><path class=\"point\" transform=\"translate(371.87,32.99)\" d=\"M2,0A2,2 0 1,1 0,-2A2,2 0 0,1 2,0Z\" style=\"opacity: 1; stroke-width: 0px; fill: rgb(55, 128, 191); fill-opacity: 1;\"/><path class=\"point\" transform=\"translate(381.68,29.18)\" d=\"M2,0A2,2 0 1,1 0,-2A2,2 0 0,1 2,0Z\" style=\"opacity: 1; stroke-width: 0px; fill: rgb(55, 128, 191); fill-opacity: 1;\"/><path class=\"point\" transform=\"translate(391.49,25.96)\" d=\"M2,0A2,2 0 1,1 0,-2A2,2 0 0,1 2,0Z\" style=\"opacity: 1; stroke-width: 0px; fill: rgb(55, 128, 191); fill-opacity: 1;\"/><path class=\"point\" transform=\"translate(401.3,23.24)\" d=\"M2,0A2,2 0 1,1 0,-2A2,2 0 0,1 2,0Z\" style=\"opacity: 1; stroke-width: 0px; fill: rgb(55, 128, 191); fill-opacity: 1;\"/><path class=\"point\" transform=\"translate(411.11,20.97)\" d=\"M2,0A2,2 0 1,1 0,-2A2,2 0 0,1 2,0Z\" style=\"opacity: 1; stroke-width: 0px; fill: rgb(55, 128, 191); fill-opacity: 1;\"/><path class=\"point\" transform=\"translate(420.93,19.08)\" d=\"M2,0A2,2 0 1,1 0,-2A2,2 0 0,1 2,0Z\" style=\"opacity: 1; stroke-width: 0px; fill: rgb(55, 128, 191); fill-opacity: 1;\"/><path class=\"point\" transform=\"translate(430.74,17.51)\" d=\"M2,0A2,2 0 1,1 0,-2A2,2 0 0,1 2,0Z\" style=\"opacity: 1; stroke-width: 0px; fill: rgb(55, 128, 191); fill-opacity: 1;\"/><path class=\"point\" transform=\"translate(440.55,16.2)\" d=\"M2,0A2,2 0 1,1 0,-2A2,2 0 0,1 2,0Z\" style=\"opacity: 1; stroke-width: 0px; fill: rgb(55, 128, 191); fill-opacity: 1;\"/></g><g class=\"text\"/></g><g class=\"trace scatter trace6a126f\" style=\"stroke-miterlimit: 2; opacity: 1;\"><g class=\"fills\"/><g class=\"errorbars\"/><g class=\"lines\"><path class=\"js-line\" d=\"M28.45,244.77L67.7,242.14L77.51,241.13L106.95,236.75L116.76,234.69L136.38,229.36L146.19,225.95L165.82,217.26L175.63,211.82L185.44,205.56L195.25,198.41L214.88,181.32L224.69,171.42L244.31,149.49L254.12,137.93L273.75,115.48L283.56,105.55L293.37,97.19L303.18,90.9L313,87.08L322.81,85.98L332.62,87.68L342.43,92.06L352.24,98.84L362.05,107.57L381.68,128.89L391.49,140.43L411.11,163.1L420.93,173.62L440.55,192.15\" style=\"vector-effect: non-scaling-stroke; fill: none; stroke: rgb(50, 171, 96); stroke-opacity: 1; stroke-width: 1.3px; opacity: 1;\"/></g><g class=\"points\"><path class=\"point\" transform=\"translate(28.45,244.77)\" d=\"M2,0A2,2 0 1,1 0,-2A2,2 0 0,1 2,0Z\" style=\"opacity: 1; stroke-width: 0px; fill: rgb(50, 171, 96); fill-opacity: 1;\"/><path class=\"point\" transform=\"translate(38.26,244.28)\" d=\"M2,0A2,2 0 1,1 0,-2A2,2 0 0,1 2,0Z\" style=\"opacity: 1; stroke-width: 0px; fill: rgb(50, 171, 96); fill-opacity: 1;\"/><path class=\"point\" transform=\"translate(48.07,243.69)\" d=\"M2,0A2,2 0 1,1 0,-2A2,2 0 0,1 2,0Z\" style=\"opacity: 1; stroke-width: 0px; fill: rgb(50, 171, 96); fill-opacity: 1;\"/><path class=\"point\" transform=\"translate(57.89,242.99)\" d=\"M2,0A2,2 0 1,1 0,-2A2,2 0 0,1 2,0Z\" style=\"opacity: 1; stroke-width: 0px; fill: rgb(50, 171, 96); fill-opacity: 1;\"/><path class=\"point\" transform=\"translate(67.7,242.14)\" d=\"M2,0A2,2 0 1,1 0,-2A2,2 0 0,1 2,0Z\" style=\"opacity: 1; stroke-width: 0px; fill: rgb(50, 171, 96); fill-opacity: 1;\"/><path class=\"point\" transform=\"translate(77.51,241.13)\" d=\"M2,0A2,2 0 1,1 0,-2A2,2 0 0,1 2,0Z\" style=\"opacity: 1; stroke-width: 0px; fill: rgb(50, 171, 96); fill-opacity: 1;\"/><path class=\"point\" transform=\"translate(87.32,239.92)\" d=\"M2,0A2,2 0 1,1 0,-2A2,2 0 0,1 2,0Z\" style=\"opacity: 1; stroke-width: 0px; fill: rgb(50, 171, 96); fill-opacity: 1;\"/><path class=\"point\" transform=\"translate(97.13,238.47)\" d=\"M2,0A2,2 0 1,1 0,-2A2,2 0 0,1 2,0Z\" style=\"opacity: 1; stroke-width: 0px; fill: rgb(50, 171, 96); fill-opacity: 1;\"/><path class=\"point\" transform=\"translate(106.95,236.75)\" d=\"M2,0A2,2 0 1,1 0,-2A2,2 0 0,1 2,0Z\" style=\"opacity: 1; stroke-width: 0px; fill: rgb(50, 171, 96); fill-opacity: 1;\"/><path class=\"point\" transform=\"translate(116.76,234.69)\" d=\"M2,0A2,2 0 1,1 0,-2A2,2 0 0,1 2,0Z\" style=\"opacity: 1; stroke-width: 0px; fill: rgb(50, 171, 96); fill-opacity: 1;\"/><path class=\"point\" transform=\"translate(126.57,232.25)\" d=\"M2,0A2,2 0 1,1 0,-2A2,2 0 0,1 2,0Z\" style=\"opacity: 1; stroke-width: 0px; fill: rgb(50, 171, 96); fill-opacity: 1;\"/><path class=\"point\" transform=\"translate(136.38,229.36)\" d=\"M2,0A2,2 0 1,1 0,-2A2,2 0 0,1 2,0Z\" style=\"opacity: 1; stroke-width: 0px; fill: rgb(50, 171, 96); fill-opacity: 1;\"/><path class=\"point\" transform=\"translate(146.19,225.95)\" d=\"M2,0A2,2 0 1,1 0,-2A2,2 0 0,1 2,0Z\" style=\"opacity: 1; stroke-width: 0px; fill: rgb(50, 171, 96); fill-opacity: 1;\"/><path class=\"point\" transform=\"translate(156,221.94)\" d=\"M2,0A2,2 0 1,1 0,-2A2,2 0 0,1 2,0Z\" style=\"opacity: 1; stroke-width: 0px; fill: rgb(50, 171, 96); fill-opacity: 1;\"/><path class=\"point\" transform=\"translate(165.82,217.26)\" d=\"M2,0A2,2 0 1,1 0,-2A2,2 0 0,1 2,0Z\" style=\"opacity: 1; stroke-width: 0px; fill: rgb(50, 171, 96); fill-opacity: 1;\"/><path class=\"point\" transform=\"translate(175.63,211.82)\" d=\"M2,0A2,2 0 1,1 0,-2A2,2 0 0,1 2,0Z\" style=\"opacity: 1; stroke-width: 0px; fill: rgb(50, 171, 96); fill-opacity: 1;\"/><path class=\"point\" transform=\"translate(185.44,205.56)\" d=\"M2,0A2,2 0 1,1 0,-2A2,2 0 0,1 2,0Z\" style=\"opacity: 1; stroke-width: 0px; fill: rgb(50, 171, 96); fill-opacity: 1;\"/><path class=\"point\" transform=\"translate(195.25,198.41)\" d=\"M2,0A2,2 0 1,1 0,-2A2,2 0 0,1 2,0Z\" style=\"opacity: 1; stroke-width: 0px; fill: rgb(50, 171, 96); fill-opacity: 1;\"/><path class=\"point\" transform=\"translate(205.06,190.33)\" d=\"M2,0A2,2 0 1,1 0,-2A2,2 0 0,1 2,0Z\" style=\"opacity: 1; stroke-width: 0px; fill: rgb(50, 171, 96); fill-opacity: 1;\"/><path class=\"point\" transform=\"translate(214.88,181.32)\" d=\"M2,0A2,2 0 1,1 0,-2A2,2 0 0,1 2,0Z\" style=\"opacity: 1; stroke-width: 0px; fill: rgb(50, 171, 96); fill-opacity: 1;\"/><path class=\"point\" transform=\"translate(224.69,171.42)\" d=\"M2,0A2,2 0 1,1 0,-2A2,2 0 0,1 2,0Z\" style=\"opacity: 1; stroke-width: 0px; fill: rgb(50, 171, 96); fill-opacity: 1;\"/><path class=\"point\" transform=\"translate(234.5,160.75)\" d=\"M2,0A2,2 0 1,1 0,-2A2,2 0 0,1 2,0Z\" style=\"opacity: 1; stroke-width: 0px; fill: rgb(50, 171, 96); fill-opacity: 1;\"/><path class=\"point\" transform=\"translate(244.31,149.49)\" d=\"M2,0A2,2 0 1,1 0,-2A2,2 0 0,1 2,0Z\" style=\"opacity: 1; stroke-width: 0px; fill: rgb(50, 171, 96); fill-opacity: 1;\"/><path class=\"point\" transform=\"translate(254.12,137.93)\" d=\"M2,0A2,2 0 1,1 0,-2A2,2 0 0,1 2,0Z\" style=\"opacity: 1; stroke-width: 0px; fill: rgb(50, 171, 96); fill-opacity: 1;\"/><path class=\"point\" transform=\"translate(263.94,126.44)\" d=\"M2,0A2,2 0 1,1 0,-2A2,2 0 0,1 2,0Z\" style=\"opacity: 1; stroke-width: 0px; fill: rgb(50, 171, 96); fill-opacity: 1;\"/><path class=\"point\" transform=\"translate(273.75,115.48)\" d=\"M2,0A2,2 0 1,1 0,-2A2,2 0 0,1 2,0Z\" style=\"opacity: 1; stroke-width: 0px; fill: rgb(50, 171, 96); fill-opacity: 1;\"/><path class=\"point\" transform=\"translate(283.56,105.55)\" d=\"M2,0A2,2 0 1,1 0,-2A2,2 0 0,1 2,0Z\" style=\"opacity: 1; stroke-width: 0px; fill: rgb(50, 171, 96); fill-opacity: 1;\"/><path class=\"point\" transform=\"translate(293.37,97.19)\" d=\"M2,0A2,2 0 1,1 0,-2A2,2 0 0,1 2,0Z\" style=\"opacity: 1; stroke-width: 0px; fill: rgb(50, 171, 96); fill-opacity: 1;\"/><path class=\"point\" transform=\"translate(303.18,90.9)\" d=\"M2,0A2,2 0 1,1 0,-2A2,2 0 0,1 2,0Z\" style=\"opacity: 1; stroke-width: 0px; fill: rgb(50, 171, 96); fill-opacity: 1;\"/><path class=\"point\" transform=\"translate(313,87.08)\" d=\"M2,0A2,2 0 1,1 0,-2A2,2 0 0,1 2,0Z\" style=\"opacity: 1; stroke-width: 0px; fill: rgb(50, 171, 96); fill-opacity: 1;\"/><path class=\"point\" transform=\"translate(322.81,85.98)\" d=\"M2,0A2,2 0 1,1 0,-2A2,2 0 0,1 2,0Z\" style=\"opacity: 1; stroke-width: 0px; fill: rgb(50, 171, 96); fill-opacity: 1;\"/><path class=\"point\" transform=\"translate(332.62,87.68)\" d=\"M2,0A2,2 0 1,1 0,-2A2,2 0 0,1 2,0Z\" style=\"opacity: 1; stroke-width: 0px; fill: rgb(50, 171, 96); fill-opacity: 1;\"/><path class=\"point\" transform=\"translate(342.43,92.06)\" d=\"M2,0A2,2 0 1,1 0,-2A2,2 0 0,1 2,0Z\" style=\"opacity: 1; stroke-width: 0px; fill: rgb(50, 171, 96); fill-opacity: 1;\"/><path class=\"point\" transform=\"translate(352.24,98.84)\" d=\"M2,0A2,2 0 1,1 0,-2A2,2 0 0,1 2,0Z\" style=\"opacity: 1; stroke-width: 0px; fill: rgb(50, 171, 96); fill-opacity: 1;\"/><path class=\"point\" transform=\"translate(362.05,107.57)\" d=\"M2,0A2,2 0 1,1 0,-2A2,2 0 0,1 2,0Z\" style=\"opacity: 1; stroke-width: 0px; fill: rgb(50, 171, 96); fill-opacity: 1;\"/><path class=\"point\" transform=\"translate(371.87,117.77)\" d=\"M2,0A2,2 0 1,1 0,-2A2,2 0 0,1 2,0Z\" style=\"opacity: 1; stroke-width: 0px; fill: rgb(50, 171, 96); fill-opacity: 1;\"/><path class=\"point\" transform=\"translate(381.68,128.89)\" d=\"M2,0A2,2 0 1,1 0,-2A2,2 0 0,1 2,0Z\" style=\"opacity: 1; stroke-width: 0px; fill: rgb(50, 171, 96); fill-opacity: 1;\"/><path class=\"point\" transform=\"translate(391.49,140.43)\" d=\"M2,0A2,2 0 1,1 0,-2A2,2 0 0,1 2,0Z\" style=\"opacity: 1; stroke-width: 0px; fill: rgb(50, 171, 96); fill-opacity: 1;\"/><path class=\"point\" transform=\"translate(401.3,151.95)\" d=\"M2,0A2,2 0 1,1 0,-2A2,2 0 0,1 2,0Z\" style=\"opacity: 1; stroke-width: 0px; fill: rgb(50, 171, 96); fill-opacity: 1;\"/><path class=\"point\" transform=\"translate(411.11,163.1)\" d=\"M2,0A2,2 0 1,1 0,-2A2,2 0 0,1 2,0Z\" style=\"opacity: 1; stroke-width: 0px; fill: rgb(50, 171, 96); fill-opacity: 1;\"/><path class=\"point\" transform=\"translate(420.93,173.62)\" d=\"M2,0A2,2 0 1,1 0,-2A2,2 0 0,1 2,0Z\" style=\"opacity: 1; stroke-width: 0px; fill: rgb(50, 171, 96); fill-opacity: 1;\"/><path class=\"point\" transform=\"translate(430.74,183.34)\" d=\"M2,0A2,2 0 1,1 0,-2A2,2 0 0,1 2,0Z\" style=\"opacity: 1; stroke-width: 0px; fill: rgb(50, 171, 96); fill-opacity: 1;\"/><path class=\"point\" transform=\"translate(440.55,192.15)\" d=\"M2,0A2,2 0 1,1 0,-2A2,2 0 0,1 2,0Z\" style=\"opacity: 1; stroke-width: 0px; fill: rgb(50, 171, 96); fill-opacity: 1;\"/></g><g class=\"text\"/></g><g class=\"trace scatter tracee978ff\" style=\"stroke-miterlimit: 2; opacity: 1;\"><g class=\"fills\"/><g class=\"errorbars\"/><g class=\"lines\"/><g class=\"points\"><path class=\"point\" transform=\"translate(67.7,240.62)\" d=\"M4,0A4,4 0 1,1 0,-4A4,4 0 0,1 4,0Z\" style=\"opacity: 1; stroke-width: 0px; fill: rgb(128, 0, 128); fill-opacity: 1;\"/><path class=\"point\" transform=\"translate(77.51,240.07)\" d=\"M4,0A4,4 0 1,1 0,-4A4,4 0 0,1 4,0Z\" style=\"opacity: 1; stroke-width: 0px; fill: rgb(128, 0, 128); fill-opacity: 1;\"/><path class=\"point\" transform=\"translate(87.32,240)\" d=\"M4,0A4,4 0 1,1 0,-4A4,4 0 0,1 4,0Z\" style=\"opacity: 1; stroke-width: 0px; fill: rgb(128, 0, 128); fill-opacity: 1;\"/><path class=\"point\" transform=\"translate(97.13,238.61)\" d=\"M4,0A4,4 0 1,1 0,-4A4,4 0 0,1 4,0Z\" style=\"opacity: 1; stroke-width: 0px; fill: rgb(128, 0, 128); fill-opacity: 1;\"/><path class=\"point\" transform=\"translate(106.95,238.05)\" d=\"M4,0A4,4 0 1,1 0,-4A4,4 0 0,1 4,0Z\" style=\"opacity: 1; stroke-width: 0px; fill: rgb(128, 0, 128); fill-opacity: 1;\"/><path class=\"point\" transform=\"translate(116.76,235.2)\" d=\"M4,0A4,4 0 1,1 0,-4A4,4 0 0,1 4,0Z\" style=\"opacity: 1; stroke-width: 0px; fill: rgb(128, 0, 128); fill-opacity: 1;\"/><path class=\"point\" transform=\"translate(126.57,232.76)\" d=\"M4,0A4,4 0 1,1 0,-4A4,4 0 0,1 4,0Z\" style=\"opacity: 1; stroke-width: 0px; fill: rgb(128, 0, 128); fill-opacity: 1;\"/><path class=\"point\" transform=\"translate(136.38,230.95)\" d=\"M4,0A4,4 0 1,1 0,-4A4,4 0 0,1 4,0Z\" style=\"opacity: 1; stroke-width: 0px; fill: rgb(128, 0, 128); fill-opacity: 1;\"/><path class=\"point\" transform=\"translate(146.19,226.57)\" d=\"M4,0A4,4 0 1,1 0,-4A4,4 0 0,1 4,0Z\" style=\"opacity: 1; stroke-width: 0px; fill: rgb(128, 0, 128); fill-opacity: 1;\"/><path class=\"point\" transform=\"translate(156,221.98)\" d=\"M4,0A4,4 0 1,1 0,-4A4,4 0 0,1 4,0Z\" style=\"opacity: 1; stroke-width: 0px; fill: rgb(128, 0, 128); fill-opacity: 1;\"/><path class=\"point\" transform=\"translate(165.82,218.08)\" d=\"M4,0A4,4 0 1,1 0,-4A4,4 0 0,1 4,0Z\" style=\"opacity: 1; stroke-width: 0px; fill: rgb(128, 0, 128); fill-opacity: 1;\"/><path class=\"point\" transform=\"translate(175.63,210.36)\" d=\"M4,0A4,4 0 1,1 0,-4A4,4 0 0,1 4,0Z\" style=\"opacity: 1; stroke-width: 0px; fill: rgb(128, 0, 128); fill-opacity: 1;\"/><path class=\"point\" transform=\"translate(185.44,203.06)\" d=\"M4,0A4,4 0 1,1 0,-4A4,4 0 0,1 4,0Z\" style=\"opacity: 1; stroke-width: 0px; fill: rgb(128, 0, 128); fill-opacity: 1;\"/><path class=\"point\" transform=\"translate(195.25,197.28)\" d=\"M4,0A4,4 0 1,1 0,-4A4,4 0 0,1 4,0Z\" style=\"opacity: 1; stroke-width: 0px; fill: rgb(128, 0, 128); fill-opacity: 1;\"/><path class=\"point\" transform=\"translate(205.06,191.51)\" d=\"M4,0A4,4 0 1,1 0,-4A4,4 0 0,1 4,0Z\" style=\"opacity: 1; stroke-width: 0px; fill: rgb(128, 0, 128); fill-opacity: 1;\"/><path class=\"point\" transform=\"translate(214.88,181.49)\" d=\"M4,0A4,4 0 1,1 0,-4A4,4 0 0,1 4,0Z\" style=\"opacity: 1; stroke-width: 0px; fill: rgb(128, 0, 128); fill-opacity: 1;\"/><path class=\"point\" transform=\"translate(224.69,170.99)\" d=\"M4,0A4,4 0 1,1 0,-4A4,4 0 0,1 4,0Z\" style=\"opacity: 1; stroke-width: 0px; fill: rgb(128, 0, 128); fill-opacity: 1;\"/><path class=\"point\" transform=\"translate(234.5,162.29)\" d=\"M4,0A4,4 0 1,1 0,-4A4,4 0 0,1 4,0Z\" style=\"opacity: 1; stroke-width: 0px; fill: rgb(128, 0, 128); fill-opacity: 1;\"/><path class=\"point\" transform=\"translate(244.31,150.12)\" d=\"M4,0A4,4 0 1,1 0,-4A4,4 0 0,1 4,0Z\" style=\"opacity: 1; stroke-width: 0px; fill: rgb(128, 0, 128); fill-opacity: 1;\"/><path class=\"point\" transform=\"translate(254.12,136.9)\" d=\"M4,0A4,4 0 1,1 0,-4A4,4 0 0,1 4,0Z\" style=\"opacity: 1; stroke-width: 0px; fill: rgb(128, 0, 128); fill-opacity: 1;\"/></g><g class=\"text\"/></g><g class=\"trace scatter traceb85a3e\" style=\"stroke-miterlimit: 2; opacity: 1;\"><g class=\"fills\"/><g class=\"errorbars\"/><g class=\"lines\"/><g class=\"points\"><path class=\"point\" transform=\"translate(263.94,128.25)\" d=\"M4,0A4,4 0 1,1 0,-4A4,4 0 0,1 4,0Z\" style=\"opacity: 1; stroke-width: 0px; fill: rgb(255, 0, 0); fill-opacity: 1;\"/></g><g class=\"text\"/></g><g class=\"trace scatter tracea33d58\" style=\"stroke-miterlimit: 2; opacity: 1;\"><g class=\"fills\"/><g class=\"errorbars\"/><g class=\"lines\"/><g class=\"points\"><path class=\"point\" transform=\"translate(322.81,85.96)\" d=\"M4,0A4,4 0 1,1 0,-4A4,4 0 0,1 4,0Z\" style=\"opacity: 1; stroke-width: 0px; fill: rgb(25, 211, 243); fill-opacity: 1;\"/></g><g class=\"text\"/></g></g></g><g class=\"overplot\"/><path class=\"xlines-above crisp\" d=\"M0,0\" style=\"fill: none;\"/><path class=\"ylines-above crisp\" d=\"M0,0\" style=\"fill: none;\"/><g class=\"overlines-above\"/><g class=\"xaxislayer-above\"><g class=\"xtick\"><text text-anchor=\"start\" x=\"0\" y=\"377\" transform=\"translate(108.45,0) rotate(90,0,371)\" style=\"font-family: 'Open Sans', verdana, arial, sans-serif; font-size: 12px; fill: rgb(77, 86, 99); fill-opacity: 1; white-space: pre;\">20 Feb</text></g><g class=\"xtick\"><text text-anchor=\"start\" x=\"0\" y=\"377\" transform=\"translate(128.07,0) rotate(90,0,371)\" style=\"font-family: 'Open Sans', verdana, arial, sans-serif; font-size: 12px; fill: rgb(77, 86, 99); fill-opacity: 1; white-space: pre;\">22 Feb</text></g><g class=\"xtick\"><text text-anchor=\"start\" x=\"0\" y=\"377\" transform=\"translate(147.7,0) rotate(90,0,371)\" style=\"font-family: 'Open Sans', verdana, arial, sans-serif; font-size: 12px; fill: rgb(77, 86, 99); fill-opacity: 1; white-space: pre;\">24 Feb</text></g><g class=\"xtick\"><text text-anchor=\"start\" x=\"0\" y=\"377\" transform=\"translate(167.32,0) rotate(90,0,371)\" style=\"font-family: 'Open Sans', verdana, arial, sans-serif; font-size: 12px; fill: rgb(77, 86, 99); fill-opacity: 1; white-space: pre;\">26 Feb</text></g><g class=\"xtick\"><text text-anchor=\"start\" x=\"0\" y=\"377\" transform=\"translate(186.95,0) rotate(90,0,371)\" style=\"font-family: 'Open Sans', verdana, arial, sans-serif; font-size: 12px; fill: rgb(77, 86, 99); fill-opacity: 1; white-space: pre;\">28 Feb</text></g><g class=\"xtick\"><text text-anchor=\"start\" x=\"0\" y=\"377\" transform=\"translate(206.57,0) rotate(90,0,371)\" style=\"font-family: 'Open Sans', verdana, arial, sans-serif; font-size: 12px; fill: rgb(77, 86, 99); fill-opacity: 1; white-space: pre;\">01 Mar</text></g><g class=\"xtick\"><text text-anchor=\"start\" x=\"0\" y=\"377\" transform=\"translate(226.19,0) rotate(90,0,371)\" style=\"font-family: 'Open Sans', verdana, arial, sans-serif; font-size: 12px; fill: rgb(77, 86, 99); fill-opacity: 1; white-space: pre;\">03 Mar</text></g><g class=\"xtick\"><text text-anchor=\"start\" x=\"0\" y=\"377\" transform=\"translate(245.82,0) rotate(90,0,371)\" style=\"font-family: 'Open Sans', verdana, arial, sans-serif; font-size: 12px; fill: rgb(77, 86, 99); fill-opacity: 1; white-space: pre;\">05 Mar</text></g><g class=\"xtick\"><text text-anchor=\"start\" x=\"0\" y=\"377\" transform=\"translate(265.44,0) rotate(90,0,371)\" style=\"font-family: 'Open Sans', verdana, arial, sans-serif; font-size: 12px; fill: rgb(77, 86, 99); fill-opacity: 1; white-space: pre;\">07 Mar</text></g><g class=\"xtick\"><text text-anchor=\"start\" x=\"0\" y=\"377\" transform=\"translate(285.06,0) rotate(90,0,371)\" style=\"font-family: 'Open Sans', verdana, arial, sans-serif; font-size: 12px; fill: rgb(77, 86, 99); fill-opacity: 1; white-space: pre;\">09 Mar</text></g><g class=\"xtick\"><text text-anchor=\"start\" x=\"0\" y=\"377\" transform=\"translate(304.69,0) rotate(90,0,371)\" style=\"font-family: 'Open Sans', verdana, arial, sans-serif; font-size: 12px; fill: rgb(77, 86, 99); fill-opacity: 1; white-space: pre;\">11 Mar</text></g><g class=\"xtick\"><text text-anchor=\"start\" x=\"0\" y=\"377\" transform=\"translate(324.31,0) rotate(90,0,371)\" style=\"font-family: 'Open Sans', verdana, arial, sans-serif; font-size: 12px; fill: rgb(77, 86, 99); fill-opacity: 1; white-space: pre;\">13 Mar</text></g><g class=\"xtick\"><text text-anchor=\"start\" x=\"0\" y=\"377\" transform=\"translate(343.94,0) rotate(90,0,371)\" style=\"font-family: 'Open Sans', verdana, arial, sans-serif; font-size: 12px; fill: rgb(77, 86, 99); fill-opacity: 1; white-space: pre;\">15 Mar</text></g><g class=\"xtick\"><text text-anchor=\"start\" x=\"0\" y=\"377\" transform=\"translate(363.56,0) rotate(90,0,371)\" style=\"font-family: 'Open Sans', verdana, arial, sans-serif; font-size: 12px; fill: rgb(77, 86, 99); fill-opacity: 1; white-space: pre;\">17 Mar</text></g><g class=\"xtick\"><text text-anchor=\"start\" x=\"0\" y=\"377\" transform=\"translate(383.18,0) rotate(90,0,371)\" style=\"font-family: 'Open Sans', verdana, arial, sans-serif; font-size: 12px; fill: rgb(77, 86, 99); fill-opacity: 1; white-space: pre;\">19 Mar</text></g><g class=\"xtick\"><text text-anchor=\"start\" x=\"0\" y=\"377\" transform=\"translate(402.81,0) rotate(90,0,371)\" style=\"font-family: 'Open Sans', verdana, arial, sans-serif; font-size: 12px; fill: rgb(77, 86, 99); fill-opacity: 1; white-space: pre;\">21 Mar</text></g><g class=\"xtick\"><text text-anchor=\"start\" x=\"0\" y=\"377\" transform=\"translate(422.43,0) rotate(90,0,371)\" style=\"font-family: 'Open Sans', verdana, arial, sans-serif; font-size: 12px; fill: rgb(77, 86, 99); fill-opacity: 1; white-space: pre;\">23 Mar</text></g><g class=\"xtick\"><text text-anchor=\"start\" x=\"0\" y=\"377\" transform=\"translate(442.05,0) rotate(90,0,371)\" style=\"font-family: 'Open Sans', verdana, arial, sans-serif; font-size: 12px; fill: rgb(77, 86, 99); fill-opacity: 1; white-space: pre;\">25 Mar</text></g><g class=\"xtick\"><text text-anchor=\"start\" x=\"0\" y=\"377\" transform=\"translate(461.68,0) rotate(90,0,371)\" style=\"font-family: 'Open Sans', verdana, arial, sans-serif; font-size: 12px; fill: rgb(77, 86, 99); fill-opacity: 1; white-space: pre;\">27 Mar</text></g><g class=\"xtick\"><text text-anchor=\"start\" x=\"0\" y=\"377\" transform=\"translate(481.3,0) rotate(90,0,371)\" style=\"font-family: 'Open Sans', verdana, arial, sans-serif; font-size: 12px; fill: rgb(77, 86, 99); fill-opacity: 1; white-space: pre;\">29 Mar</text></g><g class=\"xtick\"><text text-anchor=\"start\" x=\"0\" y=\"377\" transform=\"translate(500.93,0) rotate(90,0,371)\" style=\"font-family: 'Open Sans', verdana, arial, sans-serif; font-size: 12px; fill: rgb(77, 86, 99); fill-opacity: 1; white-space: pre;\">31 Mar</text></g><g class=\"xtick\"><text text-anchor=\"start\" x=\"0\" y=\"377\" transform=\"translate(520.55,0) rotate(90,0,371)\" style=\"font-family: 'Open Sans', verdana, arial, sans-serif; font-size: 12px; fill: rgb(77, 86, 99); fill-opacity: 1; white-space: pre;\">02 Apr</text></g></g><g class=\"yaxislayer-above\"><g class=\"ytick\"><text text-anchor=\"end\" x=\"79\" y=\"4.199999999999999\" transform=\"translate(0,342.5)\" style=\"font-family: 'Open Sans', verdana, arial, sans-serif; font-size: 12px; fill: rgb(77, 86, 99); fill-opacity: 1; white-space: pre;\">0</text></g><g class=\"ytick\"><text text-anchor=\"end\" x=\"79\" y=\"4.199999999999999\" transform=\"translate(0,307.72)\" style=\"font-family: 'Open Sans', verdana, arial, sans-serif; font-size: 12px; fill: rgb(77, 86, 99); fill-opacity: 1; white-space: pre;\">500</text></g><g class=\"ytick\"><text text-anchor=\"end\" x=\"79\" y=\"4.199999999999999\" transform=\"translate(0,272.94)\" style=\"font-family: 'Open Sans', verdana, arial, sans-serif; font-size: 12px; fill: rgb(77, 86, 99); fill-opacity: 1; white-space: pre;\">1000</text></g><g class=\"ytick\"><text text-anchor=\"end\" x=\"79\" y=\"4.199999999999999\" transform=\"translate(0,238.15)\" style=\"font-family: 'Open Sans', verdana, arial, sans-serif; font-size: 12px; fill: rgb(77, 86, 99); fill-opacity: 1; white-space: pre;\">1500</text></g><g class=\"ytick\"><text text-anchor=\"end\" x=\"79\" y=\"4.199999999999999\" transform=\"translate(0,203.37)\" style=\"font-family: 'Open Sans', verdana, arial, sans-serif; font-size: 12px; fill: rgb(77, 86, 99); fill-opacity: 1; white-space: pre;\">2000</text></g><g class=\"ytick\"><text text-anchor=\"end\" x=\"79\" y=\"4.199999999999999\" transform=\"translate(0,168.59)\" style=\"font-family: 'Open Sans', verdana, arial, sans-serif; font-size: 12px; fill: rgb(77, 86, 99); fill-opacity: 1; white-space: pre;\">2500</text></g><g class=\"ytick\"><text text-anchor=\"end\" x=\"79\" y=\"4.199999999999999\" transform=\"translate(0,133.8)\" style=\"font-family: 'Open Sans', verdana, arial, sans-serif; font-size: 12px; fill: rgb(77, 86, 99); fill-opacity: 1; white-space: pre;\">3000</text></g></g><g class=\"overaxes-above\"/></g></g><g class=\"polarlayer\"/><g class=\"ternarylayer\"/><g class=\"geolayer\"/><g class=\"funnelarealayer\"/><g class=\"pielayer\"/><g class=\"treemaplayer\"/><g class=\"sunburstlayer\"/><g class=\"glimages\"/><defs id=\"topdefs-8fd781\"><g class=\"clips\"/><clipPath id=\"legend8fd781\"><rect width=\"130\" height=\"124\" x=\"0\" y=\"0\"/></clipPath></defs><g class=\"layer-above\"><g class=\"imagelayer\"/><g class=\"shapelayer\"/></g><g class=\"infolayer\"><g class=\"legend\" pointer-events=\"all\" transform=\"translate(558.38, 100)\"><rect class=\"bg\" shape-rendering=\"crispEdges\" style=\"stroke: rgb(68, 68, 68); stroke-opacity: 1; fill: rgb(255, 255, 255); fill-opacity: 1; stroke-width: 0px;\" width=\"130\" height=\"124\" x=\"0\" y=\"0\"/><g class=\"scrollbox\" transform=\"translate(0, 0)\" clip-path=\"url('#legend8fd781')\"><g class=\"groups\"><g class=\"traces\" transform=\"translate(0, 14.5)\" style=\"opacity: 1;\"><text class=\"legendtext user-select-none\" text-anchor=\"start\" x=\"40\" y=\"4.680000000000001\" style=\"font-family: 'Open Sans', verdana, arial, sans-serif; font-size: 12px; fill: rgb(77, 86, 99); fill-opacity: 1; white-space: pre;\">exp</text><g class=\"layers\" style=\"opacity: 1;\"><g class=\"legendfill\"/><g class=\"legendlines\"><path class=\"js-line\" d=\"M5,0h30\" style=\"fill: none; stroke: rgb(255, 153, 51); stroke-opacity: 1; stroke-width: 1.3px;\"/></g><g class=\"legendsymbols\"><g class=\"legendpoints\"><path class=\"scatterpts\" transform=\"translate(20,0)\" d=\"M2,0A2,2 0 1,1 0,-2A2,2 0 0,1 2,0Z\" style=\"opacity: 1; stroke-width: 0px; fill: rgb(255, 153, 51); fill-opacity: 1;\"/></g></g></g><rect class=\"legendtoggle\" pointer-events=\"all\" x=\"0\" y=\"-9.5\" width=\"124.09375\" height=\"19\" style=\"cursor: pointer; fill: rgb(0, 0, 0); fill-opacity: 0;\"/></g><g class=\"traces\" transform=\"translate(0, 33.5)\" style=\"opacity: 1;\"><text class=\"legendtext user-select-none\" text-anchor=\"start\" x=\"40\" y=\"4.680000000000001\" style=\"font-family: 'Open Sans', verdana, arial, sans-serif; font-size: 12px; fill: rgb(77, 86, 99); fill-opacity: 1; white-space: pre;\">sigm</text><g class=\"layers\" style=\"opacity: 1;\"><g class=\"legendfill\"/><g class=\"legendlines\"><path class=\"js-line\" d=\"M5,0h30\" style=\"fill: none; stroke: rgb(55, 128, 191); stroke-opacity: 1; stroke-width: 1.3px;\"/></g><g class=\"legendsymbols\"><g class=\"legendpoints\"><path class=\"scatterpts\" transform=\"translate(20,0)\" d=\"M2,0A2,2 0 1,1 0,-2A2,2 0 0,1 2,0Z\" style=\"opacity: 1; stroke-width: 0px; fill: rgb(55, 128, 191); fill-opacity: 1;\"/></g></g></g><rect class=\"legendtoggle\" pointer-events=\"all\" x=\"0\" y=\"-9.5\" width=\"124.09375\" height=\"19\" style=\"cursor: pointer; fill: rgb(0, 0, 0); fill-opacity: 0;\"/></g><g class=\"traces\" transform=\"translate(0, 52.5)\" style=\"opacity: 1;\"><text class=\"legendtext user-select-none\" text-anchor=\"start\" x=\"40\" y=\"4.680000000000001\" style=\"font-family: 'Open Sans', verdana, arial, sans-serif; font-size: 12px; fill: rgb(77, 86, 99); fill-opacity: 1; white-space: pre;\">log</text><g class=\"layers\" style=\"opacity: 1;\"><g class=\"legendfill\"/><g class=\"legendlines\"><path class=\"js-line\" d=\"M5,0h30\" style=\"fill: none; stroke: rgb(50, 171, 96); stroke-opacity: 1; stroke-width: 1.3px;\"/></g><g class=\"legendsymbols\"><g class=\"legendpoints\"><path class=\"scatterpts\" transform=\"translate(20,0)\" d=\"M2,0A2,2 0 1,1 0,-2A2,2 0 0,1 2,0Z\" style=\"opacity: 1; stroke-width: 0px; fill: rgb(50, 171, 96); fill-opacity: 1;\"/></g></g></g><rect class=\"legendtoggle\" pointer-events=\"all\" x=\"0\" y=\"-9.5\" width=\"124.09375\" height=\"19\" style=\"cursor: pointer; fill: rgb(0, 0, 0); fill-opacity: 0;\"/></g><g class=\"traces\" transform=\"translate(0, 71.5)\" style=\"opacity: 1;\"><text class=\"legendtext user-select-none\" text-anchor=\"start\" x=\"40\" y=\"4.680000000000001\" style=\"font-family: 'Open Sans', verdana, arial, sans-serif; font-size: 12px; fill: rgb(77, 86, 99); fill-opacity: 1; white-space: pre;\">intensive care</text><g class=\"layers\" style=\"opacity: 1;\"><g class=\"legendfill\"/><g class=\"legendlines\"/><g class=\"legendsymbols\"><g class=\"legendpoints\"><path class=\"scatterpts\" transform=\"translate(20,0)\" d=\"M4,0A4,4 0 1,1 0,-4A4,4 0 0,1 4,0Z\" style=\"opacity: 1; stroke-width: 0px; fill: rgb(128, 0, 128); fill-opacity: 1;\"/></g></g></g><rect class=\"legendtoggle\" pointer-events=\"all\" x=\"0\" y=\"-9.5\" width=\"124.09375\" height=\"19\" style=\"cursor: pointer; fill: rgb(0, 0, 0); fill-opacity: 0;\"/></g><g class=\"traces\" transform=\"translate(0, 90.5)\" style=\"opacity: 1;\"><text class=\"legendtext user-select-none\" text-anchor=\"start\" x=\"40\" y=\"4.680000000000001\" style=\"font-family: 'Open Sans', verdana, arial, sans-serif; font-size: 12px; fill: rgb(77, 86, 99); fill-opacity: 1; white-space: pre;\">flex</text><g class=\"layers\" style=\"opacity: 1;\"><g class=\"legendfill\"/><g class=\"legendlines\"/><g class=\"legendsymbols\"><g class=\"legendpoints\"><path class=\"scatterpts\" transform=\"translate(20,0)\" d=\"M4,0A4,4 0 1,1 0,-4A4,4 0 0,1 4,0Z\" style=\"opacity: 1; stroke-width: 0px; fill: rgb(255, 0, 0); fill-opacity: 1;\"/></g></g></g><rect class=\"legendtoggle\" pointer-events=\"all\" x=\"0\" y=\"-9.5\" width=\"124.09375\" height=\"19\" style=\"cursor: pointer; fill: rgb(0, 0, 0); fill-opacity: 0;\"/></g><g class=\"traces\" transform=\"translate(0, 109.5)\" style=\"opacity: 1;\"><text class=\"legendtext user-select-none\" text-anchor=\"start\" x=\"40\" y=\"4.680000000000001\" style=\"font-family: 'Open Sans', verdana, arial, sans-serif; font-size: 12px; fill: rgb(77, 86, 99); fill-opacity: 1; white-space: pre;\">peak</text><g class=\"layers\" style=\"opacity: 1;\"><g class=\"legendfill\"/><g class=\"legendlines\"/><g class=\"legendsymbols\"><g class=\"legendpoints\"><path class=\"scatterpts\" transform=\"translate(20,0)\" d=\"M4,0A4,4 0 1,1 0,-4A4,4 0 0,1 4,0Z\" style=\"opacity: 1; stroke-width: 0px; fill: rgb(25, 211, 243); fill-opacity: 1;\"/></g></g></g><rect class=\"legendtoggle\" pointer-events=\"all\" x=\"0\" y=\"-9.5\" width=\"124.09375\" height=\"19\" style=\"cursor: pointer; fill: rgb(0, 0, 0); fill-opacity: 0;\"/></g></g></g><rect class=\"scrollbar\" rx=\"20\" ry=\"3\" width=\"0\" height=\"0\" style=\"fill: rgb(128, 139, 164); fill-opacity: 1;\" x=\"0\" y=\"0\"/></g><g class=\"g-gtitle\"><text class=\"gtitle\" x=\"35\" y=\"50\" text-anchor=\"start\" dy=\"0em\" style=\"font-family: 'Open Sans', verdana, arial, sans-serif; font-size: 17px; fill: rgb(77, 86, 99); opacity: 1; font-weight: normal; white-space: pre;\">Intensive care cases</text></g><g class=\"g-xtitle\"/><g class=\"g-ytitle\"><text class=\"ytitle\" transform=\"rotate(-90,23.684375000000003,232)\" x=\"23.684375000000003\" y=\"232\" text-anchor=\"middle\" style=\"font-family: 'Open Sans', verdana, arial, sans-serif; font-size: 14px; fill: rgb(77, 86, 99); opacity: 1; font-weight: normal; white-space: pre;\">cases</text></g></g><g class=\"menulayer\"><g class=\"updatemenu-container\" style=\"cursor: pointer;\"><g class=\"updatemenu-header-group\" transform=\"translate(127, 74)\"><g class=\"updatemenu-header\" transform=\"translate(1, 11)\" style=\"pointer-events: all;\"><rect class=\"updatemenu-item-rect\" rx=\"2\" ry=\"2\" shape-rendering=\"crispEdges\" x=\"0\" y=\"0\" width=\"78\" height=\"33\" style=\"stroke: rgb(190, 200, 217); stroke-opacity: 1; fill: rgb(255, 255, 255); fill-opacity: 1; stroke-width: 1px;\"/><text class=\"updatemenu-item-text user-select-none\" text-anchor=\"start\" data-notex=\"1\" x=\"12\" y=\"19.5\" style=\"font-family: 'Open Sans', verdana, arial, sans-serif; font-size: 12px; fill: rgb(42, 63, 95); fill-opacity: 1; white-space: pre;\">Linear</text></g><text class=\"updatemenu-header-arrow user-select-none\" text-anchor=\"end\" x=\"74\" y=\"29.5\" style=\"font-family: 'Open Sans', verdana, arial, sans-serif; font-size: 12px; fill: rgb(42, 63, 95); fill-opacity: 1;\">▼</text></g><g class=\"updatemenu-dropdown-button-group\" updatemenu-active-index=\"-1\" style=\"pointer-events: all;\"><rect class=\"scrollbox-bg\" opacity=\"0\" x=\"0\" y=\"0\" width=\"0\" height=\"0\" style=\"pointer-events: all;\"/></g></g></g></svg>"
     },
     "metadata": {},
     "output_type": "display_data"
    }
   ],
   "source": [
    "fig.show('svg')"
   ],
   "metadata": {
    "collapsed": false,
    "pycharm": {
     "name": "#%%\n",
     "is_executing": false
    }
   }
  }
 ],
 "metadata": {
  "kernelspec": {
   "display_name": "Python 3",
   "language": "python",
   "name": "python3"
  },
  "language_info": {
   "codemirror_mode": {
    "name": "ipython",
    "version": 2
   },
   "file_extension": ".py",
   "mimetype": "text/x-python",
   "name": "python",
   "nbconvert_exporter": "python",
   "pygments_lexer": "ipython2",
   "version": "2.7.6"
  },
  "pycharm": {
   "stem_cell": {
    "cell_type": "raw",
    "source": [],
    "metadata": {
     "collapsed": false
    }
   }
  }
 },
 "nbformat": 4,
 "nbformat_minor": 0
}