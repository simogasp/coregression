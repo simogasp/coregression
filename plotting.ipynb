{
 "cells": [
  {
   "cell_type": "code",
   "execution_count": null,
   "metadata": {
    "collapsed": true
   },
   "outputs": [],
   "source": [
    "import pandas as pd\n",
    "import cufflinks as cf\n",
    "import plotly.offline\n",
    "import plotly.graph_objs as go  \n",
    "import mytools.regression as reg\n",
    "import mytools.date as dt\n",
    "\n",
    "cf.go_offline()\n",
    "cf.set_config_file(offline=False, world_readable=True)"
   ]
  },
  {
   "cell_type": "markdown",
   "source": [
    "## Italian intensive care cases "
   ],
   "metadata": {
    "collapsed": false
   }
  },
  {
   "cell_type": "code",
   "execution_count": null,
   "outputs": [],
   "source": [
    "# loading the data\n",
    "df = pd.read_csv('italy-intensive_care.csv')\n",
    "a = list((dt.day_of_year_to_date(v)).strftime(\"%d %b\") for v in df['day'])\n",
    "df.index = a\n",
    "# display the table\n",
    "pd.DataFrame(df['intensive care'])\n",
    "\n"
   ],
   "metadata": {
    "collapsed": false,
    "pycharm": {
     "name": "#%%\n"
    }
   }
  },
  {
   "cell_type": "markdown",
   "source": [
    "## Fitting intensive care data with exponential and logistic models\n",
    "\n",
    "The exponential model is:\n",
    "\n",
    "$$y = e^{k(x-x_0)} + y_0$$\n",
    "\n",
    "where $k, x_0, y_0$ are the parameters to estimate.\n",
    "\n",
    "For the logistic model:\n",
    "\n",
    "$$y = \\frac{c}{1+e^{-k(x-x_0)}} + y_0$$\n",
    "\n",
    "where $c, k, x_0, y_0$ are the parameters to estimate."
   ],
   "metadata": {
    "collapsed": false
   }
  },
  {
   "cell_type": "code",
   "execution_count": null,
   "outputs": [],
   "source": [
    "x_orig = df['day']\n",
    "y_orig = df['intensive care']\n",
    "\n",
    "sigm_model, xp, pxp = reg.fit_sigmoid(x_orig, y_orig, verbose=True)\n",
    "flex = reg.sigmoid_get_flex(sigm_model)\n",
    "\n",
    "exp_model, exp_xp, exp_pxp = reg.fit_exponential(x_orig, y_orig, upper=1.25, verbose=True)\n"
   ],
   "metadata": {
    "collapsed": false,
    "pycharm": {
     "name": "#%%\n"
    }
   }
  },
  {
   "cell_type": "code",
   "execution_count": null,
   "outputs": [],
   "source": [
    "# preparing table with predictions\n",
    "d_max = df['day'].max()\n",
    "d_min = df['day'].min()\n",
    "\n",
    "f_days_exp = range(d_min - 4, d_max + 4, 1)\n",
    "f_days_sigm = range(d_min - 4, d_max + 20, 1)\n",
    "\n",
    "f_exp = reg.exponential(exp_model, f_days_exp)\n",
    "f_sigm = reg.sigmoid(sigm_model, f_days_sigm)\n",
    "f_df_exp = pd.DataFrame({'day' : f_days_exp, 'exp' : f_exp})\n",
    "f_df_sigm = pd.DataFrame({'day' : f_days_sigm, 'sigm' : f_sigm})\n",
    "f_df_exp.index = dt.day_of_year_to_string(f_days_exp)\n",
    "f_df_sigm.index = dt.day_of_year_to_string(f_days_sigm)\n",
    "\n",
    "df_final = pd.merge(df, f_df_exp, on='day', how='outer', sort=True).merge(f_df_sigm, on='day', how='outer', sort=True)\n",
    "df_final.index = dt.day_of_year_to_string(f_days_sigm)\n",
    "df_final"
   ],
   "metadata": {
    "collapsed": false,
    "pycharm": {
     "name": "#%%\n"
    }
   }
  },
  {
   "cell_type": "code",
   "execution_count": null,
   "outputs": [],
   "source": [
    "fig = df_final[['exp', 'sigm', 'intensive care']].iplot(theme=\"white\", title=\"Intensive care cases\", size=4, yTitle='case', mode='lines+markers', asFigure=True)\n",
    "fig.data[2].mode='markers'\n",
    "fig.data[2].marker.size = 8\n",
    "fig.add_trace(go.Scatter(x=[dt.day_of_year_to_string(round(flex[0]))], y=[flex[1]], name='flex', mode=\"markers\"))\n",
    "fig.data[3].marker.size = 8\n",
    "fig.data[3].marker.color = 'rgba(255, 0, 0, 125)'\n",
    "fig.update_layout(yaxis_type=\"log\")\n",
    "fig.show()"
   ],
   "metadata": {
    "collapsed": false,
    "pycharm": {
     "name": "#%%\n"
    }
   }
  },
  {
   "cell_type": "code",
   "execution_count": null,
   "outputs": [],
   "source": [
    "fig.show('svg')"
   ],
   "metadata": {
    "collapsed": false,
    "pycharm": {
     "name": "#%%\n"
    }
   }
  }
 ],
 "metadata": {
  "kernelspec": {
   "display_name": "Python 3",
   "language": "python",
   "name": "python3"
  },
  "language_info": {
   "codemirror_mode": {
    "name": "ipython",
    "version": 2
   },
   "file_extension": ".py",
   "mimetype": "text/x-python",
   "name": "python",
   "nbconvert_exporter": "python",
   "pygments_lexer": "ipython2",
   "version": "2.7.6"
  },
  "pycharm": {
   "stem_cell": {
    "cell_type": "raw",
    "source": [],
    "metadata": {
     "collapsed": false
    }
   }
  }
 },
 "nbformat": 4,
 "nbformat_minor": 0
}