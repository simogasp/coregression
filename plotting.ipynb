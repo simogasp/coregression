{
 "cells": [
  {
   "cell_type": "code",
   "execution_count": 2,
   "metadata": {
    "collapsed": true,
    "pycharm": {
     "is_executing": false
    }
   },
   "outputs": [
    {
     "name": "stdout",
     "text": [
      "[55. 56. 57. 58. 59. 60. 61. 62. 63. 64.]\n",
      "[ 27.  35.  35.  56.  64. 105. 140. 166. 229. 295.]\n",
      "[0.3        0.37777778 0.45555556 0.53333333 0.61111111 0.68888889\n",
      " 0.76666667 0.84444444 0.92222222 1.        ]\n",
      "[0.3        0.32089552 0.32089552 0.37574627 0.39664179 0.50373134\n",
      " 0.59514925 0.6630597  0.82761194 1.        ]\n",
      "x0 = 1.1812705590904415\n",
      "y0 = 0.251543385489762\n",
      "c = 2.45606563978802\n",
      "k = 4.573022267123975\n",
      "\n",
      "x0 = 52.32412770194759\n",
      "y0 = 8.448039016080317\n",
      "c = 940.322273518842\n",
      "k = 0.35567950966519807\n",
      "asymptot = 948.7703125349224\n",
      "flex = 0.019791746520098793,0.26360375708669004\n",
      "\n"
     ],
     "output_type": "stream"
    },
    {
     "data": {
      "text/plain": "<Figure size 432x288 with 1 Axes>",
      "image/png": "[encoded data removed]"
     },
     "metadata": {
      "needs_background": "light"
     },
     "output_type": "display_data"
    }
   ],
   "source": [
    "import mytools.regression"
   ]
  },
  {
   "cell_type": "markdown",
   "source": [
    "## test"
   ],
   "metadata": {
    "collapsed": false,
    "pycharm": {
     "name": "#%% md\n"
    }
   }
  }
 ],
 "metadata": {
  "kernelspec": {
   "display_name": "Python 3",
   "language": "python",
   "name": "python3"
  },
  "language_info": {
   "codemirror_mode": {
    "name": "ipython",
    "version": 2
   },
   "file_extension": ".py",
   "mimetype": "text/x-python",
   "name": "python",
   "nbconvert_exporter": "python",
   "pygments_lexer": "ipython2",
   "version": "2.7.6"
  },
  "pycharm": {
   "stem_cell": {
    "cell_type": "raw",
    "source": [],
    "metadata": {
     "collapsed": false
    }
   }
  }
 },
 "nbformat": 4,
 "nbformat_minor": 0
}