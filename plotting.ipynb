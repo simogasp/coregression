{
 "cells": [
  {
   "cell_type": "code",
   "execution_count": 21,
   "metadata": {
    "collapsed": true,
    "pycharm": {
     "is_executing": false
    }
   },
   "outputs": [],
   "source": [
    "import mytools.regression as reg\n",
    "import numpy as np\n",
    "import matplotlib.pyplot as plt\n",
    "import datetime"
   ]
  },
  {
   "cell_type": "markdown",
   "source": [
    "## Sigmoid fitting for intensive care patients"
   ],
   "metadata": {
    "collapsed": false,
    "pycharm": {
     "name": "#%% md\n"
    }
   }
  },
  {
   "cell_type": "code",
   "execution_count": 22,
   "outputs": [
    {
     "traceback": [
      "\u001b[0;31m---------------------------------------------------------------------------\u001b[0m",
      "\u001b[0;31mAttributeError\u001b[0m                            Traceback (most recent call last)",
      "\u001b[0;32m<ipython-input-22-96274b6f9aab>\u001b[0m in \u001b[0;36m<module>\u001b[0;34m\u001b[0m\n\u001b[1;32m      6\u001b[0m \u001b[0mmodel\u001b[0m\u001b[0;34m,\u001b[0m \u001b[0mxp\u001b[0m\u001b[0;34m,\u001b[0m \u001b[0mpxp\u001b[0m \u001b[0;34m=\u001b[0m \u001b[0mreg\u001b[0m\u001b[0;34m.\u001b[0m\u001b[0mfit_sigmoid\u001b[0m\u001b[0;34m(\u001b[0m\u001b[0mx_orig\u001b[0m\u001b[0;34m,\u001b[0m \u001b[0my_orig\u001b[0m\u001b[0;34m)\u001b[0m\u001b[0;34m\u001b[0m\u001b[0m\n\u001b[1;32m      7\u001b[0m \u001b[0;34m\u001b[0m\u001b[0m\n\u001b[0;32m----> 8\u001b[0;31m \u001b[0mflex\u001b[0m \u001b[0;34m=\u001b[0m \u001b[0mreg\u001b[0m\u001b[0;34m.\u001b[0m\u001b[0msigmoid_get_flex\u001b[0m\u001b[0;34m(\u001b[0m\u001b[0mmodel\u001b[0m\u001b[0;34m)\u001b[0m\u001b[0;34m\u001b[0m\u001b[0m\n\u001b[0m\u001b[1;32m      9\u001b[0m \u001b[0;34m\u001b[0m\u001b[0m\n\u001b[1;32m     10\u001b[0m \u001b[0;31m# Plot the results\u001b[0m\u001b[0;34m\u001b[0m\u001b[0;34m\u001b[0m\u001b[0m\n",
      "\u001b[0;31mAttributeError\u001b[0m: module 'mytools.regression' has no attribute 'sigmoid_get_flex'"
     ],
     "ename": "AttributeError",
     "evalue": "module 'mytools.regression' has no attribute 'sigmoid_get_flex'",
     "output_type": "error"
    }
   ],
   "source": [
    "data = np.genfromtxt(fname='italy-intensive_care.csv', delimiter=',', names=True)\n",
    "\n",
    "x_orig = data['day']\n",
    "y_orig = data['intensive_care']\n",
    "\n",
    "model, xp, pxp = reg.fit_sigmoid(x_orig, y_orig)\n",
    "\n",
    "flex = reg.sigmoid_get_flex(model)\n",
    "\n",
    "# Plot the results\n",
    "plt.plot(x_orig, y_orig, '.', label='Intensive care cases')\n",
    "plt.plot(xp, pxp, '-', label='fitting sigmoid')\n",
    "plt.plot(flex[0], flex[1], '.', label='Inflection point ('+reg.day_of_year_to_date(flex[0]).strftime(\"%d %b\")+' '+'{:.2f}'.format(flex[1])+' cases)')\n",
    "locs, labels = plt.xticks()\n",
    "a = list((reg.day_of_year_to_date(v)).strftime(\"%d %b\") for v in locs.tolist())\n",
    "plt.xticks(ticks=locs.tolist(), labels=a)\n",
    "\n",
    "plt.ylabel('cases', rotation='horizontal')\n",
    "plt.grid(True)\n",
    "plt.title('Italy - Intensive care patients')\n",
    "plt.legend()\n",
    "plt.show()\n"
   ],
   "metadata": {
    "collapsed": false,
    "pycharm": {
     "name": "#%%\n",
     "is_executing": false
    }
   }
  }
 ],
 "metadata": {
  "kernelspec": {
   "display_name": "Python 3",
   "language": "python",
   "name": "python3"
  },
  "language_info": {
   "codemirror_mode": {
    "name": "ipython",
    "version": 2
   },
   "file_extension": ".py",
   "mimetype": "text/x-python",
   "name": "python",
   "nbconvert_exporter": "python",
   "pygments_lexer": "ipython2",
   "version": "2.7.6"
  },
  "pycharm": {
   "stem_cell": {
    "cell_type": "raw",
    "source": [],
    "metadata": {
     "collapsed": false
    }
   }
  }
 },
 "nbformat": 4,
 "nbformat_minor": 0
}