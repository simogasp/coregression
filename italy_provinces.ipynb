{
 "cells": [
  {
   "cell_type": "code",
   "execution_count": 1,
   "metadata": {
    "collapsed": true,
    "pycharm": {
     "is_executing": false
    }
   },
   "outputs": [
    {
     "data": {
      "text/html": "        <script type=\"text/javascript\">\n        window.PlotlyConfig = {MathJaxConfig: 'local'};\n        if (window.MathJax) {MathJax.Hub.Config({SVG: {font: \"STIX-Web\"}});}\n        if (typeof require !== 'undefined') {\n        require.undef(\"plotly\");\n        requirejs.config({\n            paths: {\n                'plotly': ['https://cdn.plot.ly/plotly-latest.min']\n            }\n        });\n        require(['plotly'], function(Plotly) {\n            window._Plotly = Plotly;\n        });\n        }\n        </script>\n        "
     },
     "metadata": {},
     "output_type": "display_data"
    },
    {
     "name": "stdout",
     "text": [
      "[0.65       0.35153374 1.        ]\n",
      "`ftol` termination condition is satisfied.\n",
      "Function evaluations 14, initial cost 1.0717e+01, final cost 1.1122e-02, first-order optimality 6.74e-08.\n",
      "            Exponential model\n",
      "            x0 = 24.564160960653084\n",
      "            y0 = -91.63942315804559\n",
      "            k = 0.1211545168512131\n",
      "            \n",
      "`gtol` termination condition is satisfied.\n",
      "Function evaluations 25, initial cost 2.5484e+00, final cost 8.1504e-04, first-order optimality 4.72e-10.\n",
      "        Sigmoid model\n",
      "        x0 = 80.04915661568067\n",
      "        y0 = -3.3237434882520183\n",
      "        c = 1644.973271048923\n",
      "        k = 0.27013226152773784\n",
      "        asymptot = 1641.649527560671\n",
      "        flex = 80.04915661568067, 819.1628920362094\n",
      "        \n"
     ],
     "output_type": "stream"
    },
    {
     "data": {
      "application/vnd.plotly.v1+json": {
       "config": {
        "plotlyServerURL": "https://plot.ly"
       },
       "data": [
        {
         "line": {
          "color": "rgba(255, 153, 51, 1.0)",
          "dash": "solid",
          "shape": "linear",
          "width": 1.3
         },
         "marker": {
          "size": 4,
          "symbol": "circle"
         },
         "mode": "lines+markers",
         "name": "exp",
         "text": "",
         "type": "scatter",
         "x": [
          "20 Feb",
          "21 Feb",
          "22 Feb",
          "23 Feb",
          "24 Feb",
          "25 Feb",
          "26 Feb",
          "27 Feb",
          "28 Feb",
          "29 Feb",
          "01 Mar",
          "02 Mar",
          "03 Mar",
          "04 Mar",
          "05 Mar",
          "06 Mar",
          "07 Mar",
          "08 Mar",
          "09 Mar",
          "10 Mar",
          "11 Mar",
          "12 Mar",
          "13 Mar",
          "14 Mar",
          "15 Mar",
          "16 Mar",
          "17 Mar",
          "18 Mar",
          "19 Mar",
          "20 Mar",
          "21 Mar",
          "22 Mar",
          "23 Mar",
          "24 Mar",
          "25 Mar",
          "26 Mar",
          "27 Mar",
          "28 Mar",
          "29 Mar",
          "30 Mar",
          "31 Mar",
          "01 Apr",
          "02 Apr",
          "03 Apr",
          "04 Apr",
          "05 Apr",
          "06 Apr",
          "07 Apr",
          "08 Apr",
          "09 Apr",
          "10 Apr",
          "11 Apr",
          "12 Apr",
          "13 Apr"
         ],
         "y": [
          -67.03758144872528,
          -63.86888102956264,
          -60.29205415933851,
          -56.254534429739635,
          -51.6969849149434,
          -46.55242613358407,
          -40.74525169281562,
          -34.19011714800169,
          -26.79068574829212,
          -18.43821263508586,
          -9.009946686222321,
          1.632673481204563,
          13.646055861638402,
          27.20675369244441,
          42.51406014744677,
          59.792937225222545,
          79.2973218762084,
          101.31385795672216,
          126.16610885611468,
          154.21931270742422,
          185.8857500659156,
          221.6308029409529,
          261.97979422704054,
          307.52570804891457,
          358.9379044818113,
          416.9719567217582,
          482.48075527668357,
          556.4270423697616,
          639.8975607653516,
          734.1190249540621,
          840.476149415547,
          960.5319989092462,
          1096.0509598686813,
          1249.0246704956576,
          1421.7012906328969,
          1616.6185415762916,
          1836.6410013924174,
          2085.002203847491,
          "",
          "",
          "",
          "",
          "",
          "",
          "",
          "",
          "",
          "",
          "",
          "",
          "",
          "",
          "",
          ""
         ]
        },
        {
         "line": {
          "color": "rgba(55, 128, 191, 1.0)",
          "dash": "solid",
          "shape": "linear",
          "width": 1.3
         },
         "marker": {
          "size": 4,
          "symbol": "circle"
         },
         "mode": "lines+markers",
         "name": "sigm",
         "text": "",
         "type": "scatter",
         "x": [
          "20 Feb",
          "21 Feb",
          "22 Feb",
          "23 Feb",
          "24 Feb",
          "25 Feb",
          "26 Feb",
          "27 Feb",
          "28 Feb",
          "29 Feb",
          "01 Mar",
          "02 Mar",
          "03 Mar",
          "04 Mar",
          "05 Mar",
          "06 Mar",
          "07 Mar",
          "08 Mar",
          "09 Mar",
          "10 Mar",
          "11 Mar",
          "12 Mar",
          "13 Mar",
          "14 Mar",
          "15 Mar",
          "16 Mar",
          "17 Mar",
          "18 Mar",
          "19 Mar",
          "20 Mar",
          "21 Mar",
          "22 Mar",
          "23 Mar",
          "24 Mar",
          "25 Mar",
          "26 Mar",
          "27 Mar",
          "28 Mar",
          "29 Mar",
          "30 Mar",
          "31 Mar",
          "01 Apr",
          "02 Apr",
          "03 Apr",
          "04 Apr",
          "05 Apr",
          "06 Apr",
          "07 Apr",
          "08 Apr",
          "09 Apr",
          "10 Apr",
          "11 Apr",
          "12 Apr",
          "13 Apr"
         ],
         "y": [
          -2.6810104094930893,
          -2.4817766662898353,
          -2.22082607459679,
          -1.8790701883262693,
          -1.431537892111825,
          -0.845577648418272,
          -0.07852119396356283,
          0.9253448734103968,
          2.238691334828751,
          3.956177570350778,
          6.200882837422533,
          9.132460614777534,
          12.957363976950612,
          17.941474130230052,
          24.425366495926745,
          32.84220196575485,
          43.73773219472723,
          57.79101123092839,
          75.83292944877866,
          98.85745422518875,
          128.0174236196437,
          164.59320981990157,
          209.91962633884748,
          265.2563929271526,
          331.5939326504781,
          409.40320337458974,
          498.36677705039347,
          597.1617822400758,
          703.3859079242477,
          813.7021595396967,
          924.2152430784017,
          1031.0022350594652,
          1130.6511738584156,
          1220.6575049910869,
          1299.5924173611916,
          1367.047659134785,
          1423.428405007021,
          1469.685796515201,
          1507.0627364437676,
          1536.8934190159537,
          1560.4676188569147,
          1578.9526592147865,
          1593.3586515499237,
          1604.532197315836,
          1613.1665268499828,
          1619.8195863263697,
          1624.9346930271288,
          1628.8606913293977,
          1631.8700853884732,
          1634.174569605421,
          1635.9379086641165,
          1637.2863852313967,
          1638.317142329001,
          1639.1047691028703
         ]
        },
        {
         "line": {
          "color": "rgba(50, 171, 96, 1.0)",
          "dash": "solid",
          "shape": "linear",
          "width": 1.3
         },
         "marker": {
          "size": 8,
          "symbol": "circle"
         },
         "mode": "markers",
         "name": "Verona",
         "text": "",
         "type": "scatter",
         "x": [
          "20 Feb",
          "21 Feb",
          "22 Feb",
          "23 Feb",
          "24 Feb",
          "25 Feb",
          "26 Feb",
          "27 Feb",
          "28 Feb",
          "29 Feb",
          "01 Mar",
          "02 Mar",
          "03 Mar",
          "04 Mar",
          "05 Mar",
          "06 Mar",
          "07 Mar",
          "08 Mar",
          "09 Mar",
          "10 Mar",
          "11 Mar",
          "12 Mar",
          "13 Mar",
          "14 Mar",
          "15 Mar",
          "16 Mar",
          "17 Mar",
          "18 Mar",
          "19 Mar",
          "20 Mar",
          "21 Mar",
          "22 Mar",
          "23 Mar",
          "24 Mar",
          "25 Mar",
          "26 Mar",
          "27 Mar",
          "28 Mar",
          "29 Mar",
          "30 Mar",
          "31 Mar",
          "01 Apr",
          "02 Apr",
          "03 Apr",
          "04 Apr",
          "05 Apr",
          "06 Apr",
          "07 Apr",
          "08 Apr",
          "09 Apr",
          "10 Apr",
          "11 Apr",
          "12 Apr",
          "13 Apr"
         ],
         "y": [
          "",
          "",
          "",
          "",
          0.0,
          0.0,
          0.0,
          0.0,
          0.0,
          0.0,
          2.0,
          8.0,
          17.0,
          21.0,
          25.0,
          42.0,
          52.0,
          63.0,
          73.0,
          96.0,
          110.0,
          150.0,
          210.0,
          275.0,
          335.0,
          425.0,
          481.0,
          626.0,
          686.0,
          784.0,
          954.0,
          1046.0,
          1099.0,
          1228.0,
          1304.0,
          "",
          "",
          "",
          "",
          "",
          "",
          "",
          "",
          "",
          "",
          "",
          "",
          "",
          "",
          "",
          "",
          "",
          "",
          ""
         ]
        },
        {
         "marker": {
          "color": "rgba(255, 0, 0, 125)",
          "size": 8
         },
         "mode": "markers",
         "name": "flex",
         "type": "scatter",
         "x": [
          "20 Mar"
         ],
         "y": [
          819.1628920362094
         ]
        }
       ],
       "layout": {
        "legend": {
         "bgcolor": "#FFFFFF",
         "font": {
          "color": "#4D5663"
         }
        },
        "paper_bgcolor": "#FFFFFF",
        "plot_bgcolor": "#FFFFFF",
        "template": {
         "data": {
          "bar": [
           {
            "error_x": {
             "color": "#2a3f5f"
            },
            "error_y": {
             "color": "#2a3f5f"
            },
            "marker": {
             "line": {
              "color": "#E5ECF6",
              "width": 0.5
             }
            },
            "type": "bar"
           }
          ],
          "barpolar": [
           {
            "marker": {
             "line": {
              "color": "#E5ECF6",
              "width": 0.5
             }
            },
            "type": "barpolar"
           }
          ],
          "carpet": [
           {
            "aaxis": {
             "endlinecolor": "#2a3f5f",
             "gridcolor": "white",
             "linecolor": "white",
             "minorgridcolor": "white",
             "startlinecolor": "#2a3f5f"
            },
            "baxis": {
             "endlinecolor": "#2a3f5f",
             "gridcolor": "white",
             "linecolor": "white",
             "minorgridcolor": "white",
             "startlinecolor": "#2a3f5f"
            },
            "type": "carpet"
           }
          ],
          "choropleth": [
           {
            "colorbar": {
             "outlinewidth": 0,
             "ticks": ""
            },
            "type": "choropleth"
           }
          ],
          "contour": [
           {
            "colorbar": {
             "outlinewidth": 0,
             "ticks": ""
            },
            "colorscale": [
             [
              0.0,
              "#0d0887"
             ],
             [
              0.1111111111111111,
              "#46039f"
             ],
             [
              0.2222222222222222,
              "#7201a8"
             ],
             [
              0.3333333333333333,
              "#9c179e"
             ],
             [
              0.4444444444444444,
              "#bd3786"
             ],
             [
              0.5555555555555556,
              "#d8576b"
             ],
             [
              0.6666666666666666,
              "#ed7953"
             ],
             [
              0.7777777777777778,
              "#fb9f3a"
             ],
             [
              0.8888888888888888,
              "#fdca26"
             ],
             [
              1.0,
              "#f0f921"
             ]
            ],
            "type": "contour"
           }
          ],
          "contourcarpet": [
           {
            "colorbar": {
             "outlinewidth": 0,
             "ticks": ""
            },
            "type": "contourcarpet"
           }
          ],
          "heatmap": [
           {
            "colorbar": {
             "outlinewidth": 0,
             "ticks": ""
            },
            "colorscale": [
             [
              0.0,
              "#0d0887"
             ],
             [
              0.1111111111111111,
              "#46039f"
             ],
             [
              0.2222222222222222,
              "#7201a8"
             ],
             [
              0.3333333333333333,
              "#9c179e"
             ],
             [
              0.4444444444444444,
              "#bd3786"
             ],
             [
              0.5555555555555556,
              "#d8576b"
             ],
             [
              0.6666666666666666,
              "#ed7953"
             ],
             [
              0.7777777777777778,
              "#fb9f3a"
             ],
             [
              0.8888888888888888,
              "#fdca26"
             ],
             [
              1.0,
              "#f0f921"
             ]
            ],
            "type": "heatmap"
           }
          ],
          "heatmapgl": [
           {
            "colorbar": {
             "outlinewidth": 0,
             "ticks": ""
            },
            "colorscale": [
             [
              0.0,
              "#0d0887"
             ],
             [
              0.1111111111111111,
              "#46039f"
             ],
             [
              0.2222222222222222,
              "#7201a8"
             ],
             [
              0.3333333333333333,
              "#9c179e"
             ],
             [
              0.4444444444444444,
              "#bd3786"
             ],
             [
              0.5555555555555556,
              "#d8576b"
             ],
             [
              0.6666666666666666,
              "#ed7953"
             ],
             [
              0.7777777777777778,
              "#fb9f3a"
             ],
             [
              0.8888888888888888,
              "#fdca26"
             ],
             [
              1.0,
              "#f0f921"
             ]
            ],
            "type": "heatmapgl"
           }
          ],
          "histogram": [
           {
            "marker": {
             "colorbar": {
              "outlinewidth": 0,
              "ticks": ""
             }
            },
            "type": "histogram"
           }
          ],
          "histogram2d": [
           {
            "colorbar": {
             "outlinewidth": 0,
             "ticks": ""
            },
            "colorscale": [
             [
              0.0,
              "#0d0887"
             ],
             [
              0.1111111111111111,
              "#46039f"
             ],
             [
              0.2222222222222222,
              "#7201a8"
             ],
             [
              0.3333333333333333,
              "#9c179e"
             ],
             [
              0.4444444444444444,
              "#bd3786"
             ],
             [
              0.5555555555555556,
              "#d8576b"
             ],
             [
              0.6666666666666666,
              "#ed7953"
             ],
             [
              0.7777777777777778,
              "#fb9f3a"
             ],
             [
              0.8888888888888888,
              "#fdca26"
             ],
             [
              1.0,
              "#f0f921"
             ]
            ],
            "type": "histogram2d"
           }
          ],
          "histogram2dcontour": [
           {
            "colorbar": {
             "outlinewidth": 0,
             "ticks": ""
            },
            "colorscale": [
             [
              0.0,
              "#0d0887"
             ],
             [
              0.1111111111111111,
              "#46039f"
             ],
             [
              0.2222222222222222,
              "#7201a8"
             ],
             [
              0.3333333333333333,
              "#9c179e"
             ],
             [
              0.4444444444444444,
              "#bd3786"
             ],
             [
              0.5555555555555556,
              "#d8576b"
             ],
             [
              0.6666666666666666,
              "#ed7953"
             ],
             [
              0.7777777777777778,
              "#fb9f3a"
             ],
             [
              0.8888888888888888,
              "#fdca26"
             ],
             [
              1.0,
              "#f0f921"
             ]
            ],
            "type": "histogram2dcontour"
           }
          ],
          "mesh3d": [
           {
            "colorbar": {
             "outlinewidth": 0,
             "ticks": ""
            },
            "type": "mesh3d"
           }
          ],
          "parcoords": [
           {
            "line": {
             "colorbar": {
              "outlinewidth": 0,
              "ticks": ""
             }
            },
            "type": "parcoords"
           }
          ],
          "pie": [
           {
            "automargin": true,
            "type": "pie"
           }
          ],
          "scatter": [
           {
            "marker": {
             "colorbar": {
              "outlinewidth": 0,
              "ticks": ""
             }
            },
            "type": "scatter"
           }
          ],
          "scatter3d": [
           {
            "line": {
             "colorbar": {
              "outlinewidth": 0,
              "ticks": ""
             }
            },
            "marker": {
             "colorbar": {
              "outlinewidth": 0,
              "ticks": ""
             }
            },
            "type": "scatter3d"
           }
          ],
          "scattercarpet": [
           {
            "marker": {
             "colorbar": {
              "outlinewidth": 0,
              "ticks": ""
             }
            },
            "type": "scattercarpet"
           }
          ],
          "scattergeo": [
           {
            "marker": {
             "colorbar": {
              "outlinewidth": 0,
              "ticks": ""
             }
            },
            "type": "scattergeo"
           }
          ],
          "scattergl": [
           {
            "marker": {
             "colorbar": {
              "outlinewidth": 0,
              "ticks": ""
             }
            },
            "type": "scattergl"
           }
          ],
          "scattermapbox": [
           {
            "marker": {
             "colorbar": {
              "outlinewidth": 0,
              "ticks": ""
             }
            },
            "type": "scattermapbox"
           }
          ],
          "scatterpolar": [
           {
            "marker": {
             "colorbar": {
              "outlinewidth": 0,
              "ticks": ""
             }
            },
            "type": "scatterpolar"
           }
          ],
          "scatterpolargl": [
           {
            "marker": {
             "colorbar": {
              "outlinewidth": 0,
              "ticks": ""
             }
            },
            "type": "scatterpolargl"
           }
          ],
          "scatterternary": [
           {
            "marker": {
             "colorbar": {
              "outlinewidth": 0,
              "ticks": ""
             }
            },
            "type": "scatterternary"
           }
          ],
          "surface": [
           {
            "colorbar": {
             "outlinewidth": 0,
             "ticks": ""
            },
            "colorscale": [
             [
              0.0,
              "#0d0887"
             ],
             [
              0.1111111111111111,
              "#46039f"
             ],
             [
              0.2222222222222222,
              "#7201a8"
             ],
             [
              0.3333333333333333,
              "#9c179e"
             ],
             [
              0.4444444444444444,
              "#bd3786"
             ],
             [
              0.5555555555555556,
              "#d8576b"
             ],
             [
              0.6666666666666666,
              "#ed7953"
             ],
             [
              0.7777777777777778,
              "#fb9f3a"
             ],
             [
              0.8888888888888888,
              "#fdca26"
             ],
             [
              1.0,
              "#f0f921"
             ]
            ],
            "type": "surface"
           }
          ],
          "table": [
           {
            "cells": {
             "fill": {
              "color": "#EBF0F8"
             },
             "line": {
              "color": "white"
             }
            },
            "header": {
             "fill": {
              "color": "#C8D4E3"
             },
             "line": {
              "color": "white"
             }
            },
            "type": "table"
           }
          ]
         },
         "layout": {
          "annotationdefaults": {
           "arrowcolor": "#2a3f5f",
           "arrowhead": 0,
           "arrowwidth": 1
          },
          "coloraxis": {
           "colorbar": {
            "outlinewidth": 0,
            "ticks": ""
           }
          },
          "colorscale": {
           "diverging": [
            [
             0,
             "#8e0152"
            ],
            [
             0.1,
             "#c51b7d"
            ],
            [
             0.2,
             "#de77ae"
            ],
            [
             0.3,
             "#f1b6da"
            ],
            [
             0.4,
             "#fde0ef"
            ],
            [
             0.5,
             "#f7f7f7"
            ],
            [
             0.6,
             "#e6f5d0"
            ],
            [
             0.7,
             "#b8e186"
            ],
            [
             0.8,
             "#7fbc41"
            ],
            [
             0.9,
             "#4d9221"
            ],
            [
             1,
             "#276419"
            ]
           ],
           "sequential": [
            [
             0.0,
             "#0d0887"
            ],
            [
             0.1111111111111111,
             "#46039f"
            ],
            [
             0.2222222222222222,
             "#7201a8"
            ],
            [
             0.3333333333333333,
             "#9c179e"
            ],
            [
             0.4444444444444444,
             "#bd3786"
            ],
            [
             0.5555555555555556,
             "#d8576b"
            ],
            [
             0.6666666666666666,
             "#ed7953"
            ],
            [
             0.7777777777777778,
             "#fb9f3a"
            ],
            [
             0.8888888888888888,
             "#fdca26"
            ],
            [
             1.0,
             "#f0f921"
            ]
           ],
           "sequentialminus": [
            [
             0.0,
             "#0d0887"
            ],
            [
             0.1111111111111111,
             "#46039f"
            ],
            [
             0.2222222222222222,
             "#7201a8"
            ],
            [
             0.3333333333333333,
             "#9c179e"
            ],
            [
             0.4444444444444444,
             "#bd3786"
            ],
            [
             0.5555555555555556,
             "#d8576b"
            ],
            [
             0.6666666666666666,
             "#ed7953"
            ],
            [
             0.7777777777777778,
             "#fb9f3a"
            ],
            [
             0.8888888888888888,
             "#fdca26"
            ],
            [
             1.0,
             "#f0f921"
            ]
           ]
          },
          "colorway": [
           "#636efa",
           "#EF553B",
           "#00cc96",
           "#ab63fa",
           "#FFA15A",
           "#19d3f3",
           "#FF6692",
           "#B6E880",
           "#FF97FF",
           "#FECB52"
          ],
          "font": {
           "color": "#2a3f5f"
          },
          "geo": {
           "bgcolor": "white",
           "lakecolor": "white",
           "landcolor": "#E5ECF6",
           "showlakes": true,
           "showland": true,
           "subunitcolor": "white"
          },
          "hoverlabel": {
           "align": "left"
          },
          "hovermode": "closest",
          "mapbox": {
           "style": "light"
          },
          "paper_bgcolor": "white",
          "plot_bgcolor": "#E5ECF6",
          "polar": {
           "angularaxis": {
            "gridcolor": "white",
            "linecolor": "white",
            "ticks": ""
           },
           "bgcolor": "#E5ECF6",
           "radialaxis": {
            "gridcolor": "white",
            "linecolor": "white",
            "ticks": ""
           }
          },
          "scene": {
           "xaxis": {
            "backgroundcolor": "#E5ECF6",
            "gridcolor": "white",
            "gridwidth": 2,
            "linecolor": "white",
            "showbackground": true,
            "ticks": "",
            "zerolinecolor": "white"
           },
           "yaxis": {
            "backgroundcolor": "#E5ECF6",
            "gridcolor": "white",
            "gridwidth": 2,
            "linecolor": "white",
            "showbackground": true,
            "ticks": "",
            "zerolinecolor": "white"
           },
           "zaxis": {
            "backgroundcolor": "#E5ECF6",
            "gridcolor": "white",
            "gridwidth": 2,
            "linecolor": "white",
            "showbackground": true,
            "ticks": "",
            "zerolinecolor": "white"
           }
          },
          "shapedefaults": {
           "line": {
            "color": "#2a3f5f"
           }
          },
          "ternary": {
           "aaxis": {
            "gridcolor": "white",
            "linecolor": "white",
            "ticks": ""
           },
           "baxis": {
            "gridcolor": "white",
            "linecolor": "white",
            "ticks": ""
           },
           "bgcolor": "#E5ECF6",
           "caxis": {
            "gridcolor": "white",
            "linecolor": "white",
            "ticks": ""
           }
          },
          "title": {
           "x": 0.05
          },
          "xaxis": {
           "automargin": true,
           "gridcolor": "white",
           "linecolor": "white",
           "ticks": "",
           "title": {
            "standoff": 15
           },
           "zerolinecolor": "white",
           "zerolinewidth": 2
          },
          "yaxis": {
           "automargin": true,
           "gridcolor": "white",
           "linecolor": "white",
           "ticks": "",
           "title": {
            "standoff": 15
           },
           "zerolinecolor": "white",
           "zerolinewidth": 2
          }
         }
        },
        "title": {
         "font": {
          "color": "#4D5663"
         },
         "text": "Verona - totale_casi"
        },
        "xaxis": {
         "gridcolor": "#E1E5ED",
         "showgrid": true,
         "tickfont": {
          "color": "#4D5663"
         },
         "title": {
          "font": {
           "color": "#4D5663"
          },
          "text": ""
         },
         "zerolinecolor": "#E1E5ED"
        },
        "yaxis": {
         "gridcolor": "#E1E5ED",
         "showgrid": true,
         "tickfont": {
          "color": "#4D5663"
         },
         "title": {
          "font": {
           "color": "#4D5663"
          },
          "text": "case"
         },
         "zerolinecolor": "#E1E5ED"
        }
       }
      },
      "text/html": "<div>\n        \n        \n            <div id=\"0ebd66f3-9b40-4962-a993-fb62dd010918\" class=\"plotly-graph-div\" style=\"height:525px; width:100%;\"></div>\n            <script type=\"text/javascript\">\n                require([\"plotly\"], function(Plotly) {\n                    window.PLOTLYENV=window.PLOTLYENV || {};\n                    \n                if (document.getElementById(\"0ebd66f3-9b40-4962-a993-fb62dd010918\")) {\n                    Plotly.newPlot(\n                        '0ebd66f3-9b40-4962-a993-fb62dd010918',\n                        [{\"line\": {\"color\": \"rgba(255, 153, 51, 1.0)\", \"dash\": \"solid\", \"shape\": \"linear\", \"width\": 1.3}, \"marker\": {\"size\": 4, \"symbol\": \"circle\"}, \"mode\": \"lines+markers\", \"name\": \"exp\", \"text\": \"\", \"type\": \"scatter\", \"x\": [\"20 Feb\", \"21 Feb\", \"22 Feb\", \"23 Feb\", \"24 Feb\", \"25 Feb\", \"26 Feb\", \"27 Feb\", \"28 Feb\", \"29 Feb\", \"01 Mar\", \"02 Mar\", \"03 Mar\", \"04 Mar\", \"05 Mar\", \"06 Mar\", \"07 Mar\", \"08 Mar\", \"09 Mar\", \"10 Mar\", \"11 Mar\", \"12 Mar\", \"13 Mar\", \"14 Mar\", \"15 Mar\", \"16 Mar\", \"17 Mar\", \"18 Mar\", \"19 Mar\", \"20 Mar\", \"21 Mar\", \"22 Mar\", \"23 Mar\", \"24 Mar\", \"25 Mar\", \"26 Mar\", \"27 Mar\", \"28 Mar\", \"29 Mar\", \"30 Mar\", \"31 Mar\", \"01 Apr\", \"02 Apr\", \"03 Apr\", \"04 Apr\", \"05 Apr\", \"06 Apr\", \"07 Apr\", \"08 Apr\", \"09 Apr\", \"10 Apr\", \"11 Apr\", \"12 Apr\", \"13 Apr\"], \"y\": [-67.03758144872528, -63.86888102956264, -60.29205415933851, -56.254534429739635, -51.6969849149434, -46.55242613358407, -40.74525169281562, -34.19011714800169, -26.79068574829212, -18.43821263508586, -9.009946686222321, 1.632673481204563, 13.646055861638402, 27.20675369244441, 42.51406014744677, 59.792937225222545, 79.2973218762084, 101.31385795672216, 126.16610885611468, 154.21931270742422, 185.8857500659156, 221.6308029409529, 261.97979422704054, 307.52570804891457, 358.9379044818113, 416.9719567217582, 482.48075527668357, 556.4270423697616, 639.8975607653516, 734.1190249540621, 840.476149415547, 960.5319989092462, 1096.0509598686813, 1249.0246704956576, 1421.7012906328969, 1616.6185415762916, 1836.6410013924174, 2085.002203847491, \"\", \"\", \"\", \"\", \"\", \"\", \"\", \"\", \"\", \"\", \"\", \"\", \"\", \"\", \"\", \"\"]}, {\"line\": {\"color\": \"rgba(55, 128, 191, 1.0)\", \"dash\": \"solid\", \"shape\": \"linear\", \"width\": 1.3}, \"marker\": {\"size\": 4, \"symbol\": \"circle\"}, \"mode\": \"lines+markers\", \"name\": \"sigm\", \"text\": \"\", \"type\": \"scatter\", \"x\": [\"20 Feb\", \"21 Feb\", \"22 Feb\", \"23 Feb\", \"24 Feb\", \"25 Feb\", \"26 Feb\", \"27 Feb\", \"28 Feb\", \"29 Feb\", \"01 Mar\", \"02 Mar\", \"03 Mar\", \"04 Mar\", \"05 Mar\", \"06 Mar\", \"07 Mar\", \"08 Mar\", \"09 Mar\", \"10 Mar\", \"11 Mar\", \"12 Mar\", \"13 Mar\", \"14 Mar\", \"15 Mar\", \"16 Mar\", \"17 Mar\", \"18 Mar\", \"19 Mar\", \"20 Mar\", \"21 Mar\", \"22 Mar\", \"23 Mar\", \"24 Mar\", \"25 Mar\", \"26 Mar\", \"27 Mar\", \"28 Mar\", \"29 Mar\", \"30 Mar\", \"31 Mar\", \"01 Apr\", \"02 Apr\", \"03 Apr\", \"04 Apr\", \"05 Apr\", \"06 Apr\", \"07 Apr\", \"08 Apr\", \"09 Apr\", \"10 Apr\", \"11 Apr\", \"12 Apr\", \"13 Apr\"], \"y\": [-2.6810104094930893, -2.4817766662898353, -2.22082607459679, -1.8790701883262693, -1.431537892111825, -0.845577648418272, -0.07852119396356283, 0.9253448734103968, 2.238691334828751, 3.956177570350778, 6.200882837422533, 9.132460614777534, 12.957363976950612, 17.941474130230052, 24.425366495926745, 32.84220196575485, 43.73773219472723, 57.79101123092839, 75.83292944877866, 98.85745422518875, 128.0174236196437, 164.59320981990157, 209.91962633884748, 265.2563929271526, 331.5939326504781, 409.40320337458974, 498.36677705039347, 597.1617822400758, 703.3859079242477, 813.7021595396967, 924.2152430784017, 1031.0022350594652, 1130.6511738584156, 1220.6575049910869, 1299.5924173611916, 1367.047659134785, 1423.428405007021, 1469.685796515201, 1507.0627364437676, 1536.8934190159537, 1560.4676188569147, 1578.9526592147865, 1593.3586515499237, 1604.532197315836, 1613.1665268499828, 1619.8195863263697, 1624.9346930271288, 1628.8606913293977, 1631.8700853884732, 1634.174569605421, 1635.9379086641165, 1637.2863852313967, 1638.317142329001, 1639.1047691028703]}, {\"line\": {\"color\": \"rgba(50, 171, 96, 1.0)\", \"dash\": \"solid\", \"shape\": \"linear\", \"width\": 1.3}, \"marker\": {\"size\": 8, \"symbol\": \"circle\"}, \"mode\": \"markers\", \"name\": \"Verona\", \"text\": \"\", \"type\": \"scatter\", \"x\": [\"20 Feb\", \"21 Feb\", \"22 Feb\", \"23 Feb\", \"24 Feb\", \"25 Feb\", \"26 Feb\", \"27 Feb\", \"28 Feb\", \"29 Feb\", \"01 Mar\", \"02 Mar\", \"03 Mar\", \"04 Mar\", \"05 Mar\", \"06 Mar\", \"07 Mar\", \"08 Mar\", \"09 Mar\", \"10 Mar\", \"11 Mar\", \"12 Mar\", \"13 Mar\", \"14 Mar\", \"15 Mar\", \"16 Mar\", \"17 Mar\", \"18 Mar\", \"19 Mar\", \"20 Mar\", \"21 Mar\", \"22 Mar\", \"23 Mar\", \"24 Mar\", \"25 Mar\", \"26 Mar\", \"27 Mar\", \"28 Mar\", \"29 Mar\", \"30 Mar\", \"31 Mar\", \"01 Apr\", \"02 Apr\", \"03 Apr\", \"04 Apr\", \"05 Apr\", \"06 Apr\", \"07 Apr\", \"08 Apr\", \"09 Apr\", \"10 Apr\", \"11 Apr\", \"12 Apr\", \"13 Apr\"], \"y\": [\"\", \"\", \"\", \"\", 0.0, 0.0, 0.0, 0.0, 0.0, 0.0, 2.0, 8.0, 17.0, 21.0, 25.0, 42.0, 52.0, 63.0, 73.0, 96.0, 110.0, 150.0, 210.0, 275.0, 335.0, 425.0, 481.0, 626.0, 686.0, 784.0, 954.0, 1046.0, 1099.0, 1228.0, 1304.0, \"\", \"\", \"\", \"\", \"\", \"\", \"\", \"\", \"\", \"\", \"\", \"\", \"\", \"\", \"\", \"\", \"\", \"\", \"\"]}, {\"marker\": {\"color\": \"rgba(255, 0, 0, 125)\", \"size\": 8}, \"mode\": \"markers\", \"name\": \"flex\", \"type\": \"scatter\", \"x\": [\"20 Mar\"], \"y\": [819.1628920362094]}],\n                        {\"legend\": {\"bgcolor\": \"#FFFFFF\", \"font\": {\"color\": \"#4D5663\"}}, \"paper_bgcolor\": \"#FFFFFF\", \"plot_bgcolor\": \"#FFFFFF\", \"template\": {\"data\": {\"bar\": [{\"error_x\": {\"color\": \"#2a3f5f\"}, \"error_y\": {\"color\": \"#2a3f5f\"}, \"marker\": {\"line\": {\"color\": \"#E5ECF6\", \"width\": 0.5}}, \"type\": \"bar\"}], \"barpolar\": [{\"marker\": {\"line\": {\"color\": \"#E5ECF6\", \"width\": 0.5}}, \"type\": \"barpolar\"}], \"carpet\": [{\"aaxis\": {\"endlinecolor\": \"#2a3f5f\", \"gridcolor\": \"white\", \"linecolor\": \"white\", \"minorgridcolor\": \"white\", \"startlinecolor\": \"#2a3f5f\"}, \"baxis\": {\"endlinecolor\": \"#2a3f5f\", \"gridcolor\": \"white\", \"linecolor\": \"white\", \"minorgridcolor\": \"white\", \"startlinecolor\": \"#2a3f5f\"}, \"type\": \"carpet\"}], \"choropleth\": [{\"colorbar\": {\"outlinewidth\": 0, \"ticks\": \"\"}, \"type\": \"choropleth\"}], \"contour\": [{\"colorbar\": {\"outlinewidth\": 0, \"ticks\": \"\"}, \"colorscale\": [[0.0, \"#0d0887\"], [0.1111111111111111, \"#46039f\"], [0.2222222222222222, \"#7201a8\"], [0.3333333333333333, \"#9c179e\"], [0.4444444444444444, \"#bd3786\"], [0.5555555555555556, \"#d8576b\"], [0.6666666666666666, \"#ed7953\"], [0.7777777777777778, \"#fb9f3a\"], [0.8888888888888888, \"#fdca26\"], [1.0, \"#f0f921\"]], \"type\": \"contour\"}], \"contourcarpet\": [{\"colorbar\": {\"outlinewidth\": 0, \"ticks\": \"\"}, \"type\": \"contourcarpet\"}], \"heatmap\": [{\"colorbar\": {\"outlinewidth\": 0, \"ticks\": \"\"}, \"colorscale\": [[0.0, \"#0d0887\"], [0.1111111111111111, \"#46039f\"], [0.2222222222222222, \"#7201a8\"], [0.3333333333333333, \"#9c179e\"], [0.4444444444444444, \"#bd3786\"], [0.5555555555555556, \"#d8576b\"], [0.6666666666666666, \"#ed7953\"], [0.7777777777777778, \"#fb9f3a\"], [0.8888888888888888, \"#fdca26\"], [1.0, \"#f0f921\"]], \"type\": \"heatmap\"}], \"heatmapgl\": [{\"colorbar\": {\"outlinewidth\": 0, \"ticks\": \"\"}, \"colorscale\": [[0.0, \"#0d0887\"], [0.1111111111111111, \"#46039f\"], [0.2222222222222222, \"#7201a8\"], [0.3333333333333333, \"#9c179e\"], [0.4444444444444444, \"#bd3786\"], [0.5555555555555556, \"#d8576b\"], [0.6666666666666666, \"#ed7953\"], [0.7777777777777778, \"#fb9f3a\"], [0.8888888888888888, \"#fdca26\"], [1.0, \"#f0f921\"]], \"type\": \"heatmapgl\"}], \"histogram\": [{\"marker\": {\"colorbar\": {\"outlinewidth\": 0, \"ticks\": \"\"}}, \"type\": \"histogram\"}], \"histogram2d\": [{\"colorbar\": {\"outlinewidth\": 0, \"ticks\": \"\"}, \"colorscale\": [[0.0, \"#0d0887\"], [0.1111111111111111, \"#46039f\"], [0.2222222222222222, \"#7201a8\"], [0.3333333333333333, \"#9c179e\"], [0.4444444444444444, \"#bd3786\"], [0.5555555555555556, \"#d8576b\"], [0.6666666666666666, \"#ed7953\"], [0.7777777777777778, \"#fb9f3a\"], [0.8888888888888888, \"#fdca26\"], [1.0, \"#f0f921\"]], \"type\": \"histogram2d\"}], \"histogram2dcontour\": [{\"colorbar\": {\"outlinewidth\": 0, \"ticks\": \"\"}, \"colorscale\": [[0.0, \"#0d0887\"], [0.1111111111111111, \"#46039f\"], [0.2222222222222222, \"#7201a8\"], [0.3333333333333333, \"#9c179e\"], [0.4444444444444444, \"#bd3786\"], [0.5555555555555556, \"#d8576b\"], [0.6666666666666666, \"#ed7953\"], [0.7777777777777778, \"#fb9f3a\"], [0.8888888888888888, \"#fdca26\"], [1.0, \"#f0f921\"]], \"type\": \"histogram2dcontour\"}], \"mesh3d\": [{\"colorbar\": {\"outlinewidth\": 0, \"ticks\": \"\"}, \"type\": \"mesh3d\"}], \"parcoords\": [{\"line\": {\"colorbar\": {\"outlinewidth\": 0, \"ticks\": \"\"}}, \"type\": \"parcoords\"}], \"pie\": [{\"automargin\": true, \"type\": \"pie\"}], \"scatter\": [{\"marker\": {\"colorbar\": {\"outlinewidth\": 0, \"ticks\": \"\"}}, \"type\": \"scatter\"}], \"scatter3d\": [{\"line\": {\"colorbar\": {\"outlinewidth\": 0, \"ticks\": \"\"}}, \"marker\": {\"colorbar\": {\"outlinewidth\": 0, \"ticks\": \"\"}}, \"type\": \"scatter3d\"}], \"scattercarpet\": [{\"marker\": {\"colorbar\": {\"outlinewidth\": 0, \"ticks\": \"\"}}, \"type\": \"scattercarpet\"}], \"scattergeo\": [{\"marker\": {\"colorbar\": {\"outlinewidth\": 0, \"ticks\": \"\"}}, \"type\": \"scattergeo\"}], \"scattergl\": [{\"marker\": {\"colorbar\": {\"outlinewidth\": 0, \"ticks\": \"\"}}, \"type\": \"scattergl\"}], \"scattermapbox\": [{\"marker\": {\"colorbar\": {\"outlinewidth\": 0, \"ticks\": \"\"}}, \"type\": \"scattermapbox\"}], \"scatterpolar\": [{\"marker\": {\"colorbar\": {\"outlinewidth\": 0, \"ticks\": \"\"}}, \"type\": \"scatterpolar\"}], \"scatterpolargl\": [{\"marker\": {\"colorbar\": {\"outlinewidth\": 0, \"ticks\": \"\"}}, \"type\": \"scatterpolargl\"}], \"scatterternary\": [{\"marker\": {\"colorbar\": {\"outlinewidth\": 0, \"ticks\": \"\"}}, \"type\": \"scatterternary\"}], \"surface\": [{\"colorbar\": {\"outlinewidth\": 0, \"ticks\": \"\"}, \"colorscale\": [[0.0, \"#0d0887\"], [0.1111111111111111, \"#46039f\"], [0.2222222222222222, \"#7201a8\"], [0.3333333333333333, \"#9c179e\"], [0.4444444444444444, \"#bd3786\"], [0.5555555555555556, \"#d8576b\"], [0.6666666666666666, \"#ed7953\"], [0.7777777777777778, \"#fb9f3a\"], [0.8888888888888888, \"#fdca26\"], [1.0, \"#f0f921\"]], \"type\": \"surface\"}], \"table\": [{\"cells\": {\"fill\": {\"color\": \"#EBF0F8\"}, \"line\": {\"color\": \"white\"}}, \"header\": {\"fill\": {\"color\": \"#C8D4E3\"}, \"line\": {\"color\": \"white\"}}, \"type\": \"table\"}]}, \"layout\": {\"annotationdefaults\": {\"arrowcolor\": \"#2a3f5f\", \"arrowhead\": 0, \"arrowwidth\": 1}, \"coloraxis\": {\"colorbar\": {\"outlinewidth\": 0, \"ticks\": \"\"}}, \"colorscale\": {\"diverging\": [[0, \"#8e0152\"], [0.1, \"#c51b7d\"], [0.2, \"#de77ae\"], [0.3, \"#f1b6da\"], [0.4, \"#fde0ef\"], [0.5, \"#f7f7f7\"], [0.6, \"#e6f5d0\"], [0.7, \"#b8e186\"], [0.8, \"#7fbc41\"], [0.9, \"#4d9221\"], [1, \"#276419\"]], \"sequential\": [[0.0, \"#0d0887\"], [0.1111111111111111, \"#46039f\"], [0.2222222222222222, \"#7201a8\"], [0.3333333333333333, \"#9c179e\"], [0.4444444444444444, \"#bd3786\"], [0.5555555555555556, \"#d8576b\"], [0.6666666666666666, \"#ed7953\"], [0.7777777777777778, \"#fb9f3a\"], [0.8888888888888888, \"#fdca26\"], [1.0, \"#f0f921\"]], \"sequentialminus\": [[0.0, \"#0d0887\"], [0.1111111111111111, \"#46039f\"], [0.2222222222222222, \"#7201a8\"], [0.3333333333333333, \"#9c179e\"], [0.4444444444444444, \"#bd3786\"], [0.5555555555555556, \"#d8576b\"], [0.6666666666666666, \"#ed7953\"], [0.7777777777777778, \"#fb9f3a\"], [0.8888888888888888, \"#fdca26\"], [1.0, \"#f0f921\"]]}, \"colorway\": [\"#636efa\", \"#EF553B\", \"#00cc96\", \"#ab63fa\", \"#FFA15A\", \"#19d3f3\", \"#FF6692\", \"#B6E880\", \"#FF97FF\", \"#FECB52\"], \"font\": {\"color\": \"#2a3f5f\"}, \"geo\": {\"bgcolor\": \"white\", \"lakecolor\": \"white\", \"landcolor\": \"#E5ECF6\", \"showlakes\": true, \"showland\": true, \"subunitcolor\": \"white\"}, \"hoverlabel\": {\"align\": \"left\"}, \"hovermode\": \"closest\", \"mapbox\": {\"style\": \"light\"}, \"paper_bgcolor\": \"white\", \"plot_bgcolor\": \"#E5ECF6\", \"polar\": {\"angularaxis\": {\"gridcolor\": \"white\", \"linecolor\": \"white\", \"ticks\": \"\"}, \"bgcolor\": \"#E5ECF6\", \"radialaxis\": {\"gridcolor\": \"white\", \"linecolor\": \"white\", \"ticks\": \"\"}}, \"scene\": {\"xaxis\": {\"backgroundcolor\": \"#E5ECF6\", \"gridcolor\": \"white\", \"gridwidth\": 2, \"linecolor\": \"white\", \"showbackground\": true, \"ticks\": \"\", \"zerolinecolor\": \"white\"}, \"yaxis\": {\"backgroundcolor\": \"#E5ECF6\", \"gridcolor\": \"white\", \"gridwidth\": 2, \"linecolor\": \"white\", \"showbackground\": true, \"ticks\": \"\", \"zerolinecolor\": \"white\"}, \"zaxis\": {\"backgroundcolor\": \"#E5ECF6\", \"gridcolor\": \"white\", \"gridwidth\": 2, \"linecolor\": \"white\", \"showbackground\": true, \"ticks\": \"\", \"zerolinecolor\": \"white\"}}, \"shapedefaults\": {\"line\": {\"color\": \"#2a3f5f\"}}, \"ternary\": {\"aaxis\": {\"gridcolor\": \"white\", \"linecolor\": \"white\", \"ticks\": \"\"}, \"baxis\": {\"gridcolor\": \"white\", \"linecolor\": \"white\", \"ticks\": \"\"}, \"bgcolor\": \"#E5ECF6\", \"caxis\": {\"gridcolor\": \"white\", \"linecolor\": \"white\", \"ticks\": \"\"}}, \"title\": {\"x\": 0.05}, \"xaxis\": {\"automargin\": true, \"gridcolor\": \"white\", \"linecolor\": \"white\", \"ticks\": \"\", \"title\": {\"standoff\": 15}, \"zerolinecolor\": \"white\", \"zerolinewidth\": 2}, \"yaxis\": {\"automargin\": true, \"gridcolor\": \"white\", \"linecolor\": \"white\", \"ticks\": \"\", \"title\": {\"standoff\": 15}, \"zerolinecolor\": \"white\", \"zerolinewidth\": 2}}}, \"title\": {\"font\": {\"color\": \"#4D5663\"}, \"text\": \"Verona - totale_casi\"}, \"xaxis\": {\"gridcolor\": \"#E1E5ED\", \"showgrid\": true, \"tickfont\": {\"color\": \"#4D5663\"}, \"title\": {\"font\": {\"color\": \"#4D5663\"}, \"text\": \"\"}, \"zerolinecolor\": \"#E1E5ED\"}, \"yaxis\": {\"gridcolor\": \"#E1E5ED\", \"showgrid\": true, \"tickfont\": {\"color\": \"#4D5663\"}, \"title\": {\"font\": {\"color\": \"#4D5663\"}, \"text\": \"case\"}, \"zerolinecolor\": \"#E1E5ED\"}},\n                        {\"responsive\": true}\n                    ).then(function(){\n                            \nvar gd = document.getElementById('0ebd66f3-9b40-4962-a993-fb62dd010918');\nvar x = new MutationObserver(function (mutations, observer) {{\n        var display = window.getComputedStyle(gd).display;\n        if (!display || display === 'none') {{\n            console.log([gd, 'removed!']);\n            Plotly.purge(gd);\n            observer.disconnect();\n        }}\n}});\n\n// Listen for the removal of the full notebook cells\nvar notebookContainer = gd.closest('#notebook-container');\nif (notebookContainer) {{\n    x.observe(notebookContainer, {childList: true});\n}}\n\n// Listen for the clearing of the current output cell\nvar outputEl = gd.closest('.output');\nif (outputEl) {{\n    x.observe(outputEl, {childList: true});\n}}\n\n                        })\n                };\n                });\n            </script>\n        </div>"
     },
     "metadata": {},
     "output_type": "display_data"
    }
   ],
   "source": [
    "import cufflinks as cf\n",
    "cf.go_offline()\n",
    "cf.set_config_file(offline=False, world_readable=True)\n",
    "import mytools.plot as mpl\n",
    "import mytools.dataio as io\n",
    "\n",
    "province = 'Verona'\n",
    "category = 'totale_casi'\n",
    "\n",
    "provinces = io.italy_load_provinces([province])\n",
    "\n",
    "intensive = io.italy_provinces_filter_by_category(provinces, category)\n",
    "\n",
    "mpl.iplot_analysis_plot(intensive, title=province+' - '+category, log_fitting=False)"
   ]
  },
  {
   "cell_type": "code",
   "execution_count": 2,
   "outputs": [
    {
     "data": {
      "application/vnd.plotly.v1+json": {
       "config": {
        "plotlyServerURL": "https://plot.ly"
       },
       "data": [
        {
         "line": {
          "color": "rgba(255, 153, 51, 1.0)",
          "dash": "solid",
          "shape": "linear",
          "width": 1.3
         },
         "marker": {
          "size": 4,
          "symbol": "circle"
         },
         "mode": "lines+markers",
         "name": "Belluno",
         "text": "",
         "type": "scatter",
         "x": [
          "24/02/20",
          "25/02/20",
          "26/02/20",
          "27/02/20",
          "28/02/20",
          "29/02/20",
          "01/03/20",
          "02/03/20",
          "03/03/20",
          "04/03/20",
          "05/03/20",
          "06/03/20",
          "07/03/20",
          "08/03/20",
          "09/03/20",
          "10/03/20",
          "11/03/20",
          "12/03/20",
          "13/03/20",
          "14/03/20",
          "15/03/20",
          "16/03/20",
          "17/03/20",
          "18/03/20",
          "19/03/20",
          "20/03/20",
          "21/03/20",
          "22/03/20",
          "23/03/20",
          "24/03/20",
          "25/03/20"
         ],
         "y": [
          0,
          0,
          0,
          0,
          0,
          0,
          0,
          3,
          5,
          7,
          7,
          7,
          11,
          23,
          29,
          29,
          30,
          48,
          59,
          78,
          82,
          101,
          109,
          140,
          150,
          195,
          212,
          226,
          254,
          273,
          298
         ]
        },
        {
         "line": {
          "color": "rgba(55, 128, 191, 1.0)",
          "dash": "solid",
          "shape": "linear",
          "width": 1.3
         },
         "marker": {
          "size": 4,
          "symbol": "circle"
         },
         "mode": "lines+markers",
         "name": "Padova",
         "text": "",
         "type": "scatter",
         "x": [
          "24/02/20",
          "25/02/20",
          "26/02/20",
          "27/02/20",
          "28/02/20",
          "29/02/20",
          "01/03/20",
          "02/03/20",
          "03/03/20",
          "04/03/20",
          "05/03/20",
          "06/03/20",
          "07/03/20",
          "08/03/20",
          "09/03/20",
          "10/03/20",
          "11/03/20",
          "12/03/20",
          "13/03/20",
          "14/03/20",
          "15/03/20",
          "16/03/20",
          "17/03/20",
          "18/03/20",
          "19/03/20",
          "20/03/20",
          "21/03/20",
          "22/03/20",
          "23/03/20",
          "24/03/20",
          "25/03/20"
         ],
         "y": [
          0,
          30,
          40,
          59,
          68,
          81,
          105,
          135,
          144,
          162,
          175,
          198,
          216,
          255,
          273,
          296,
          373,
          439,
          523,
          611,
          658,
          715,
          781,
          882,
          924,
          1026,
          1155,
          1277,
          1371,
          1464,
          1636
         ]
        },
        {
         "line": {
          "color": "rgba(50, 171, 96, 1.0)",
          "dash": "solid",
          "shape": "linear",
          "width": 1.3
         },
         "marker": {
          "size": 4,
          "symbol": "circle"
         },
         "mode": "lines+markers",
         "name": "Rovigo",
         "text": "",
         "type": "scatter",
         "x": [
          "24/02/20",
          "25/02/20",
          "26/02/20",
          "27/02/20",
          "28/02/20",
          "29/02/20",
          "01/03/20",
          "02/03/20",
          "03/03/20",
          "04/03/20",
          "05/03/20",
          "06/03/20",
          "07/03/20",
          "08/03/20",
          "09/03/20",
          "10/03/20",
          "11/03/20",
          "12/03/20",
          "13/03/20",
          "14/03/20",
          "15/03/20",
          "16/03/20",
          "17/03/20",
          "18/03/20",
          "19/03/20",
          "20/03/20",
          "21/03/20",
          "22/03/20",
          "23/03/20",
          "24/03/20",
          "25/03/20"
         ],
         "y": [
          0,
          0,
          0,
          0,
          0,
          0,
          0,
          0,
          1,
          4,
          5,
          5,
          5,
          5,
          7,
          10,
          14,
          13,
          16,
          27,
          27,
          27,
          28,
          33,
          52,
          67,
          68,
          76,
          80,
          82,
          87
         ]
        },
        {
         "line": {
          "color": "rgba(128, 0, 128, 1.0)",
          "dash": "solid",
          "shape": "linear",
          "width": 1.3
         },
         "marker": {
          "size": 4,
          "symbol": "circle"
         },
         "mode": "lines+markers",
         "name": "Treviso",
         "text": "",
         "type": "scatter",
         "x": [
          "24/02/20",
          "25/02/20",
          "26/02/20",
          "27/02/20",
          "28/02/20",
          "29/02/20",
          "01/03/20",
          "02/03/20",
          "03/03/20",
          "04/03/20",
          "05/03/20",
          "06/03/20",
          "07/03/20",
          "08/03/20",
          "09/03/20",
          "10/03/20",
          "11/03/20",
          "12/03/20",
          "13/03/20",
          "14/03/20",
          "15/03/20",
          "16/03/20",
          "17/03/20",
          "18/03/20",
          "19/03/20",
          "20/03/20",
          "21/03/20",
          "22/03/20",
          "23/03/20",
          "24/03/20",
          "25/03/20"
         ],
         "y": [
          0,
          1,
          2,
          22,
          23,
          35,
          43,
          72,
          82,
          86,
          89,
          103,
          110,
          126,
          136,
          158,
          185,
          279,
          327,
          376,
          413,
          452,
          502,
          591,
          637,
          719,
          806,
          935,
          999,
          1091,
          1177
         ]
        },
        {
         "line": {
          "color": "rgba(219, 64, 82, 1.0)",
          "dash": "solid",
          "shape": "linear",
          "width": 1.3
         },
         "marker": {
          "size": 4,
          "symbol": "circle"
         },
         "mode": "lines+markers",
         "name": "Venezia",
         "text": "",
         "type": "scatter",
         "x": [
          "24/02/20",
          "25/02/20",
          "26/02/20",
          "27/02/20",
          "28/02/20",
          "29/02/20",
          "01/03/20",
          "02/03/20",
          "03/03/20",
          "04/03/20",
          "05/03/20",
          "06/03/20",
          "07/03/20",
          "08/03/20",
          "09/03/20",
          "10/03/20",
          "11/03/20",
          "12/03/20",
          "13/03/20",
          "14/03/20",
          "15/03/20",
          "16/03/20",
          "17/03/20",
          "18/03/20",
          "19/03/20",
          "20/03/20",
          "21/03/20",
          "22/03/20",
          "23/03/20",
          "24/03/20",
          "25/03/20"
         ],
         "y": [
          0,
          7,
          8,
          14,
          15,
          19,
          24,
          48,
          48,
          59,
          73,
          85,
          100,
          126,
          130,
          152,
          179,
          205,
          248,
          282,
          328,
          356,
          378,
          426,
          475,
          574,
          666,
          732,
          799,
          837,
          874
         ]
        },
        {
         "line": {
          "color": "rgba(0, 128, 128, 1.0)",
          "dash": "solid",
          "shape": "linear",
          "width": 1.3
         },
         "marker": {
          "size": 4,
          "symbol": "circle"
         },
         "mode": "lines+markers",
         "name": "Verona",
         "text": "",
         "type": "scatter",
         "x": [
          "24/02/20",
          "25/02/20",
          "26/02/20",
          "27/02/20",
          "28/02/20",
          "29/02/20",
          "01/03/20",
          "02/03/20",
          "03/03/20",
          "04/03/20",
          "05/03/20",
          "06/03/20",
          "07/03/20",
          "08/03/20",
          "09/03/20",
          "10/03/20",
          "11/03/20",
          "12/03/20",
          "13/03/20",
          "14/03/20",
          "15/03/20",
          "16/03/20",
          "17/03/20",
          "18/03/20",
          "19/03/20",
          "20/03/20",
          "21/03/20",
          "22/03/20",
          "23/03/20",
          "24/03/20",
          "25/03/20"
         ],
         "y": [
          0,
          0,
          0,
          0,
          0,
          0,
          2,
          8,
          17,
          21,
          25,
          42,
          52,
          63,
          73,
          96,
          110,
          150,
          210,
          275,
          335,
          425,
          481,
          626,
          686,
          784,
          954,
          1046,
          1099,
          1228,
          1304
         ]
        },
        {
         "line": {
          "color": "rgba(255, 255, 51, 1.0)",
          "dash": "solid",
          "shape": "linear",
          "width": 1.3
         },
         "marker": {
          "size": 4,
          "symbol": "circle"
         },
         "mode": "lines+markers",
         "name": "Vicenza",
         "text": "",
         "type": "scatter",
         "x": [
          "24/02/20",
          "25/02/20",
          "26/02/20",
          "27/02/20",
          "28/02/20",
          "29/02/20",
          "01/03/20",
          "02/03/20",
          "03/03/20",
          "04/03/20",
          "05/03/20",
          "06/03/20",
          "07/03/20",
          "08/03/20",
          "09/03/20",
          "10/03/20",
          "11/03/20",
          "12/03/20",
          "13/03/20",
          "14/03/20",
          "15/03/20",
          "16/03/20",
          "17/03/20",
          "18/03/20",
          "19/03/20",
          "20/03/20",
          "21/03/20",
          "22/03/20",
          "23/03/20",
          "24/03/20",
          "25/03/20"
         ],
         "y": [
          0,
          0,
          0,
          3,
          3,
          3,
          3,
          3,
          5,
          10,
          19,
          24,
          37,
          50,
          53,
          73,
          92,
          122,
          141,
          164,
          235,
          287,
          325,
          393,
          424,
          518,
          572,
          631,
          691,
          744,
          824
         ]
        }
       ],
       "layout": {
        "legend": {
         "bgcolor": "#FFFFFF",
         "font": {
          "color": "#4D5663"
         }
        },
        "paper_bgcolor": "#FFFFFF",
        "plot_bgcolor": "#FFFFFF",
        "template": {
         "data": {
          "bar": [
           {
            "error_x": {
             "color": "#2a3f5f"
            },
            "error_y": {
             "color": "#2a3f5f"
            },
            "marker": {
             "line": {
              "color": "#E5ECF6",
              "width": 0.5
             }
            },
            "type": "bar"
           }
          ],
          "barpolar": [
           {
            "marker": {
             "line": {
              "color": "#E5ECF6",
              "width": 0.5
             }
            },
            "type": "barpolar"
           }
          ],
          "carpet": [
           {
            "aaxis": {
             "endlinecolor": "#2a3f5f",
             "gridcolor": "white",
             "linecolor": "white",
             "minorgridcolor": "white",
             "startlinecolor": "#2a3f5f"
            },
            "baxis": {
             "endlinecolor": "#2a3f5f",
             "gridcolor": "white",
             "linecolor": "white",
             "minorgridcolor": "white",
             "startlinecolor": "#2a3f5f"
            },
            "type": "carpet"
           }
          ],
          "choropleth": [
           {
            "colorbar": {
             "outlinewidth": 0,
             "ticks": ""
            },
            "type": "choropleth"
           }
          ],
          "contour": [
           {
            "colorbar": {
             "outlinewidth": 0,
             "ticks": ""
            },
            "colorscale": [
             [
              0.0,
              "#0d0887"
             ],
             [
              0.1111111111111111,
              "#46039f"
             ],
             [
              0.2222222222222222,
              "#7201a8"
             ],
             [
              0.3333333333333333,
              "#9c179e"
             ],
             [
              0.4444444444444444,
              "#bd3786"
             ],
             [
              0.5555555555555556,
              "#d8576b"
             ],
             [
              0.6666666666666666,
              "#ed7953"
             ],
             [
              0.7777777777777778,
              "#fb9f3a"
             ],
             [
              0.8888888888888888,
              "#fdca26"
             ],
             [
              1.0,
              "#f0f921"
             ]
            ],
            "type": "contour"
           }
          ],
          "contourcarpet": [
           {
            "colorbar": {
             "outlinewidth": 0,
             "ticks": ""
            },
            "type": "contourcarpet"
           }
          ],
          "heatmap": [
           {
            "colorbar": {
             "outlinewidth": 0,
             "ticks": ""
            },
            "colorscale": [
             [
              0.0,
              "#0d0887"
             ],
             [
              0.1111111111111111,
              "#46039f"
             ],
             [
              0.2222222222222222,
              "#7201a8"
             ],
             [
              0.3333333333333333,
              "#9c179e"
             ],
             [
              0.4444444444444444,
              "#bd3786"
             ],
             [
              0.5555555555555556,
              "#d8576b"
             ],
             [
              0.6666666666666666,
              "#ed7953"
             ],
             [
              0.7777777777777778,
              "#fb9f3a"
             ],
             [
              0.8888888888888888,
              "#fdca26"
             ],
             [
              1.0,
              "#f0f921"
             ]
            ],
            "type": "heatmap"
           }
          ],
          "heatmapgl": [
           {
            "colorbar": {
             "outlinewidth": 0,
             "ticks": ""
            },
            "colorscale": [
             [
              0.0,
              "#0d0887"
             ],
             [
              0.1111111111111111,
              "#46039f"
             ],
             [
              0.2222222222222222,
              "#7201a8"
             ],
             [
              0.3333333333333333,
              "#9c179e"
             ],
             [
              0.4444444444444444,
              "#bd3786"
             ],
             [
              0.5555555555555556,
              "#d8576b"
             ],
             [
              0.6666666666666666,
              "#ed7953"
             ],
             [
              0.7777777777777778,
              "#fb9f3a"
             ],
             [
              0.8888888888888888,
              "#fdca26"
             ],
             [
              1.0,
              "#f0f921"
             ]
            ],
            "type": "heatmapgl"
           }
          ],
          "histogram": [
           {
            "marker": {
             "colorbar": {
              "outlinewidth": 0,
              "ticks": ""
             }
            },
            "type": "histogram"
           }
          ],
          "histogram2d": [
           {
            "colorbar": {
             "outlinewidth": 0,
             "ticks": ""
            },
            "colorscale": [
             [
              0.0,
              "#0d0887"
             ],
             [
              0.1111111111111111,
              "#46039f"
             ],
             [
              0.2222222222222222,
              "#7201a8"
             ],
             [
              0.3333333333333333,
              "#9c179e"
             ],
             [
              0.4444444444444444,
              "#bd3786"
             ],
             [
              0.5555555555555556,
              "#d8576b"
             ],
             [
              0.6666666666666666,
              "#ed7953"
             ],
             [
              0.7777777777777778,
              "#fb9f3a"
             ],
             [
              0.8888888888888888,
              "#fdca26"
             ],
             [
              1.0,
              "#f0f921"
             ]
            ],
            "type": "histogram2d"
           }
          ],
          "histogram2dcontour": [
           {
            "colorbar": {
             "outlinewidth": 0,
             "ticks": ""
            },
            "colorscale": [
             [
              0.0,
              "#0d0887"
             ],
             [
              0.1111111111111111,
              "#46039f"
             ],
             [
              0.2222222222222222,
              "#7201a8"
             ],
             [
              0.3333333333333333,
              "#9c179e"
             ],
             [
              0.4444444444444444,
              "#bd3786"
             ],
             [
              0.5555555555555556,
              "#d8576b"
             ],
             [
              0.6666666666666666,
              "#ed7953"
             ],
             [
              0.7777777777777778,
              "#fb9f3a"
             ],
             [
              0.8888888888888888,
              "#fdca26"
             ],
             [
              1.0,
              "#f0f921"
             ]
            ],
            "type": "histogram2dcontour"
           }
          ],
          "mesh3d": [
           {
            "colorbar": {
             "outlinewidth": 0,
             "ticks": ""
            },
            "type": "mesh3d"
           }
          ],
          "parcoords": [
           {
            "line": {
             "colorbar": {
              "outlinewidth": 0,
              "ticks": ""
             }
            },
            "type": "parcoords"
           }
          ],
          "pie": [
           {
            "automargin": true,
            "type": "pie"
           }
          ],
          "scatter": [
           {
            "marker": {
             "colorbar": {
              "outlinewidth": 0,
              "ticks": ""
             }
            },
            "type": "scatter"
           }
          ],
          "scatter3d": [
           {
            "line": {
             "colorbar": {
              "outlinewidth": 0,
              "ticks": ""
             }
            },
            "marker": {
             "colorbar": {
              "outlinewidth": 0,
              "ticks": ""
             }
            },
            "type": "scatter3d"
           }
          ],
          "scattercarpet": [
           {
            "marker": {
             "colorbar": {
              "outlinewidth": 0,
              "ticks": ""
             }
            },
            "type": "scattercarpet"
           }
          ],
          "scattergeo": [
           {
            "marker": {
             "colorbar": {
              "outlinewidth": 0,
              "ticks": ""
             }
            },
            "type": "scattergeo"
           }
          ],
          "scattergl": [
           {
            "marker": {
             "colorbar": {
              "outlinewidth": 0,
              "ticks": ""
             }
            },
            "type": "scattergl"
           }
          ],
          "scattermapbox": [
           {
            "marker": {
             "colorbar": {
              "outlinewidth": 0,
              "ticks": ""
             }
            },
            "type": "scattermapbox"
           }
          ],
          "scatterpolar": [
           {
            "marker": {
             "colorbar": {
              "outlinewidth": 0,
              "ticks": ""
             }
            },
            "type": "scatterpolar"
           }
          ],
          "scatterpolargl": [
           {
            "marker": {
             "colorbar": {
              "outlinewidth": 0,
              "ticks": ""
             }
            },
            "type": "scatterpolargl"
           }
          ],
          "scatterternary": [
           {
            "marker": {
             "colorbar": {
              "outlinewidth": 0,
              "ticks": ""
             }
            },
            "type": "scatterternary"
           }
          ],
          "surface": [
           {
            "colorbar": {
             "outlinewidth": 0,
             "ticks": ""
            },
            "colorscale": [
             [
              0.0,
              "#0d0887"
             ],
             [
              0.1111111111111111,
              "#46039f"
             ],
             [
              0.2222222222222222,
              "#7201a8"
             ],
             [
              0.3333333333333333,
              "#9c179e"
             ],
             [
              0.4444444444444444,
              "#bd3786"
             ],
             [
              0.5555555555555556,
              "#d8576b"
             ],
             [
              0.6666666666666666,
              "#ed7953"
             ],
             [
              0.7777777777777778,
              "#fb9f3a"
             ],
             [
              0.8888888888888888,
              "#fdca26"
             ],
             [
              1.0,
              "#f0f921"
             ]
            ],
            "type": "surface"
           }
          ],
          "table": [
           {
            "cells": {
             "fill": {
              "color": "#EBF0F8"
             },
             "line": {
              "color": "white"
             }
            },
            "header": {
             "fill": {
              "color": "#C8D4E3"
             },
             "line": {
              "color": "white"
             }
            },
            "type": "table"
           }
          ]
         },
         "layout": {
          "annotationdefaults": {
           "arrowcolor": "#2a3f5f",
           "arrowhead": 0,
           "arrowwidth": 1
          },
          "coloraxis": {
           "colorbar": {
            "outlinewidth": 0,
            "ticks": ""
           }
          },
          "colorscale": {
           "diverging": [
            [
             0,
             "#8e0152"
            ],
            [
             0.1,
             "#c51b7d"
            ],
            [
             0.2,
             "#de77ae"
            ],
            [
             0.3,
             "#f1b6da"
            ],
            [
             0.4,
             "#fde0ef"
            ],
            [
             0.5,
             "#f7f7f7"
            ],
            [
             0.6,
             "#e6f5d0"
            ],
            [
             0.7,
             "#b8e186"
            ],
            [
             0.8,
             "#7fbc41"
            ],
            [
             0.9,
             "#4d9221"
            ],
            [
             1,
             "#276419"
            ]
           ],
           "sequential": [
            [
             0.0,
             "#0d0887"
            ],
            [
             0.1111111111111111,
             "#46039f"
            ],
            [
             0.2222222222222222,
             "#7201a8"
            ],
            [
             0.3333333333333333,
             "#9c179e"
            ],
            [
             0.4444444444444444,
             "#bd3786"
            ],
            [
             0.5555555555555556,
             "#d8576b"
            ],
            [
             0.6666666666666666,
             "#ed7953"
            ],
            [
             0.7777777777777778,
             "#fb9f3a"
            ],
            [
             0.8888888888888888,
             "#fdca26"
            ],
            [
             1.0,
             "#f0f921"
            ]
           ],
           "sequentialminus": [
            [
             0.0,
             "#0d0887"
            ],
            [
             0.1111111111111111,
             "#46039f"
            ],
            [
             0.2222222222222222,
             "#7201a8"
            ],
            [
             0.3333333333333333,
             "#9c179e"
            ],
            [
             0.4444444444444444,
             "#bd3786"
            ],
            [
             0.5555555555555556,
             "#d8576b"
            ],
            [
             0.6666666666666666,
             "#ed7953"
            ],
            [
             0.7777777777777778,
             "#fb9f3a"
            ],
            [
             0.8888888888888888,
             "#fdca26"
            ],
            [
             1.0,
             "#f0f921"
            ]
           ]
          },
          "colorway": [
           "#636efa",
           "#EF553B",
           "#00cc96",
           "#ab63fa",
           "#FFA15A",
           "#19d3f3",
           "#FF6692",
           "#B6E880",
           "#FF97FF",
           "#FECB52"
          ],
          "font": {
           "color": "#2a3f5f"
          },
          "geo": {
           "bgcolor": "white",
           "lakecolor": "white",
           "landcolor": "#E5ECF6",
           "showlakes": true,
           "showland": true,
           "subunitcolor": "white"
          },
          "hoverlabel": {
           "align": "left"
          },
          "hovermode": "closest",
          "mapbox": {
           "style": "light"
          },
          "paper_bgcolor": "white",
          "plot_bgcolor": "#E5ECF6",
          "polar": {
           "angularaxis": {
            "gridcolor": "white",
            "linecolor": "white",
            "ticks": ""
           },
           "bgcolor": "#E5ECF6",
           "radialaxis": {
            "gridcolor": "white",
            "linecolor": "white",
            "ticks": ""
           }
          },
          "scene": {
           "xaxis": {
            "backgroundcolor": "#E5ECF6",
            "gridcolor": "white",
            "gridwidth": 2,
            "linecolor": "white",
            "showbackground": true,
            "ticks": "",
            "zerolinecolor": "white"
           },
           "yaxis": {
            "backgroundcolor": "#E5ECF6",
            "gridcolor": "white",
            "gridwidth": 2,
            "linecolor": "white",
            "showbackground": true,
            "ticks": "",
            "zerolinecolor": "white"
           },
           "zaxis": {
            "backgroundcolor": "#E5ECF6",
            "gridcolor": "white",
            "gridwidth": 2,
            "linecolor": "white",
            "showbackground": true,
            "ticks": "",
            "zerolinecolor": "white"
           }
          },
          "shapedefaults": {
           "line": {
            "color": "#2a3f5f"
           }
          },
          "ternary": {
           "aaxis": {
            "gridcolor": "white",
            "linecolor": "white",
            "ticks": ""
           },
           "baxis": {
            "gridcolor": "white",
            "linecolor": "white",
            "ticks": ""
           },
           "bgcolor": "#E5ECF6",
           "caxis": {
            "gridcolor": "white",
            "linecolor": "white",
            "ticks": ""
           }
          },
          "title": {
           "x": 0.05
          },
          "xaxis": {
           "automargin": true,
           "gridcolor": "white",
           "linecolor": "white",
           "ticks": "",
           "title": {
            "standoff": 15
           },
           "zerolinecolor": "white",
           "zerolinewidth": 2
          },
          "yaxis": {
           "automargin": true,
           "gridcolor": "white",
           "linecolor": "white",
           "ticks": "",
           "title": {
            "standoff": 15
           },
           "zerolinecolor": "white",
           "zerolinewidth": 2
          }
         }
        },
        "title": {
         "font": {
          "color": "#4D5663"
         },
         "text": "Veneto by provinces"
        },
        "updatemenus": [
         {
          "buttons": [
           {
            "args": [
             {
              "yaxis.type": "linear"
             }
            ],
            "label": "Linear",
            "method": "relayout"
           },
           {
            "args": [
             {
              "yaxis.type": "log"
             }
            ],
            "label": "Log",
            "method": "relayout"
           }
          ],
          "direction": "down",
          "pad": {
           "r": 10,
           "t": 10
          },
          "showactive": true,
          "x": 0.1,
          "xanchor": "left",
          "y": 1.1,
          "yanchor": "top"
         }
        ],
        "xaxis": {
         "gridcolor": "#E1E5ED",
         "showgrid": true,
         "tickfont": {
          "color": "#4D5663"
         },
         "title": {
          "font": {
           "color": "#4D5663"
          },
          "text": ""
         },
         "zerolinecolor": "#E1E5ED"
        },
        "yaxis": {
         "gridcolor": "#E1E5ED",
         "showgrid": true,
         "tickfont": {
          "color": "#4D5663"
         },
         "title": {
          "font": {
           "color": "#4D5663"
          },
          "text": "cases"
         },
         "zerolinecolor": "#E1E5ED"
        }
       }
      },
      "text/html": "<div>\n        \n        \n            <div id=\"b774d4d7-77ec-43d4-b00a-8fe522e2bb03\" class=\"plotly-graph-div\" style=\"height:525px; width:100%;\"></div>\n            <script type=\"text/javascript\">\n                require([\"plotly\"], function(Plotly) {\n                    window.PLOTLYENV=window.PLOTLYENV || {};\n                    \n                if (document.getElementById(\"b774d4d7-77ec-43d4-b00a-8fe522e2bb03\")) {\n                    Plotly.newPlot(\n                        'b774d4d7-77ec-43d4-b00a-8fe522e2bb03',\n                        [{\"line\": {\"color\": \"rgba(255, 153, 51, 1.0)\", \"dash\": \"solid\", \"shape\": \"linear\", \"width\": 1.3}, \"marker\": {\"size\": 4, \"symbol\": \"circle\"}, \"mode\": \"lines+markers\", \"name\": \"Belluno\", \"text\": \"\", \"type\": \"scatter\", \"x\": [\"24/02/20\", \"25/02/20\", \"26/02/20\", \"27/02/20\", \"28/02/20\", \"29/02/20\", \"01/03/20\", \"02/03/20\", \"03/03/20\", \"04/03/20\", \"05/03/20\", \"06/03/20\", \"07/03/20\", \"08/03/20\", \"09/03/20\", \"10/03/20\", \"11/03/20\", \"12/03/20\", \"13/03/20\", \"14/03/20\", \"15/03/20\", \"16/03/20\", \"17/03/20\", \"18/03/20\", \"19/03/20\", \"20/03/20\", \"21/03/20\", \"22/03/20\", \"23/03/20\", \"24/03/20\", \"25/03/20\"], \"y\": [0, 0, 0, 0, 0, 0, 0, 3, 5, 7, 7, 7, 11, 23, 29, 29, 30, 48, 59, 78, 82, 101, 109, 140, 150, 195, 212, 226, 254, 273, 298]}, {\"line\": {\"color\": \"rgba(55, 128, 191, 1.0)\", \"dash\": \"solid\", \"shape\": \"linear\", \"width\": 1.3}, \"marker\": {\"size\": 4, \"symbol\": \"circle\"}, \"mode\": \"lines+markers\", \"name\": \"Padova\", \"text\": \"\", \"type\": \"scatter\", \"x\": [\"24/02/20\", \"25/02/20\", \"26/02/20\", \"27/02/20\", \"28/02/20\", \"29/02/20\", \"01/03/20\", \"02/03/20\", \"03/03/20\", \"04/03/20\", \"05/03/20\", \"06/03/20\", \"07/03/20\", \"08/03/20\", \"09/03/20\", \"10/03/20\", \"11/03/20\", \"12/03/20\", \"13/03/20\", \"14/03/20\", \"15/03/20\", \"16/03/20\", \"17/03/20\", \"18/03/20\", \"19/03/20\", \"20/03/20\", \"21/03/20\", \"22/03/20\", \"23/03/20\", \"24/03/20\", \"25/03/20\"], \"y\": [0, 30, 40, 59, 68, 81, 105, 135, 144, 162, 175, 198, 216, 255, 273, 296, 373, 439, 523, 611, 658, 715, 781, 882, 924, 1026, 1155, 1277, 1371, 1464, 1636]}, {\"line\": {\"color\": \"rgba(50, 171, 96, 1.0)\", \"dash\": \"solid\", \"shape\": \"linear\", \"width\": 1.3}, \"marker\": {\"size\": 4, \"symbol\": \"circle\"}, \"mode\": \"lines+markers\", \"name\": \"Rovigo\", \"text\": \"\", \"type\": \"scatter\", \"x\": [\"24/02/20\", \"25/02/20\", \"26/02/20\", \"27/02/20\", \"28/02/20\", \"29/02/20\", \"01/03/20\", \"02/03/20\", \"03/03/20\", \"04/03/20\", \"05/03/20\", \"06/03/20\", \"07/03/20\", \"08/03/20\", \"09/03/20\", \"10/03/20\", \"11/03/20\", \"12/03/20\", \"13/03/20\", \"14/03/20\", \"15/03/20\", \"16/03/20\", \"17/03/20\", \"18/03/20\", \"19/03/20\", \"20/03/20\", \"21/03/20\", \"22/03/20\", \"23/03/20\", \"24/03/20\", \"25/03/20\"], \"y\": [0, 0, 0, 0, 0, 0, 0, 0, 1, 4, 5, 5, 5, 5, 7, 10, 14, 13, 16, 27, 27, 27, 28, 33, 52, 67, 68, 76, 80, 82, 87]}, {\"line\": {\"color\": \"rgba(128, 0, 128, 1.0)\", \"dash\": \"solid\", \"shape\": \"linear\", \"width\": 1.3}, \"marker\": {\"size\": 4, \"symbol\": \"circle\"}, \"mode\": \"lines+markers\", \"name\": \"Treviso\", \"text\": \"\", \"type\": \"scatter\", \"x\": [\"24/02/20\", \"25/02/20\", \"26/02/20\", \"27/02/20\", \"28/02/20\", \"29/02/20\", \"01/03/20\", \"02/03/20\", \"03/03/20\", \"04/03/20\", \"05/03/20\", \"06/03/20\", \"07/03/20\", \"08/03/20\", \"09/03/20\", \"10/03/20\", \"11/03/20\", \"12/03/20\", \"13/03/20\", \"14/03/20\", \"15/03/20\", \"16/03/20\", \"17/03/20\", \"18/03/20\", \"19/03/20\", \"20/03/20\", \"21/03/20\", \"22/03/20\", \"23/03/20\", \"24/03/20\", \"25/03/20\"], \"y\": [0, 1, 2, 22, 23, 35, 43, 72, 82, 86, 89, 103, 110, 126, 136, 158, 185, 279, 327, 376, 413, 452, 502, 591, 637, 719, 806, 935, 999, 1091, 1177]}, {\"line\": {\"color\": \"rgba(219, 64, 82, 1.0)\", \"dash\": \"solid\", \"shape\": \"linear\", \"width\": 1.3}, \"marker\": {\"size\": 4, \"symbol\": \"circle\"}, \"mode\": \"lines+markers\", \"name\": \"Venezia\", \"text\": \"\", \"type\": \"scatter\", \"x\": [\"24/02/20\", \"25/02/20\", \"26/02/20\", \"27/02/20\", \"28/02/20\", \"29/02/20\", \"01/03/20\", \"02/03/20\", \"03/03/20\", \"04/03/20\", \"05/03/20\", \"06/03/20\", \"07/03/20\", \"08/03/20\", \"09/03/20\", \"10/03/20\", \"11/03/20\", \"12/03/20\", \"13/03/20\", \"14/03/20\", \"15/03/20\", \"16/03/20\", \"17/03/20\", \"18/03/20\", \"19/03/20\", \"20/03/20\", \"21/03/20\", \"22/03/20\", \"23/03/20\", \"24/03/20\", \"25/03/20\"], \"y\": [0, 7, 8, 14, 15, 19, 24, 48, 48, 59, 73, 85, 100, 126, 130, 152, 179, 205, 248, 282, 328, 356, 378, 426, 475, 574, 666, 732, 799, 837, 874]}, {\"line\": {\"color\": \"rgba(0, 128, 128, 1.0)\", \"dash\": \"solid\", \"shape\": \"linear\", \"width\": 1.3}, \"marker\": {\"size\": 4, \"symbol\": \"circle\"}, \"mode\": \"lines+markers\", \"name\": \"Verona\", \"text\": \"\", \"type\": \"scatter\", \"x\": [\"24/02/20\", \"25/02/20\", \"26/02/20\", \"27/02/20\", \"28/02/20\", \"29/02/20\", \"01/03/20\", \"02/03/20\", \"03/03/20\", \"04/03/20\", \"05/03/20\", \"06/03/20\", \"07/03/20\", \"08/03/20\", \"09/03/20\", \"10/03/20\", \"11/03/20\", \"12/03/20\", \"13/03/20\", \"14/03/20\", \"15/03/20\", \"16/03/20\", \"17/03/20\", \"18/03/20\", \"19/03/20\", \"20/03/20\", \"21/03/20\", \"22/03/20\", \"23/03/20\", \"24/03/20\", \"25/03/20\"], \"y\": [0, 0, 0, 0, 0, 0, 2, 8, 17, 21, 25, 42, 52, 63, 73, 96, 110, 150, 210, 275, 335, 425, 481, 626, 686, 784, 954, 1046, 1099, 1228, 1304]}, {\"line\": {\"color\": \"rgba(255, 255, 51, 1.0)\", \"dash\": \"solid\", \"shape\": \"linear\", \"width\": 1.3}, \"marker\": {\"size\": 4, \"symbol\": \"circle\"}, \"mode\": \"lines+markers\", \"name\": \"Vicenza\", \"text\": \"\", \"type\": \"scatter\", \"x\": [\"24/02/20\", \"25/02/20\", \"26/02/20\", \"27/02/20\", \"28/02/20\", \"29/02/20\", \"01/03/20\", \"02/03/20\", \"03/03/20\", \"04/03/20\", \"05/03/20\", \"06/03/20\", \"07/03/20\", \"08/03/20\", \"09/03/20\", \"10/03/20\", \"11/03/20\", \"12/03/20\", \"13/03/20\", \"14/03/20\", \"15/03/20\", \"16/03/20\", \"17/03/20\", \"18/03/20\", \"19/03/20\", \"20/03/20\", \"21/03/20\", \"22/03/20\", \"23/03/20\", \"24/03/20\", \"25/03/20\"], \"y\": [0, 0, 0, 3, 3, 3, 3, 3, 5, 10, 19, 24, 37, 50, 53, 73, 92, 122, 141, 164, 235, 287, 325, 393, 424, 518, 572, 631, 691, 744, 824]}],\n                        {\"legend\": {\"bgcolor\": \"#FFFFFF\", \"font\": {\"color\": \"#4D5663\"}}, \"paper_bgcolor\": \"#FFFFFF\", \"plot_bgcolor\": \"#FFFFFF\", \"template\": {\"data\": {\"bar\": [{\"error_x\": {\"color\": \"#2a3f5f\"}, \"error_y\": {\"color\": \"#2a3f5f\"}, \"marker\": {\"line\": {\"color\": \"#E5ECF6\", \"width\": 0.5}}, \"type\": \"bar\"}], \"barpolar\": [{\"marker\": {\"line\": {\"color\": \"#E5ECF6\", \"width\": 0.5}}, \"type\": \"barpolar\"}], \"carpet\": [{\"aaxis\": {\"endlinecolor\": \"#2a3f5f\", \"gridcolor\": \"white\", \"linecolor\": \"white\", \"minorgridcolor\": \"white\", \"startlinecolor\": \"#2a3f5f\"}, \"baxis\": {\"endlinecolor\": \"#2a3f5f\", \"gridcolor\": \"white\", \"linecolor\": \"white\", \"minorgridcolor\": \"white\", \"startlinecolor\": \"#2a3f5f\"}, \"type\": \"carpet\"}], \"choropleth\": [{\"colorbar\": {\"outlinewidth\": 0, \"ticks\": \"\"}, \"type\": \"choropleth\"}], \"contour\": [{\"colorbar\": {\"outlinewidth\": 0, \"ticks\": \"\"}, \"colorscale\": [[0.0, \"#0d0887\"], [0.1111111111111111, \"#46039f\"], [0.2222222222222222, \"#7201a8\"], [0.3333333333333333, \"#9c179e\"], [0.4444444444444444, \"#bd3786\"], [0.5555555555555556, \"#d8576b\"], [0.6666666666666666, \"#ed7953\"], [0.7777777777777778, \"#fb9f3a\"], [0.8888888888888888, \"#fdca26\"], [1.0, \"#f0f921\"]], \"type\": \"contour\"}], \"contourcarpet\": [{\"colorbar\": {\"outlinewidth\": 0, \"ticks\": \"\"}, \"type\": \"contourcarpet\"}], \"heatmap\": [{\"colorbar\": {\"outlinewidth\": 0, \"ticks\": \"\"}, \"colorscale\": [[0.0, \"#0d0887\"], [0.1111111111111111, \"#46039f\"], [0.2222222222222222, \"#7201a8\"], [0.3333333333333333, \"#9c179e\"], [0.4444444444444444, \"#bd3786\"], [0.5555555555555556, \"#d8576b\"], [0.6666666666666666, \"#ed7953\"], [0.7777777777777778, \"#fb9f3a\"], [0.8888888888888888, \"#fdca26\"], [1.0, \"#f0f921\"]], \"type\": \"heatmap\"}], \"heatmapgl\": [{\"colorbar\": {\"outlinewidth\": 0, \"ticks\": \"\"}, \"colorscale\": [[0.0, \"#0d0887\"], [0.1111111111111111, \"#46039f\"], [0.2222222222222222, \"#7201a8\"], [0.3333333333333333, \"#9c179e\"], [0.4444444444444444, \"#bd3786\"], [0.5555555555555556, \"#d8576b\"], [0.6666666666666666, \"#ed7953\"], [0.7777777777777778, \"#fb9f3a\"], [0.8888888888888888, \"#fdca26\"], [1.0, \"#f0f921\"]], \"type\": \"heatmapgl\"}], \"histogram\": [{\"marker\": {\"colorbar\": {\"outlinewidth\": 0, \"ticks\": \"\"}}, \"type\": \"histogram\"}], \"histogram2d\": [{\"colorbar\": {\"outlinewidth\": 0, \"ticks\": \"\"}, \"colorscale\": [[0.0, \"#0d0887\"], [0.1111111111111111, \"#46039f\"], [0.2222222222222222, \"#7201a8\"], [0.3333333333333333, \"#9c179e\"], [0.4444444444444444, \"#bd3786\"], [0.5555555555555556, \"#d8576b\"], [0.6666666666666666, \"#ed7953\"], [0.7777777777777778, \"#fb9f3a\"], [0.8888888888888888, \"#fdca26\"], [1.0, \"#f0f921\"]], \"type\": \"histogram2d\"}], \"histogram2dcontour\": [{\"colorbar\": {\"outlinewidth\": 0, \"ticks\": \"\"}, \"colorscale\": [[0.0, \"#0d0887\"], [0.1111111111111111, \"#46039f\"], [0.2222222222222222, \"#7201a8\"], [0.3333333333333333, \"#9c179e\"], [0.4444444444444444, \"#bd3786\"], [0.5555555555555556, \"#d8576b\"], [0.6666666666666666, \"#ed7953\"], [0.7777777777777778, \"#fb9f3a\"], [0.8888888888888888, \"#fdca26\"], [1.0, \"#f0f921\"]], \"type\": \"histogram2dcontour\"}], \"mesh3d\": [{\"colorbar\": {\"outlinewidth\": 0, \"ticks\": \"\"}, \"type\": \"mesh3d\"}], \"parcoords\": [{\"line\": {\"colorbar\": {\"outlinewidth\": 0, \"ticks\": \"\"}}, \"type\": \"parcoords\"}], \"pie\": [{\"automargin\": true, \"type\": \"pie\"}], \"scatter\": [{\"marker\": {\"colorbar\": {\"outlinewidth\": 0, \"ticks\": \"\"}}, \"type\": \"scatter\"}], \"scatter3d\": [{\"line\": {\"colorbar\": {\"outlinewidth\": 0, \"ticks\": \"\"}}, \"marker\": {\"colorbar\": {\"outlinewidth\": 0, \"ticks\": \"\"}}, \"type\": \"scatter3d\"}], \"scattercarpet\": [{\"marker\": {\"colorbar\": {\"outlinewidth\": 0, \"ticks\": \"\"}}, \"type\": \"scattercarpet\"}], \"scattergeo\": [{\"marker\": {\"colorbar\": {\"outlinewidth\": 0, \"ticks\": \"\"}}, \"type\": \"scattergeo\"}], \"scattergl\": [{\"marker\": {\"colorbar\": {\"outlinewidth\": 0, \"ticks\": \"\"}}, \"type\": \"scattergl\"}], \"scattermapbox\": [{\"marker\": {\"colorbar\": {\"outlinewidth\": 0, \"ticks\": \"\"}}, \"type\": \"scattermapbox\"}], \"scatterpolar\": [{\"marker\": {\"colorbar\": {\"outlinewidth\": 0, \"ticks\": \"\"}}, \"type\": \"scatterpolar\"}], \"scatterpolargl\": [{\"marker\": {\"colorbar\": {\"outlinewidth\": 0, \"ticks\": \"\"}}, \"type\": \"scatterpolargl\"}], \"scatterternary\": [{\"marker\": {\"colorbar\": {\"outlinewidth\": 0, \"ticks\": \"\"}}, \"type\": \"scatterternary\"}], \"surface\": [{\"colorbar\": {\"outlinewidth\": 0, \"ticks\": \"\"}, \"colorscale\": [[0.0, \"#0d0887\"], [0.1111111111111111, \"#46039f\"], [0.2222222222222222, \"#7201a8\"], [0.3333333333333333, \"#9c179e\"], [0.4444444444444444, \"#bd3786\"], [0.5555555555555556, \"#d8576b\"], [0.6666666666666666, \"#ed7953\"], [0.7777777777777778, \"#fb9f3a\"], [0.8888888888888888, \"#fdca26\"], [1.0, \"#f0f921\"]], \"type\": \"surface\"}], \"table\": [{\"cells\": {\"fill\": {\"color\": \"#EBF0F8\"}, \"line\": {\"color\": \"white\"}}, \"header\": {\"fill\": {\"color\": \"#C8D4E3\"}, \"line\": {\"color\": \"white\"}}, \"type\": \"table\"}]}, \"layout\": {\"annotationdefaults\": {\"arrowcolor\": \"#2a3f5f\", \"arrowhead\": 0, \"arrowwidth\": 1}, \"coloraxis\": {\"colorbar\": {\"outlinewidth\": 0, \"ticks\": \"\"}}, \"colorscale\": {\"diverging\": [[0, \"#8e0152\"], [0.1, \"#c51b7d\"], [0.2, \"#de77ae\"], [0.3, \"#f1b6da\"], [0.4, \"#fde0ef\"], [0.5, \"#f7f7f7\"], [0.6, \"#e6f5d0\"], [0.7, \"#b8e186\"], [0.8, \"#7fbc41\"], [0.9, \"#4d9221\"], [1, \"#276419\"]], \"sequential\": [[0.0, \"#0d0887\"], [0.1111111111111111, \"#46039f\"], [0.2222222222222222, \"#7201a8\"], [0.3333333333333333, \"#9c179e\"], [0.4444444444444444, \"#bd3786\"], [0.5555555555555556, \"#d8576b\"], [0.6666666666666666, \"#ed7953\"], [0.7777777777777778, \"#fb9f3a\"], [0.8888888888888888, \"#fdca26\"], [1.0, \"#f0f921\"]], \"sequentialminus\": [[0.0, \"#0d0887\"], [0.1111111111111111, \"#46039f\"], [0.2222222222222222, \"#7201a8\"], [0.3333333333333333, \"#9c179e\"], [0.4444444444444444, \"#bd3786\"], [0.5555555555555556, \"#d8576b\"], [0.6666666666666666, \"#ed7953\"], [0.7777777777777778, \"#fb9f3a\"], [0.8888888888888888, \"#fdca26\"], [1.0, \"#f0f921\"]]}, \"colorway\": [\"#636efa\", \"#EF553B\", \"#00cc96\", \"#ab63fa\", \"#FFA15A\", \"#19d3f3\", \"#FF6692\", \"#B6E880\", \"#FF97FF\", \"#FECB52\"], \"font\": {\"color\": \"#2a3f5f\"}, \"geo\": {\"bgcolor\": \"white\", \"lakecolor\": \"white\", \"landcolor\": \"#E5ECF6\", \"showlakes\": true, \"showland\": true, \"subunitcolor\": \"white\"}, \"hoverlabel\": {\"align\": \"left\"}, \"hovermode\": \"closest\", \"mapbox\": {\"style\": \"light\"}, \"paper_bgcolor\": \"white\", \"plot_bgcolor\": \"#E5ECF6\", \"polar\": {\"angularaxis\": {\"gridcolor\": \"white\", \"linecolor\": \"white\", \"ticks\": \"\"}, \"bgcolor\": \"#E5ECF6\", \"radialaxis\": {\"gridcolor\": \"white\", \"linecolor\": \"white\", \"ticks\": \"\"}}, \"scene\": {\"xaxis\": {\"backgroundcolor\": \"#E5ECF6\", \"gridcolor\": \"white\", \"gridwidth\": 2, \"linecolor\": \"white\", \"showbackground\": true, \"ticks\": \"\", \"zerolinecolor\": \"white\"}, \"yaxis\": {\"backgroundcolor\": \"#E5ECF6\", \"gridcolor\": \"white\", \"gridwidth\": 2, \"linecolor\": \"white\", \"showbackground\": true, \"ticks\": \"\", \"zerolinecolor\": \"white\"}, \"zaxis\": {\"backgroundcolor\": \"#E5ECF6\", \"gridcolor\": \"white\", \"gridwidth\": 2, \"linecolor\": \"white\", \"showbackground\": true, \"ticks\": \"\", \"zerolinecolor\": \"white\"}}, \"shapedefaults\": {\"line\": {\"color\": \"#2a3f5f\"}}, \"ternary\": {\"aaxis\": {\"gridcolor\": \"white\", \"linecolor\": \"white\", \"ticks\": \"\"}, \"baxis\": {\"gridcolor\": \"white\", \"linecolor\": \"white\", \"ticks\": \"\"}, \"bgcolor\": \"#E5ECF6\", \"caxis\": {\"gridcolor\": \"white\", \"linecolor\": \"white\", \"ticks\": \"\"}}, \"title\": {\"x\": 0.05}, \"xaxis\": {\"automargin\": true, \"gridcolor\": \"white\", \"linecolor\": \"white\", \"ticks\": \"\", \"title\": {\"standoff\": 15}, \"zerolinecolor\": \"white\", \"zerolinewidth\": 2}, \"yaxis\": {\"automargin\": true, \"gridcolor\": \"white\", \"linecolor\": \"white\", \"ticks\": \"\", \"title\": {\"standoff\": 15}, \"zerolinecolor\": \"white\", \"zerolinewidth\": 2}}}, \"title\": {\"font\": {\"color\": \"#4D5663\"}, \"text\": \"Veneto by provinces\"}, \"updatemenus\": [{\"buttons\": [{\"args\": [{\"yaxis.type\": \"linear\"}], \"label\": \"Linear\", \"method\": \"relayout\"}, {\"args\": [{\"yaxis.type\": \"log\"}], \"label\": \"Log\", \"method\": \"relayout\"}], \"direction\": \"down\", \"pad\": {\"r\": 10, \"t\": 10}, \"showactive\": true, \"x\": 0.1, \"xanchor\": \"left\", \"y\": 1.1, \"yanchor\": \"top\"}], \"xaxis\": {\"gridcolor\": \"#E1E5ED\", \"showgrid\": true, \"tickfont\": {\"color\": \"#4D5663\"}, \"title\": {\"font\": {\"color\": \"#4D5663\"}, \"text\": \"\"}, \"zerolinecolor\": \"#E1E5ED\"}, \"yaxis\": {\"gridcolor\": \"#E1E5ED\", \"showgrid\": true, \"tickfont\": {\"color\": \"#4D5663\"}, \"title\": {\"font\": {\"color\": \"#4D5663\"}, \"text\": \"cases\"}, \"zerolinecolor\": \"#E1E5ED\"}},\n                        {\"responsive\": true}\n                    ).then(function(){\n                            \nvar gd = document.getElementById('b774d4d7-77ec-43d4-b00a-8fe522e2bb03');\nvar x = new MutationObserver(function (mutations, observer) {{\n        var display = window.getComputedStyle(gd).display;\n        if (!display || display === 'none') {{\n            console.log([gd, 'removed!']);\n            Plotly.purge(gd);\n            observer.disconnect();\n        }}\n}});\n\n// Listen for the removal of the full notebook cells\nvar notebookContainer = gd.closest('#notebook-container');\nif (notebookContainer) {{\n    x.observe(notebookContainer, {childList: true});\n}}\n\n// Listen for the clearing of the current output cell\nvar outputEl = gd.closest('.output');\nif (outputEl) {{\n    x.observe(outputEl, {childList: true});\n}}\n\n                        })\n                };\n                });\n            </script>\n        </div>"
     },
     "metadata": {},
     "output_type": "display_data"
    }
   ],
   "source": [
    "provinces_of_region = io.italy_get_list_of_provinces_for_region('Veneto')\n",
    "provinces = io.italy_load_provinces(provinces_of_region)\n",
    "\n",
    "intensive = io.italy_provinces_filter_by_category(provinces, category)\n",
    "\n",
    "mpl.iplot_comparative_plot(intensive, title='Veneto by provinces')"
   ],
   "metadata": {
    "collapsed": false,
    "pycharm": {
     "name": "#%%\n",
     "is_executing": false
    }
   }
  }
 ],
 "metadata": {
  "kernelspec": {
   "display_name": "Python 3",
   "language": "python",
   "name": "python3"
  },
  "language_info": {
   "codemirror_mode": {
    "name": "ipython",
    "version": 2
   },
   "file_extension": ".py",
   "mimetype": "text/x-python",
   "name": "python",
   "nbconvert_exporter": "python",
   "pygments_lexer": "ipython2",
   "version": "2.7.6"
  },
  "pycharm": {
   "stem_cell": {
    "cell_type": "raw",
    "source": [],
    "metadata": {
     "collapsed": false
    }
   }
  }
 },
 "nbformat": 4,
 "nbformat_minor": 0
}